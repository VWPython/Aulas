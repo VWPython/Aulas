{
 "cells": [
  {
   "cell_type": "markdown",
   "metadata": {},
   "source": [
    "## Pré Processamento: Ruidos em Imagens\n",
    "***\n",
    "\n",
    "Ruidos são pequenas variações aleatórias, sofridas pelo sinal, que dificultam a leitura do valor real\n",
    "\n",
    "Vários fatores podem gerar ruídos\n",
    "\n",
    "***\n",
    "### Ruído de captura\n",
    "***\n",
    "\n",
    "Poeira na câmera, iluminação inadequada, ruído elétrico no sensor de captura e vibrações na câmera podem causar ruidos de captura.\n",
    "\n",
    "![img](https://user-images.githubusercontent.com/14116020/54874048-549bc680-4dc2-11e9-91c4-d98f2b5db5dd.png)\n",
    "\n",
    "***\n",
    "### Ruído Sal e Pimenta\n",
    "***\n",
    "\n",
    "Adição aleatória de pixels pretos e brancos, intenso ou fracos.\n",
    "\n",
    "![img](https://user-images.githubusercontent.com/14116020/54874064-8e6ccd00-4dc2-11e9-84c5-49962ad3ed00.png)\n",
    "\n",
    "***\n",
    "### Ruído Gaussiano\n",
    "***\n",
    "\n",
    "Sinal amostrado não corresponde à representação da imagem analógica. Normalmente provocadas por alta iluminação ou grandes temperaturas.\n",
    "\n",
    "![img](https://user-images.githubusercontent.com/14116020/54874079-bf4d0200-4dc2-11e9-9bf9-aab524417394.png)\n",
    "\n",
    "***\n",
    "### Ruídos em Imagens Binárias\n",
    "***\n",
    "\n",
    "Pixels bracos. Informações irrelevantes sobre o plano de fundo.\n",
    "\n",
    "![img](https://user-images.githubusercontent.com/14116020/54874094-089d5180-4dc3-11e9-8ccb-783072ee243f.png)"
   ]
  }
 ],
 "metadata": {
  "kernelspec": {
   "display_name": "Python 3",
   "language": "python",
   "name": "python3"
  },
  "language_info": {
   "codemirror_mode": {
    "name": "ipython",
    "version": 3
   },
   "file_extension": ".py",
   "mimetype": "text/x-python",
   "name": "python",
   "nbconvert_exporter": "python",
   "pygments_lexer": "ipython3",
   "version": "3.5.2"
  }
 },
 "nbformat": 4,
 "nbformat_minor": 2
}
