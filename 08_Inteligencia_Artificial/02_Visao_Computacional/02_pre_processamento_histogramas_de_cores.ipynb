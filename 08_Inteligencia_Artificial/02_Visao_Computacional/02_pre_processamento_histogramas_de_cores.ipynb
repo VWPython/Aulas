{
 "cells": [
  {
   "cell_type": "markdown",
   "metadata": {},
   "source": [
    "## Pré-Processamento: Histograma de cores\n",
    "***\n",
    "\n",
    "Histograma: Qualidade da imagem, intensidade luminosa e contraste\n",
    "\n",
    "![img](https://user-images.githubusercontent.com/14116020/54872901-8acd4c00-4daa-11e9-836d-94b25205d5f2.png)\n",
    "\n",
    "O histograma, também conhecido como distribuição de frequências, é a representação gráfica em colunas ou em barras (retângulos) de um conjunto de dados previamente tabulado e dividido em classes uniformes ou não uniformes.\n",
    "\n",
    "Um histograma pode dizer se a imagem foi exposta corretamente, se o tipo de luz era dura ou suave e quais ajustes funcionam melhor em sua câmera. \n",
    "\n",
    "Cada pixel de uma imagem tem uma cor que foi produzida por uma combinação de cores primárias (vermelho, verde e azul, ou RGB). Cada uma dessas cores pode ter um brilho que varia de 0 a 255 em uma imagem digital com profundidade de bits de 8-bits. Um histograma RGB é produzido quando o computador varre a imagem em cada um desses valores de brilho RGB e conta quantos pixels há em cada nível de 0 a 255.\n",
    "\n",
    "Ou seja, ele fornece a informação sobre quantos pixels na imagem possuem cada valor possível de RGB (que, no caso das imagens de 8 bits, variam de 0 a 255) ou, de forma equivalente, qual a proporção da imagem que corresponde a cada valor de RBG. \n",
    "\n",
    "* Eixo X: 0 a 256 pixels\n",
    "* Eixo Y: Número de pixels\n",
    "\n",
    "***\n",
    "### Imagem em tons de cinza\n",
    "***\n",
    "\n",
    "* Pixels apenas variando entre 0 e 256.\n",
    "\n",
    "\n",
    "* Uso da biblioteca matplotlib\n",
    "\n",
    "\n",
    "* O histograma de uma imagem em tons de cinza é a distribuição da frequência dos níveis de cinza em relação ao número de amostras.\n",
    "\n",
    "\n",
    "* Função **hist**.\n",
    "\n",
    "```py\n",
    "hist(img, num1, intervalo):\n",
    "    img = Imagem com a qual queremos trabalhar\n",
    "    num1 = Número de elementos distintos que podem ser representados\n",
    "    intervalo = Intervalo entre os elementos\n",
    "    \n",
    "    return Gráfico representado o histograma da imagem\n",
    "```\n",
    "\n",
    "***\n",
    "### Imagem colorida\n",
    "***\n",
    "\n",
    "* Imagem colorida possui histograma para cada canal de cor, por exemplo, azul, verde, vermelho e etc...\n",
    "\n",
    "\n",
    "* É usada a mesma função hist.\n",
    "\n",
    "\n",
    "* O histograma de uma imagem colorida por fornecer qual é a cor dominante"
   ]
  },
  {
   "cell_type": "markdown",
   "metadata": {},
   "source": [
    "***\n",
    "### Código\n",
    "***"
   ]
  },
  {
   "cell_type": "code",
   "execution_count": 1,
   "metadata": {},
   "outputs": [],
   "source": [
    "import cv2 as cv\n",
    "import numpy as np\n",
    "from matplotlib import pyplot as plt"
   ]
  },
  {
   "cell_type": "code",
   "execution_count": 2,
   "metadata": {},
   "outputs": [],
   "source": [
    "# Carrega a imagem cinza\n",
    "img = cv.imread(\"./Imagens/cinza.jpg\")"
   ]
  },
  {
   "cell_type": "code",
   "execution_count": 3,
   "metadata": {},
   "outputs": [],
   "source": [
    "# Abrir a imagem com opencv\n",
    "cv.imshow(\"Imagem em tons de cinza\", img)\n",
    "cv.waitKey(0) # Espera a tecla de algum botão\n",
    "cv.destroyAllWindows() # Remove o objeto"
   ]
  },
  {
   "cell_type": "code",
   "execution_count": 4,
   "metadata": {},
   "outputs": [
    {
     "data": {
      "image/png": "[encoded data removed]",
      "text/plain": [
       "<Figure size 432x288 with 1 Axes>"
      ]
     },
     "metadata": {
      "needs_background": "light"
     },
     "output_type": "display_data"
    }
   ],
   "source": [
    "# Mostra o histograma em tons de cinza\n",
    "# A imagem varia entre 100 e 150 pixels tendo um apice de 14000 pixels em torno do pixel 130\n",
    "# img.ravel() transforma a imagem em um vetor e organiza todo o elemento em uma estrutura\n",
    "plt.hist(img.ravel(), 256, [0, 256])\n",
    "plt.show()"
   ]
  },
  {
   "cell_type": "markdown",
   "metadata": {},
   "source": [
    "***"
   ]
  },
  {
   "cell_type": "code",
   "execution_count": 5,
   "metadata": {},
   "outputs": [],
   "source": [
    "# Carrega a imagem colorida\n",
    "img = cv.imread(\"./Imagens/colorida.jpg\")"
   ]
  },
  {
   "cell_type": "code",
   "execution_count": 6,
   "metadata": {},
   "outputs": [],
   "source": [
    "# Pegar os valores RGB da imagem\n",
    "azul, verde, vermelho = cv.split(img)"
   ]
  },
  {
   "cell_type": "code",
   "execution_count": 7,
   "metadata": {},
   "outputs": [
    {
     "data": {
      "text/plain": [
       "<Figure size 432x288 with 0 Axes>"
      ]
     },
     "execution_count": 7,
     "metadata": {},
     "output_type": "execute_result"
    },
    {
     "data": {
      "image/png": "[encoded data removed]",
      "text/plain": [
       "<Figure size 432x288 with 1 Axes>"
      ]
     },
     "metadata": {
      "needs_background": "light"
     },
     "output_type": "display_data"
    },
    {
     "data": {
      "text/plain": [
       "<Figure size 432x288 with 0 Axes>"
      ]
     },
     "metadata": {},
     "output_type": "display_data"
    }
   ],
   "source": [
    "plt.hist(azul.ravel(), 256, [0, 256])\n",
    "plt.figure()"
   ]
  },
  {
   "cell_type": "code",
   "execution_count": 8,
   "metadata": {},
   "outputs": [
    {
     "data": {
      "text/plain": [
       "<Figure size 432x288 with 0 Axes>"
      ]
     },
     "execution_count": 8,
     "metadata": {},
     "output_type": "execute_result"
    },
    {
     "data": {
      "image/png": "[encoded data removed]",
      "text/plain": [
       "<Figure size 432x288 with 1 Axes>"
      ]
     },
     "metadata": {
      "needs_background": "light"
     },
     "output_type": "display_data"
    },
    {
     "data": {
      "text/plain": [
       "<Figure size 432x288 with 0 Axes>"
      ]
     },
     "metadata": {},
     "output_type": "display_data"
    }
   ],
   "source": [
    "plt.hist(verde.ravel(), 256, [0, 256])\n",
    "plt.figure()"
   ]
  },
  {
   "cell_type": "code",
   "execution_count": 9,
   "metadata": {},
   "outputs": [
    {
     "data": {
      "text/plain": [
       "<Figure size 432x288 with 0 Axes>"
      ]
     },
     "execution_count": 9,
     "metadata": {},
     "output_type": "execute_result"
    },
    {
     "data": {
      "image/png": "[encoded data removed]",
      "text/plain": [
       "<Figure size 432x288 with 1 Axes>"
      ]
     },
     "metadata": {
      "needs_background": "light"
     },
     "output_type": "display_data"
    },
    {
     "data": {
      "text/plain": [
       "<Figure size 432x288 with 0 Axes>"
      ]
     },
     "metadata": {},
     "output_type": "display_data"
    }
   ],
   "source": [
    "plt.hist(vermelho.ravel(), 256, [0, 256])\n",
    "plt.figure()"
   ]
  }
 ],
 "metadata": {
  "kernelspec": {
   "display_name": "Python 3",
   "language": "python",
   "name": "python3"
  },
  "language_info": {
   "codemirror_mode": {
    "name": "ipython",
    "version": 3
   },
   "file_extension": ".py",
   "mimetype": "text/x-python",
   "name": "python",
   "nbconvert_exporter": "python",
   "pygments_lexer": "ipython3",
   "version": "3.5.2"
  }
 },
 "nbformat": 4,
 "nbformat_minor": 2
}
