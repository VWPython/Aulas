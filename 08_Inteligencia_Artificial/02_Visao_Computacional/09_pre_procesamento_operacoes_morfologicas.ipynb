{
 "cells": [
  {
   "cell_type": "markdown",
   "metadata": {},
   "source": [
    "## Pré Processamento: Operações Morfológicas\n",
    "***\n",
    "\n",
    "Operação morfológica é conhecida como uma transformação na imagem, a qual é realizada utilizando uma segunda imagem menor - **elemento estruturante** que é uma imagem menor com a estrutura geometrica conhecida.\n",
    "\n",
    "O elemento estruturante fornecida pelo usuário é utilizado para ressalvar ou remover aspectos especificos dos objetos da imagem maior.\n",
    "\n",
    "A matriz que representa o elemento estruturante percorrerar toda a imagem a ser tratada.\n",
    "\n",
    "A biblioteca do openCV possui três elementos estruturantes básicos: retangular, \n",
    "\n",
    "#### retangular\n",
    "\n",
    "```py\n",
    ">>> cv2.getEstructuringElement(cv2.MORPH_RECT, (5, 5))\n",
    "array([[1, 1, 1, 1, 1],\n",
    "       [1, 1, 1, 1, 1],\n",
    "       [1, 1, 1, 1, 1],\n",
    "       [1, 1, 1, 1, 1],\n",
    "       [1, 1, 1, 1, 1]], dtype=uint8)\n",
    "```\n",
    "\n",
    "#### Elíptica\n",
    "\n",
    "```py\n",
    ">>> cv2.getEstructuringElement(cv2.MORPH_ELLIPSE, (5, 5))\n",
    "array([[0, 0, 1, 0, 0],\n",
    "       [1, 1, 1, 1, 1],\n",
    "       [1, 1, 1, 1, 1],\n",
    "       [1, 1, 1, 1, 1],\n",
    "       [0, 0, 1, 0, 0]], dtype=uint8)\n",
    "```\n",
    "\n",
    "#### Cruz\n",
    "\n",
    "```py\n",
    ">>> cv2.getEstructuringElement(cv2.MORPH_CROSS, (5, 5))\n",
    "array([[0, 0, 1, 0, 0],\n",
    "       [0, 0, 1, 0, 0],\n",
    "       [1, 1, 1, 1, 1],\n",
    "       [0, 0, 1, 0, 0],\n",
    "       [0, 0, 1, 0, 0]], dtype=uint8)\n",
    "```\n",
    "\n",
    "Um excelente exemplo de aplicação das operações morfológicas é na leitura de placas de veículos por imagem.\n",
    "\n",
    "![img](https://user-images.githubusercontent.com/14116020/54874850-17d7cb80-4dd2-11e9-85c3-5096ca62a5d6.png)\n",
    "\n",
    "A primeira figura é da foto da placa do veículo, já a segunda é utilizando um filtro binário e a terceira é utilizando operações morfológicas\n",
    "\n",
    "***\n",
    "### Erosão\n",
    "***\n",
    "\n",
    "![img](https://user-images.githubusercontent.com/14116020/54874914-22469500-4dd3-11e9-9ec4-b4b5a00f9cb9.png)\n",
    "\n",
    "O algoritmo da operação de erosão consiste em sobrepor cada pixel da imagem com o centro do elemento estruturante. Se todos os pontos do elemento estruturante coincidirem com os pontos do elemento de interesse, esse ponto torna-se parte do elemento de saída.\n",
    "\n",
    "É responsável pela corrosão das arestas do objeto de interesse.\n",
    "\n",
    "![img](https://user-images.githubusercontent.com/14116020/54874874-a2202f80-4dd2-11e9-9e98-7b50091bda09.png)\n",
    "\n",
    "O elemento estruturante passará pela imagem original resultando o processo de erosão representado pela matriz a direita.\n",
    "\n",
    "A função abaixo Sobrepoem cada pixel da imagem de entrada com o centro do elemento estruturante.\n",
    "\n",
    "```py\n",
    "def erode(img, elem_estr, interc):\n",
    "    img = Imagem com a qual queremos trabalhar\n",
    "    elem_estr = Elemento estruturante\n",
    "    interc = Interação desejada\n",
    "    \n",
    "    return Matriz referente a imagem sofrida com a erosão\n",
    "```\n",
    "\n"
   ]
  },
  {
   "cell_type": "code",
   "execution_count": 1,
   "metadata": {},
   "outputs": [],
   "source": [
    "import cv2 as cv\n",
    "import numpy as np\n",
    "from matplotlib import pyplot as plt"
   ]
  },
  {
   "cell_type": "code",
   "execution_count": 2,
   "metadata": {},
   "outputs": [],
   "source": [
    "img = cv.imread(\"./Imagens/placa.png\")"
   ]
  },
  {
   "cell_type": "code",
   "execution_count": 3,
   "metadata": {},
   "outputs": [],
   "source": [
    "element_estruturante = cv.getStructuringElement(cv.MORPH_RECT, (7, 7))"
   ]
  },
  {
   "cell_type": "code",
   "execution_count": 4,
   "metadata": {},
   "outputs": [],
   "source": [
    "new_img = cv.erode(img, element_estruturante, iterations=2)"
   ]
  },
  {
   "cell_type": "code",
   "execution_count": 5,
   "metadata": {},
   "outputs": [
    {
     "data": {
      "image/png": "[encoded data removed]",
      "text/plain": [
       "<Figure size 432x288 with 1 Axes>"
      ]
     },
     "metadata": {
      "needs_background": "light"
     },
     "output_type": "display_data"
    }
   ],
   "source": [
    "plt.imshow(img)\n",
    "plt.title(\"Imagem Original\")\n",
    "plt.show()"
   ]
  },
  {
   "cell_type": "code",
   "execution_count": 6,
   "metadata": {},
   "outputs": [
    {
     "data": {
      "image/png": "[encoded data removed]",
      "text/plain": [
       "<Figure size 432x288 with 1 Axes>"
      ]
     },
     "metadata": {
      "needs_background": "light"
     },
     "output_type": "display_data"
    }
   ],
   "source": [
    "plt.imshow(new_img)\n",
    "plt.title(\"Imagem Processada com Erosão\")\n",
    "plt.show()"
   ]
  },
  {
   "cell_type": "markdown",
   "metadata": {},
   "source": [
    "***\n",
    "### Dilatação\n",
    "***\n",
    "\n",
    "![img](https://user-images.githubusercontent.com/14116020/54874966-422a8880-4dd4-11e9-83a1-bc420fb69d5b.png)\n",
    "\n",
    "É o oposto da operação de Erosão\n",
    "\n",
    "O objeto ficará maior do que era inicialmente\n",
    "\n",
    "![img](https://user-images.githubusercontent.com/14116020/54874951-f546b200-4dd3-11e9-8a8a-29b40c4e8ed5.png)\n",
    "\n",
    "A função abaixo Sobrepoem cada pixel da imagem de entrada com o centro do elemento estruturante.\n",
    "\n",
    "```py\n",
    "def dilate(img, elem_estr, interc):\n",
    "    img = Imagem com a qual queremos trabalhar\n",
    "    elem_estr = Elemento estruturante\n",
    "    interc = Interação desejada\n",
    "    \n",
    "    return Matriz referente a imagem sofrida com a dilatação\n",
    "```"
   ]
  },
  {
   "cell_type": "code",
   "execution_count": 7,
   "metadata": {},
   "outputs": [],
   "source": [
    "new_img = cv.dilate(img, element_estruturante, iterations=2)"
   ]
  },
  {
   "cell_type": "code",
   "execution_count": 8,
   "metadata": {},
   "outputs": [
    {
     "data": {
      "image/png": "[encoded data removed]",
      "text/plain": [
       "<Figure size 432x288 with 1 Axes>"
      ]
     },
     "metadata": {
      "needs_background": "light"
     },
     "output_type": "display_data"
    }
   ],
   "source": [
    "plt.imshow(img)\n",
    "plt.title(\"Imagem Original\")\n",
    "plt.show()"
   ]
  },
  {
   "cell_type": "code",
   "execution_count": 9,
   "metadata": {},
   "outputs": [
    {
     "data": {
      "image/png": "[encoded data removed]",
      "text/plain": [
       "<Figure size 432x288 with 1 Axes>"
      ]
     },
     "metadata": {
      "needs_background": "light"
     },
     "output_type": "display_data"
    }
   ],
   "source": [
    "plt.imshow(new_img)\n",
    "plt.title(\"Imagem Processada com Dilatação\")\n",
    "plt.show()"
   ]
  }
 ],
 "metadata": {
  "kernelspec": {
   "display_name": "Python 3",
   "language": "python",
   "name": "python3"
  },
  "language_info": {
   "codemirror_mode": {
    "name": "ipython",
    "version": 3
   },
   "file_extension": ".py",
   "mimetype": "text/x-python",
   "name": "python",
   "nbconvert_exporter": "python",
   "pygments_lexer": "ipython3",
   "version": "3.5.2"
  }
 },
 "nbformat": 4,
 "nbformat_minor": 2
}
