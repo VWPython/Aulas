{
 "cells": [
  {
   "cell_type": "markdown",
   "metadata": {},
   "source": [
    "## Deep Learning\n",
    "***\n",
    "\n",
    "![img](https://user-images.githubusercontent.com/14116020/56448637-10c7ae80-62e7-11e9-97b4-29c1d1b10751.png)\n",
    "\n",
    "Com deep learning você pode resolver vários tipos de problemas, como: traduções de textos em diferentes idiomas, transformar voz em texto, detectar objetos e pessoas, reconhecer pessoas, fazer diagnostico de cancer de pele, carro autonomo. otimização do uso de energia, identificação de doenças em plantas, inteligencia artifical para jogos, criação de filmes e músicas automaticas e etc...\n",
    "\n",
    "A evolução das redes neurais em deep learning ao longo do tempo:\n",
    "\n",
    "![img1](https://user-images.githubusercontent.com/14116020/56448638-10c7ae80-62e7-11e9-9747-f6599d175205.png)\n",
    "\n",
    "As redes neurais veio a tona quando o poder computacional (GPUs) e os dados (Big Data) aumentaram significativamente.\n",
    "\n",
    "***\n",
    "### Instalação e Ferramentas\n",
    "***\n",
    "\n",
    "* **Python**: Python é uma linguagem de programação muito usada para deep learning.\n",
    "\n",
    "* **TensorFLow**: Biblioteca de Deep Learning em python para utilização do keras.\n",
    "\n",
    "```\n",
    "pip3 install tensorflow\n",
    "```\n",
    "\n",
    "* **Keras**: Biblioteca de Deep Learning em python utilizando o tensoFlow por debaixo dos panos.\n",
    "\n",
    "```\n",
    "pip3 install keras\n",
    "```"
   ]
  }
 ],
 "metadata": {
  "kernelspec": {
   "display_name": "Python 3",
   "language": "python",
   "name": "python3"
  },
  "language_info": {
   "codemirror_mode": {
    "name": "ipython",
    "version": 3
   },
   "file_extension": ".py",
   "mimetype": "text/x-python",
   "name": "python",
   "nbconvert_exporter": "python",
   "pygments_lexer": "ipython3",
   "version": "3.5.2"
  }
 },
 "nbformat": 4,
 "nbformat_minor": 2
}
