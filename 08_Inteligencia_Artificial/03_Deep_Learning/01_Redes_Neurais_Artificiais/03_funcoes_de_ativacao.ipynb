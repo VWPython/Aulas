{
 "cells": [
  {
   "cell_type": "markdown",
   "metadata": {},
   "source": [
    "## Função de Ativação\n",
    "***\n",
    "### Step (Função degrau)\n",
    "***\n",
    "    \n",
    "![img](https://user-images.githubusercontent.com/14116020/56452739-a07f5400-630b-11e9-8e60-440a7c92102b.png)\n",
    "\n",
    "Essa função retorna somente valores 0 ou 1 e é utilizada somente para problemas linearmente separadas.\n",
    "\n",
    "Também pode ser chamada de transfer function"
   ]
  },
  {
   "cell_type": "markdown",
   "metadata": {},
   "source": [
    "***"
   ]
  },
  {
   "cell_type": "code",
   "execution_count": 1,
   "metadata": {},
   "outputs": [],
   "source": [
    "import numpy as np"
   ]
  },
  {
   "cell_type": "code",
   "execution_count": 2,
   "metadata": {},
   "outputs": [],
   "source": [
    "def stepFunction(soma):\n",
    "    if (soma >= 1):\n",
    "        return 1\n",
    "\n",
    "    return 0"
   ]
  },
  {
   "cell_type": "code",
   "execution_count": 3,
   "metadata": {},
   "outputs": [
    {
     "name": "stdout",
     "output_type": "stream",
     "text": [
      "1\n"
     ]
    }
   ],
   "source": [
    "print(stepFunction(30))"
   ]
  },
  {
   "cell_type": "code",
   "execution_count": 4,
   "metadata": {},
   "outputs": [
    {
     "name": "stdout",
     "output_type": "stream",
     "text": [
      "0\n"
     ]
    }
   ],
   "source": [
    "print(stepFunction(-1))"
   ]
  },
  {
   "cell_type": "code",
   "execution_count": 5,
   "metadata": {},
   "outputs": [
    {
     "name": "stdout",
     "output_type": "stream",
     "text": [
      "0\n"
     ]
    }
   ],
   "source": [
    "print(stepFunction(0.358))"
   ]
  },
  {
   "cell_type": "markdown",
   "metadata": {},
   "source": [
    "***\n",
    "### Sigmoid (Função Sigmoide)\n",
    "***\n",
    "\n",
    "![img](https://user-images.githubusercontent.com/14116020/56452788-7b3f1580-630c-11e9-9295-11320e85a989.png)\n",
    "\n",
    "Retorna valores entre 0 e 1, muito utilizada para retorna probabilidades.\n",
    "\n",
    "Muito utilizado para classificação de problemas binários, em que temos 2 classes de dados, por exemplo, gatos e cachorros, vai comprar ou não vai comprar, existe ou não faixa de pedestre. Valores próximos de 0 quer dizer que não existe e valores perto de 1 quer dizer que existe.\n",
    "\n",
    "Usados para problemas não linearmente separaveis.\n",
    "\n",
    "***"
   ]
  },
  {
   "cell_type": "code",
   "execution_count": 6,
   "metadata": {},
   "outputs": [],
   "source": [
    "def sigmoidFunction(soma):\n",
    "    return 1 / (1 + np.exp(-soma))"
   ]
  },
  {
   "cell_type": "code",
   "execution_count": 7,
   "metadata": {},
   "outputs": [
    {
     "name": "stdout",
     "output_type": "stream",
     "text": [
      "0.9999999999999065\n"
     ]
    }
   ],
   "source": [
    "print(sigmoidFunction(30))"
   ]
  },
  {
   "cell_type": "code",
   "execution_count": 8,
   "metadata": {},
   "outputs": [
    {
     "name": "stdout",
     "output_type": "stream",
     "text": [
      "0.2689414213699951\n"
     ]
    }
   ],
   "source": [
    "print(sigmoidFunction(-1))"
   ]
  },
  {
   "cell_type": "code",
   "execution_count": 9,
   "metadata": {},
   "outputs": [
    {
     "name": "stdout",
     "output_type": "stream",
     "text": [
      "0.5885562043858291\n"
     ]
    }
   ],
   "source": [
    "print(sigmoidFunction(0.358))"
   ]
  },
  {
   "cell_type": "markdown",
   "metadata": {},
   "source": [
    "***\n",
    "### Hyperbolic Tangent (Função Tangente Hiperbólica)\n",
    "***\n",
    "\n",
    "![img](https://user-images.githubusercontent.com/14116020/56452840-7038b500-630d-11e9-9019-9dc1705d0429.png)\n",
    "\n",
    "Retorna valores entre -1 e 1.\n",
    "\n",
    "Pode ser usada para classificação com apenas 2 classes.\n",
    "\n",
    "Usados para problemas não linearmente separaveis\n",
    "\n",
    "Muito usada quando se tem entradas negativas e precisamos trata-las.\n",
    "\n",
    "***"
   ]
  },
  {
   "cell_type": "code",
   "execution_count": 10,
   "metadata": {},
   "outputs": [],
   "source": [
    "def tahnFunction(soma):\n",
    "    return (np.exp(soma) - np.exp(-soma))/(np.exp(soma) + np.exp(-soma))"
   ]
  },
  {
   "cell_type": "code",
   "execution_count": 11,
   "metadata": {},
   "outputs": [
    {
     "name": "stdout",
     "output_type": "stream",
     "text": [
      "1.0\n"
     ]
    }
   ],
   "source": [
    "print(tahnFunction(30))"
   ]
  },
  {
   "cell_type": "code",
   "execution_count": 12,
   "metadata": {},
   "outputs": [
    {
     "name": "stdout",
     "output_type": "stream",
     "text": [
      "-0.7615941559557649\n"
     ]
    }
   ],
   "source": [
    "print(tahnFunction(-1))"
   ]
  },
  {
   "cell_type": "code",
   "execution_count": 13,
   "metadata": {},
   "outputs": [
    {
     "name": "stdout",
     "output_type": "stream",
     "text": [
      "0.3434511648102781\n"
     ]
    }
   ],
   "source": [
    "print(tahnFunction(0.358))"
   ]
  },
  {
   "cell_type": "markdown",
   "metadata": {},
   "source": [
    "***\n",
    "### RELU (Rectified Linear Units)\n",
    "***\n",
    "\n",
    "![img](https://user-images.githubusercontent.com/14116020/56452884-4207a500-630e-11e9-8ef9-4be8183c3890.png)\n",
    "\n",
    "Essa função vai retornar ou valores zero, ou valores maiores que zero e não existe um valor máximo.\n",
    "\n",
    "Muito usado em redes neurais convolucionais para visão computacional e redes neurais profundas com grande números de camadas.\n",
    "\n",
    "Ela recebe um valor, se esse valor recebido for maior ou igual a zero então ele vai retornar o próprio valor, caso contrario (valor negativo) ele retorna zero. Ou seja, só retorna valor positivos.\n",
    "\n",
    "***"
   ]
  },
  {
   "cell_type": "code",
   "execution_count": 14,
   "metadata": {},
   "outputs": [],
   "source": [
    "def reluFunction(soma):\n",
    "    if soma >= 0:\n",
    "        return soma\n",
    "    \n",
    "    return 0"
   ]
  },
  {
   "cell_type": "code",
   "execution_count": 15,
   "metadata": {},
   "outputs": [
    {
     "name": "stdout",
     "output_type": "stream",
     "text": [
      "30\n"
     ]
    }
   ],
   "source": [
    "print(reluFunction(30))"
   ]
  },
  {
   "cell_type": "code",
   "execution_count": 16,
   "metadata": {},
   "outputs": [
    {
     "name": "stdout",
     "output_type": "stream",
     "text": [
      "0\n"
     ]
    }
   ],
   "source": [
    "print(reluFunction(-1))"
   ]
  },
  {
   "cell_type": "code",
   "execution_count": 17,
   "metadata": {},
   "outputs": [
    {
     "name": "stdout",
     "output_type": "stream",
     "text": [
      "0.358\n"
     ]
    }
   ],
   "source": [
    "print(reluFunction(0.358))"
   ]
  },
  {
   "cell_type": "markdown",
   "metadata": {},
   "source": [
    "***\n",
    "### Linear\n",
    "***\n",
    "\n",
    "![img](https://user-images.githubusercontent.com/14116020/56452909-01f4f200-630f-11e9-9f6c-926ede4da028.png)\n",
    "\n",
    "Ele sempre retorna o valor passado para ela.\n",
    "\n",
    "Muito utilizada em problemas de regressão.\n",
    "\n",
    "***"
   ]
  },
  {
   "cell_type": "code",
   "execution_count": 18,
   "metadata": {},
   "outputs": [],
   "source": [
    "def linearFunction(soma):\n",
    "    return soma"
   ]
  },
  {
   "cell_type": "code",
   "execution_count": 19,
   "metadata": {},
   "outputs": [
    {
     "name": "stdout",
     "output_type": "stream",
     "text": [
      "30\n"
     ]
    }
   ],
   "source": [
    "print(linearFunction(30))"
   ]
  },
  {
   "cell_type": "code",
   "execution_count": 20,
   "metadata": {},
   "outputs": [
    {
     "name": "stdout",
     "output_type": "stream",
     "text": [
      "-1\n"
     ]
    }
   ],
   "source": [
    "print(linearFunction(-1))"
   ]
  },
  {
   "cell_type": "code",
   "execution_count": 21,
   "metadata": {},
   "outputs": [
    {
     "name": "stdout",
     "output_type": "stream",
     "text": [
      "0.358\n"
     ]
    }
   ],
   "source": [
    "print(linearFunction(0.358))"
   ]
  },
  {
   "cell_type": "markdown",
   "metadata": {},
   "source": [
    "***\n",
    "### Softmax\n",
    "***\n",
    "\n",
    "![img](https://user-images.githubusercontent.com/14116020/56452923-74fe6880-630f-11e9-8f56-9e514c320bb6.png)\n",
    "\n",
    "É uma das funções mais importantes para as redes neurais, ela é utilizada para retornar probabilidades quando você tem problemas com mais de 2 classes.\n",
    "\n",
    "Por exemplo, o problema é definir qual a cor, podemos ter probabilidade de ser vermelhor, roxo, azul, verde e etc... o que tiver a maior probabilidade será a classificação.\n",
    "\n",
    "***"
   ]
  },
  {
   "cell_type": "code",
   "execution_count": 22,
   "metadata": {},
   "outputs": [],
   "source": [
    "def softmaxFunction(vetor):\n",
    "    exp = np.exp(vetor)\n",
    "    \n",
    "    return exp / exp.sum()"
   ]
  },
  {
   "cell_type": "code",
   "execution_count": 23,
   "metadata": {},
   "outputs": [
    {
     "name": "stdout",
     "output_type": "stream",
     "text": [
      "[0.93065625 0.04633465 0.0230091 ]\n"
     ]
    }
   ],
   "source": [
    "# Valores retornados na camada de saída e preciso especificar probabilidades para cada um deles\n",
    "# Quanto maior o valor, maior a probabilidade\n",
    "print(softmaxFunction([5.0, 2.0, 1.3]))"
   ]
  }
 ],
 "metadata": {
  "kernelspec": {
   "display_name": "Python 3",
   "language": "python",
   "name": "python3"
  },
  "language_info": {
   "codemirror_mode": {
    "name": "ipython",
    "version": 3
   },
   "file_extension": ".py",
   "mimetype": "text/x-python",
   "name": "python",
   "nbconvert_exporter": "python",
   "pygments_lexer": "ipython3",
   "version": "3.7.6"
  }
 },
 "nbformat": 4,
 "nbformat_minor": 2
}
