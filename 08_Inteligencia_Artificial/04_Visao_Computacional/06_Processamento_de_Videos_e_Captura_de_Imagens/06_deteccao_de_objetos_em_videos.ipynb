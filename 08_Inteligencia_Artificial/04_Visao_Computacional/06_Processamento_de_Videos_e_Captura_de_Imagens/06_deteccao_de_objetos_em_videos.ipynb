{
 "cells": [
  {
   "cell_type": "markdown",
   "metadata": {},
   "source": [
    "## Detecção de objetos em vídeos com deep learning\n",
    "***\n",
    "\n",
    "A única diferença que vai existir é que ao inves de passar uma imagem, iremos passar um conjunto de imagens\n",
    "que são os frames de um vídeo usando deep learning.\n",
    "\n",
    "Instale o imutils: ```pip install imutils```"
   ]
  },
  {
   "cell_type": "markdown",
   "metadata": {},
   "source": [
    "***\n",
    "### Exemplo\n",
    "***"
   ]
  },
  {
   "cell_type": "code",
   "execution_count": 1,
   "metadata": {},
   "outputs": [],
   "source": [
    "import cv2 as cv\n",
    "import numpy as np\n",
    "import imutils\n",
    "from imutils.video import VideoStream, FPS\n",
    "from matplotlib import pyplot as plt"
   ]
  },
  {
   "cell_type": "code",
   "execution_count": 2,
   "metadata": {},
   "outputs": [],
   "source": [
    "# Inicializar a lista de labels do mobilenet SSD\n",
    "CLASSES = [\n",
    "    \"background\", \"aeroplane\", \"bicycle\", \"bird\", \"boat\",\n",
    "    \"bottle\", \"bus\", \"car\", \"cat\", \"chair\", \"cow\", \"diningtable\",\n",
    "    \"dog\", \"horse\", \"motorbike\", \"person\", \"pottedplant\", \"sheep\",\n",
    "    \"sofa\", \"train\", \"tvmonitor\"\n",
    "]"
   ]
  },
  {
   "cell_type": "code",
   "execution_count": 3,
   "metadata": {},
   "outputs": [],
   "source": [
    "# Cria as cores para cada label ao inserir no imagem\n",
    "COLORS = np.random.uniform(0, 255, size=(len(CLASSES), 3))"
   ]
  },
  {
   "cell_type": "code",
   "execution_count": 4,
   "metadata": {},
   "outputs": [],
   "source": [
    "# Carrega o modelo\n",
    "modelo = cv.dnn.readNetFromCaffe(\n",
    "    \"./model/MobileNetSSD.prototxt\",\n",
    "    \"./model/MobileNetSSD.caffemodel\"\n",
    ")"
   ]
  },
  {
   "cell_type": "code",
   "execution_count": 5,
   "metadata": {},
   "outputs": [],
   "source": [
    "# Inicializa o vídeo stream, inicia o sensor da câmera e inicializa o FPS counter\n",
    "# Para usar a webcam\n",
    "video = VideoStream(src=0).start()\n",
    "# Para usar uma câmera externa\n",
    "# video = VideoStream(src=1).start()\n",
    "# Para usar um vídeo\n",
    "# video = VideoStream(\"video.mp4\").start()"
   ]
  },
  {
   "cell_type": "code",
   "execution_count": 6,
   "metadata": {},
   "outputs": [],
   "source": [
    "# Inicia a captura e contabiliza os FPS (frames por segundos)\n",
    "fps = FPS().start()"
   ]
  },
  {
   "cell_type": "code",
   "execution_count": 7,
   "metadata": {},
   "outputs": [
    {
     "name": "stdout",
     "output_type": "stream",
     "text": [
      "Label person: 98.81%\n",
      "Label person: 96.52%\n",
      "Label person: 96.52%\n",
      "Label person: 90.63%\n",
      "Label person: 92.26%\n",
      "Label person: 93.28%\n",
      "Label person: 93.62%\n",
      "Label person: 90.78%\n",
      "Label person: 91.06%\n",
      "Label person: 94.51%\n",
      "Label person: 92.44%\n",
      "Label person: 92.99%\n",
      "Label person: 95.11%\n",
      "Label person: 95.11%\n",
      "Label person: 92.86%\n",
      "Label person: 92.33%\n",
      "Label person: 92.33%\n",
      "Label person: 93.12%\n",
      "Label person: 93.12%\n",
      "Label person: 94.57%\n",
      "Label person: 97.57%\n",
      "Label person: 97.57%\n",
      "Label person: 93.78%\n"
     ]
    }
   ],
   "source": [
    "# Loop sobre os frames do vídeo stream\n",
    "while True:\n",
    "    # Obtém o frame de vídeo stream e redimensiona para ter uma largura máxima de 900 pixels\n",
    "    frame = video.read()\n",
    "    frame = imutils.resize(frame, width=900)\n",
    "    \n",
    "    # Obtém as dimensões do frame e converte em um blob\n",
    "    (altura, largura) = frame.shape[:2]\n",
    "    blob = cv.dnn.blobFromImage(\n",
    "        cv.resize(frame, (300, 300)),\n",
    "        0.007843,\n",
    "        (300, 300),\n",
    "        127.5\n",
    "    )\n",
    "    \n",
    "    # Passa o blob através da rede e obtém as detecções e previsões\n",
    "    modelo.setInput(blob)\n",
    "    deteccoes = modelo.forward()\n",
    "    \n",
    "    # Loop pelas detecções\n",
    "    for i in np.arange(0, deteccoes.shape[2]):\n",
    "        # Extrai a probabilidade associada com as previsões\n",
    "        confianca = deteccoes[0, 0, i, 2]\n",
    "\n",
    "        # Filtra detecções fracas garantindo que a confiança seja maior do que a confiança mínima\n",
    "        confianca_minima = 0.9\n",
    "        if confianca > confianca_minima:\n",
    "            # Extrai o índice do rótulo de classe das detecções, então computa as coordenadas (x, y)\n",
    "            # da caixa delimitadora para o objeto\n",
    "            indice = int(deteccoes[0, 0, i, 1])\n",
    "            caixa = deteccoes[0, 0, i, 3:7] * np.array([largura, altura, largura, altura])\n",
    "            (startX, startY, endX, endY) = caixa.astype(\"int\")\n",
    "\n",
    "            # Desenha as previsões nos frames\n",
    "            label = \"{}: {:.2f}%\".format(CLASSES[indice], confianca * 100)\n",
    "            print(\"Label {}\".format(label))\n",
    "            cv.rectangle(frame, (startX, startY), (endX, endY), COLORS[indice], 2)\n",
    "\n",
    "            if startY - 15 > 15:\n",
    "                y = startY - 15\n",
    "            else:\n",
    "                y = startY + 15\n",
    "\n",
    "            cv.putText(frame, label, (startX, y), cv.FONT_HERSHEY_SIMPLEX, 0.5, COLORS[indice], 2)\n",
    "        \n",
    "    # Mostra a saída\n",
    "    cv.imshow(\"Vídeo Stream\", frame)\n",
    "    key = cv.waitKey(1) & 0xFF\n",
    "    \n",
    "    # Se pressionada a tecla 'q' encerra o loop\n",
    "    if key == ord('q'):\n",
    "        break\n",
    "        \n",
    "    # Atualiza o FPS counter\n",
    "    fps.update()"
   ]
  },
  {
   "cell_type": "code",
   "execution_count": 8,
   "metadata": {},
   "outputs": [
    {
     "name": "stdout",
     "output_type": "stream",
     "text": [
      "Tempo total de captura: 6.98\n",
      "FPS: 6.16\n"
     ]
    }
   ],
   "source": [
    "# Para o timer\n",
    "fps.stop()\n",
    "print(\"Tempo total de captura: {:.2f}\".format(fps.elapsed()))\n",
    "print(\"FPS: {:.2f}\".format(fps.fps()))"
   ]
  },
  {
   "cell_type": "code",
   "execution_count": 9,
   "metadata": {},
   "outputs": [],
   "source": [
    "# Limpa tudo\n",
    "cv.destroyAllWindows()\n",
    "video.stop()"
   ]
  }
 ],
 "metadata": {
  "kernelspec": {
   "display_name": "Python 3",
   "language": "python",
   "name": "python3"
  },
  "language_info": {
   "codemirror_mode": {
    "name": "ipython",
    "version": 3
   },
   "file_extension": ".py",
   "mimetype": "text/x-python",
   "name": "python",
   "nbconvert_exporter": "python",
   "pygments_lexer": "ipython3",
   "version": "3.5.2"
  }
 },
 "nbformat": 4,
 "nbformat_minor": 2
}
