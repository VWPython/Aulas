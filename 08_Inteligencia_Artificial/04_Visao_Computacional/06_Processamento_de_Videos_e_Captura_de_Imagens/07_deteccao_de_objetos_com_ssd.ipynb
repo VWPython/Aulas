{
 "cells": [
  {
   "cell_type": "markdown",
   "metadata": {},
   "source": [
    "## SSD - Single Shot MultiBox Detector\n",
    "***\n",
    "\n",
    "* SSD é o estado da arte em detecção de objetos, é o futuro da visão computacional\n",
    "\n",
    "\n",
    "* Compartilha as mesmas técnicas com YOLO (You Only Look at Once)\n",
    "\n",
    "\n",
    "* Excelente performance para detecção em tempo real\n",
    "\n",
    "\n",
    "* Um carro autônomo por exemplo, não pode esperar mais do que milissegundos para tomar uma decisão com base nos objetos detectados\n",
    "\n",
    "Em relação a velocidade (eixo X) por precisão (eixo Y) o SSD se destaca dos outros algoritmos de Deep Learning como CNN ou YOLO.\n",
    "\n",
    "![img](https://user-images.githubusercontent.com/14116020/56088272-44bc5300-5e53-11e9-9f23-f6099ed39a12.png)\n",
    "\n",
    "Em **localizações de objetos** queremos saber o que é um objeto e onde ele está, normalmente usamos bounding boxes (caixas delimitadoras), mas também podem ser usadas elipses (em torno de uma face por exemplo) ou keypoints (por exemplo, para mediar a distância de uma orelha a outra). Porém não funciona muito com multiplos objetos ou nenhum, ai entra a **detecção de objetos**.\n",
    "\n",
    "Normalmente a localização de objetos é feito usando **CNN (Redes Neurais Convulacionais)** como VGG, ResNet, etc... que por debaixo dos panos, ou seja, na camada de saída, ta sendo feito **regressão logística** para prever a classe e **regressão linear** para prever as coordenadas da caixa delimitadora.\n",
    "\n",
    "Para poder calcular a função de perda (**loss function**), ou seja, a previsão ou taxa de erro, que é o que será usado para treinar uma rede, vc calcula a taxa de erro, alimenta retroativamente a rede, altera o valor dos pesos de acordo com o gradiente da derivada e continua o treinamento, até encontrar uma valor de peso ideal.\n",
    "\n",
    "Para que isso ocorra eu tenho que calcular a taxa de erro de alguma forma, se eu tenho uma única classificação no final eu utilizo o **Binary Cross Entropy**, se eu posso prever mais de uma classe no final utiliza-se **Categorical Cross Entropy** e se eu for fazer a previsão de valores númericos eu posso utilizar a **MSE** ou **Erro ao quadrado médio**. Essas são as principais médidas utilizadas na loss function.\n",
    "\n",
    "A **detecção de objetos** é localizar mais de um ou nenhum objeto dentro da imagem. Uma das técnicas muito usadas na detecção de objetos é o **sliding windows** na qual pega um filtro de caracteristicas e vai passando pela imagem detectando se existe ou não essa características. Porém se a imagem for muito grande acaba por ficar custoso usar essa técnica.\n",
    "\n",
    "Pensando nisso, ou seja, na detecção de objetos em tempo real e com alta performace, os pesquisadores olharam para uma CNN regular e converteram em uma **All-convolution CNN** com as camadas densas sendo substituidas por camadas de convolução.\n",
    "\n",
    "![img](https://user-images.githubusercontent.com/14116020/56088390-168c4280-5e56-11e9-9d09-3d1f9cea77e7.png)\n",
    "\n",
    "A arquitetura do SSD é uma CNN modificada, para detectar se há ou não o objeto dentro de uma imagem.\n",
    "\n",
    "![img](https://user-images.githubusercontent.com/14116020/56088400-41769680-5e56-11e9-8874-d80fc87412d1.png)\n",
    "\n",
    "Basicamente o que nós temos é uma arquitetura CNN modificada para que ao inves de passar em uma janela várias e várias vezes por uma imagem, eu dou um **single shot**, ou seja, eu passo uma única imagem e várias camadas de convolução ficarão responsáveis por desenhar o multibox (as várias caixas delimitadoras dos objetos) e com isso fazer a previsão no final se existe ou não 0 ou mais objetos.\n",
    "\n",
    "Instale o tensorflow: ```pip install tensorflow```\n",
    "\n",
    "Não será feito um exemplo pelo excesso de biblioteca que precisa ser baixada para usa-lo."
   ]
  }
 ],
 "metadata": {
  "kernelspec": {
   "display_name": "Python 3",
   "language": "python",
   "name": "python3"
  },
  "language_info": {
   "codemirror_mode": {
    "name": "ipython",
    "version": 3
   },
   "file_extension": ".py",
   "mimetype": "text/x-python",
   "name": "python",
   "nbconvert_exporter": "python",
   "pygments_lexer": "ipython3",
   "version": "3.5.2"
  }
 },
 "nbformat": 4,
 "nbformat_minor": 2
}
