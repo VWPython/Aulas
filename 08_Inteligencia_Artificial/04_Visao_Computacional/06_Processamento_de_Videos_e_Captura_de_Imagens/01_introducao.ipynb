{
 "cells": [
  {
   "cell_type": "markdown",
   "metadata": {},
   "source": [
    "## Processamento de vídeos e Real-Time Object Detection\n",
    "***"
   ]
  },
  {
   "cell_type": "markdown",
   "metadata": {},
   "source": [
    "Um vídeo é um conjunto de imagem, chamadas frames, e uma imagem é um conjunto de pixels.\n",
    "\n",
    "Realizaremos leitura de vídeo para capturar o vídeo e a escrita para desenhar o resultado da captura.\n",
    "\n",
    "Existem 3 formas de realizar o trabalho com vídeo:\n",
    "\n",
    "* ID 0: Webcam acoplada ao seu PC\n",
    "* ID 1: Câmera via USB\n",
    "* Arquivo de vídeo (mp4, avi, ...)"
   ]
  },
  {
   "cell_type": "markdown",
   "metadata": {},
   "source": [
    "***\n",
    "### Leitura de vídeo para câmera ou webcam\n",
    "***"
   ]
  },
  {
   "cell_type": "code",
   "execution_count": null,
   "metadata": {},
   "outputs": [],
   "source": [
    "import cv2 as cv"
   ]
  },
  {
   "cell_type": "code",
   "execution_count": null,
   "metadata": {},
   "outputs": [],
   "source": [
    "camera = cv.VideoCapture(0)"
   ]
  },
  {
   "cell_type": "code",
   "execution_count": null,
   "metadata": {},
   "outputs": [],
   "source": [
    "while (camera.isOpened()):\n",
    "    ret, frame = camera.read()\n",
    "    gray_frame = cv.cvtColor(frame, cv.COLOR_BGR2GRAY) # converte para cinza\n",
    "    cv.imshow('frame', frame)\n",
    "    \n",
    "    if cv.waitKey(1) & 0xFF == ord('q'):\n",
    "        break\n",
    "        \n",
    "camera.release() # libera a câmera\n",
    "cv.destroyAllWindows() # destroi as janelas"
   ]
  },
  {
   "cell_type": "markdown",
   "metadata": {},
   "source": [
    "***\n",
    "### Escrita de vídeo para câmera ou webcam\n",
    "***"
   ]
  },
  {
   "cell_type": "code",
   "execution_count": null,
   "metadata": {},
   "outputs": [],
   "source": [
    "camera = cv.VideoCapture(0)"
   ]
  },
  {
   "cell_type": "code",
   "execution_count": null,
   "metadata": {},
   "outputs": [],
   "source": [
    "ret, frame = camera.read()"
   ]
  },
  {
   "cell_type": "code",
   "execution_count": null,
   "metadata": {},
   "outputs": [],
   "source": [
    "height, width = frame.shape[:2] # Tamanho do frame\n",
    "formato_de_compressao = cv.VideoWriter_fourcc(*'DIVX')"
   ]
  },
  {
   "cell_type": "code",
   "execution_count": null,
   "metadata": {},
   "outputs": [],
   "source": [
    "frames_per_second = 25.0\n",
    "video_write = cv.VideoWriter('saved_out.avi', formato_de_compressao, frames_per_second, (width, height))"
   ]
  },
  {
   "cell_type": "code",
   "execution_count": null,
   "metadata": {},
   "outputs": [],
   "source": [
    "while (camera.isOpened()):\n",
    "    ret, frame = camera.read()\n",
    "    video_write.write(frame) # grava cada um dos frames\n",
    "    cv.imshow('frame', frame)\n",
    "    \n",
    "    if cv.waitKey(1) & 0xFF == ord('q'):\n",
    "        break\n",
    "        \n",
    "camera.release() # libera a câmera\n",
    "video_write.release() # libera o video writer\n",
    "cv.destroyAllWindows() # destroi as janelas"
   ]
  },
  {
   "cell_type": "markdown",
   "metadata": {},
   "source": [
    "***\n",
    "### Leitura de arquivo de vídeo\n",
    "***"
   ]
  },
  {
   "cell_type": "code",
   "execution_count": null,
   "metadata": {},
   "outputs": [],
   "source": [
    "camera = cv.VideoCapture('saved_out.avi')"
   ]
  },
  {
   "cell_type": "code",
   "execution_count": null,
   "metadata": {},
   "outputs": [],
   "source": [
    "while (camera.isOpened()):\n",
    "    ret, frame = camera.read()\n",
    "    cv.imshow('frame', frame)\n",
    "    \n",
    "    if cv.waitKey(1) & 0xFF == ord('q'):\n",
    "        break\n",
    "        \n",
    "camera.release()\n",
    "cv.destroyAllWindows()"
   ]
  }
 ],
 "metadata": {
  "kernelspec": {
   "display_name": "Python 3",
   "language": "python",
   "name": "python3"
  },
  "language_info": {
   "codemirror_mode": {
    "name": "ipython",
    "version": 3
   },
   "file_extension": ".py",
   "mimetype": "text/x-python",
   "name": "python",
   "nbconvert_exporter": "python",
   "pygments_lexer": "ipython3",
   "version": "3.5.2"
  }
 },
 "nbformat": 4,
 "nbformat_minor": 2
}
