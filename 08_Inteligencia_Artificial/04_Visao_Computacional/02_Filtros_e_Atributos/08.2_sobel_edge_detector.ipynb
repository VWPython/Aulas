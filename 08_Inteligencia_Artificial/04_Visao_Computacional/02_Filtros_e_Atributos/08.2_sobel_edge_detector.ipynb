{
 "cells": [
  {
   "cell_type": "markdown",
   "metadata": {},
   "source": [
    "## Sobel Edge Detector\n",
    "***"
   ]
  },
  {
   "cell_type": "markdown",
   "metadata": {},
   "source": [
    "Agora  que  aprendemos  a  calcular  gradientes  manualmente,  vejamos  como  podemos aproximá-los usando kernels, o que nos dará um enorme impulso de velocidade. Assim como usamos os kernels para suavizar e desfocar uma imagem, também podemos usar os kernels para calcular nossos gradientes. Começaremos com o método Sobel, que realmente usa dois kernels: um para detectar mudanças horizontais na direção e outro para detectar mudanças verticais na direção.\n",
    "\n",
    "A  ideia  por  trás  do  detector  de  borda  Sobel  é  encontrar  os  pixels  com  uma  grande magnitude de valores de gradiente. Agora não estamos apenas interessados na mudança, mas também a magnitude da mudança (que também é o gradiente). A magnitude do gradiente é calculada encontrando a raiz quadrada da soma dos quadrados da imagem derivada na direção x e a derivada na direção y. A equação para o gradiente é a seguinte:\n",
    "\n",
    "![img](https://user-images.githubusercontent.com/14116020/64580622-53a12600-d35d-11e9-9c86-61da2856a743.png)\n",
    "\n",
    "Para  determinar  quão  grandes  valores  devem  ser  considerados,  estabelecemos  um limite. Então, depois de encontrar o gradiente, tomamos todos os valores de gradiente, que excedem esse limite específico.\n",
    "\n",
    "Em  geral,  a  magnitude  e  a  orientação  do  gradiente  fazem  excelentes  recursos  e descritores de imagem ao quantificar e representar de forma abstrata uma imagem. Mas para a detecção  de  bordas,  a  representação  de  gradiente  é  extremamente  sensível  ao  ruído  local. Precisamos  adicionar  mais  algumas  etapas  para  criar  um detector  de  borda  robusto  e estaremos cobrindo essas etapas detalhadamente quando estudarmos o Canny Edge Detector.\n",
    "\n",
    "***"
   ]
  },
  {
   "cell_type": "code",
   "execution_count": 1,
   "metadata": {},
   "outputs": [],
   "source": [
    "import cv2"
   ]
  },
  {
   "cell_type": "code",
   "execution_count": 2,
   "metadata": {},
   "outputs": [],
   "source": [
    "# Carregando a imagem e convertendo para escala de cinza\n",
    "image = cv2.imread(\"imagens/casa.jpg\")\n",
    "gray = cv2.cvtColor(image, cv2.COLOR_BGR2GRAY)\n",
    "cv2.imshow(\"Original\", gray)\n",
    "cv2.waitKey(0)\n",
    "cv2.destroyAllWindows()"
   ]
  },
  {
   "cell_type": "markdown",
   "metadata": {},
   "source": [
    "![img](https://user-images.githubusercontent.com/14116020/64580998-dc6c9180-d35e-11e9-8f45-78b4e18270e7.png)"
   ]
  },
  {
   "cell_type": "code",
   "execution_count": 3,
   "metadata": {},
   "outputs": [],
   "source": [
    "# Computando os gradientes nos eixos X e Y \n",
    "gX = cv2.Sobel(gray, ddepth=cv2.CV_64F, dx=1, dy=0)\n",
    "gY = cv2.Sobel(gray, ddepth=cv2.CV_64F, dx=0, dy=1)"
   ]
  },
  {
   "cell_type": "code",
   "execution_count": 4,
   "metadata": {},
   "outputs": [],
   "source": [
    "# As imagens gX e gY são agora do tipo de dados de ponto flutuante,\n",
    "# então precisamos convertê-las de volta para uma representação não-assinada de 8 bits\n",
    "# de inteiro para que outras funções OpenCV possam utilizá-las\n",
    "gX = cv2.convertScaleAbs(gX)\n",
    "gY = cv2.convertScaleAbs(gY)"
   ]
  },
  {
   "cell_type": "code",
   "execution_count": 5,
   "metadata": {},
   "outputs": [],
   "source": [
    "# Combina as representações sobel X e Y em uma única imagem\n",
    "sobelCombined = cv2.addWeighted(gX, 0.5, gY, 0.5, 0)"
   ]
  },
  {
   "cell_type": "code",
   "execution_count": 6,
   "metadata": {},
   "outputs": [],
   "source": [
    "cv2.imshow(\"Sobel X\", gX)\n",
    "cv2.waitKey(0)\n",
    "cv2.destroyAllWindows()"
   ]
  },
  {
   "cell_type": "markdown",
   "metadata": {},
   "source": [
    "![img](https://user-images.githubusercontent.com/14116020/64581082-30777600-d35f-11e9-8f2c-1a34a3a13d66.png)"
   ]
  },
  {
   "cell_type": "code",
   "execution_count": 7,
   "metadata": {},
   "outputs": [],
   "source": [
    "cv2.imshow(\"Sobel Y\", gY)\n",
    "cv2.waitKey(0)\n",
    "cv2.destroyAllWindows()"
   ]
  },
  {
   "cell_type": "markdown",
   "metadata": {},
   "source": [
    "![img](https://user-images.githubusercontent.com/14116020/64581109-48e79080-d35f-11e9-9827-2f5fbda5c334.png)"
   ]
  },
  {
   "cell_type": "code",
   "execution_count": 8,
   "metadata": {},
   "outputs": [],
   "source": [
    "cv2.imshow(\"Sobel Combinado\", sobelCombined)\n",
    "cv2.waitKey(0)\n",
    "cv2.destroyAllWindows()"
   ]
  },
  {
   "cell_type": "markdown",
   "metadata": {},
   "source": [
    "![img](https://user-images.githubusercontent.com/14116020/64581142-5f8de780-d35f-11e9-88b5-37b7aff86fc0.png)"
   ]
  },
  {
   "cell_type": "code",
   "execution_count": null,
   "metadata": {},
   "outputs": [],
   "source": []
  }
 ],
 "metadata": {
  "kernelspec": {
   "display_name": "Python 3",
   "language": "python",
   "name": "python3"
  },
  "language_info": {
   "codemirror_mode": {
    "name": "ipython",
    "version": 3
   },
   "file_extension": ".py",
   "mimetype": "text/x-python",
   "name": "python",
   "nbconvert_exporter": "python",
   "pygments_lexer": "ipython3",
   "version": "3.5.2"
  }
 },
 "nbformat": 4,
 "nbformat_minor": 2
}
