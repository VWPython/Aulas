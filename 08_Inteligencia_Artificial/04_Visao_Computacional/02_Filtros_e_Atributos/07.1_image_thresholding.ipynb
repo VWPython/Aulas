{
 "cells": [
  {
   "cell_type": "markdown",
   "metadata": {},
   "source": [
    "## Image Thresholding\n",
    "***"
   ]
  },
  {
   "cell_type": "markdown",
   "metadata": {},
   "source": [
    "O Image Thresholding é uma das técnicas de segmentação mais comuns (e básicas) na visão  computacional  e  nos  permite  separar  o  primeiro  plano  (ou  seja,  os  objetos  que  nos interessam) do fundo da imagem.\n",
    "\n",
    "O limiar (ou Image Thresholding) é usado para criar uma imagem binária apartir de uma imagem em escala de cinza. É a maneira mais simples de segmentar objetos de um plano de fundo. Os algoritmos de limiar implementados em scikit-image podem ser separados em duas categorias.\n",
    "\n",
    "* **Baseado em histograma**: O  histograma  da  intensidade dos  pixels  é  usado  e  determinadas premissas são feitas nas propriedades desse histograma (por exemplo, bimodal).\n",
    "\n",
    "\n",
    "* **Local**: Para processar um pixel, apenas os pixels vizinhos são usados. Esses algoritmos muitas vezes exigem mais tempo de computação.\n",
    "\n",
    "Se você não está familiarizado com os detalhes dos diferentes algoritmos, muitas vezes é difícil saber qual algoritmo dará os melhores resultados. Para ajudá-lo, o Scikit-image inclui uma  função  para  avaliar  algoritmos  de  limiar  fornecidos  pela  biblioteca. Dessa forma, você pode selecionar o melhor algoritmo para seus dados sem uma compreensão profunda de seus mecanismos.\n",
    "\n",
    "O limiar no processamento de imagem significa atualizar o valor de cor de um pixel para branco ou preto de acordo com um valor de limiar. Se o valor de pixel for maior do que o valor de limiar, definimos o pixel como WHITE, se não, configuramos para BLACK. Existem também variações no limiar. Usando o conceito de obter valores de pixel e definir valores de pixels, é bastante simples escrever um código para o limiar de imagem.\n",
    "\n",
    "O  limiar  de  imagem funciona  bem  em  casos  simples  em  que  o  fundo  da  imagem  é uniforme. Mas pode haver cenários quando o fundo da imagem não é uniforme e isso acontece com mais frequência. Para efetivamente limitar a imagem, ao invés de usar um valor de limite global,  calculamos  valores  de  limiar  diferentes  para  diferentes  partes  da  imagem.  Isso  é conhecido como thresholding adaptativo. Como o nome sugere, adaptamos o valor de limiar de acordo com diferentes partes da imagem.\n",
    "\n",
    "O limiar vem em muitas formas. Temos um limite simples onde fornecemos parâmetros manualmente  para segmentar  a  imagem, isso  funciona  muito  bem  em  condições  de iluminação controlada, onde podemos garantir um alto contraste entre o primeiro plano e o plano de fundo da imagem.\n",
    "\n",
    "Nós  também  temos  métodos  como  o  limiar  de  Otsu  que  tenta  ser  mais  dinâmico  e computar automaticamente o valor de limiar ideal com base na imagem de entrada.\n",
    "\n",
    "E  existe  ainda  o limite  adaptativo  que,  ao  invés  de  tentar  limpar  uma  imagem globalmente usando um único valor, quebra a imagem para baixo em pedaços menores e limita cada uma dessas peças separadamente e individualmente.\n",
    "\n",
    "***"
   ]
  },
  {
   "cell_type": "code",
   "execution_count": 1,
   "metadata": {},
   "outputs": [],
   "source": [
    "import cv2"
   ]
  },
  {
   "cell_type": "code",
   "execution_count": 2,
   "metadata": {},
   "outputs": [],
   "source": [
    "# Carrega a imagem e converte para Grayscale\n",
    "image = cv2.imread(\"imagens/casa.jpg\")\n",
    "gray = cv2.cvtColor(image, cv2.COLOR_BGR2GRAY)"
   ]
  },
  {
   "cell_type": "code",
   "execution_count": 3,
   "metadata": {},
   "outputs": [],
   "source": [
    "# Aplica o filtro gaussiano\n",
    "# A aplicação do filtro gaussiano ajuda a remover algumas das bordas de alta frequência da imagem \n",
    "# que não nos preocupam e nos permitem obter uma segmentação mais \"limpa\".\n",
    "blurred = cv2.GaussianBlur(gray, (5, 5), 0)\n",
    "cv2.imshow(\"Image\", blurred)\n",
    "cv2.waitKey(0)\n",
    "cv2.destroyAllWindows()"
   ]
  },
  {
   "cell_type": "markdown",
   "metadata": {},
   "source": [
    "![img](https://user-images.githubusercontent.com/14116020/64503441-78d05e80-d2a1-11e9-88d6-edac42b1025f.png)"
   ]
  },
  {
   "cell_type": "code",
   "execution_count": 4,
   "metadata": {},
   "outputs": [],
   "source": [
    "# Image thresholding com limite 155. (PRETO)\n",
    "(T, thresh) = cv2.threshold(blurred, 155, 255, cv2.THRESH_BINARY)\n",
    "cv2.imshow(\"Threshold Binary\", thresh)\n",
    "cv2.waitKey(0)\n",
    "cv2.destroyAllWindows()"
   ]
  },
  {
   "cell_type": "markdown",
   "metadata": {},
   "source": [
    "![img](https://user-images.githubusercontent.com/14116020/64503470-9a314a80-d2a1-11e9-90b9-e378614d734e.png)"
   ]
  },
  {
   "cell_type": "code",
   "execution_count": 5,
   "metadata": {},
   "outputs": [],
   "source": [
    "# Vamos aplicar o limiar básico. O primeiro parâmetro é a\n",
    "# imagem, o segundo valor é o nosso limiar.\n",
    "# Se um valor de pixel for maior que o nosso limite (neste\n",
    "# caso, 155), convertemos para BRANCO, caso contrário, PRETO. (BRANCO)\n",
    "(T, threshInv) = cv2.threshold(blurred, 155, 255, cv2.THRESH_BINARY_INV)\n",
    "cv2.imshow(\"Threshold Binary Inverse\", threshInv)\n",
    "cv2.waitKey(0)\n",
    "cv2.destroyAllWindows()"
   ]
  },
  {
   "cell_type": "markdown",
   "metadata": {},
   "source": [
    "![img](https://user-images.githubusercontent.com/14116020/64503503-b339fb80-d2a1-11e9-8199-78df10455855.png)"
   ]
  }
 ],
 "metadata": {
  "kernelspec": {
   "display_name": "Python 3",
   "language": "python",
   "name": "python3"
  },
  "language_info": {
   "codemirror_mode": {
    "name": "ipython",
    "version": 3
   },
   "file_extension": ".py",
   "mimetype": "text/x-python",
   "name": "python",
   "nbconvert_exporter": "python",
   "pygments_lexer": "ipython3",
   "version": "3.5.2"
  }
 },
 "nbformat": 4,
 "nbformat_minor": 2
}
