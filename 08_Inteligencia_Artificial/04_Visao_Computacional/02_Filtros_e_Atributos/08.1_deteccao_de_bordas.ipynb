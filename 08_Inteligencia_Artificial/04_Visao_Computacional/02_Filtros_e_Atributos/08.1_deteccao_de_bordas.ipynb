{
 "cells": [
  {
   "cell_type": "markdown",
   "metadata": {},
   "source": [
    "## Detecção de bordas\n",
    "***"
   ]
  },
  {
   "cell_type": "markdown",
   "metadata": {},
   "source": [
    "Detectar bordas em uma imagem é um conceito importante e tem muitas aplicações. Detectar bordas pode nos ajudar a saber mais sobre a estrutura e o limite dos objetos em uma imagem. As bordas são definidas como partes de imagens onde há mudanças significativas nos valores  de  pixel  ao  atravessar  a imagem.  O  que  isso  significa? \n",
    "\n",
    "Digamos  que  estamos digitalizando  uma  imagem  da  esquerda  para  a  direita,  e  enquanto  examinamos  a  imagem, percebemos que o valor de pixel, do pixel anterior, é muito menor que o valor de pixel, do pixel atual. Isso implica que o pixel atual pode ser provavelmente um pixel de borda. Como vimos anteriormente, uma derivada de imagem é a maneira de encontrar a mudança nos valores de pixel e, portanto, pode ser uma maneira ingênua de encontrar bordas em uma imagem.\n",
    "\n",
    "Usando uma derivada de imagem, podemos encontrar pixels onde há alteração nos valores de pixels entre  os  pixels  vizinhos  e  esse  pixel  provavelmente  será  parte  de  uma  borda.  Usar  apenas derivados  de  imagem  não  é  muito  robusto.  Imagens  com  muito  barulho (noise) produzirão muitas bordas falsas, o que reduzirá a qualidade geral do seu sistema de visão. Existem técnicas de  detecção  de  bordas  mais  sofisticadas,  como  os  detectores  de  borda  **Sobel  e  Canny**  que abordaremos agora e que são mais robustos e produzem menos resultados falsos.\n",
    "\n",
    "![img](https://user-images.githubusercontent.com/14116020/64503710-a8cc3180-d2a2-11e9-8221-c906998b92f7.png)\n",
    "\n",
    "O gradiente de imagem é um dos blocos de construção fundamentais no processamento de imagens de visão computacional. Usamos gradientes para detectar bordas em imagens, o que nos permite encontrar contornos de objetos em imagens. Nós os usamos como entradas para quantificar imagens através da extração de recursos -na verdade, descritores de imagem bem  sucedidos  e  bem  conhecidos,  como  Histograma  de  Gradientes  Orientados  e  SIFT,  são construídos com representações de gradiente de imagem. As imagens de gradiente são usadas para construir mapas de saliência, que destacam os assuntos de uma imagem.\n",
    "\n",
    "Usamos gradientes o tempo todo em visão computacional e processamento de imagem. Podemos dizer que eles são um dos blocos de construção mais importantes e vamos discuti-los em detalhes antes de praticar com o OpenCV."
   ]
  },
  {
   "cell_type": "markdown",
   "metadata": {},
   "source": [
    "***\n",
    "### Gradiente de Imagem\n",
    "***"
   ]
  },
  {
   "cell_type": "markdown",
   "metadata": {},
   "source": [
    "Os gradientes de imagem são usados como blocos de construção básicos em muitas aplicações  de  processamento  de  imagem  e  visão  computacional. No  entanto,  a  aplicação principal de gradientes de imagem é na detecção de borda.\n",
    "\n",
    "Como o nome sugere, a detecção de bordas é o processo de encontrar bordas em uma imagem, o que revela informações estruturais sobre os objetos em uma imagem. As bordas podem, portanto, corresponder a:\n",
    "\n",
    "* Limites de um objeto em uma imagem\n",
    "* Limites de sombras ou condições de iluminação em uma imagem\n",
    "* Limites de \"partes\" dentro de um objeto\n",
    "\n",
    "Abaixo temos uma imagem com as bordas sendo detectadas:\n",
    "\n",
    "![img](https://user-images.githubusercontent.com/14116020/64579210-6f55fd80-d358-11e9-8986-e1910b30e5fa.png)\n",
    "\n",
    "À esquerda, temos nossa imagem de entrada original. À direita, temos nossa imagem com bordas detectadas - comumente chamado de mapa de bordas (edge map). A imagem à direita revela claramente a estrutura e o esboço dos objetos em uma imagem. Observe como o contorno  do rosto é claramente  revelado.  Usando  este  esboço,  podemos  então  aplicar contornos (Contours) para extrair os objetos reais da região ou quantificar as formas para que possamos  identificá-los  mais  tarde.  Assim  como  os  gradientes  de  imagem  são  blocos  de construção para métodos como a detecção de bordas, a detecção de bordas também é um bloco  de  construção  para  o  desenvolvimento  de  uma  aplicação  completa  de  visão computacional. Então, como podemos encontrar essas bordas em uma imagem? O primeiro passo é calcular o gradiente da imagem.\n",
    "\n",
    "Formalmente, um gradiente de imagem é definido como uma mudança direcional na intensidade da imagem. Explicando: em cada pixel da imagem de entrada (escala de cinza), um gradiente mede a mudança na intensidade do pixel em uma determinada direção. Ao estimar a direção ou a orientação juntamente com a magnitude (ou seja, quão forte é a mudança de direção), podemos detectar regiões de uma imagem que se parecem com bordas.\n",
    "\n",
    "Na  prática,  os  gradientes  de  imagem  são  estimados  usando  kernels  (conforme estudamos anteriormente), assim como fizemos usando alisamento (Smoothing) e desfocagem (Blurring)- mas desta vez estamos tentando encontrar os componentes estruturais da imagem. Nosso  objetivo  aqui  é  encontrar  a  mudança  de  direção  para  o  pixel  central  marcado  em vermelho na direção x e y:\n",
    "\n",
    "![img](https://user-images.githubusercontent.com/14116020/64579322-e12e4700-d358-11e9-9d3b-8964c4858244.png)\n",
    "\n",
    "No  entanto,  antes de  mergulhar  em  kernels  para  a  estimativa  de  gradiente,  vamos realmente passar pelo processo de computação do gradiente manualmente. O primeiro passo é simplesmente encontrar e marcar os pixels norte, sul, leste e oeste ao redor do pixel central.\n",
    "\n",
    "Na imagem acima, examinamos a vizinhança 3x3 que circunda o pixel central (252). Nossos valores x correm da esquerda para a direita e nossos valores y de cima para baixo. Para calcular qualquer mudança de direção, precisaremos dos pixels norte, sul, leste e oeste, que são marcados na figura abaixo.\n",
    "\n",
    "![img](https://user-images.githubusercontent.com/14116020/64579389-1fc40180-d359-11e9-9792-8b31f69b9364.png)\n",
    "\n",
    "Se indicarmos a nossa imagem de entrada como I, então definimos os pixels norte, sul, leste e oeste usando a seguinte notação:\n",
    "\n",
    "* **Norte**: $I(x, y - 1)$\n",
    "* **Sul**: $I(x, y + 1)$\n",
    "* **Leste**: $I(x + 1, y)$\n",
    "* **Oeste**: $I(x - 1, y)$\n",
    "\n",
    "Esses quatro valores são críticos no cálculo das mudanças na intensidade da imagem tanto na direção x quanto na y. Para demonstrar isso, vamos calcular a mudança vertical ou a alteração y tomando a diferença entre os pixels norte e sul:\n",
    "\n",
    "$$G_y = I(x, y - 1) - I(x, y + 1)$$\n",
    "\n",
    "Da mesma forma, podemos calcular a mudança horizontal ou a mudança x, tomando a diferença entre os pixels leste e oeste:\n",
    "\n",
    "$$G_x = I(x + 1, y) - I(x - 1, y)$$\n",
    "\n",
    "Agora temos $G_x$ e $G_y$, que representam a alteração na intensidade da imagem para o pixel central na direção x e y. Mas a grande questão é: o que fazemos com esses valores? Para responder  a  isso,  precisaremos  definir  dois  novos  termos - a  magnitude  do  gradiente  e  a orientação do gradiente.\n",
    "\n",
    "A **magnitude do gradiente** é usada para medir quão forte é a mudança na intensidade da imagem. A magnitude do gradiente é um número de valor real que quantifica a \"força\" da mudança de intensidade.\n",
    "\n",
    "A **orientação do gradiente** é  usada  para  determinar  em  que  direção  a  mudança  de intensidade  está  apontando.  Como  o  nome  sugere,  a  orientação  do  gradiente  nos  dará  um ângulo que podemos usar para quantificar a direção da mudança.\n",
    "\n",
    "Por exemplo, veja a seguinte visualização da orientação do gradiente:\n",
    "\n",
    "![img](https://user-images.githubusercontent.com/14116020/64579767-6108e100-d35a-11e9-839d-3f11cf63bf27.png)\n",
    "\n",
    "À  esquerda,  temos  uma  região 3x3 de  uma  imagem  onde  a  metade  superior  da imagem  é  branca  e  a  metade  inferior  da  imagem  é  preta.  A  orientação  do  gradiente  é, portanto, 90º.\n",
    "\n",
    "E  à  direita  temos  outra  vizinhança  3x3  de  uma  imagem,  onde  a  região  triangular superior é branca e a região triangular inferior é preta. Aqui podemos ver a mudança de direção é igual a 45º.\n",
    "\n",
    "Intuitivamente,  as  mudanças  na  direção  fazem  sentido,  pois  podemos  realmente visualizar  o  resultado. Mas,  como realmente calculamos  a  magnitude  e  orientação  do gradiente? Vamos  ver  se  podemos  desmistificar  o  cálculo  da orientação e  da  magnitude. Comecemos com uma imagem 3x3:\n",
    "\n",
    "![img](https://user-images.githubusercontent.com/14116020/64579847-b34a0200-d35a-11e9-9586-d18141c7debb.png)\n",
    "\n",
    "Aqui podemos ver que o pixel central está marcado em vermelho. O próximo passo na determinação da orientação e da magnitude do gradiente é realmente calcular as mudanças no gradiente na direção x e y. Felizmente, já sabemos como fazer isso - eles são simplesmente os valores  $G_x$ e  $G_y$ que  calculamos  anteriormente! Usando $G_x$ e $G_y$,  podemos  aplicar  alguma trigonometria básica para calcular a magnitude e orientação do gradiente G:\n",
    "\n",
    "![img](https://user-images.githubusercontent.com/14116020/64579901-e2607380-d35a-11e9-9479-d0c2f5a12dee.png)\n",
    "\n",
    "Inspecionando  este  triângulo  você  pode  ver  que  a  magnitude  do  gradiente  G  é  a hipotenusa  do  triângulo.  Portanto,  tudo  o  que  precisamos  fazer  é  aplicar  o  teorema  de Pitágoras (lembra disso, das aulas de Matemática da sétima série, quando você se perguntava quando  usaria  isso  na  sua  vida?  Parece  que  o  momento  chegou) e  acabaremos  com  a magnitude do gradiente:\n",
    "\n",
    "$$G = \\sqrt{G_x^2 + G_y^2}$$\n",
    "\n",
    "A  orientação  do  gradiente  pode  então  ser  dada  como  a  proporção  de  $G_y$ para  $G_x$. Tecnicamente, usamos o $tan^{-1}$ para calcular a orientação do gradiente, mas isso poderia levar a valores  indefinidos  e  então usaremos  a  função  arctan2  para  representar  os  diferentes quadrantes em vez disso:\n",
    "\n",
    "$$\\theta = arctan2(G_y, G_x) \\times (\\frac{180}{\\pi})$$\n",
    "\n",
    "A função arctan2 nos dá a orientação em radianos, que então convertemos em graus multiplicando pela proporção de $\\frac{180}{\\pi}$. Vamos prosseguir e calcular manualmente G e $\\theta$ para que possamos ver como o processo éfeito:\n",
    "\n",
    "![img](https://user-images.githubusercontent.com/14116020/64580161-b1347300-d35b-11e9-9358-4e5bac241910.png)\n",
    "\n",
    "Na imagem acima, temos uma imagem onde o terço superior é branco e os dois terços inferiores são pretos. Usando as equações para $G_x$ e $G_y$, chegamos a:\n",
    "\n",
    "$$G_x = 0 - 0 = 0 e G_y = 255 - 0 = 255$$\n",
    "\n",
    "Conectando esses valores em nossa equação de magnitude de gradiente, obtemos:\n",
    "\n",
    "$$G = \\sqrt{0^2 + 255^2} = 255$$\n",
    "\n",
    "Quanto à nossa orientação do gradiente, temos:\n",
    "\n",
    "$$\\theta = arctan2(255, 0) \\times (\\frac{180}{\\pi}) = 90º$$\n",
    "\n",
    "Com  certeza,  o  gradiente  do  pixel  central  está  apontando  como  verificado  pelo $\\theta = 90º$. Não é tão difícil calcular a magnitude e a orientação do gradiente não é mesmo? Vamos fazer outro exemplo só por diversão:\n",
    "\n",
    "![img](https://user-images.githubusercontent.com/14116020/64580305-3586f600-d35c-11e9-8c4d-7d974efd0da4.png)\n",
    "\n",
    "Nesta imagem podemos ver que a região triangular inferior é branca, enquanto a região triangular superior é preto. Calculando $G_x$ e $G_y$ chegamos a:\n",
    "\n",
    "$$G_x = 0 - 255 = -255 e G_y = 0 - 255 = -255$$\n",
    "\n",
    "O que nos deixa com uma magnitude de gradiente de:\n",
    "\n",
    "$$G = \\sqrt{255^2 + 255^2} = 360.62$$\n",
    "\n",
    "E uma orientação de gradiente de:\n",
    "\n",
    "$$\\theta = arctan2(-255, -255) \\times (\\frac{180}{\\pi}) = -135º$$\n",
    "\n",
    "Com  certeza,  nosso  gradiente  está  apontando  para  baixo  e  para  a  esquerda  em  um ângulo de -135º.\n",
    "\n",
    "Claro, apenas calculamos nossa orientação e magnitude do gradiente para dois valores de pixel exclusivos: 0 e 255. Normalmente, você informaria a orientação e a magnitude em uma imagem em escala de cinza onde o intervalo de valores seria [0, 255].\n",
    "\n",
    "***"
   ]
  },
  {
   "cell_type": "code",
   "execution_count": 1,
   "metadata": {},
   "outputs": [],
   "source": [
    "import numpy as np\n",
    "import cv2"
   ]
  },
  {
   "cell_type": "code",
   "execution_count": 2,
   "metadata": {},
   "outputs": [],
   "source": [
    "# Carrega a imagem e converte para escala de cinza\n",
    "image = cv2.imread(\"imagens/casa.jpg\")\n",
    "gray = cv2.cvtColor(image, cv2.COLOR_BGR2GRAY)\n",
    "cv2.imshow(\"Original\", gray)\n",
    "cv2.waitKey(0)\n",
    "cv2.destroyAllWindows()"
   ]
  },
  {
   "cell_type": "markdown",
   "metadata": {},
   "source": [
    "![img](https://user-images.githubusercontent.com/14116020/64580998-dc6c9180-d35e-11e9-8f45-78b4e18270e7.png)"
   ]
  },
  {
   "cell_type": "code",
   "execution_count": 3,
   "metadata": {},
   "outputs": [],
   "source": [
    "# Computando os gradientes nos eixos X e Y \n",
    "gX = cv2.Sobel(gray, cv2.CV_64F, 1, 0)\n",
    "gY = cv2.Sobel(gray, cv2.CV_64F, 0, 1)"
   ]
  },
  {
   "cell_type": "code",
   "execution_count": 4,
   "metadata": {},
   "outputs": [],
   "source": [
    "# Calcula a magnitude e a orientação do gradiente, respectivamente\n",
    "mag = np.sqrt((gX ** 2) + (gY ** 2))\n",
    "orientation = np.arctan2(gY, gX) * (180 / np.pi) % 180"
   ]
  },
  {
   "cell_type": "code",
   "execution_count": 5,
   "metadata": {},
   "outputs": [],
   "source": [
    "# Encontra todos os pixels que estão dentro dos limites dos ângulos superior e inferior\n",
    "idxs = np.where(orientation >= 175.0, orientation, -1)\n",
    "idxs = np.where(orientation <= 180.0, idxs, -1)\n",
    "mask = np.zeros(gray.shape, dtype=\"uint8\")\n",
    "mask[idxs > -1] = 255"
   ]
  },
  {
   "cell_type": "code",
   "execution_count": 6,
   "metadata": {},
   "outputs": [],
   "source": [
    "cv2.imshow(\"Mask\", mask)\n",
    "cv2.waitKey(0)\n",
    "cv2.destroyAllWindows()"
   ]
  },
  {
   "cell_type": "markdown",
   "metadata": {},
   "source": [
    "![img](https://user-images.githubusercontent.com/14116020/64581697-8baa6800-d361-11e9-8b5f-3f9722a366b2.png)\n",
    "\n",
    "Esses pontinhos da imagem são pixels entre o limite inferior e superior, ou seja, tudo que tiver acima desses limites ou abaixo serão as bordas. Essa é a última etapa antes de encontrar as bordas. A próxima etapa é somar os gradientes de X e Y para detectar as bordas."
   ]
  }
 ],
 "metadata": {
  "kernelspec": {
   "display_name": "Python 3",
   "language": "python",
   "name": "python3"
  },
  "language_info": {
   "codemirror_mode": {
    "name": "ipython",
    "version": 3
   },
   "file_extension": ".py",
   "mimetype": "text/x-python",
   "name": "python",
   "nbconvert_exporter": "python",
   "pygments_lexer": "ipython3",
   "version": "3.5.2"
  }
 },
 "nbformat": 4,
 "nbformat_minor": 2
}
