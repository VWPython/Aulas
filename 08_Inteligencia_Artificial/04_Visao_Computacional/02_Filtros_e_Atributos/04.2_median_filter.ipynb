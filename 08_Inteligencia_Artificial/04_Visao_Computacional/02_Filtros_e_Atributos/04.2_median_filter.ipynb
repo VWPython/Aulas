{
 "cells": [
  {
   "cell_type": "markdown",
   "metadata": {},
   "source": [
    "## Median Filter\n",
    "***"
   ]
  },
  {
   "cell_type": "markdown",
   "metadata": {},
   "source": [
    "Tradicionalmente, o método de desfocagem mediana tem sido mais efetivo quando se remove o ruído do “sal e da pimenta”. Este tipo de ruído é exatamente o que parece: imagine tirar uma fotografia, colocá-la na mesa da sala de jantar e polvilhar sal e pimenta em cima dela. Usando  o  método  de  desfocagem  mediana,  você  pode  remover  o  sal  e  a  pimenta  da  sua imagem.\n",
    "\n",
    "Ao  aplicar um  Median  Filter,  primeiro  definimos  o  tamanho  do  nosso  kernel.  Então, como  no  método  de  desfocagem  da  média  (Averaging),  consideramos  todos  os  pixels  na vizinhança do tamanho K x K onde K é um número inteiro ímpar. Observe que, ao contrário da desfocagem da média e do Gaussian blur, onde o tamanho do kernel pode ser retangular, o tamanho do kernel para a mediana deve ser quadrado. Além disso (ao contrário do método de média),  em  vez  de  substituir  o  pixel  central  pela  média  da  vizinhança,  substituímos  o  pixel central pela mediana dos pixels vizinhos.\n",
    "\n",
    "A razão pela qual o desfoque da mediana é mais efetivo na remoção do ruído de estilo de  sal  e  pimenta  de  uma  imagem  é  que  cada  pixel  central  é  sempre  substituído  por  uma intensidade de pixel que existe na imagem. E uma vez que a mediana é robusta para outliers, o ruído de sal e pimenta será menos influente para a mediana do que outro método estatístico, como a média.\n",
    "\n",
    "Por definição,  o  pixel  médio  deve  existir  na  vizinhança.  Ao  substituir  o  nosso  pixel central por uma mediana, em vez de uma média, podemos reduzir substancialmente o ruído."
   ]
  },
  {
   "cell_type": "markdown",
   "metadata": {},
   "source": [
    "***\n",
    "### OpenCV\n",
    "***"
   ]
  },
  {
   "cell_type": "code",
   "execution_count": 4,
   "metadata": {},
   "outputs": [],
   "source": [
    "import numpy as np\n",
    "import cv2"
   ]
  },
  {
   "cell_type": "code",
   "execution_count": 5,
   "metadata": {},
   "outputs": [],
   "source": [
    "# Carrega a imagem\n",
    "image = cv2.imread(\"imagens/beija-flor.jpg\")\n",
    "cv2.imshow(\"Original\", image)\n",
    "cv2.waitKey(0)\n",
    "cv2.destroyAllWindows()"
   ]
  },
  {
   "cell_type": "markdown",
   "metadata": {},
   "source": [
    "![img](https://user-images.githubusercontent.com/14116020/64470327-ecdefb00-d117-11e9-9742-4dc1ebfe3b81.png)"
   ]
  },
  {
   "cell_type": "code",
   "execution_count": 6,
   "metadata": {},
   "outputs": [],
   "source": [
    "# A função cv2.medianBlur é usada principalmente para remover\n",
    "# o que se chama ruído \"sal e pimenta\". Ao contrário da Média\n",
    "# método mencionado daqui a pouco com o Gaussian Blur, o método da mediana (como o nome\n",
    "# sugere), calcula o valor médio do pixel entre os área ao redor.\n",
    "blurred = np.hstack([\n",
    "    cv2.medianBlur(image, 3),\n",
    "    cv2.medianBlur(image, 5),\n",
    "    cv2.medianBlur(image, 7)\n",
    "])\n",
    "cv2.imshow(\"Median\", blurred)\n",
    "cv2.waitKey(0)\n",
    "cv2.destroyAllWindows()"
   ]
  },
  {
   "cell_type": "markdown",
   "metadata": {},
   "source": [
    "![img](https://user-images.githubusercontent.com/14116020/64470334-08e29c80-d118-11e9-9a7d-52697b6c3e31.png)"
   ]
  }
 ],
 "metadata": {
  "kernelspec": {
   "display_name": "Python 3",
   "language": "python",
   "name": "python3"
  },
  "language_info": {
   "codemirror_mode": {
    "name": "ipython",
    "version": 3
   },
   "file_extension": ".py",
   "mimetype": "text/x-python",
   "name": "python",
   "nbconvert_exporter": "python",
   "pygments_lexer": "ipython3",
   "version": "3.5.2"
  }
 },
 "nbformat": 4,
 "nbformat_minor": 2
}
