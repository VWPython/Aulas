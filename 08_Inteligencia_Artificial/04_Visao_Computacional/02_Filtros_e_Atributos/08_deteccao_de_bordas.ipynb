{
 "cells": [
  {
   "cell_type": "markdown",
   "metadata": {},
   "source": [
    "## Detecção de bordas\n",
    "***"
   ]
  },
  {
   "cell_type": "markdown",
   "metadata": {},
   "source": [
    "Detectar bordas em uma imagem é um conceito importante e tem muitas aplicações. Detectar bordas pode nos ajudar a saber mais sobre a estrutura e o limite dos objetos em uma imagem. As bordas são definidas como partes de imagens onde há mudanças significativas nos valores  de  pixel  ao  atravessar  a imagem.  O  que  isso  significa? \n",
    "\n",
    "Digamos  que  estamos digitalizando  uma  imagem  da  esquerda  para  a  direita,  e  enquanto  examinamos  a  imagem, percebemos que o valor de pixel, do pixel anterior, é muito menor que o valor de pixel, do pixel atual. Isso implica que o pixel atual pode ser provavelmente um pixel de borda. Como vimos anteriormente, uma derivada de imagem é a maneira de encontrar a mudança nos valores de pixel e, portanto, pode ser uma maneira ingênua de encontrar bordas em uma imagem.\n",
    "\n",
    "Usando uma derivada de imagem, podemos encontrar pixels onde há alteração nos valores de pixels entre  os  pixels  vizinhos  e  esse  pixel  provavelmente  será  parte  de  uma  borda.  Usar  apenas derivados  de  imagem  não  é  muito  robusto.  Imagens  com  muito  barulho (noise) produzirão muitas bordas falsas, o que reduzirá a qualidade geral do seu sistema de visão. Existem técnicas de  detecção  de  bordas  mais  sofisticadas,  como  os  detectores  de  borda  **Sobel  e  Canny**  que abordaremos agora e que são mais robustos e produzem menos resultados falsos.\n",
    "\n",
    "![img](https://user-images.githubusercontent.com/14116020/64503710-a8cc3180-d2a2-11e9-8221-c906998b92f7.png)\n",
    "\n",
    "O gradiente de imagem é um dos blocos de construção fundamentais no processamento de imagens de visão computacional. Usamos gradientes para detectar bordas em imagens, o que nos permite encontrar contornos de objetos em imagens. Nós os usamos como entradas para quantificar imagens através da extração de recursos -na verdade, descritores de imagem bem  sucedidos  e  bem  conhecidos,  como  Histograma  de  Gradientes  Orientados  e  SIFT,  são construídos com representações de gradiente de imagem. As imagens de gradiente são usadas para construir mapas de saliência, que destacam os assuntos de uma imagem.\n",
    "\n",
    "Usamos gradientes o tempo todo em visão computacional e processamento de imagem. Podemos dizer que eles são um dos blocos de construção mais importantes e vamos discuti-los em detalhes antes de praticar com o OpenCV."
   ]
  },
  {
   "cell_type": "markdown",
   "metadata": {},
   "source": [
    "***\n",
    "### Gradiente de Imagem\n",
    "***"
   ]
  },
  {
   "cell_type": "markdown",
   "metadata": {},
   "source": []
  }
 ],
 "metadata": {
  "kernelspec": {
   "display_name": "Python 3",
   "language": "python",
   "name": "python3"
  },
  "language_info": {
   "codemirror_mode": {
    "name": "ipython",
    "version": 3
   },
   "file_extension": ".py",
   "mimetype": "text/x-python",
   "name": "python",
   "nbconvert_exporter": "python",
   "pygments_lexer": "ipython3",
   "version": "3.5.2"
  }
 },
 "nbformat": 4,
 "nbformat_minor": 2
}
