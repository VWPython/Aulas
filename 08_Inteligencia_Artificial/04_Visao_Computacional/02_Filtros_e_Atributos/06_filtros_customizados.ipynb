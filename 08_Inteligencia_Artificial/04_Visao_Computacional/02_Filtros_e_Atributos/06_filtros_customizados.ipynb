{
 "cells": [
  {
   "cell_type": "markdown",
   "metadata": {},
   "source": [
    "## Filtros Customizados\n",
    "***"
   ]
  },
  {
   "cell_type": "markdown",
   "metadata": {},
   "source": [
    "Até agora, vimos filtros que são comumente usados no processamento de imagens e são amplamente aceitos por pesquisadores e desenvolvedores. Mas há momentos em que você deseja projetar seu próprio filtro. A boa notícia é que você não precisa escrever todo o processo de convolução novamente a partir do zero. Skimage e pillow fornecem a opção de aplicar filtros personalizados em imagens.\n",
    "\n",
    "```py\n",
    ">>> from PIL import ImageFilter\n",
    ">>> kernel = ImageFilter.Kernel((3, 3), [1,2,3,4,5,6,7,8,9])\n",
    "```\n",
    "\n",
    "A  função  kernel recebe  o  tamanho,  a  sequência  dos  pesos  do  kernel,  a  escala  e  o deslocamento como parâmetros, onde o tamanho é o tamanho da matriz, a escala é o valor pelo  qual  o  resultado  do  pixel  é  dividido  e  o deslocamento é  o  valor que é  adicionado  ao resultado após a escala. O valor da escala padrão é a soma dos pesos do kernel.\n",
    "\n",
    "Essa biblioteca só funciona kernels 3x3 e 5x5\n",
    "\n",
    "***"
   ]
  },
  {
   "cell_type": "code",
   "execution_count": 1,
   "metadata": {},
   "outputs": [],
   "source": [
    "from PIL import Image\n",
    "from PIL import ImageFilter"
   ]
  },
  {
   "cell_type": "code",
   "execution_count": 2,
   "metadata": {},
   "outputs": [],
   "source": [
    "# Leitura da Imagem\n",
    "img = Image.open(\"imagens/beija-flor.jpg\")\n",
    "img.show()"
   ]
  },
  {
   "cell_type": "markdown",
   "metadata": {},
   "source": [
    "![img](https://user-images.githubusercontent.com/14116020/64470327-ecdefb00-d117-11e9-9742-4dc1ebfe3b81.png)"
   ]
  },
  {
   "cell_type": "code",
   "execution_count": 3,
   "metadata": {},
   "outputs": [],
   "source": [
    "# Filtro\n",
    "new_img = img.filter(ImageFilter.Kernel((3,3),[1,0,-1,5,0,-5,1,0,1]))\n",
    "new_img.show()"
   ]
  },
  {
   "cell_type": "markdown",
   "metadata": {},
   "source": [
    "![img](https://user-images.githubusercontent.com/14116020/64502216-28560280-d29b-11e9-8518-adb4bd55a9e0.png)"
   ]
  }
 ],
 "metadata": {
  "kernelspec": {
   "display_name": "Python 3",
   "language": "python",
   "name": "python3"
  },
  "language_info": {
   "codemirror_mode": {
    "name": "ipython",
    "version": 3
   },
   "file_extension": ".py",
   "mimetype": "text/x-python",
   "name": "python",
   "nbconvert_exporter": "python",
   "pygments_lexer": "ipython3",
   "version": "3.5.2"
  }
 },
 "nbformat": 4,
 "nbformat_minor": 2
}
