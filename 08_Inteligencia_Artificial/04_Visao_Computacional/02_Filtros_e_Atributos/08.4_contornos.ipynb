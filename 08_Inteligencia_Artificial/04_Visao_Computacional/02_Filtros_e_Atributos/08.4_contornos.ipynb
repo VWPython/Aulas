{
 "cells": [
  {
   "cell_type": "markdown",
   "metadata": {},
   "source": [
    "## Contornos\n",
    "***"
   ]
  },
  {
   "cell_type": "markdown",
   "metadata": {},
   "source": [
    "Uma vez que você tenha detectado as bordas eu posso colocar um contorno nessas bordas como forma de delimitar exatamente os objetos que existe dentro dessa imagem.\n",
    "\n",
    "***"
   ]
  },
  {
   "cell_type": "code",
   "execution_count": 1,
   "metadata": {},
   "outputs": [],
   "source": [
    "import numpy as np\n",
    "import cv2"
   ]
  },
  {
   "cell_type": "code",
   "execution_count": 2,
   "metadata": {},
   "outputs": [],
   "source": [
    "# Carregando a imagem e convertendo para escala de cinza\n",
    "image = cv2.imread(\"imagens/casa.jpg\")\n",
    "gray = cv2.cvtColor(image, cv2.COLOR_BGR2GRAY)\n",
    "blurred = cv2.GaussianBlur(gray, (11, 11), 0)\n",
    "cv2.imshow(\"Original\", blurred)\n",
    "cv2.waitKey(0)\n",
    "cv2.destroyAllWindows()"
   ]
  },
  {
   "cell_type": "markdown",
   "metadata": {},
   "source": [
    "![img](https://user-images.githubusercontent.com/14116020/64583402-1b9ee080-d367-11e9-8dbf-ef0cf1adacc7.png)"
   ]
  },
  {
   "cell_type": "code",
   "execution_count": 3,
   "metadata": {},
   "outputs": [],
   "source": [
    "# Canny\n",
    "edged = cv2.Canny(blurred, 30, 150)"
   ]
  },
  {
   "cell_type": "code",
   "execution_count": 4,
   "metadata": {},
   "outputs": [],
   "source": [
    "# Encontra todos os contornos na imagem e desenha TODOS os contornos da imagem\n",
    "cnts, _ = cv2.findContours(edged.copy(), cv2.RETR_LIST, cv2.CHAIN_APPROX_SIMPLE)"
   ]
  },
  {
   "cell_type": "code",
   "execution_count": 5,
   "metadata": {},
   "outputs": [],
   "source": [
    "# A função findCountours é destrutiva, ou seja, ela altera a imagem. Por isso fazemos uma cópia.\n",
    "clone = image.copy()"
   ]
  },
  {
   "cell_type": "code",
   "execution_count": 6,
   "metadata": {},
   "outputs": [
    {
     "name": "stdout",
     "output_type": "stream",
     "text": [
      "Encontrados 113 contornos\n"
     ]
    }
   ],
   "source": [
    "# Desenha os contornos\n",
    "cv2.drawContours(clone, cnts, -1, (0, 255, 0), 2)\n",
    "print (\"Encontrados {} contornos\".format(len(cnts)))"
   ]
  },
  {
   "cell_type": "code",
   "execution_count": 7,
   "metadata": {},
   "outputs": [],
   "source": [
    "cv2.imshow(\"Contornos\", clone)\n",
    "cv2.waitKey(0)\n",
    "cv2.destroyAllWindows()"
   ]
  },
  {
   "cell_type": "markdown",
   "metadata": {},
   "source": [
    "![img](https://user-images.githubusercontent.com/14116020/64583541-bdbec880-d367-11e9-9832-e388cae0279a.png)"
   ]
  },
  {
   "cell_type": "markdown",
   "metadata": {},
   "source": [
    "***"
   ]
  },
  {
   "cell_type": "code",
   "execution_count": 8,
   "metadata": {},
   "outputs": [],
   "source": [
    "# Carregando a imagem e convertendo para escala de cinza\n",
    "image = cv2.imread(\"imagens/shapes.png\")\n",
    "gray = cv2.cvtColor(image, cv2.COLOR_BGR2GRAY)\n",
    "cv2.imshow(\"Original\", gray)\n",
    "cv2.waitKey(0)\n",
    "cv2.destroyAllWindows()"
   ]
  },
  {
   "cell_type": "markdown",
   "metadata": {},
   "source": [
    "![img](https://user-images.githubusercontent.com/14116020/64584121-ffe90980-d369-11e9-913b-2eac37ea1e7e.png)"
   ]
  },
  {
   "cell_type": "code",
   "execution_count": 9,
   "metadata": {},
   "outputs": [],
   "source": [
    "# Encontra os contornos externos\n",
    "cnts, _ = cv2.findContours(gray.copy(), cv2.RETR_EXTERNAL, cv2.CHAIN_APPROX_SIMPLE)"
   ]
  },
  {
   "cell_type": "code",
   "execution_count": 10,
   "metadata": {},
   "outputs": [],
   "source": [
    "# A função findCountours é destrutiva, ou seja, ela altera a imagem. Por isso fazemos uma cópia.\n",
    "clone = image.copy()"
   ]
  },
  {
   "cell_type": "code",
   "execution_count": 11,
   "metadata": {},
   "outputs": [
    {
     "name": "stdout",
     "output_type": "stream",
     "text": [
      "Contorno #1 -- Area: 9604.00, Perimetero: 392.00\n",
      "Contorno #2 -- Area: 14641.00, Perimetero: 484.00\n",
      "Contorno #3 -- Area: 8965.00, Perimetero: 436.00\n",
      "Contorno #4 -- Area: 37385.00, Perimetero: 722.72\n",
      "Contorno #5 -- Area: 4620.00, Perimetero: 298.00\n",
      "Contorno #6 -- Area: 10816.00, Perimetero: 416.00\n",
      "Contorno #7 -- Area: 3969.00, Perimetero: 252.00\n",
      "Contorno #8 -- Area: 30276.00, Perimetero: 696.00\n",
      "Contorno #9 -- Area: 8550.00, Perimetero: 517.48\n",
      "Contorno #10 -- Area: 7970.00, Perimetero: 446.79\n",
      "Contorno #11 -- Area: 1681.00, Perimetero: 164.00\n",
      "Contorno #12 -- Area: 7632.00, Perimetero: 414.00\n",
      "Contorno #13 -- Area: 14593.00, Perimetero: 508.33\n"
     ]
    }
   ],
   "source": [
    "# Loop por todos os contornos\n",
    "for (i, c) in enumerate(cnts):\n",
    "    # Calcula a área e o perímetro do contorno\n",
    "    area = cv2.contourArea(c)\n",
    "    perimeter = cv2.arcLength(c, True)\n",
    "    print (\"Contorno #%d -- Area: %.2f, Perimetero: %.2f\" % (i + 1, area, perimeter))\n",
    " \n",
    "    # Desenha o contorno na imagem\n",
    "    cv2.drawContours(clone, [c], -1, (0, 255, 0), 2)\n",
    " \n",
    "    # Calcula o centro do contorno e desenha o número do contorno\n",
    "    M = cv2.moments(c)\n",
    "    cX = int(M[\"m10\"] / M[\"m00\"])\n",
    "    cY = int(M[\"m01\"] / M[\"m00\"])\n",
    "    cv2.putText(clone, \"#%d\" % (i + 1), (cX - 20, cY), cv2.FONT_HERSHEY_SIMPLEX, 1.25, (255, 255, 255), 4)"
   ]
  },
  {
   "cell_type": "code",
   "execution_count": 12,
   "metadata": {},
   "outputs": [],
   "source": [
    "cv2.imshow(\"Perímetros\", clone)\n",
    "cv2.waitKey(0)\n",
    "cv2.destroyAllWindows()"
   ]
  },
  {
   "cell_type": "markdown",
   "metadata": {},
   "source": [
    "![img](https://user-images.githubusercontent.com/14116020/64584148-14c59d00-d36a-11e9-8288-f957a853b548.png)"
   ]
  },
  {
   "cell_type": "markdown",
   "metadata": {},
   "source": [
    "***"
   ]
  },
  {
   "cell_type": "code",
   "execution_count": 13,
   "metadata": {},
   "outputs": [],
   "source": [
    "# A função findCountours é destrutiva, ou seja, ela altera a imagem. Por isso fazemos uma cópia.\n",
    "clone = image.copy()"
   ]
  },
  {
   "cell_type": "code",
   "execution_count": 14,
   "metadata": {},
   "outputs": [],
   "source": [
    "# Loop por todos os contornos\n",
    "for c in cnts:\n",
    "    # Aproxima o contorno\n",
    "    peri = cv2.arcLength(c, True)\n",
    "    approx = cv2.approxPolyDP(c, 0.01 * peri, True)\n",
    " \n",
    "    # Se o contorno aproximado tiver 4 vértices, então estamos examinando um retângulo\n",
    "    if len(approx) == 4:\n",
    "        # Desenha o contorno e desenha o texto na imagem\n",
    "        cv2.drawContours(clone, [c], -1, (0, 255, 255), 2)\n",
    "        (x, y, w, h) = cv2.boundingRect(approx)\n",
    "        cv2.putText(clone, \"Retangulo\", (x, y - 10), cv2.FONT_HERSHEY_SIMPLEX, 0.5, (0, 255, 255), 2)"
   ]
  },
  {
   "cell_type": "code",
   "execution_count": 15,
   "metadata": {},
   "outputs": [],
   "source": [
    "cv2.imshow(\"Shapes\", clone)\n",
    "cv2.waitKey(0)\n",
    "cv2.destroyAllWindows()"
   ]
  },
  {
   "cell_type": "markdown",
   "metadata": {},
   "source": [
    "![img](https://user-images.githubusercontent.com/14116020/64584279-75ed7080-d36a-11e9-81db-b1c2daec7202.png)"
   ]
  }
 ],
 "metadata": {
  "kernelspec": {
   "display_name": "Python 3",
   "language": "python",
   "name": "python3"
  },
  "language_info": {
   "codemirror_mode": {
    "name": "ipython",
    "version": 3
   },
   "file_extension": ".py",
   "mimetype": "text/x-python",
   "name": "python",
   "nbconvert_exporter": "python",
   "pygments_lexer": "ipython3",
   "version": "3.5.2"
  }
 },
 "nbformat": 4,
 "nbformat_minor": 2
}
