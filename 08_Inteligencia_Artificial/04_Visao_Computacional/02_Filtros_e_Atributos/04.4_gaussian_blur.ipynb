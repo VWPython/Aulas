{
 "cells": [
  {
   "cell_type": "markdown",
   "metadata": {},
   "source": [
    "## Gaussian Blur\n",
    "***"
   ]
  },
  {
   "cell_type": "markdown",
   "metadata": {},
   "source": [
    "Vamos analisar agora o Gaussian Blur. O desfoque gaussiano é semelhante ao Averaging Filter, mas em vez de usar um meio simples, agora estamos usando uma média ponderada, onde os pixels da vizinhança que estão mais próximos do pixel central contribuem com mais \"peso\" para a média. E como o nome sugere, o Gaussian Blur é usado para remover o ruído que segue aproximadamente uma distribuição Gaussiana.\n",
    "\n",
    "O resultado final é que nossa imagem ficará menos borrada, e de forma mais natural que o Averaging Filter. Além disso, com base nesta pontuação, poderemos preservar mais as bordas em nossa imagem em comparação com o Averaging Filter.\n",
    "\n",
    "Assim como um Averaging Filter, o Gaussian Blur também usa um kernel de MxN, onde tanto M quanto N são números inteiros ímpares.\n",
    "\n",
    "Em geral, uma boa estratégia é começar com um simples Gaussian Blur e ajustar seus parâmetros conforme necessário. Enquanto o Gaussian Blur é ligeiramente mais lento do que um Averaging Filter simples (e apenas por uma pequena fração), um Gaussian Blur tende a dar resultados muito melhores, especialmente quando aplicado a imagens naturais."
   ]
  },
  {
   "cell_type": "markdown",
   "metadata": {},
   "source": [
    "***\n",
    "### OpenCV\n",
    "***"
   ]
  },
  {
   "cell_type": "code",
   "execution_count": 4,
   "metadata": {},
   "outputs": [],
   "source": [
    "import numpy as np\n",
    "import cv2"
   ]
  },
  {
   "cell_type": "code",
   "execution_count": 5,
   "metadata": {},
   "outputs": [],
   "source": [
    "# Carrega a imagem original\n",
    "image = cv2.imread(\"imagens/beija-flor.jpg\")\n",
    "cv2.imshow(\"Original\", image)\n",
    "cv2.waitKey(0)\n",
    "cv2.destroyAllWindows()"
   ]
  },
  {
   "cell_type": "markdown",
   "metadata": {},
   "source": [
    "![img](https://user-images.githubusercontent.com/14116020/64470327-ecdefb00-d117-11e9-9742-4dc1ebfe3b81.png)"
   ]
  },
  {
   "cell_type": "code",
   "execution_count": 6,
   "metadata": {},
   "outputs": [],
   "source": [
    "# Define uma lista de kernels\n",
    "kernelSizes = [(3, 3), (9, 9), (15, 15)]"
   ]
  },
  {
   "cell_type": "code",
   "execution_count": 7,
   "metadata": {},
   "outputs": [],
   "source": [
    "# Loop sobre toda a lista de kernels e aplica o Averaging Blur\n",
    "for (kX, kY) in kernelSizes:\n",
    "    blurred = cv2.GaussianBlur(image, (kX, kY), 0)\n",
    "    cv2.imshow(\"Gaussian ({}, {})\".format(kX, kY), blurred)\n",
    "    cv2.waitKey(0)\n",
    "    cv2.destroyAllWindows()"
   ]
  },
  {
   "cell_type": "markdown",
   "metadata": {},
   "source": [
    "![img](https://user-images.githubusercontent.com/14116020/64470334-08e29c80-d118-11e9-9a7d-52697b6c3e31.png)"
   ]
  }
 ],
 "metadata": {
  "kernelspec": {
   "display_name": "Python 3",
   "language": "python",
   "name": "python3"
  },
  "language_info": {
   "codemirror_mode": {
    "name": "ipython",
    "version": 3
   },
   "file_extension": ".py",
   "mimetype": "text/x-python",
   "name": "python",
   "nbconvert_exporter": "python",
   "pygments_lexer": "ipython3",
   "version": "3.5.2"
  }
 },
 "nbformat": 4,
 "nbformat_minor": 2
}
