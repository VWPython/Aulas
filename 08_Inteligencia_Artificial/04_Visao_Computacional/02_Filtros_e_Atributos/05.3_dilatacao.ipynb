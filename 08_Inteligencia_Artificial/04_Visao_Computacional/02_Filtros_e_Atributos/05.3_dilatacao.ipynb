{
 "cells": [
  {
   "cell_type": "markdown",
   "metadata": {},
   "source": [
    "## Dilatação\n",
    "***\n",
    "\n",
    "A dilatação é exatamente o oposto da erosão. Enquanto na erosão encolhemos partes da  imagem,  aqui  tentamos  expandir  as  partes  da  imagem.  Dilatação  encontra  seu  uso  em situações  em  que  queremos  ampliar  pequenos  detalhes  da  imagem.  Também  é  útil  em situações  em  que  você  deseja  preencher  lacunas/fendas  indesejadas  em  uma  imagem. Novamente, o ponto a observar é que uma operação de dilatação mantém a estrutura e a forma  da  imagem  original.  A  figura  a  seguir  mostra  o  exemplo  de  uma  matriz  após  uma operação de dilatação:\n",
    "\n",
    "![img](https://user-images.githubusercontent.com/14116020/64501289-21c58c00-d297-11e9-834b-85a380a3045e.png)\n",
    "\n",
    "Aqui o resultado da dilatação (na figura da direita):\n",
    "\n",
    "\n",
    "![img](https://user-images.githubusercontent.com/14116020/64501321-3bff6a00-d297-11e9-99d3-51993158a726.png)\n",
    "\n",
    "Resumindo, nós adicionamos alguns pixels que perto do limite de um objeto para reduzir a intensidade das cores removendo os limites de um objeto e adicionando noise (pontinhos).\n",
    "\n",
    "***"
   ]
  },
  {
   "cell_type": "code",
   "execution_count": 1,
   "metadata": {},
   "outputs": [],
   "source": [
    "import cv2"
   ]
  },
  {
   "cell_type": "code",
   "execution_count": 2,
   "metadata": {},
   "outputs": [],
   "source": [
    "image = cv2.imread(\"imagens/beija-flor.jpg\")\n",
    "gray = cv2.cvtColor(image, cv2.COLOR_BGR2GRAY)\n",
    "cv2.imshow(\"Original\", gray)\n",
    "cv2.waitKey(0)\n",
    "cv2.destroyAllWindows()"
   ]
  },
  {
   "cell_type": "markdown",
   "metadata": {},
   "source": [
    "![img](https://user-images.githubusercontent.com/14116020/64501502-0018d480-d298-11e9-86b2-609fa95b5fc8.png)"
   ]
  },
  {
   "cell_type": "code",
   "execution_count": 3,
   "metadata": {},
   "outputs": [],
   "source": [
    "# Aplica a dilatação 3 vezes\n",
    "for i in range(0, 3):\n",
    "    dilated = cv2.dilate(gray.copy(), None, iterations=i + 1)\n",
    "    cv2.imshow(\"Dilated {} times\".format(i + 1), dilated)\n",
    "    cv2.waitKey(0)\n",
    "    cv2.destroyAllWindows()"
   ]
  },
  {
   "cell_type": "markdown",
   "metadata": {},
   "source": [
    "![img](https://user-images.githubusercontent.com/14116020/64501886-b630ee00-d299-11e9-8ac0-aa929edb4dc9.png)"
   ]
  }
 ],
 "metadata": {
  "kernelspec": {
   "display_name": "Python 3",
   "language": "python",
   "name": "python3"
  },
  "language_info": {
   "codemirror_mode": {
    "name": "ipython",
    "version": 3
   },
   "file_extension": ".py",
   "mimetype": "text/x-python",
   "name": "python",
   "nbconvert_exporter": "python",
   "pygments_lexer": "ipython3",
   "version": "3.5.2"
  }
 },
 "nbformat": 4,
 "nbformat_minor": 2
}
