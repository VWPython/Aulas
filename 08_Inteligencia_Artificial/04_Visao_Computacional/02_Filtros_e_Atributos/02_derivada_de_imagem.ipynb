{
 "cells": [
  {
   "cell_type": "markdown",
   "metadata": {},
   "source": [
    "## Derivada de imagem, Kernel e Convolução\n",
    "***\n",
    "### Derivada de Imagem\n",
    "***\n",
    "\n",
    "Uma derivada de imagem é definida como a alteração no valor de pixel de uma imagem. A taxa demudança de uma função é definida como:\n",
    "\n",
    "![img](https://user-images.githubusercontent.com/14116020/64469551-74be0880-d10a-11e9-896c-811801ca4025.png)\n",
    "\n",
    "Usando essa definição no contexto das imagens, calculamos a alteração nos valores de pixel de uma imagem e, como os pixels são discretos, são definidos como $f(x + 1) - f(x)/1. Para calcular  a  derivada  em  qualquer  ponto,  podemos  usar  métodos  de  diferenças  finitas  para calcular as derivadas, tais como diferença para frente, diferença para trás e diferença central. Métodos de diferenças finitas são definidos da seguinte forma:\n",
    "\n",
    "![img](https://user-images.githubusercontent.com/14116020/64469562-b64eb380-d10a-11e9-8321-e3e9c0cd643d.png)\n",
    "\n",
    "Dada  uma  matriz  de  imagem,  podemos  encontrar  a  derivada  usando  outra  matriz chamada  máscara  ou  kernel.  Por  exemplo,  as  máscaras  derivadas  para  frente,  para  trás  e diferença central são as seguintes: $[1 -1]$, $[-1 1]$ e $[1 0 -1]$\n",
    "\n",
    "Outro exemplo de máscara é:\n",
    "\n",
    "![img](https://user-images.githubusercontent.com/14116020/64469581-04fc4d80-d10b-11e9-9658-929bf44e7de0.png)\n",
    "\n",
    "A matriz anterior é para calcular a derivada de uma matriz de imagem 2D na direção x. Da  mesma  forma,  uma derivada também  pode  ser  calculadana  direção  y.  Para  calcular  a derivada em qualquer ponto da imagem, coloque a máscara derivada na matriz da imagem com o  centro  da  máscara  no  ponto  em  que  deseja  calcular  a  derivada.  Em  seguida,  adicione  o produto de todos os termos sobrepostos célula por célula. Isso lhe dará a derivada da imagem nesse ponto. A figura abaixo ilustra como calcular a derivada de uma imagem:\n",
    "\n",
    "![img](https://user-images.githubusercontent.com/14116020/64469608-4b51ac80-d10b-11e9-9304-7a0220b1be51.png)\n",
    "\n",
    "A máscara derivada é colocada no valor 50 em (2, 2). A porção vermelha mostra os pixels sobrepostos da matriz e a máscara derivada. Após o cálculo, obtemos a saída vista em verde na imagem derivada. É a derivada do pixel em (2, 2) da imagem original. Daqui a pouco, teremos mais detalhes sobre isso."
   ]
  },
  {
   "cell_type": "markdown",
   "metadata": {},
   "source": [
    "***\n",
    "### Kernel\n",
    "***\n",
    "\n",
    "Como  você  viu no  item anterior,  usamos  uma  máscara para calcular  a  derivada  da imagem. Antes de avançar, vamos definir formalmente o que essas máscaras são. Muitas vezes em textos/trabalhos de pesquisa/livros relacionados ao processamento de imagem, usamos os termos máscara, kernel e filtro de forma intercambiável. O que isso essencialmente significa é uma  matriz  quadrada  de  números  que  é  usada  para  calcular  várias  propriedades  ou características   em   uma   imagem.   Alguns   outros exemplos   comuns   de   tais kernels/filtros/máscaras  são  detecção  de  bordas,  desfocagem  de  imagens  e  muito  mais."
   ]
  },
  {
   "cell_type": "markdown",
   "metadata": {},
   "source": [
    "***\n",
    "### Convolução\n",
    "***\n",
    "\n",
    "A convolução no contexto do processamento de imagem é definida como a soma do produto dos elementos correspondentes de uma matriz de kernel para uma matriz de imagem. Vamos  tentar  entender  o  que  isso  significa.  Dado um  kernel  (matriz),  multiplicamos os elementos correspondentes da matriz da imagem e matriz do kernel e somamos os valores multiplicados centrados em torno de um pixel particular na imagem. Em uma nova imagem vazia (preta), definimos o pixel correspondente da imagem original para a soma dos valores multiplicados. Finalmente, executamos esta operação para todos os pixels da imagem original. Esta é a convolução da imagem! Você já fez isso diversas vezes quando estudou Redes Neurais Convolucionais nos capítulos 7 e 8 do curso Deep Learning I. Mas daqui a pouco teremos mais detalhes e exemplos.\n",
    "\n",
    "Existem  pequenas  variações  na  convolução  da  imagem,  dependendo  de  diferentes aplicações. Às vezes, a matriz do kernel é X, Y invertida antes de ser multiplicada pela imagem original. X flip significa virar a ordem das linhas no kernel. Por exemplo, a última linha do kernel se tornará a primeira linha da matriz invertida e a primeira linha se tornará a última linha, e de forma semelhante para todas as outras linhas. Da mesma forma, para Y flip, alternamos as colunas em vez das linhas. A nova matriz do kernel após o flip X e Y é usada para realizar convoluções.  Na  maioria  dos  casos, a  matriz  do  kernel  é  simétrica.  Portanto,  não  há necessidade  de  executar  o  flip  X  ou  Y. Nós  multiplicamos  diretamente  os  elementos correspondentes e os adicionamos. A figura a seguir nos dá um exemplo de uma convolução de imagem:\n",
    "\n",
    "![img](https://user-images.githubusercontent.com/14116020/64469644-1c880600-d10c-11e9-816c-a4e60f8e1605.png)\n",
    "\n",
    "Se pensarmos em uma imagem como uma grande matriz, podemos pensar em um kernel ou convolução,como uma pequena matriz que é usada para desfocagem, nitidez, detecção de bordas e outras funções de processamento de imagem.\n",
    "\n",
    "Essencialmente,  este  minúsculo  kernel  fica  em  cima  da  grande  imagem  e  desliza  da esquerda para a direita e para baixo, aplicando uma operação matemática em cada coordenada (x,  y)  na  imagem  original.  Novamente,  ao  aplicar  kernels  em  imagens,  podemos  desfocar  e aprimorá-las, como se estivéssemos editando uma imagem no Photoshop.\n",
    "\n",
    "Também podemos usar convolução para extrair recursos de imagens e criar sistemas de Deep Learning muito poderosos. Veremos convoluções neste capítulo, mas trataremos disso em detalhes no capítulo dedicado a Redes Neurais Convolucionais"
   ]
  }
 ],
 "metadata": {
  "kernelspec": {
   "display_name": "Python 3",
   "language": "python",
   "name": "python3"
  },
  "language_info": {
   "codemirror_mode": {
    "name": "ipython",
    "version": 3
   },
   "file_extension": ".py",
   "mimetype": "text/x-python",
   "name": "python",
   "nbconvert_exporter": "python",
   "pygments_lexer": "ipython3",
   "version": "3.5.2"
  }
 },
 "nbformat": 4,
 "nbformat_minor": 2
}
