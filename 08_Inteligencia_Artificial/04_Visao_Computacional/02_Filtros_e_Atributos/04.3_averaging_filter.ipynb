{
 "cells": [
  {
   "cell_type": "markdown",
   "metadata": {},
   "source": [
    "## Averaging Filter\n",
    "***"
   ]
  },
  {
   "cell_type": "markdown",
   "metadata": {},
   "source": [
    "Averaging Filter (ou filtragem por média) faz exatamente o que o nome sugere, aplica o kernel a uma área de pixels ao redor de um pixel central, mede todos esses pixels juntos e substitui o pixel central pela média.\n",
    "\n",
    "Ao  tomar  a  média  da  região  em  torno  de  um  pixel,  estamos  suavizando-o  e substituindo-o pelo valor de sua vizinhança local. Isso nos permite reduzir o ruído e o nível de detalhes, simplesmente dependendo da média.\n",
    "\n",
    "Podemos usar kernels para não apenas detecção de bordas e gradientes, mas também para a média!\n",
    "\n",
    "Para realizar o Averaging Filter, estaremos convolvendo a nossa imagem com um filtro normalizado MxN onde tanto M quanto N são números inteiros ímpares.\n",
    "\n",
    "Esse kernel vai deslizar da esquerda para a direita e de cima para baixo para cada pixel em nossa imagem de entrada. O pixel no centro do kernel (e, portanto, a razão pela qual temos que usar um número ímpar, caso contrário, não haveria um verdadeiro \"centro\") é definido como sendo a média de todos os outros pixels que o rodeiam.\n",
    "\n",
    "Uma regra importante: à medida que o tamanho do kernel aumenta, também o valor em que a imagem será desfocada. Simplificando: quanto maior for o seu kernel de suavização, mais sua imagem ficará desfocada.\n",
    "\n",
    "***"
   ]
  },
  {
   "cell_type": "code",
   "execution_count": 1,
   "metadata": {},
   "outputs": [],
   "source": [
    "import numpy as np\n",
    "import cv2"
   ]
  },
  {
   "cell_type": "code",
   "execution_count": 2,
   "metadata": {},
   "outputs": [],
   "source": [
    "# Carrega a imagem original\n",
    "image = cv2.imread(\"imagens/beija-flor.jpg\")\n",
    "cv2.imshow(\"Original\", image)\n",
    "cv2.waitKey(0)\n",
    "cv2.destroyAllWindows()"
   ]
  },
  {
   "cell_type": "markdown",
   "metadata": {},
   "source": [
    "![img](https://user-images.githubusercontent.com/14116020/64470327-ecdefb00-d117-11e9-9742-4dc1ebfe3b81.png)"
   ]
  },
  {
   "cell_type": "code",
   "execution_count": 3,
   "metadata": {},
   "outputs": [],
   "source": [
    "# Define uma lista de kernels\n",
    "kernelSizes = [(3, 3), (9, 9), (15, 15)]"
   ]
  },
  {
   "cell_type": "code",
   "execution_count": 4,
   "metadata": {},
   "outputs": [],
   "source": [
    "# Loop sobre toda a lista de kernels e aplica o Averaging Blur\n",
    "for (kX, kY) in kernelSizes:\n",
    "    blurred = cv2.blur(image, (kX, kY))\n",
    "    cv2.imshow(\"Average ({}, {})\".format(kX, kY), blurred)\n",
    "    cv2.waitKey(0)\n",
    "    cv2.destroyAllWindows()"
   ]
  },
  {
   "cell_type": "markdown",
   "metadata": {},
   "source": [
    "![img](https://user-images.githubusercontent.com/14116020/64470334-08e29c80-d118-11e9-9a7d-52697b6c3e31.png)"
   ]
  }
 ],
 "metadata": {
  "kernelspec": {
   "display_name": "Python 3",
   "language": "python",
   "name": "python3"
  },
  "language_info": {
   "codemirror_mode": {
    "name": "ipython",
    "version": 3
   },
   "file_extension": ".py",
   "mimetype": "text/x-python",
   "name": "python",
   "nbconvert_exporter": "python",
   "pygments_lexer": "ipython3",
   "version": "3.5.2"
  }
 },
 "nbformat": 4,
 "nbformat_minor": 2
}
