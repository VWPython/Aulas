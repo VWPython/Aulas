{
 "cells": [
  {
   "cell_type": "markdown",
   "metadata": {},
   "source": [
    "## Erosão\n",
    "***\n",
    "\n",
    "Erosão, como em geologia, significa a remoção da camada superior de solo ou terra por vento,  água  e  assim  por  diante.  Também  no  processamento  de  imagem,  significa  remover partes da imagem. Como a camada superior do solo começa a se esgotar, aplicar a erosão a uma imagem faz com que os objetos na imagem diminuam, mantendo a estrutura geral e a forma da imagem. Mas por que queremos encolher objetos em uma imagem? Considere um cenário onde você tenha dois objetos em uma imagem e eles estão realmente perto, e você quer  que  seu  algoritmo  presuma  que  eles  são  o  mesmo  objeto. Daí  você  encolhe  os  dois objetos para marcar uma clara distinção entre os dois objetos. Outro caso de uso da erosão é remover o ruído da imagem. Erosão pode não ser a melhor opção para remover todos os tipos de ruído, mas uma imagem próxima mostra um exemplo típico de ruído que pode ser tratado com erosão. A figura a seguir é um exemplo de uma matriz após uma operação de erosão:\n",
    "\n",
    "![img](https://user-images.githubusercontent.com/14116020/64501217-d1e6c500-d296-11e9-99d2-4bc915c09abb.png)\n",
    "\n",
    "Aqui o resultado da erosão (na figura da direita):\n",
    "\n",
    "![img](https://user-images.githubusercontent.com/14116020/64501234-e925b280-d296-11e9-86fb-bf715f7666a6.png)\n",
    "\n",
    "Resumindo, nós removemos os pixels que estão perto do limite de um objeto para remover os detalhes da imagem e realçar algo que queremos.\n",
    "\n",
    "***"
   ]
  },
  {
   "cell_type": "code",
   "execution_count": 1,
   "metadata": {},
   "outputs": [],
   "source": [
    "import cv2"
   ]
  },
  {
   "cell_type": "code",
   "execution_count": 2,
   "metadata": {},
   "outputs": [],
   "source": [
    "image = cv2.imread(\"imagens/beija-flor.jpg\")\n",
    "gray = cv2.cvtColor(image, cv2.COLOR_BGR2GRAY)\n",
    "cv2.imshow(\"Original\", gray)\n",
    "cv2.waitKey(0)\n",
    "cv2.destroyAllWindows()"
   ]
  },
  {
   "cell_type": "markdown",
   "metadata": {},
   "source": [
    "![img](https://user-images.githubusercontent.com/14116020/64501502-0018d480-d298-11e9-86b2-609fa95b5fc8.png)"
   ]
  },
  {
   "cell_type": "code",
   "execution_count": 3,
   "metadata": {},
   "outputs": [],
   "source": [
    "# Aplica a erosão 3 vezes\n",
    "for i in range(0, 3):\n",
    "    eroded = cv2.erode(gray.copy(), None, iterations=i + 1)\n",
    "    cv2.imshow(\"Eroded {} times\".format(i + 1), eroded)\n",
    "    cv2.waitKey(0)\n",
    "    cv2.destroyAllWindows()"
   ]
  },
  {
   "cell_type": "markdown",
   "metadata": {},
   "source": [
    "![img1](https://user-images.githubusercontent.com/14116020/64501548-322a3680-d298-11e9-8704-ceb935985b99.png)"
   ]
  }
 ],
 "metadata": {
  "kernelspec": {
   "display_name": "Python 3",
   "language": "python",
   "name": "python3"
  },
  "language_info": {
   "codemirror_mode": {
    "name": "ipython",
    "version": 3
   },
   "file_extension": ".py",
   "mimetype": "text/x-python",
   "name": "python",
   "nbconvert_exporter": "python",
   "pygments_lexer": "ipython3",
   "version": "3.5.2"
  }
 },
 "nbformat": 4,
 "nbformat_minor": 2
}
