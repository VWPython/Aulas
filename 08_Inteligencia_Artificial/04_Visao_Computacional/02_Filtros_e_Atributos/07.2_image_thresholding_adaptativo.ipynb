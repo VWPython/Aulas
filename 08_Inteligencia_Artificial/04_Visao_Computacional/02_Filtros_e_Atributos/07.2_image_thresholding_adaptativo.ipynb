{
 "cells": [
  {
   "cell_type": "markdown",
   "metadata": {},
   "source": [
    "## Image Thresholding Adaptativo\n",
    "***\n",
    "\n",
    "Ao  invés  de  tentar  limpar  uma  imagem globalmente usando um único valor, ele quebra a imagem para baixo em pedaços menores e limita cada uma dessas peças separadamente e individualmente.\n",
    "\n",
    "***"
   ]
  },
  {
   "cell_type": "code",
   "execution_count": 1,
   "metadata": {},
   "outputs": [],
   "source": [
    "import cv2"
   ]
  },
  {
   "cell_type": "code",
   "execution_count": 2,
   "metadata": {},
   "outputs": [],
   "source": [
    "# Carrega a imagem e converte para Grayscale\n",
    "image = cv2.imread(\"imagens/casa.jpg\")\n",
    "gray = cv2.cvtColor(image, cv2.COLOR_BGR2GRAY)"
   ]
  },
  {
   "cell_type": "code",
   "execution_count": 3,
   "metadata": {},
   "outputs": [],
   "source": [
    "# Aplica o filtro gaussiano\n",
    "# A aplicação do filtro gaussiano ajuda a remover algumas das bordas de alta frequência da imagem \n",
    "# que não nos preocupam e nos permitem obter uma segmentação mais \"limpa\".\n",
    "blurred = cv2.GaussianBlur(gray, (5, 5), 0)\n",
    "cv2.imshow(\"Image\", blurred)\n",
    "cv2.waitKey(0)\n",
    "cv2.destroyAllWindows()"
   ]
  },
  {
   "cell_type": "markdown",
   "metadata": {},
   "source": [
    "![img](https://user-images.githubusercontent.com/14116020/64503441-78d05e80-d2a1-11e9-88d6-edac42b1025f.png)"
   ]
  },
  {
   "cell_type": "code",
   "execution_count": 4,
   "metadata": {},
   "outputs": [],
   "source": [
    "# Neste exemplo vamos examinar um vizinho do pixel e de forma adaptativa\n",
    "# aplicar um limite para cada vizinho. Neste exemplo, iremos\n",
    "# calcular o valor médio da área de vizinhança de 11 pixels\n",
    "# e limitar com base nesse valor. Finalmente, nosso C constante é\n",
    "# subtraído do cálculo médio (neste caso 4)\n",
    "thresh = cv2.adaptiveThreshold(blurred, 255, cv2.ADAPTIVE_THRESH_MEAN_C, cv2.THRESH_BINARY_INV, 11, 4)\n",
    "cv2.imshow(\"Mean Threshold\", thresh)\n",
    "cv2.waitKey(0)\n",
    "cv2.destroyAllWindows()"
   ]
  },
  {
   "cell_type": "markdown",
   "metadata": {},
   "source": [
    "![img](https://user-images.githubusercontent.com/14116020/64503551-e8464e00-d2a1-11e9-81a5-82d67f5b4b2b.png)"
   ]
  },
  {
   "cell_type": "code",
   "execution_count": 5,
   "metadata": {},
   "outputs": [],
   "source": [
    "# Também podemos aplicar o limiar gaussiano da mesma maneira\n",
    "thresh = cv2.adaptiveThreshold(blurred, 255, cv2.ADAPTIVE_THRESH_GAUSSIAN_C, cv2.THRESH_BINARY_INV, 15, 3)\n",
    "cv2.imshow(\"Gaussian Threshold\", thresh)\n",
    "cv2.waitKey(0)\n",
    "cv2.destroyAllWindows()"
   ]
  },
  {
   "cell_type": "markdown",
   "metadata": {},
   "source": [
    "![img](https://user-images.githubusercontent.com/14116020/64503565-fc8a4b00-d2a1-11e9-8067-33f989caf5b6.png)"
   ]
  }
 ],
 "metadata": {
  "kernelspec": {
   "display_name": "Python 3",
   "language": "python",
   "name": "python3"
  },
  "language_info": {
   "codemirror_mode": {
    "name": "ipython",
    "version": 3
   },
   "file_extension": ".py",
   "mimetype": "text/x-python",
   "name": "python",
   "nbconvert_exporter": "python",
   "pygments_lexer": "ipython3",
   "version": "3.5.2"
  }
 },
 "nbformat": 4,
 "nbformat_minor": 2
}
