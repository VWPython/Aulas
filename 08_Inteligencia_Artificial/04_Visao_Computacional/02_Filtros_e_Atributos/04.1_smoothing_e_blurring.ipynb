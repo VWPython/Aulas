{
 "cells": [
  {
   "cell_type": "markdown",
   "metadata": {},
   "source": [
    "## Smoothing e Blurring\n",
    "***"
   ]
  },
  {
   "cell_type": "markdown",
   "metadata": {},
   "source": [
    "Se você já tirou foto alguma vez na vida, tenho certeza de que você sabe o que é uma foto “embaçada”. É o que acontece quando sua câmera tira uma foto fora de foco. As regiões mais nítidas na imagem perdem seus detalhes. O objetivo aqui é usar um filtro para reduzir a quantidade de ruído e detalhes em uma imagem.\n",
    "\n",
    "Praticamente,  isso  significa  que  cada  pixel  na  imagem  é  misturado  com  suas intensidades de pixel mais próximos. Essa \"mistura\" de pixels em uma região torna-se nosso pixel borrado.\n",
    "\n",
    "Embora este efeito seja geralmente indesejado em nossas fotografias, na verdade, é bastante  útil  ao  executar  tarefas  de  processamento  de  imagem.  De  fato,  o  alisamento (Smoothing) e o desfoque (Blurring) é uma das etapas de pré-processamento mais comuns na visão computacional e no processamento de imagem.\n",
    "\n",
    "Nós  também  aplicamos  alisamento  para  nos  ajudar  a  encontrar  nosso  marcador  ao medir a distância de um objeto à nossa câmera. Em ambos os exemplos, os detalhes menores na imagem são suavizados e nos resta mais dos aspectos estruturais da imagem.\n",
    "\n",
    "Como veremos ao longo do curso, muitas funções de processamento de imagem e visão computacional,  como  a  detecção  de  borda,  funcionam  melhor  se  a  imagem  for  alisada  ou borrada primeiro.\n",
    "\n",
    "Smoothing e blurring (Suavizar  e  desfocar)  é  uma  das  etapas  de  pré-processamento mais importantes em toda a visão computacional e processamento de imagem. Ao suavizar uma imagem antes de aplicar técnicas tais como detecção de borda ou limiar, somos capazes de  reduzir  a  quantidade  de  conteúdo  de  alta  frequência,  como  ruído  e  bordas  (isto  é,  o \"detalhe\" de uma imagem). Embora isso possa parecer contra intuitivo, ao reduzir os detalhes em uma imagem, podemos encontrar objetos nos quais estamos realmente interessados. Além disso, isso nos permite focar os objetos estruturais maiores na imagem.\n",
    "\n",
    "As duas principais técnicas de Smoothing e Blurring são o **Median Filter** e o **Gaussian Blur**. Vamos estudá-las na sequência."
   ]
  }
 ],
 "metadata": {
  "kernelspec": {
   "display_name": "Python 3",
   "language": "python",
   "name": "python3"
  },
  "language_info": {
   "codemirror_mode": {
    "name": "ipython",
    "version": 3
   },
   "file_extension": ".py",
   "mimetype": "text/x-python",
   "name": "python",
   "nbconvert_exporter": "python",
   "pygments_lexer": "ipython3",
   "version": "3.5.2"
  }
 },
 "nbformat": 4,
 "nbformat_minor": 2
}
