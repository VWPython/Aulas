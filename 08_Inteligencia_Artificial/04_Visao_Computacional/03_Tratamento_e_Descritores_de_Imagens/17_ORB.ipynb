{
 "cells": [
  {
   "cell_type": "markdown",
   "metadata": {},
   "source": [
    "## Oriented FAST and Rotated BRIEF (ORB)\n",
    "***\n",
    "\n",
    "ORB, assim como o BRISK, é uma extensão do detector de ponto-chave FAST. Ele, também, utiliza uma pirâmide de imagens para dar conta de pontos-chave de escala múltipla. No entanto, (e ao contrário do BRISK), a ORB adiciona invariância de rotação também.\n",
    "\n",
    "O detector de ponto-chave ORB, introduzido por Rublee et al. Em seu artigo de 2011, ORB: Uma alternativa eficiente para o SIFT ou SURF, consiste em três etapas principais.\n",
    "\n",
    "O primeiro passo é calcular o detector de ponto-chave FAST em várias escalas da imagem, como no detector de ponto-chave BRISK. É utilizada uma vizinhança circular de 16 pixels, onde 9 pixels contíguos devem ser todos menores ou maiores que o pixel central. Se este caso contíguo for mantido, o pixel central é marcado como um ponto-chave.\n",
    "\n",
    "Então, um segundo passo é introduzido para classificar os pontos-chave. Todos os pontos-chave reunidos em todas as escalas da pirâmide de imagens são classificados de acordo com o ponto crítico de Harris. Um máximo de n = 500 pontos-chave é mantido, e o resto é descartado.\n",
    "\n",
    "Finalmente, a invariância de rotação é adicionada na terceira etapa do ORB. Aqui, é examinada a região em torno do centro do ponto chave - este processo de medição da orientação do ponto-chave é chamado de centro de intensidade\n",
    "\n",
    "***"
   ]
  },
  {
   "cell_type": "code",
   "execution_count": null,
   "metadata": {},
   "outputs": [],
   "source": [
    "from matplotlib import pyplot as plt\n",
    "import numpy as np\n",
    "import cv2\n",
    "\n",
    "\n",
    "def show(img, title=\"\"):\n",
    "    \"\"\"\n",
    "    Redimensionar a imagem e mostrar no codigo.\n",
    "    \"\"\"\n",
    "\n",
    "    img = cv2.cvtColor(img, cv2.COLOR_BGR2RGB)\n",
    "    plt.rcParams['figure.figsize'] = (50, 50)\n",
    "    plt.title(title, fontdict={\"fontsize\": 100})\n",
    "    plt.imshow(img)\n",
    "    plt.axis(\"off\")\n",
    "    plt.show()"
   ]
  },
  {
   "cell_type": "code",
   "execution_count": null,
   "metadata": {},
   "outputs": [],
   "source": [
    "# Carrega a imagem e converte para Grayscale\n",
    "input_image = cv2.imread('imagens/plataforma.png')\n",
    "gray_image = cv2.cvtColor(input_image, cv2.COLOR_BGR2GRAY)"
   ]
  },
  {
   "cell_type": "code",
   "execution_count": null,
   "metadata": {},
   "outputs": [],
   "source": [
    "# Cria o detector ORB\n",
    "orb = cv2.ORB_create()"
   ]
  },
  {
   "cell_type": "code",
   "execution_count": null,
   "metadata": {},
   "outputs": [],
   "source": [
    "# Encontra os keypoints\n",
    "keypoints = orb.detect(gray_image, None)"
   ]
  },
  {
   "cell_type": "code",
   "execution_count": null,
   "metadata": {},
   "outputs": [],
   "source": [
    "# Calcula keypoints e descritores\n",
    "keypoints, descriptors = orb.compute(gray_image, keypoints)"
   ]
  },
  {
   "cell_type": "code",
   "execution_count": null,
   "metadata": {},
   "outputs": [],
   "source": [
    "# Desenha os keypoints na imagem (da error!)\n",
    "final_keypoints = cv2.drawKeypoints(input_image, keypoints, gray_image, color=(0,255,0), flags=0)"
   ]
  },
  {
   "cell_type": "code",
   "execution_count": null,
   "metadata": {},
   "outputs": [],
   "source": [
    "show(final_keypoints, 'ORB keypoints')"
   ]
  },
  {
   "cell_type": "markdown",
   "metadata": {},
   "source": [
    "![img](https://user-images.githubusercontent.com/14116020/65012399-93cc4f80-d8ed-11e9-8e1d-86daece55177.png)"
   ]
  }
 ],
 "metadata": {
  "kernelspec": {
   "display_name": "Python 3",
   "language": "python",
   "name": "python3"
  },
  "language_info": {
   "codemirror_mode": {
    "name": "ipython",
    "version": 3
   },
   "file_extension": ".py",
   "mimetype": "text/x-python",
   "name": "python",
   "nbconvert_exporter": "python",
   "pygments_lexer": "ipython3",
   "version": "3.5.2"
  }
 },
 "nbformat": 4,
 "nbformat_minor": 2
}
