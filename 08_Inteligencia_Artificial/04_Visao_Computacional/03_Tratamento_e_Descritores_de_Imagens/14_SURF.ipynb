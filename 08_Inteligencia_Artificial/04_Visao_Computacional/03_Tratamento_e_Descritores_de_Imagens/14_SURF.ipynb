{
 "cells": [
  {
   "cell_type": "markdown",
   "metadata": {},
   "source": [
    "## Speeded Up Robust Features - SURF\n",
    "***\n",
    "\n",
    "Embora o SIFT seja agradável e útil, é computacionalmente intensivo. Isso significa que é lento e teremos dificuldade em implementar um sistema em tempo real se ele usar o SIFT. Precisamos de um sistema que seja rápido e tenha todas as vantagens do SIFT. O SIFT usa a diferença gaussiana para construir a pirâmide e esse processo é lento. Então, para superar isso, o  SURF  usa  um  filtro de  caixa  simples  para  aproximação  gaussiana.  O  bom  é  que  isso  é realmente  fácil  de  calcular  e  é  razoavelmente  rápido.  Você  pode  consultar  o  documento original em http://www.vision.ee.ethz.ch/~surf/eccv06.pdf\n",
    "\n",
    "É importante saber que o SURF (assim como o SIFT) também é patenteado e não está disponível  gratuitamente  para  uso  comercial.  Se  você  executar  o  detector  de  pontos-chave SURF na imagem anterior, você verá algo como o seguinte:\n",
    "\n",
    "![img](https://user-images.githubusercontent.com/14116020/65011065-7ba60180-d8e8-11e9-8aca-36b6b171a730.png)\n",
    "\n",
    "**Obs**:  O SURF não  pode  ser  usado  livremente  para  fins  comerciais  e  não  está presente  na instalação padrão do OpenCV, sendo necessário a instalação do pacote opencv-contrib com módulos  extras. Seu  uso  para  fins  comerciais  requer  autorização  dos  mantenedores  do algoritmo.\n",
    "\n",
    "***"
   ]
  },
  {
   "cell_type": "code",
   "execution_count": null,
   "metadata": {},
   "outputs": [],
   "source": [
    "from matplotlib import pyplot as plt\n",
    "import numpy as np\n",
    "import cv2\n",
    "\n",
    "\n",
    "def show(img, title=\"\"):\n",
    "    \"\"\"\n",
    "    Redimensionar a imagem e mostrar no codigo.\n",
    "    \"\"\"\n",
    "\n",
    "    img = cv2.cvtColor(img, cv2.COLOR_BGR2RGB)\n",
    "    plt.rcParams['figure.figsize'] = (50, 50)\n",
    "    plt.title(title, fontdict={\"fontsize\": 100})\n",
    "    plt.imshow(img)\n",
    "    plt.axis(\"off\")\n",
    "    plt.show()"
   ]
  },
  {
   "cell_type": "code",
   "execution_count": null,
   "metadata": {},
   "outputs": [],
   "source": [
    "# Carrega a imagem e converte para Grayscale\n",
    "img = cv2.imread('imagens/plataforma.png')\n",
    "gray= cv2.cvtColor(img, cv2.COLOR_BGR2GRAY)"
   ]
  },
  {
   "cell_type": "code",
   "execution_count": null,
   "metadata": {},
   "outputs": [],
   "source": [
    "# Detector SURF (qtd pontos de interesse = 20)\n",
    "surf = cv2.xfeatures2d.SURF_create(20)"
   ]
  },
  {
   "cell_type": "code",
   "execution_count": null,
   "metadata": {},
   "outputs": [],
   "source": [
    "# Computando os keypoints\n",
    "kp, des = surf.detectAndCompute(gray, None)\n",
    "print(\"Total de keypoints: {}, Shape dos descriptors: {}\".format(len(kp), des.shape))"
   ]
  },
  {
   "cell_type": "code",
   "execution_count": null,
   "metadata": {},
   "outputs": [],
   "source": [
    "# Desenha os keypoints na imagem\n",
    "img = cv2.drawKeypoints(img, kp, None, (0,255,0), 4)"
   ]
  },
  {
   "cell_type": "code",
   "execution_count": null,
   "metadata": {},
   "outputs": [],
   "source": [
    "# Print\n",
    "show(img, 'SURF Features')"
   ]
  },
  {
   "cell_type": "markdown",
   "metadata": {},
   "source": [
    "![img](https://user-images.githubusercontent.com/14116020/65011065-7ba60180-d8e8-11e9-8aca-36b6b171a730.png)"
   ]
  }
 ],
 "metadata": {
  "kernelspec": {
   "display_name": "Python 3",
   "language": "python",
   "name": "python3"
  },
  "language_info": {
   "codemirror_mode": {
    "name": "ipython",
    "version": 3
   },
   "file_extension": ".py",
   "mimetype": "text/x-python",
   "name": "python",
   "nbconvert_exporter": "python",
   "pygments_lexer": "ipython3",
   "version": "3.5.2"
  }
 },
 "nbformat": 4,
 "nbformat_minor": 2
}
