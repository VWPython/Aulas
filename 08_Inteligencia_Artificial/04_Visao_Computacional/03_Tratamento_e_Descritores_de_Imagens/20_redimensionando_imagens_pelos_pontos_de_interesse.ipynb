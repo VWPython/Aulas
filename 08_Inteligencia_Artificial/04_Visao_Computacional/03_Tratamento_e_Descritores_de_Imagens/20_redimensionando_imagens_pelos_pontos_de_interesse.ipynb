{
 "cells": [
  {
   "attachments": {},
   "cell_type": "markdown",
   "metadata": {},
   "source": [
    "## Redimensionando imagens pelos pontos de interesse\n",
    "***\n",
    "\n",
    "Redimensionamento de Imagens com Base no Conteúdo (Seam Carving)\n",
    "\n",
    "* http://perso.crans.org/frenoy/matlab2012/seamcarving.pdf\n",
    "* https://www.youtube.com/watch?v=qadw0BRKeMk\n",
    "* http://eric-yuan.me/seam-carving/\n",
    "\n",
    "Introduzido pela Avidan e Shimar em 2007, o algoritmo Seam Carving é usado para redimensionar uma imagem removendo / adicionando \"costuras\" (seams) com pouca energia. As costuras são definidas como pixels conectados que fluem da esquerda para a direita ou de cima para baixo, desde que atravessem toda a largura / altura da imagem.\n",
    "\n",
    "O algoritmo Seam Carving funciona ao encontrar pixels conectados chamados costuras com baixa energia (ou seja, menos importante) que atravessam toda a imagem da esquerda para a direita ou de cima para baixo. Estas costuras são então removidas da imagem original, permitindo-nos redimensionar a imagem,  preservando as regiões mais salientes (o algoritmo original também suporta a adição de costuras, o que nos permite aumentar o tamanho da imagem também).\n",
    "\n",
    "Tenha em mente que a finalidade do Seam Carving é preservar as regiões mais salientes (ou seja, \"interessantes\") de uma imagem enquanto ainda redimensiona a imagem em si. Métodos tradicionais para redimensionar imagens não se preocupam em determinar as partes interessantes de uma imagem.  O Seam Carving aplica, em vez disso, heurísticas / trajetórias derivadas do mapa de energia para determinar quais regiões da imagem podem ser removidas / duplicadas para garantir que todas as regiões \"interessantes\" da imagem sejam preservadas e isso é feito de forma esteticamente agradável.\n",
    "\n",
    "![image](https://user-images.githubusercontent.com/14116020/72210719-92c3bd00-349e-11ea-88a3-d6452f7ea9c0.png)\n",
    "![image](https://user-images.githubusercontent.com/14116020/72210723-9eaf7f00-349e-11ea-8f4c-6bffc2c6e95b.png)\n"
   ]
  },
  {
   "cell_type": "markdown",
   "metadata": {},
   "source": [
    "***"
   ]
  },
  {
   "cell_type": "code",
   "execution_count": null,
   "metadata": {},
   "outputs": [],
   "source": [
    "from matplotlib import pyplot as plt\n",
    "from skimage import transform\n",
    "from skimage import filters\n",
    "import cv2\n",
    "\n",
    "\n",
    "def show(img, title=\"\"):\n",
    "    \"\"\"\n",
    "    Redimensionar a imagem e mostrar no codigo.\n",
    "    \"\"\"\n",
    "\n",
    "    img = cv2.cvtColor(img, cv2.COLOR_BGR2RGB)\n",
    "    plt.rcParams['figure.figsize'] = (50, 50)\n",
    "    plt.title(title, fontdict={\"fontsize\": 100})\n",
    "    plt.imshow(img)\n",
    "    plt.axis(\"off\")\n",
    "    plt.show()"
   ]
  },
  {
   "cell_type": "code",
   "execution_count": null,
   "metadata": {},
   "outputs": [],
   "source": [
    "image = cv2.imread('imagens/montanha.jpg', 0)\n",
    "show(image, \"Montanha\")"
   ]
  },
  {
   "cell_type": "code",
   "execution_count": null,
   "metadata": {},
   "outputs": [],
   "source": [
    "# Calcula a representação de magnitude do gradiente Sobel da imagem\n",
    "# isso servirá como nossa entrada do \"mapa de energia\" para o algoritmo Seam Carving\n",
    "mag = filters.sobel(image.astype(\"float\"))"
   ]
  },
  {
   "cell_type": "code",
   "execution_count": null,
   "metadata": {},
   "outputs": [],
   "source": [
    "direction = \"vertical\"\n",
    "\n",
    "# Loop pelo número de seams para remover\n",
    "for numSeams in range(20, 180, 20):\n",
    "    # Executa o Seam Carving, remove o número desejado de frames da imagem - os cortes 'verticais' irão alterar a largura da imagem enquanto os \n",
    "    # cortes 'horizontais' mudarão a altura da imagem\n",
    "    carved = transform.seam_carve(image, mag, direction, numSeams)\n",
    "    print(\"Removendo {} seams; novo tamanho: \"\n",
    "        \"w={}, h={}\".format(numSeams, carved.shape[1],\n",
    "            carved.shape[0]))\n",
    " \n",
    "    # Output\n",
    "    show(carved, \"Carved\")"
   ]
  }
 ],
 "metadata": {
  "kernelspec": {
   "display_name": "Python 3",
   "language": "python",
   "name": "python3"
  },
  "language_info": {
   "codemirror_mode": {
    "name": "ipython",
    "version": 3
   },
   "file_extension": ".py",
   "mimetype": "text/x-python",
   "name": "python",
   "nbconvert_exporter": "python",
   "pygments_lexer": "ipython3",
   "version": "3.7.3"
  }
 },
 "nbformat": 4,
 "nbformat_minor": 2
}
