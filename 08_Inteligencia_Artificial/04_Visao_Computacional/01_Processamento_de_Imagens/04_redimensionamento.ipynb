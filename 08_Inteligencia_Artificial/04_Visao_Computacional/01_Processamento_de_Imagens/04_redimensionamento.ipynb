{
 "cells": [
  {
   "cell_type": "markdown",
   "metadata": {},
   "source": [
    "## Redimensionamento da imagem\n",
    "***\n",
    "### O que é interpolação?\n",
    "***\n",
    "\n",
    "Redimensionamento é o processo de aumentar ou diminuir o tamanho de uma imagem em termos de largura e altura.\n",
    "\n",
    "Ao redimensionar uma imagem, é importante ter em mente o “aspect ratio”,que é a proporção da largura da imagem coma altura da imagem. Ignorar o aspect ratio pode levar a imagens redimensionadas que parecem comprimidas e distorcidas.\n",
    "\n",
    "Em  geral,  você  quer  preservar o aspect  ratio de suas  imagens  ao redimensionar, especialmente se essas imagens forem apresentadas como saída para o usuário. As exceções com  certeza  aplicam-se,  no  entanto, ao  explorar  técnicas  de  aprendizado  de  máquinas, veremos que nossos algoritmos muitas vezes ignoram o aspect ratio de uma imagem.\n",
    "\n",
    "Também  precisamos considerar o  método  de  interpolação  da  nossa  função  de redimensionamento. A definição formal de interpolação é \"o método de construção de novos pontos de dados dentro do intervalo de conjuntos discretos de pontos conhecidos\". Nesse caso, os \"pontos conhecidos\" são os pixels da nossa imagem original. E o objetivo de uma função de interpolação é obter essas regiões de pixels e usá-las para aumentar ou diminuir o tamanho da imagem.\n",
    "\n",
    "Em  geral,  é  muito  mais  benéfico  (e  visualmente  atraente)  diminuir  o  tamanho  da imagem. Isso ocorre porque a função de interpolação simplesmente tem que remover pixels de uma  imagem.  Por  outro  lado,  se  nós  aumentássemos  o  tamanho  da  imagem,  a  função  de interpolação teria que \"preencher as lacunas\" entre pixels que anteriormente não existiam.\n",
    "\n",
    "Normalmente, você estará diminuindo o tamanho de uma imagem em vez de aumentar (as exceções existem, é claro). Ao diminuir o tamanho da imagem, temos menos pixels para processar  (para  não  mencionar  menos  \"ruído\"  para  lidar),  o  que  leva  a  algoritmos  de processamento de imagem mais rápidos e precisos.\n",
    "\n",
    "***\n",
    "### Métodos de Interpolação com OpenCV\n",
    "***\n",
    "\n",
    "Ao trabalhar com redimensionamento com OpenCV, usamos apenas o método **cv2.INTER_AREA** para  interpolação. O objetivo  de  uma  função  de  interpolação  é examinar regiões de  pixels  e  usar  essas  regiões para aumentar  ou  diminuir  opticamente  o tamanho da imagem sem introduzir distorções (ou pelo menos tão poucas distorções quanto possível). Vejamos alguns métodos de interpolação com OpenCV.\n",
    "\n",
    "O  primeiro  método  é  a  interpolação  vizinha  mais  próxima (ou nearest  neighbor interpolation), especificada pelo sinalizador **cv2.INTER_NEAREST**. Este método é a abordagem mais simples para a interpolação. Em vez de calcular médias ponderadas de pixels vizinhos ou aplicar regras complicadas, esse método simplesmente encontra o pixel vizinho mais próximo e assume  o  valor  de  intensidade.  Embora  este  método  seja  rápido  e  simples,  a  qualidade  da imagem redimensionada tende a ser bastante pobre.\n",
    "\n",
    "Em segundo lugar, temos o método **cv2.INTER_LINEAR** com interpolação bilinear. Este é o método que o OpenCV usa por padrão ao redimensionar imagens. A ideia geral por trás da interpolação  bilinear  pode  ser  encontrada  em  qualquer  livro  de  matemática do  ensino fundamental, na forma: $y = mx + b$.\n",
    "\n",
    "Obviamente, estamos generalizando um  pouco,  mas  o ponto  chave é  que  estamos fazendo mais do que simplesmente encontrar o pixel \"mais próximo\" e assumindo o valor dele (como na interpolação vizinha mais próxima), agora estamos obtendo pixels vizinhos e usando essa vizinhança para realmente calcular o valor interpolado (em vez de apenas assumir o valor de pixel mais próximo).\n",
    "\n",
    "Em  terceiro  lugar,  temos  o  método  de  interpolação **cv2.INTER_AREA**. Há pouca documentação sobre esse método, mas ele é muito parecido com a \"interpolação do vizinho mais próximo\".\n",
    "\n",
    "Finalmente, temos **cv2.INTER_CUBIC** e **cv2.INTER_LANCZOS4**. Esses métodos são mais lentos (uma vez que eles não usam mais interpolação linear simples e, em vez disso, usam splines)  e  utilizam  interpolação  bicúbica  em regiões de  pixels  quadrados.  O  método cv2.INTER_CUBIC  opera  em  um  vizinho  de  4x4  pixels  e  cv2.INTER_LANCZOS4  em  uma vizinhança de 8x8 pixels. Em geral, raramente vemoso método cv2.INTER_LANCZOS4 usado na prática."
   ]
  },
  {
   "cell_type": "markdown",
   "metadata": {},
   "source": [
    "***\n",
    "### INTER_AREA\n",
    "***"
   ]
  },
  {
   "cell_type": "code",
   "execution_count": 1,
   "metadata": {},
   "outputs": [],
   "source": [
    "import cv2 as cv"
   ]
  },
  {
   "cell_type": "code",
   "execution_count": 2,
   "metadata": {},
   "outputs": [],
   "source": [
    "imagem = cv.imread(\"./imagens/familia.jpg\")\n",
    "altura, largura = imagem.shape[:2]"
   ]
  },
  {
   "cell_type": "code",
   "execution_count": 3,
   "metadata": {},
   "outputs": [],
   "source": [
    "def mostrar_imagem_em_janela(img):\n",
    "    cv.imshow(\"Imagem\", img)\n",
    "    cv.waitKey(0) # Espera a tecla de algum botão\n",
    "    cv.destroyAllWindows() # Remove o objeto"
   ]
  },
  {
   "cell_type": "markdown",
   "metadata": {},
   "source": [
    "***"
   ]
  },
  {
   "cell_type": "code",
   "execution_count": 4,
   "metadata": {},
   "outputs": [],
   "source": [
    "# Se quisermos ajustar a altura é só aplicarmos o mesmo conceito novamente\n",
    "# mas calcularmos a relação com base na altura\n",
    "razao = 150.0 / altura\n",
    "dimensao = (int(largura * razao), 150)"
   ]
  },
  {
   "cell_type": "code",
   "execution_count": 5,
   "metadata": {},
   "outputs": [],
   "source": [
    "# Redimensionar e mostrar a imagem\n",
    "redimensionado = cv.resize(imagem, dimensao, interpolation=cv.INTER_AREA)\n",
    "mostrar_imagem_em_janela(redimensionado)"
   ]
  },
  {
   "cell_type": "markdown",
   "metadata": {},
   "source": [
    "***"
   ]
  },
  {
   "cell_type": "code",
   "execution_count": 6,
   "metadata": {},
   "outputs": [],
   "source": [
    "# Precisamos ter em mente o \"aspect ratio\" para que a imagem não pareça distorcida.\n",
    "# Portanto, calculamos a proporção da nova imagem para a imagem antiga.\n",
    "# Vamos fazer a nossa nova imagem ter uma largura de 150 pixel\n",
    "razao = 450.0 / largura\n",
    "dimensao = (450, int(altura * razao))"
   ]
  },
  {
   "cell_type": "code",
   "execution_count": 7,
   "metadata": {},
   "outputs": [],
   "source": [
    "# Redimensionar e mostrar a imagem\n",
    "redimensionado = cv.resize(imagem, dimensao, interpolation=cv.INTER_AREA)\n",
    "mostrar_imagem_em_janela(redimensionado)"
   ]
  },
  {
   "cell_type": "markdown",
   "metadata": {},
   "source": [
    "***\n",
    "### INTER_NEAREST\n",
    "***"
   ]
  },
  {
   "cell_type": "code",
   "execution_count": 8,
   "metadata": {},
   "outputs": [],
   "source": [
    "# Redimensionar e mostrar a imagem\n",
    "redimensionado = cv.resize(imagem, dimensao, interpolation=cv.INTER_NEAREST)\n",
    "mostrar_imagem_em_janela(redimensionado)"
   ]
  },
  {
   "cell_type": "markdown",
   "metadata": {},
   "source": [
    "***\n",
    "### INTER_LINEAR\n",
    "***"
   ]
  },
  {
   "cell_type": "code",
   "execution_count": 9,
   "metadata": {},
   "outputs": [],
   "source": [
    "# Redimensionar e mostrar a imagem\n",
    "redimensionado = cv.resize(imagem, dimensao, interpolation=cv.INTER_LINEAR)\n",
    "mostrar_imagem_em_janela(redimensionado)"
   ]
  },
  {
   "cell_type": "markdown",
   "metadata": {},
   "source": [
    "***\n",
    "### INTER_CUBIC\n",
    "***"
   ]
  },
  {
   "cell_type": "code",
   "execution_count": 10,
   "metadata": {},
   "outputs": [],
   "source": [
    "# Redimensionar e mostrar a imagem\n",
    "redimensionado = cv.resize(imagem, dimensao, interpolation=cv.INTER_CUBIC)\n",
    "mostrar_imagem_em_janela(redimensionado)"
   ]
  },
  {
   "cell_type": "markdown",
   "metadata": {},
   "source": [
    "***\n",
    "### INTER_LANCZOS4\n",
    "***"
   ]
  },
  {
   "cell_type": "code",
   "execution_count": 11,
   "metadata": {},
   "outputs": [],
   "source": [
    "# Redimensionar e mostrar a imagem\n",
    "redimensionado = cv.resize(imagem, dimensao, interpolation=cv.INTER_LANCZOS4)\n",
    "mostrar_imagem_em_janela(redimensionado)"
   ]
  }
 ],
 "metadata": {
  "kernelspec": {
   "display_name": "Python 3",
   "language": "python",
   "name": "python3"
  },
  "language_info": {
   "codemirror_mode": {
    "name": "ipython",
    "version": 3
   },
   "file_extension": ".py",
   "mimetype": "text/x-python",
   "name": "python",
   "nbconvert_exporter": "python",
   "pygments_lexer": "ipython3",
   "version": "3.5.2"
  }
 },
 "nbformat": 4,
 "nbformat_minor": 2
}
