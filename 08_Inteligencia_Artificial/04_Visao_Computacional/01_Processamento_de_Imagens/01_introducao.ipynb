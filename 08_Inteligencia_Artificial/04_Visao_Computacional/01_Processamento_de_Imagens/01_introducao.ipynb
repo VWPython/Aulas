{
 "cells": [
  {
   "cell_type": "markdown",
   "metadata": {},
   "source": [
    "## Introdução ao processamento de imagem\n",
    "***"
   ]
  },
  {
   "cell_type": "markdown",
   "metadata": {},
   "source": [
    "Processamento de imagem é o processo onde a entrada do sistema é uma imagem e a saída é um conjunto de valores númericos que podem ou não compor uma outra imagem.\n",
    "\n",
    "A visão computacional procura emular a visão humana, ou seja, possui como entrada uma imagem e a saída é uma interpretação da imagem como um todo ou parcial e os processos de visão computacional geralmente se iniciam por uma imagem.\n",
    "\n",
    "O caminho do processamento de imagens para a visão computacional é dividido em 3 níveis:\n",
    "\n",
    "* **Baixo nível**: São operações primitivas como redução de ruídos, melhorias no contraste de uma imagem e etc...\n",
    "\n",
    "\n",
    "* **Nível médio**: São operações do tipo segmentação (particionamento da imagem em regiões) e classificação (reconhecimento dos objetos em uma imagem)\n",
    "\n",
    "\n",
    "* **Alto nível**: São tarefas de cognição associadas com a visão humana e que podem ser abordadas com o uso de redes neurais convolucionais."
   ]
  },
  {
   "cell_type": "markdown",
   "metadata": {},
   "source": [
    "***\n",
    "### O que é uma imagem\n",
    "***"
   ]
  },
  {
   "cell_type": "markdown",
   "metadata": {},
   "source": [
    "Antes  de  mergulhar  diretamente  no  processamento  de  imagens,  vamos  entender  as imagens primeiro. Uma imagem, como os humanos veem, é uma grade bidimensional com cada célula na grade preenchida com um valor de cor, ou seja, um valor de pixel.\n",
    "\n",
    "Cada célula da grade é formalmente chamada de elemento de imagem (comumente abreviado para pixel). Um computador também vê a imagem da mesma maneira. Uma imagem em um computador é uma matriz bidimensional de números com cada célula na matriz armazenando o(s) valor(es) de pixel correspondente na imagem. A figura a seguir é um exemplo de uma matriz de imagem. A matriz da porção da imagem na caixa vermelha é mostrada à direita.\n",
    "\n",
    "![img](https://user-images.githubusercontent.com/14116020/56107354-22423c80-5f1c-11e9-8d43-0fbd9ede95c7.png)\n",
    "\n",
    "Processamento de imagens é o campo de estudo e análise de imagens. Há uma grande quantidade de informações escondidas em uma imagem que inconscientemente processamos. Por exemplo, quais são os diferentes objetos na imagem? Existe um carro na imagem? Quais são as semelhanças entre duas imagens? As respostas a essas perguntas são simples para nós humanos,  mas  para  um  computador,  responder  a  tais  perguntas  é  extremamente  difícil.\n",
    "\n",
    "Podemos implementar algoritmos que podem nos ajudar a responder algumas dessas questões. A essência do processamento de imagem é usar as diferentes propriedades de uma imagem, como cor, correlações entre diferentes pixels, posição de objetos e outros detalhes finos para extrair  informações  significativas,  como  bordas,  objetos  e  contornos,  que  são  formalmente chamados  de recursos da imagem.\n",
    "\n",
    "Esses  recursos  podem  então  ser  usados em  diferentes aplicativos, para segmentação de imagens médicas, sistemas de segurança, serviços de mídia social e carros self-driving, entre diversas outras aplicações comerciais.\n",
    "\n",
    "E o que são pixels? Os pixels são os blocos de construção brutos de uma imagem. Toda imagem consiste em um conjunto de pixels. Não existe uma granularidade mais fina do que o pixel.\n",
    "\n",
    "Normalmente, um pixel é considerado a \"cor\" ou a \"intensidade\" da luz que aparece em um determinado lugar em nossa imagem. Se pensarmos em uma imagem como uma grade, cada quadrado na grade contém um único pixel. A maioria dos pixels é representada de duas maneiras: escala de cinza e cor. Em uma imagem em escala de cinza, cada pixel tem um valor entre 0 e 255, onde zero corresponde a \"preto\" e 255 sendo \"branco\". Os valores entre 0 e 255 são tons variados de cinza, onde os valores mais próximos de 0 são mais escuros e os valores mais próximos 255 são mais leves.\n",
    "\n",
    "![img](https://user-images.githubusercontent.com/14116020/56107431-9977d080-5f1c-11e9-9469-ab77a24ebb12.png)\n",
    "\n",
    "Para facilitar o entendimento podemos pensar em uma planilha eletrônica, com linhas e colunas, portanto, uma matriz de 2 dimensões. Cada célula dessa matriz é um pixel, que no caso de imagens preto e branco possuem um valor de 0 a 255, sendo 0 para preto e 255 para branco. Portanto, cada célula contém um inteiro de 8 bits (sem sinal) que em Python é definido por “uint8” que é um **unsigned integer** de 8 bits.\n",
    "\n",
    "No caso de imagens preto e braco elas são compostas de apenas uma matriz de duas dimensões. Já para imagens coloridas temos três dessas matrizes de duas dimensões cada uma representando uma das cores do sistema RGB. Portanto, cada pixel é formado de uma tupla de 3  inteiros  de  8  bits  sem  sinal  no  sistema  (R,G,B)  sendo  que  (0,0,0)  representa  o  preto, (255,255,255) o branco. Nesse sentido, as cores mais comuns são:\n",
    "\n",
    "* Branco - RGB (255,255,255)\n",
    "* Azul - RGB (0,0,255)\n",
    "* Vermelho - RGB (255,0,0)\n",
    "* Verde - RGB (0,255,0)\n",
    "* Amarelo - RGB (255,255,0)\n",
    "* Magenta - RGB (255,0,255)\n",
    "* Ciano - RGB (0,255,255)\n",
    "* Preto - RGB (0,0,0)\n",
    "\n",
    "Os pixels de cor, no entanto, são normalmente representados no espaço de cores RGB - um valor para o componente vermelho, um para Verde e outro para Azul, levando a um total de 3 valores por pixel. Daqui a pouco vamos compreender isso em mais detalhes.\n",
    "\n",
    "Se uma imagem é uma matriz, eu posso realizar as mais variadas operações matemáticas com matrizes. Tudo em processamento de imagem e visão computacional são aplicações matemáticas em matrizes de pixels.\n",
    "\n",
    "Abaixo, alguns exemplos de utilização do processamento de imagens.\n",
    "\n",
    "#### Médicina\n",
    "\n",
    "Nos últimos anos, o campo da medicina teve avanços incríveis no processamento de imagens, como por exemplo, técnicas sofisticadas para detectar a natureza dos tumores em exames de MRI/PET. A pesquisa interdisciplinar entre biologia e processamento de imagens desempenhou  um  papel  importante.  A  seguinte  imagem  ilustra  como  os algoritmos  de processamento  de  imagem  são  usados  para  detectar  tumores.  Isso  ajudou  no  diagnóstico precoce de doenças e um tratamento mais efetivo:\n",
    "\n",
    "![img](https://user-images.githubusercontent.com/14116020/56107551-48b4a780-5f1d-11e9-9c63-da76ba458d25.png)\n",
    "\n",
    "#### Segurança\n",
    "\n",
    "Nesta área, o processamento de imagens tem ajudado no desenvolvimento de sistemas de segurança/vigilância eficientes. Os avanços neste campo impactaram muitos produtos de consumo, bem como empresas. Sistemas de desbloqueio de impressão digital e sistemas de segurança  biométricos  (reconhecimento  de  rostoou  íris)  agora  estão  sendo  usados  em dispositivos pequenos, como telefones celulares e até mesmo em edifícios inteligentes. \n",
    "\n",
    "Com o uso dessas técnicas, os dispositivos de desbloqueio tornaram-se mais simples e fáceis do que digitando senhas ou mesmo com cartões de segurança RFID (Radio Frequency Identification). Esses conceitos foram estendidos aos sistemas de segurança doméstica também. O trabalho no campo  da  detecção  e  reconhecimento  do  corpo  humano  levou  a  sistemas  de  detecção  de intrusão mais inteligentes.\n",
    "\n",
    "#### Mídias Sociais\n",
    "\n",
    "Vários sites de redes sociais como Facebook, Instagram e Snapchat usam alguma forma de técnicas de visão computacional para aprimorar a experiência do usuário. Por exemplo, o recurso de “autotag” do Facebook reconhece rostos nas imagens que os usuários carregam e sugere uma marca de nome apropriada para a pessoa na imagem. Outra aplicação é a busca de imagens do Google. Ele procura imagens visualmente semelhantes na World Wide Web, que é uma tarefa não trivial."
   ]
  },
  {
   "cell_type": "markdown",
   "metadata": {},
   "source": [
    "***\n",
    "### Espaços de cores vs Canais de cores\n",
    "***"
   ]
  },
  {
   "cell_type": "markdown",
   "metadata": {},
   "source": [
    "No mundo  da  matemática,  temos  diferentes  sistemas  de  coordenadas,  como por exemplo, um plano cartesiano 2-D, onde um ponto pode ser armazenado como (x, y). Cada sistema de coordenadas possui um caso de uso específico, o que facilita os cálculos.\n",
    "\n",
    "Da mesma forma,  no  mundo  do  processamento  de  imagens,  temos  diferentes  espaços  de  cores.  Uma imagem pode armazenar seus valores de cor na forma de Vermelho (Red), Verde (Green), Azul (Blue), o que é conhecido como espaço **RGB**, ou pode armazenar como Ciano (Cyan), Magenta (Magenta),  Amarelo (Yellow), Key  (Preto)  o  que  é  conhecido  como espaço **CMYK**.  Alguns exemplos de outros espaços de cores são **HSV**, **HSL**, **CMY** entre outros. Cada valor no **espaço de cores** é chamado de um **canal de cores**.\n",
    "\n",
    "![img](https://user-images.githubusercontent.com/14116020/56108304-9af7c780-5f21-11e9-8c63-30b190747cc2.png)\n",
    "\n",
    "Por exemplo, no espaço de cores RGB, dizemos que o vermelho, o azul e o verde são canais da imagem. Uma imagem pode ser representada em muitos modos diferentes (espaços de cores) como RGB, CMYK, escala de cinza (Grayscale) e YUV. As cores da imagem que vemos são derivadas da mistura das cores em cada canal de cores do espaço de cores. Vejamos alguns dos espaços decores comuns em detalhes.\n",
    "\n",
    "#### Escala de Cinza (Grayscale)\n",
    "\n",
    "Este é um dos espaços de cores mais simples tanto em termos de compreensão quanto de armazenamento em um computador. Cada valor de pixel em uma imagem com escala de cinza é um valor único entre 0 e 255, com 0 representando preto e 255 representando branco. Tenha  em  mente  que  o  valor  255  não  é  um  valor  fixo,  mas  depende  da  profundidade  da imagem.\n",
    "\n",
    "As imagens de tons de cinza também são chamadas de imagens em preto e branco, mas esta comparação não é inteiramente precisa. Uma imagem em preto e branco significa que os valores de pixel podem ser apenas 0 ou 255 e nada no meio e isso é diferente de uma imagem em Grayscale, onde cada pixel pode ter valores entre 0 e 255.\n",
    "\n",
    "![img](https://user-images.githubusercontent.com/14116020/56108392-0c377a80-5f22-11e9-9164-c33f871c1457.png)\n",
    "\n",
    "#### Red, Green, Blue (RGB)\n",
    "\n",
    "Este também é  um  dos  espaços  de  cores  mais  comuns  que  é  usado  no  mundo  do processamento de imagens. A maioria das imagens que você vê pela internet ou nos seus livros estão  no  espaço  RGB.  Em  uma  imagem  RGB  típica,  cada  pixel  é  uma  combinação  de  três valores, cada um representando uma cor em canais vermelhos, verdes e azuis.\n",
    "\n",
    "A cor branca no espaço RGB é escrita como (255, 255, 255) e o preto é escrito como (0, 0, 0). Vermelho, verde e azul são representados por (255, 0, 0), (0, 255, 0) e (0, 0, 255), respectivamente. Qualquer outra cor é apenas uma combinação de alguns valores de vermelho, verde e azul. Lembre-se de sua turma de pintura ou artes quando criança, onde você costumava misturar as cores primárias para criar uma nova cor. É simples assim!\n",
    "\n",
    "![img](https://user-images.githubusercontent.com/14116020/56108434-502a7f80-5f22-11e9-9564-7cc862ac4c1a.png)\n",
    "\n",
    "#### Hue, Saturation, Value (HSV)\n",
    "\n",
    "Este é um sistema de coordenadas cilíndricas onde projetamos valores RGB para um cilindro. A figura abaixo ilustra este conceito. O espaço de cores HSV foi projetado mantendo a mente  a  natureza não  intuitiva  do  espaço  RGB.  Não  há  uma  intuição  clara  de  como  a  cor progride no espaço RGB. A escala HSV controla isso perfeitamente no sentido de que você pode consertar a tonalidade e, em seguida, gerar diferentes tons dessa tonalidade apenas variando valores e saturação.\n",
    "\n",
    "No início, dissemos que uma imagem é armazenada na forma de uma matriz 2D.  Então,  como  acomodamos  os  múltiplos  canais  na  imagem?  Simples,  temos  múltiplas matrizes 2D para cada canal. Por exemplo: quantas matrizes terá uma imagem em escala de cinza? Se você tentar imprimir o valor de pixel de uma imagem em escala de cinza, você só obterá  um  valor,  mas  se  você  tentar  imprimir  o  valor  de  pixel  de  uma  imagem  RGB,  você receberá  três  valores;  Isso  mostra  que  o  RGB  tem  três  canais,  vermelho,  verde  e  azul  e  as imagens em escala de cinza têm apenas um valor. Daqui a pouco veremos isso na prática.\n",
    "\n",
    "![img](https://user-images.githubusercontent.com/14116020/56108505-aeeff900-5f22-11e9-9eca-0cfaec620531.png)"
   ]
  },
  {
   "cell_type": "markdown",
   "metadata": {},
   "source": [
    "***\n",
    "### Profundidade da Imagem\n",
    "***"
   ]
  },
  {
   "cell_type": "markdown",
   "metadata": {},
   "source": [
    "A profundidade da imagem ou a profundidade da cor é o número de bits usados para representar uma cor de um pixel. A profundidade da imagem determina o alcance das cores que uma imagem pode ter. Por exemplo, se tivermos uma imagem com uma profundidade de 4 bits, o valor do pixel vai variar de 0 a 15 (que é o maior número que podemos armazenar usando 4 bits - $2^4-1=15$). Considerando que se usarmos 8 bits, o valor irá variar de 0 a 255, proporcionando um melhor espectro de cores.\n",
    "\n",
    "Outra maneira de pensar sobre a profundidade da imagem é que o número de bits também determina o número de cores, que podem ser usadas em uma imagem. Por exemplo, 1 bit implica duas cores, 2 bits, quatro cores e 8 bits 256 cores. As imagens podem ser convertidas de um espaço de cores para outro usando uma função de conversão do módulo de imagem."
   ]
  }
 ],
 "metadata": {
  "kernelspec": {
   "display_name": "Python 3",
   "language": "python",
   "name": "python3"
  },
  "language_info": {
   "codemirror_mode": {
    "name": "ipython",
    "version": 3
   },
   "file_extension": ".py",
   "mimetype": "text/x-python",
   "name": "python",
   "nbconvert_exporter": "python",
   "pygments_lexer": "ipython3",
   "version": "3.5.2"
  }
 },
 "nbformat": 4,
 "nbformat_minor": 2
}
