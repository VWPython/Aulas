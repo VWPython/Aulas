{
 "cells": [
  {
   "cell_type": "markdown",
   "metadata": {},
   "source": [
    "## Operações Bitwise com imagens\n",
    "***\n",
    "\n",
    "As operações principais são: AND, OR, XOR e NOT\n",
    "\n",
    "***"
   ]
  },
  {
   "cell_type": "code",
   "execution_count": 1,
   "metadata": {},
   "outputs": [],
   "source": [
    "import cv2 as cv\n",
    "import numpy as np\n",
    "from matplotlib import pyplot as plt"
   ]
  },
  {
   "cell_type": "code",
   "execution_count": 2,
   "metadata": {},
   "outputs": [],
   "source": [
    "def mostrar_imagem(img):\n",
    "    imagem_colorida = cv.cvtColor(img, cv.COLOR_BGR2RGB)\n",
    "    plt.imshow(imagem_colorida)\n",
    "    plt.title(\"Imagem\")\n",
    "    plt.axis(\"off\")\n",
    "    plt.show()"
   ]
  },
  {
   "cell_type": "code",
   "execution_count": 3,
   "metadata": {},
   "outputs": [
    {
     "data": {
      "image/png": "[encoded data removed]",
      "text/plain": [
       "<Figure size 432x288 with 1 Axes>"
      ]
     },
     "metadata": {
      "needs_background": "light"
     },
     "output_type": "display_data"
    }
   ],
   "source": [
    "# Vamos desenhar um retangulo\n",
    "retangulo = np.zeros((300, 300), dtype=\"uint8\")\n",
    "cv.rectangle(retangulo, (25, 25), (275, 275), 255, -1)\n",
    "mostrar_imagem(retangulo)"
   ]
  },
  {
   "cell_type": "code",
   "execution_count": 4,
   "metadata": {},
   "outputs": [
    {
     "data": {
      "image/png": "[encoded data removed]",
      "text/plain": [
       "<Figure size 432x288 with 1 Axes>"
      ]
     },
     "metadata": {
      "needs_background": "light"
     },
     "output_type": "display_data"
    }
   ],
   "source": [
    "# Vamos desenhar um círculo\n",
    "circulo = np.zeros((300, 300), dtype=\"uint8\")\n",
    "preenchido = -1\n",
    "cv.circle(circulo, (150, 150), 150, 255, preenchido)\n",
    "mostrar_imagem(circulo)"
   ]
  },
  {
   "cell_type": "markdown",
   "metadata": {},
   "source": [
    "***\n",
    "### AND\n",
    "***\n",
    "\n",
    "A função bitwise AND examina cada pixel no retângulo e círculo. Se ambos os pixels tiverem um valor maior do que zero, esse pixel é ativado \"ON\" (configurado para 255 na imagem de saída). Se ambos os pixels não são maiores do que zero, então o pixel de saída é deixado \"OFF\" com um valor de zero.\n",
    "\n",
    "```\n",
    "0 & 0 = 0\n",
    "0 & 1 = 0\n",
    "1 & 0 = 0\n",
    "1 & 1 = 1\n",
    "```"
   ]
  },
  {
   "cell_type": "code",
   "execution_count": 5,
   "metadata": {},
   "outputs": [
    {
     "data": {
      "image/png": "[encoded data removed]",
      "text/plain": [
       "<Figure size 432x288 with 1 Axes>"
      ]
     },
     "metadata": {
      "needs_background": "light"
     },
     "output_type": "display_data"
    }
   ],
   "source": [
    "AND = cv.bitwise_and(retangulo, circulo)\n",
    "mostrar_imagem(AND)"
   ]
  },
  {
   "cell_type": "markdown",
   "metadata": {},
   "source": [
    "***\n",
    "### OR\n",
    "***\n",
    "\n",
    "A função bitwise OR examina cada pixel no retângulo e círculo. Se qualquer pixel no retângulo ou no cículo for maior do que zero, então o pixel tem um valor de 255, caso contrário, é 0\n",
    "\n",
    "```\n",
    "0 || 0 = 0\n",
    "0 || 1 = 1\n",
    "1 || 0 = 1\n",
    "1 || 1 = 1\n",
    "```"
   ]
  },
  {
   "cell_type": "code",
   "execution_count": 6,
   "metadata": {},
   "outputs": [
    {
     "data": {
      "image/png": "[encoded data removed]",
      "text/plain": [
       "<Figure size 432x288 with 1 Axes>"
      ]
     },
     "metadata": {
      "needs_background": "light"
     },
     "output_type": "display_data"
    }
   ],
   "source": [
    "OR = cv.bitwise_or(retangulo, circulo)\n",
    "mostrar_imagem(OR)"
   ]
  },
  {
   "cell_type": "markdown",
   "metadata": {},
   "source": [
    "***\n",
    "### XOR\n",
    "***\n",
    "\n",
    "A função bitwise XOR é idêntica a função OR com uma exceção tnato o retângulo quanto o círculo não são permitidos ter valores maiores que 0\n",
    "\n",
    "```\n",
    "0 0 = 0\n",
    "1 0 = 1\n",
    "0 1 = 1\n",
    "1 1 = 0\n",
    "```"
   ]
  },
  {
   "cell_type": "code",
   "execution_count": 7,
   "metadata": {},
   "outputs": [
    {
     "data": {
      "image/png": "[encoded data removed]",
      "text/plain": [
       "<Figure size 432x288 with 1 Axes>"
      ]
     },
     "metadata": {
      "needs_background": "light"
     },
     "output_type": "display_data"
    }
   ],
   "source": [
    "XOR = cv.bitwise_xor(retangulo, circulo)\n",
    "mostrar_imagem(XOR)"
   ]
  },
  {
   "cell_type": "markdown",
   "metadata": {},
   "source": [
    "***\n",
    "### NOT\n",
    "***\n",
    "\n",
    "Finalmente, a função bitwise NOT inverte os valores dos pixels, pixels com um valor de 255 torna-se 0 e 0 torna-se 255.\n",
    "\n",
    "```\n",
    "0 = 1\n",
    "1 = 0\n",
    "```"
   ]
  },
  {
   "cell_type": "code",
   "execution_count": 8,
   "metadata": {},
   "outputs": [
    {
     "data": {
      "image/png": "[encoded data removed]",
      "text/plain": [
       "<Figure size 432x288 with 1 Axes>"
      ]
     },
     "metadata": {
      "needs_background": "light"
     },
     "output_type": "display_data"
    }
   ],
   "source": [
    "NOT = cv.bitwise_not(circulo)\n",
    "mostrar_imagem(NOT)"
   ]
  }
 ],
 "metadata": {
  "kernelspec": {
   "display_name": "Python 3",
   "language": "python",
   "name": "python3"
  },
  "language_info": {
   "codemirror_mode": {
    "name": "ipython",
    "version": 3
   },
   "file_extension": ".py",
   "mimetype": "text/x-python",
   "name": "python",
   "nbconvert_exporter": "python",
   "pygments_lexer": "ipython3",
   "version": "3.5.2"
  }
 },
 "nbformat": 4,
 "nbformat_minor": 2
}
