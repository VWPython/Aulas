{
 "cells": [
  {
   "cell_type": "markdown",
   "metadata": {},
   "source": [
    "## Algoritmo de Naive Bayes em textos\n",
    "***\n",
    "\n",
    "Iremos criar a mesma tabela de probabilidade, porém agora utilizando textos. Usaremos o algoritmo de naive bayes e usando os dados pré-processados que fizemos anteriormente.\n",
    "\n",
    "Ficará algo parecido com a tabela abaixo:\n",
    "\n",
    "![img](https://user-images.githubusercontent.com/14116020/50662644-4e9a0480-0f8e-11e9-8dcf-9b8a0fd4ff30.png)\n",
    "\n",
    "Vamos supor que foi inserido uma nova frase \"Me sinto completamente apavorado por este lugar\". Qual a probabilidade dessa frase ser de **alegria** ou **medo**?\n",
    "\n",
    "Primeiro extraia as stopwords e o radical das palavras, ficará: \"sint completa pavor lug\", com isso verificamos na tabela:\n",
    "\n",
    "* **sint**: S\n",
    "* **complet**: S\n",
    "* **am**: N\n",
    "* **bem**: N\n",
    "* **hoje**: N\n",
    "* **apavor**: S\n",
    "* **lug**: S\n",
    "\n",
    "Vamos calcular as probabilidades agora:\n",
    "\n",
    "* **Probabilidade(Alegria)** = $\\frac{2}{2} \\times \\frac{1}{1} \\times \\frac{1}{3} \\times \\frac{2}{4} \\times \\frac{2}{4} \\times \\frac{3}{4} \\times 0 \\times 0 = 0,0375 = \\frac{0,0375}{0,0541}\\times100 = 69,31\\%$\n",
    "\n",
    "\n",
    "* **Probabilidade(Medo)** = $0 \\times 0 \\times \\frac{2}{3} \\times \\frac{2}{4} \\times \\frac{2}{4} \\times \\frac{1}{4} \\times \\frac{2}{2} \\times \\frac{1}{1} = 0,0166 = \\frac{0,0166}{0,0541}\\times100 = 30,69\\%$\n",
    "\n",
    "Mesmo que tenha multiplicação por zero, o naive bayes tem uma codificação adicional que é chamada de correção laplaceana, que é para evitar essas multiplicações por 0. Ele adiciona um registro onde tem 0 para não prejudicar na multiplicação. Esse registro não tem muito influência nos calculos.\n",
    "\n",
    "De acordo com a base de dados, que no caso é extremamente pequena, essa frase é de alegria, porém, em uma base com milhares de registro é bem provavel que ela seria de medo.\n",
    "\n",
    "$0,0375 + 0,0166 = 0,0541$ esse número equivale a $100\\%$\n",
    "\n",
    "\n",
    "***"
   ]
  },
  {
   "cell_type": "code",
   "execution_count": 1,
   "metadata": {},
   "outputs": [],
   "source": [
    "from pre_processamento import base_completa, extrair_radicais, inseri_tabela\n",
    "import nltk"
   ]
  },
  {
   "cell_type": "code",
   "execution_count": 2,
   "metadata": {},
   "outputs": [],
   "source": [
    "# Vamos pegar uma classe especifica para esse algoritmo\n",
    "# essa classe irá montar essa tabela de probabilidades\n",
    "# com a base de dados inserida, porém formatada extraindo stopwords e radicais\n",
    "classificador = nltk.NaiveBayesClassifier.train(base_completa)"
   ]
  },
  {
   "cell_type": "code",
   "execution_count": 3,
   "metadata": {},
   "outputs": [
    {
     "name": "stdout",
     "output_type": "stream",
     "text": [
      "['medo', 'alegria']\n"
     ]
    }
   ],
   "source": [
    "print(classificador.labels())"
   ]
  },
  {
   "cell_type": "code",
   "execution_count": 4,
   "metadata": {},
   "outputs": [
    {
     "name": "stdout",
     "output_type": "stream",
     "text": [
      "Most Informative Features\n",
      "                     dia = True           alegri : medo   =      2.3 : 1.0\n",
      "                      am = False            medo : alegri =      1.6 : 1.0\n",
      "                     med = False          alegri : medo   =      1.4 : 1.0\n",
      "                     dia = False            medo : alegri =      1.3 : 1.0\n",
      "                     nov = False            medo : alegri =      1.2 : 1.0\n",
      "None\n"
     ]
    }
   ],
   "source": [
    "# Pega as caracteristicas mais informativa e mostra sua probabilidade\n",
    "# de acordo com as labels\n",
    "print(classificador.show_most_informative_features(5))\n",
    "# Quando o radical dia = True, a frase tem 2.3 vezes mais chances de ser de alegria do que de medo"
   ]
  },
  {
   "cell_type": "code",
   "execution_count": 5,
   "metadata": {},
   "outputs": [],
   "source": [
    "frase = \"Estou com medo\""
   ]
  },
  {
   "cell_type": "code",
   "execution_count": 6,
   "metadata": {},
   "outputs": [
    {
     "name": "stdout",
     "output_type": "stream",
     "text": [
      "['est', 'med']\n"
     ]
    }
   ],
   "source": [
    "radicais = extrair_radicais(frase)\n",
    "print(radicais)"
   ]
  },
  {
   "cell_type": "code",
   "execution_count": 7,
   "metadata": {},
   "outputs": [
    {
     "name": "stdout",
     "output_type": "stream",
     "text": [
      "{'sent': False, 'apavor': False, 'tom': False, 'cuid': False, 'ont': False, 'sempr': False, 'bonit': False, 'cont': False, 'deix': False, 'bel': False, 'vai': False, 'anim': False, 'ameac': False, 'med': True, 'pav': False, 'amedront': False, 'muit': False, 'elimin': False, 'test': False, 'hoj': False, 'sint': False, 'descobr': False, 'complet': False, 'jog': False, 'lug': False, 'trem': False, 'nov': False, 'admir': False, 'carr': False, 'dirig': False, 'result': False, 'encrenc': False, 'maravilh': False, 'fiz': False, 'dur': False, 'perd': False, 'amizad': False, 'dia': False, 'am': False, 'outr': False, 'bem': False, 'lobisom': False, 'lind': False}\n"
     ]
    }
   ],
   "source": [
    "nova_linha = inseri_tabela(radicais)\n",
    "print(nova_linha)"
   ]
  },
  {
   "cell_type": "code",
   "execution_count": 8,
   "metadata": {},
   "outputs": [
    {
     "name": "stdout",
     "output_type": "stream",
     "text": [
      "medo\n"
     ]
    }
   ],
   "source": [
    "# Vamos ver a classificação dessa frase\n",
    "emocao = classificador.classify(nova_linha)\n",
    "print(emocao)"
   ]
  },
  {
   "cell_type": "code",
   "execution_count": 9,
   "metadata": {},
   "outputs": [
    {
     "name": "stdout",
     "output_type": "stream",
     "text": [
      "medo: 95.90%\n",
      "alegria: 4.10%\n"
     ]
    }
   ],
   "source": [
    "# Vamos verificar a % de medo e alegria da frase\n",
    "distribuicao = classificador.prob_classify(nova_linha)\n",
    "for emocao in distribuicao.samples():\n",
    "    print(\"%s: %.2f%s\" % (emocao, distribuicao.prob(emocao) * 100, \"%\"))"
   ]
  }
 ],
 "metadata": {
  "kernelspec": {
   "display_name": "Python 3",
   "language": "python",
   "name": "python3"
  },
  "language_info": {
   "codemirror_mode": {
    "name": "ipython",
    "version": 3
   },
   "file_extension": ".py",
   "mimetype": "text/x-python",
   "name": "python",
   "nbconvert_exporter": "python",
   "pygments_lexer": "ipython3",
   "version": "3.5.2"
  }
 },
 "nbformat": 4,
 "nbformat_minor": 2
}
