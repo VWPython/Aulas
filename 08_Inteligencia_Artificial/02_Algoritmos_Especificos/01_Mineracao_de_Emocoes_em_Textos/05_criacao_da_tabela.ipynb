{
 "cells": [
  {
   "cell_type": "markdown",
   "metadata": {},
   "source": [
    "## Extração das palavras e criação da tabela\n",
    "***\n",
    "\n",
    "Agora iremo criar a tabela de palavras (radicais) para começar o aprendizado de máquina, para montar uma tabela igual a tabela abaixo:\n",
    "\n",
    "![img2](https://user-images.githubusercontent.com/14116020/50458587-48cb7000-094b-11e9-8757-d4b03e19acd0.png)\n",
    "\n",
    "***"
   ]
  },
  {
   "cell_type": "code",
   "execution_count": 1,
   "metadata": {},
   "outputs": [],
   "source": [
    "from base import base\n",
    "import nltk"
   ]
  },
  {
   "cell_type": "code",
   "execution_count": 2,
   "metadata": {},
   "outputs": [],
   "source": [
    "def aplicar_stemming(texto):\n",
    "    \"\"\"\n",
    "    Pega os radicais do texto\n",
    "    \"\"\"\n",
    "    \n",
    "    stopwords = nltk.corpus.stopwords.words(\"portuguese\")\n",
    "    \n",
    "    # Pegar o stemmer especifico para a lingua portuguesa\n",
    "    stemmer = nltk.stem.RSLPStemmer()\n",
    "    frases = []\n",
    "    \n",
    "    for (palavras, emocao) in texto:\n",
    "        # stem() retira o radical da palavra\n",
    "        stemming = [str(stemmer.stem(palavra)) for palavra in palavras.split() if palavra not in stopwords]\n",
    "        frases.append((stemming, emocao))\n",
    "        \n",
    "    return frases"
   ]
  },
  {
   "cell_type": "code",
   "execution_count": 3,
   "metadata": {},
   "outputs": [],
   "source": [
    "stemming = aplicar_stemming(base)"
   ]
  },
  {
   "cell_type": "code",
   "execution_count": 4,
   "metadata": {},
   "outputs": [
    {
     "name": "stdout",
     "output_type": "stream",
     "text": [
      "[(['admir', 'muit'], 'alegria'), (['sint', 'complet', 'am'], 'alegria'), (['am', 'maravilh'], 'alegria'), (['sent', 'anim', 'nov'], 'alegria'), (['bem', 'hoj'], 'alegria'), (['bel', 'dia', 'dirig', 'carr', 'nov'], 'alegria'), (['dia', 'bonit'], 'alegria'), (['cont', 'result', 'test', 'fiz', 'dia', 'ont'], 'alegria'), (['am', 'lind'], 'alegria'), (['amizad', 'am', 'vai', 'dur', 'sempr'], 'alegria'), (['amedront'], 'medo'), (['ameac', 'dia'], 'medo'), (['deix', 'apavor'], 'medo'), (['lug', 'apavor'], 'medo'), (['perd', 'outr', 'jog', 'elimin', 'deix', 'pav'], 'medo'), (['tom', 'cuid', 'lobisom'], 'medo'), (['descobr', 'encrenc'], 'medo'), (['trem', 'med'], 'medo'), (['med'], 'medo'), (['med', 'result', 'test'], 'medo')]\n"
     ]
    }
   ],
   "source": [
    "print(stemming)"
   ]
  },
  {
   "cell_type": "markdown",
   "metadata": {},
   "source": [
    "***"
   ]
  },
  {
   "cell_type": "code",
   "execution_count": 5,
   "metadata": {},
   "outputs": [],
   "source": [
    "def busca_palavras(stemming):\n",
    "    \"\"\"\n",
    "    Pega a stemming e retira as emoções, pegando só as palavras.\n",
    "    \"\"\"\n",
    "    \n",
    "    so_palavras = []\n",
    "    \n",
    "    for (palavras, emocao) in stemming:\n",
    "        # extend: Pega os elementos da lista e joga 1 por 1 dentro da outra lista\n",
    "        so_palavras.extend(palavras)\n",
    "        \n",
    "    # pega a frequencia de vezes que uma palavra aparece.\n",
    "    qtd_palavras = nltk.FreqDist(so_palavras)\n",
    "    \n",
    "    # Retira as palavras repetidas\n",
    "    sem_repeticao = qtd_palavras.keys()\n",
    "    \n",
    "    return list(sem_repeticao), qtd_palavras.most_common()"
   ]
  },
  {
   "cell_type": "code",
   "execution_count": 6,
   "metadata": {},
   "outputs": [],
   "source": [
    "palavras_unicas, qtd_palavras = busca_palavras(stemming)"
   ]
  },
  {
   "cell_type": "code",
   "execution_count": 7,
   "metadata": {},
   "outputs": [
    {
     "name": "stdout",
     "output_type": "stream",
     "text": [
      "43\n",
      "['bel', 'trem', 'dur', 'sint', 'jog', 'bonit', 'perd', 'dia', 'complet', 'lind', 'carr', 'muit', 'amizad', 'cuid', 'ameac', 'hoj', 'deix', 'lug', 'test', 'sent', 'fiz', 'ont', 'pav', 'admir', 'tom', 'lobisom', 'amedront', 'encrenc', 'result', 'nov', 'bem', 'am', 'elimin', 'vai', 'maravilh', 'cont', 'descobr', 'outr', 'sempr', 'anim', 'dirig', 'med', 'apavor']\n"
     ]
    }
   ],
   "source": [
    "print(len(palavras_unicas))\n",
    "print(palavras_unicas)"
   ]
  },
  {
   "cell_type": "code",
   "execution_count": 8,
   "metadata": {},
   "outputs": [
    {
     "name": "stdout",
     "output_type": "stream",
     "text": [
      "[('dia', 4), ('am', 4), ('med', 3), ('deix', 2), ('test', 2), ('result', 2), ('nov', 2), ('apavor', 2), ('bel', 1), ('trem', 1), ('dur', 1), ('sint', 1), ('jog', 1), ('bonit', 1), ('perd', 1), ('complet', 1), ('lind', 1), ('carr', 1), ('muit', 1), ('amizad', 1), ('cuid', 1), ('ameac', 1), ('hoj', 1), ('lug', 1), ('sent', 1), ('fiz', 1), ('ont', 1), ('pav', 1), ('admir', 1), ('tom', 1), ('lobisom', 1), ('amedront', 1), ('encrenc', 1), ('bem', 1), ('elimin', 1), ('vai', 1), ('maravilh', 1), ('cont', 1), ('descobr', 1), ('outr', 1), ('sempr', 1), ('anim', 1), ('dirig', 1)]\n"
     ]
    }
   ],
   "source": [
    "print(qtd_palavras)"
   ]
  },
  {
   "cell_type": "markdown",
   "metadata": {},
   "source": [
    "***"
   ]
  },
  {
   "cell_type": "code",
   "execution_count": 9,
   "metadata": {},
   "outputs": [],
   "source": [
    "def inseri_tabela(novas_palavras):\n",
    "    \"\"\"\n",
    "    Recebe uma nova frase (lista de radicais) e verifica quais palavras tem\n",
    "    e quais não tem de acordo com a tabela de palavras unicas (radicais).\n",
    "    Monta uma linha da tabela.\n",
    "    \"\"\"\n",
    "    \n",
    "    frase = set(novas_palavras)\n",
    "    \n",
    "    linha_tabela = {}\n",
    "    \n",
    "    # essa palavras_unicas vem de busca_palavras(stemming)\n",
    "    for palavra in palavras_unicas:\n",
    "        linha_tabela[\"%s\" % palavra] = (palavra in frase)\n",
    "        \n",
    "    return linha_tabela"
   ]
  },
  {
   "cell_type": "code",
   "execution_count": 10,
   "metadata": {},
   "outputs": [
    {
     "name": "stdout",
     "output_type": "stream",
     "text": [
      "{'bel': False, 'med': False, 'dur': False, 'sint': False, 'jog': False, 'bonit': False, 'perd': False, 'dia': True, 'complet': False, 'dirig': False, 'lind': False, 'carr': False, 'muit': False, 'amizad': False, 'ameac': False, 'hoj': False, 'deix': False, 'lug': False, 'test': False, 'sent': False, 'fiz': False, 'ont': False, 'pav': False, 'admir': False, 'anim': False, 'lobisom': False, 'amedront': False, 'encrenc': False, 'result': False, 'trem': False, 'bem': False, 'am': True, 'elimin': False, 'vai': False, 'maravilh': False, 'cont': False, 'descobr': False, 'nov': True, 'outr': False, 'sempr': False, 'cuid': False, 'tom': False, 'apavor': False}\n"
     ]
    }
   ],
   "source": [
    "print(inseri_tabela(['am', 'nov', 'dia']))"
   ]
  },
  {
   "cell_type": "markdown",
   "metadata": {},
   "source": [
    "***"
   ]
  },
  {
   "cell_type": "code",
   "execution_count": 11,
   "metadata": {},
   "outputs": [],
   "source": [
    "# Extrair todas as frases (montar a tabela completa)\n",
    "# Vamos pegar cada uma das frases do steamming e aplicar no método extrair_palavras\n",
    "# e jogar tudo para uma variável\n",
    "base_completa = nltk.classify.apply_features(inseri_tabela, stemming)"
   ]
  },
  {
   "cell_type": "code",
   "execution_count": 12,
   "metadata": {},
   "outputs": [
    {
     "name": "stdout",
     "output_type": "stream",
     "text": [
      "({'bel': False, 'med': False, 'dur': False, 'sint': False, 'jog': False, 'bonit': False, 'perd': False, 'dia': False, 'complet': False, 'dirig': False, 'lind': False, 'carr': False, 'muit': False, 'amizad': False, 'ameac': False, 'hoj': False, 'deix': False, 'lug': False, 'test': False, 'sent': False, 'fiz': False, 'ont': False, 'pav': False, 'admir': False, 'anim': False, 'lobisom': True, 'amedront': False, 'encrenc': False, 'result': False, 'trem': False, 'bem': False, 'am': False, 'elimin': False, 'vai': False, 'maravilh': False, 'cont': False, 'descobr': False, 'nov': False, 'outr': False, 'sempr': False, 'cuid': True, 'tom': True, 'apavor': False}, 'medo')\n"
     ]
    }
   ],
   "source": [
    "# Base de dados final que vamos submeter para os algoritmos de aprendizagem de máquina\n",
    "print(base_completa[15])"
   ]
  }
 ],
 "metadata": {
  "kernelspec": {
   "display_name": "Python 3",
   "language": "python",
   "name": "python3"
  },
  "language_info": {
   "codemirror_mode": {
    "name": "ipython",
    "version": 3
   },
   "file_extension": ".py",
   "mimetype": "text/x-python",
   "name": "python",
   "nbconvert_exporter": "python",
   "pygments_lexer": "ipython3",
   "version": "3.5.2"
  }
 },
 "nbformat": 4,
 "nbformat_minor": 2
}
