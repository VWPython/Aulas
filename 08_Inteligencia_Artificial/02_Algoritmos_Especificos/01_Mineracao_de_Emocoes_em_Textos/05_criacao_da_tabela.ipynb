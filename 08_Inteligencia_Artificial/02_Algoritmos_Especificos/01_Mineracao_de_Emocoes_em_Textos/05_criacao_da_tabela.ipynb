{
 "cells": [
  {
   "cell_type": "markdown",
   "metadata": {},
   "source": [
    "## Extração das palavras e criação da tabela\n",
    "***\n",
    "\n",
    "Agora iremo criar a tabela de palavras (radicais) para começar o aprendizado de máquina, para montar uma tabela igual a tabela abaixo:\n",
    "\n",
    "![img2](https://user-images.githubusercontent.com/14116020/50458587-48cb7000-094b-11e9-8757-d4b03e19acd0.png)\n",
    "\n",
    "***"
   ]
  },
  {
   "cell_type": "code",
   "execution_count": 1,
   "metadata": {},
   "outputs": [],
   "source": [
    "from base import base\n",
    "import nltk"
   ]
  },
  {
   "cell_type": "code",
   "execution_count": 2,
   "metadata": {},
   "outputs": [],
   "source": [
    "def aplicar_stemming(texto):\n",
    "    \"\"\"\n",
    "    Pega os radicais do texto\n",
    "    \"\"\"\n",
    "    \n",
    "    stopwords = nltk.corpus.stopwords.words(\"portuguese\")\n",
    "    \n",
    "    # Pegar o stemmer especifico para a lingua portuguesa\n",
    "    stemmer = nltk.stem.RSLPStemmer()\n",
    "    frases = []\n",
    "    \n",
    "    for (palavras, emocao) in texto:\n",
    "        # stem() retira o radical da palavra\n",
    "        stemming = [str(stemmer.stem(palavra)) for palavra in palavras.split() if palavra not in stopwords]\n",
    "        frases.append((stemming, emocao))\n",
    "        \n",
    "    return frases"
   ]
  },
  {
   "cell_type": "code",
   "execution_count": 3,
   "metadata": {},
   "outputs": [],
   "source": [
    "stemming = aplicar_stemming(base)"
   ]
  },
  {
   "cell_type": "code",
   "execution_count": 4,
   "metadata": {},
   "outputs": [
    {
     "name": "stdout",
     "output_type": "stream",
     "text": [
      "[(['admir', 'muit'], 'alegria'), (['sint', 'complet', 'am'], 'alegria'), (['am', 'maravilh'], 'alegria'), (['sent', 'anim', 'nov'], 'alegria'), (['bem', 'hoj'], 'alegria'), (['bel', 'dia', 'dirig', 'carr', 'nov'], 'alegria'), (['dia', 'bonit'], 'alegria'), (['cont', 'result', 'test', 'fiz', 'dia', 'ont'], 'alegria'), (['am', 'lind'], 'alegria'), (['amizad', 'am', 'vai', 'dur', 'sempr'], 'alegria'), (['amedront'], 'medo'), (['ameac', 'dia'], 'medo'), (['deix', 'apavor'], 'medo'), (['lug', 'apavor'], 'medo'), (['perd', 'outr', 'jog', 'elimin', 'deix', 'pav'], 'medo'), (['tom', 'cuid', 'lobisom'], 'medo'), (['descobr', 'encrenc'], 'medo'), (['trem', 'med'], 'medo'), (['med'], 'medo'), (['med', 'result', 'test'], 'medo')]\n"
     ]
    }
   ],
   "source": [
    "print(stemming)"
   ]
  },
  {
   "cell_type": "markdown",
   "metadata": {},
   "source": [
    "***"
   ]
  },
  {
   "cell_type": "code",
   "execution_count": 5,
   "metadata": {},
   "outputs": [],
   "source": [
    "def busca_palavras(stemming):\n",
    "    \"\"\"\n",
    "    Pega a stemming e retira as emoções, pegando só as palavras.\n",
    "    \"\"\"\n",
    "    \n",
    "    so_palavras = []\n",
    "    \n",
    "    for (palavras, emocao) in stemming:\n",
    "        # extend: Pega os elementos da lista e joga 1 por 1 dentro da outra lista\n",
    "        so_palavras.extend(palavras)\n",
    "        \n",
    "    # pega a frequencia de vezes que uma palavra aparece.\n",
    "    qtd_palavras = nltk.FreqDist(so_palavras)\n",
    "    \n",
    "    # Retira as palavras repetidas\n",
    "    sem_repeticao = qtd_palavras.keys()\n",
    "    \n",
    "    return list(sem_repeticao), qtd_palavras.most_common()"
   ]
  },
  {
   "cell_type": "code",
   "execution_count": 6,
   "metadata": {},
   "outputs": [],
   "source": [
    "palavras_unicas, qtd_palavras = busca_palavras(stemming)"
   ]
  },
  {
   "cell_type": "code",
   "execution_count": 7,
   "metadata": {},
   "outputs": [
    {
     "name": "stdout",
     "output_type": "stream",
     "text": [
      "43\n",
      "['admir', 'muit', 'sint', 'complet', 'am', 'maravilh', 'sent', 'anim', 'nov', 'bem', 'hoj', 'bel', 'dia', 'dirig', 'carr', 'bonit', 'cont', 'result', 'test', 'fiz', 'ont', 'lind', 'amizad', 'vai', 'dur', 'sempr', 'amedront', 'ameac', 'deix', 'apavor', 'lug', 'perd', 'outr', 'jog', 'elimin', 'pav', 'tom', 'cuid', 'lobisom', 'descobr', 'encrenc', 'trem', 'med']\n"
     ]
    }
   ],
   "source": [
    "print(len(palavras_unicas))\n",
    "print(palavras_unicas)"
   ]
  },
  {
   "cell_type": "code",
   "execution_count": 8,
   "metadata": {},
   "outputs": [
    {
     "name": "stdout",
     "output_type": "stream",
     "text": [
      "[('am', 4), ('dia', 4), ('med', 3), ('nov', 2), ('result', 2), ('test', 2), ('deix', 2), ('apavor', 2), ('admir', 1), ('muit', 1), ('sint', 1), ('complet', 1), ('maravilh', 1), ('sent', 1), ('anim', 1), ('bem', 1), ('hoj', 1), ('bel', 1), ('dirig', 1), ('carr', 1), ('bonit', 1), ('cont', 1), ('fiz', 1), ('ont', 1), ('lind', 1), ('amizad', 1), ('vai', 1), ('dur', 1), ('sempr', 1), ('amedront', 1), ('ameac', 1), ('lug', 1), ('perd', 1), ('outr', 1), ('jog', 1), ('elimin', 1), ('pav', 1), ('tom', 1), ('cuid', 1), ('lobisom', 1), ('descobr', 1), ('encrenc', 1), ('trem', 1)]\n"
     ]
    }
   ],
   "source": [
    "print(qtd_palavras)"
   ]
  },
  {
   "cell_type": "markdown",
   "metadata": {},
   "source": [
    "***"
   ]
  },
  {
   "cell_type": "code",
   "execution_count": 9,
   "metadata": {},
   "outputs": [],
   "source": [
    "def inseri_tabela(novas_palavras):\n",
    "    \"\"\"\n",
    "    Recebe uma nova frase (lista de radicais) e verifica quais palavras tem\n",
    "    e quais não tem de acordo com a tabela de palavras unicas (radicais).\n",
    "    Monta uma linha da tabela.\n",
    "    \"\"\"\n",
    "    \n",
    "    frase = set(novas_palavras)\n",
    "    \n",
    "    linha_tabela = {}\n",
    "    \n",
    "    # essa palavras_unicas vem de busca_palavras(stemming)\n",
    "    for palavra in palavras_unicas:\n",
    "        linha_tabela[\"%s\" % palavra] = (palavra in frase)\n",
    "        \n",
    "    return linha_tabela"
   ]
  },
  {
   "cell_type": "code",
   "execution_count": 10,
   "metadata": {},
   "outputs": [
    {
     "name": "stdout",
     "output_type": "stream",
     "text": [
      "{'admir': False, 'muit': False, 'sint': False, 'complet': False, 'am': True, 'maravilh': False, 'sent': False, 'anim': False, 'nov': True, 'bem': False, 'hoj': False, 'bel': False, 'dia': True, 'dirig': False, 'carr': False, 'bonit': False, 'cont': False, 'result': False, 'test': False, 'fiz': False, 'ont': False, 'lind': False, 'amizad': False, 'vai': False, 'dur': False, 'sempr': False, 'amedront': False, 'ameac': False, 'deix': False, 'apavor': False, 'lug': False, 'perd': False, 'outr': False, 'jog': False, 'elimin': False, 'pav': False, 'tom': False, 'cuid': False, 'lobisom': False, 'descobr': False, 'encrenc': False, 'trem': False, 'med': False}\n"
     ]
    }
   ],
   "source": [
    "print(inseri_tabela(['am', 'nov', 'dia']))"
   ]
  },
  {
   "cell_type": "markdown",
   "metadata": {},
   "source": [
    "***"
   ]
  },
  {
   "cell_type": "code",
   "execution_count": 11,
   "metadata": {},
   "outputs": [],
   "source": [
    "# Extrair todas as frases (montar a tabela completa)\n",
    "# Vamos pegar cada uma das frases do steamming e aplicar no método extrair_palavras\n",
    "# e jogar tudo para uma variável\n",
    "base_completa = nltk.classify.apply_features(inseri_tabela, stemming)"
   ]
  },
  {
   "cell_type": "code",
   "execution_count": 12,
   "metadata": {},
   "outputs": [
    {
     "name": "stdout",
     "output_type": "stream",
     "text": [
      "({'admir': False, 'muit': False, 'sint': False, 'complet': False, 'am': False, 'maravilh': False, 'sent': False, 'anim': False, 'nov': False, 'bem': False, 'hoj': False, 'bel': False, 'dia': False, 'dirig': False, 'carr': False, 'bonit': False, 'cont': False, 'result': False, 'test': False, 'fiz': False, 'ont': False, 'lind': False, 'amizad': False, 'vai': False, 'dur': False, 'sempr': False, 'amedront': False, 'ameac': False, 'deix': False, 'apavor': False, 'lug': False, 'perd': False, 'outr': False, 'jog': False, 'elimin': False, 'pav': False, 'tom': True, 'cuid': True, 'lobisom': True, 'descobr': False, 'encrenc': False, 'trem': False, 'med': False}, 'medo')\n"
     ]
    }
   ],
   "source": [
    "# Base de dados final que vamos submeter para os algoritmos de aprendizagem de máquina\n",
    "print(base_completa[15])"
   ]
  }
 ],
 "metadata": {
  "kernelspec": {
   "display_name": "Python 3",
   "language": "python",
   "name": "python3"
  },
  "language_info": {
   "codemirror_mode": {
    "name": "ipython",
    "version": 3
   },
   "file_extension": ".py",
   "mimetype": "text/x-python",
   "name": "python",
   "nbconvert_exporter": "python",
   "pygments_lexer": "ipython3",
   "version": "3.7.6"
  }
 },
 "nbformat": 4,
 "nbformat_minor": 2
}
