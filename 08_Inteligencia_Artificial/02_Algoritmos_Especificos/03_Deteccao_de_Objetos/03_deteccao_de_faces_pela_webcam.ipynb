{
 "cells": [
  {
   "cell_type": "markdown",
   "metadata": {},
   "source": [
    "## Detecção de faces pela webcam\n",
    "***\n",
    "\n",
    "A detecção de objetos pela webcam é basicamente um laço de frames/imagens que serão tratadas.\n",
    "\n",
    "***"
   ]
  },
  {
   "cell_type": "code",
   "execution_count": 1,
   "metadata": {},
   "outputs": [],
   "source": [
    "import cv2 as cv"
   ]
  },
  {
   "cell_type": "code",
   "execution_count": 2,
   "metadata": {},
   "outputs": [],
   "source": [
    "dispositivo_padrao = 0\n",
    "video = cv.VideoCapture(dispositivo_padrao)"
   ]
  },
  {
   "cell_type": "code",
   "execution_count": 3,
   "metadata": {},
   "outputs": [],
   "source": [
    "# Cria um classificador passando o xml haarcascade treinado\n",
    "classificador = cv.CascadeClassifier(\"./cascades/haarcascade_frontalface_default.xml\")"
   ]
  },
  {
   "cell_type": "code",
   "execution_count": 4,
   "metadata": {},
   "outputs": [],
   "source": [
    "# Faz a captura do vídeo\n",
    "while True:\n",
    "    conectado, frame = video.read()\n",
    "    \n",
    "    # Armazena a imagem e coloca ela em tons de cinza\n",
    "    frame_cinza = cv.cvtColor(frame, cv.COLOR_BGR2GRAY)\n",
    "    faces_detectadas = classificador.detectMultiScale(\n",
    "        frame_cinza,\n",
    "        minSize=(100, 100)\n",
    "    )\n",
    "    \n",
    "    # Detectar as faces\n",
    "    for (x, y, largura, altura) in faces_detectadas:\n",
    "        cv.rectangle(frame, (x, y), (x + largura, y + altura), (0, 0, 255), 2)\n",
    "    \n",
    "    # Abrir a imagem com opencv\n",
    "    cv.imshow(\"Video\", frame)\n",
    "    \n",
    "    # Verifica se a tecla q foi digitada para fechar o vídeo\n",
    "    if cv.waitKey(1) == ord('q'):\n",
    "        break\n",
    "        \n",
    "video.release()\n",
    "cv.destroyAllWindows() # Remove os objetos"
   ]
  }
 ],
 "metadata": {
  "kernelspec": {
   "display_name": "Python 3",
   "language": "python",
   "name": "python3"
  },
  "language_info": {
   "codemirror_mode": {
    "name": "ipython",
    "version": 3
   },
   "file_extension": ".py",
   "mimetype": "text/x-python",
   "name": "python",
   "nbconvert_exporter": "python",
   "pygments_lexer": "ipython3",
   "version": "3.5.2"
  }
 },
 "nbformat": 4,
 "nbformat_minor": 2
}
