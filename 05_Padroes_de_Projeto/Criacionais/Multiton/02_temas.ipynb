{
 "cells": [
  {
   "cell_type": "markdown",
   "metadata": {},
   "source": [
    "## Temas\n",
    "***"
   ]
  },
  {
   "cell_type": "code",
   "execution_count": 1,
   "metadata": {},
   "outputs": [],
   "source": [
    "class Tema(object):\n",
    "    \"\"\"\n",
    "    Tema multiton\n",
    "    \"\"\"\n",
    "\n",
    "    temas = {}\n",
    "    SKY = \"Sky\"\n",
    "    FIRE = \"Fire\"\n",
    "\n",
    "    # Instancia privada do tema.\n",
    "    __instancia = False\n",
    "\n",
    "    def __init__(self):\n",
    "        \"\"\"\n",
    "        Construtor do tema, se o tema já existir apenas mostre a mensagem.\n",
    "        \"\"\"\n",
    "\n",
    "        if self.__instancia:\n",
    "            raise ValueError(\"O objeto já existe! utilize a função pega_instancia()\")\n",
    "\n",
    "        self.__nome = ''\n",
    "        self.__cor_de_fundo = ''\n",
    "        self.__cor_da_fonte = ''\n",
    "\n",
    "    @classmethod\n",
    "    def pega_instancia(self, nome_do_tema):\n",
    "        \"\"\"\n",
    "        Pega as instâncias dos temas criados ou cria elas.\n",
    "        \"\"\"\n",
    "\n",
    "        if nome_do_tema in Tema.temas:\n",
    "            return Tema.temas[nome_do_tema]\n",
    "        else:\n",
    "            Tema.__constroi_temas()\n",
    "            return Tema.temas[nome_do_tema]\n",
    "\n",
    "    @classmethod\n",
    "    def __constroi_temas(self):\n",
    "        \"\"\"\n",
    "        Constroi os temas.\n",
    "        \"\"\"\n",
    "\n",
    "        tema1 = Tema()\n",
    "        tema1.__nome = Tema.SKY\n",
    "        tema1.__cor_de_fundo = \"Blue\"\n",
    "        tema1.__cor_da_fonte = \"Black\"\n",
    "\n",
    "        self.temas[tema1.nome] = tema1\n",
    "\n",
    "        tema2 = Tema()\n",
    "        tema2.__nome = Tema.FIRE\n",
    "        tema2.__cor_de_fundo = \"Red\"\n",
    "        tema2.__cor_da_fonte = \"White\"\n",
    "\n",
    "        self.temas[tema2.nome] = tema2\n",
    "\n",
    "        self.__intancia = True\n",
    "\n",
    "    @property\n",
    "    def nome(self):\n",
    "        \"\"\"\n",
    "        Pega o nome do tema.\n",
    "        \"\"\"\n",
    "\n",
    "        return self.__nome\n",
    "\n",
    "    @property\n",
    "    def cor_de_fundo(self):\n",
    "        \"\"\"\n",
    "        Pega a cor de fundo do tema.\n",
    "        \"\"\"\n",
    "\n",
    "        return self.__cor_de_fundo\n",
    "\n",
    "    @property\n",
    "    def cor_da_fonte(self):\n",
    "        \"\"\"\n",
    "        Pega a cor da fonte do tema.\n",
    "        \"\"\"\n",
    "\n",
    "        return self.__cor_da_fonte"
   ]
  },
  {
   "cell_type": "markdown",
   "metadata": {},
   "source": [
    "***\n",
    "### Execução\n",
    "***"
   ]
  },
  {
   "cell_type": "code",
   "execution_count": 2,
   "metadata": {},
   "outputs": [
    {
     "name": "stdout",
     "output_type": "stream",
     "text": [
      "Tema: Fire\n",
      "Cor da fonte: White\n",
      "Cor de fundo: Red\n"
     ]
    }
   ],
   "source": [
    "tema_fire1 = Tema.pega_instancia(Tema.FIRE)\n",
    "print(\"Tema: %s\" % tema_fire1.nome)\n",
    "print(\"Cor da fonte: %s\" % tema_fire1.cor_da_fonte)\n",
    "print(\"Cor de fundo: %s\" % tema_fire1.cor_de_fundo)"
   ]
  },
  {
   "cell_type": "code",
   "execution_count": 3,
   "metadata": {},
   "outputs": [
    {
     "name": "stdout",
     "output_type": "stream",
     "text": [
      "Tema: Fire\n",
      "Cor da fonte: White\n",
      "Cor de fundo: Red\n",
      "---------------------\n",
      "Comparando as referências\n",
      "Tema fire1 é igual ao tema fire2: True\n",
      "---------------------\n"
     ]
    }
   ],
   "source": [
    "tema_fire2 = Tema.pega_instancia(Tema.FIRE)\n",
    "print(\"Tema: %s\" % tema_fire1.nome)\n",
    "print(\"Cor da fonte: %s\" % tema_fire1.cor_da_fonte)\n",
    "print(\"Cor de fundo: %s\" % tema_fire1.cor_de_fundo)\n",
    "print(\"---------------------\")\n",
    "print(\"Comparando as referências\")\n",
    "print(\"Tema fire1 é igual ao tema fire2:\", tema_fire1 == tema_fire2)\n",
    "print(\"---------------------\")"
   ]
  },
  {
   "cell_type": "code",
   "execution_count": 4,
   "metadata": {},
   "outputs": [
    {
     "name": "stdout",
     "output_type": "stream",
     "text": [
      "Tema: Sky\n",
      "Cor da fonte: Black\n",
      "Cor de fundo: Blue\n",
      "---------------------\n",
      "Comparando as referências\n",
      "Tema fire é diferente do tema sky: True\n",
      "---------------------\n"
     ]
    }
   ],
   "source": [
    "tema_sky = Tema.pega_instancia(Tema.SKY)\n",
    "print(\"Tema: %s\" % tema_sky.nome)\n",
    "print(\"Cor da fonte: %s\" % tema_sky.cor_da_fonte)\n",
    "print(\"Cor de fundo: %s\" % tema_sky.cor_de_fundo)\n",
    "print(\"---------------------\")\n",
    "print(\"Comparando as referências\")\n",
    "print(\"Tema fire é diferente do tema sky:\", tema_fire1 != tema_sky)\n",
    "print(\"---------------------\")"
   ]
  }
 ],
 "metadata": {
  "kernelspec": {
   "display_name": "Python 3",
   "language": "python",
   "name": "python3"
  },
  "language_info": {
   "codemirror_mode": {
    "name": "ipython",
    "version": 3
   },
   "file_extension": ".py",
   "mimetype": "text/x-python",
   "name": "python",
   "nbconvert_exporter": "python",
   "pygments_lexer": "ipython3",
   "version": "3.7.6"
  }
 },
 "nbformat": 4,
 "nbformat_minor": 2
}
