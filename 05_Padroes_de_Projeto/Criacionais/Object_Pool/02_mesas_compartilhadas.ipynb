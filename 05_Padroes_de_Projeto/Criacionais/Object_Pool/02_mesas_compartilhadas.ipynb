{
 "cells": [
  {
   "cell_type": "markdown",
   "metadata": {},
   "source": [
    "## Mesas Compartilhadas\n",
    "***"
   ]
  },
  {
   "cell_type": "code",
   "execution_count": 1,
   "metadata": {},
   "outputs": [],
   "source": [
    "class Mesa(object):\n",
    "    \"\"\"\n",
    "    Objeto mesa.\n",
    "    \"\"\"\n",
    "\n",
    "    def __init__(self, numero):\n",
    "        \"\"\"\n",
    "        Cria um número de identificação da mesa.\n",
    "        \"\"\"\n",
    "\n",
    "        self.__numero = numero\n",
    "\n",
    "    @property\n",
    "    def numero(self):\n",
    "        \"\"\"\n",
    "        Pega o número da mesa.\n",
    "        \"\"\"\n",
    "\n",
    "        return self.__numero"
   ]
  },
  {
   "cell_type": "code",
   "execution_count": 2,
   "metadata": {},
   "outputs": [],
   "source": [
    "class MesaCompartilhada(object):\n",
    "    \"\"\"\n",
    "    Mesa compartilhada.\n",
    "    \"\"\"\n",
    "\n",
    "    mesas_disponiveis = []\n",
    "    mesas_ocupadas = []\n",
    "\n",
    "    def __init__(self):\n",
    "        \"\"\"\n",
    "        Separa as mesas númeradas em disponiveis e ocupadas.\n",
    "        \"\"\"\n",
    "\n",
    "        self.mesas_disponiveis.append(Mesa(1))\n",
    "        self.mesas_disponiveis.append(Mesa(7))\n",
    "        self.mesas_disponiveis.append(Mesa(2))\n",
    "        self.mesas_disponiveis.append(Mesa(5))\n",
    "        self.mesas_disponiveis.append(Mesa(10))\n",
    "\n",
    "        self.mesas_ocupadas.append(Mesa(3))\n",
    "        self.mesas_ocupadas.append(Mesa(4))\n",
    "        self.mesas_ocupadas.append(Mesa(6))\n",
    "        self.mesas_ocupadas.append(Mesa(8))\n",
    "        self.mesas_ocupadas.append(Mesa(9))\n",
    "\n",
    "    def adquire(self, numero):\n",
    "        \"\"\"\n",
    "        Adquire a mesa de acordo com o número passado.\n",
    "        \"\"\"\n",
    "\n",
    "        for mesa in self.mesas_disponiveis:\n",
    "            if mesa.numero == numero:\n",
    "                print(\"Mesa adquirida: %s\" % mesa.numero)\n",
    "                self.__ocupar_mesa(mesa)\n",
    "                return mesa\n",
    "\n",
    "        print(\"A mesa número {0} está ocupada no momento\".format(numero))\n",
    "\n",
    "    def libera(self, numero):\n",
    "        \"\"\"\n",
    "        Libera a mesa ocupada para uso.\n",
    "        \"\"\"\n",
    "\n",
    "        for mesa in self.mesas_ocupadas:\n",
    "            if mesa.numero == numero:\n",
    "                print(\"Mesa liberada: %s\" % mesa.numero)\n",
    "                self.__desocupar_mesa(mesa)\n",
    "                return mesa\n",
    "\n",
    "        print(\"A mesa número {0} já foi liberada e está disponivel\".format(numero))\n",
    "\n",
    "    def __ocupar_mesa(self, mesa):\n",
    "        \"\"\"\n",
    "        Ocupa a mesa.\n",
    "        \"\"\"\n",
    "\n",
    "        self.mesas_ocupadas.append(mesa)\n",
    "        self.mesas_disponiveis.remove(mesa)\n",
    "\n",
    "    def __desocupar_mesa(self, mesa):\n",
    "        \"\"\"\n",
    "        Desocupa a mesa.\n",
    "        \"\"\"\n",
    "\n",
    "        self.mesas_disponiveis.append(mesa)\n",
    "        self.mesas_ocupadas.remove(mesa)"
   ]
  },
  {
   "cell_type": "markdown",
   "metadata": {},
   "source": [
    "***\n",
    "### Execução\n",
    "***"
   ]
  },
  {
   "cell_type": "code",
   "execution_count": 3,
   "metadata": {},
   "outputs": [],
   "source": [
    "mesa_compartilhada = MesaCompartilhada()"
   ]
  },
  {
   "cell_type": "code",
   "execution_count": 4,
   "metadata": {},
   "outputs": [
    {
     "name": "stdout",
     "output_type": "stream",
     "text": [
      "Mesa adquirida: 7\n",
      "A mesa número 7 está ocupada no momento\n",
      "Mesa liberada: 7\n",
      "A mesa número 7 já foi liberada e está disponivel\n"
     ]
    }
   ],
   "source": [
    "mesa_compartilhada.adquire(7)\n",
    "mesa_compartilhada.adquire(7)\n",
    "mesa_compartilhada.libera(7)\n",
    "mesa_compartilhada.libera(7)"
   ]
  }
 ],
 "metadata": {
  "kernelspec": {
   "display_name": "Python 3",
   "language": "python",
   "name": "python3"
  },
  "language_info": {
   "codemirror_mode": {
    "name": "ipython",
    "version": 3
   },
   "file_extension": ".py",
   "mimetype": "text/x-python",
   "name": "python",
   "nbconvert_exporter": "python",
   "pygments_lexer": "ipython3",
   "version": "3.7.6"
  }
 },
 "nbformat": 4,
 "nbformat_minor": 2
}
