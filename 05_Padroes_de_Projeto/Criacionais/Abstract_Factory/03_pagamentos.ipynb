{
 "cells": [
  {
   "cell_type": "markdown",
   "metadata": {},
   "source": [
    "## Pagamentos\n",
    "***"
   ]
  },
  {
   "cell_type": "markdown",
   "metadata": {},
   "source": [
    "### Bandeiras\n",
    "***"
   ]
  },
  {
   "cell_type": "code",
   "execution_count": 1,
   "metadata": {},
   "outputs": [],
   "source": [
    "class EmissorMasterCard(object):\n",
    "    \"\"\"\n",
    "    Emissor MasterCard\n",
    "    \"\"\"\n",
    "\n",
    "    def envia(self, mensagem):\n",
    "        \"\"\"\n",
    "        Envia a mensagem para o mastercard\n",
    "        \"\"\"\n",
    "\n",
    "        print(\"Enviando a seguinte mensagem para o MasterCard:\", mensagem)"
   ]
  },
  {
   "cell_type": "code",
   "execution_count": 2,
   "metadata": {},
   "outputs": [],
   "source": [
    "class ReceptorMasterCard(object):\n",
    "    \"\"\"\n",
    "    Receptor MasterCard\n",
    "    \"\"\"\n",
    "\n",
    "    def recebe(self):\n",
    "        \"\"\"\n",
    "        Recebe mensagens do MasterCard\n",
    "        \"\"\"\n",
    "\n",
    "        print(\"Recebendo mensagem do MasterCard.\")\n",
    "        mensagem = \"Mensagem do mastercard\"\n",
    "        \n",
    "        return mensagem"
   ]
  },
  {
   "cell_type": "code",
   "execution_count": 3,
   "metadata": {},
   "outputs": [],
   "source": [
    "class EmissorVisa(object):\n",
    "    \"\"\"\n",
    "    Emissor Visa\n",
    "    \"\"\"\n",
    "\n",
    "    def envia(self, mensagem):\n",
    "        \"\"\"\n",
    "        Envia mensagens para a Visa.\n",
    "        \"\"\"\n",
    "\n",
    "        print(\"Enviando a seguinte mensagem para a Visa:\", mensagem)"
   ]
  },
  {
   "cell_type": "code",
   "execution_count": 4,
   "metadata": {},
   "outputs": [],
   "source": [
    "class ReceptorVisa(object):\n",
    "    \"\"\"\n",
    "    Receptor Visa.\n",
    "    \"\"\"\n",
    "\n",
    "    def recebe(self):\n",
    "        \"\"\"\n",
    "        Recebe mensagens da Visa.\n",
    "        \"\"\"\n",
    "\n",
    "        print(\"Recebendo mensagem da Visa.\")\n",
    "        mensagem = \"Mensagem da visa\"\n",
    "        \n",
    "        return mensagem"
   ]
  },
  {
   "cell_type": "markdown",
   "metadata": {},
   "source": [
    "***\n",
    "### Comunicadores\n",
    "***"
   ]
  },
  {
   "cell_type": "code",
   "execution_count": 5,
   "metadata": {},
   "outputs": [],
   "source": [
    "class Emissores(object):\n",
    "    \"\"\"\n",
    "    Fabrica de emissores.\n",
    "    \"\"\"\n",
    "\n",
    "    VISA = 0\n",
    "    MASTERCARD = 1\n",
    "\n",
    "    def cria(self, emissor):\n",
    "        \"\"\"\n",
    "        Cria emissores.\n",
    "        \"\"\"\n",
    "\n",
    "        if emissor == self.VISA:\n",
    "            return EmissorVisa()\n",
    "        elif emissor == self.MASTERCARD:\n",
    "            return EmissorMasterCard()\n",
    "        else:\n",
    "            raise Exception(\"Tipo de emissor não suportado\")"
   ]
  },
  {
   "cell_type": "code",
   "execution_count": 6,
   "metadata": {},
   "outputs": [],
   "source": [
    "class Receptores(object):\n",
    "    \"\"\"\n",
    "    Fabrica de receptores.\n",
    "    \"\"\"\n",
    "\n",
    "    VISA = 0\n",
    "    MASTERCARD = 1\n",
    "\n",
    "    def cria(self, receptor):\n",
    "        \"\"\"\n",
    "        Cria um receptor.\n",
    "        \"\"\"\n",
    "\n",
    "        if receptor == self.VISA:\n",
    "            return ReceptorVisa()\n",
    "        elif receptor == self.MASTERCARD:\n",
    "            return ReceptorMasterCard()\n",
    "        else:\n",
    "            raise Exception(\"Tipo de receptor não suportado\")"
   ]
  },
  {
   "cell_type": "markdown",
   "metadata": {},
   "source": [
    "***\n",
    "### Fabricas\n",
    "***"
   ]
  },
  {
   "cell_type": "code",
   "execution_count": 7,
   "metadata": {},
   "outputs": [],
   "source": [
    "class FabricaDeComunicadoresVisa(object):\n",
    "    \"\"\"\n",
    "    Fabrica de comunicadores da Visa.\n",
    "    \"\"\"\n",
    "\n",
    "    def __init__(self):\n",
    "        \"\"\"\n",
    "        Cria as fabricas de emissores e receptores.\n",
    "        \"\"\"\n",
    "\n",
    "        self.__emissores = Emissores()\n",
    "        self.__receptores = Receptores()\n",
    "\n",
    "    def cria_emissor(self):\n",
    "        \"\"\"\n",
    "        Cria o emissor da visa.\n",
    "        \"\"\"\n",
    "\n",
    "        return self.__emissores.cria(Emissores.VISA)\n",
    "\n",
    "    def cria_receptor(self):\n",
    "        \"\"\"\n",
    "        Cria o receptor da visa.\n",
    "        \"\"\"\n",
    "\n",
    "        return self.__receptores.cria(Receptores.VISA)"
   ]
  },
  {
   "cell_type": "code",
   "execution_count": 8,
   "metadata": {},
   "outputs": [],
   "source": [
    "class FabricaDeComunicadoresMasterCard(object):\n",
    "    \"\"\"\n",
    "    Fabrica de comunicadores da Master Card.\n",
    "    \"\"\"\n",
    "\n",
    "    def __init__(self):\n",
    "        \"\"\"\n",
    "        Cria as fabricas de emissores e receptores.\n",
    "        \"\"\"\n",
    "\n",
    "        self.__emissores = Emissores()\n",
    "        self.__receptores = Receptores()\n",
    "\n",
    "    def cria_emissor(self):\n",
    "        \"\"\"\n",
    "        Cria o emissor da visa.\n",
    "        \"\"\"\n",
    "\n",
    "        return self.__emissores.cria(Emissores.MASTERCARD)\n",
    "\n",
    "    def cria_receptor(self):\n",
    "        \"\"\"\n",
    "        Cria o receptor da visa.\n",
    "        \"\"\"\n",
    "\n",
    "        return self.__receptores.cria(Receptores.MASTERCARD)"
   ]
  },
  {
   "cell_type": "markdown",
   "metadata": {},
   "source": [
    "***\n",
    "### Execução\n",
    "***"
   ]
  },
  {
   "cell_type": "code",
   "execution_count": 9,
   "metadata": {},
   "outputs": [],
   "source": [
    "comunicador = FabricaDeComunicadoresVisa()"
   ]
  },
  {
   "cell_type": "code",
   "execution_count": 10,
   "metadata": {},
   "outputs": [
    {
     "name": "stdout",
     "output_type": "stream",
     "text": [
      "Enviando a seguinte mensagem para a Visa: Valor=550; Senha=123\n"
     ]
    }
   ],
   "source": [
    "transacao = \"Valor=550; Senha=123\"\n",
    "emissor = comunicador.cria_emissor()\n",
    "emissor.envia(transacao)"
   ]
  },
  {
   "cell_type": "code",
   "execution_count": 11,
   "metadata": {},
   "outputs": [
    {
     "name": "stdout",
     "output_type": "stream",
     "text": [
      "Recebendo mensagem da Visa.\n",
      "Mensagem da visa\n"
     ]
    }
   ],
   "source": [
    "receptor = comunicador.cria_receptor()\n",
    "mensagem = receptor.recebe()\n",
    "print(mensagem)"
   ]
  },
  {
   "cell_type": "markdown",
   "metadata": {},
   "source": [
    "***"
   ]
  },
  {
   "cell_type": "code",
   "execution_count": 12,
   "metadata": {},
   "outputs": [],
   "source": [
    "comunicador = FabricaDeComunicadoresMasterCard()"
   ]
  },
  {
   "cell_type": "code",
   "execution_count": 13,
   "metadata": {},
   "outputs": [
    {
     "name": "stdout",
     "output_type": "stream",
     "text": [
      "Enviando a seguinte mensagem para o MasterCard: Valor=220; Senha=321\n"
     ]
    }
   ],
   "source": [
    "transacao = \"Valor=220; Senha=321\"\n",
    "emissor = comunicador.cria_emissor()\n",
    "emissor.envia(transacao)"
   ]
  },
  {
   "cell_type": "code",
   "execution_count": 14,
   "metadata": {},
   "outputs": [
    {
     "name": "stdout",
     "output_type": "stream",
     "text": [
      "Recebendo mensagem do MasterCard.\n",
      "Mensagem do mastercard\n"
     ]
    }
   ],
   "source": [
    "receptor = comunicador.cria_receptor()\n",
    "mensagem = receptor.recebe()\n",
    "print(mensagem)"
   ]
  }
 ],
 "metadata": {
  "kernelspec": {
   "display_name": "Python 3",
   "language": "python",
   "name": "python3"
  },
  "language_info": {
   "codemirror_mode": {
    "name": "ipython",
    "version": 3
   },
   "file_extension": ".py",
   "mimetype": "text/x-python",
   "name": "python",
   "nbconvert_exporter": "python",
   "pygments_lexer": "ipython3",
   "version": "3.7.6"
  }
 },
 "nbformat": 4,
 "nbformat_minor": 2
}
