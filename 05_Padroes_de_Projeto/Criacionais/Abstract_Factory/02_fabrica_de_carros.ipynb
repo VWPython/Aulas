{
 "cells": [
  {
   "cell_type": "markdown",
   "metadata": {},
   "source": [
    "## Fabrica de carros\n",
    "***"
   ]
  },
  {
   "cell_type": "markdown",
   "metadata": {},
   "source": [
    "### Categorias\n",
    "***"
   ]
  },
  {
   "cell_type": "code",
   "execution_count": 1,
   "metadata": {},
   "outputs": [],
   "source": [
    "class CarroPopular(object):\n",
    "    \"\"\"\n",
    "    Classe responsavel por mostrar informações de carros populares.\n",
    "    \"\"\"\n",
    "\n",
    "    def mostra_informacao(self):\n",
    "        \"\"\"\n",
    "        Mostra informação do carro.\n",
    "        \"\"\"\n",
    "\n",
    "        print(\"Categoria: Popular\\n\")"
   ]
  },
  {
   "cell_type": "code",
   "execution_count": 2,
   "metadata": {},
   "outputs": [],
   "source": [
    "class CarroSedan(object):\n",
    "    \"\"\"\n",
    "    Classe responsavel por mostrar informações de carros sedans\n",
    "    \"\"\"\n",
    "\n",
    "    def mostra_informacao(self):\n",
    "        \"\"\"\n",
    "        Mostra informações\n",
    "        \"\"\"\n",
    "\n",
    "        print(\"Categoria: Sedan\\n\")"
   ]
  },
  {
   "cell_type": "markdown",
   "metadata": {},
   "source": [
    "***\n",
    "### Modelos\n",
    "***"
   ]
  },
  {
   "cell_type": "code",
   "execution_count": 3,
   "metadata": {},
   "outputs": [],
   "source": [
    "class Palio(CarroPopular):\n",
    "    \"\"\"\n",
    "    Carro popular Palio.\n",
    "    \"\"\"\n",
    "\n",
    "    def mostra_informacao(self):\n",
    "        \"\"\"\n",
    "        Mostra informações do palio.\n",
    "        \"\"\"\n",
    "\n",
    "        print(\"Modelo: Palio\")\n",
    "        print(\"Fabricante: Fiat\")\n",
    "        super().mostra_informacao()"
   ]
  },
  {
   "cell_type": "code",
   "execution_count": 4,
   "metadata": {},
   "outputs": [],
   "source": [
    "class Ka(CarroPopular):\n",
    "    \"\"\"\n",
    "    Carro popular Ka.\n",
    "    \"\"\"\n",
    "\n",
    "    def mostra_informacao(self):\n",
    "        \"\"\"\n",
    "        Mostrar informações do Ka.\n",
    "        \"\"\"\n",
    "\n",
    "        print(\"Modelo: Ka\")\n",
    "        print(\"Fabricante: Ford\")\n",
    "        super().mostra_informacao()"
   ]
  },
  {
   "cell_type": "code",
   "execution_count": 5,
   "metadata": {},
   "outputs": [],
   "source": [
    "class Siena(CarroSedan):\n",
    "    \"\"\"\n",
    "    Carro sedan Siena.\n",
    "    \"\"\"\n",
    "\n",
    "    def mostra_informacao(self):\n",
    "        \"\"\"\n",
    "        Mostrar informações do siena.\n",
    "        \"\"\"\n",
    "\n",
    "        print(\"Modelo: Grand Siena\")\n",
    "        print(\"Fabricante: Fiat\")\n",
    "        super().mostra_informacao()"
   ]
  },
  {
   "cell_type": "code",
   "execution_count": 6,
   "metadata": {},
   "outputs": [],
   "source": [
    "class KaSedan(CarroSedan):\n",
    "    \"\"\"\n",
    "    Carro sedan Ka.\n",
    "    \"\"\"\n",
    "\n",
    "    def mostra_informacao(self):\n",
    "        \"\"\"\n",
    "        Mostrar informações do Ka\n",
    "        \"\"\"\n",
    "\n",
    "        print(\"Modelo: Ka Sedan\")\n",
    "        print(\"Fabricante: Ford\")\n",
    "        super().mostra_informacao()"
   ]
  },
  {
   "cell_type": "markdown",
   "metadata": {},
   "source": [
    "***\n",
    "### Fabricas\n",
    "***"
   ]
  },
  {
   "cell_type": "code",
   "execution_count": 7,
   "metadata": {},
   "outputs": [],
   "source": [
    "class Fiat(object):\n",
    "    \"\"\"\n",
    "    Fabrica de carros da Fiat.\n",
    "    \"\"\"\n",
    "\n",
    "    PALIO = 0\n",
    "    SIENA = 1\n",
    "\n",
    "    def constroi_carro_sedan(self, modelo):\n",
    "        \"\"\"\n",
    "        Constroi carros sedans da fiat.\n",
    "        \"\"\"\n",
    "\n",
    "        if modelo == self.SIENA:\n",
    "            return Siena()\n",
    "        else:\n",
    "            print(\"Tipo de carro não existe.\")\n",
    "\n",
    "    def constroi_carro_popular(self, modelo):\n",
    "        \"\"\"\n",
    "        Constroi carros populares da fiat.\n",
    "        \"\"\"\n",
    "\n",
    "        if modelo == self.PALIO:\n",
    "            return Palio()\n",
    "        else:\n",
    "            print(\"Tipo de carro não existe.\")"
   ]
  },
  {
   "cell_type": "code",
   "execution_count": 8,
   "metadata": {},
   "outputs": [],
   "source": [
    "class Ford(object):\n",
    "\n",
    "    KA = 0\n",
    "    KA_SEDAN = 1\n",
    "\n",
    "    def constroi_carro_sedan(self, modelo):\n",
    "        if modelo == self.KA_SEDAN:\n",
    "            return KaSedan()\n",
    "        else:\n",
    "            print(\"Tipo de carro não existe.\")\n",
    "\n",
    "    def constroi_carro_popular(self, modelo):\n",
    "        if modelo == self.KA:\n",
    "            return Ka()\n",
    "        else:\n",
    "            print(\"Tipo de carro não existe.\")"
   ]
  },
  {
   "cell_type": "markdown",
   "metadata": {},
   "source": [
    "***\n",
    "### Execução\n",
    "***"
   ]
  },
  {
   "cell_type": "code",
   "execution_count": 9,
   "metadata": {},
   "outputs": [
    {
     "name": "stdout",
     "output_type": "stream",
     "text": [
      "Modelo: Grand Siena\n",
      "Fabricante: Fiat\n",
      "Categoria: Sedan\n",
      "\n",
      "Modelo: Palio\n",
      "Fabricante: Fiat\n",
      "Categoria: Popular\n",
      "\n"
     ]
    }
   ],
   "source": [
    "fabrica = Fiat()\n",
    "sedan = fabrica.constroi_carro_sedan(Fiat.SIENA)\n",
    "sedan.mostra_informacao()\n",
    "popular = fabrica.constroi_carro_popular(Fiat.PALIO)\n",
    "popular.mostra_informacao()"
   ]
  },
  {
   "cell_type": "code",
   "execution_count": 10,
   "metadata": {},
   "outputs": [
    {
     "name": "stdout",
     "output_type": "stream",
     "text": [
      "Modelo: Ka Sedan\n",
      "Fabricante: Ford\n",
      "Categoria: Sedan\n",
      "\n",
      "Modelo: Ka\n",
      "Fabricante: Ford\n",
      "Categoria: Popular\n",
      "\n"
     ]
    }
   ],
   "source": [
    "fabrica = Ford()\n",
    "sedan = fabrica.constroi_carro_sedan(Ford.KA_SEDAN)\n",
    "sedan.mostra_informacao()\n",
    "popular = fabrica.constroi_carro_popular(Ford.KA)\n",
    "popular.mostra_informacao()"
   ]
  }
 ],
 "metadata": {
  "kernelspec": {
   "display_name": "Python 3",
   "language": "python",
   "name": "python3"
  },
  "language_info": {
   "codemirror_mode": {
    "name": "ipython",
    "version": 3
   },
   "file_extension": ".py",
   "mimetype": "text/x-python",
   "name": "python",
   "nbconvert_exporter": "python",
   "pygments_lexer": "ipython3",
   "version": "3.7.6"
  }
 },
 "nbformat": 4,
 "nbformat_minor": 2
}
