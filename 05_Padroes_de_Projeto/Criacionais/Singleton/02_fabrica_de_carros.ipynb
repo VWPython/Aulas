{
 "cells": [
  {
   "cell_type": "markdown",
   "metadata": {},
   "source": [
    "## Fabrica de Carros\n",
    "***"
   ]
  },
  {
   "cell_type": "code",
   "execution_count": 1,
   "metadata": {},
   "outputs": [],
   "source": [
    "class FabricaDeCarros(object):\n",
    "    \"\"\"\n",
    "    Fabrica de carros.\n",
    "    \"\"\"\n",
    "\n",
    "    total_de_carros_fiat = 0\n",
    "    total_de_carros_ford = 0\n",
    "    total_de_carros_volks = 0\n",
    "\n",
    "    # Instancia privada\n",
    "    __instancia = None\n",
    "\n",
    "    def __init__(self):\n",
    "        \"\"\"\n",
    "        Se a instância já existir mostre uma mensagem.\n",
    "        \"\"\"\n",
    "\n",
    "        if self.__instancia is not None:\n",
    "            raise ValueError(\"O objeto já existe! utilize a função pega_instancia()\")\n",
    "\n",
    "    def cria_carro_volks(self):\n",
    "        \"\"\"\n",
    "        Cria um carro da volks.\n",
    "        \"\"\"\n",
    "\n",
    "        self.total_de_carros_volks += 1\n",
    "        print(\"Carro Volks #\", self.total_de_carros_volks, \" criado\")\n",
    "\n",
    "    def cria_carro_ford(self):\n",
    "        \"\"\"\n",
    "        Cria um carro da ford.\n",
    "        \"\"\"\n",
    "\n",
    "        self.total_de_carros_ford += 1\n",
    "        print(\"Carro Ford #\", self.total_de_carros_ford, \" criado\")\n",
    "\n",
    "    def cria_carro_fiat(self):\n",
    "        \"\"\"\n",
    "        Cria um carro da fiat.\n",
    "        \"\"\"\n",
    "\n",
    "        self.total_de_carros_fiat += 1\n",
    "        print(\"Carro Fiat #\", self.total_de_carros_fiat, \" criado\")\n",
    "\n",
    "    def gera_relatorio(self):\n",
    "        \"\"\"\n",
    "        Gera o relatória de carros vendidos\n",
    "        \"\"\"\n",
    "\n",
    "        print(\"Total de carros Fiat vendidos:\", self.total_de_carros_fiat)\n",
    "        print(\"Total de carros Ford vendidos:\", self.total_de_carros_ford)\n",
    "        print(\"Total de carros Volks vendidos:\", self.total_de_carros_volks)\n",
    "\n",
    "    @staticmethod\n",
    "    def pega_instancia():\n",
    "        \"\"\"\n",
    "        Pega a instância da fábrica..\n",
    "        \"\"\"\n",
    "\n",
    "        if(FabricaDeCarros.__instancia is None):\n",
    "            FabricaDeCarros.__instancia = FabricaDeCarros()\n",
    "        return FabricaDeCarros.__instancia"
   ]
  },
  {
   "cell_type": "markdown",
   "metadata": {},
   "source": [
    "***\n",
    "### Execução\n",
    "***"
   ]
  },
  {
   "cell_type": "code",
   "execution_count": 2,
   "metadata": {},
   "outputs": [
    {
     "name": "stdout",
     "output_type": "stream",
     "text": [
      "Primeira instancia\n",
      "Carro Fiat # 1  criado\n",
      "Carro Ford # 1  criado\n",
      "Carro Volks # 1  criado\n",
      "Total de carros Fiat vendidos: 1\n",
      "Total de carros Ford vendidos: 1\n",
      "Total de carros Volks vendidos: 1\n"
     ]
    }
   ],
   "source": [
    "print(\"Primeira instancia\")\n",
    "fabrica = FabricaDeCarros.pega_instancia()\n",
    "fabrica.cria_carro_fiat()\n",
    "fabrica.cria_carro_ford()\n",
    "fabrica.cria_carro_volks()\n",
    "fabrica.gera_relatorio()"
   ]
  },
  {
   "cell_type": "code",
   "execution_count": 3,
   "metadata": {},
   "outputs": [
    {
     "name": "stdout",
     "output_type": "stream",
     "text": [
      "Segunda instancia\n",
      "Total de carros Fiat vendidos: 1\n",
      "Total de carros Ford vendidos: 1\n",
      "Total de carros Volks vendidos: 1\n"
     ]
    }
   ],
   "source": [
    "print(\"Segunda instancia\")\n",
    "fabrica = FabricaDeCarros.pega_instancia()\n",
    "fabrica.gera_relatorio()"
   ]
  }
 ],
 "metadata": {
  "kernelspec": {
   "display_name": "Python 3",
   "language": "python",
   "name": "python3"
  },
  "language_info": {
   "codemirror_mode": {
    "name": "ipython",
    "version": 3
   },
   "file_extension": ".py",
   "mimetype": "text/x-python",
   "name": "python",
   "nbconvert_exporter": "python",
   "pygments_lexer": "ipython3",
   "version": "3.7.6"
  }
 },
 "nbformat": 4,
 "nbformat_minor": 2
}
