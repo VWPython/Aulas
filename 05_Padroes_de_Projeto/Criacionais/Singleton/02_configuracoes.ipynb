{
 "cells": [
  {
   "cell_type": "markdown",
   "metadata": {},
   "source": [
    "## Configurações\n",
    "***"
   ]
  },
  {
   "cell_type": "code",
   "execution_count": 1,
   "metadata": {},
   "outputs": [],
   "source": [
    "class Configuracao(object):\n",
    "    \"\"\"\n",
    "    Configurações.\n",
    "    \"\"\"\n",
    "\n",
    "    __propriedades = {}\n",
    "    __instancia = None\n",
    "\n",
    "    def __init__(self):\n",
    "        \"\"\"\n",
    "        Constroi as configurações caso ainda não exista.\n",
    "        \"\"\"\n",
    "\n",
    "        if self.__instancia is not None:\n",
    "            raise ValueError(\"O objeto já existe! utilize a função pega_instancia()\")\n",
    "\n",
    "        self.__propriedades['time-zone'] = \"America/Sao_Paulo\"\n",
    "        self.__propriedades['currency-code'] = \"BRL\"\n",
    "        self.__propriedades['language'] = \"pt-BR\"\n",
    "\n",
    "    @classmethod\n",
    "    def pega_instancia(self):\n",
    "        \"\"\"\n",
    "        Pega a instância já criada.\n",
    "        \"\"\"\n",
    "\n",
    "        if self.__instancia is None:\n",
    "            self.__instancia = Configuracao()\n",
    "        return self.__instancia\n",
    "\n",
    "    def pega_propriedade(self, nome_da_propriedade):\n",
    "        \"\"\"\n",
    "        Pega as propriedades da configuração.\n",
    "        \"\"\"\n",
    "\n",
    "        return self.__propriedades[nome_da_propriedade]"
   ]
  },
  {
   "cell_type": "markdown",
   "metadata": {},
   "source": [
    "***\n",
    "### Execução\n",
    "***"
   ]
  },
  {
   "cell_type": "code",
   "execution_count": 2,
   "metadata": {},
   "outputs": [],
   "source": [
    "configuracao = Configuracao.pega_instancia()"
   ]
  },
  {
   "cell_type": "code",
   "execution_count": 3,
   "metadata": {},
   "outputs": [
    {
     "name": "stdout",
     "output_type": "stream",
     "text": [
      "America/Sao_Paulo\n"
     ]
    }
   ],
   "source": [
    "print(configuracao.pega_propriedade(\"time-zone\"))"
   ]
  },
  {
   "cell_type": "code",
   "execution_count": 4,
   "metadata": {},
   "outputs": [
    {
     "name": "stdout",
     "output_type": "stream",
     "text": [
      "BRL\n"
     ]
    }
   ],
   "source": [
    "print(configuracao.pega_propriedade(\"currency-code\"))"
   ]
  },
  {
   "cell_type": "code",
   "execution_count": 5,
   "metadata": {},
   "outputs": [
    {
     "name": "stdout",
     "output_type": "stream",
     "text": [
      "pt-BR\n"
     ]
    }
   ],
   "source": [
    "print(configuracao.pega_propriedade(\"language\"))"
   ]
  },
  {
   "cell_type": "code",
   "execution_count": 6,
   "metadata": {},
   "outputs": [
    {
     "ename": "ValueError",
     "evalue": "O objeto já existe! utilize a função pega_instancia()",
     "output_type": "error",
     "traceback": [
      "\u001b[0;31m---------------------------------------------------------------------------\u001b[0m",
      "\u001b[0;31mValueError\u001b[0m                                Traceback (most recent call last)",
      "\u001b[0;32m<ipython-input-6-08eb823585ac>\u001b[0m in \u001b[0;36m<module>\u001b[0;34m\u001b[0m\n\u001b[0;32m----> 1\u001b[0;31m \u001b[0mconfiguracao2\u001b[0m \u001b[0;34m=\u001b[0m \u001b[0mConfiguracao\u001b[0m\u001b[0;34m(\u001b[0m\u001b[0;34m)\u001b[0m\u001b[0;34m\u001b[0m\u001b[0;34m\u001b[0m\u001b[0m\n\u001b[0m",
      "\u001b[0;32m<ipython-input-1-e35c3088ca26>\u001b[0m in \u001b[0;36m__init__\u001b[0;34m(self)\u001b[0m\n\u001b[1;32m     13\u001b[0m \u001b[0;34m\u001b[0m\u001b[0m\n\u001b[1;32m     14\u001b[0m         \u001b[0;32mif\u001b[0m \u001b[0mself\u001b[0m\u001b[0;34m.\u001b[0m\u001b[0m__instancia\u001b[0m \u001b[0;32mis\u001b[0m \u001b[0;32mnot\u001b[0m \u001b[0;32mNone\u001b[0m\u001b[0;34m:\u001b[0m\u001b[0;34m\u001b[0m\u001b[0;34m\u001b[0m\u001b[0m\n\u001b[0;32m---> 15\u001b[0;31m             \u001b[0;32mraise\u001b[0m \u001b[0mValueError\u001b[0m\u001b[0;34m(\u001b[0m\u001b[0;34m\"O objeto já existe! utilize a função pega_instancia()\"\u001b[0m\u001b[0;34m)\u001b[0m\u001b[0;34m\u001b[0m\u001b[0;34m\u001b[0m\u001b[0m\n\u001b[0m\u001b[1;32m     16\u001b[0m \u001b[0;34m\u001b[0m\u001b[0m\n\u001b[1;32m     17\u001b[0m         \u001b[0mself\u001b[0m\u001b[0;34m.\u001b[0m\u001b[0m__propriedades\u001b[0m\u001b[0;34m[\u001b[0m\u001b[0;34m'time-zone'\u001b[0m\u001b[0;34m]\u001b[0m \u001b[0;34m=\u001b[0m \u001b[0;34m\"America/Sao_Paulo\"\u001b[0m\u001b[0;34m\u001b[0m\u001b[0;34m\u001b[0m\u001b[0m\n",
      "\u001b[0;31mValueError\u001b[0m: O objeto já existe! utilize a função pega_instancia()"
     ]
    }
   ],
   "source": [
    "configuracao2 = Configuracao()"
   ]
  }
 ],
 "metadata": {
  "kernelspec": {
   "display_name": "Python 3",
   "language": "python",
   "name": "python3"
  },
  "language_info": {
   "codemirror_mode": {
    "name": "ipython",
    "version": 3
   },
   "file_extension": ".py",
   "mimetype": "text/x-python",
   "name": "python",
   "nbconvert_exporter": "python",
   "pygments_lexer": "ipython3",
   "version": "3.7.6"
  }
 },
 "nbformat": 4,
 "nbformat_minor": 2
}
