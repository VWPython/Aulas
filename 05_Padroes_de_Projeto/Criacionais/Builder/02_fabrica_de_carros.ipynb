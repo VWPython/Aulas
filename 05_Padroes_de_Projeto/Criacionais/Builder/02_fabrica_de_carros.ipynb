{
 "cells": [
  {
   "cell_type": "markdown",
   "metadata": {},
   "source": [
    "## Fabrica de Carros\n",
    "***"
   ]
  },
  {
   "cell_type": "code",
   "execution_count": 1,
   "metadata": {},
   "outputs": [],
   "source": [
    "from datetime import date\n",
    "\n",
    "class Carro(object):\n",
    "    \"\"\"\n",
    "    Modelo do carro.\n",
    "    \"\"\"\n",
    "\n",
    "    preco = 0.0\n",
    "    motor = ''\n",
    "    ano_de_fabricacao = date.today()\n",
    "    modelo = ''\n",
    "    montadora = ''"
   ]
  },
  {
   "cell_type": "markdown",
   "metadata": {},
   "source": [
    "### Montadoras\n",
    "***"
   ]
  },
  {
   "cell_type": "code",
   "execution_count": 2,
   "metadata": {},
   "outputs": [],
   "source": [
    "class FabricaDeCarros(object):\n",
    "    \"\"\"\n",
    "    Classe que funciona como um template para criação\n",
    "    de fábricas de carro.\n",
    "    \"\"\"\n",
    "\n",
    "    def __init__(self):\n",
    "        \"\"\"\n",
    "        Pega o modelo do carro.\n",
    "        \"\"\"\n",
    "\n",
    "        self.carro = Carro()\n",
    "        \n",
    "    def define_preco(self, preco):\n",
    "        self.carro.preco = preco\n",
    "\n",
    "    def define_motor(self, motor):\n",
    "        self.carro.motor = motor\n",
    "\n",
    "    def define_ano_de_fabricacao(self, ano_de_fabricacao):\n",
    "        self.carro.ano_de_fabricacao = ano_de_fabricacao\n",
    "\n",
    "    def define_modelo(self, modelo):\n",
    "        self.carro.modelo = modelo\n",
    "\n",
    "    def constroi_carro(self):\n",
    "        \"\"\"\n",
    "        Constroi o carro.\n",
    "        \"\"\"\n",
    "\n",
    "        return self.carro"
   ]
  },
  {
   "cell_type": "code",
   "execution_count": 3,
   "metadata": {},
   "outputs": [],
   "source": [
    "class Fiat(FabricaDeCarros):\n",
    "    \"\"\"\n",
    "    Fabrica de carros da Fiat.\n",
    "    \"\"\"\n",
    "\n",
    "    def define_montadora(self):\n",
    "        self.carro.montadora = 'Fiat'"
   ]
  },
  {
   "cell_type": "code",
   "execution_count": 4,
   "metadata": {},
   "outputs": [],
   "source": [
    "class Volkswagen(FabricaDeCarros):\n",
    "    \"\"\"\n",
    "    Fabrica de carros da Volkswagen\n",
    "    \"\"\"\n",
    "\n",
    "    def define_montadora(self):\n",
    "        self.carro.montadora = 'Volkswagen'"
   ]
  },
  {
   "cell_type": "markdown",
   "metadata": {},
   "source": [
    "***\n",
    "### Concessionaria\n",
    "***"
   ]
  },
  {
   "cell_type": "code",
   "execution_count": 5,
   "metadata": {},
   "outputs": [],
   "source": [
    "class Concessionaria(object):\n",
    "\n",
    "    def __init__(self, montadora):\n",
    "        \"\"\"\n",
    "        Insere a montadora na concessionária.\n",
    "        \"\"\"\n",
    "\n",
    "        self.montadora = montadora\n",
    "\n",
    "    def fabrica_carro(self, preco, ano_de_fabricacao, motor, modelo):\n",
    "        \"\"\"\n",
    "        Fabrica o carro através da montadora.\n",
    "        \"\"\"\n",
    "\n",
    "        self.montadora.define_preco(preco)\n",
    "        self.montadora.define_ano_de_fabricacao(ano_de_fabricacao)\n",
    "        self.montadora.define_motor(motor)\n",
    "        self.montadora.define_modelo(modelo)\n",
    "        self.montadora.define_montadora()\n",
    "\n",
    "    def disponibiliza_carro(self):\n",
    "        \"\"\"\n",
    "        Disponibiliza o carro.\n",
    "        \"\"\"\n",
    "\n",
    "        return self.montadora.constroi_carro()"
   ]
  },
  {
   "cell_type": "markdown",
   "metadata": {},
   "source": [
    "***\n",
    "### Execução\n",
    "***"
   ]
  },
  {
   "cell_type": "code",
   "execution_count": 6,
   "metadata": {},
   "outputs": [],
   "source": [
    "concessionaria = Concessionaria(Fiat())"
   ]
  },
  {
   "cell_type": "code",
   "execution_count": 7,
   "metadata": {},
   "outputs": [],
   "source": [
    "concessionaria.fabrica_carro(\n",
    "    preco=18000,\n",
    "    ano_de_fabricacao=2015,\n",
    "    motor='Total flex 1.4',\n",
    "    modelo='Uno'\n",
    ")"
   ]
  },
  {
   "cell_type": "code",
   "execution_count": 8,
   "metadata": {},
   "outputs": [],
   "source": [
    "carro = concessionaria.disponibiliza_carro()"
   ]
  },
  {
   "cell_type": "code",
   "execution_count": 9,
   "metadata": {},
   "outputs": [
    {
     "name": "stdout",
     "output_type": "stream",
     "text": [
      "Preço: 18000\n",
      "Ano de fabricação: 2015\n",
      "Motor: Total flex 1.4\n",
      "Modelo: Uno\n",
      "Montadora: Fiat\n"
     ]
    }
   ],
   "source": [
    "print(\"Preço:\", carro.preco)\n",
    "print(\"Ano de fabricação:\", carro.ano_de_fabricacao)\n",
    "print(\"Motor:\", carro.motor)\n",
    "print(\"Modelo:\", carro.modelo)\n",
    "print(\"Montadora:\", carro.montadora)"
   ]
  },
  {
   "cell_type": "markdown",
   "metadata": {},
   "source": [
    "***"
   ]
  },
  {
   "cell_type": "code",
   "execution_count": 10,
   "metadata": {},
   "outputs": [],
   "source": [
    "concessionaria = Concessionaria(Volkswagen())"
   ]
  },
  {
   "cell_type": "code",
   "execution_count": 11,
   "metadata": {},
   "outputs": [],
   "source": [
    "concessionaria.fabrica_carro(\n",
    "    preco=25000,\n",
    "    ano_de_fabricacao=2017,\n",
    "    motor='1.0',\n",
    "    modelo='Celta'\n",
    ")"
   ]
  },
  {
   "cell_type": "code",
   "execution_count": 12,
   "metadata": {},
   "outputs": [],
   "source": [
    "carro = concessionaria.disponibiliza_carro()"
   ]
  },
  {
   "cell_type": "code",
   "execution_count": 13,
   "metadata": {},
   "outputs": [
    {
     "name": "stdout",
     "output_type": "stream",
     "text": [
      "Preço: 25000\n",
      "Ano de fabricação: 2017\n",
      "Motor: 1.0\n",
      "Modelo: Celta\n",
      "Montadora: Volkswagen\n"
     ]
    }
   ],
   "source": [
    "print(\"Preço:\", carro.preco)\n",
    "print(\"Ano de fabricação:\", carro.ano_de_fabricacao)\n",
    "print(\"Motor:\", carro.motor)\n",
    "print(\"Modelo:\", carro.modelo)\n",
    "print(\"Montadora:\", carro.montadora)"
   ]
  }
 ],
 "metadata": {
  "kernelspec": {
   "display_name": "Python 3",
   "language": "python",
   "name": "python3"
  },
  "language_info": {
   "codemirror_mode": {
    "name": "ipython",
    "version": 3
   },
   "file_extension": ".py",
   "mimetype": "text/x-python",
   "name": "python",
   "nbconvert_exporter": "python",
   "pygments_lexer": "ipython3",
   "version": "3.7.6"
  }
 },
 "nbformat": 4,
 "nbformat_minor": 2
}
