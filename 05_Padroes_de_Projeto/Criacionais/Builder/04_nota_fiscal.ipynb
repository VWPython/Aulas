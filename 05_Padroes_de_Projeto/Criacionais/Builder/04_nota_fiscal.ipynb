{
 "cells": [
  {
   "cell_type": "markdown",
   "metadata": {},
   "source": [
    "## Nota Fiscal\n",
    "***"
   ]
  },
  {
   "cell_type": "code",
   "execution_count": 1,
   "metadata": {},
   "outputs": [],
   "source": [
    "class Item(object):\n",
    "    \"\"\"\n",
    "    Item da empresa.\n",
    "    \"\"\"\n",
    "\n",
    "    def __init__(self, descricao, valor):\n",
    "        \"\"\"\n",
    "        Construtor do item.\n",
    "        \"\"\"\n",
    "\n",
    "        self.__descricao = descricao\n",
    "        self.__valor = valor\n",
    "\n",
    "    @property\n",
    "    def descricao(self):\n",
    "        \"\"\"\n",
    "        Descrição do item.\n",
    "        \"\"\"\n",
    "\n",
    "        return self.__descricao\n",
    "\n",
    "    @property\n",
    "    def valor(self):\n",
    "        \"\"\"\n",
    "        Valor do item.\n",
    "        \"\"\"\n",
    "\n",
    "        return self.__valor"
   ]
  },
  {
   "cell_type": "markdown",
   "metadata": {},
   "source": [
    "***"
   ]
  },
  {
   "cell_type": "code",
   "execution_count": 2,
   "metadata": {},
   "outputs": [],
   "source": [
    "from datetime import date\n",
    "\n",
    "\n",
    "class NotaFiscal(object):\n",
    "    \"\"\"\n",
    "    Nota fiscal da empresa.\n",
    "    \"\"\"\n",
    "\n",
    "    def __init__(self, razao_social, cnpj, itens,\n",
    "                 data_de_emissao=date.today(),\n",
    "                 detalhes=''):\n",
    "        \"\"\"\n",
    "        Constroi a nota fiscal.\n",
    "        \"\"\"\n",
    "\n",
    "        self.__razao_social = razao_social\n",
    "        self.__cnpj = cnpj\n",
    "        self.__itens = itens\n",
    "        self.__data_de_emissao = data_de_emissao\n",
    "        self.__detalhes = detalhes\n",
    "\n",
    "    @property\n",
    "    def razao_social(self):\n",
    "        \"\"\"\n",
    "        Razão social da nota fiscal.\n",
    "        \"\"\"\n",
    "\n",
    "        return self.__razao_social\n",
    "\n",
    "    @property\n",
    "    def cnpj(self):\n",
    "        \"\"\"\n",
    "        CNPJ da empresa.\n",
    "        \"\"\"\n",
    "\n",
    "        return self.__cnpj\n",
    "\n",
    "    @property\n",
    "    def data_de_emissao(self):\n",
    "        \"\"\"\n",
    "        Data de emissão da nota fiscal\n",
    "        \"\"\"\n",
    "\n",
    "        return self.__data_de_emissao\n",
    "\n",
    "    @property\n",
    "    def detalhes(self):\n",
    "        \"\"\"\n",
    "        Detalhes da nota fiscal.\n",
    "        \"\"\"\n",
    "\n",
    "        return self.__detalhes"
   ]
  },
  {
   "cell_type": "markdown",
   "metadata": {},
   "source": [
    "***"
   ]
  },
  {
   "cell_type": "code",
   "execution_count": 3,
   "metadata": {},
   "outputs": [],
   "source": [
    "class CriadorDeNotaFiscal(object):\n",
    "    \"\"\"\n",
    "    Criador de notas fiscais.\n",
    "    \"\"\"\n",
    "\n",
    "    def __init__(self):\n",
    "        \"\"\"\n",
    "        Construtor da nota fiscal.\n",
    "        \"\"\"\n",
    "\n",
    "        self.__razao_social = None\n",
    "        self.__cnpj = None\n",
    "        self.__data_de_emissao = None\n",
    "        self.__itens = None\n",
    "        self.__detalhes = None\n",
    "\n",
    "    def com_razao_social(self, razao_social):\n",
    "        \"\"\"\n",
    "        Insere razão social na nota fiscal.\n",
    "        \"\"\"\n",
    "\n",
    "        self.__razao_social = razao_social\n",
    "        return self\n",
    "\n",
    "    def com_cnpj(self, cnpj):\n",
    "        \"\"\"\n",
    "        Insere CNPJ na nota fiscal.\n",
    "        \"\"\"\n",
    "\n",
    "        self.__cnpj = cnpj\n",
    "        return self\n",
    "\n",
    "    def com_data_de_emissao(self, data_de_emissao):\n",
    "        \"\"\"\n",
    "        Intere data de emissão na nota fiscal.\n",
    "        \"\"\"\n",
    "\n",
    "        self.__data_de_emissao = data_de_emissao\n",
    "        return self\n",
    "\n",
    "    def com_itens(self, itens):\n",
    "        \"\"\"\n",
    "        Insere itens na nota fiscal.\n",
    "        \"\"\"\n",
    "\n",
    "        self.__itens = itens\n",
    "        return self\n",
    "\n",
    "    def constroi(self):\n",
    "        \"\"\"\n",
    "        Constroi a nota fiscal.\n",
    "        \"\"\"\n",
    "\n",
    "        if self.__razao_social is None:\n",
    "            raise Exception('Razão social deve ser preenchida')\n",
    "        if self.__cnpj is None:\n",
    "            raise Exception('CNPJ deve ser preenchida')\n",
    "        if self.__itens is None:\n",
    "            raise Exception('Itens deve ser preenchida')\n",
    "        if self.__data_de_emissao is None:\n",
    "            self.__data_de_emissao = date.today()\n",
    "        if self.__detalhes is None:\n",
    "            self.__detalhes = ''\n",
    "\n",
    "        return NotaFiscal(\n",
    "            razao_social=self.__razao_social,\n",
    "            cnpj=self.__cnpj,\n",
    "            data_de_emissao=self.__data_de_emissao,\n",
    "            itens=self.__itens,\n",
    "            detalhes=self.__detalhes\n",
    "        )"
   ]
  },
  {
   "cell_type": "markdown",
   "metadata": {},
   "source": [
    "***\n",
    "### Execução\n",
    "***"
   ]
  },
  {
   "cell_type": "code",
   "execution_count": 4,
   "metadata": {},
   "outputs": [],
   "source": [
    "itens = [\n",
    "    Item('Item A', 100),\n",
    "    Item('Item B', 200)\n",
    "]"
   ]
  },
  {
   "cell_type": "code",
   "execution_count": 5,
   "metadata": {},
   "outputs": [],
   "source": [
    "nota_fiscal = NotaFiscal(\n",
    "    razao_social='FHSA Limitada',\n",
    "    cnpj='0123455678989',\n",
    "    itens=itens\n",
    ")"
   ]
  },
  {
   "cell_type": "code",
   "execution_count": 6,
   "metadata": {},
   "outputs": [
    {
     "name": "stdout",
     "output_type": "stream",
     "text": [
      "Nota fiscal sem builder: FHSA Limitada\n"
     ]
    }
   ],
   "source": [
    "print('Nota fiscal sem builder:', nota_fiscal.razao_social)"
   ]
  },
  {
   "cell_type": "code",
   "execution_count": 7,
   "metadata": {},
   "outputs": [],
   "source": [
    "nota_fiscal = (\n",
    "    CriadorDeNotaFiscal()\n",
    "    .com_razao_social('FHSA Limitada')\n",
    "    .com_cnpj('01292939494999')\n",
    "    .com_itens(itens)\n",
    "    .constroi()\n",
    ")"
   ]
  },
  {
   "cell_type": "code",
   "execution_count": 8,
   "metadata": {},
   "outputs": [
    {
     "name": "stdout",
     "output_type": "stream",
     "text": [
      "Nota fiscal com builder: FHSA Limitada\n"
     ]
    }
   ],
   "source": [
    "print('Nota fiscal com builder:', nota_fiscal.razao_social)"
   ]
  }
 ],
 "metadata": {
  "kernelspec": {
   "display_name": "Python 3",
   "language": "python",
   "name": "python3"
  },
  "language_info": {
   "codemirror_mode": {
    "name": "ipython",
    "version": 3
   },
   "file_extension": ".py",
   "mimetype": "text/x-python",
   "name": "python",
   "nbconvert_exporter": "python",
   "pygments_lexer": "ipython3",
   "version": "3.7.6"
  }
 },
 "nbformat": 4,
 "nbformat_minor": 2
}
