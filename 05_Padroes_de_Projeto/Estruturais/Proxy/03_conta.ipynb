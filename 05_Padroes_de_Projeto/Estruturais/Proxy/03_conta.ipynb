{
 "cells": [
  {
   "cell_type": "markdown",
   "metadata": {},
   "source": [
    "## Conta\n",
    "***"
   ]
  },
  {
   "cell_type": "code",
   "execution_count": 1,
   "metadata": {},
   "outputs": [],
   "source": [
    "class Conta(object):\n",
    "    \"\"\"\n",
    "    Conta padrão de uso.\n",
    "    \"\"\"\n",
    "\n",
    "    def __init__(self, saldo=0.0):\n",
    "        \"\"\"\n",
    "        Cria a conta padrão.\n",
    "        \"\"\"\n",
    "\n",
    "        self.__saldo = saldo\n",
    "\n",
    "    def deposita(self, valor):\n",
    "        \"\"\"\n",
    "        Deposita um valor na conta.\n",
    "        \"\"\"\n",
    "\n",
    "        self.__saldo += valor\n",
    "\n",
    "    def saca(self, valor):\n",
    "        \"\"\"\n",
    "        Saca um valor da conta.\n",
    "        \"\"\"\n",
    "\n",
    "        self.__saldo -= valor\n",
    "\n",
    "    @property\n",
    "    def saldo(self):\n",
    "        \"\"\"\n",
    "        Pega o saldo.\n",
    "        \"\"\"\n",
    "\n",
    "        return self.__saldo"
   ]
  },
  {
   "cell_type": "markdown",
   "metadata": {},
   "source": [
    "***"
   ]
  },
  {
   "cell_type": "code",
   "execution_count": 2,
   "metadata": {},
   "outputs": [],
   "source": [
    "import time\n",
    "\n",
    "class ContaProxy(object):\n",
    "    \"\"\"\n",
    "    Conta proxy de uso intermediario.\n",
    "    \"\"\"\n",
    "\n",
    "    def __init__(self, conta):\n",
    "        \"\"\"\n",
    "        Cria a conta intermediaria de acesso.\n",
    "        \"\"\"\n",
    "\n",
    "        self.conta = conta\n",
    "\n",
    "    def deposita(self, valor):\n",
    "        \"\"\"\n",
    "        Deposita um valor na conta real.\n",
    "        \"\"\"\n",
    "\n",
    "        print(\"Efetuando o depósito de R$\", valor, \" reais\")\n",
    "        time.sleep(1)\n",
    "        self.conta.deposita(valor)\n",
    "        print(\"Depósito de R$\", valor, \"efetuado com sucesso.\")\n",
    "\n",
    "    def saca(self, valor):\n",
    "        \"\"\"\n",
    "        Saca um valor da conta real.\n",
    "        \"\"\"\n",
    "\n",
    "        print(\"Efetuando o saque de R$\", valor, \" reais\")\n",
    "        time.sleep(1)\n",
    "        self.conta.saca(valor)\n",
    "        print(\"Saque de R$\", valor, \"efetuado com sucesso.\")\n",
    "\n",
    "    @property\n",
    "    def saldo(self):\n",
    "        \"\"\"\n",
    "        Pega o saldo.\n",
    "        \"\"\"\n",
    "\n",
    "        print(\"Verificando saldo...\")\n",
    "        return self.conta.saldo"
   ]
  },
  {
   "cell_type": "markdown",
   "metadata": {},
   "source": [
    "***"
   ]
  },
  {
   "cell_type": "code",
   "execution_count": 3,
   "metadata": {},
   "outputs": [],
   "source": [
    "conta = Conta()\n",
    "conta_proxy = ContaProxy(conta)"
   ]
  },
  {
   "cell_type": "code",
   "execution_count": 4,
   "metadata": {},
   "outputs": [
    {
     "name": "stdout",
     "output_type": "stream",
     "text": [
      "Efetuando o depósito de R$ 500  reais\n",
      "Depósito de R$ 500 efetuado com sucesso.\n",
      "Verificando saldo...\n",
      "Saldo: 500.0\n"
     ]
    }
   ],
   "source": [
    "conta_proxy.deposita(500)\n",
    "print(\"Saldo:\", conta_proxy.saldo)"
   ]
  },
  {
   "cell_type": "code",
   "execution_count": 5,
   "metadata": {},
   "outputs": [
    {
     "name": "stdout",
     "output_type": "stream",
     "text": [
      "Efetuando o saque de R$ 59  reais\n",
      "Saque de R$ 59 efetuado com sucesso.\n",
      "Verificando saldo...\n",
      "Saldo: 441.0\n"
     ]
    }
   ],
   "source": [
    "conta_proxy.saca(59)\n",
    "print(\"Saldo:\", conta_proxy.saldo)"
   ]
  }
 ],
 "metadata": {
  "kernelspec": {
   "display_name": "Python 3",
   "language": "python",
   "name": "python3"
  },
  "language_info": {
   "codemirror_mode": {
    "name": "ipython",
    "version": 3
   },
   "file_extension": ".py",
   "mimetype": "text/x-python",
   "name": "python",
   "nbconvert_exporter": "python",
   "pygments_lexer": "ipython3",
   "version": "3.7.6"
  }
 },
 "nbformat": 4,
 "nbformat_minor": 2
}
