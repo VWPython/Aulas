{
 "cells": [
  {
   "cell_type": "markdown",
   "metadata": {},
   "source": [
    "## Impostos\n",
    "***"
   ]
  },
  {
   "cell_type": "code",
   "execution_count": 1,
   "metadata": {},
   "outputs": [],
   "source": [
    "class Orcamento(object):\n",
    "    \"\"\"\n",
    "    Cria o orçamento que será aplicado os impostos.\n",
    "    \"\"\"\n",
    "\n",
    "    def __init__(self, valor):\n",
    "        \"\"\"\n",
    "        Constroi o orçamento.\n",
    "        \"\"\"\n",
    "\n",
    "        self.__valor = valor\n",
    "\n",
    "    @property\n",
    "    def valor(self):\n",
    "        \"\"\"\n",
    "        Valor do orçamento.\n",
    "        \"\"\"\n",
    "\n",
    "        return self.__valor"
   ]
  },
  {
   "cell_type": "markdown",
   "metadata": {},
   "source": [
    "***"
   ]
  },
  {
   "cell_type": "code",
   "execution_count": 2,
   "metadata": {},
   "outputs": [],
   "source": [
    "from abc import ABC, abstractmethod\n",
    "\n",
    "\n",
    "class Imposto(ABC):\n",
    "    \"\"\"\n",
    "    Classe abstrata de imposto.\n",
    "    \"\"\"\n",
    "\n",
    "    def __init__(self, outro_imposto=None):\n",
    "        \"\"\"\n",
    "        Constroi impostos sobre impostos de maneira dinamica.\n",
    "        \"\"\"\n",
    "\n",
    "        self.__outro_imposto = outro_imposto\n",
    "\n",
    "    def calculo_do_outro_imposto(self, orcamento):\n",
    "        \"\"\"\n",
    "        Calculo dos impostos aninhados.\n",
    "        \"\"\"\n",
    "\n",
    "        if self.__outro_imposto is None:\n",
    "            return 0\n",
    "        else:\n",
    "            return self.__outro_imposto.calcula(orcamento)\n",
    "\n",
    "    @abstractmethod\n",
    "    def calcula(self, orcamento):\n",
    "        \"\"\"\n",
    "        Calcula o imposto.\n",
    "        \"\"\"\n",
    "\n",
    "        pass"
   ]
  },
  {
   "cell_type": "markdown",
   "metadata": {},
   "source": [
    "***"
   ]
  },
  {
   "cell_type": "code",
   "execution_count": 3,
   "metadata": {},
   "outputs": [],
   "source": [
    "\"\"\"\n",
    "1. Decorator receber como parâmetro a função que será adicionado.\n",
    "\n",
    "2. Empacote o método com o wrapper passando como parâmetro os mesmo\n",
    "parâmetros passados para calcular, junto com o self para identificar\n",
    "seu contexto.\n",
    "\n",
    "3. Podemos aplicar N decorators na função calcula, porém ela ficará\n",
    "para sempre na função, diferente do decorator criado nesse DesignPattern\n",
    "que será inserido dinamicamente em tempo de execução.\n",
    "\"\"\"\n",
    "\n",
    "\n",
    "def IPVX(calcula):\n",
    "    \"\"\"\n",
    "    Impost IPVX - chama o método ou função de cálculo do imposto ISS ou\n",
    "    ICMS (calcula) e pega o resultado e soma com R$ 50,00\n",
    "    \"\"\"\n",
    "\n",
    "    def wrapper(self, orcamento):\n",
    "        \"\"\"\n",
    "        Empacota o método calcular e quando o calculo do imposto estiver\n",
    "        pronto, será acrescido de R$ 50 reais.\n",
    "        \"\"\"\n",
    "\n",
    "        return calcula(self, orcamento) + 50.0\n",
    "\n",
    "    return wrapper"
   ]
  },
  {
   "cell_type": "markdown",
   "metadata": {},
   "source": [
    "***"
   ]
  },
  {
   "cell_type": "code",
   "execution_count": 4,
   "metadata": {},
   "outputs": [],
   "source": [
    "class ICMS(Imposto):\n",
    "    \"\"\"\n",
    "    Imposto ICMS.\n",
    "    \"\"\"\n",
    "\n",
    "    @IPVX\n",
    "    def calcula(self, orcamento):\n",
    "        \"\"\"\n",
    "        Calcula o imposto ISS.\n",
    "        \"\"\"\n",
    "\n",
    "        return orcamento.valor * 0.06 + self.calculo_do_outro_imposto(orcamento)"
   ]
  },
  {
   "cell_type": "code",
   "execution_count": 5,
   "metadata": {},
   "outputs": [],
   "source": [
    "class ISS(Imposto):\n",
    "    \"\"\"\n",
    "    Imposto ISS.\n",
    "    \"\"\"\n",
    "\n",
    "    @IPVX\n",
    "    def calcula(self, orcamento):\n",
    "        \"\"\"\n",
    "        Calcula o imposto ISS.\n",
    "        \"\"\"\n",
    "\n",
    "        return orcamento.valor * 0.1 + self.calculo_do_outro_imposto(orcamento)"
   ]
  },
  {
   "cell_type": "markdown",
   "metadata": {},
   "source": [
    "***"
   ]
  },
  {
   "cell_type": "code",
   "execution_count": 6,
   "metadata": {},
   "outputs": [],
   "source": [
    "class CalculadorDeImpostos(object):\n",
    "    \"\"\"\n",
    "    Calcula o imposto gerado.\n",
    "    \"\"\"\n",
    "\n",
    "    def realize_calculo(self, orcamento, imposto):\n",
    "        \"\"\"\n",
    "        Realiza o calculo do imposto.\n",
    "        \"\"\"\n",
    "\n",
    "        imposto_calculado = imposto.calcula(orcamento)\n",
    "        print(\"Calculo:\", imposto_calculado)"
   ]
  },
  {
   "cell_type": "markdown",
   "metadata": {},
   "source": [
    "***"
   ]
  },
  {
   "cell_type": "code",
   "execution_count": 7,
   "metadata": {},
   "outputs": [],
   "source": [
    "calculador = CalculadorDeImpostos()"
   ]
  },
  {
   "cell_type": "code",
   "execution_count": 8,
   "metadata": {},
   "outputs": [],
   "source": [
    "orcamento = Orcamento(500)"
   ]
  },
  {
   "cell_type": "code",
   "execution_count": 9,
   "metadata": {},
   "outputs": [
    {
     "name": "stdout",
     "output_type": "stream",
     "text": [
      "Calculo: 100.0\n"
     ]
    }
   ],
   "source": [
    "calculador.realize_calculo(orcamento, ISS())"
   ]
  },
  {
   "cell_type": "code",
   "execution_count": 10,
   "metadata": {},
   "outputs": [
    {
     "name": "stdout",
     "output_type": "stream",
     "text": [
      "Calculo: 80.0\n"
     ]
    }
   ],
   "source": [
    "calculador.realize_calculo(orcamento, ICMS())"
   ]
  },
  {
   "cell_type": "code",
   "execution_count": 11,
   "metadata": {},
   "outputs": [
    {
     "name": "stdout",
     "output_type": "stream",
     "text": [
      "Calculo: 180.0\n"
     ]
    }
   ],
   "source": [
    "calculador.realize_calculo(orcamento, ISS(ICMS()))"
   ]
  },
  {
   "cell_type": "code",
   "execution_count": 12,
   "metadata": {},
   "outputs": [
    {
     "name": "stdout",
     "output_type": "stream",
     "text": [
      "Calculo: 280.0\n"
     ]
    }
   ],
   "source": [
    "calculador.realize_calculo(orcamento, ISS(ICMS(ISS())))"
   ]
  }
 ],
 "metadata": {
  "kernelspec": {
   "display_name": "Python 3",
   "language": "python",
   "name": "python3"
  },
  "language_info": {
   "codemirror_mode": {
    "name": "ipython",
    "version": 3
   },
   "file_extension": ".py",
   "mimetype": "text/x-python",
   "name": "python",
   "nbconvert_exporter": "python",
   "pygments_lexer": "ipython3",
   "version": "3.7.6"
  }
 },
 "nbformat": 4,
 "nbformat_minor": 2
}
