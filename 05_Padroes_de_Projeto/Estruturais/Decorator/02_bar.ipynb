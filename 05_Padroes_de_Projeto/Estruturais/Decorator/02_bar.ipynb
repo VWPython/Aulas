{
 "cells": [
  {
   "cell_type": "markdown",
   "metadata": {},
   "source": [
    "## Bar\n",
    "***"
   ]
  },
  {
   "cell_type": "code",
   "execution_count": 1,
   "metadata": {},
   "outputs": [],
   "source": [
    "from abc import ABC\n",
    "\n",
    "class Coquetel(ABC):\n",
    "    \"\"\"\n",
    "    Classe abstrada de coqueteis.\n",
    "    \"\"\"\n",
    "\n",
    "    def get_nome(self):\n",
    "        \"\"\"\n",
    "        Pega o nome do coquetel.\n",
    "        \"\"\"\n",
    "\n",
    "        return self.nome\n",
    "\n",
    "    def get_preco(self):\n",
    "        \"\"\"\n",
    "        Pega o preço do coquetel\n",
    "        \"\"\"\n",
    "\n",
    "        return self.preco"
   ]
  },
  {
   "cell_type": "markdown",
   "metadata": {},
   "source": [
    "***"
   ]
  },
  {
   "cell_type": "code",
   "execution_count": 2,
   "metadata": {},
   "outputs": [],
   "source": [
    "class Cachaca(Coquetel):\n",
    "    \"\"\"\n",
    "    Coquetel Cachaça.\n",
    "    \"\"\"\n",
    "\n",
    "    def __init__(self):\n",
    "        \"\"\"\n",
    "        Nome e preço da cachaça.\n",
    "        \"\"\"\n",
    "\n",
    "        self.nome = \"Cachaça\"\n",
    "        self.preco = 1.5"
   ]
  },
  {
   "cell_type": "code",
   "execution_count": 3,
   "metadata": {},
   "outputs": [],
   "source": [
    "class Rum(Coquetel):\n",
    "    \"\"\"\n",
    "    Coquetel RUM.\n",
    "    \"\"\"\n",
    "\n",
    "    def __init__(self):\n",
    "        \"\"\"\n",
    "        Nome e preço do RUM.\n",
    "        \"\"\"\n",
    "\n",
    "        self.nome = \"Rum\"\n",
    "        self.preco = 2.35"
   ]
  },
  {
   "cell_type": "code",
   "execution_count": 4,
   "metadata": {},
   "outputs": [],
   "source": [
    "class Vodka(Coquetel):\n",
    "    \"\"\"\n",
    "    Coquetel Vodka.\n",
    "    \"\"\"\n",
    "\n",
    "    def __init__(self):\n",
    "        \"\"\"\n",
    "        Nome e preço da vodka.\n",
    "        \"\"\"\n",
    "\n",
    "        self.nome = \"Vodka\"\n",
    "        self.preco = 5.0"
   ]
  },
  {
   "cell_type": "markdown",
   "metadata": {},
   "source": [
    "***"
   ]
  },
  {
   "cell_type": "code",
   "execution_count": 5,
   "metadata": {},
   "outputs": [],
   "source": [
    "class CoquetelDecorator(Coquetel):\n",
    "    \"\"\"\n",
    "    Adicional para o coquetel.\n",
    "    \"\"\"\n",
    "\n",
    "    def __init__(self, coquetel):\n",
    "        \"\"\"\n",
    "        Cria um adicional para o coquetel dinamicamente.\n",
    "        \"\"\"\n",
    "\n",
    "        self.coquetel = coquetel\n",
    "\n",
    "    def get_nome(self):\n",
    "        \"\"\"\n",
    "        Pega o nome do coquetel e insere junto com o nome do adicional.\n",
    "        \"\"\"\n",
    "\n",
    "        nome = \"{0} + {1}\".format(self.coquetel.get_nome(), self.nome)\n",
    "\n",
    "        return nome\n",
    "\n",
    "    def get_preco(self):\n",
    "        \"\"\"\n",
    "        Pega o preço do coquetel e soma com o do preço do adicional.\n",
    "        \"\"\"\n",
    "\n",
    "        return self.coquetel.get_preco() + self.preco"
   ]
  },
  {
   "cell_type": "markdown",
   "metadata": {},
   "source": [
    "***"
   ]
  },
  {
   "cell_type": "code",
   "execution_count": 6,
   "metadata": {},
   "outputs": [],
   "source": [
    "class Acuca(CoquetelDecorator):\n",
    "    \"\"\"\n",
    "    Adicional açucar\n",
    "    \"\"\"\n",
    "\n",
    "    def __init__(self, coquetel):\n",
    "        \"\"\"\n",
    "        Cria um adicional para o coquetel.\n",
    "        \"\"\"\n",
    "\n",
    "        # Passa o coquetel para o contrutor do decorator\n",
    "        super().__init__(coquetel)\n",
    "\n",
    "        # Dados do adicional\n",
    "        self.nome = \"Açucar\"\n",
    "        self.preco = 0.50"
   ]
  },
  {
   "cell_type": "code",
   "execution_count": 7,
   "metadata": {},
   "outputs": [],
   "source": [
    "class Limao(CoquetelDecorator):\n",
    "    \"\"\"\n",
    "    Adicional limão.\n",
    "    \"\"\"\n",
    "\n",
    "    def __init__(self, coquetel):\n",
    "        \"\"\"\n",
    "        Cria um adicional para o coquetel.\n",
    "        \"\"\"\n",
    "\n",
    "        # Passa o coquetel para o contrutor do decorator\n",
    "        super().__init__(coquetel)\n",
    "\n",
    "        # Dados do adicional\n",
    "        self.nome = \"Limão\"\n",
    "        self.preco = 0.75\n"
   ]
  },
  {
   "cell_type": "code",
   "execution_count": 8,
   "metadata": {},
   "outputs": [],
   "source": [
    "class Refrigerante(CoquetelDecorator):\n",
    "    \"\"\"\n",
    "    Adicional refrigerante\n",
    "    \"\"\"\n",
    "\n",
    "    def __init__(self, coquetel):\n",
    "        \"\"\"\n",
    "        Cria um adicional para o coquetel.\n",
    "        \"\"\"\n",
    "\n",
    "        # Passa o coquetel para o contrutor do decorator\n",
    "        super().__init__(coquetel)\n",
    "\n",
    "        # Dados do adicional\n",
    "        self.nome = \"Refrigerante\"\n",
    "        self.preco = 1.0"
   ]
  },
  {
   "cell_type": "code",
   "execution_count": 9,
   "metadata": {},
   "outputs": [],
   "source": [
    "class Suco(CoquetelDecorator):\n",
    "    \"\"\"\n",
    "    Adicional suco.\n",
    "    \"\"\"\n",
    "\n",
    "    def __init__(self, coquetel):\n",
    "        \"\"\"\n",
    "        Cria um adicional para o coquetel.\n",
    "        \"\"\"\n",
    "\n",
    "        # Passa o coquetel para o contrutor do decorator\n",
    "        super().__init__(coquetel)\n",
    "\n",
    "        # Dados do adicional\n",
    "        self.nome = \"Suco\"\n",
    "        self.preco = 2.0"
   ]
  },
  {
   "cell_type": "markdown",
   "metadata": {},
   "source": [
    "***"
   ]
  },
  {
   "cell_type": "code",
   "execution_count": 10,
   "metadata": {},
   "outputs": [
    {
     "name": "stdout",
     "output_type": "stream",
     "text": [
      "Cachaça = R$ 1.5\n"
     ]
    }
   ],
   "source": [
    "coquetel = Cachaca()\n",
    "print(coquetel.get_nome(), \"= R$\", str(coquetel.get_preco()))"
   ]
  },
  {
   "cell_type": "code",
   "execution_count": 11,
   "metadata": {},
   "outputs": [
    {
     "name": "stdout",
     "output_type": "stream",
     "text": [
      "Cachaça + Suco = R$ 3.5\n"
     ]
    }
   ],
   "source": [
    "coquetel = Suco(coquetel)\n",
    "print(coquetel.get_nome(), \"= R$\", str(coquetel.get_preco()))"
   ]
  },
  {
   "cell_type": "code",
   "execution_count": 12,
   "metadata": {},
   "outputs": [
    {
     "name": "stdout",
     "output_type": "stream",
     "text": [
      "Cachaça + Suco + Açucar = R$ 4.0\n"
     ]
    }
   ],
   "source": [
    "coquetel = Acuca(coquetel)\n",
    "print(coquetel.get_nome(), \"= R$\", str(coquetel.get_preco()))"
   ]
  }
 ],
 "metadata": {
  "kernelspec": {
   "display_name": "Python 3",
   "language": "python",
   "name": "python3"
  },
  "language_info": {
   "codemirror_mode": {
    "name": "ipython",
    "version": 3
   },
   "file_extension": ".py",
   "mimetype": "text/x-python",
   "name": "python",
   "nbconvert_exporter": "python",
   "pygments_lexer": "ipython3",
   "version": "3.7.6"
  }
 },
 "nbformat": 4,
 "nbformat_minor": 2
}
