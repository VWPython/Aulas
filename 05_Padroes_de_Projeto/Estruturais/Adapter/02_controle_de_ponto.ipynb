{
 "cells": [
  {
   "cell_type": "markdown",
   "metadata": {},
   "source": [
    "## Controle de ponto\n",
    "***"
   ]
  },
  {
   "cell_type": "code",
   "execution_count": 1,
   "metadata": {},
   "outputs": [],
   "source": [
    "from datetime import datetime\n",
    "import time"
   ]
  },
  {
   "cell_type": "code",
   "execution_count": 2,
   "metadata": {},
   "outputs": [],
   "source": [
    "class Funcionario(object):\n",
    "    \"\"\"\n",
    "    Funcionario da empresa.\n",
    "    \"\"\"\n",
    "\n",
    "    def __init__(self, nome):\n",
    "        \"\"\"\n",
    "        Insere um funcionario.\n",
    "        \"\"\"\n",
    "\n",
    "        self.nome = nome"
   ]
  },
  {
   "cell_type": "code",
   "execution_count": 3,
   "metadata": {},
   "outputs": [],
   "source": [
    "class ControleDePontoAntigo(object):\n",
    "    \"\"\"\n",
    "    Controle de ponto antigo.\n",
    "    \"\"\"\n",
    "\n",
    "    def registra_entrada(self, funcionario):\n",
    "        \"\"\"\n",
    "        Registra a entrada do funcionario.\n",
    "        \"\"\"\n",
    "\n",
    "        time = datetime.today()\n",
    "\n",
    "        print(\"Entrada: {0} às {1}:{2}:{3}\".format(\n",
    "            funcionario.nome,\n",
    "            time.hour,\n",
    "            time.minute,\n",
    "            time.second\n",
    "        ))\n",
    "\n",
    "    def registra_saida(self, funcionario):\n",
    "        \"\"\"\n",
    "        Registra a saida do funcionario.\n",
    "        \"\"\"\n",
    "\n",
    "        time = datetime.today()\n",
    "\n",
    "        print(\"Saída: {0} às {1}:{2}:{3}\".format(\n",
    "            funcionario.nome,\n",
    "            time.hour,\n",
    "            time.minute,\n",
    "            time.second\n",
    "        ))"
   ]
  },
  {
   "cell_type": "code",
   "execution_count": 4,
   "metadata": {},
   "outputs": [],
   "source": [
    "class ControleDePontoNovo(object):\n",
    "    \"\"\"\n",
    "    Controle de ponto novo.\n",
    "    \"\"\"\n",
    "\n",
    "    def registra(self, funcionario, entrada=True):\n",
    "        \"\"\"\n",
    "        Registra a entrada ou a saída do funcionario.\n",
    "        \"\"\"\n",
    "\n",
    "        time = datetime.today()\n",
    "\n",
    "        if entrada is True:\n",
    "            print(\"Entrada: %s às %2.2d:%2.2d\" % (\n",
    "                funcionario.nome, time.hour, time.minute\n",
    "            ))\n",
    "        else:\n",
    "            print(\"Saída: %s às %2.2d:%2.2d\" % (\n",
    "                funcionario.nome, time.hour, time.minute\n",
    "            ))\n"
   ]
  },
  {
   "cell_type": "code",
   "execution_count": 5,
   "metadata": {},
   "outputs": [],
   "source": [
    "class ControleDePonto(ControleDePontoAntigo):\n",
    "    \"\"\"\n",
    "    Adaptador para o novo controle de ponto.\n",
    "    \"\"\"\n",
    "\n",
    "    def __init__(self):\n",
    "        \"\"\"\n",
    "        Constroi o adaptador.\n",
    "        \"\"\"\n",
    "\n",
    "        self.controle_de_ponto = ControleDePontoNovo()\n",
    "\n",
    "    def registra_entrada(self, funcionario):\n",
    "        \"\"\"\n",
    "        Registra a entrada de um funcionario.\n",
    "        \"\"\"\n",
    "\n",
    "        self.controle_de_ponto.registra(funcionario)\n",
    "\n",
    "    def registra_saida(self, funcionario):\n",
    "        \"\"\"\n",
    "        Registra a saída de um funcionario.\n",
    "        \"\"\"\n",
    "\n",
    "        self.controle_de_ponto.registra(funcionario, entrada=False)"
   ]
  },
  {
   "cell_type": "markdown",
   "metadata": {},
   "source": [
    "***"
   ]
  },
  {
   "cell_type": "code",
   "execution_count": 6,
   "metadata": {},
   "outputs": [
    {
     "name": "stdout",
     "output_type": "stream",
     "text": [
      "Entrada: Marcelo Adnet às 14:18\n",
      "Saída: Marcelo Adnet às 14:18\n"
     ]
    }
   ],
   "source": [
    "controle_de_ponto = ControleDePonto()\n",
    "funcionario = Funcionario(\"Marcelo Adnet\")\n",
    "controle_de_ponto.registra_entrada(funcionario)\n",
    "\n",
    "# Dorme 5 segundos\n",
    "time.sleep(5)\n",
    "\n",
    "controle_de_ponto.registra_saida(funcionario)"
   ]
  }
 ],
 "metadata": {
  "kernelspec": {
   "display_name": "Python 3",
   "language": "python",
   "name": "python3"
  },
  "language_info": {
   "codemirror_mode": {
    "name": "ipython",
    "version": 3
   },
   "file_extension": ".py",
   "mimetype": "text/x-python",
   "name": "python",
   "nbconvert_exporter": "python",
   "pygments_lexer": "ipython3",
   "version": "3.7.6"
  }
 },
 "nbformat": 4,
 "nbformat_minor": 2
}
