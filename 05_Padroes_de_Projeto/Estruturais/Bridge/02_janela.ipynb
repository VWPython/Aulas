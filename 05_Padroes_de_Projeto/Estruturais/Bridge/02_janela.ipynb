{
 "cells": [
  {
   "cell_type": "markdown",
   "metadata": {},
   "source": [
    "## Janela\n",
    "***"
   ]
  },
  {
   "cell_type": "code",
   "execution_count": 1,
   "metadata": {},
   "outputs": [],
   "source": [
    "from abc import ABC, abstractmethod\n",
    "\n",
    "\n",
    "class JanelaAbstrata(ABC):\n",
    "    \"\"\"\n",
    "    Classe abstrata para a criação de janelas abstratas, ou seja,\n",
    "    janelas de dialogo, de aviso e entre outras.\n",
    "    \"\"\"\n",
    "\n",
    "    janela = None\n",
    "\n",
    "    def __init__(self, janela):\n",
    "        \"\"\"\n",
    "        Cria a janela.\n",
    "        \"\"\"\n",
    "\n",
    "        self.janela = janela\n",
    "\n",
    "    def desenha_janela(self, titulo):\n",
    "        \"\"\"\n",
    "        Desenha a janela.\n",
    "        \"\"\"\n",
    "\n",
    "        self.janela.desenha_janela(titulo)\n",
    "\n",
    "    def desenha_botao(self, titulo):\n",
    "        \"\"\"\n",
    "        Desenha os botões da janela.\n",
    "        \"\"\"\n",
    "\n",
    "        self.janela.desenha_botao(titulo)\n",
    "\n",
    "    @abstractmethod\n",
    "    def desenhar(self):\n",
    "        \"\"\"\n",
    "        Desenhar janela.\n",
    "        \"\"\"\n",
    "\n",
    "        pass"
   ]
  },
  {
   "cell_type": "code",
   "execution_count": 2,
   "metadata": {},
   "outputs": [],
   "source": [
    "class JanelaAviso(JanelaAbstrata):\n",
    "    \"\"\"\n",
    "    Janela de aviso.\n",
    "    \"\"\"\n",
    "\n",
    "    def __init__(self, janela):\n",
    "        \"\"\"\n",
    "        Cria a janela de aviso.\n",
    "        \"\"\"\n",
    "\n",
    "        super().__init__(janela)\n",
    "\n",
    "    def desenhar(self):\n",
    "        \"\"\"\n",
    "        Desenha a janela de aviso.\n",
    "        \"\"\"\n",
    "\n",
    "        self.desenha_janela(\"Janela de Aviso\")\n",
    "        self.desenha_botao(\"OK\")"
   ]
  },
  {
   "cell_type": "code",
   "execution_count": 3,
   "metadata": {},
   "outputs": [],
   "source": [
    "class JanelaDialogo(JanelaAbstrata):\n",
    "    \"\"\"\n",
    "    Janela de dialógo.\n",
    "    \"\"\"\n",
    "\n",
    "    def __init__(self, janela):\n",
    "        \"\"\"\n",
    "        Cria a janela de dialogo.\n",
    "        \"\"\"\n",
    "\n",
    "        super().__init__(janela)\n",
    "\n",
    "    def desenhar(self):\n",
    "        \"\"\"\n",
    "        Desenha a janela de dialogo.\n",
    "        \"\"\"\n",
    "\n",
    "        self.desenha_janela(\"Janela de Diálogo\")\n",
    "        self.desenha_botao(\"Botão sim\")\n",
    "        self.desenha_botao(\"Botão não\")\n",
    "        self.desenha_botao(\"Botão Cancelar\")"
   ]
  },
  {
   "cell_type": "markdown",
   "metadata": {},
   "source": [
    "***"
   ]
  },
  {
   "cell_type": "code",
   "execution_count": 4,
   "metadata": {},
   "outputs": [],
   "source": [
    "from abc import ABC, abstractmethod\n",
    "\n",
    "\n",
    "class JanelaImplementada(ABC):\n",
    "    \"\"\"\n",
    "    Classe abstrata que serve como base para criar janelas concretas,\n",
    "    ou seja, janela do windows, linux, e etc...\n",
    "    \"\"\"\n",
    "\n",
    "    @abstractmethod\n",
    "    def desenha_janela(self, titulo):\n",
    "        \"\"\"\n",
    "        Desenha a janela.\n",
    "        \"\"\"\n",
    "\n",
    "        pass\n",
    "\n",
    "    @abstractmethod\n",
    "    def desenha_botao(self, titulo):\n",
    "        \"\"\"\n",
    "        Desenha os botões.\n",
    "        \"\"\"\n",
    "\n",
    "        pass"
   ]
  },
  {
   "cell_type": "code",
   "execution_count": 5,
   "metadata": {},
   "outputs": [],
   "source": [
    "class JanelaLinux(JanelaImplementada):\n",
    "    \"\"\"\n",
    "    Janela do Linux\n",
    "    \"\"\"\n",
    "\n",
    "    def desenha_janela(self, titulo):\n",
    "        \"\"\"\n",
    "        Desenha a janela do linux.\n",
    "        \"\"\"\n",
    "\n",
    "        print(titulo + \" - Janela linux\")\n",
    "\n",
    "    def desenha_botao(self, titulo):\n",
    "        \"\"\"\n",
    "        Desenha o botão da janela do linux.\n",
    "        \"\"\"\n",
    "\n",
    "        print(titulo + \" - Botão linux\")"
   ]
  },
  {
   "cell_type": "code",
   "execution_count": 6,
   "metadata": {},
   "outputs": [],
   "source": [
    "class JanelaMac(JanelaImplementada):\n",
    "    \"\"\"\n",
    "    Janela do MAC.\n",
    "    \"\"\"\n",
    "\n",
    "    def desenha_janela(self, titulo):\n",
    "        \"\"\"\n",
    "        Desenha a janela do MAC.\n",
    "        \"\"\"\n",
    "\n",
    "        print(titulo + \" - Janela mac\")\n",
    "\n",
    "    def desenha_botao(self, titulo):\n",
    "        \"\"\"\n",
    "        Desenha os botões da janela do MAC\n",
    "        \"\"\"\n",
    "\n",
    "        print(titulo + \" - Botão mac\")"
   ]
  },
  {
   "cell_type": "code",
   "execution_count": 7,
   "metadata": {},
   "outputs": [],
   "source": [
    "class JanelaWindows(JanelaImplementada):\n",
    "    \"\"\"\n",
    "    Janela do Windows.\n",
    "    \"\"\"\n",
    "\n",
    "    def desenha_janela(self, titulo):\n",
    "        \"\"\"\n",
    "        Desenha a janela.\n",
    "        \"\"\"\n",
    "\n",
    "        print(titulo + \" - Janela windows\")\n",
    "\n",
    "    def desenha_botao(self, titulo):\n",
    "        \"\"\"\n",
    "        Desenha o botão da janela do windows.\n",
    "        \"\"\"\n",
    "\n",
    "        print(titulo + \" - Botão windows\")"
   ]
  },
  {
   "cell_type": "markdown",
   "metadata": {},
   "source": [
    "***"
   ]
  },
  {
   "cell_type": "code",
   "execution_count": 8,
   "metadata": {},
   "outputs": [
    {
     "name": "stdout",
     "output_type": "stream",
     "text": [
      "Janela de Diálogo - Janela linux\n",
      "Botão sim - Botão linux\n",
      "Botão não - Botão linux\n",
      "Botão Cancelar - Botão linux\n"
     ]
    }
   ],
   "source": [
    "janela = JanelaDialogo(JanelaLinux())\n",
    "janela.desenhar()"
   ]
  },
  {
   "cell_type": "code",
   "execution_count": 9,
   "metadata": {},
   "outputs": [
    {
     "name": "stdout",
     "output_type": "stream",
     "text": [
      "Janela de Aviso - Janela linux\n",
      "OK - Botão linux\n"
     ]
    }
   ],
   "source": [
    "janela = JanelaAviso(JanelaLinux())\n",
    "janela.desenhar()"
   ]
  },
  {
   "cell_type": "code",
   "execution_count": 10,
   "metadata": {},
   "outputs": [
    {
     "name": "stdout",
     "output_type": "stream",
     "text": [
      "Janela de Diálogo - Janela windows\n",
      "Botão sim - Botão windows\n",
      "Botão não - Botão windows\n",
      "Botão Cancelar - Botão windows\n"
     ]
    }
   ],
   "source": [
    "janela = JanelaDialogo(JanelaWindows())\n",
    "janela.desenhar()"
   ]
  },
  {
   "cell_type": "code",
   "execution_count": 11,
   "metadata": {},
   "outputs": [
    {
     "name": "stdout",
     "output_type": "stream",
     "text": [
      "Janela de Aviso - Janela mac\n",
      "OK - Botão mac\n"
     ]
    }
   ],
   "source": [
    "janela = JanelaAviso(JanelaMac())\n",
    "janela.desenhar()"
   ]
  }
 ],
 "metadata": {
  "kernelspec": {
   "display_name": "Python 3",
   "language": "python",
   "name": "python3"
  },
  "language_info": {
   "codemirror_mode": {
    "name": "ipython",
    "version": 3
   },
   "file_extension": ".py",
   "mimetype": "text/x-python",
   "name": "python",
   "nbconvert_exporter": "python",
   "pygments_lexer": "ipython3",
   "version": "3.7.6"
  }
 },
 "nbformat": 4,
 "nbformat_minor": 2
}
