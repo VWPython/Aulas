{
 "cells": [
  {
   "cell_type": "markdown",
   "metadata": {},
   "source": [
    "## Jogo (Sprites)\n",
    "***"
   ]
  },
  {
   "cell_type": "code",
   "execution_count": 1,
   "metadata": {},
   "outputs": [],
   "source": [
    "class Imagem(object):\n",
    "    \"\"\"\n",
    "    Imagem das sprints.\n",
    "    \"\"\"\n",
    "\n",
    "    def __init__(self, nome_da_imagem):\n",
    "        \"\"\"\n",
    "        Construtor da imagem.\n",
    "        \"\"\"\n",
    "\n",
    "        self.nome_da_imagem = nome_da_imagem\n",
    "\n",
    "    def desenha_imagem(self):\n",
    "        \"\"\"\n",
    "        Desenha a imagem.\n",
    "        \"\"\"\n",
    "\n",
    "        print(self.nome_da_imagem + \" desenhada!\")"
   ]
  },
  {
   "cell_type": "code",
   "execution_count": 2,
   "metadata": {},
   "outputs": [],
   "source": [
    "class Ponto(object):\n",
    "    \"\"\"\n",
    "    Pontos de localização ou coordenadas da imagem.\n",
    "    \"\"\"\n",
    "\n",
    "    def __init__(self, posX, posY):\n",
    "        \"\"\"\n",
    "        Constroi as coordenadas.\n",
    "        \"\"\"\n",
    "\n",
    "        self.posX = posX\n",
    "        self.posY = posY"
   ]
  },
  {
   "cell_type": "code",
   "execution_count": 3,
   "metadata": {},
   "outputs": [],
   "source": [
    "class Sprite(object):\n",
    "    \"\"\"\n",
    "    Sprite ou conjunto de imagens em uma única imagem.\n",
    "    \"\"\"\n",
    "\n",
    "    def __init__(self, nome_da_imagem):\n",
    "        \"\"\"\n",
    "        Constroi a sprite.\n",
    "        \"\"\"\n",
    "\n",
    "        self.imagem = Imagem(nome_da_imagem)\n",
    "\n",
    "    def desenha_imagem(self, ponto):\n",
    "        \"\"\"\n",
    "        Desenha as imagens nos pontos ou coordenadas especificas.\n",
    "        \"\"\"\n",
    "\n",
    "        self.imagem.desenha_imagem()\n",
    "\n",
    "        print(\"No ponto ({0}, {1})!\".format(\n",
    "            str(ponto.posX),\n",
    "            str(ponto.posY)\n",
    "        ))"
   ]
  },
  {
   "cell_type": "markdown",
   "metadata": {},
   "source": [
    "***"
   ]
  },
  {
   "cell_type": "code",
   "execution_count": 4,
   "metadata": {},
   "outputs": [],
   "source": [
    "class FlyweightFactory(object):\n",
    "    \"\"\"\n",
    "    Fabricas de jogadores\n",
    "    \"\"\"\n",
    "\n",
    "    players = []\n",
    "\n",
    "    sprites = {\n",
    "        'JOGADOR': 'JOGADOR',\n",
    "        'INIMIGO_1': 'INIMIGO_1',\n",
    "        'INIMIGO_2': 'INIMIGO_2',\n",
    "        'INIMIGO_3': 'INIMIGO_3',\n",
    "        'CENARIO_1': 'CENARIO_1',\n",
    "        'CENARIO_2': 'CENARIO_2'\n",
    "    }\n",
    "\n",
    "    def __init__(self):\n",
    "        \"\"\"\n",
    "        Insere as sprites de cada player dentro da lista de players\n",
    "        \"\"\"\n",
    "\n",
    "        self.players.append(Sprite(\"jogador.png\"))\n",
    "        self.players.append(Sprite(\"inimigo1.png\"))\n",
    "        self.players.append(Sprite(\"inimigo2.png\"))\n",
    "        self.players.append(Sprite(\"inimigo3.png\"))\n",
    "        self.players.append(Sprite(\"cenario1.png\"))\n",
    "        self.players.append(Sprite(\"cenario2.png\"))\n",
    "\n",
    "    def get_player(self, jogador):\n",
    "        \"\"\"\n",
    "        Pega os players de acordo com a string passada.\n",
    "        \"\"\"\n",
    "\n",
    "        if jogador == 'JOGADOR':\n",
    "            return self.players[0]\n",
    "        elif jogador == 'INIMIGO_1':\n",
    "            return self.players[1]\n",
    "        elif jogador == 'INIMIGO_2':\n",
    "            return self.players[2]\n",
    "        elif jogador == 'INIMIGO_3':\n",
    "            return self.players[3]\n",
    "        elif jogador == 'CENARIO_1':\n",
    "            return self.players[4]\n",
    "        else:\n",
    "            return self.players[5]"
   ]
  },
  {
   "cell_type": "markdown",
   "metadata": {},
   "source": [
    "***"
   ]
  },
  {
   "cell_type": "code",
   "execution_count": 5,
   "metadata": {},
   "outputs": [],
   "source": [
    "factory = FlyweightFactory()"
   ]
  },
  {
   "cell_type": "code",
   "execution_count": 6,
   "metadata": {},
   "outputs": [
    {
     "name": "stdout",
     "output_type": "stream",
     "text": [
      "cenario1.png desenhada!\n",
      "No ponto (0, 0)!\n"
     ]
    }
   ],
   "source": [
    "factory.get_player(factory.sprites['CENARIO_1']).desenha_imagem(Ponto(0, 0))"
   ]
  },
  {
   "cell_type": "code",
   "execution_count": 7,
   "metadata": {},
   "outputs": [
    {
     "name": "stdout",
     "output_type": "stream",
     "text": [
      "jogador.png desenhada!\n",
      "No ponto (10, 10)!\n"
     ]
    }
   ],
   "source": [
    "factory.get_player(factory.sprites['JOGADOR']).desenha_imagem(Ponto(10, 10))"
   ]
  },
  {
   "cell_type": "code",
   "execution_count": 8,
   "metadata": {},
   "outputs": [
    {
     "name": "stdout",
     "output_type": "stream",
     "text": [
      "inimigo1.png desenhada!\n",
      "No ponto (100, 10)!\n"
     ]
    }
   ],
   "source": [
    "factory.get_player(factory.sprites['INIMIGO_1']).desenha_imagem(Ponto(100, 10))"
   ]
  },
  {
   "cell_type": "code",
   "execution_count": 9,
   "metadata": {},
   "outputs": [
    {
     "name": "stdout",
     "output_type": "stream",
     "text": [
      "inimigo1.png desenhada!\n",
      "No ponto (120, 10)!\n"
     ]
    }
   ],
   "source": [
    "factory.get_player(factory.sprites['INIMIGO_1']).desenha_imagem(Ponto(120, 10))"
   ]
  },
  {
   "cell_type": "code",
   "execution_count": 10,
   "metadata": {},
   "outputs": [
    {
     "name": "stdout",
     "output_type": "stream",
     "text": [
      "inimigo1.png desenhada!\n",
      "No ponto (140, 11)!\n"
     ]
    }
   ],
   "source": [
    " factory.get_player(factory.sprites['INIMIGO_1']).desenha_imagem(Ponto(140, 11))"
   ]
  },
  {
   "cell_type": "code",
   "execution_count": 11,
   "metadata": {},
   "outputs": [
    {
     "name": "stdout",
     "output_type": "stream",
     "text": [
      "inimigo2.png desenhada!\n",
      "No ponto (60, 10)!\n"
     ]
    }
   ],
   "source": [
    "factory.get_player(factory.sprites['INIMIGO_2']).desenha_imagem(Ponto(60, 10))"
   ]
  },
  {
   "cell_type": "code",
   "execution_count": 12,
   "metadata": {},
   "outputs": [
    {
     "name": "stdout",
     "output_type": "stream",
     "text": [
      "inimigo3.png desenhada!\n",
      "No ponto (50, 10)!\n"
     ]
    }
   ],
   "source": [
    "factory.get_player(factory.sprites['INIMIGO_3']).desenha_imagem(Ponto(50, 10))"
   ]
  },
  {
   "cell_type": "code",
   "execution_count": 13,
   "metadata": {},
   "outputs": [
    {
     "name": "stdout",
     "output_type": "stream",
     "text": [
      "cenario2.png desenhada!\n",
      "No ponto (170, 10)!\n"
     ]
    }
   ],
   "source": [
    "factory.get_player(factory.sprites['CENARIO_2']).desenha_imagem(Ponto(170, 10))"
   ]
  }
 ],
 "metadata": {
  "kernelspec": {
   "display_name": "Python 3",
   "language": "python",
   "name": "python3"
  },
  "language_info": {
   "codemirror_mode": {
    "name": "ipython",
    "version": 3
   },
   "file_extension": ".py",
   "mimetype": "text/x-python",
   "name": "python",
   "nbconvert_exporter": "python",
   "pygments_lexer": "ipython3",
   "version": "3.7.6"
  }
 },
 "nbformat": 4,
 "nbformat_minor": 2
}
