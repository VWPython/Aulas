{
 "cells": [
  {
   "cell_type": "markdown",
   "metadata": {},
   "source": [
    "## Trechos\n",
    "***"
   ]
  },
  {
   "cell_type": "code",
   "execution_count": 1,
   "metadata": {},
   "outputs": [],
   "source": [
    "class Andando(object):\n",
    "    \"\"\"\n",
    "    Trecho andando.\n",
    "    \"\"\"\n",
    "\n",
    "    def __init__(self, direcao, distancia):\n",
    "        \"\"\"\n",
    "        Constroi um trecho.\n",
    "        \"\"\"\n",
    "\n",
    "        self.direcao = direcao\n",
    "        self.distancia = distancia\n",
    "\n",
    "    def imprime(self):\n",
    "        \"\"\"\n",
    "        Imprime o trecho.\n",
    "        \"\"\"\n",
    "\n",
    "        print(\"\\nVá andando: \")\n",
    "        print(self.direcao)\n",
    "        print(\"A distância percorrida será de %d metros\" % self.distancia)"
   ]
  },
  {
   "cell_type": "code",
   "execution_count": 2,
   "metadata": {},
   "outputs": [],
   "source": [
    "class Carro(object):\n",
    "    \"\"\"\n",
    "    Trecho de carro.\n",
    "    \"\"\"\n",
    "\n",
    "    def __init__(self, direcao, distancia):\n",
    "        \"\"\"\n",
    "        Constroi um trecho.\n",
    "        \"\"\"\n",
    "\n",
    "        self.direcao = direcao\n",
    "        self.distancia = distancia\n",
    "\n",
    "    def imprime(self):\n",
    "        \"\"\"\n",
    "        Imprime o trecho.\n",
    "        \"\"\"\n",
    "\n",
    "        print(\"\\nVá de carro: \")\n",
    "        print(self.direcao)\n",
    "        print(\"A distância percorrida será de %d metros\" % self.distancia)"
   ]
  },
  {
   "cell_type": "markdown",
   "metadata": {},
   "source": [
    "***"
   ]
  },
  {
   "cell_type": "code",
   "execution_count": 3,
   "metadata": {},
   "outputs": [],
   "source": [
    "class Caminho(object):\n",
    "    \"\"\"\n",
    "    Caminho com um conjunto de trechos.\n",
    "    \"\"\"\n",
    "\n",
    "    def __init__(self):\n",
    "        \"\"\"\n",
    "        Constroi o caminho.\n",
    "        \"\"\"\n",
    "\n",
    "        self.caminho = []\n",
    "\n",
    "    def adiciona(self, trecho):\n",
    "        \"\"\"\n",
    "        Adiciona trechos ao caminho.\n",
    "        \"\"\"\n",
    "\n",
    "        self.caminho.append(trecho)\n",
    "\n",
    "    def remove(self, trecho):\n",
    "        \"\"\"\n",
    "        Remove um trecho do caminho.\n",
    "        \"\"\"\n",
    "\n",
    "        self.caminho.remove(trecho)\n",
    "\n",
    "    def imprime(self):\n",
    "        \"\"\"\n",
    "        Imprime o caminho.\n",
    "        \"\"\"\n",
    "\n",
    "        for trecho in self.caminho:\n",
    "            trecho.imprime()"
   ]
  },
  {
   "cell_type": "markdown",
   "metadata": {},
   "source": [
    "***"
   ]
  },
  {
   "cell_type": "code",
   "execution_count": 4,
   "metadata": {},
   "outputs": [],
   "source": [
    "trecho1 = Andando(\n",
    "    \"Vá até o cruzamento da Av. Rebouças com a Av. Brigadeiro Faria\",\n",
    "    500\n",
    ")"
   ]
  },
  {
   "cell_type": "code",
   "execution_count": 5,
   "metadata": {},
   "outputs": [],
   "source": [
    "trecho2 = Carro(\n",
    "    \"Vá até o cruzamento da Av. Brigadeiro com a Av. Cidade Jardim\",\n",
    "    1500\n",
    ")"
   ]
  },
  {
   "cell_type": "code",
   "execution_count": 6,
   "metadata": {},
   "outputs": [],
   "source": [
    "trecho3 = Carro(\n",
    "    \"Vire a direita na Marginal Pinheiros\",\n",
    "    500\n",
    ")"
   ]
  },
  {
   "cell_type": "code",
   "execution_count": 7,
   "metadata": {},
   "outputs": [],
   "source": [
    "caminho1 = Caminho()\n",
    "caminho1.adiciona(trecho1)\n",
    "caminho1.adiciona(trecho2)"
   ]
  },
  {
   "cell_type": "code",
   "execution_count": 8,
   "metadata": {},
   "outputs": [
    {
     "name": "stdout",
     "output_type": "stream",
     "text": [
      "**** Caminho 01 ****\n",
      "\n",
      "Vá andando: \n",
      "Vá até o cruzamento da Av. Rebouças com a Av. Brigadeiro Faria\n",
      "A distância percorrida será de 500 metros\n",
      "\n",
      "Vá de carro: \n",
      "Vá até o cruzamento da Av. Brigadeiro com a Av. Cidade Jardim\n",
      "A distância percorrida será de 1500 metros\n"
     ]
    }
   ],
   "source": [
    "print(\"**** Caminho 01 ****\")\n",
    "caminho1.imprime()"
   ]
  },
  {
   "cell_type": "code",
   "execution_count": 9,
   "metadata": {},
   "outputs": [],
   "source": [
    "caminho2 = Caminho()\n",
    "caminho2.adiciona(caminho1)\n",
    "caminho2.adiciona(trecho3)"
   ]
  },
  {
   "cell_type": "code",
   "execution_count": 10,
   "metadata": {},
   "outputs": [
    {
     "name": "stdout",
     "output_type": "stream",
     "text": [
      "\n",
      "**** Caminho 02 ****\n",
      "\n",
      "Vá andando: \n",
      "Vá até o cruzamento da Av. Rebouças com a Av. Brigadeiro Faria\n",
      "A distância percorrida será de 500 metros\n",
      "\n",
      "Vá de carro: \n",
      "Vá até o cruzamento da Av. Brigadeiro com a Av. Cidade Jardim\n",
      "A distância percorrida será de 1500 metros\n"
     ]
    }
   ],
   "source": [
    "print(\"\\n**** Caminho 02 ****\")\n",
    "caminho1.imprime()"
   ]
  }
 ],
 "metadata": {
  "kernelspec": {
   "display_name": "Python 3",
   "language": "python",
   "name": "python3"
  },
  "language_info": {
   "codemirror_mode": {
    "name": "ipython",
    "version": 3
   },
   "file_extension": ".py",
   "mimetype": "text/x-python",
   "name": "python",
   "nbconvert_exporter": "python",
   "pygments_lexer": "ipython3",
   "version": "3.7.6"
  }
 },
 "nbformat": 4,
 "nbformat_minor": 2
}
