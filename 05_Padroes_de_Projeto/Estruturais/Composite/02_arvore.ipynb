{
 "cells": [
  {
   "cell_type": "markdown",
   "metadata": {},
   "source": [
    "## Arvore\n",
    "***"
   ]
  },
  {
   "cell_type": "code",
   "execution_count": 1,
   "metadata": {},
   "outputs": [],
   "source": [
    "class ArquivoComponent(object):\n",
    "    \"\"\"\n",
    "    Classe abstrata  responsavel por criar componentes ou arquivos.\n",
    "    \"\"\"\n",
    "\n",
    "    def __init__(self, titulo):\n",
    "        \"\"\"\n",
    "        Controi o arquivo de video.\n",
    "        \"\"\"\n",
    "\n",
    "        self.titulo = titulo\n",
    "\n",
    "    def mostra(self):\n",
    "        \"\"\"\n",
    "        Imprime o nome do arquivo\n",
    "        \"\"\"\n",
    "\n",
    "        print(self.titulo)\n",
    "\n",
    "    def adiciona(self, arquivo):\n",
    "        \"\"\"\n",
    "        Adiciona o arquivo\n",
    "        \"\"\"\n",
    "\n",
    "        print(\n",
    "            'Não pode inserir arquivos em: {0}, pois ele não é uma pasta'\n",
    "            .format(self.titulo)\n",
    "        )\n",
    "\n",
    "    def remove(self, titulo):\n",
    "        \"\"\"\n",
    "        Remove o arquivo\n",
    "        \"\"\"\n",
    "\n",
    "        print(\n",
    "            'Não pode remover arquivos em: {0}, pois ele não é uma pasta'\n",
    "            .format(self.titulo)\n",
    "        )\n",
    "\n",
    "    def pega(self, titulo):\n",
    "        \"\"\"\n",
    "        Pega o arquivo.\n",
    "        \"\"\"\n",
    "\n",
    "        print(\n",
    "            'Não pode pesquisa arquivos em: {0}, pois ele não é uma pasta'\n",
    "            .format(self.titulo)\n",
    "        )\n",
    "        \n",
    "    class Meta:\n",
    "        abstract = True"
   ]
  },
  {
   "cell_type": "code",
   "execution_count": 2,
   "metadata": {},
   "outputs": [],
   "source": [
    "class ArquivoVideo(ArquivoComponent):\n",
    "    \"\"\"\n",
    "    Arquivo de video.\n",
    "    \"\"\"\n",
    "\n",
    "    def __init__(self, titulo):\n",
    "        \"\"\"\n",
    "        Controi o arquivo de video.\n",
    "        \"\"\"\n",
    "\n",
    "        super(ArquivoVideo, self).__init__(titulo)"
   ]
  },
  {
   "cell_type": "markdown",
   "metadata": {},
   "source": [
    "***"
   ]
  },
  {
   "cell_type": "code",
   "execution_count": 3,
   "metadata": {},
   "outputs": [],
   "source": [
    "class ArquivoComposite(ArquivoComponent):\n",
    "    \"\"\"\n",
    "    Composição de arquivos, ou pasta.\n",
    "    \"\"\"\n",
    "\n",
    "    arquivos = []\n",
    "\n",
    "    def __init__(self, titulo):\n",
    "        \"\"\"\n",
    "        Define o nome da pasta e cria ela.\n",
    "        \"\"\"\n",
    "\n",
    "        super(ArquivoComposite, self).__init__(titulo)\n",
    "\n",
    "    def mostra(self):\n",
    "        \"\"\"\n",
    "        Imprime o nome da pasta.\n",
    "        \"\"\"\n",
    "\n",
    "        print(self.titulo)\n",
    "\n",
    "        for arquivo in self.arquivos:\n",
    "            arquivo.mostra()\n",
    "\n",
    "    def adiciona(self, arquivo):\n",
    "        \"\"\"\n",
    "        Adiciona o arquivo na pasta.\n",
    "        \"\"\"\n",
    "\n",
    "        self.arquivos.append(arquivo)\n",
    "\n",
    "    def remove(self, titulo):\n",
    "        \"\"\"\n",
    "        Remove o arquivo da pasta\n",
    "        \"\"\"\n",
    "\n",
    "        for arquivo in self.arquivos:\n",
    "            if(arquivo.titulo == titulo):\n",
    "                self.arquivos.remove(arquivo)\n",
    "                return\n",
    "\n",
    "        print('Não existe esse arquivo!')\n",
    "\n",
    "    def pega(self, titulo):\n",
    "        \"\"\"\n",
    "        Pega o arquivo dentro da pasta.\n",
    "        \"\"\"\n",
    "\n",
    "        for arquivo in self.arquivos:\n",
    "            if(arquivo.titulo == titulo):\n",
    "                return arquivo\n",
    "\n",
    "        print('Não existe esse arquivo!')"
   ]
  },
  {
   "cell_type": "markdown",
   "metadata": {},
   "source": [
    "***"
   ]
  },
  {
   "cell_type": "code",
   "execution_count": 4,
   "metadata": {},
   "outputs": [],
   "source": [
    "pasta = ArquivoComposite(\"Minha pasta\")\n",
    "video1 = ArquivoVideo(\"meu video.avi\")\n",
    "video2 = ArquivoVideo(\"serieS01E01.mkv\")"
   ]
  },
  {
   "cell_type": "code",
   "execution_count": 5,
   "metadata": {},
   "outputs": [
    {
     "name": "stdout",
     "output_type": "stream",
     "text": [
      "***** Inserindo arquivos *****\n",
      "Minha pasta\n",
      "meu video.avi\n",
      "serieS01E01.mkv\n"
     ]
    }
   ],
   "source": [
    "print(\"***** Inserindo arquivos *****\")\n",
    "pasta.adiciona(video1)\n",
    "pasta.adiciona(video2)\n",
    "pasta.mostra()"
   ]
  },
  {
   "cell_type": "code",
   "execution_count": 6,
   "metadata": {},
   "outputs": [
    {
     "name": "stdout",
     "output_type": "stream",
     "text": [
      "\n",
      "***** Pesquisando arquivos *****\n",
      "meu video.avi\n"
     ]
    }
   ],
   "source": [
    "print(\"\\n***** Pesquisando arquivos *****\")\n",
    "arquivo = pasta.pega(video1.titulo)\n",
    "arquivo.mostra()"
   ]
  },
  {
   "cell_type": "code",
   "execution_count": 7,
   "metadata": {},
   "outputs": [
    {
     "name": "stdout",
     "output_type": "stream",
     "text": [
      "\n",
      "****** Removendo arquivos *****\n",
      "Minha pasta\n",
      "serieS01E01.mkv\n"
     ]
    }
   ],
   "source": [
    "print(\"\\n****** Removendo arquivos *****\")\n",
    "pasta.remove(video1.titulo)\n",
    "pasta.mostra()"
   ]
  },
  {
   "cell_type": "code",
   "execution_count": 8,
   "metadata": {},
   "outputs": [
    {
     "name": "stdout",
     "output_type": "stream",
     "text": [
      "\n",
      "****** Causando um exception *****\n",
      "Não pode inserir arquivos em: meu video.avi, pois ele não é uma pasta\n"
     ]
    }
   ],
   "source": [
    "print(\"\\n****** Causando um exception *****\")\n",
    "video1.adiciona(video2)"
   ]
  }
 ],
 "metadata": {
  "kernelspec": {
   "display_name": "Python 3",
   "language": "python",
   "name": "python3"
  },
  "language_info": {
   "codemirror_mode": {
    "name": "ipython",
    "version": 3
   },
   "file_extension": ".py",
   "mimetype": "text/x-python",
   "name": "python",
   "nbconvert_exporter": "python",
   "pygments_lexer": "ipython3",
   "version": "3.7.6"
  }
 },
 "nbformat": 4,
 "nbformat_minor": 2
}
