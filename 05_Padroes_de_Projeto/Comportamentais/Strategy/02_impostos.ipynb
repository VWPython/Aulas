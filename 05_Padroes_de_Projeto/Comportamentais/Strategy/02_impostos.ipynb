{
 "cells": [
  {
   "cell_type": "markdown",
   "metadata": {},
   "source": [
    "## Impostos\n",
    "***"
   ]
  },
  {
   "cell_type": "code",
   "execution_count": 1,
   "metadata": {},
   "outputs": [],
   "source": [
    "from abc import ABC, abstractmethod\n",
    "\n",
    "\n",
    "class CalculaImposto(ABC):\n",
    "    \"\"\"\n",
    "    Class abstrata responsavel pela implementação dos impostos\n",
    "    \"\"\"\n",
    "\n",
    "    @abstractmethod\n",
    "    def calcula_salario_com_imposto(funcionario):\n",
    "        \"\"\"\n",
    "        Calcula o salario com o imposto especifico do funcionario.\n",
    "        \"\"\"\n",
    "\n",
    "        pass"
   ]
  },
  {
   "cell_type": "code",
   "execution_count": 2,
   "metadata": {},
   "outputs": [],
   "source": [
    "class CalculaImpostoQuinzeOuDez(CalculaImposto):\n",
    "    \"\"\"\n",
    "    Calcula o salario com imposto de 15% ou 10%\n",
    "    \"\"\"\n",
    "\n",
    "    def calcula_salario_com_imposto(self, funcionario):\n",
    "        \"\"\"\n",
    "        Calcula o salario com imposto de 15% se o salario base for\n",
    "        maior que 2000 e 10% caso contrario.\n",
    "        \"\"\"\n",
    "\n",
    "        if (funcionario.salario_base > 2000):\n",
    "            return funcionario.salario_base * 0.85\n",
    "        else:\n",
    "            return funcionario.salario_base * 0.9"
   ]
  },
  {
   "cell_type": "code",
   "execution_count": 3,
   "metadata": {},
   "outputs": [],
   "source": [
    "class CalculaImpostoVinteOuQuinze(CalculaImposto):\n",
    "    \"\"\"\n",
    "    Calcula salario com imposto de 20% ou 15%\n",
    "    \"\"\"\n",
    "\n",
    "    def calcula_salario_com_imposto(self, funcionario):\n",
    "        \"\"\"\n",
    "        Calcula o salario com imposto de 20% se o salario base for\n",
    "        maior que 3500 e 15% caso contrario.\n",
    "        \"\"\"\n",
    "\n",
    "        if (funcionario.salario_base > 3500):\n",
    "            return funcionario.salario_base * 0.8\n",
    "        else:\n",
    "            return funcionario.salario_base * 0.85"
   ]
  },
  {
   "cell_type": "markdown",
   "metadata": {},
   "source": [
    "***"
   ]
  },
  {
   "cell_type": "code",
   "execution_count": 4,
   "metadata": {},
   "outputs": [],
   "source": [
    "class Funcionario(object):\n",
    "    \"\"\"\n",
    "    Classe responsavel pelo funcionario.\n",
    "    \"\"\"\n",
    "\n",
    "    DESENVOLVEDOR = 1\n",
    "    GERENTE = 2\n",
    "    DBA = 3\n",
    "\n",
    "    def __init__(self, cargo, salario_base):\n",
    "        \"\"\"\n",
    "        Cria o funcionario passando o cargo que ele desempenha e o salario\n",
    "        base dele para que se possa inserir o imposto adequado.\n",
    "        \"\"\"\n",
    "\n",
    "        self.__salario_base = salario_base\n",
    "\n",
    "        if (cargo == self.DESENVOLVEDOR):\n",
    "            self.estrategia_de_calculo = CalculaImpostoQuinzeOuDez()\n",
    "            self.cargo = self.DESENVOLVEDOR\n",
    "\n",
    "        elif (cargo == self.DBA):\n",
    "            self.estrategia_de_calculo = CalculaImpostoQuinzeOuDez()\n",
    "            self.cargo = self.DBA\n",
    "\n",
    "        elif (cargo == self.GERENTE):\n",
    "            self.estrategia_de_calculo = CalculaImpostoVinteOuQuinze()\n",
    "            self.cargo = self.GERENTE\n",
    "\n",
    "        else:\n",
    "            raise NameError(\"Cargo não encontrado!\")\n",
    "\n",
    "    def calcula_salario_com_imposto(self):\n",
    "        \"\"\"\n",
    "        Calcula o salario do funcionario de acordo com seu cargo\n",
    "        \"\"\"\n",
    "\n",
    "        return self.estrategia_de_calculo.calcula_salario_com_imposto(self)\n",
    "\n",
    "    @property\n",
    "    def salario_base(self):\n",
    "        \"\"\"\n",
    "        Pega o salario base do funcionario.\n",
    "        \"\"\"\n",
    "\n",
    "        return self.__salario_base"
   ]
  },
  {
   "cell_type": "markdown",
   "metadata": {},
   "source": [
    "***"
   ]
  },
  {
   "cell_type": "code",
   "execution_count": 5,
   "metadata": {},
   "outputs": [
    {
     "name": "stdout",
     "output_type": "stream",
     "text": [
      "Salario do desenvolvedor: 1785.0\n"
     ]
    }
   ],
   "source": [
    "funcionario1 = Funcionario(Funcionario.DESENVOLVEDOR, 2100)\n",
    "print(\"Salario do desenvolvedor:\", funcionario1.calcula_salario_com_imposto())"
   ]
  },
  {
   "cell_type": "code",
   "execution_count": 6,
   "metadata": {},
   "outputs": [
    {
     "name": "stdout",
     "output_type": "stream",
     "text": [
      "Salario do DBA: 1530.0\n"
     ]
    }
   ],
   "source": [
    "funcionario2 = Funcionario(Funcionario.DBA, 1700)\n",
    "print(\"Salario do DBA:\", funcionario2.calcula_salario_com_imposto())"
   ]
  },
  {
   "cell_type": "code",
   "execution_count": 7,
   "metadata": {},
   "outputs": [
    {
     "name": "stdout",
     "output_type": "stream",
     "text": [
      "Salario do gerente: 1445.0\n"
     ]
    }
   ],
   "source": [
    "funcionario3 = Funcionario(Funcionario.GERENTE, 1700)\n",
    "print(\"Salario do gerente:\", funcionario3.calcula_salario_com_imposto())"
   ]
  }
 ],
 "metadata": {
  "kernelspec": {
   "display_name": "Python 3",
   "language": "python",
   "name": "python3"
  },
  "language_info": {
   "codemirror_mode": {
    "name": "ipython",
    "version": 3
   },
   "file_extension": ".py",
   "mimetype": "text/x-python",
   "name": "python",
   "nbconvert_exporter": "python",
   "pygments_lexer": "ipython3",
   "version": "3.7.6"
  }
 },
 "nbformat": 4,
 "nbformat_minor": 2
}
