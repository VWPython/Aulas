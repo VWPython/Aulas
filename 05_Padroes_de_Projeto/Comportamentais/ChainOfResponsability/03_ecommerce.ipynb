{
 "cells": [
  {
   "cell_type": "markdown",
   "metadata": {},
   "source": [
    "## E-Commerce\n",
    "***"
   ]
  },
  {
   "cell_type": "code",
   "execution_count": 1,
   "metadata": {},
   "outputs": [],
   "source": [
    "class Item(object):\n",
    "    \"\"\"\n",
    "    Itens que serão adicionados ao carrinho de compras.\n",
    "    \"\"\"\n",
    "\n",
    "    def __init__(self, nome, valor):\n",
    "        \"\"\"\n",
    "        Cria um item.\n",
    "        \"\"\"\n",
    "\n",
    "        self.__nome = nome\n",
    "        self.__valor = valor\n",
    "\n",
    "    @property\n",
    "    def valor(self):\n",
    "        \"\"\"\n",
    "        Pega o valor do item.\n",
    "        \"\"\"\n",
    "\n",
    "        return self.__valor\n",
    "\n",
    "    @property\n",
    "    def nome(self):\n",
    "        \"\"\"\n",
    "        Pega o nome do item.\n",
    "        \"\"\"\n",
    "\n",
    "        return self.__nome"
   ]
  },
  {
   "cell_type": "markdown",
   "metadata": {},
   "source": [
    "***"
   ]
  },
  {
   "cell_type": "code",
   "execution_count": 2,
   "metadata": {},
   "outputs": [],
   "source": [
    "class Carrinho(object):\n",
    "    \"\"\"\n",
    "    Classe que armazena os itens e calcula o orçamento.\n",
    "    \"\"\"\n",
    "\n",
    "    def __init__(self):\n",
    "        \"\"\"\n",
    "        Cria a lista de itens do carrinho de compras para\n",
    "        calcular o orçamento.\n",
    "        \"\"\"\n",
    "\n",
    "        self.__itens = []\n",
    "\n",
    "    @property\n",
    "    def valor_total(self):\n",
    "        \"\"\"\n",
    "        Valor total do orçamento de acordo com os itens.\n",
    "        \"\"\"\n",
    "\n",
    "        total = 0.0\n",
    "\n",
    "        for item in self.__itens:\n",
    "            total += item.valor\n",
    "\n",
    "        return total\n",
    "\n",
    "    @property\n",
    "    def total_de_itens(self):\n",
    "        \"\"\"\n",
    "        Pega o total de itens.\n",
    "        \"\"\"\n",
    "\n",
    "        return len(self.__itens)\n",
    "\n",
    "    def adiciona_item(self, item):\n",
    "        \"\"\"\n",
    "        Adiciona itens ao carrinho.\n",
    "        \"\"\"\n",
    "\n",
    "        self.__itens.append(item)"
   ]
  },
  {
   "cell_type": "markdown",
   "metadata": {},
   "source": [
    "***"
   ]
  },
  {
   "cell_type": "code",
   "execution_count": 3,
   "metadata": {},
   "outputs": [],
   "source": [
    "class DescontoCincoItens(object):\n",
    "    \"\"\"\n",
    "    Desconto por cinco itens no carrinho.\n",
    "    \"\"\"\n",
    "\n",
    "    def __init__(self, proximo_desconto):\n",
    "        \"\"\"\n",
    "        Cria a fila de descontos a ser inserido\n",
    "        \"\"\"\n",
    "\n",
    "        self.__proximo_desconto = proximo_desconto\n",
    "\n",
    "    def calcula(self, carrinho):\n",
    "        \"\"\"\n",
    "        Calcula o orçamento da compra com desconto.\n",
    "        \"\"\"\n",
    "\n",
    "        if carrinho.total_de_itens >= 5:\n",
    "            return carrinho.valor_total * 0.1\n",
    "        else:\n",
    "            return self.__proximo_desconto.calcula(carrinho)"
   ]
  },
  {
   "cell_type": "code",
   "execution_count": 4,
   "metadata": {},
   "outputs": [],
   "source": [
    "class DescontoQuinhentosReais(object):\n",
    "    \"\"\"\n",
    "    Desconto para compras mais de quinhentos reais.\n",
    "    \"\"\"\n",
    "\n",
    "    def __init__(self, proximo_desconto):\n",
    "        \"\"\"\n",
    "        Cria a fila de descontos a ser inserido\n",
    "        \"\"\"\n",
    "\n",
    "        self.__proximo_desconto = proximo_desconto\n",
    "\n",
    "    def calcula(self, orcamento):\n",
    "        \"\"\"\n",
    "        Calcula o orçamento da compra com desconto.\n",
    "        \"\"\"\n",
    "\n",
    "        if orcamento.valor_total > 500:\n",
    "            return orcamento.valor_total * 0.07\n",
    "        else:\n",
    "            return self.__proximo_desconto.calcula(orcamento)"
   ]
  },
  {
   "cell_type": "code",
   "execution_count": 5,
   "metadata": {},
   "outputs": [],
   "source": [
    "class SemDesconto(object):\n",
    "    \"\"\"\n",
    "    Não há descontos.\n",
    "    \"\"\"\n",
    "\n",
    "    def calcula(self, carrinho):\n",
    "        \"\"\"\n",
    "        Calculo sem desconto\n",
    "        \"\"\"\n",
    "\n",
    "        return 0"
   ]
  },
  {
   "cell_type": "markdown",
   "metadata": {},
   "source": [
    "***"
   ]
  },
  {
   "cell_type": "code",
   "execution_count": 6,
   "metadata": {},
   "outputs": [],
   "source": [
    "class Calculador(object):\n",
    "    \"\"\"\n",
    "    Calculador de descontos.\n",
    "    \"\"\"\n",
    "\n",
    "    def calcula(self, orcamento):\n",
    "        \"\"\"\n",
    "        Calcula o desconto da compra.\n",
    "        \"\"\"\n",
    "\n",
    "        desconto = DescontoCincoItens(\n",
    "            DescontoQuinhentosReais(\n",
    "                SemDesconto()\n",
    "            )\n",
    "        ).calcula(orcamento)\n",
    "\n",
    "        return desconto"
   ]
  },
  {
   "cell_type": "markdown",
   "metadata": {},
   "source": [
    "***"
   ]
  },
  {
   "cell_type": "code",
   "execution_count": 7,
   "metadata": {},
   "outputs": [],
   "source": [
    "compra = Carrinho()\n",
    "compra.adiciona_item(Item('item01', 100))\n",
    "compra.adiciona_item(Item('item02', 100))\n",
    "compra.adiciona_item(Item('item03', 100))\n",
    "compra.adiciona_item(Item('item04', 100))\n",
    "compra.adiciona_item(Item('item05', 100))"
   ]
  },
  {
   "cell_type": "code",
   "execution_count": 8,
   "metadata": {},
   "outputs": [
    {
     "name": "stdout",
     "output_type": "stream",
     "text": [
      "500.0\n"
     ]
    }
   ],
   "source": [
    "print(compra.valor_total)"
   ]
  },
  {
   "cell_type": "code",
   "execution_count": 9,
   "metadata": {},
   "outputs": [],
   "source": [
    "calculador = Calculador()"
   ]
  },
  {
   "cell_type": "code",
   "execution_count": 10,
   "metadata": {},
   "outputs": [],
   "source": [
    "desconto = calculador.calcula(compra)"
   ]
  },
  {
   "cell_type": "code",
   "execution_count": 11,
   "metadata": {},
   "outputs": [
    {
     "name": "stdout",
     "output_type": "stream",
     "text": [
      "Desconto: 50.0\n"
     ]
    }
   ],
   "source": [
    "print('Desconto:', desconto)"
   ]
  }
 ],
 "metadata": {
  "kernelspec": {
   "display_name": "Python 3",
   "language": "python",
   "name": "python3"
  },
  "language_info": {
   "codemirror_mode": {
    "name": "ipython",
    "version": 3
   },
   "file_extension": ".py",
   "mimetype": "text/x-python",
   "name": "python",
   "nbconvert_exporter": "python",
   "pygments_lexer": "ipython3",
   "version": "3.7.6"
  }
 },
 "nbformat": 4,
 "nbformat_minor": 2
}
