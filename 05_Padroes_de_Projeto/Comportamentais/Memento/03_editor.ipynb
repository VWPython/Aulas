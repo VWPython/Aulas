{
 "cells": [
  {
   "cell_type": "markdown",
   "metadata": {},
   "source": [
    "## Editor\n",
    "***"
   ]
  },
  {
   "cell_type": "code",
   "execution_count": 1,
   "metadata": {},
   "outputs": [],
   "source": [
    "class Estado(object):\n",
    "    \"\"\"\n",
    "    Estado do texto.\n",
    "    \"\"\"\n",
    "\n",
    "    def __init__(self, texto):\n",
    "        \"\"\"\n",
    "        Construtor do estado.\n",
    "        \"\"\"\n",
    "\n",
    "        self.__texto = texto\n",
    "\n",
    "    @property\n",
    "    def texto(self):\n",
    "        \"\"\"\n",
    "        Pega o texto salvo.\n",
    "        \"\"\"\n",
    "\n",
    "        return self.__texto"
   ]
  },
  {
   "cell_type": "markdown",
   "metadata": {},
   "source": [
    "***"
   ]
  },
  {
   "cell_type": "code",
   "execution_count": 2,
   "metadata": {},
   "outputs": [],
   "source": [
    "class Historico(object):\n",
    "    \"\"\"\n",
    "    Histórico de textos salvos\n",
    "    \"\"\"\n",
    "\n",
    "    def __init__(self):\n",
    "        \"\"\"\n",
    "        Constroi o histórico criando um lista de estados do texto.\n",
    "        \"\"\"\n",
    "\n",
    "        self.__estados = []\n",
    "\n",
    "    def adiciona_estado(self, estado):\n",
    "        \"\"\"\n",
    "        Adiciona o texto a lista de estados\n",
    "        \"\"\"\n",
    "\n",
    "        self.__estados.append(estado)\n",
    "\n",
    "    def obtem_ultimo_estado(self):\n",
    "        \"\"\"\n",
    "        Pega o último estado do texto salvo e remove ele da lista\n",
    "        de estados do texto.\n",
    "        \"\"\"\n",
    "\n",
    "        if (len(self.__estados) > 0):\n",
    "            estado_salvo = self.__estados[len(self.__estados) - 1]\n",
    "            self.__estados.pop(len(self.__estados) - 1)\n",
    "            return estado_salvo\n",
    "        else:\n",
    "            return Estado(texto=\"\")"
   ]
  },
  {
   "cell_type": "markdown",
   "metadata": {},
   "source": [
    "***"
   ]
  },
  {
   "cell_type": "code",
   "execution_count": 3,
   "metadata": {},
   "outputs": [],
   "source": [
    "class Texto(object):\n",
    "    \"\"\"\n",
    "    Texto que será escrito.\n",
    "    \"\"\"\n",
    "\n",
    "    def __init__(self):\n",
    "        \"\"\"\n",
    "        Construtor do texto.\n",
    "        \"\"\"\n",
    "\n",
    "        self.historico = Historico()\n",
    "        self.texto = ''\n",
    "\n",
    "    def escreve_texto(self, texto):\n",
    "        \"\"\"\n",
    "        Escrever um texto.\n",
    "        \"\"\"\n",
    "\n",
    "        self.historico.adiciona_estado(Estado(texto))\n",
    "\n",
    "    def desfaze_escrita(self):\n",
    "        \"\"\"\n",
    "        Desfazer a escrita do texto.\n",
    "        \"\"\"\n",
    "\n",
    "        self.estado = self.historico.obtem_ultimo_estado()\n",
    "        self.texto = self.estado.texto\n",
    "\n",
    "    def mostra_texto(self):\n",
    "        \"\"\"\n",
    "        Mostrar texto\n",
    "        \"\"\"\n",
    "\n",
    "        print(self.texto)"
   ]
  },
  {
   "cell_type": "markdown",
   "metadata": {},
   "source": [
    "***"
   ]
  },
  {
   "cell_type": "code",
   "execution_count": 4,
   "metadata": {},
   "outputs": [],
   "source": [
    "texto = Texto()"
   ]
  },
  {
   "cell_type": "code",
   "execution_count": 5,
   "metadata": {},
   "outputs": [],
   "source": [
    "texto.escreve_texto(\"Primeira linha do texto\\n\")\n",
    "texto.escreve_texto(\"Segunda linha do texto\\n\")\n",
    "texto.escreve_texto(\"Terceira linha do texto\\n\")"
   ]
  },
  {
   "cell_type": "code",
   "execution_count": 6,
   "metadata": {},
   "outputs": [
    {
     "name": "stdout",
     "output_type": "stream",
     "text": [
      "\n"
     ]
    }
   ],
   "source": [
    "texto.mostra_texto()"
   ]
  },
  {
   "cell_type": "code",
   "execution_count": 7,
   "metadata": {},
   "outputs": [],
   "source": [
    "texto.desfaze_escrita()"
   ]
  },
  {
   "cell_type": "code",
   "execution_count": 8,
   "metadata": {},
   "outputs": [
    {
     "name": "stdout",
     "output_type": "stream",
     "text": [
      "Terceira linha do texto\n",
      "\n"
     ]
    }
   ],
   "source": [
    "texto.mostra_texto()"
   ]
  },
  {
   "cell_type": "code",
   "execution_count": 9,
   "metadata": {},
   "outputs": [],
   "source": [
    "texto.desfaze_escrita()"
   ]
  },
  {
   "cell_type": "code",
   "execution_count": 10,
   "metadata": {},
   "outputs": [
    {
     "name": "stdout",
     "output_type": "stream",
     "text": [
      "Segunda linha do texto\n",
      "\n"
     ]
    }
   ],
   "source": [
    "texto.mostra_texto()"
   ]
  },
  {
   "cell_type": "code",
   "execution_count": 11,
   "metadata": {},
   "outputs": [],
   "source": [
    "texto.desfaze_escrita()"
   ]
  },
  {
   "cell_type": "code",
   "execution_count": 12,
   "metadata": {},
   "outputs": [
    {
     "name": "stdout",
     "output_type": "stream",
     "text": [
      "Primeira linha do texto\n",
      "\n"
     ]
    }
   ],
   "source": [
    "texto.mostra_texto()"
   ]
  },
  {
   "cell_type": "code",
   "execution_count": 13,
   "metadata": {},
   "outputs": [],
   "source": [
    "texto.desfaze_escrita()"
   ]
  },
  {
   "cell_type": "code",
   "execution_count": 14,
   "metadata": {},
   "outputs": [
    {
     "name": "stdout",
     "output_type": "stream",
     "text": [
      "\n"
     ]
    }
   ],
   "source": [
    "texto.mostra_texto()"
   ]
  }
 ],
 "metadata": {
  "kernelspec": {
   "display_name": "Python 3",
   "language": "python",
   "name": "python3"
  },
  "language_info": {
   "codemirror_mode": {
    "name": "ipython",
    "version": 3
   },
   "file_extension": ".py",
   "mimetype": "text/x-python",
   "name": "python",
   "nbconvert_exporter": "python",
   "pygments_lexer": "ipython3",
   "version": "3.7.6"
  }
 },
 "nbformat": 4,
 "nbformat_minor": 2
}
