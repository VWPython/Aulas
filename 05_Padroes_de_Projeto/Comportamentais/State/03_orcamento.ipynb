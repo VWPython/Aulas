{
 "cells": [
  {
   "cell_type": "markdown",
   "metadata": {},
   "source": [
    "## Orçamento\n",
    "***"
   ]
  },
  {
   "cell_type": "code",
   "execution_count": 1,
   "metadata": {},
   "outputs": [],
   "source": [
    "class Item(object):\n",
    "    \"\"\"\n",
    "    Classe responsavel pelo itens\n",
    "    \"\"\"\n",
    "\n",
    "    def __init__(self, nome, valor):\n",
    "        \"\"\"\n",
    "        Cria o item.\n",
    "        \"\"\"\n",
    "\n",
    "        self.__nome = nome\n",
    "        self.__valor = valor\n",
    "\n",
    "    @property\n",
    "    def valor(self):\n",
    "        \"\"\"\n",
    "        Pega o valor do item.\n",
    "        \"\"\"\n",
    "\n",
    "        return self.__valor\n",
    "\n",
    "    @property\n",
    "    def nome(self):\n",
    "        \"\"\"\n",
    "        Pega o nome do item.\n",
    "        \"\"\"\n",
    "\n",
    "        return self.__nome"
   ]
  },
  {
   "cell_type": "markdown",
   "metadata": {},
   "source": [
    "***"
   ]
  },
  {
   "cell_type": "code",
   "execution_count": 2,
   "metadata": {},
   "outputs": [],
   "source": [
    "from abc import ABC, abstractmethod\n",
    "\n",
    "\n",
    "class EstadoDoOrcamento(object):\n",
    "    \"\"\"\n",
    "    Classe abstrata responsavel pelos estados do orçamento.\n",
    "    \"\"\"\n",
    "\n",
    "    def __init__(self):\n",
    "        \"\"\"\n",
    "        Constroi o estado.\n",
    "        \"\"\"\n",
    "\n",
    "        self.desconto_aplicado = False\n",
    "\n",
    "    @abstractmethod\n",
    "    def aplica_desconto_extra(self, orcamento):\n",
    "        \"\"\"\n",
    "        Aplica um desconto extra no orçamento.\n",
    "        \"\"\"\n",
    "\n",
    "        pass\n",
    "\n",
    "    @abstractmethod\n",
    "    def aprova(self, orcamento):\n",
    "        \"\"\"\n",
    "        Aprova o orçamento.\n",
    "        \"\"\"\n",
    "\n",
    "        pass\n",
    "\n",
    "    @abstractmethod\n",
    "    def reprova(self, orcamento):\n",
    "        \"\"\"\n",
    "        Reprova o orçamento.\n",
    "        \"\"\"\n",
    "\n",
    "        pass\n",
    "\n",
    "    @abstractmethod\n",
    "    def finaliza(self, orcamento):\n",
    "        \"\"\"\n",
    "        Finaliza o orçamento.\n",
    "        \"\"\"\n",
    "\n",
    "        pass"
   ]
  },
  {
   "cell_type": "code",
   "execution_count": 3,
   "metadata": {},
   "outputs": [],
   "source": [
    "class EmAprovacao(EstadoDoOrcamento):\n",
    "    \"\"\"\n",
    "    Classe responsavel por verificar se o estado do orçamento\n",
    "    está em aprovação\n",
    "    \"\"\"\n",
    "\n",
    "    def aplica_desconto_extra(self, orcamento):\n",
    "        \"\"\"\n",
    "        Aplica desconto extra se o orçamento estive no estado\n",
    "        de aprovação\n",
    "        \"\"\"\n",
    "\n",
    "        if not self.desconto_aplicado:\n",
    "            orcamento.adiciona_desconto_extra(orcamento.total * 0.02)\n",
    "            self.desconto_aplicado = True\n",
    "        else:\n",
    "            print(\"Desconto já foi aplicado.\")\n",
    "\n",
    "    def aprova(self, orcamento):\n",
    "        \"\"\"\n",
    "        Aprova o orçamento atual.\n",
    "        \"\"\"\n",
    "\n",
    "        orcamento.estado_atual = Aprovado()\n",
    "\n",
    "    def reprova(self, orcamento):\n",
    "        \"\"\"\n",
    "        Reprova o orçamento atual\n",
    "        \"\"\"\n",
    "\n",
    "        orcamento.estado_atual = Reprovado()\n",
    "\n",
    "    def finaliza(self, orcamento):\n",
    "        \"\"\"\n",
    "        Finaliza o orçamento atual\n",
    "        \"\"\"\n",
    "\n",
    "        print(\"Orçamentos em aprovação não podem ser finalizados.\")"
   ]
  },
  {
   "cell_type": "code",
   "execution_count": 4,
   "metadata": {},
   "outputs": [],
   "source": [
    "class Aprovado(EstadoDoOrcamento):\n",
    "    \"\"\"\n",
    "    Classe responsavel por verificar se o estado do orçamento\n",
    "    está aprovado\n",
    "    \"\"\"\n",
    "\n",
    "    def aplica_desconto_extra(self, orcamento):\n",
    "        \"\"\"\n",
    "        Aplica desconto extra se o orçamento estive no estado aprovado.\n",
    "        \"\"\"\n",
    "\n",
    "        if not self.desconto_aplicado:\n",
    "            orcamento.adiciona_desconto_extra(orcamento.total * 0.05)\n",
    "            self.desconto_aplicado = True\n",
    "        else:\n",
    "            print(\"Desconto já foi aplicado.\")\n",
    "\n",
    "    def aprova(self, orcamento):\n",
    "        \"\"\"\n",
    "        Aprova o orçamento atual.\n",
    "        \"\"\"\n",
    "\n",
    "        print(\"O orçamento já está aprovado.\")\n",
    "\n",
    "    def reprova(self, orcamento):\n",
    "        \"\"\"\n",
    "        Reprova o orçamento atual\n",
    "        \"\"\"\n",
    "\n",
    "        print(\"O orçamento já está aprovado, não pode ser reprovado.\")\n",
    "\n",
    "    def finaliza(self, orcamento):\n",
    "        \"\"\"\n",
    "        Finaliza o orçamento atual\n",
    "        \"\"\"\n",
    "\n",
    "        orcamento.estado_atual = Finalizado()"
   ]
  },
  {
   "cell_type": "code",
   "execution_count": 5,
   "metadata": {},
   "outputs": [],
   "source": [
    "class Reprovado(EstadoDoOrcamento):\n",
    "    \"\"\"\n",
    "    Classe responsavel por verificar se o estado do orçamento\n",
    "    está reprovado\n",
    "    \"\"\"\n",
    "\n",
    "    def aplica_desconto_extra(self, orcamento):\n",
    "        \"\"\"\n",
    "        Orçamentos reprovados não recebem desconto extra.\n",
    "        \"\"\"\n",
    "\n",
    "        print(\"Orçamentos reprovados não recebem desconto extra.\")\n",
    "\n",
    "    def aprova(self, orcamento):\n",
    "        \"\"\"\n",
    "        Aprova o orçamento atual.\n",
    "        \"\"\"\n",
    "\n",
    "        print(\"Orçamento já está reprovado, não pode ser aprovado.\")\n",
    "\n",
    "    def reprova(self, orcamento):\n",
    "        \"\"\"\n",
    "        Reprova o orçamento atual\n",
    "        \"\"\"\n",
    "\n",
    "        print(\"O orçamento já está reprovado, não pode ser reprovado novamente.\")\n",
    "\n",
    "    def finaliza(self, orcamento):\n",
    "        \"\"\"\n",
    "        Finaliza o orçamento atual\n",
    "        \"\"\"\n",
    "\n",
    "        orcamento.estado_atual = Finalizado()"
   ]
  },
  {
   "cell_type": "code",
   "execution_count": 6,
   "metadata": {},
   "outputs": [],
   "source": [
    "class Finalizado(EstadoDoOrcamento):\n",
    "    \"\"\"\n",
    "    Classe responsavel por verificar se o estado do orçamento\n",
    "    está finalizado\n",
    "    \"\"\"\n",
    "\n",
    "    def aplica_desconto_extra(self, orcamento):\n",
    "        \"\"\"\n",
    "        Orçamento finalizado não tem disconto\n",
    "        \"\"\"\n",
    "\n",
    "        print(\"Orçamentos finalizados não recebem desconto extra.\")\n",
    "\n",
    "    def aprova(self, orcamento):\n",
    "        \"\"\"\n",
    "        Aprova o orçamento atual.\n",
    "        \"\"\"\n",
    "\n",
    "        print(\"Orçamento já finalizado.\")\n",
    "\n",
    "    def reprova(self, orcamento):\n",
    "        \"\"\"\n",
    "        Reprova o orçamento atual\n",
    "        \"\"\"\n",
    "\n",
    "        print(\"Orçamento já finalizado.\")\n",
    "\n",
    "    def finaliza(self, orcamento):\n",
    "        \"\"\"\n",
    "        Finaliza o orçamento atual\n",
    "        \"\"\"\n",
    "\n",
    "        print(\"Orçamento já finalizado.\")"
   ]
  },
  {
   "cell_type": "markdown",
   "metadata": {},
   "source": [
    "***"
   ]
  },
  {
   "cell_type": "code",
   "execution_count": 7,
   "metadata": {},
   "outputs": [],
   "source": [
    "class Orcamento(object):\n",
    "    \"\"\"\n",
    "    Classe responsavel pelo orçamento.\n",
    "    \"\"\"\n",
    "\n",
    "    def __init__(self):\n",
    "        \"\"\"\n",
    "        Cria o orçamento.\n",
    "        \"\"\"\n",
    "\n",
    "        self.__itens = []\n",
    "        self.estado_atual = EmAprovacao()\n",
    "        self.__desconto_extra = 0\n",
    "\n",
    "    @property\n",
    "    def total(self):\n",
    "        \"\"\"\n",
    "        Calculo do orçamento total.\n",
    "        \"\"\"\n",
    "\n",
    "        total = 0.0\n",
    "\n",
    "        for item in self.__itens:\n",
    "            total += item.valor\n",
    "\n",
    "        return total - self.__desconto_extra\n",
    "\n",
    "    def adiciona_item(self, item):\n",
    "        \"\"\"\n",
    "        Adiciona um item ao orçamento total.\n",
    "        \"\"\"\n",
    "\n",
    "        self.__itens.append(item)\n",
    "\n",
    "    def aprova(self):\n",
    "        \"\"\"\n",
    "        Aprova orçamento.\n",
    "        \"\"\"\n",
    "\n",
    "        self.estado_atual.aprova(self)\n",
    "\n",
    "    def reprova(self):\n",
    "        \"\"\"\n",
    "        Reprova o orçamento.\n",
    "        \"\"\"\n",
    "\n",
    "        self.estado_atual.reprova(self)\n",
    "\n",
    "    def finaliza(self):\n",
    "        \"\"\"\n",
    "        Finaliza o orçamento.\n",
    "        \"\"\"\n",
    "\n",
    "        self.estado_atual.finaliza(self)\n",
    "\n",
    "    def aplica_desconto_extra(self):\n",
    "        \"\"\"\n",
    "        Aplica desconto extra no orçamento.\n",
    "        \"\"\"\n",
    "\n",
    "        self.estado_atual.aplica_desconto_extra(self)\n",
    "\n",
    "    def adiciona_desconto_extra(self, desconto):\n",
    "        \"\"\"\n",
    "        Adiciona um desconto extra ao orçamento.\n",
    "        \"\"\"\n",
    "\n",
    "        self.__desconto_extra += desconto"
   ]
  },
  {
   "cell_type": "markdown",
   "metadata": {},
   "source": [
    "***"
   ]
  },
  {
   "cell_type": "code",
   "execution_count": 8,
   "metadata": {},
   "outputs": [],
   "source": [
    "orcamento = Orcamento()"
   ]
  },
  {
   "cell_type": "code",
   "execution_count": 9,
   "metadata": {},
   "outputs": [],
   "source": [
    "orcamento.adiciona_item(Item('Item 01', 100))\n",
    "orcamento.adiciona_item(Item('Item 02', 50))\n",
    "orcamento.adiciona_item(Item('Item 03', 400))"
   ]
  },
  {
   "cell_type": "code",
   "execution_count": 10,
   "metadata": {},
   "outputs": [
    {
     "name": "stdout",
     "output_type": "stream",
     "text": [
      "550.0\n"
     ]
    }
   ],
   "source": [
    "print(orcamento.total)"
   ]
  },
  {
   "cell_type": "code",
   "execution_count": 11,
   "metadata": {},
   "outputs": [
    {
     "name": "stdout",
     "output_type": "stream",
     "text": [
      "539.0\n"
     ]
    }
   ],
   "source": [
    "orcamento.aplica_desconto_extra()\n",
    "print(orcamento.total)"
   ]
  },
  {
   "cell_type": "code",
   "execution_count": 12,
   "metadata": {},
   "outputs": [],
   "source": [
    "orcamento.aprova()"
   ]
  },
  {
   "cell_type": "code",
   "execution_count": 13,
   "metadata": {},
   "outputs": [
    {
     "name": "stdout",
     "output_type": "stream",
     "text": [
      "512.05\n"
     ]
    }
   ],
   "source": [
    "orcamento.aplica_desconto_extra()\n",
    "print(orcamento.total)"
   ]
  },
  {
   "cell_type": "code",
   "execution_count": 14,
   "metadata": {},
   "outputs": [],
   "source": [
    "orcamento.finaliza()"
   ]
  }
 ],
 "metadata": {
  "kernelspec": {
   "display_name": "Python 3",
   "language": "python",
   "name": "python3"
  },
  "language_info": {
   "codemirror_mode": {
    "name": "ipython",
    "version": 3
   },
   "file_extension": ".py",
   "mimetype": "text/x-python",
   "name": "python",
   "nbconvert_exporter": "python",
   "pygments_lexer": "ipython3",
   "version": "3.7.6"
  }
 },
 "nbformat": 4,
 "nbformat_minor": 2
}
