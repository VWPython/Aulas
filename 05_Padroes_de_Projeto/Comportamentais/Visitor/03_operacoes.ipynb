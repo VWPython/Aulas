{
 "cells": [
  {
   "cell_type": "markdown",
   "metadata": {},
   "source": [
    "## Operações\n",
    "***"
   ]
  },
  {
   "cell_type": "code",
   "execution_count": 1,
   "metadata": {},
   "outputs": [],
   "source": [
    "class Numero(object):\n",
    "    \"\"\"\n",
    "    Classe que cria os números.\n",
    "    \"\"\"\n",
    "\n",
    "    def __init__(self, numero):\n",
    "        \"\"\"\n",
    "        Constroi o número.\n",
    "        \"\"\"\n",
    "\n",
    "        self.__numero = numero\n",
    "\n",
    "    def executa(self):\n",
    "        \"\"\"\n",
    "        Retorna o número.\n",
    "        \"\"\"\n",
    "\n",
    "        return self.__numero\n",
    "\n",
    "    def aceita(self, visitante):\n",
    "        \"\"\"\n",
    "        Aceita a impressão do número.\n",
    "        \"\"\"\n",
    "\n",
    "        return visitante.visita_numero(self)"
   ]
  },
  {
   "cell_type": "code",
   "execution_count": 2,
   "metadata": {},
   "outputs": [],
   "source": [
    "class Soma(object):\n",
    "    \"\"\"\n",
    "    Operação simples de soma.\n",
    "    \"\"\"\n",
    "\n",
    "    def __init__(self, esquerda, direita):\n",
    "        \"\"\"\n",
    "        Constroi a operação simples de soma passando a expressão do lado\n",
    "        esquerdo e a expressão do lado direito.\n",
    "        \"\"\"\n",
    "\n",
    "        self.__esquerda = esquerda\n",
    "        self.__direita = direita\n",
    "\n",
    "    @property\n",
    "    def expressao_esquerda(self):\n",
    "        \"\"\"\n",
    "        Pega a expressão esquerda.\n",
    "        \"\"\"\n",
    "\n",
    "        return self.__esquerda\n",
    "\n",
    "    @property\n",
    "    def expressao_direita(self):\n",
    "        \"\"\"\n",
    "        Pega a expressão direita.\n",
    "        \"\"\"\n",
    "\n",
    "        return self.__direita\n",
    "\n",
    "    def executa(self):\n",
    "        \"\"\"\n",
    "        Retorna a soma das duas expressões: esquerda e direita.\n",
    "        \"\"\"\n",
    "\n",
    "        return self.__esquerda.executa() + self.__direita.executa()\n",
    "\n",
    "    def aceita(self, visitante):\n",
    "        \"\"\"\n",
    "        Aceita a impressão de soma.\n",
    "        \"\"\"\n",
    "\n",
    "        return visitante.visita_soma(self)"
   ]
  },
  {
   "cell_type": "code",
   "execution_count": 3,
   "metadata": {},
   "outputs": [],
   "source": [
    "class Subtracao(object):\n",
    "    \"\"\"\n",
    "    Operação simples de subtração\n",
    "    \"\"\"\n",
    "\n",
    "    def __init__(self, esquerda, direita):\n",
    "        \"\"\"\n",
    "        Constroi a operação simples de subtração passando a expressão do lado\n",
    "        esquerdo e a expressão do lado direito.\n",
    "        \"\"\"\n",
    "\n",
    "        self.__esquerda = esquerda\n",
    "        self.__direita = direita\n",
    "\n",
    "    @property\n",
    "    def expressao_esquerda(self):\n",
    "        \"\"\"\n",
    "        Pega a expressão esquerda.\n",
    "        \"\"\"\n",
    "\n",
    "        return self.__esquerda\n",
    "\n",
    "    @property\n",
    "    def expressao_direita(self):\n",
    "        \"\"\"\n",
    "        Pega a expressão direita.\n",
    "        \"\"\"\n",
    "\n",
    "        return self.__direita\n",
    "\n",
    "    def executa(self):\n",
    "        \"\"\"\n",
    "        Retorna a subtração das duas expressões: esquerda e direita.\n",
    "        \"\"\"\n",
    "        return self.__esquerda.executa() - self.__direita.executa()\n",
    "\n",
    "    def aceita(self, visitante):\n",
    "        \"\"\"\n",
    "        Aceita a impressão de subtração.\n",
    "        \"\"\"\n",
    "\n",
    "        return visitante.visita_subtracao(self)"
   ]
  },
  {
   "cell_type": "code",
   "execution_count": 4,
   "metadata": {},
   "outputs": [],
   "source": [
    "class Multiplicacao(object):\n",
    "    \"\"\"\n",
    "    Operação simples de multiplicação.\n",
    "    \"\"\"\n",
    "\n",
    "    def __init__(self, esquerda, direita):\n",
    "        \"\"\"\n",
    "        Constroi a operação simples de multiplicação passando a\n",
    "        expressão do lado esquerdo e a expressão do lado direito.\n",
    "        \"\"\"\n",
    "\n",
    "        self.__esquerda = esquerda\n",
    "        self.__direita = direita\n",
    "\n",
    "    @property\n",
    "    def expressao_esquerda(self):\n",
    "        \"\"\"\n",
    "        Pega a expressão esquerda.\n",
    "        \"\"\"\n",
    "\n",
    "        return self.__esquerda\n",
    "\n",
    "    @property\n",
    "    def expressao_direita(self):\n",
    "        \"\"\"\n",
    "        Pega a expressão direita.\n",
    "        \"\"\"\n",
    "\n",
    "        return self.__direita\n",
    "\n",
    "    def executa(self):\n",
    "        \"\"\"\n",
    "        Retorna a multiplicação das duas expressões: esquerda e direita.\n",
    "        \"\"\"\n",
    "\n",
    "        return self.__esquerda.executa() * self.__direita.executa()\n",
    "\n",
    "    def aceita(self, visitante):\n",
    "        \"\"\"\n",
    "        Aceita a impressão de multiplicação.\n",
    "        \"\"\"\n",
    "\n",
    "        return visitante.visita_multiplicacao(self)"
   ]
  },
  {
   "cell_type": "code",
   "execution_count": 5,
   "metadata": {},
   "outputs": [],
   "source": [
    "class Divisao(object):\n",
    "    \"\"\"\n",
    "    Operação simples de divisao.\n",
    "    \"\"\"\n",
    "\n",
    "    def __init__(self, dividendo, divisor):\n",
    "        \"\"\"\n",
    "        Constroi a operação simples de divisao passando a expressão do lado\n",
    "        esquerdo e a expressão do lado direito.\n",
    "        \"\"\"\n",
    "\n",
    "        self.__dividendo = dividendo\n",
    "        self.__divisor = divisor\n",
    "\n",
    "    @property\n",
    "    def resto(self):\n",
    "        \"\"\"\n",
    "        Pega o resto da divisão.\n",
    "        \"\"\"\n",
    "\n",
    "        return self.__dividendo % self.__divisor\n",
    "\n",
    "    @property\n",
    "    def dividendo(self):\n",
    "        \"\"\"\n",
    "        Pega o dividendo.\n",
    "        \"\"\"\n",
    "\n",
    "        return self.__dividendo\n",
    "\n",
    "    @property\n",
    "    def divisor(self):\n",
    "        \"\"\"\n",
    "        Pega o divisor.\n",
    "        \"\"\"\n",
    "\n",
    "        return self.__divisor\n",
    "\n",
    "    def executa(self):\n",
    "        \"\"\"\n",
    "        Retorna a divisao das duas expressões: esquerda e direita.\n",
    "        \"\"\"\n",
    "\n",
    "        try:\n",
    "            quociente = self.__dividendo.executa() / self.__divisor.executa()\n",
    "        except ZeroDivisionError:\n",
    "            print(\"Não se pode dividir por zero.\")\n",
    "        else:\n",
    "            return quociente\n",
    "\n",
    "    def aceita(self, visitante):\n",
    "        \"\"\"\n",
    "        Aceita a impressão da divisão.\n",
    "        \"\"\"\n",
    "\n",
    "        return visitante.visita_divisao(self)"
   ]
  },
  {
   "cell_type": "markdown",
   "metadata": {},
   "source": [
    "***"
   ]
  },
  {
   "cell_type": "code",
   "execution_count": 6,
   "metadata": {},
   "outputs": [],
   "source": [
    "class Impressora(object):\n",
    "    \"\"\"\n",
    "    Navega na arvore de elementos (operaçoes) imprimindo a expressão ou\n",
    "    expressões aninhadas\n",
    "    \"\"\"\n",
    "\n",
    "    def visita_soma(self, soma):\n",
    "        \"\"\"\n",
    "        Formata e imprime a operação de soma.\n",
    "        \"\"\"\n",
    "\n",
    "        return \"({0} + {1})\".format(\n",
    "            soma.expressao_esquerda.aceita(self),\n",
    "            soma.expressao_direita.aceita(self)\n",
    "        )\n",
    "\n",
    "    def visita_subtracao(self, subtracao):\n",
    "        \"\"\"\n",
    "        Formata e imprime a operação de subtração.\n",
    "        \"\"\"\n",
    "\n",
    "        return \"({0} - {1})\".format(\n",
    "            subtracao.expressao_esquerda.aceita(self),\n",
    "            subtracao.expressao_direita.aceita(self)\n",
    "        )\n",
    "\n",
    "    def visita_multiplicacao(self, multiplicacao):\n",
    "        \"\"\"\n",
    "        Formata e imprime a operação de multiplicação.\n",
    "        \"\"\"\n",
    "\n",
    "        return \"({0} x {1})\".format(\n",
    "            multiplicacao.expressao_esquerda.aceita(self),\n",
    "            multiplicacao.expressao_direita.aceita(self)\n",
    "        )\n",
    "\n",
    "    def visita_divisao(self, divisao):\n",
    "        \"\"\"\n",
    "        Formata e imprime a operação de divisão.\n",
    "        \"\"\"\n",
    "\n",
    "        return \"({0}/{1})\".format(\n",
    "            divisao.dividendo.aceita(self),\n",
    "            divisao.divisor.aceita(self)\n",
    "        )\n",
    "\n",
    "    def visita_numero(self, numero):\n",
    "        \"\"\"\n",
    "        Formata e imprime o número.\n",
    "        \"\"\"\n",
    "\n",
    "        return numero.executa()"
   ]
  },
  {
   "cell_type": "markdown",
   "metadata": {},
   "source": [
    "***"
   ]
  },
  {
   "cell_type": "code",
   "execution_count": 7,
   "metadata": {},
   "outputs": [],
   "source": [
    "impressao = Impressora()"
   ]
  },
  {
   "cell_type": "code",
   "execution_count": 8,
   "metadata": {},
   "outputs": [],
   "source": [
    "expressao_esquerda = Soma(Numero(10), Numero(20))"
   ]
  },
  {
   "cell_type": "code",
   "execution_count": 9,
   "metadata": {},
   "outputs": [],
   "source": [
    "expressao_direita = Subtracao(Numero(5), Numero(2))"
   ]
  },
  {
   "cell_type": "code",
   "execution_count": 10,
   "metadata": {},
   "outputs": [],
   "source": [
    "expressao_esquerda = Soma(expressao_esquerda, expressao_direita)"
   ]
  },
  {
   "cell_type": "code",
   "execution_count": 11,
   "metadata": {},
   "outputs": [],
   "source": [
    "resultado = Soma(expressao_esquerda, Numero(7))"
   ]
  },
  {
   "cell_type": "code",
   "execution_count": 12,
   "metadata": {},
   "outputs": [],
   "source": [
    "dividendo = Multiplicacao(resultado, Numero(2))"
   ]
  },
  {
   "cell_type": "code",
   "execution_count": 13,
   "metadata": {},
   "outputs": [],
   "source": [
    "resultado = Divisao(dividendo, Numero(10))"
   ]
  },
  {
   "cell_type": "code",
   "execution_count": 14,
   "metadata": {},
   "outputs": [
    {
     "name": "stdout",
     "output_type": "stream",
     "text": [
      "(((((10 + 20) + (5 - 2)) + 7) x 2)/10) = 8.0\n"
     ]
    }
   ],
   "source": [
    "print(\"{0} = {1}\".format(\n",
    "    resultado.aceita(impressao),\n",
    "    resultado.executa()\n",
    "))"
   ]
  }
 ],
 "metadata": {
  "kernelspec": {
   "display_name": "Python 3",
   "language": "python",
   "name": "python3"
  },
  "language_info": {
   "codemirror_mode": {
    "name": "ipython",
    "version": 3
   },
   "file_extension": ".py",
   "mimetype": "text/x-python",
   "name": "python",
   "nbconvert_exporter": "python",
   "pygments_lexer": "ipython3",
   "version": "3.7.6"
  }
 },
 "nbformat": 4,
 "nbformat_minor": 2
}
