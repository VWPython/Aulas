{
 "cells": [
  {
   "cell_type": "markdown",
   "metadata": {},
   "source": [
    "## Introdução\n",
    "***"
   ]
  },
  {
   "cell_type": "markdown",
   "metadata": {},
   "source": [
    "Selenium é uma ferramenta para testar aplicações web pelo browser de forma automatizada. Selenium se refere ao Acceptance Testing (ou functional testing) que involve rodar testes num sistema finalizado. Os testes rodam diretamente num browser, exatamente como o usuário faria.\n",
    "\n",
    "![img](https://user-images.githubusercontent.com/14116020/64830508-25af2200-d5a7-11e9-9fc5-83bf2092483c.png)"
   ]
  },
  {
   "cell_type": "markdown",
   "metadata": {},
   "source": [
    "***\n",
    "### Teste básico\n",
    "***\n",
    "\n",
    "1. Importar a biblioteca do Selenium;\n",
    "2. Instanciar o Driver que vai usar;\n",
    "3. Abrir a url/site;\n",
    "4. Procurar o elemento que queremos manipular;\n",
    "5. Aplicar a ação sobre o elemento;\n",
    "6. Validar se a ação foi realizada."
   ]
  },
  {
   "cell_type": "markdown",
   "metadata": {},
   "source": [
    "***\n",
    "### Instalação\n",
    "***\n",
    "\n",
    "```\n",
    "pip3 install selenium\n",
    "pip3 install webdriver_manager\n",
    "```\n",
    "\n",
    "Para baixar o driver faça:\n",
    "\n",
    "```py\n",
    "from selenium import webdriver\n",
    "from webdriver_manager.chrome import ChromeDriverManager\n",
    "from webdriver_manager.firefox import GeckoDriverManager\n",
    "\n",
    "webdriver.Chrome(ChromeDriverManager().install())\n",
    "webdriver.Firefox(executable_path=GeckoDriverManager().install())\n",
    "```\n",
    "\n",
    "***"
   ]
  },
  {
   "cell_type": "code",
   "execution_count": 1,
   "metadata": {},
   "outputs": [],
   "source": [
    "from selenium import webdriver\n",
    "from selenium.webdriver import Chrome\n",
    "from selenium.webdriver.chrome.options import Options"
   ]
  },
  {
   "cell_type": "code",
   "execution_count": 2,
   "metadata": {},
   "outputs": [],
   "source": [
    "def config_selenium():\n",
    "    \"\"\"\n",
    "    Configura o selenium para rodar no docker.\n",
    "    \"\"\"\n",
    "    \n",
    "    chrome_options = Options()\n",
    "    chrome_options.binary_location = ''\n",
    "    chrome_options.add_argument('--disable-extensions')\n",
    "    chrome_options.add_argument(\"--headless\")\n",
    "    chrome_options.add_argument('--disable-gpu')\n",
    "    chrome_options.add_argument('--no-sandbox')\n",
    "    chrome_options.add_argument('--ignore-certificate-errors')\n",
    "    chrome_options.add_argument('--browser.helperApps.neverAsk.saveToDisk=application/pdf')\n",
    "    driver = Chrome(options=chrome_options)\n",
    "    driver.implicitly_wait(5)  # Segundos\n",
    "    \n",
    "    return driver"
   ]
  },
  {
   "cell_type": "code",
   "execution_count": 3,
   "metadata": {},
   "outputs": [],
   "source": [
    "driver = config_selenium()"
   ]
  },
  {
   "cell_type": "code",
   "execution_count": 4,
   "metadata": {},
   "outputs": [],
   "source": [
    "driver.get(\"http://www.facebook.com/\")\n",
    "driver.quit()"
   ]
  }
 ],
 "metadata": {
  "kernelspec": {
   "display_name": "Python 3",
   "language": "python",
   "name": "python3"
  },
  "language_info": {
   "codemirror_mode": {
    "name": "ipython",
    "version": 3
   },
   "file_extension": ".py",
   "mimetype": "text/x-python",
   "name": "python",
   "nbconvert_exporter": "python",
   "pygments_lexer": "ipython3",
   "version": "3.7.6"
  }
 },
 "nbformat": 4,
 "nbformat_minor": 2
}
