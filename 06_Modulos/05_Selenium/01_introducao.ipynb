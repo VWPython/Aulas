{
 "cells": [
  {
   "cell_type": "markdown",
   "metadata": {},
   "source": [
    "## Introdução\n",
    "***"
   ]
  },
  {
   "cell_type": "markdown",
   "metadata": {},
   "source": [
    "Selenium é uma ferramenta para testar aplicações web pelo browser de forma automatizada. Selenium se refere ao Acceptance Testing (ou functional testing) que involve rodar testes num sistema finalizado. Os testes rodam diretamente num browser, exatamente como o usuário faria.\n",
    "\n",
    "![img](https://user-images.githubusercontent.com/14116020/64830508-25af2200-d5a7-11e9-9fc5-83bf2092483c.png)"
   ]
  },
  {
   "cell_type": "markdown",
   "metadata": {},
   "source": [
    "***\n",
    "### Teste básico\n",
    "***\n",
    "\n",
    "1. Importar a biblioteca do Selenium;\n",
    "2. Instanciar o Driver que vai usar;\n",
    "3. Abrir a url/site;\n",
    "4. Procurar o elemento que queremos manipular;\n",
    "5. Aplicar a ação sobre o elemento;\n",
    "6. Validar se a ação foi realizada."
   ]
  },
  {
   "cell_type": "markdown",
   "metadata": {},
   "source": [
    "***\n",
    "### Instalação\n",
    "***\n",
    "\n",
    "```\n",
    "pip3 install selenium\n",
    "pip3 install webdriver_manager\n",
    "```\n",
    "\n",
    "Para baixar o driver faça:\n",
    "\n",
    "```py\n",
    "from selenium import webdriver\n",
    "from webdriver_manager.chrome import ChromeDriverManager\n",
    "from webdriver_manager.firefox import GeckoDriverManager\n",
    "\n",
    "webdriver.Chrome(ChromeDriverManager().install())\n",
    "webdriver.Firefox(executable_path=GeckoDriverManager().install())\n",
    "```\n",
    "\n",
    "***"
   ]
  },
  {
   "cell_type": "code",
   "execution_count": 1,
   "metadata": {},
   "outputs": [],
   "source": [
    "from selenium import webdriver\n",
    "from webdriver_manager.chrome import ChromeDriverManager\n",
    "from webdriver_manager.firefox import GeckoDriverManager\n",
    "from webdriver_manager.phantomjs import PhantomJsDriverManager"
   ]
  },
  {
   "cell_type": "code",
   "execution_count": 2,
   "metadata": {},
   "outputs": [
    {
     "name": "stdout",
     "output_type": "stream",
     "text": [
      "\n",
      "Checking for linux64 chromedriver:76.0.3809.126 in cache\n",
      "Driver found in /home/victorhad/.wdm/chromedriver/76.0.3809.126/linux64/chromedriver\n"
     ]
    }
   ],
   "source": [
    "driver = webdriver.Chrome(executable_path=ChromeDriverManager().install())\n",
    "driver.get(\"http://www.facebook.com/\")\n",
    "driver.quit()"
   ]
  },
  {
   "cell_type": "code",
   "execution_count": 3,
   "metadata": {},
   "outputs": [
    {
     "name": "stdout",
     "output_type": "stream",
     "text": [
      "\n",
      "Checking for linux64 geckodriver:v0.25.0 in cache\n",
      "Driver found in /home/victorhad/.wdm/geckodriver/v0.25.0/linux64/geckodriver\n"
     ]
    }
   ],
   "source": [
    "driver = webdriver.Firefox(executable_path=GeckoDriverManager().install())\n",
    "driver.get(\"http://www.facebook.com/\")\n",
    "driver.quit()"
   ]
  },
  {
   "cell_type": "code",
   "execution_count": 4,
   "metadata": {},
   "outputs": [],
   "source": [
    "driver = webdriver.Chrome(executable_path=\"/home/victorhad/.wdm/chromedriver/76.0.3809.126/linux64/chromedriver\")\n",
    "driver.get(\"http://www.google.com/\")"
   ]
  },
  {
   "cell_type": "code",
   "execution_count": 5,
   "metadata": {},
   "outputs": [],
   "source": [
    "driver = webdriver.Firefox(executable_path=\"/home/victorhad/.wdm/geckodriver/v0.25.0/linux64/geckodriver\")\n",
    "driver.get(\"http://www.google.com/\")"
   ]
  }
 ],
 "metadata": {
  "kernelspec": {
   "display_name": "Python 3",
   "language": "python",
   "name": "python3"
  },
  "language_info": {
   "codemirror_mode": {
    "name": "ipython",
    "version": 3
   },
   "file_extension": ".py",
   "mimetype": "text/x-python",
   "name": "python",
   "nbconvert_exporter": "python",
   "pygments_lexer": "ipython3",
   "version": "3.5.2"
  }
 },
 "nbformat": 4,
 "nbformat_minor": 2
}
