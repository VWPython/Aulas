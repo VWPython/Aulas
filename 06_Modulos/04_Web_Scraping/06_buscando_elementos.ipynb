{
 "cells": [
  {
   "cell_type": "markdown",
   "metadata": {},
   "source": [
    "## Buscando elementos\n",
    "***"
   ]
  },
  {
   "cell_type": "code",
   "execution_count": 1,
   "metadata": {},
   "outputs": [],
   "source": [
    "from bs4 import BeautifulSoup"
   ]
  },
  {
   "cell_type": "code",
   "execution_count": 2,
   "metadata": {},
   "outputs": [],
   "source": [
    "with open('arquivo.html', 'r') as file:\n",
    "    soup = BeautifulSoup(file, 'lxml')"
   ]
  },
  {
   "cell_type": "markdown",
   "metadata": {},
   "source": [
    "***\n",
    "### find\n",
    "***\n",
    "\n",
    "Busca a primeira ocorrencia de um determinado elemento"
   ]
  },
  {
   "cell_type": "code",
   "execution_count": 3,
   "metadata": {},
   "outputs": [
    {
     "name": "stdout",
     "output_type": "stream",
     "text": [
      "<th>Nome</th>\n"
     ]
    }
   ],
   "source": [
    "tag = soup.find('th')\n",
    "print(tag)"
   ]
  },
  {
   "cell_type": "code",
   "execution_count": 4,
   "metadata": {},
   "outputs": [
    {
     "name": "stdout",
     "output_type": "stream",
     "text": [
      "Moe\n"
     ]
    }
   ],
   "source": [
    "text = soup.find(string=\"Moe\")\n",
    "print(text)"
   ]
  },
  {
   "cell_type": "code",
   "execution_count": 5,
   "metadata": {},
   "outputs": [
    {
     "name": "stdout",
     "output_type": "stream",
     "text": [
      "None\n"
     ]
    }
   ],
   "source": [
    "text = soup.find(string=\"parturient\")\n",
    "print(text)"
   ]
  },
  {
   "cell_type": "code",
   "execution_count": 6,
   "metadata": {},
   "outputs": [
    {
     "name": "stdout",
     "output_type": "stream",
     "text": [
      "<a href=\"http://www.google.com\" id=\"site\">\n",
      "<span class=\"no-decoration\">Google</span>\n",
      "</a>\n",
      "http://www.google.com\n"
     ]
    }
   ],
   "source": [
    "tag = soup.find(id=\"site\")\n",
    "print(tag)\n",
    "print(tag['href'])"
   ]
  },
  {
   "cell_type": "code",
   "execution_count": 7,
   "metadata": {},
   "outputs": [
    {
     "name": "stdout",
     "output_type": "stream",
     "text": [
      "<td id=\"july\">July</td>\n"
     ]
    }
   ],
   "source": [
    "tag = soup.find(id=\"july\")\n",
    "print(tag)"
   ]
  },
  {
   "cell_type": "code",
   "execution_count": 8,
   "metadata": {},
   "outputs": [
    {
     "name": "stdout",
     "output_type": "stream",
     "text": [
      "<th class=\"email\">Email</th>\n"
     ]
    }
   ],
   "source": [
    "tag = soup.find(attrs={'class': 'email'})\n",
    "print(tag)"
   ]
  },
  {
   "cell_type": "code",
   "execution_count": 9,
   "metadata": {},
   "outputs": [
    {
     "name": "stdout",
     "output_type": "stream",
     "text": [
      "<th class=\"email\">Email</th>\n"
     ]
    }
   ],
   "source": [
    "tag = soup.find(class_=\"email\")\n",
    "print(tag)"
   ]
  },
  {
   "cell_type": "code",
   "execution_count": 10,
   "metadata": {},
   "outputs": [
    {
     "name": "stdout",
     "output_type": "stream",
     "text": [
      "<td class=\"email\">john@example.com</td>\n"
     ]
    }
   ],
   "source": [
    "tag = soup.find('td', class_=\"email\")\n",
    "print(tag)"
   ]
  },
  {
   "cell_type": "code",
   "execution_count": 11,
   "metadata": {},
   "outputs": [
    {
     "name": "stdout",
     "output_type": "stream",
     "text": [
      "<td class=\"email\">john@example.com</td>\n"
     ]
    }
   ],
   "source": [
    "tag = soup.tbody.find(class_=\"email\")\n",
    "print(tag)"
   ]
  },
  {
   "cell_type": "code",
   "execution_count": 12,
   "metadata": {},
   "outputs": [],
   "source": [
    "def is_mary(tag):\n",
    "    \"\"\"\n",
    "    Return a True if tag has ID mary, False otherwise\n",
    "    \"\"\"\n",
    "    \n",
    "    return tag.has_attr('id') and tag.get('id') == 'mary'"
   ]
  },
  {
   "cell_type": "code",
   "execution_count": 13,
   "metadata": {},
   "outputs": [
    {
     "name": "stdout",
     "output_type": "stream",
     "text": [
      "<td id=\"mary\">Mary</td>\n",
      "Mary\n"
     ]
    }
   ],
   "source": [
    "tag_mary = soup.find(is_mary)\n",
    "print(tag_mary)\n",
    "print(tag_mary.string)"
   ]
  },
  {
   "cell_type": "markdown",
   "metadata": {},
   "source": [
    "***\n",
    "### find_all\n",
    "***\n",
    "\n",
    "Busca todas as ocorrencias descendo a arvore de tags"
   ]
  },
  {
   "cell_type": "code",
   "execution_count": 14,
   "metadata": {},
   "outputs": [
    {
     "name": "stdout",
     "output_type": "stream",
     "text": [
      "[<td id=\"john\">John</td>, <td>Doe</td>, <td class=\"email\">john@example.com</td>, <td id=\"mary\">Mary</td>, <td>Moe</td>, <td class=\"email\">mary@example.com</td>, <td id=\"july\">July</td>, <td>Dooley</td>, <td class=\"email\">july@example.com</td>, <td id=\"mary\">Cris</td>, <td>Moe</td>, <td class=\"email\">cris@example.com</td>]\n"
     ]
    }
   ],
   "source": [
    "tags = soup.find_all('td')\n",
    "print(tags)"
   ]
  },
  {
   "cell_type": "code",
   "execution_count": 15,
   "metadata": {},
   "outputs": [
    {
     "name": "stdout",
     "output_type": "stream",
     "text": [
      "[<th>Nome</th>, <th>Sobrenome</th>, <th class=\"email\">Email</th>, <td id=\"john\">John</td>, <td>Doe</td>, <td class=\"email\">john@example.com</td>, <td id=\"mary\">Mary</td>, <td>Moe</td>, <td class=\"email\">mary@example.com</td>, <td id=\"july\">July</td>, <td>Dooley</td>, <td class=\"email\">july@example.com</td>, <td id=\"mary\">Cris</td>, <td>Moe</td>, <td class=\"email\">cris@example.com</td>]\n"
     ]
    }
   ],
   "source": [
    "tags = soup.find_all(['td', 'th'])\n",
    "print(tags)"
   ]
  },
  {
   "cell_type": "code",
   "execution_count": 16,
   "metadata": {},
   "outputs": [
    {
     "name": "stdout",
     "output_type": "stream",
     "text": [
      "[<td id=\"john\">John</td>, <td>Doe</td>, <td class=\"email\">john@example.com</td>]\n"
     ]
    }
   ],
   "source": [
    "tags = soup.find_all('td', limit=3)\n",
    "print(tags)"
   ]
  },
  {
   "cell_type": "code",
   "execution_count": 17,
   "metadata": {},
   "outputs": [
    {
     "name": "stdout",
     "output_type": "stream",
     "text": [
      "[<td class=\"email\">john@example.com</td>, <td class=\"email\">mary@example.com</td>, <td class=\"email\">july@example.com</td>, <td class=\"email\">cris@example.com</td>]\n"
     ]
    }
   ],
   "source": [
    "tags = soup.find_all('td', class_=\"email\")\n",
    "print(tags)"
   ]
  },
  {
   "cell_type": "code",
   "execution_count": 18,
   "metadata": {},
   "outputs": [
    {
     "name": "stdout",
     "output_type": "stream",
     "text": [
      "[<th class=\"email\">Email</th>, <td class=\"email\">john@example.com</td>, <td class=\"email\">mary@example.com</td>, <td class=\"email\">july@example.com</td>, <td class=\"email\">cris@example.com</td>]\n"
     ]
    }
   ],
   "source": [
    "tags = soup.find_all(class_=[\"email\", \"site\"])\n",
    "print(tags)"
   ]
  },
  {
   "cell_type": "code",
   "execution_count": 19,
   "metadata": {},
   "outputs": [
    {
     "name": "stdout",
     "output_type": "stream",
     "text": [
      "[<td class=\"email\">john@example.com</td>, <td class=\"email\">mary@example.com</td>, <td class=\"email\">july@example.com</td>, <td class=\"email\">cris@example.com</td>]\n"
     ]
    }
   ],
   "source": [
    "tags = soup.tbody.find_all(class_=\"email\")\n",
    "print(tags)"
   ]
  },
  {
   "cell_type": "code",
   "execution_count": 20,
   "metadata": {},
   "outputs": [
    {
     "name": "stdout",
     "output_type": "stream",
     "text": [
      "['Moe', 'Moe']\n"
     ]
    }
   ],
   "source": [
    "texts = soup.find_all(string=\"Moe\")\n",
    "print(texts)"
   ]
  },
  {
   "cell_type": "code",
   "execution_count": 21,
   "metadata": {},
   "outputs": [
    {
     "name": "stdout",
     "output_type": "stream",
     "text": [
      "['Mary', 'Moe', 'Moe']\n"
     ]
    }
   ],
   "source": [
    "texts = soup.find_all(string=[\"Moe\", \"Mary\"])\n",
    "print(texts)"
   ]
  },
  {
   "cell_type": "code",
   "execution_count": 22,
   "metadata": {},
   "outputs": [
    {
     "name": "stdout",
     "output_type": "stream",
     "text": [
      "['html', '\\n', '\\n', 'Exemplo Bootstrap', '\\n', '\\n', '\\n', '\\n', '\\n', '\\n', '\\n', '\\n', '\\n', '\\n          Meu projeto em Bootstrap\\n      ', '\\n', '\\n        Lorem ipsum dolor sit amet, consectetur adipiscing elit. Etiam id ornare odio, eu tincidunt massa.\\n        In eget lorem augue. Sed auctor lacinia enim eu volutpat. Etiam sed massa dapibus, egestas ligula vel,\\n        vulputate ex. Sed efficitur enim ac enim pharetra consequat. Pellentesque ante lorem, tempor eu ex in,\\n        tincidunt pharetra diam. Sed ut mi iaculis, condimentum neque nec, cursus massa. Mauris ligula risus\\n        euismod sit amet aliquam ut, consequat sit amet orci. Suspendisse vestibulum pellentesque metus\\n        ultrices aliquam orci ullamcorper eget. Suspendisse a mattis felis.\\n\\n        ', 'Sed', ' imperdiet metus nec dui aliquet, sed sollicitudin augue dictum. Sed et condimentum risus, id luctus eros.\\n        Phasellus vehicula, enim vel posuere gravida, felis massa volutpat mi, id euismod mi lorem non libero. Orci varius\\n        natoque penatibus et magnis dis parturient montes, nascetur ridiculus mus. Nam volutpat porttitor ligula si\\n        amet ultricies. Sed mi tortor, finibus sit amet viverra non, volutpat ut ipsum. Curabitur lacinia tellus ne\\n        auctor feugiat. Donec semper pretium tempus. Sed quis fringilla elit. Vestibulum velit dui, varius eu nequ\\n        auctor, feugiat ornare ligula. Proin scelerisque nisl id enim tempus facilisis. Donec eu malesuada felis\\n        Suspendisse velit urna, pellentesque eu lectus sit amet, varius porttitor nunc\\n      ', '\\n', '\\n', 'Google', '\\n', '\\n', '\\n', '\\n', '\\n', 'Nome', '\\n', 'Sobrenome', '\\n', 'Email', '\\n', '\\n', '\\n', '\\n', '\\n', 'John', '\\n', 'Doe', '\\n', 'john@example.com', '\\n', '\\n', '\\n', 'Mary', '\\n', 'Moe', '\\n', 'mary@example.com', '\\n', '\\n', '\\n', 'July', '\\n', 'Dooley', '\\n', 'july@example.com', '\\n', '\\n', '\\n', 'Cris', '\\n', 'Moe', '\\n', 'cris@example.com', '\\n', '\\n', '\\n', '\\n', '\\n', '\\n']\n"
     ]
    }
   ],
   "source": [
    "all_texts = soup.find_all(string=True)\n",
    "print(all_texts)"
   ]
  },
  {
   "cell_type": "markdown",
   "metadata": {},
   "source": [
    "***\n",
    "### find_parent(s)\n",
    "***\n",
    "\n",
    "Busca as ocorrencias subindo a arvore de tags, fazem tudo que o find e find_all faz"
   ]
  },
  {
   "cell_type": "code",
   "execution_count": 23,
   "metadata": {},
   "outputs": [
    {
     "name": "stdout",
     "output_type": "stream",
     "text": [
      "<td id=\"john\">John</td>\n"
     ]
    }
   ],
   "source": [
    "tag = soup.tbody.find(id=\"john\")\n",
    "print(tag)"
   ]
  },
  {
   "cell_type": "code",
   "execution_count": 24,
   "metadata": {},
   "outputs": [
    {
     "name": "stdout",
     "output_type": "stream",
     "text": [
      "None\n"
     ]
    }
   ],
   "source": [
    "tag = soup.tbody.find_parent(id=\"john\")\n",
    "print(tag)"
   ]
  },
  {
   "cell_type": "code",
   "execution_count": 25,
   "metadata": {},
   "outputs": [
    {
     "name": "stdout",
     "output_type": "stream",
     "text": [
      "<a href=\"http://www.google.com\" id=\"site\">\n",
      "<span class=\"no-decoration\">Google</span>\n",
      "</a>\n"
     ]
    }
   ],
   "source": [
    "tag = soup.span.find_parent(id=\"site\")\n",
    "print(tag)"
   ]
  },
  {
   "cell_type": "markdown",
   "metadata": {},
   "source": [
    "***"
   ]
  },
  {
   "cell_type": "code",
   "execution_count": 26,
   "metadata": {},
   "outputs": [
    {
     "name": "stdout",
     "output_type": "stream",
     "text": [
      "[<td class=\"email\">john@example.com</td>, <td class=\"email\">mary@example.com</td>, <td class=\"email\">july@example.com</td>, <td class=\"email\">cris@example.com</td>]\n"
     ]
    }
   ],
   "source": [
    "tags = soup.tbody.find_all(class_=\"email\")\n",
    "print(tags)"
   ]
  },
  {
   "cell_type": "code",
   "execution_count": 27,
   "metadata": {},
   "outputs": [
    {
     "name": "stdout",
     "output_type": "stream",
     "text": [
      "[]\n"
     ]
    }
   ],
   "source": [
    "tags = soup.tbody.find_parents(class_=\"email\")\n",
    "print(tags)"
   ]
  },
  {
   "cell_type": "code",
   "execution_count": 28,
   "metadata": {},
   "outputs": [
    {
     "name": "stdout",
     "output_type": "stream",
     "text": [
      "[<a href=\"http://www.google.com\" id=\"site\">\n",
      "<span class=\"no-decoration\">Google</span>\n",
      "</a>]\n"
     ]
    }
   ],
   "source": [
    "tags = soup.span.find_parents(id=\"site\")\n",
    "print(tags)"
   ]
  },
  {
   "cell_type": "markdown",
   "metadata": {},
   "source": [
    "***\n",
    "### find_next_sibling(s) e find_previous_sibling(s)\n",
    "***\n",
    "\n",
    "Busca pelos irmãos, ou seja. filhos da mesma tag pai"
   ]
  },
  {
   "cell_type": "code",
   "execution_count": 29,
   "metadata": {},
   "outputs": [
    {
     "name": "stdout",
     "output_type": "stream",
     "text": [
      "<tr id=\"menino-john\">\n",
      "<td id=\"john\">John</td>\n",
      "<td>Doe</td>\n",
      "<td class=\"email\">john@example.com</td>\n",
      "</tr>\n"
     ]
    }
   ],
   "source": [
    "tag = soup.find(id='menino-john')\n",
    "print(tag)"
   ]
  },
  {
   "cell_type": "code",
   "execution_count": 30,
   "metadata": {},
   "outputs": [
    {
     "name": "stdout",
     "output_type": "stream",
     "text": [
      "<tr>\n",
      "<td id=\"mary\">Mary</td>\n",
      "<td>Moe</td>\n",
      "<td class=\"email\">mary@example.com</td>\n",
      "</tr>\n"
     ]
    }
   ],
   "source": [
    "next_sibling = tag.find_next_sibling()\n",
    "print(next_sibling)"
   ]
  },
  {
   "cell_type": "code",
   "execution_count": 31,
   "metadata": {},
   "outputs": [
    {
     "name": "stdout",
     "output_type": "stream",
     "text": [
      "<tr>\n",
      "<td id=\"july\">July</td>\n",
      "<td>Dooley</td>\n",
      "<td class=\"email\">july@example.com</td>\n",
      "</tr>\n"
     ]
    }
   ],
   "source": [
    "next_sibling = next_sibling.find_next_sibling()\n",
    "print(next_sibling)"
   ]
  },
  {
   "cell_type": "code",
   "execution_count": 32,
   "metadata": {},
   "outputs": [
    {
     "name": "stdout",
     "output_type": "stream",
     "text": [
      "<tr>\n",
      "<td id=\"mary\">Mary</td>\n",
      "<td>Moe</td>\n",
      "<td class=\"email\">mary@example.com</td>\n",
      "</tr>\n"
     ]
    }
   ],
   "source": [
    "previous_sibling = next_sibling.find_previous_sibling()\n",
    "print(previous_sibling)"
   ]
  },
  {
   "cell_type": "code",
   "execution_count": 33,
   "metadata": {},
   "outputs": [
    {
     "name": "stdout",
     "output_type": "stream",
     "text": [
      "[<tr>\n",
      "<td id=\"mary\">Mary</td>\n",
      "<td>Moe</td>\n",
      "<td class=\"email\">mary@example.com</td>\n",
      "</tr>, <tr>\n",
      "<td id=\"july\">July</td>\n",
      "<td>Dooley</td>\n",
      "<td class=\"email\">july@example.com</td>\n",
      "</tr>, <tr>\n",
      "<td id=\"mary\">Cris</td>\n",
      "<td>Moe</td>\n",
      "<td class=\"email\">cris@example.com</td>\n",
      "</tr>]\n"
     ]
    }
   ],
   "source": [
    "next_siblings = tag.find_next_siblings()\n",
    "print(next_siblings)"
   ]
  },
  {
   "cell_type": "code",
   "execution_count": 34,
   "metadata": {},
   "outputs": [
    {
     "name": "stdout",
     "output_type": "stream",
     "text": [
      "[<tr>\n",
      "<td id=\"mary\">Mary</td>\n",
      "<td>Moe</td>\n",
      "<td class=\"email\">mary@example.com</td>\n",
      "</tr>, <tr id=\"menino-john\">\n",
      "<td id=\"john\">John</td>\n",
      "<td>Doe</td>\n",
      "<td class=\"email\">john@example.com</td>\n",
      "</tr>]\n"
     ]
    }
   ],
   "source": [
    "previous_siblings = next_sibling.find_previous_siblings()\n",
    "print(previous_siblings)"
   ]
  },
  {
   "cell_type": "markdown",
   "metadata": {},
   "source": [
    "***\n",
    "### find_next, find_all_next, find_previous e find_all_previous\n",
    "***\n",
    "\n",
    "Buscando o próximo elemento e o anterior (segue para o próximo elemento sem respeitar a hierarquia)"
   ]
  },
  {
   "cell_type": "code",
   "execution_count": 35,
   "metadata": {},
   "outputs": [
    {
     "name": "stdout",
     "output_type": "stream",
     "text": [
      "<tr id=\"menino-john\">\n",
      "<td id=\"john\">John</td>\n",
      "<td>Doe</td>\n",
      "<td class=\"email\">john@example.com</td>\n",
      "</tr>\n"
     ]
    }
   ],
   "source": [
    "tag = soup.find(id='menino-john')\n",
    "print(tag)"
   ]
  },
  {
   "cell_type": "code",
   "execution_count": 36,
   "metadata": {},
   "outputs": [
    {
     "name": "stdout",
     "output_type": "stream",
     "text": [
      "<td id=\"john\">John</td>\n"
     ]
    }
   ],
   "source": [
    "tag_next = tag.find_next()\n",
    "print(tag_next)"
   ]
  },
  {
   "cell_type": "code",
   "execution_count": 37,
   "metadata": {},
   "outputs": [
    {
     "name": "stdout",
     "output_type": "stream",
     "text": [
      "[<td id=\"john\">John</td>, <td>Doe</td>, <td class=\"email\">john@example.com</td>, <tr>\n",
      "<td id=\"mary\">Mary</td>\n",
      "<td>Moe</td>\n",
      "<td class=\"email\">mary@example.com</td>\n",
      "</tr>, <td id=\"mary\">Mary</td>, <td>Moe</td>, <td class=\"email\">mary@example.com</td>, <tr>\n",
      "<td id=\"july\">July</td>\n",
      "<td>Dooley</td>\n",
      "<td class=\"email\">july@example.com</td>\n",
      "</tr>, <td id=\"july\">July</td>, <td>Dooley</td>, <td class=\"email\">july@example.com</td>, <tr>\n",
      "<td id=\"mary\">Cris</td>\n",
      "<td>Moe</td>\n",
      "<td class=\"email\">cris@example.com</td>\n",
      "</tr>, <td id=\"mary\">Cris</td>, <td>Moe</td>, <td class=\"email\">cris@example.com</td>]\n"
     ]
    }
   ],
   "source": [
    "tag_nexts = tag.find_all_next()\n",
    "print(tag_nexts)"
   ]
  },
  {
   "cell_type": "markdown",
   "metadata": {},
   "source": [
    "***"
   ]
  },
  {
   "cell_type": "code",
   "execution_count": 38,
   "metadata": {},
   "outputs": [
    {
     "name": "stdout",
     "output_type": "stream",
     "text": [
      "<tr id=\"menino-john\">\n",
      "<td id=\"john\">John</td>\n",
      "<td>Doe</td>\n",
      "<td class=\"email\">john@example.com</td>\n",
      "</tr>\n"
     ]
    }
   ],
   "source": [
    "tag = soup.find(id='menino-john')\n",
    "print(tag)"
   ]
  },
  {
   "cell_type": "code",
   "execution_count": 39,
   "metadata": {},
   "outputs": [
    {
     "name": "stdout",
     "output_type": "stream",
     "text": [
      "<tbody>\n",
      "<tr id=\"menino-john\">\n",
      "<td id=\"john\">John</td>\n",
      "<td>Doe</td>\n",
      "<td class=\"email\">john@example.com</td>\n",
      "</tr>\n",
      "<tr>\n",
      "<td id=\"mary\">Mary</td>\n",
      "<td>Moe</td>\n",
      "<td class=\"email\">mary@example.com</td>\n",
      "</tr>\n",
      "<tr>\n",
      "<td id=\"july\">July</td>\n",
      "<td>Dooley</td>\n",
      "<td class=\"email\">july@example.com</td>\n",
      "</tr>\n",
      "<tr>\n",
      "<td id=\"mary\">Cris</td>\n",
      "<td>Moe</td>\n",
      "<td class=\"email\">cris@example.com</td>\n",
      "</tr>\n",
      "</tbody>\n"
     ]
    }
   ],
   "source": [
    "tag_previous = tag.find_previous()\n",
    "print(tag_previous)"
   ]
  },
  {
   "cell_type": "code",
   "execution_count": 40,
   "metadata": {},
   "outputs": [
    {
     "name": "stdout",
     "output_type": "stream",
     "text": [
      "[<tbody>\n",
      "<tr id=\"menino-john\">\n",
      "<td id=\"john\">John</td>\n",
      "<td>Doe</td>\n",
      "<td class=\"email\">john@example.com</td>\n",
      "</tr>\n",
      "<tr>\n",
      "<td id=\"mary\">Mary</td>\n",
      "<td>Moe</td>\n",
      "<td class=\"email\">mary@example.com</td>\n",
      "</tr>\n",
      "<tr>\n",
      "<td id=\"july\">July</td>\n",
      "<td>Dooley</td>\n",
      "<td class=\"email\">july@example.com</td>\n",
      "</tr>\n",
      "<tr>\n",
      "<td id=\"mary\">Cris</td>\n",
      "<td>Moe</td>\n",
      "<td class=\"email\">cris@example.com</td>\n",
      "</tr>\n",
      "</tbody>, <th class=\"email\">Email</th>, <th>Sobrenome</th>, <th>Nome</th>, <tr>\n",
      "<th>Nome</th>\n",
      "<th>Sobrenome</th>\n",
      "<th class=\"email\">Email</th>\n",
      "</tr>, <thead>\n",
      "<tr>\n",
      "<th>Nome</th>\n",
      "<th>Sobrenome</th>\n",
      "<th class=\"email\">Email</th>\n",
      "</tr>\n",
      "</thead>, <table class=\"table table-hover\">\n",
      "<thead>\n",
      "<tr>\n",
      "<th>Nome</th>\n",
      "<th>Sobrenome</th>\n",
      "<th class=\"email\">Email</th>\n",
      "</tr>\n",
      "</thead>\n",
      "<tbody>\n",
      "<tr id=\"menino-john\">\n",
      "<td id=\"john\">John</td>\n",
      "<td>Doe</td>\n",
      "<td class=\"email\">john@example.com</td>\n",
      "</tr>\n",
      "<tr>\n",
      "<td id=\"mary\">Mary</td>\n",
      "<td>Moe</td>\n",
      "<td class=\"email\">mary@example.com</td>\n",
      "</tr>\n",
      "<tr>\n",
      "<td id=\"july\">July</td>\n",
      "<td>Dooley</td>\n",
      "<td class=\"email\">july@example.com</td>\n",
      "</tr>\n",
      "<tr>\n",
      "<td id=\"mary\">Cris</td>\n",
      "<td>Moe</td>\n",
      "<td class=\"email\">cris@example.com</td>\n",
      "</tr>\n",
      "</tbody>\n",
      "</table>, <span class=\"no-decoration\">Google</span>, <a href=\"http://www.google.com\" id=\"site\">\n",
      "<span class=\"no-decoration\">Google</span>\n",
      "</a>, <b>Sed</b>, <p>\n",
      "        Lorem ipsum dolor sit amet, consectetur adipiscing elit. Etiam id ornare odio, eu tincidunt massa.\n",
      "        In eget lorem augue. Sed auctor lacinia enim eu volutpat. Etiam sed massa dapibus, egestas ligula vel,\n",
      "        vulputate ex. Sed efficitur enim ac enim pharetra consequat. Pellentesque ante lorem, tempor eu ex in,\n",
      "        tincidunt pharetra diam. Sed ut mi iaculis, condimentum neque nec, cursus massa. Mauris ligula risus\n",
      "        euismod sit amet aliquam ut, consequat sit amet orci. Suspendisse vestibulum pellentesque metus\n",
      "        ultrices aliquam orci ullamcorper eget. Suspendisse a mattis felis.\n",
      "\n",
      "        <b>Sed</b> imperdiet metus nec dui aliquet, sed sollicitudin augue dictum. Sed et condimentum risus, id luctus eros.\n",
      "        Phasellus vehicula, enim vel posuere gravida, felis massa volutpat mi, id euismod mi lorem non libero. Orci varius\n",
      "        natoque penatibus et magnis dis parturient montes, nascetur ridiculus mus. Nam volutpat porttitor ligula si\n",
      "        amet ultricies. Sed mi tortor, finibus sit amet viverra non, volutpat ut ipsum. Curabitur lacinia tellus ne\n",
      "        auctor feugiat. Donec semper pretium tempus. Sed quis fringilla elit. Vestibulum velit dui, varius eu nequ\n",
      "        auctor, feugiat ornare ligula. Proin scelerisque nisl id enim tempus facilisis. Donec eu malesuada felis\n",
      "        Suspendisse velit urna, pellentesque eu lectus sit amet, varius porttitor nunc\n",
      "      </p>, <h1>\n",
      "          Meu projeto em Bootstrap\n",
      "      </h1>, <div class=\"container\">\n",
      "<h1>\n",
      "          Meu projeto em Bootstrap\n",
      "      </h1>\n",
      "<p>\n",
      "        Lorem ipsum dolor sit amet, consectetur adipiscing elit. Etiam id ornare odio, eu tincidunt massa.\n",
      "        In eget lorem augue. Sed auctor lacinia enim eu volutpat. Etiam sed massa dapibus, egestas ligula vel,\n",
      "        vulputate ex. Sed efficitur enim ac enim pharetra consequat. Pellentesque ante lorem, tempor eu ex in,\n",
      "        tincidunt pharetra diam. Sed ut mi iaculis, condimentum neque nec, cursus massa. Mauris ligula risus\n",
      "        euismod sit amet aliquam ut, consequat sit amet orci. Suspendisse vestibulum pellentesque metus\n",
      "        ultrices aliquam orci ullamcorper eget. Suspendisse a mattis felis.\n",
      "\n",
      "        <b>Sed</b> imperdiet metus nec dui aliquet, sed sollicitudin augue dictum. Sed et condimentum risus, id luctus eros.\n",
      "        Phasellus vehicula, enim vel posuere gravida, felis massa volutpat mi, id euismod mi lorem non libero. Orci varius\n",
      "        natoque penatibus et magnis dis parturient montes, nascetur ridiculus mus. Nam volutpat porttitor ligula si\n",
      "        amet ultricies. Sed mi tortor, finibus sit amet viverra non, volutpat ut ipsum. Curabitur lacinia tellus ne\n",
      "        auctor feugiat. Donec semper pretium tempus. Sed quis fringilla elit. Vestibulum velit dui, varius eu nequ\n",
      "        auctor, feugiat ornare ligula. Proin scelerisque nisl id enim tempus facilisis. Donec eu malesuada felis\n",
      "        Suspendisse velit urna, pellentesque eu lectus sit amet, varius porttitor nunc\n",
      "      </p>\n",
      "<a href=\"http://www.google.com\" id=\"site\">\n",
      "<span class=\"no-decoration\">Google</span>\n",
      "</a>\n",
      "<table class=\"table table-hover\">\n",
      "<thead>\n",
      "<tr>\n",
      "<th>Nome</th>\n",
      "<th>Sobrenome</th>\n",
      "<th class=\"email\">Email</th>\n",
      "</tr>\n",
      "</thead>\n",
      "<tbody>\n",
      "<tr id=\"menino-john\">\n",
      "<td id=\"john\">John</td>\n",
      "<td>Doe</td>\n",
      "<td class=\"email\">john@example.com</td>\n",
      "</tr>\n",
      "<tr>\n",
      "<td id=\"mary\">Mary</td>\n",
      "<td>Moe</td>\n",
      "<td class=\"email\">mary@example.com</td>\n",
      "</tr>\n",
      "<tr>\n",
      "<td id=\"july\">July</td>\n",
      "<td>Dooley</td>\n",
      "<td class=\"email\">july@example.com</td>\n",
      "</tr>\n",
      "<tr>\n",
      "<td id=\"mary\">Cris</td>\n",
      "<td>Moe</td>\n",
      "<td class=\"email\">cris@example.com</td>\n",
      "</tr>\n",
      "</tbody>\n",
      "</table>\n",
      "</div>, <body>\n",
      "<div class=\"container\">\n",
      "<h1>\n",
      "          Meu projeto em Bootstrap\n",
      "      </h1>\n",
      "<p>\n",
      "        Lorem ipsum dolor sit amet, consectetur adipiscing elit. Etiam id ornare odio, eu tincidunt massa.\n",
      "        In eget lorem augue. Sed auctor lacinia enim eu volutpat. Etiam sed massa dapibus, egestas ligula vel,\n",
      "        vulputate ex. Sed efficitur enim ac enim pharetra consequat. Pellentesque ante lorem, tempor eu ex in,\n",
      "        tincidunt pharetra diam. Sed ut mi iaculis, condimentum neque nec, cursus massa. Mauris ligula risus\n",
      "        euismod sit amet aliquam ut, consequat sit amet orci. Suspendisse vestibulum pellentesque metus\n",
      "        ultrices aliquam orci ullamcorper eget. Suspendisse a mattis felis.\n",
      "\n",
      "        <b>Sed</b> imperdiet metus nec dui aliquet, sed sollicitudin augue dictum. Sed et condimentum risus, id luctus eros.\n",
      "        Phasellus vehicula, enim vel posuere gravida, felis massa volutpat mi, id euismod mi lorem non libero. Orci varius\n",
      "        natoque penatibus et magnis dis parturient montes, nascetur ridiculus mus. Nam volutpat porttitor ligula si\n",
      "        amet ultricies. Sed mi tortor, finibus sit amet viverra non, volutpat ut ipsum. Curabitur lacinia tellus ne\n",
      "        auctor feugiat. Donec semper pretium tempus. Sed quis fringilla elit. Vestibulum velit dui, varius eu nequ\n",
      "        auctor, feugiat ornare ligula. Proin scelerisque nisl id enim tempus facilisis. Donec eu malesuada felis\n",
      "        Suspendisse velit urna, pellentesque eu lectus sit amet, varius porttitor nunc\n",
      "      </p>\n",
      "<a href=\"http://www.google.com\" id=\"site\">\n",
      "<span class=\"no-decoration\">Google</span>\n",
      "</a>\n",
      "<table class=\"table table-hover\">\n",
      "<thead>\n",
      "<tr>\n",
      "<th>Nome</th>\n",
      "<th>Sobrenome</th>\n",
      "<th class=\"email\">Email</th>\n",
      "</tr>\n",
      "</thead>\n",
      "<tbody>\n",
      "<tr id=\"menino-john\">\n",
      "<td id=\"john\">John</td>\n",
      "<td>Doe</td>\n",
      "<td class=\"email\">john@example.com</td>\n",
      "</tr>\n",
      "<tr>\n",
      "<td id=\"mary\">Mary</td>\n",
      "<td>Moe</td>\n",
      "<td class=\"email\">mary@example.com</td>\n",
      "</tr>\n",
      "<tr>\n",
      "<td id=\"july\">July</td>\n",
      "<td>Dooley</td>\n",
      "<td class=\"email\">july@example.com</td>\n",
      "</tr>\n",
      "<tr>\n",
      "<td id=\"mary\">Cris</td>\n",
      "<td>Moe</td>\n",
      "<td class=\"email\">cris@example.com</td>\n",
      "</tr>\n",
      "</tbody>\n",
      "</table>\n",
      "</div>\n",
      "</body>, <script src=\"https://maxcdn.bootstrapcdn.com/bootstrap/3.3.7/js/bootstrap.min.js\"></script>, <script src=\"https://ajax.googleapis.com/ajax/libs/jquery/3.3.1/jquery.min.js\"></script>, <link href=\"https://maxcdn.bootstrapcdn.com/bootstrap/3.3.7/css/bootstrap.min.css\" rel=\"stylesheet\"/>, <meta content=\"width=device-width, initial-scale=1\" name=\"viewport\"/>, <meta charset=\"utf-8\"/>, <title>Exemplo Bootstrap</title>, <head>\n",
      "<title>Exemplo Bootstrap</title>\n",
      "<meta charset=\"utf-8\"/>\n",
      "<meta content=\"width=device-width, initial-scale=1\" name=\"viewport\"/>\n",
      "<link href=\"https://maxcdn.bootstrapcdn.com/bootstrap/3.3.7/css/bootstrap.min.css\" rel=\"stylesheet\"/>\n",
      "<script src=\"https://ajax.googleapis.com/ajax/libs/jquery/3.3.1/jquery.min.js\"></script>\n",
      "<script src=\"https://maxcdn.bootstrapcdn.com/bootstrap/3.3.7/js/bootstrap.min.js\"></script>\n",
      "</head>, <html lang=\"pt_BR\">\n",
      "<head>\n",
      "<title>Exemplo Bootstrap</title>\n",
      "<meta charset=\"utf-8\"/>\n",
      "<meta content=\"width=device-width, initial-scale=1\" name=\"viewport\"/>\n",
      "<link href=\"https://maxcdn.bootstrapcdn.com/bootstrap/3.3.7/css/bootstrap.min.css\" rel=\"stylesheet\"/>\n",
      "<script src=\"https://ajax.googleapis.com/ajax/libs/jquery/3.3.1/jquery.min.js\"></script>\n",
      "<script src=\"https://maxcdn.bootstrapcdn.com/bootstrap/3.3.7/js/bootstrap.min.js\"></script>\n",
      "</head>\n",
      "<body>\n",
      "<div class=\"container\">\n",
      "<h1>\n",
      "          Meu projeto em Bootstrap\n",
      "      </h1>\n",
      "<p>\n",
      "        Lorem ipsum dolor sit amet, consectetur adipiscing elit. Etiam id ornare odio, eu tincidunt massa.\n",
      "        In eget lorem augue. Sed auctor lacinia enim eu volutpat. Etiam sed massa dapibus, egestas ligula vel,\n",
      "        vulputate ex. Sed efficitur enim ac enim pharetra consequat. Pellentesque ante lorem, tempor eu ex in,\n",
      "        tincidunt pharetra diam. Sed ut mi iaculis, condimentum neque nec, cursus massa. Mauris ligula risus\n",
      "        euismod sit amet aliquam ut, consequat sit amet orci. Suspendisse vestibulum pellentesque metus\n",
      "        ultrices aliquam orci ullamcorper eget. Suspendisse a mattis felis.\n",
      "\n",
      "        <b>Sed</b> imperdiet metus nec dui aliquet, sed sollicitudin augue dictum. Sed et condimentum risus, id luctus eros.\n",
      "        Phasellus vehicula, enim vel posuere gravida, felis massa volutpat mi, id euismod mi lorem non libero. Orci varius\n",
      "        natoque penatibus et magnis dis parturient montes, nascetur ridiculus mus. Nam volutpat porttitor ligula si\n",
      "        amet ultricies. Sed mi tortor, finibus sit amet viverra non, volutpat ut ipsum. Curabitur lacinia tellus ne\n",
      "        auctor feugiat. Donec semper pretium tempus. Sed quis fringilla elit. Vestibulum velit dui, varius eu nequ\n",
      "        auctor, feugiat ornare ligula. Proin scelerisque nisl id enim tempus facilisis. Donec eu malesuada felis\n",
      "        Suspendisse velit urna, pellentesque eu lectus sit amet, varius porttitor nunc\n",
      "      </p>\n",
      "<a href=\"http://www.google.com\" id=\"site\">\n",
      "<span class=\"no-decoration\">Google</span>\n",
      "</a>\n",
      "<table class=\"table table-hover\">\n",
      "<thead>\n",
      "<tr>\n",
      "<th>Nome</th>\n",
      "<th>Sobrenome</th>\n",
      "<th class=\"email\">Email</th>\n",
      "</tr>\n",
      "</thead>\n",
      "<tbody>\n",
      "<tr id=\"menino-john\">\n",
      "<td id=\"john\">John</td>\n",
      "<td>Doe</td>\n",
      "<td class=\"email\">john@example.com</td>\n",
      "</tr>\n",
      "<tr>\n",
      "<td id=\"mary\">Mary</td>\n",
      "<td>Moe</td>\n",
      "<td class=\"email\">mary@example.com</td>\n",
      "</tr>\n",
      "<tr>\n",
      "<td id=\"july\">July</td>\n",
      "<td>Dooley</td>\n",
      "<td class=\"email\">july@example.com</td>\n",
      "</tr>\n",
      "<tr>\n",
      "<td id=\"mary\">Cris</td>\n",
      "<td>Moe</td>\n",
      "<td class=\"email\">cris@example.com</td>\n",
      "</tr>\n",
      "</tbody>\n",
      "</table>\n",
      "</div>\n",
      "</body>\n",
      "</html>]\n"
     ]
    }
   ],
   "source": [
    "tag_previous = tag.find_all_previous()\n",
    "print(tag_previous)"
   ]
  }
 ],
 "metadata": {
  "kernelspec": {
   "display_name": "Python 3",
   "language": "python",
   "name": "python3"
  },
  "language_info": {
   "codemirror_mode": {
    "name": "ipython",
    "version": 3
   },
   "file_extension": ".py",
   "mimetype": "text/x-python",
   "name": "python",
   "nbconvert_exporter": "python",
   "pygments_lexer": "ipython3",
   "version": "3.7.6"
  }
 },
 "nbformat": 4,
 "nbformat_minor": 2
}
