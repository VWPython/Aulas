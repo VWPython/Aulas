{
 "cells": [
  {
   "cell_type": "markdown",
   "metadata": {},
   "source": [
    "## Exemplo de scraping com formulários\n",
    "***"
   ]
  },
  {
   "cell_type": "code",
   "execution_count": 1,
   "metadata": {},
   "outputs": [],
   "source": [
    "import requests\n",
    "from bs4 import BeautifulSoup\n",
    "from http import HTTPStatus"
   ]
  },
  {
   "cell_type": "code",
   "execution_count": 2,
   "metadata": {},
   "outputs": [],
   "source": [
    "url = \"https://www.detran.mg.gov.br/veiculos/situacao-do-veiculo/emissao-de-boleto-de-multas\""
   ]
  },
  {
   "cell_type": "code",
   "execution_count": 3,
   "metadata": {},
   "outputs": [],
   "source": [
    "session = requests.Session()"
   ]
  },
  {
   "cell_type": "code",
   "execution_count": 4,
   "metadata": {},
   "outputs": [],
   "source": [
    "def get_vehicle_form_html():\n",
    "    \"\"\"\n",
    "    Entra na página de formulário para a consulta das multas do veículo.\n",
    "    \"\"\"\n",
    "\n",
    "    response = session.get(url)\n",
    "\n",
    "    if response.status_code != HTTPStatus.OK:\n",
    "        raise Exception(\n",
    "            \"O site do detran M.G está fora do ar.\",\n",
    "            status_code=HTTPStatus.BAD_REQUEST\n",
    "        )\n",
    "\n",
    "    return response.text"
   ]
  },
  {
   "cell_type": "code",
   "execution_count": 5,
   "metadata": {},
   "outputs": [],
   "source": [
    "def submit_form(data):\n",
    "    \"\"\"\n",
    "    Envia a submissão do formulario para pegar as multas\n",
    "    do veículo.\n",
    "    \"\"\"\n",
    "\n",
    "    form_url = url + \"/-/exibir_lista_tipos_infracoes_multas/\"\n",
    "\n",
    "    header = {'Content-type': 'application/x-www-form-urlencoded'}\n",
    "\n",
    "    response = session.post(form_url, data=data, headers=header)\n",
    "\n",
    "    if response.status_code != HTTPStatus.OK:\n",
    "        raise Exception(\n",
    "            \"O site do detran M.G está fora do ar.\",\n",
    "            status_code=HTTPStatus.BAD_REQUEST\n",
    "        )\n",
    "\n",
    "    return response.text"
   ]
  },
  {
   "cell_type": "code",
   "execution_count": 6,
   "metadata": {},
   "outputs": [],
   "source": [
    "def get_tickets_list():\n",
    "    \"\"\"\n",
    "    Pega o html com a lista de infrações.\n",
    "    \"\"\"\n",
    "\n",
    "    ticket_url = url + \"/-/exibir_lista_tipos_infracoes_multas/-/lista_tipo_infracoes_para_extrato/{0}/{1}/0/0/0/0/0/0/3/\".format(\n",
    "      \"HFL5661\", \"00911263128\"\n",
    "    )\n",
    "\n",
    "    response = session.get(ticket_url)\n",
    "\n",
    "    if response.status_code != HTTPStatus.OK:\n",
    "        raise Exception(\n",
    "            \"O site do detran M.G está fora do ar.\",\n",
    "            status_code=HTTPStatus.BAD_REQUEST\n",
    "        )\n",
    "\n",
    "    return response.text"
   ]
  },
  {
   "cell_type": "code",
   "execution_count": 7,
   "metadata": {},
   "outputs": [],
   "source": [
    "html_string = get_vehicle_form_html()"
   ]
  },
  {
   "cell_type": "code",
   "execution_count": 8,
   "metadata": {},
   "outputs": [],
   "source": [
    "data = {\n",
    "    \"data[EmitirExtratoMulta][placa]\": \"HFL5661\",\n",
    "    \"data[EmitirExtratoMulta][renavam]\": \"00911263128\"\n",
    "}"
   ]
  },
  {
   "cell_type": "code",
   "execution_count": 9,
   "metadata": {},
   "outputs": [],
   "source": [
    "html_string = submit_form(data)"
   ]
  },
  {
   "cell_type": "code",
   "execution_count": 10,
   "metadata": {},
   "outputs": [],
   "source": [
    "html_string = get_tickets_list()"
   ]
  },
  {
   "cell_type": "code",
   "execution_count": 11,
   "metadata": {},
   "outputs": [],
   "source": [
    "soup = BeautifulSoup(html_string, \"html.parser\")"
   ]
  },
  {
   "cell_type": "code",
   "execution_count": 12,
   "metadata": {},
   "outputs": [],
   "source": [
    "tickets = []"
   ]
  },
  {
   "cell_type": "code",
   "execution_count": 13,
   "metadata": {},
   "outputs": [],
   "source": [
    "def format_amount(amount):\n",
    "    \"\"\"\n",
    "    Formata a string de saida do valor\n",
    "    \"\"\"\n",
    "\n",
    "    string = amount.replace(\"R$ \", \"\").replace(\",\", \".\")\n",
    "\n",
    "    return float(string)"
   ]
  },
  {
   "cell_type": "code",
   "execution_count": 14,
   "metadata": {},
   "outputs": [],
   "source": [
    "try:\n",
    "    table = soup.find(\"tbody\")\n",
    "    for tr in table.find_all(\"tr\"):\n",
    "        tds = tr.find_all(\"td\")\n",
    "        tickets.append({\n",
    "            \"id\": tds[1].string,\n",
    "            \"description\": tds[2].string.capitalize(),\n",
    "            \"county\": tds[3].string.capitalize(),\n",
    "            \"amount\": format_amount(tds[4].string),\n",
    "            \"url\": \"https://www.detran.mg.gov.br\" + tds[5].a['href']\n",
    "        })\n",
    "except Exception as error:\n",
    "    raise Exception(\n",
    "        \"Ocorreu um problema ao pegar os dados do detran MG\",\n",
    "        status_code=HTTPStatus.BAD_REQUEST\n",
    "    )"
   ]
  },
  {
   "cell_type": "code",
   "execution_count": 15,
   "metadata": {},
   "outputs": [
    {
     "name": "stdout",
     "output_type": "stream",
     "text": [
      "[{'county': 'Rua  padre  augusto 183', 'url': 'https://www.detran.mg.gov.br/veiculos/situacao-do-veiculo/emissao-de-boleto-de-multas/-/emissao_extrato_multa/HFL5661/00911263128/248650/1/6129671/5320/', 'id': '6129671', 'amount': 53.2, 'description': 'Estacionar em desacordo com a regulamentacao - vaga de carga'}]\n"
     ]
    }
   ],
   "source": [
    "print(tickets)"
   ]
  }
 ],
 "metadata": {
  "kernelspec": {
   "display_name": "Python 3",
   "language": "python",
   "name": "python3"
  },
  "language_info": {
   "codemirror_mode": {
    "name": "ipython",
    "version": 3
   },
   "file_extension": ".py",
   "mimetype": "text/x-python",
   "name": "python",
   "nbconvert_exporter": "python",
   "pygments_lexer": "ipython3",
   "version": "3.5.2"
  }
 },
 "nbformat": 4,
 "nbformat_minor": 2
}
