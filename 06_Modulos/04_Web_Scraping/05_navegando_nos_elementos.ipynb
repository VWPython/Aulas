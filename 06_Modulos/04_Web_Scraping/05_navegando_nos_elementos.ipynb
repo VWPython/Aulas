{
 "cells": [
  {
   "cell_type": "markdown",
   "metadata": {},
   "source": [
    "## Navegando nas tags HTML\n",
    "***"
   ]
  },
  {
   "cell_type": "code",
   "execution_count": 1,
   "metadata": {},
   "outputs": [],
   "source": [
    "from bs4 import BeautifulSoup"
   ]
  },
  {
   "cell_type": "code",
   "execution_count": 2,
   "metadata": {},
   "outputs": [],
   "source": [
    "with open('arquivo.html', 'r') as file:\n",
    "    soup = BeautifulSoup(file, 'lxml')"
   ]
  },
  {
   "cell_type": "code",
   "execution_count": 3,
   "metadata": {},
   "outputs": [
    {
     "name": "stdout",
     "output_type": "stream",
     "text": [
      "<title>Exemplo Bootstrap</title>\n",
      "<title>Exemplo Bootstrap</title>\n"
     ]
    }
   ],
   "source": [
    "print(soup.title)\n",
    "print(soup.head.title)"
   ]
  },
  {
   "cell_type": "code",
   "execution_count": 4,
   "metadata": {},
   "outputs": [
    {
     "name": "stdout",
     "output_type": "stream",
     "text": [
      "<tr>\n",
      "<th>Nome</th>\n",
      "<th>Sobrenome</th>\n",
      "<th class=\"email\">Email</th>\n",
      "</tr>\n"
     ]
    }
   ],
   "source": [
    "print(soup.table.tr)"
   ]
  },
  {
   "cell_type": "code",
   "execution_count": 5,
   "metadata": {},
   "outputs": [
    {
     "name": "stdout",
     "output_type": "stream",
     "text": [
      "{'class': ['table', 'table-hover']}\n",
      "['table', 'table-hover']\n",
      "table\n"
     ]
    }
   ],
   "source": [
    "print(soup.table.attrs)\n",
    "print(soup.table['class'])\n",
    "print(soup.table['class'][0])"
   ]
  },
  {
   "cell_type": "markdown",
   "metadata": {},
   "source": [
    "***"
   ]
  },
  {
   "cell_type": "code",
   "execution_count": 6,
   "metadata": {},
   "outputs": [
    {
     "name": "stdout",
     "output_type": "stream",
     "text": [
      "['\\n', <thead>\n",
      "<tr>\n",
      "<th>Nome</th>\n",
      "<th>Sobrenome</th>\n",
      "<th class=\"email\">Email</th>\n",
      "</tr>\n",
      "</thead>, '\\n', <tbody>\n",
      "<tr id=\"menino-john\">\n",
      "<td id=\"john\">John</td>\n",
      "<td>Doe</td>\n",
      "<td class=\"email\">john@example.com</td>\n",
      "</tr>\n",
      "<tr>\n",
      "<td id=\"mary\">Mary</td>\n",
      "<td>Moe</td>\n",
      "<td class=\"email\">mary@example.com</td>\n",
      "</tr>\n",
      "<tr>\n",
      "<td id=\"july\">July</td>\n",
      "<td>Dooley</td>\n",
      "<td class=\"email\">july@example.com</td>\n",
      "</tr>\n",
      "<tr>\n",
      "<td id=\"mary\">Cris</td>\n",
      "<td>Moe</td>\n",
      "<td class=\"email\">cris@example.com</td>\n",
      "</tr>\n",
      "</tbody>, '\\n']\n"
     ]
    }
   ],
   "source": [
    "# Pega a lista de todos os filhos da tag (primeiro filho)\n",
    "print(soup.table.contents)"
   ]
  },
  {
   "cell_type": "code",
   "execution_count": 7,
   "metadata": {},
   "outputs": [
    {
     "name": "stdout",
     "output_type": "stream",
     "text": [
      "<thead>\n",
      "<tr>\n",
      "<th>Nome</th>\n",
      "<th>Sobrenome</th>\n",
      "<th class=\"email\">Email</th>\n",
      "</tr>\n",
      "</thead>\n"
     ]
    }
   ],
   "source": [
    "print(soup.table.contents[1])"
   ]
  },
  {
   "cell_type": "code",
   "execution_count": 8,
   "metadata": {},
   "outputs": [
    {
     "name": "stdout",
     "output_type": "stream",
     "text": [
      "<tr>\n",
      "<th>Nome</th>\n",
      "<th>Sobrenome</th>\n",
      "<th class=\"email\">Email</th>\n",
      "</tr>\n"
     ]
    }
   ],
   "source": [
    "print(soup.table.contents[1].tr)"
   ]
  },
  {
   "cell_type": "code",
   "execution_count": 9,
   "metadata": {},
   "outputs": [
    {
     "name": "stdout",
     "output_type": "stream",
     "text": [
      "<tr>\n",
      "<th>Nome</th>\n",
      "<th>Sobrenome</th>\n",
      "<th class=\"email\">Email</th>\n",
      "</tr>\n"
     ]
    }
   ],
   "source": [
    "print(soup.table.contents[1].contents[1])"
   ]
  },
  {
   "cell_type": "code",
   "execution_count": 10,
   "metadata": {},
   "outputs": [
    {
     "name": "stdout",
     "output_type": "stream",
     "text": [
      "\n",
      "\n",
      "<thead>\n",
      "<tr>\n",
      "<th>Nome</th>\n",
      "<th>Sobrenome</th>\n",
      "<th class=\"email\">Email</th>\n",
      "</tr>\n",
      "</thead>\n",
      "\n",
      "\n",
      "<tbody>\n",
      "<tr id=\"menino-john\">\n",
      "<td id=\"john\">John</td>\n",
      "<td>Doe</td>\n",
      "<td class=\"email\">john@example.com</td>\n",
      "</tr>\n",
      "<tr>\n",
      "<td id=\"mary\">Mary</td>\n",
      "<td>Moe</td>\n",
      "<td class=\"email\">mary@example.com</td>\n",
      "</tr>\n",
      "<tr>\n",
      "<td id=\"july\">July</td>\n",
      "<td>Dooley</td>\n",
      "<td class=\"email\">july@example.com</td>\n",
      "</tr>\n",
      "<tr>\n",
      "<td id=\"mary\">Cris</td>\n",
      "<td>Moe</td>\n",
      "<td class=\"email\">cris@example.com</td>\n",
      "</tr>\n",
      "</tbody>\n",
      "\n",
      "\n"
     ]
    }
   ],
   "source": [
    "for child in soup.table.contents:\n",
    "    print(child)"
   ]
  },
  {
   "cell_type": "code",
   "execution_count": 11,
   "metadata": {},
   "outputs": [
    {
     "name": "stdout",
     "output_type": "stream",
     "text": [
      "<thead>\n",
      "<tr>\n",
      "<th>Nome</th>\n",
      "<th>Sobrenome</th>\n",
      "<th class=\"email\">Email</th>\n",
      "</tr>\n",
      "</thead>\n",
      "<tbody>\n",
      "<tr id=\"menino-john\">\n",
      "<td id=\"john\">John</td>\n",
      "<td>Doe</td>\n",
      "<td class=\"email\">john@example.com</td>\n",
      "</tr>\n",
      "<tr>\n",
      "<td id=\"mary\">Mary</td>\n",
      "<td>Moe</td>\n",
      "<td class=\"email\">mary@example.com</td>\n",
      "</tr>\n",
      "<tr>\n",
      "<td id=\"july\">July</td>\n",
      "<td>Dooley</td>\n",
      "<td class=\"email\">july@example.com</td>\n",
      "</tr>\n",
      "<tr>\n",
      "<td id=\"mary\">Cris</td>\n",
      "<td>Moe</td>\n",
      "<td class=\"email\">cris@example.com</td>\n",
      "</tr>\n",
      "</tbody>\n"
     ]
    }
   ],
   "source": [
    "for child in soup.table.contents:\n",
    "    if child != '\\n':\n",
    "        print(child)"
   ]
  },
  {
   "cell_type": "code",
   "execution_count": 12,
   "metadata": {},
   "outputs": [
    {
     "name": "stdout",
     "output_type": "stream",
     "text": [
      "<tbody>\n",
      "<tr id=\"menino-john\">\n",
      "<td id=\"john\">John</td>\n",
      "<td>Doe</td>\n",
      "<td class=\"email\">john@example.com</td>\n",
      "</tr>\n",
      "<tr>\n",
      "<td id=\"mary\">Mary</td>\n",
      "<td>Moe</td>\n",
      "<td class=\"email\">mary@example.com</td>\n",
      "</tr>\n",
      "<tr>\n",
      "<td id=\"july\">July</td>\n",
      "<td>Dooley</td>\n",
      "<td class=\"email\">july@example.com</td>\n",
      "</tr>\n",
      "<tr>\n",
      "<td id=\"mary\">Cris</td>\n",
      "<td>Moe</td>\n",
      "<td class=\"email\">cris@example.com</td>\n",
      "</tr>\n",
      "</tbody>\n"
     ]
    }
   ],
   "source": [
    "for child in soup.table.contents:\n",
    "    if child.name == 'tbody':\n",
    "        print(child)"
   ]
  },
  {
   "cell_type": "markdown",
   "metadata": {},
   "source": [
    "***"
   ]
  },
  {
   "cell_type": "code",
   "execution_count": 13,
   "metadata": {},
   "outputs": [
    {
     "name": "stdout",
     "output_type": "stream",
     "text": [
      "\n",
      "\n",
      "<tr>\n",
      "<th>Nome</th>\n",
      "<th>Sobrenome</th>\n",
      "<th class=\"email\">Email</th>\n",
      "</tr>\n",
      "\n",
      "\n"
     ]
    }
   ],
   "source": [
    "# Só acessa os filhos direto, ou seja, o primeiro filho, não seus descendentes\n",
    "for child in soup.thead.children:\n",
    "    print(child)"
   ]
  },
  {
   "cell_type": "code",
   "execution_count": 14,
   "metadata": {},
   "outputs": [
    {
     "name": "stdout",
     "output_type": "stream",
     "text": [
      "<td id=\"john\">John</td>\n",
      "<td>Doe</td>\n",
      "<td class=\"email\">john@example.com</td>\n"
     ]
    }
   ],
   "source": [
    "for child in soup.tbody.tr.children:\n",
    "    if child != \"\\n\":\n",
    "        print(child)"
   ]
  },
  {
   "cell_type": "markdown",
   "metadata": {},
   "source": [
    "***"
   ]
  },
  {
   "cell_type": "code",
   "execution_count": 15,
   "metadata": {},
   "outputs": [
    {
     "name": "stdout",
     "output_type": "stream",
     "text": [
      "2\n",
      "109\n"
     ]
    }
   ],
   "source": [
    "# Acessar descendentes hierarquicos, ou seja, filhos dos seus filhos, e por ai vai.\n",
    "print(len(list(soup.children))) # html, head, body\n",
    "print(len(list(soup.descendants))) # ..."
   ]
  },
  {
   "cell_type": "code",
   "execution_count": 16,
   "metadata": {},
   "outputs": [
    {
     "name": "stdout",
     "output_type": "stream",
     "text": [
      "['\\n', <thead>\n",
      "<tr>\n",
      "<th>Nome</th>\n",
      "<th>Sobrenome</th>\n",
      "<th class=\"email\">Email</th>\n",
      "</tr>\n",
      "</thead>, '\\n', <tr>\n",
      "<th>Nome</th>\n",
      "<th>Sobrenome</th>\n",
      "<th class=\"email\">Email</th>\n",
      "</tr>, '\\n', <th>Nome</th>, 'Nome', '\\n', <th>Sobrenome</th>, 'Sobrenome', '\\n', <th class=\"email\">Email</th>, 'Email', '\\n', '\\n', '\\n', <tbody>\n",
      "<tr id=\"menino-john\">\n",
      "<td id=\"john\">John</td>\n",
      "<td>Doe</td>\n",
      "<td class=\"email\">john@example.com</td>\n",
      "</tr>\n",
      "<tr>\n",
      "<td id=\"mary\">Mary</td>\n",
      "<td>Moe</td>\n",
      "<td class=\"email\">mary@example.com</td>\n",
      "</tr>\n",
      "<tr>\n",
      "<td id=\"july\">July</td>\n",
      "<td>Dooley</td>\n",
      "<td class=\"email\">july@example.com</td>\n",
      "</tr>\n",
      "<tr>\n",
      "<td id=\"mary\">Cris</td>\n",
      "<td>Moe</td>\n",
      "<td class=\"email\">cris@example.com</td>\n",
      "</tr>\n",
      "</tbody>, '\\n', <tr id=\"menino-john\">\n",
      "<td id=\"john\">John</td>\n",
      "<td>Doe</td>\n",
      "<td class=\"email\">john@example.com</td>\n",
      "</tr>, '\\n', <td id=\"john\">John</td>, 'John', '\\n', <td>Doe</td>, 'Doe', '\\n', <td class=\"email\">john@example.com</td>, 'john@example.com', '\\n', '\\n', <tr>\n",
      "<td id=\"mary\">Mary</td>\n",
      "<td>Moe</td>\n",
      "<td class=\"email\">mary@example.com</td>\n",
      "</tr>, '\\n', <td id=\"mary\">Mary</td>, 'Mary', '\\n', <td>Moe</td>, 'Moe', '\\n', <td class=\"email\">mary@example.com</td>, 'mary@example.com', '\\n', '\\n', <tr>\n",
      "<td id=\"july\">July</td>\n",
      "<td>Dooley</td>\n",
      "<td class=\"email\">july@example.com</td>\n",
      "</tr>, '\\n', <td id=\"july\">July</td>, 'July', '\\n', <td>Dooley</td>, 'Dooley', '\\n', <td class=\"email\">july@example.com</td>, 'july@example.com', '\\n', '\\n', <tr>\n",
      "<td id=\"mary\">Cris</td>\n",
      "<td>Moe</td>\n",
      "<td class=\"email\">cris@example.com</td>\n",
      "</tr>, '\\n', <td id=\"mary\">Cris</td>, 'Cris', '\\n', <td>Moe</td>, 'Moe', '\\n', <td class=\"email\">cris@example.com</td>, 'cris@example.com', '\\n', '\\n', '\\n']\n"
     ]
    }
   ],
   "source": [
    "from bs4.element import NavigableString, Tag\n",
    "\n",
    "print(list(soup.table.descendants))"
   ]
  },
  {
   "cell_type": "code",
   "execution_count": 17,
   "metadata": {},
   "outputs": [
    {
     "name": "stdout",
     "output_type": "stream",
     "text": [
      "Tag: thead\n",
      "Tag: tr\n",
      "Tag: th\n",
      "String: Nome\n",
      "Tag: th\n",
      "String: Sobrenome\n",
      "Tag: th\n",
      "String: Email\n",
      "Tag: tbody\n",
      "Tag: tr\n",
      "Tag: td\n",
      "String: John\n",
      "Tag: td\n",
      "String: Doe\n",
      "Tag: td\n",
      "String: john@example.com\n",
      "Tag: tr\n",
      "Tag: td\n",
      "String: Mary\n",
      "Tag: td\n",
      "String: Moe\n",
      "Tag: td\n",
      "String: mary@example.com\n",
      "Tag: tr\n",
      "Tag: td\n",
      "String: July\n",
      "Tag: td\n",
      "String: Dooley\n",
      "Tag: td\n",
      "String: july@example.com\n",
      "Tag: tr\n",
      "Tag: td\n",
      "String: Cris\n",
      "Tag: td\n",
      "String: Moe\n",
      "Tag: td\n",
      "String: cris@example.com\n"
     ]
    }
   ],
   "source": [
    "for tag in soup.table.descendants:\n",
    "    if isinstance(tag, NavigableString):\n",
    "        if tag != '\\n':\n",
    "            print(\"String:\", tag)\n",
    "    elif isinstance(tag, Tag):\n",
    "        print(\"Tag:\", tag.name)\n",
    "    else:\n",
    "        print(\"Não é nada!\")"
   ]
  },
  {
   "cell_type": "markdown",
   "metadata": {},
   "source": [
    "***"
   ]
  },
  {
   "cell_type": "code",
   "execution_count": 18,
   "metadata": {},
   "outputs": [
    {
     "name": "stdout",
     "output_type": "stream",
     "text": [
      "\n",
      "        Lorem ipsum dolor sit amet, consectetur adipiscing elit. Etiam id ornare odio, eu tincidunt massa.\n",
      "        In eget lorem augue. Sed auctor lacinia enim eu volutpat. Etiam sed massa dapibus, egestas ligula vel,\n",
      "        vulputate ex. Sed efficitur enim ac enim pharetra consequat. Pellentesque ante lorem, tempor eu ex in,\n",
      "        tincidunt pharetra diam. Sed ut mi iaculis, condimentum neque nec, cursus massa. Mauris ligula risus\n",
      "        euismod sit amet aliquam ut, consequat sit amet orci. Suspendisse vestibulum pellentesque metus\n",
      "        ultrices aliquam orci ullamcorper eget. Suspendisse a mattis felis.\n",
      "\n",
      "        \n",
      "Sed\n",
      " imperdiet metus nec dui aliquet, sed sollicitudin augue dictum. Sed et condimentum risus, id luctus eros.\n",
      "        Phasellus vehicula, enim vel posuere gravida, felis massa volutpat mi, id euismod mi lorem non libero. Orci varius\n",
      "        natoque penatibus et magnis dis parturient montes, nascetur ridiculus mus. Nam volutpat porttitor ligula si\n",
      "        amet ultricies. Sed mi tortor, finibus sit amet viverra non, volutpat ut ipsum. Curabitur lacinia tellus ne\n",
      "        auctor feugiat. Donec semper pretium tempus. Sed quis fringilla elit. Vestibulum velit dui, varius eu nequ\n",
      "        auctor, feugiat ornare ligula. Proin scelerisque nisl id enim tempus facilisis. Donec eu malesuada felis\n",
      "        Suspendisse velit urna, pellentesque eu lectus sit amet, varius porttitor nunc\n",
      "      \n"
     ]
    }
   ],
   "source": [
    "# Percorrer nas strings com e sem espaços em branco\n",
    "for string in soup.p.strings:\n",
    "    print(string)"
   ]
  },
  {
   "cell_type": "code",
   "execution_count": 19,
   "metadata": {},
   "outputs": [
    {
     "name": "stdout",
     "output_type": "stream",
     "text": [
      "Lorem ipsum dolor sit amet, consectetur adipiscing elit. Etiam id ornare odio, eu tincidunt massa.\n",
      "        In eget lorem augue. Sed auctor lacinia enim eu volutpat. Etiam sed massa dapibus, egestas ligula vel,\n",
      "        vulputate ex. Sed efficitur enim ac enim pharetra consequat. Pellentesque ante lorem, tempor eu ex in,\n",
      "        tincidunt pharetra diam. Sed ut mi iaculis, condimentum neque nec, cursus massa. Mauris ligula risus\n",
      "        euismod sit amet aliquam ut, consequat sit amet orci. Suspendisse vestibulum pellentesque metus\n",
      "        ultrices aliquam orci ullamcorper eget. Suspendisse a mattis felis.\n",
      "Sed\n",
      "imperdiet metus nec dui aliquet, sed sollicitudin augue dictum. Sed et condimentum risus, id luctus eros.\n",
      "        Phasellus vehicula, enim vel posuere gravida, felis massa volutpat mi, id euismod mi lorem non libero. Orci varius\n",
      "        natoque penatibus et magnis dis parturient montes, nascetur ridiculus mus. Nam volutpat porttitor ligula si\n",
      "        amet ultricies. Sed mi tortor, finibus sit amet viverra non, volutpat ut ipsum. Curabitur lacinia tellus ne\n",
      "        auctor feugiat. Donec semper pretium tempus. Sed quis fringilla elit. Vestibulum velit dui, varius eu nequ\n",
      "        auctor, feugiat ornare ligula. Proin scelerisque nisl id enim tempus facilisis. Donec eu malesuada felis\n",
      "        Suspendisse velit urna, pellentesque eu lectus sit amet, varius porttitor nunc\n"
     ]
    }
   ],
   "source": [
    "for string in soup.p.stripped_strings:\n",
    "    print(string)"
   ]
  },
  {
   "cell_type": "markdown",
   "metadata": {},
   "source": [
    "***"
   ]
  },
  {
   "cell_type": "code",
   "execution_count": 20,
   "metadata": {},
   "outputs": [
    {
     "name": "stdout",
     "output_type": "stream",
     "text": [
      "None\n"
     ]
    }
   ],
   "source": [
    "# Navegando nos pais\n",
    "print(soup.parent) # tag html não tem pai é a raiz"
   ]
  },
  {
   "cell_type": "code",
   "execution_count": 21,
   "metadata": {},
   "outputs": [
    {
     "name": "stdout",
     "output_type": "stream",
     "text": [
      "<title>Exemplo Bootstrap</title>\n"
     ]
    }
   ],
   "source": [
    "title = soup.title\n",
    "print(soup.title)"
   ]
  },
  {
   "cell_type": "code",
   "execution_count": 22,
   "metadata": {},
   "outputs": [
    {
     "name": "stdout",
     "output_type": "stream",
     "text": [
      "<head>\n",
      "<title>Exemplo Bootstrap</title>\n",
      "<meta charset=\"utf-8\"/>\n",
      "<meta content=\"width=device-width, initial-scale=1\" name=\"viewport\"/>\n",
      "<link href=\"https://maxcdn.bootstrapcdn.com/bootstrap/3.3.7/css/bootstrap.min.css\" rel=\"stylesheet\"/>\n",
      "<script src=\"https://ajax.googleapis.com/ajax/libs/jquery/3.3.1/jquery.min.js\"></script>\n",
      "<script src=\"https://maxcdn.bootstrapcdn.com/bootstrap/3.3.7/js/bootstrap.min.js\"></script>\n",
      "</head>\n"
     ]
    }
   ],
   "source": [
    "print(soup.title.parent)"
   ]
  },
  {
   "cell_type": "code",
   "execution_count": 23,
   "metadata": {},
   "outputs": [
    {
     "name": "stdout",
     "output_type": "stream",
     "text": [
      "<tr id=\"menino-john\">\n",
      "<td id=\"john\">John</td>\n",
      "<td>Doe</td>\n",
      "<td class=\"email\">john@example.com</td>\n",
      "</tr>\n"
     ]
    }
   ],
   "source": [
    "print(soup.td.parent)"
   ]
  },
  {
   "cell_type": "code",
   "execution_count": 24,
   "metadata": {},
   "outputs": [
    {
     "name": "stdout",
     "output_type": "stream",
     "text": [
      "<tbody>\n",
      "<tr id=\"menino-john\">\n",
      "<td id=\"john\">John</td>\n",
      "<td>Doe</td>\n",
      "<td class=\"email\">john@example.com</td>\n",
      "</tr>\n",
      "<tr>\n",
      "<td id=\"mary\">Mary</td>\n",
      "<td>Moe</td>\n",
      "<td class=\"email\">mary@example.com</td>\n",
      "</tr>\n",
      "<tr>\n",
      "<td id=\"july\">July</td>\n",
      "<td>Dooley</td>\n",
      "<td class=\"email\">july@example.com</td>\n",
      "</tr>\n",
      "<tr>\n",
      "<td id=\"mary\">Cris</td>\n",
      "<td>Moe</td>\n",
      "<td class=\"email\">cris@example.com</td>\n",
      "</tr>\n",
      "</tbody>\n"
     ]
    }
   ],
   "source": [
    "print(soup.td.parent.parent)"
   ]
  },
  {
   "cell_type": "code",
   "execution_count": 25,
   "metadata": {},
   "outputs": [
    {
     "name": "stdout",
     "output_type": "stream",
     "text": [
      "div\n",
      "body\n",
      "html\n",
      "[document]\n"
     ]
    }
   ],
   "source": [
    "for pai in soup.p.parents:\n",
    "    print(pai.name)"
   ]
  },
  {
   "cell_type": "markdown",
   "metadata": {},
   "source": [
    "***"
   ]
  },
  {
   "cell_type": "code",
   "execution_count": 26,
   "metadata": {},
   "outputs": [
    {
     "name": "stdout",
     "output_type": "stream",
     "text": [
      "<td id=\"john\">John</td>\n",
      "<td>Doe</td>\n"
     ]
    }
   ],
   "source": [
    "# Navegando nos irmãos (ou seja, filhos do mesma tag pai)\n",
    "# Ele considera o espaço em branco irmão também, logo temos que usar 2 next_sibling\n",
    "print(soup.td)\n",
    "print(soup.td.next_sibling.next_sibling)"
   ]
  },
  {
   "cell_type": "code",
   "execution_count": 27,
   "metadata": {},
   "outputs": [
    {
     "name": "stdout",
     "output_type": "stream",
     "text": [
      "'\\n'\n",
      "<td>Doe</td>\n",
      "'\\n'\n",
      "<td class=\"email\">john@example.com</td>\n",
      "'\\n'\n"
     ]
    }
   ],
   "source": [
    "for sibling in soup.td.next_siblings:\n",
    "    print(repr(sibling))"
   ]
  },
  {
   "cell_type": "code",
   "execution_count": 28,
   "metadata": {},
   "outputs": [
    {
     "name": "stdout",
     "output_type": "stream",
     "text": [
      "'\\n'\n",
      "<head>\n",
      "<title>Exemplo Bootstrap</title>\n",
      "<meta charset=\"utf-8\"/>\n",
      "<meta content=\"width=device-width, initial-scale=1\" name=\"viewport\"/>\n",
      "<link href=\"https://maxcdn.bootstrapcdn.com/bootstrap/3.3.7/css/bootstrap.min.css\" rel=\"stylesheet\"/>\n",
      "<script src=\"https://ajax.googleapis.com/ajax/libs/jquery/3.3.1/jquery.min.js\"></script>\n",
      "<script src=\"https://maxcdn.bootstrapcdn.com/bootstrap/3.3.7/js/bootstrap.min.js\"></script>\n",
      "</head>\n",
      "'\\n'\n"
     ]
    }
   ],
   "source": [
    "for sibling in soup.body.previous_siblings:\n",
    "    print(repr(sibling))"
   ]
  },
  {
   "cell_type": "markdown",
   "metadata": {},
   "source": [
    "***"
   ]
  },
  {
   "cell_type": "code",
   "execution_count": 29,
   "metadata": {},
   "outputs": [
    {
     "name": "stdout",
     "output_type": "stream",
     "text": [
      "<thead>\n",
      "<tr>\n",
      "<th>Nome</th>\n",
      "<th>Sobrenome</th>\n",
      "<th class=\"email\">Email</th>\n",
      "</tr>\n",
      "</thead>\n"
     ]
    }
   ],
   "source": [
    "# Percorrendo um html tag por tag (de 2 em 2 se não imprime um espaço em branco)\n",
    "print(soup.table.next_element.next_element)"
   ]
  },
  {
   "cell_type": "code",
   "execution_count": 30,
   "metadata": {},
   "outputs": [
    {
     "name": "stdout",
     "output_type": "stream",
     "text": [
      "\n",
      "\n"
     ]
    }
   ],
   "source": [
    "print(soup.table.next_element.next_element.next_element)"
   ]
  },
  {
   "cell_type": "code",
   "execution_count": 31,
   "metadata": {},
   "outputs": [
    {
     "name": "stdout",
     "output_type": "stream",
     "text": [
      "<tr>\n",
      "<th>Nome</th>\n",
      "<th>Sobrenome</th>\n",
      "<th class=\"email\">Email</th>\n",
      "</tr>\n"
     ]
    }
   ],
   "source": [
    "print(soup.table.next_element.next_element.next_element.next_element)"
   ]
  },
  {
   "cell_type": "code",
   "execution_count": 32,
   "metadata": {},
   "outputs": [
    {
     "name": "stdout",
     "output_type": "stream",
     "text": [
      "<tbody>\n",
      "<tr id=\"menino-john\">\n",
      "<td id=\"john\">John</td>\n",
      "<td>Doe</td>\n",
      "<td class=\"email\">john@example.com</td>\n",
      "</tr>\n",
      "<tr>\n",
      "<td id=\"mary\">Mary</td>\n",
      "<td>Moe</td>\n",
      "<td class=\"email\">mary@example.com</td>\n",
      "</tr>\n",
      "<tr>\n",
      "<td id=\"july\">July</td>\n",
      "<td>Dooley</td>\n",
      "<td class=\"email\">july@example.com</td>\n",
      "</tr>\n",
      "<tr>\n",
      "<td id=\"mary\">Cris</td>\n",
      "<td>Moe</td>\n",
      "<td class=\"email\">cris@example.com</td>\n",
      "</tr>\n",
      "</tbody>\n"
     ]
    }
   ],
   "source": [
    "print(soup.table.tbody.tr.previous_element.previous_element)"
   ]
  }
 ],
 "metadata": {
  "kernelspec": {
   "display_name": "Python 3",
   "language": "python",
   "name": "python3"
  },
  "language_info": {
   "codemirror_mode": {
    "name": "ipython",
    "version": 3
   },
   "file_extension": ".py",
   "mimetype": "text/x-python",
   "name": "python",
   "nbconvert_exporter": "python",
   "pygments_lexer": "ipython3",
   "version": "3.7.6"
  }
 },
 "nbformat": 4,
 "nbformat_minor": 2
}
