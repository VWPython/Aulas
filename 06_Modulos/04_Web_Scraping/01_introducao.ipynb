{
 "cells": [
  {
   "cell_type": "markdown",
   "metadata": {},
   "source": [
    "## Web Scraping\n",
    "***"
   ]
  },
  {
   "cell_type": "markdown",
   "metadata": {},
   "source": [
    "Um web scraping é uma API para extrair dados de um web site. Por exemplo, você quer pegar os moveis de uma determinada localidade que estão a venda no site da OLX. E armazena-los no seu banco de dados.\n",
    "\n",
    "### API\n",
    "\n",
    "API é um conjunto de rotinas e padrões de programação para acesso a um aplicativo de software ou plataforma baseado na Web. Em pagamentos online, as APIs permitem executar pagamentos e transferências sem sair do site da loja ou fornecedor de serviços, por exemplo, o comprador não precisa colocar os dados do cartão de crédito no site da loja para realizar a compra, mas apenas o usuário e senha do pagseguro autorizando a compra.\n",
    "\n",
    "### Estruturas de páginas web\n",
    "\n",
    "A WWW (World Wide Web) é um aplicativo desenvolvido para permitir que pessoas compartilhem informações sobre a internet.\n",
    "\n",
    "O Browser são os navegadores que é utilizado para visualizar os arquivos HTML, CSS e JS, por exemplo, Firefox e Google Chrome.\n",
    "\n",
    "As páginas web são um meio de tornar documentos disponíveis a qualquer um na internet. Por meio de linguagens de marcação como HTML e CSS e linguagem de programação Javascript.\n",
    "\n",
    "### Beautiful Soup\n",
    "\n",
    "É uma biblioteca python projetada para facilitar a extração de dados nos documentos html e xml.\n",
    "\n",
    "* Fornece alguns métodos simples e expressões pythonicas para navegar, pesquisar e modificar uma árvore de análise.\n",
    "\n",
    "* Converte automaticamente documentos de entrada para Unicode e documentos de saída para UTF-8\n",
    "\n",
    "* Utiliza-se bibliotecas html parse lxml, html5lib, permitindo-lhe experimentar estratégias de análise diferentes ou velocidade comercial para a flexibilidade.\n",
    "\n",
    "* Bastante robusta para trabalhar com html/xml mal formatado.\n",
    "\n",
    "#### Parser\n",
    "\n",
    "Parser é um analisador sintático e sua função é ler uma entrada de dados que possui certas regras especificas e montar uma estrutura de como é sua composição.\n",
    "\n",
    "|Parser|Modo de uso|Vantagem|Desvantagem|Tecnologia|\n",
    "|------|-----------|--------|-----------|----------|\n",
    "|html.parser|BeautifulSoup(markup, \"html.parser\")|Biblioteca inclusa e velocidade moderada|N/A|Padrão|\n",
    "|lxml|BeautifulSoup(markup, \"lxml\")<br />BeautifulSoup(markup, \"lxml-xml\")<br />BeautifulSoup(markup, \"xml\")|Rápida, Suporta XML|Dependência externa|C|\n",
    "|html5lib|BeautifulSoup(markup, \"html5lib\")|Análisa páginas da mesma forma que um browser e cria HTML5 válido|Lenta e tem dependência externa|Python|\n",
    "\n",
    "O mais recomendado é usar o **lxml**, já que foi feito em C o tornando extremamente rápido.\n",
    "\n",
    "#### Instalação:\n",
    "\n",
    "```\n",
    "pip install beautifulsoup4\n",
    "```"
   ]
  },
  {
   "cell_type": "markdown",
   "metadata": {},
   "source": [
    "***"
   ]
  },
  {
   "cell_type": "code",
   "execution_count": 1,
   "metadata": {},
   "outputs": [],
   "source": [
    "from bs4 import BeautifulSoup"
   ]
  },
  {
   "cell_type": "code",
   "execution_count": 2,
   "metadata": {},
   "outputs": [],
   "source": [
    "with open('arquivo.html', 'r') as file:\n",
    "    soup_string = BeautifulSoup(file.read(), 'html.parser')"
   ]
  },
  {
   "cell_type": "code",
   "execution_count": 3,
   "metadata": {},
   "outputs": [
    {
     "name": "stdout",
     "output_type": "stream",
     "text": [
      "<!DOCTYPE html>\n",
      "\n",
      "<html lang=\"pt_BR\">\n",
      "<head>\n",
      "<title>Exemplo Bootstrap</title>\n",
      "<meta charset=\"utf-8\">\n",
      "<meta content=\"width=device-width, initial-scale=1\" name=\"viewport\">\n",
      "<link href=\"https://maxcdn.bootstrapcdn.com/bootstrap/3.3.7/css/bootstrap.min.css\" rel=\"stylesheet\">\n",
      "<script src=\"https://ajax.googleapis.com/ajax/libs/jquery/3.3.1/jquery.min.js\"></script>\n",
      "<script src=\"https://maxcdn.bootstrapcdn.com/bootstrap/3.3.7/js/bootstrap.min.js\"></script>\n",
      "</link></meta></meta></head>\n",
      "<body>\n",
      "<div class=\"container\">\n",
      "<h1>\n",
      "          Meu projeto em Bootstrap\n",
      "      </h1>\n",
      "<p>\n",
      "        Lorem ipsum dolor sit amet, consectetur adipiscing elit. Etiam id ornare odio, eu tincidunt massa.\n",
      "        In eget lorem augue. Sed auctor lacinia enim eu volutpat. Etiam sed massa dapibus, egestas ligula vel,\n",
      "        vulputate ex. Sed efficitur enim ac enim pharetra consequat. Pellentesque ante lorem, tempor eu ex in,\n",
      "        tincidunt pharetra diam. Sed ut mi iaculis, condimentum neque nec, cursus massa. Mauris ligula risus\n",
      "        euismod sit amet aliquam ut, consequat sit amet orci. Suspendisse vestibulum pellentesque metus\n",
      "        ultrices aliquam orci ullamcorper eget. Suspendisse a mattis felis.\n",
      "\n",
      "        <b>Sed</b> imperdiet metus nec dui aliquet, sed sollicitudin augue dictum. Sed et condimentum risus, id luctus eros.\n",
      "        Phasellus vehicula, enim vel posuere gravida, felis massa volutpat mi, id euismod mi lorem non libero. Orci varius\n",
      "        natoque penatibus et magnis dis parturient montes, nascetur ridiculus mus. Nam volutpat porttitor ligula si\n",
      "        amet ultricies. Sed mi tortor, finibus sit amet viverra non, volutpat ut ipsum. Curabitur lacinia tellus ne\n",
      "        auctor feugiat. Donec semper pretium tempus. Sed quis fringilla elit. Vestibulum velit dui, varius eu nequ\n",
      "        auctor, feugiat ornare ligula. Proin scelerisque nisl id enim tempus facilisis. Donec eu malesuada felis\n",
      "        Suspendisse velit urna, pellentesque eu lectus sit amet, varius porttitor nunc\n",
      "      </p>\n",
      "<a href=\"http://www.google.com\">Google</a>\n",
      "<table class=\"table table-hover\">\n",
      "<thead>\n",
      "<tr>\n",
      "<th>Nome</th>\n",
      "<th>Sobrenome</th>\n",
      "<th class=\"email\">Email</th>\n",
      "</tr>\n",
      "</thead>\n",
      "<tbody>\n",
      "<tr>\n",
      "<td>John</td>\n",
      "<td>Doe</td>\n",
      "<td class=\"email\">john@example.com</td>\n",
      "</tr>\n",
      "<tr>\n",
      "<td>Mary</td>\n",
      "<td>Moe</td>\n",
      "<td class=\"email\">mary@example.com</td>\n",
      "</tr>\n",
      "<tr>\n",
      "<td>July</td>\n",
      "<td>Dooley</td>\n",
      "<td class=\"email\">july@example.com</td>\n",
      "</tr>\n",
      "</tbody>\n",
      "</table>\n",
      "</div>\n",
      "</body>\n",
      "</html>\n"
     ]
    }
   ],
   "source": [
    "print(soup_string)"
   ]
  },
  {
   "cell_type": "markdown",
   "metadata": {},
   "source": [
    "***"
   ]
  },
  {
   "cell_type": "code",
   "execution_count": 4,
   "metadata": {},
   "outputs": [],
   "source": [
    "import requests"
   ]
  },
  {
   "cell_type": "code",
   "execution_count": 5,
   "metadata": {},
   "outputs": [],
   "source": [
    "request = requests.get(\"http://www.google.com\")"
   ]
  },
  {
   "cell_type": "code",
   "execution_count": 6,
   "metadata": {},
   "outputs": [],
   "source": [
    "soup = BeautifulSoup(request.text, 'lxml')"
   ]
  },
  {
   "cell_type": "code",
   "execution_count": 7,
   "metadata": {},
   "outputs": [
    {
     "name": "stdout",
     "output_type": "stream",
     "text": [
      "<!DOCTYPE html>\n",
      "<html itemscope=\"\" itemtype=\"http://schema.org/WebPage\" lang=\"pt-BR\"><head><meta content=\"text/html; charset=utf-8\" http-equiv=\"Content-Type\"/><meta content=\"/logos/doodles/2018/summer-solstice-2018-southern-hemisphere-5452030255562752-law.gif\" itemprop=\"image\"/><meta content=\"Solstício de verão 2018\" property=\"twitter:title\"/><meta content=\"Solstício de verão 2018 #GoogleDoodle\" property=\"twitter:description\"/><meta content=\"Solstício de verão 2018 #GoogleDoodle\" property=\"og:description\"/><meta content=\"summary_large_image\" property=\"twitter:card\"/><meta content=\"@GoogleDoodles\" property=\"twitter:site\"/><meta content=\"https://www.google.com/logos/doodles/2018/summer-solstice-2018-southern-hemisphere-5452030255562752-2xa.gif\" property=\"twitter:image\"/><meta content=\"https://www.google.com/logos/doodles/2018/summer-solstice-2018-southern-hemisphere-5452030255562752-2xa.gif\" property=\"og:image\"/><meta content=\"1132\" property=\"og:image:width\"/><meta content=\"400\" property=\"og:image:height\"/><meta content=\"https://www.google.com/logos/doodles/2018/summer-solstice-2018-southern-hemisphere-5452030255562752-2xa.gif\" property=\"og:url\"/><meta content=\"video.other\" property=\"og:type\"/><title>Google</title><script nonce=\"GfV/Wv4pYxxkyf7e0Xa1nQ==\">(function(){window.google={kEI:'JlsdXKD6M8OGwgSX2ZCABQ',kEXPI:'0,1353746,58,50,1908,1016,1406,697,528,730,326,293,132,228,820,30,524,27,676,241,564,96,540,5,2335601,247,32,68,329226,1294,12383,4855,32692,15247,867,2237,10178,14073,2196,369,524,2790,5505,2436,266,1027,4083,572,835,284,2,579,727,2432,1361,1712,2611,3390,8,1535,34,774,2115,137,4347,395,525,22,604,2,1955,538,2067,182,283,556,2283,297,669,535,515,334,130,1344,386,741,270,81,7,2,26,463,620,29,981,37,361,16,458,1847,90,1267,643,4290,314,317,559,412,2,554,32,20,1507,1075,273,275,27,92,942,18,1208,38,363,261,296,270,303,145,155,499,718,1295,31,38,348,1,135,47,590,490,1288,1081,367,790,9,2,258,604,660,431,307,2,366,265,217,2045,265,35,2,579,97,44,18,31,81,88,116,1445,408,253,96,249,247,1119,408,724,22,1236,849,65,567,464,87,487,376,6,38,331,134,36,386,106,432,21,39,207,246,80,2,83,342,595,3,27,619,488,143,5970776,2554,233,5997368,90,2800095,4,1572,549,332,445,1,2,80,1,900,580,12,304,1,8,1,2,2132,1,1,1,1,1,414,1,748,141,59,344,9,373,3,7,362,81,3,6,67,4,1,9,9,2,1,10,8,1,2,4,1,1,2,1,1,100,1,29,8,21,1,1,1,1,1,1,1,1,1,2,1,1,22,8,1,1,1,1,1,1,1,1,1,1,1,1,1,1,68,8,6,2,2,1,2,1,1,3,1,2,28,3,6,5,8,4,2,4,4,12,4',authuser:0,kscs:'c9c918f0_JlsdXKD6M8OGwgSX2ZCABQ',kGL:'BR'};google.kHL='pt-BR';})();google.time=function(){return(new Date).getTime()};(function(){google.lc=[];google.li=0;google.getEI=function(a){for(var b;a&&(!a.getAttribute||!(b=a.getAttribute(\"eid\")));)a=a.parentNode;return b||google.kEI};google.getLEI=function(a){for(var b=null;a&&(!a.getAttribute||!(b=a.getAttribute(\"leid\")));)a=a.parentNode;return b};google.https=function(){return\"https:\"==window.location.protocol};google.ml=function(){return null};google.log=function(a,b,e,c,g){if(a=google.logUrl(a,b,e,c,g)){b=new Image;var d=google.lc,f=google.li;d[f]=b;b.onerror=b.onload=b.onabort=function(){delete d[f]};google.vel&&google.vel.lu&&google.vel.lu(a);b.src=a;google.li=f+1}};google.logUrl=function(a,b,e,c,g){var d=\"\",f=google.ls||\"\";e||-1!=b.search(\"&ei=\")||(d=\"&ei=\"+google.getEI(c),-1==b.search(\"&lei=\")&&(c=google.getLEI(c))&&(d+=\"&lei=\"+c));c=\"\";!e&&google.cshid&&-1==b.search(\"&cshid=\")&&\"slh\"!=a&&(c=\"&cshid=\"+google.cshid);a=e||\"/\"+(g||\"gen_204\")+\"?atyp=i&ct=\"+a+\"&cad=\"+b+d+f+\"&zx=\"+google.time()+c;/^http:/i.test(a)&&google.https()&&(google.ml(Error(\"a\"),!1,{src:a,glmm:1}),a=\"\");return a};}).call(this);(function(){google.y={};google.x=function(a,b){if(a)var c=a.id;else{do c=Math.random();while(google.y[c])}google.y[c]=[a,b];return!1};google.lm=[];google.plm=function(a){google.lm.push.apply(google.lm,a)};google.lq=[];google.load=function(a,b,c){google.lq.push([[a],b,c])};google.loadAll=function(a,b){google.lq.push([a,b])};}).call(this);google.f={};</script><script nonce=\"GfV/Wv4pYxxkyf7e0Xa1nQ==\">var a=window.location,b=a.href.indexOf(\"#\");if(0<=b){var c=a.href.substring(b+1);/(^|&)q=/.test(c)&&-1==c.indexOf(\"#\")&&a.replace(\"/search?\"+c.replace(/(^|&)fp=[^&]*/g,\"\")+\"&cad=h\")};</script><style>#gbar,#guser{font-size:13px;padding-top:1px !important;}#gbar{height:22px}#guser{padding-bottom:7px !important;text-align:right}.gbh,.gbd{border-top:1px solid #c9d7f1;font-size:1px}.gbh{height:0;position:absolute;top:24px;width:100%}@media all{.gb1{height:22px;margin-right:.5em;vertical-align:top}#gbar{float:left}}a.gb1,a.gb4{text-decoration:underline !important}a.gb1,a.gb4{color:#00c !important}.gbi .gb4{color:#dd8e27 !important}.gbf .gb4{color:#900 !important}\n",
      "</style><style>body,td,a,p,.h{font-family:arial,sans-serif}body{margin:0;overflow-y:scroll}#gog{padding:3px 8px 0}td{line-height:.8em}.gac_m td{line-height:17px}form{margin-bottom:20px}.h{color:#36c}.q{color:#00c}.ts td{padding:0}.ts{border-collapse:collapse}em{font-weight:bold;font-style:normal}.lst{height:25px;width:496px}.gsfi,.lst{font:18px arial,sans-serif}.gsfs{font:17px arial,sans-serif}.ds{display:inline-box;display:inline-block;margin:3px 0 4px;margin-left:4px}input{font-family:inherit}a.gb1,a.gb2,a.gb3,a.gb4{color:#11c !important}body{background:#fff;color:black}a{color:#11c;text-decoration:none}a:hover,a:active{text-decoration:underline}.fl a{color:#36c}a:visited{color:#551a8b}a.gb1,a.gb4{text-decoration:underline}a.gb3:hover{text-decoration:none}#ghead a.gb2:hover{color:#fff !important}.sblc{padding-top:5px}.sblc a{display:block;margin:2px 0;margin-left:13px;font-size:11px}.lsbb{background:#eee;border:solid 1px;border-color:#ccc #999 #999 #ccc;height:30px}.lsbb{display:block}.ftl,#fll a{display:inline-block;margin:0 12px}.lsb{background:url(/images/nav_logo229.png) 0 -261px repeat-x;border:none;color:#000;cursor:pointer;height:30px;margin:0;outline:0;font:15px arial,sans-serif;vertical-align:top}.lsb:active{background:#ccc}.lst:focus{outline:none}.tiah{width:458px}</style><script nonce=\"GfV/Wv4pYxxkyf7e0Xa1nQ==\"></script></head><body bgcolor=\"#fff\"><script nonce=\"GfV/Wv4pYxxkyf7e0Xa1nQ==\">(function(){var src='/images/nav_logo229.png';var iesg=false;document.body.onload = function(){window.n && window.n();if (document.images){new Image().src=src;}\n",
      "if (!iesg){document.f&&document.f.q.focus();document.gbqf&&document.gbqf.q.focus();}\n",
      "}\n",
      "})();</script><div id=\"mngb\"> <div id=\"gbar\"><nobr><b class=\"gb1\">Pesquisa</b> <a class=\"gb1\" href=\"http://www.google.com.br/imghp?hl=pt-BR&amp;tab=wi\">Imagens</a> <a class=\"gb1\" href=\"http://maps.google.com.br/maps?hl=pt-BR&amp;tab=wl\">Maps</a> <a class=\"gb1\" href=\"https://play.google.com/?hl=pt-BR&amp;tab=w8\">Play</a> <a class=\"gb1\" href=\"http://www.youtube.com/?gl=BR&amp;tab=w1\">YouTube</a> <a class=\"gb1\" href=\"http://news.google.com.br/nwshp?hl=pt-BR&amp;tab=wn\">Notícias</a> <a class=\"gb1\" href=\"https://mail.google.com/mail/?tab=wm\">Gmail</a> <a class=\"gb1\" href=\"https://drive.google.com/?tab=wo\">Drive</a> <a class=\"gb1\" href=\"https://www.google.com.br/intl/pt-BR/about/products?tab=wh\" style=\"text-decoration:none\"><u>Mais</u> »</a></nobr></div><div id=\"guser\" width=\"100%\"><nobr><span class=\"gbi\" id=\"gbn\"></span><span class=\"gbf\" id=\"gbf\"></span><span id=\"gbe\"></span><a class=\"gb4\" href=\"http://www.google.com.br/history/optout?hl=pt-BR\">Histórico da Web</a> | <a class=\"gb4\" href=\"/preferences?hl=pt-BR\">Configurações</a> | <a class=\"gb4\" href=\"https://accounts.google.com/ServiceLogin?hl=pt-BR&amp;passive=true&amp;continue=http://www.google.com/\" id=\"gb_70\" target=\"_top\">Fazer login</a></nobr></div><div class=\"gbh\" style=\"left:0\"></div><div class=\"gbh\" style=\"right:0\"></div> </div><center><br clear=\"all\" id=\"lgpd\"/><div id=\"lga\"><a href=\"/search?site=&amp;ie=UTF-8&amp;q=solst%C3%ADcio+de+ver%C3%A3o&amp;oi=ddle&amp;ct=summer-solstice-2018-southern-hemisphere-5452030255562752-law&amp;hl=pt-BR&amp;kgmid=/m/09gpr_j&amp;sa=X&amp;ved=0ahUKEwigpfaA77HfAhVDg5AKHZcsBFAQPQgD\"><img alt=\"Solstício de verão 2018\" border=\"0\" height=\"220\" id=\"hplogo\" onload=\"window.lol&amp;&amp;lol()\" src=\"/logos/doodles/2018/summer-solstice-2018-southern-hemisphere-5452030255562752-law.gif\" title=\"Solstício de verão 2018\" width=\"623\"/><br/></a><br/></div><form action=\"/search\" name=\"f\"><table cellpadding=\"0\" cellspacing=\"0\"><tr valign=\"top\"><td width=\"25%\"> </td><td align=\"center\" nowrap=\"\"><input name=\"ie\" type=\"hidden\" value=\"ISO-8859-1\"/><input name=\"hl\" type=\"hidden\" value=\"pt-BR\"/><input name=\"source\" type=\"hidden\" value=\"hp\"/><input name=\"biw\" type=\"hidden\"/><input name=\"bih\" type=\"hidden\"/><div class=\"ds\" style=\"height:32px;margin:4px 0\"><div style=\"position:relative;zoom:1\"><input autocomplete=\"off\" class=\"lst tiah\" maxlength=\"2048\" name=\"q\" size=\"57\" style=\"color:#000;margin:0;padding:5px 8px 0 6px;vertical-align:top;padding-right:38px\" title=\"Pesquisa Google\" value=\"\"/><img alt=\"\" height=\"23\" onclick=\"(function(){var src='/textinputassistant/11/pt-BR_tia.js';var s=document.createElement('script');s.src=src;(document.getElementById('xjsc')||document.body).appendChild(s);})();\" src=\"/textinputassistant/tia.png\" style=\"position:absolute;cursor:pointer;right:5px;top:4px;z-index:300\" width=\"27\"/></div></div><br style=\"line-height:0\"/><span class=\"ds\"><span class=\"lsbb\"><input class=\"lsb\" name=\"btnG\" type=\"submit\" value=\"Pesquisa Google\"/></span></span><span class=\"ds\"><span class=\"lsbb\"><input class=\"lsb\" name=\"btnI\" onclick=\"if(this.form.q.value)this.checked=1; else top.location='/doodles/'\" type=\"submit\" value=\"Estou com sorte\"/></span></span></td><td align=\"left\" class=\"fl sblc\" nowrap=\"\" width=\"25%\"><a href=\"/advanced_search?hl=pt-BR&amp;authuser=0\">Pesquisa avançada</a><a href=\"/language_tools?hl=pt-BR&amp;authuser=0\">Ferramentas de idioma</a></td></tr></table><input id=\"gbv\" name=\"gbv\" type=\"hidden\" value=\"1\"/><script nonce=\"GfV/Wv4pYxxkyf7e0Xa1nQ==\">(function(){var a,b=\"1\";if(document&&document.getElementById)if(\"undefined\"!=typeof XMLHttpRequest)b=\"2\";else if(\"undefined\"!=typeof ActiveXObject){var c,d,e=[\"MSXML2.XMLHTTP.6.0\",\"MSXML2.XMLHTTP.3.0\",\"MSXML2.XMLHTTP\",\"Microsoft.XMLHTTP\"];for(c=0;d=e[c++];)try{new ActiveXObject(d),b=\"2\"}catch(h){}}a=b;if(\"2\"==a&&-1==location.search.indexOf(\"&gbv=2\")){var f=google.gbvu,g=document.getElementById(\"gbv\");g&&(g.value=a);f&&window.setTimeout(function(){location.href=f},0)};}).call(this);</script></form><div id=\"gac_scont\"></div><div style=\"font-size:83%;min-height:3.5em\"><br/></div><span id=\"footer\"><div style=\"font-size:10pt\"><div id=\"fll\" style=\"margin:19px auto;text-align:center\"><a href=\"/intl/pt-BR/ads/\">Soluções de publicidade</a><a href=\"/services/\">Soluções empresariais</a><a href=\"https://plus.google.com/107558061013247958406\" rel=\"publisher\">+Google</a><a href=\"/intl/pt-BR/about.html\">Sobre o Google</a><a href=\"http://www.google.com/setprefdomain?prefdom=BR&amp;prev=http://www.google.com.br/&amp;sig=K_4StajlGyAjBT3suG9jO6GEYdToI%3D\">Google.com.br</a></div></div><p style=\"color:#767676;font-size:8pt\">© 2018 - <a href=\"/intl/pt-BR/policies/privacy/\">Privacidade</a> - <a href=\"/intl/pt-BR/policies/terms/\">Termos</a></p></span></center><script nonce=\"GfV/Wv4pYxxkyf7e0Xa1nQ==\">(function(){window.google.cdo={height:0,width:0};(function(){var a=window.innerWidth,b=window.innerHeight;if(!a||!b){var c=window.document,d=\"CSS1Compat\"==c.compatMode?c.documentElement:c.body;a=d.clientWidth;b=d.clientHeight}a&&b&&(a!=google.cdo.width||b!=google.cdo.height)&&google.log(\"\",\"\",\"/client_204?&atyp=i&biw=\"+a+\"&bih=\"+b+\"&ei=\"+google.kEI);}).call(this);})();(function(){var u='/xjs/_/js/k\\x3dxjs.hp.en.-PpIeOYp7rw.O/m\\x3dsb_he,d/am\\x3dYsAs/rt\\x3dj/d\\x3d1/rs\\x3dACT90oHak6Vea8_d5yZnUPgd2x9xqhMspg';var b={gen204:\"xjsls\",clearcut:31};setTimeout(function(){var a=document.createElement(\"script\");a.src=u;google.timers&&google.timers.load&&google.tick&&google.tick(\"load\",b);document.body.appendChild(a)},0);})();(function(){window.google.xjsu='/xjs/_/js/k\\x3dxjs.hp.en.-PpIeOYp7rw.O/m\\x3dsb_he,d/am\\x3dYsAs/rt\\x3dj/d\\x3d1/rs\\x3dACT90oHak6Vea8_d5yZnUPgd2x9xqhMspg';})();function _DumpException(e){throw e;}\n",
      "(function(){var pmc='{\\x22Qnk92g\\x22:{},\\x22U5B21g\\x22:{},\\x22YFCs/g\\x22:{},\\x22ZI/YVQ\\x22:{},\\x22d\\x22:{},\\x22sb_he\\x22:{\\x22agen\\x22:true,\\x22cgen\\x22:true,\\x22client\\x22:\\x22heirloom-hp\\x22,\\x22dh\\x22:true,\\x22dhqt\\x22:true,\\x22ds\\x22:\\x22\\x22,\\x22ffql\\x22:\\x22pt-BR\\x22,\\x22fl\\x22:true,\\x22host\\x22:\\x22google.com\\x22,\\x22isbh\\x22:28,\\x22jsonp\\x22:true,\\x22msgs\\x22:{\\x22cibl\\x22:\\x22Limpar pesquisa\\x22,\\x22dym\\x22:\\x22Você quis dizer:\\x22,\\x22lcky\\x22:\\x22Estou com sorte\\x22,\\x22lml\\x22:\\x22Saiba mais\\x22,\\x22oskt\\x22:\\x22Ferramentas de inserção de texto\\x22,\\x22psrc\\x22:\\x22Esta pesquisa foi removida do seu\\\\u003Ca href\\x3d\\\\\\x22/history\\\\\\x22\\\\u003EHistórico da web\\\\u003C/a\\\\u003E\\x22,\\x22psrl\\x22:\\x22Remover\\x22,\\x22sbit\\x22:\\x22Pesquisa por imagem\\x22,\\x22srch\\x22:\\x22Pesquisa Google\\x22},\\x22ovr\\x22:{},\\x22pq\\x22:\\x22\\x22,\\x22refpd\\x22:true,\\x22rfs\\x22:[],\\x22sbpl\\x22:24,\\x22sbpr\\x22:24,\\x22scd\\x22:10,\\x22sce\\x22:5,\\x22stok\\x22:\\x22LD4doRfW2xPytuKfYGHli1Rx1MM\\x22,\\x22uhde\\x22:false}}';google.pmc=JSON.parse(pmc);})();(function(){var r=['aa','async','ipv6','mu','sf'];google.plm(r);})();</script> </body></html>\n"
     ]
    }
   ],
   "source": [
    "print(soup)"
   ]
  },
  {
   "cell_type": "markdown",
   "metadata": {},
   "source": [
    "***"
   ]
  },
  {
   "cell_type": "code",
   "execution_count": 8,
   "metadata": {},
   "outputs": [],
   "source": [
    "with open('arquivo.html', 'r') as file:\n",
    "    soup_string = BeautifulSoup(file.read(), 'html5lib')"
   ]
  },
  {
   "cell_type": "code",
   "execution_count": 9,
   "metadata": {},
   "outputs": [
    {
     "name": "stdout",
     "output_type": "stream",
     "text": [
      "<!DOCTYPE html>\n",
      "<html lang=\"pt_BR\"><head>\n",
      "    <title>Exemplo Bootstrap</title>\n",
      "    <meta charset=\"utf-8\"/>\n",
      "    <meta content=\"width=device-width, initial-scale=1\" name=\"viewport\"/>\n",
      "    <link href=\"https://maxcdn.bootstrapcdn.com/bootstrap/3.3.7/css/bootstrap.min.css\" rel=\"stylesheet\"/>\n",
      "    <script src=\"https://ajax.googleapis.com/ajax/libs/jquery/3.3.1/jquery.min.js\"></script>\n",
      "    <script src=\"https://maxcdn.bootstrapcdn.com/bootstrap/3.3.7/js/bootstrap.min.js\"></script>\n",
      "  </head>\n",
      "  <body>\n",
      "    <div class=\"container\">\n",
      "      <h1>\n",
      "          Meu projeto em Bootstrap\n",
      "      </h1>\n",
      "      <p>\n",
      "        Lorem ipsum dolor sit amet, consectetur adipiscing elit. Etiam id ornare odio, eu tincidunt massa.\n",
      "        In eget lorem augue. Sed auctor lacinia enim eu volutpat. Etiam sed massa dapibus, egestas ligula vel,\n",
      "        vulputate ex. Sed efficitur enim ac enim pharetra consequat. Pellentesque ante lorem, tempor eu ex in,\n",
      "        tincidunt pharetra diam. Sed ut mi iaculis, condimentum neque nec, cursus massa. Mauris ligula risus\n",
      "        euismod sit amet aliquam ut, consequat sit amet orci. Suspendisse vestibulum pellentesque metus\n",
      "        ultrices aliquam orci ullamcorper eget. Suspendisse a mattis felis.\n",
      "\n",
      "        <b>Sed</b> imperdiet metus nec dui aliquet, sed sollicitudin augue dictum. Sed et condimentum risus, id luctus eros.\n",
      "        Phasellus vehicula, enim vel posuere gravida, felis massa volutpat mi, id euismod mi lorem non libero. Orci varius\n",
      "        natoque penatibus et magnis dis parturient montes, nascetur ridiculus mus. Nam volutpat porttitor ligula si\n",
      "        amet ultricies. Sed mi tortor, finibus sit amet viverra non, volutpat ut ipsum. Curabitur lacinia tellus ne\n",
      "        auctor feugiat. Donec semper pretium tempus. Sed quis fringilla elit. Vestibulum velit dui, varius eu nequ\n",
      "        auctor, feugiat ornare ligula. Proin scelerisque nisl id enim tempus facilisis. Donec eu malesuada felis\n",
      "        Suspendisse velit urna, pellentesque eu lectus sit amet, varius porttitor nunc\n",
      "      </p>\n",
      "      <a href=\"http://www.google.com\">Google</a>\n",
      "      <table class=\"table table-hover\">\n",
      "        <thead>\n",
      "          <tr>\n",
      "            <th>Nome</th>\n",
      "            <th>Sobrenome</th>\n",
      "            <th class=\"email\">Email</th>\n",
      "          </tr>\n",
      "        </thead>\n",
      "        <tbody>\n",
      "          <tr>\n",
      "            <td>John</td>\n",
      "            <td>Doe</td>\n",
      "            <td class=\"email\">john@example.com</td>\n",
      "          </tr>\n",
      "          <tr>\n",
      "            <td>Mary</td>\n",
      "            <td>Moe</td>\n",
      "            <td class=\"email\">mary@example.com</td>\n",
      "          </tr>\n",
      "          <tr>\n",
      "            <td>July</td>\n",
      "            <td>Dooley</td>\n",
      "            <td class=\"email\">july@example.com</td>\n",
      "          </tr>\n",
      "        </tbody>\n",
      "      </table>\n",
      "    </div>\n",
      "  \n",
      "</body></html>\n"
     ]
    }
   ],
   "source": [
    "print(soup_string)"
   ]
  }
 ],
 "metadata": {
  "kernelspec": {
   "display_name": "Python 3",
   "language": "python",
   "name": "python3"
  },
  "language_info": {
   "codemirror_mode": {
    "name": "ipython",
    "version": 3
   },
   "file_extension": ".py",
   "mimetype": "text/x-python",
   "name": "python",
   "nbconvert_exporter": "python",
   "pygments_lexer": "ipython3",
   "version": "3.5.2"
  }
 },
 "nbformat": 4,
 "nbformat_minor": 2
}
