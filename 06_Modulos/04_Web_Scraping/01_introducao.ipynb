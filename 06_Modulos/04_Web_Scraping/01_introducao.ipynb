{
 "cells": [
  {
   "cell_type": "markdown",
   "metadata": {},
   "source": [
    "## Web Scraping\n",
    "***"
   ]
  },
  {
   "cell_type": "markdown",
   "metadata": {},
   "source": [
    "Um web scraping é uma API para extrair dados de um web site. Por exemplo, você quer pegar os moveis de uma determinada localidade que estão a venda no site da OLX. E armazena-los no seu banco de dados.\n",
    "\n",
    "### API\n",
    "\n",
    "API é um conjunto de rotinas e padrões de programação para acesso a um aplicativo de software ou plataforma baseado na Web. Em pagamentos online, as APIs permitem executar pagamentos e transferências sem sair do site da loja ou fornecedor de serviços, por exemplo, o comprador não precisa colocar os dados do cartão de crédito no site da loja para realizar a compra, mas apenas o usuário e senha do pagseguro autorizando a compra.\n",
    "\n",
    "### Estruturas de páginas web\n",
    "\n",
    "A WWW (World Wide Web) é um aplicativo desenvolvido para permitir que pessoas compartilhem informações sobre a internet.\n",
    "\n",
    "O Browser são os navegadores que é utilizado para visualizar os arquivos HTML, CSS e JS, por exemplo, Firefox e Google Chrome.\n",
    "\n",
    "As páginas web são um meio de tornar documentos disponíveis a qualquer um na internet. Por meio de linguagens de marcação como HTML e CSS e linguagem de programação Javascript.\n",
    "\n",
    "### Beautiful Soup\n",
    "\n",
    "É uma biblioteca python projetada para facilitar a extração de dados nos documentos html e xml.\n",
    "\n",
    "* Fornece alguns métodos simples e expressões pythonicas para navegar, pesquisar e modificar uma árvore de análise.\n",
    "\n",
    "* Converte automaticamente documentos de entrada para Unicode e documentos de saída para UTF-8\n",
    "\n",
    "* Utiliza-se bibliotecas html parse lxml, html5lib, permitindo-lhe experimentar estratégias de análise diferentes ou velocidade comercial para a flexibilidade.\n",
    "\n",
    "* Bastante robusta para trabalhar com html/xml mal formatado.\n",
    "\n",
    "#### Parser\n",
    "\n",
    "Parser é um analisador sintático e sua função é ler uma entrada de dados que possui certas regras especificas e montar uma estrutura de como é sua composição.\n",
    "\n",
    "|Parser|Modo de uso|Vantagem|Desvantagem|Tecnologia|\n",
    "|------|-----------|--------|-----------|----------|\n",
    "|html.parser|BeautifulSoup(markup, \"html.parser\")|Biblioteca inclusa e velocidade moderada|N/A|Padrão|\n",
    "|lxml|BeautifulSoup(markup, \"lxml\")<br />BeautifulSoup(markup, \"lxml-xml\")<br />BeautifulSoup(markup, \"xml\")|Rápida, Suporta XML|Dependência externa|C|\n",
    "|html5lib|BeautifulSoup(markup, \"html5lib\")|Análisa páginas da mesma forma que um browser e cria HTML5 válido|Lenta e tem dependência externa|Python|\n",
    "\n",
    "O mais recomendado é usar o **lxml**, já que foi feito em C o tornando extremamente rápido.\n",
    "\n",
    "#### Instalação:\n",
    "\n",
    "```\n",
    "pip install beautifulsoup4\n",
    "```"
   ]
  },
  {
   "cell_type": "markdown",
   "metadata": {},
   "source": [
    "***"
   ]
  },
  {
   "cell_type": "code",
   "execution_count": 1,
   "metadata": {},
   "outputs": [],
   "source": [
    "from bs4 import BeautifulSoup"
   ]
  },
  {
   "cell_type": "code",
   "execution_count": 2,
   "metadata": {},
   "outputs": [],
   "source": [
    "with open('arquivo.html', 'r') as file:\n",
    "    soup_string = BeautifulSoup(file.read(), 'html.parser')"
   ]
  },
  {
   "cell_type": "code",
   "execution_count": 3,
   "metadata": {},
   "outputs": [
    {
     "name": "stdout",
     "output_type": "stream",
     "text": [
      "<!DOCTYPE html>\n",
      "\n",
      "<html lang=\"pt_BR\">\n",
      "<head>\n",
      "<title>Exemplo Bootstrap</title>\n",
      "<meta charset=\"utf-8\"/>\n",
      "<meta content=\"width=device-width, initial-scale=1\" name=\"viewport\"/>\n",
      "<link href=\"https://maxcdn.bootstrapcdn.com/bootstrap/3.3.7/css/bootstrap.min.css\" rel=\"stylesheet\"/>\n",
      "<script src=\"https://ajax.googleapis.com/ajax/libs/jquery/3.3.1/jquery.min.js\"></script>\n",
      "<script src=\"https://maxcdn.bootstrapcdn.com/bootstrap/3.3.7/js/bootstrap.min.js\"></script>\n",
      "</head>\n",
      "<body>\n",
      "<div class=\"container\">\n",
      "<h1>\n",
      "          Meu projeto em Bootstrap\n",
      "      </h1>\n",
      "<p>\n",
      "        Lorem ipsum dolor sit amet, consectetur adipiscing elit. Etiam id ornare odio, eu tincidunt massa.\n",
      "        In eget lorem augue. Sed auctor lacinia enim eu volutpat. Etiam sed massa dapibus, egestas ligula vel,\n",
      "        vulputate ex. Sed efficitur enim ac enim pharetra consequat. Pellentesque ante lorem, tempor eu ex in,\n",
      "        tincidunt pharetra diam. Sed ut mi iaculis, condimentum neque nec, cursus massa. Mauris ligula risus\n",
      "        euismod sit amet aliquam ut, consequat sit amet orci. Suspendisse vestibulum pellentesque metus\n",
      "        ultrices aliquam orci ullamcorper eget. Suspendisse a mattis felis.\n",
      "\n",
      "        <b>Sed</b> imperdiet metus nec dui aliquet, sed sollicitudin augue dictum. Sed et condimentum risus, id luctus eros.\n",
      "        Phasellus vehicula, enim vel posuere gravida, felis massa volutpat mi, id euismod mi lorem non libero. Orci varius\n",
      "        natoque penatibus et magnis dis parturient montes, nascetur ridiculus mus. Nam volutpat porttitor ligula si\n",
      "        amet ultricies. Sed mi tortor, finibus sit amet viverra non, volutpat ut ipsum. Curabitur lacinia tellus ne\n",
      "        auctor feugiat. Donec semper pretium tempus. Sed quis fringilla elit. Vestibulum velit dui, varius eu nequ\n",
      "        auctor, feugiat ornare ligula. Proin scelerisque nisl id enim tempus facilisis. Donec eu malesuada felis\n",
      "        Suspendisse velit urna, pellentesque eu lectus sit amet, varius porttitor nunc\n",
      "      </p>\n",
      "<a href=\"http://www.google.com\" id=\"site\">\n",
      "<span class=\"no-decoration\">Google</span>\n",
      "</a>\n",
      "<table class=\"table table-hover\">\n",
      "<thead>\n",
      "<tr>\n",
      "<th>Nome</th>\n",
      "<th>Sobrenome</th>\n",
      "<th class=\"email\">Email</th>\n",
      "</tr>\n",
      "</thead>\n",
      "<tbody>\n",
      "<tr id=\"menino-john\">\n",
      "<td id=\"john\">John</td>\n",
      "<td>Doe</td>\n",
      "<td class=\"email\">john@example.com</td>\n",
      "</tr>\n",
      "<tr>\n",
      "<td id=\"mary\">Mary</td>\n",
      "<td>Moe</td>\n",
      "<td class=\"email\">mary@example.com</td>\n",
      "</tr>\n",
      "<tr>\n",
      "<td id=\"july\">July</td>\n",
      "<td>Dooley</td>\n",
      "<td class=\"email\">july@example.com</td>\n",
      "</tr>\n",
      "<tr>\n",
      "<td id=\"mary\">Cris</td>\n",
      "<td>Moe</td>\n",
      "<td class=\"email\">cris@example.com</td>\n",
      "</tr>\n",
      "</tbody>\n",
      "</table>\n",
      "</div>\n",
      "</body>\n",
      "</html>\n"
     ]
    }
   ],
   "source": [
    "print(soup_string)"
   ]
  },
  {
   "cell_type": "markdown",
   "metadata": {},
   "source": [
    "***"
   ]
  },
  {
   "cell_type": "code",
   "execution_count": 4,
   "metadata": {},
   "outputs": [],
   "source": [
    "import requests"
   ]
  },
  {
   "cell_type": "code",
   "execution_count": 5,
   "metadata": {},
   "outputs": [],
   "source": [
    "request = requests.get(\"http://www.google.com\")"
   ]
  },
  {
   "cell_type": "code",
   "execution_count": 6,
   "metadata": {},
   "outputs": [],
   "source": [
    "soup = BeautifulSoup(request.text, 'lxml')"
   ]
  },
  {
   "cell_type": "code",
   "execution_count": 7,
   "metadata": {},
   "outputs": [
    {
     "name": "stdout",
     "output_type": "stream",
     "text": [
      "<!DOCTYPE html>\n",
      "<html itemscope=\"\" itemtype=\"http://schema.org/WebPage\" lang=\"pt-BR\"><head><meta content=\"text/html; charset=utf-8\" http-equiv=\"Content-Type\"/><meta content=\"/logos/doodles/2020/thank-you-public-health-workers-and-to-researchers-in-the-scientific-community-6753651837108753-law.gif\" itemprop=\"image\"/><meta content=\"A todos os profissionais da saúde e aos pesquisadores da comunidade científica, obrigado \" property=\"twitter:title\"/><meta content=\"A todos os profissionais da saúde e aos pesquisadores da comunidade científica, obrigado #GoogleDoodle #profissionaisdasaude\" property=\"twitter:description\"/><meta content=\"A todos os profissionais da saúde e aos pesquisadores da comunidade científica, obrigado #GoogleDoodle #profissionaisdasaude\" property=\"og:description\"/><meta content=\"summary_large_image\" property=\"twitter:card\"/><meta content=\"@GoogleDoodles\" property=\"twitter:site\"/><meta content=\"https://www.google.com/logos/doodles/2020/thank-you-public-health-workers-and-to-researchers-in-the-scientific-community-6753651837108753.3-2xa.gif\" property=\"twitter:image\"/><meta content=\"https://www.google.com/logos/doodles/2020/thank-you-public-health-workers-and-to-researchers-in-the-scientific-community-6753651837108753.3-2xa.gif\" property=\"og:image\"/><meta content=\"1380\" property=\"og:image:width\"/><meta content=\"448\" property=\"og:image:height\"/><meta content=\"https://www.google.com/logos/doodles/2020/thank-you-public-health-workers-and-to-researchers-in-the-scientific-community-6753651837108753.3-2xa.gif\" property=\"og:url\"/><meta content=\"video.other\" property=\"og:type\"/><title>Google</title><script nonce=\"zPZm13l5ePsb0i8+kUXpjA==\">(function(){window.google={kEI:'5s-KXtWuCLjW5OUP2dSmMA',kEXPI:'0,202123,3,1151621,5662,730,224,3657,1447,207,3204,10,1051,175,364,1435,4,60,817,383,246,5,623,144,243,5,4,335,436,332,5,40,103,5,495,417956,708394,1197731,293,125,329118,1294,12383,4855,32692,15247,867,17444,1953,9287,364,8824,8384,4859,1361,9291,3021,4746,3119,4881,3033,1808,4020,978,7931,5295,2056,920,873,1216,1715,1,1260,6430,11306,2883,17,321,4517,2778,520,399,2277,8,2796,887,706,1279,2212,194,336,149,1103,327,514,516,1474,48,820,3438,108,204,1137,2,2063,606,1839,184,1733,43,521,1947,747,1462,113,328,1284,16,2927,2246,474,1339,748,1039,3227,773,2072,7,817,4782,2034,6513,2662,642,605,1845,2458,1226,1462,3934,1275,108,3407,908,2,1473,321,242,1519,2132,261,4,12,2881,2077,449,226,995,830,229,10,601,480,606,1349,3,547,29,156,814,183,562,120,2,370,1639,491,1416,440,266,149,189,3312,909,1580,28,201,247,911,67,525,273,121,1870,415,192,1344,47,120,872,183,569,4,1117,25,386,17,125,179,110,209,301,70,4,660,629,152,57,125,483,141,68,188,24,269,598,276,395,2,8,41,64,437,628,5,216,2,71,10,113,42,5,226,435,824,498,59,454,14,25,291,1011,88,355,130,137,112,756,214,5830422,3276,1802618,4194805,2801217,549,333,444,1,2,80,1,900,896,1,8,1,2,2551,1,748,141,59,736,563,1,4265,1,1,1,1,137,1,1193,722,450,229,3,5,7,4,1,15,2,2,1,1,1,2,11,4,1,1,1,5,3,2,3,7,2,1,1,1,1,4,1,10,1,3,23962895,25',kBL:'-KLY'};google.sn='webhp';google.kHL='pt-BR';})();(function(){google.lc=[];google.li=0;google.getEI=function(a){for(var c;a&&(!a.getAttribute||!(c=a.getAttribute(\"eid\")));)a=a.parentNode;return c||google.kEI};google.getLEI=function(a){for(var c=null;a&&(!a.getAttribute||!(c=a.getAttribute(\"leid\")));)a=a.parentNode;return c};google.ml=function(){return null};google.time=function(){return Date.now()};google.log=function(a,c,b,d,g){if(b=google.logUrl(a,c,b,d,g)){a=new Image;var e=google.lc,f=google.li;e[f]=a;a.onerror=a.onload=a.onabort=function(){delete e[f]};google.vel&&google.vel.lu&&google.vel.lu(b);a.src=b;google.li=f+1}};google.logUrl=function(a,c,b,d,g){var e=\"\",f=google.ls||\"\";b||-1!=c.search(\"&ei=\")||(e=\"&ei=\"+google.getEI(d),-1==c.search(\"&lei=\")&&(d=google.getLEI(d))&&(e+=\"&lei=\"+d));d=\"\";!b&&google.cshid&&-1==c.search(\"&cshid=\")&&\"slh\"!=a&&(d=\"&cshid=\"+google.cshid);b=b||\"/\"+(g||\"gen_204\")+\"?atyp=i&ct=\"+a+\"&cad=\"+c+e+f+\"&zx=\"+google.time()+d;/^http:/i.test(b)&&\"https:\"==window.location.protocol&&(google.ml(Error(\"a\"),!1,{src:b,glmm:1}),b=\"\");return b};}).call(this);(function(){google.y={};google.x=function(a,b){if(a)var c=a.id;else{do c=Math.random();while(google.y[c])}google.y[c]=[a,b];return!1};google.lm=[];google.plm=function(a){google.lm.push.apply(google.lm,a)};google.lq=[];google.load=function(a,b,c){google.lq.push([[a],b,c])};google.loadAll=function(a,b){google.lq.push([a,b])};}).call(this);google.f={};(function(){\n",
      "document.documentElement.addEventListener(\"submit\",function(b){var a;if(a=b.target){var c=a.getAttribute(\"data-submitfalse\");a=\"1\"==c||\"q\"==c&&!a.elements.q.value?!0:!1}else a=!1;a&&(b.preventDefault(),b.stopPropagation())},!0);document.documentElement.addEventListener(\"click\",function(b){var a;a:{for(a=b.target;a&&a!=document.documentElement;a=a.parentElement)if(\"A\"==a.tagName){a=\"1\"==a.getAttribute(\"data-nohref\");break a}a=!1}a&&b.preventDefault()},!0);}).call(this);\n",
      "var a=window.location,b=a.href.indexOf(\"#\");if(0<=b){var c=a.href.substring(b+1);/(^|&)q=/.test(c)&&-1==c.indexOf(\"#\")&&a.replace(\"/search?\"+c.replace(/(^|&)fp=[^&]*/g,\"\")+\"&cad=h\")};</script><style>#gbar,#guser{font-size:13px;padding-top:1px !important;}#gbar{height:22px}#guser{padding-bottom:7px !important;text-align:right}.gbh,.gbd{border-top:1px solid #c9d7f1;font-size:1px}.gbh{height:0;position:absolute;top:24px;width:100%}@media all{.gb1{height:22px;margin-right:.5em;vertical-align:top}#gbar{float:left}}a.gb1,a.gb4{text-decoration:underline !important}a.gb1,a.gb4{color:#00c !important}.gbi .gb4{color:#dd8e27 !important}.gbf .gb4{color:#900 !important}\n",
      "</style><style>body,td,a,p,.h{font-family:arial,sans-serif}body{margin:0;overflow-y:scroll}#gog{padding:3px 8px 0}td{line-height:.8em}.gac_m td{line-height:17px}form{margin-bottom:20px}.h{color:#36c}.q{color:#00c}.ts td{padding:0}.ts{border-collapse:collapse}em{font-weight:bold;font-style:normal}.lst{height:25px;width:496px}.gsfi,.lst{font:18px arial,sans-serif}.gsfs{font:17px arial,sans-serif}.ds{display:inline-box;display:inline-block;margin:3px 0 4px;margin-left:4px}input{font-family:inherit}body{background:#fff;color:#000}a{color:#11c;text-decoration:none}a:hover,a:active{text-decoration:underline}.fl a{color:#36c}a:visited{color:#551a8b}.sblc{padding-top:5px}.sblc a{display:block;margin:2px 0;margin-left:13px;font-size:11px}.lsbb{background:#eee;border:solid 1px;border-color:#ccc #999 #999 #ccc;height:30px}.lsbb{display:block}.ftl,#fll a{display:inline-block;margin:0 12px}.lsb{background:url(/images/nav_logo229.png) 0 -261px repeat-x;border:none;color:#000;cursor:pointer;height:30px;margin:0;outline:0;font:15px arial,sans-serif;vertical-align:top}.lsb:active{background:#ccc}.lst:focus{outline:none}.tiah{width:458px}</style><script nonce=\"zPZm13l5ePsb0i8+kUXpjA==\"></script></head><body bgcolor=\"#fff\"><script nonce=\"zPZm13l5ePsb0i8+kUXpjA==\">(function(){var src='/images/nav_logo229.png';var iesg=false;document.body.onload = function(){window.n && window.n();if (document.images){new Image().src=src;}\n",
      "if (!iesg){document.f&&document.f.q.focus();document.gbqf&&document.gbqf.q.focus();}\n",
      "}\n",
      "})();</script><div id=\"mngb\"> <div id=\"gbar\"><nobr><b class=\"gb1\">Pesquisa</b> <a class=\"gb1\" href=\"http://www.google.com.br/imghp?hl=pt-BR&amp;tab=wi\">Imagens</a> <a class=\"gb1\" href=\"http://maps.google.com.br/maps?hl=pt-BR&amp;tab=wl\">Maps</a> <a class=\"gb1\" href=\"https://play.google.com/?hl=pt-BR&amp;tab=w8\">Play</a> <a class=\"gb1\" href=\"http://www.youtube.com/?gl=BR&amp;tab=w1\">YouTube</a> <a class=\"gb1\" href=\"http://news.google.com.br/nwshp?hl=pt-BR&amp;tab=wn\">Notícias</a> <a class=\"gb1\" href=\"https://mail.google.com/mail/?tab=wm\">Gmail</a> <a class=\"gb1\" href=\"https://drive.google.com/?tab=wo\">Drive</a> <a class=\"gb1\" href=\"https://www.google.com.br/intl/pt-BR/about/products?tab=wh\" style=\"text-decoration:none\"><u>Mais</u> »</a></nobr></div><div id=\"guser\" width=\"100%\"><nobr><span class=\"gbi\" id=\"gbn\"></span><span class=\"gbf\" id=\"gbf\"></span><span id=\"gbe\"></span><a class=\"gb4\" href=\"http://www.google.com.br/history/optout?hl=pt-BR\">Histórico da Web</a> | <a class=\"gb4\" href=\"/preferences?hl=pt-BR\">Configurações</a> | <a class=\"gb4\" href=\"https://accounts.google.com/ServiceLogin?hl=pt-BR&amp;passive=true&amp;continue=http://www.google.com/\" id=\"gb_70\" target=\"_top\">Fazer login</a></nobr></div><div class=\"gbh\" style=\"left:0\"></div><div class=\"gbh\" style=\"right:0\"></div> </div><center><br clear=\"all\" id=\"lgpd\"/><div id=\"lga\"><a href=\"/search?ie=UTF-8&amp;q=coronavirus&amp;oi=ddle&amp;ct=153128792&amp;hl=pt-BR&amp;sa=X&amp;ved=0ahUKEwjVuaXWmdPoAhU4K7kGHVmqCQYQPQgD\"><img alt=\"A todos os profissionais da saúde e aos pesquisadores da comunidade científica, obrigado \" border=\"0\" height=\"215\" id=\"hplogo\" src=\"/logos/doodles/2020/thank-you-public-health-workers-and-to-researchers-in-the-scientific-community-6753651837108753-law.gif\" title=\"A todos os profissionais da saúde e aos pesquisadores da comunidade científica, obrigado \" width=\"700\"/><br/></a><br/></div><form action=\"/search\" name=\"f\"><table cellpadding=\"0\" cellspacing=\"0\"><tr valign=\"top\"><td width=\"25%\"> </td><td align=\"center\" nowrap=\"\"><input name=\"ie\" type=\"hidden\" value=\"ISO-8859-1\"/><input name=\"hl\" type=\"hidden\" value=\"pt-BR\"/><input name=\"source\" type=\"hidden\" value=\"hp\"/><input name=\"biw\" type=\"hidden\"/><input name=\"bih\" type=\"hidden\"/><div class=\"ds\" style=\"height:32px;margin:4px 0\"><div style=\"position:relative;zoom:1\"><input autocomplete=\"off\" class=\"lst tiah\" maxlength=\"2048\" name=\"q\" size=\"57\" style=\"margin:0;padding:5px 8px 0 6px;vertical-align:top;color:#000;padding-right:38px\" title=\"Pesquisa Google\" value=\"\"/><img alt=\"\" data-script-url=\"/textinputassistant/11/pt-BR_tia.js\" height=\"23\" id=\"tsuid1\" src=\"/textinputassistant/tia.png\" style=\"position:absolute;cursor:pointer;right:5px;top:4px;z-index:300\" width=\"27\"/><script nonce=\"zPZm13l5ePsb0i8+kUXpjA==\">(function(){var id='tsuid1';document.getElementById(id).onclick = function(){var s = document.createElement('script');s.src = this.getAttribute('data-script-url');(document.getElementById('xjsc')||document.body).appendChild(s);};})();</script></div></div><br style=\"line-height:0\"/><span class=\"ds\"><span class=\"lsbb\"><input class=\"lsb\" name=\"btnG\" type=\"submit\" value=\"Pesquisa Google\"/></span></span><span class=\"ds\"><span class=\"lsbb\"><input class=\"lsb\" id=\"tsuid2\" name=\"btnI\" type=\"submit\" value=\"Estou com sorte\"/><script nonce=\"zPZm13l5ePsb0i8+kUXpjA==\">(function(){var id='tsuid2';document.getElementById(id).onclick = function(){if (this.form.q.value){this.checked = 1;if (this.form.iflsig)this.form.iflsig.disabled = false;}\n",
      "else top.location='/doodles/';};})();</script><input name=\"iflsig\" type=\"hidden\" value=\"AINFCbYAAAAAXord9phLmx2sF1TizIm1fgKVQKu2rAOr\"/></span></span></td><td align=\"left\" class=\"fl sblc\" nowrap=\"\" width=\"25%\"><a href=\"/advanced_search?hl=pt-BR&amp;authuser=0\">Pesquisa avançada</a></td></tr></table><input id=\"gbv\" name=\"gbv\" type=\"hidden\" value=\"1\"/><script nonce=\"zPZm13l5ePsb0i8+kUXpjA==\">(function(){var a,b=\"1\";if(document&&document.getElementById)if(\"undefined\"!=typeof XMLHttpRequest)b=\"2\";else if(\"undefined\"!=typeof ActiveXObject){var c,d,e=[\"MSXML2.XMLHTTP.6.0\",\"MSXML2.XMLHTTP.3.0\",\"MSXML2.XMLHTTP\",\"Microsoft.XMLHTTP\"];for(c=0;d=e[c++];)try{new ActiveXObject(d),b=\"2\"}catch(h){}}a=b;if(\"2\"==a&&-1==location.search.indexOf(\"&gbv=2\")){var f=google.gbvu,g=document.getElementById(\"gbv\");g&&(g.value=a);f&&window.setTimeout(function(){location.href=f},0)};}).call(this);</script></form><div id=\"gac_scont\"></div><div style=\"font-size:83%;min-height:3.5em\"><br/><div id=\"prm\"><style>.szppmdbYutt__middle-slot-promo{font-size:small;margin-bottom:32px}.szppmdbYutt__middle-slot-promo a.ZIeIlb{display:inline-block;text-decoration:none}.szppmdbYutt__middle-slot-promo img{border:none;margin-right:5px;vertical-align:middle}</style><div class=\"szppmdbYutt__middle-slot-promo\" data-ved=\"0ahUKEwjVuaXWmdPoAhU4K7kGHVmqCQYQnIcBCAQ\"><a class=\"NKcBbd\" href=\"https://www.google.com/url?q=https://smallbusiness.withgoogle.com/intl/pt-BR_br/news/resources-for-smbs-impacted-by-coronavirus/%3Futm_source%3Dgoogle%26utm_medium%3Dhpp%26utm_campaign%3Dcoronavirus&amp;source=hpp&amp;id=19017078&amp;ct=3&amp;usg=AFQjCNFLbt0bhasMnkfxWDbuKtNjxBbmXA&amp;sa=X&amp;ved=0ahUKEwjVuaXWmdPoAhU4K7kGHVmqCQYQ8IcBCAU\" rel=\"nofollow\">Recursos para ajudar seu negócio a se manter conectado com clientes e funcionários</a></div></div></div><span id=\"footer\"><div style=\"font-size:10pt\"><div id=\"fll\" style=\"margin:19px auto;text-align:center\"><a href=\"/intl/pt-BR/ads/\">Soluções de publicidade</a><a href=\"/services/\">Soluções empresariais</a><a href=\"/intl/pt-BR/about.html\">Sobre o Google</a><a href=\"http://www.google.com/setprefdomain?prefdom=BR&amp;prev=http://www.google.com.br/&amp;sig=K_w9m4OEVLN7PILmkl_BD5eU1hdtU%3D\">Google.com.br</a></div></div><p style=\"font-size:8pt;color:#767676\">© 2020 - <a href=\"/intl/pt-BR/policies/privacy/\">Privacidade</a> - <a href=\"/intl/pt-BR/policies/terms/\">Termos</a></p></span></center><script nonce=\"zPZm13l5ePsb0i8+kUXpjA==\">(function(){window.google.cdo={height:0,width:0};(function(){var a=window.innerWidth,b=window.innerHeight;if(!a||!b){var c=window.document,d=\"CSS1Compat\"==c.compatMode?c.documentElement:c.body;a=d.clientWidth;b=d.clientHeight}a&&b&&(a!=google.cdo.width||b!=google.cdo.height)&&google.log(\"\",\"\",\"/client_204?&atyp=i&biw=\"+a+\"&bih=\"+b+\"&ei=\"+google.kEI);}).call(this);})();(function(){var u='/xjs/_/js/k\\x3dxjs.hp.en.Z9GXM1WQNCo.O/m\\x3dsb_he,d/am\\x3dAAMCbAQ/d\\x3d1/rs\\x3dACT90oHzsANym_O9pyPQsJs2gvPdWWoEsQ';\n",
      "setTimeout(function(){var b=document;var a=\"SCRIPT\";\"application/xhtml+xml\"===b.contentType&&(a=a.toLowerCase());a=b.createElement(a);a.src=u;google.timers&&google.timers.load&&google.tick&&google.tick(\"load\",\"xjsls\");document.body.appendChild(a)},0);})();(function(){window.google.xjsu='/xjs/_/js/k\\x3dxjs.hp.en.Z9GXM1WQNCo.O/m\\x3dsb_he,d/am\\x3dAAMCbAQ/d\\x3d1/rs\\x3dACT90oHzsANym_O9pyPQsJs2gvPdWWoEsQ';})();function _DumpException(e){throw e;}\n",
      "function _F_installCss(c){}\n",
      "(function(){google.spjs=false;google.snet=true;google.em=[];google.emw=false;google.pdt=0;})();(function(){var pmc='{\\x22d\\x22:{},\\x22sb_he\\x22:{\\x22agen\\x22:true,\\x22cgen\\x22:true,\\x22client\\x22:\\x22heirloom-hp\\x22,\\x22dh\\x22:true,\\x22dhqt\\x22:true,\\x22ds\\x22:\\x22\\x22,\\x22ffql\\x22:\\x22pt-BR\\x22,\\x22fl\\x22:true,\\x22host\\x22:\\x22google.com\\x22,\\x22isbh\\x22:28,\\x22jsonp\\x22:true,\\x22msgs\\x22:{\\x22cibl\\x22:\\x22Limpar pesquisa\\x22,\\x22dym\\x22:\\x22Você quis dizer:\\x22,\\x22lcky\\x22:\\x22Estou com sorte\\x22,\\x22lml\\x22:\\x22Saiba mais\\x22,\\x22oskt\\x22:\\x22Ferramentas de inserção de texto\\x22,\\x22psrc\\x22:\\x22Esta pesquisa foi removida do seu\\\\u003Ca href\\x3d\\\\\\x22/history\\\\\\x22\\\\u003EHistórico da web\\\\u003C/a\\\\u003E\\x22,\\x22psrl\\x22:\\x22Remover\\x22,\\x22sbit\\x22:\\x22Pesquisa por imagem\\x22,\\x22srch\\x22:\\x22Pesquisa Google\\x22},\\x22ovr\\x22:{},\\x22pq\\x22:\\x22\\x22,\\x22refpd\\x22:true,\\x22rfs\\x22:[],\\x22sbpl\\x22:16,\\x22sbpr\\x22:16,\\x22scd\\x22:10,\\x22stok\\x22:\\x22Yg8czBf8xJYjxR8CJOihM3gPjyU\\x22,\\x22uhde\\x22:false}}';google.pmc=JSON.parse(pmc);})();</script> </body></html>\n"
     ]
    }
   ],
   "source": [
    "print(soup)"
   ]
  },
  {
   "cell_type": "markdown",
   "metadata": {},
   "source": [
    "***"
   ]
  },
  {
   "cell_type": "code",
   "execution_count": 8,
   "metadata": {},
   "outputs": [],
   "source": [
    "with open('arquivo.html', 'r') as file:\n",
    "    soup_string = BeautifulSoup(file.read(), 'html5lib')"
   ]
  },
  {
   "cell_type": "code",
   "execution_count": 9,
   "metadata": {},
   "outputs": [
    {
     "name": "stdout",
     "output_type": "stream",
     "text": [
      "<!DOCTYPE html>\n",
      "<html lang=\"pt_BR\"><head>\n",
      "    <title>Exemplo Bootstrap</title>\n",
      "    <meta charset=\"utf-8\"/>\n",
      "    <meta content=\"width=device-width, initial-scale=1\" name=\"viewport\"/>\n",
      "    <link href=\"https://maxcdn.bootstrapcdn.com/bootstrap/3.3.7/css/bootstrap.min.css\" rel=\"stylesheet\"/>\n",
      "    <script src=\"https://ajax.googleapis.com/ajax/libs/jquery/3.3.1/jquery.min.js\"></script>\n",
      "    <script src=\"https://maxcdn.bootstrapcdn.com/bootstrap/3.3.7/js/bootstrap.min.js\"></script>\n",
      "  </head>\n",
      "  <body>\n",
      "    <div class=\"container\">\n",
      "      <h1>\n",
      "          Meu projeto em Bootstrap\n",
      "      </h1>\n",
      "      <p>\n",
      "        Lorem ipsum dolor sit amet, consectetur adipiscing elit. Etiam id ornare odio, eu tincidunt massa.\n",
      "        In eget lorem augue. Sed auctor lacinia enim eu volutpat. Etiam sed massa dapibus, egestas ligula vel,\n",
      "        vulputate ex. Sed efficitur enim ac enim pharetra consequat. Pellentesque ante lorem, tempor eu ex in,\n",
      "        tincidunt pharetra diam. Sed ut mi iaculis, condimentum neque nec, cursus massa. Mauris ligula risus\n",
      "        euismod sit amet aliquam ut, consequat sit amet orci. Suspendisse vestibulum pellentesque metus\n",
      "        ultrices aliquam orci ullamcorper eget. Suspendisse a mattis felis.\n",
      "\n",
      "        <b>Sed</b> imperdiet metus nec dui aliquet, sed sollicitudin augue dictum. Sed et condimentum risus, id luctus eros.\n",
      "        Phasellus vehicula, enim vel posuere gravida, felis massa volutpat mi, id euismod mi lorem non libero. Orci varius\n",
      "        natoque penatibus et magnis dis parturient montes, nascetur ridiculus mus. Nam volutpat porttitor ligula si\n",
      "        amet ultricies. Sed mi tortor, finibus sit amet viverra non, volutpat ut ipsum. Curabitur lacinia tellus ne\n",
      "        auctor feugiat. Donec semper pretium tempus. Sed quis fringilla elit. Vestibulum velit dui, varius eu nequ\n",
      "        auctor, feugiat ornare ligula. Proin scelerisque nisl id enim tempus facilisis. Donec eu malesuada felis\n",
      "        Suspendisse velit urna, pellentesque eu lectus sit amet, varius porttitor nunc\n",
      "      </p>\n",
      "      <a href=\"http://www.google.com\" id=\"site\">\n",
      "        <span class=\"no-decoration\">Google</span>\n",
      "      </a>\n",
      "      <table class=\"table table-hover\">\n",
      "        <thead>\n",
      "          <tr>\n",
      "            <th>Nome</th>\n",
      "            <th>Sobrenome</th>\n",
      "            <th class=\"email\">Email</th>\n",
      "          </tr>\n",
      "        </thead>\n",
      "        <tbody>\n",
      "          <tr id=\"menino-john\">\n",
      "            <td id=\"john\">John</td>\n",
      "            <td>Doe</td>\n",
      "            <td class=\"email\">john@example.com</td>\n",
      "          </tr>\n",
      "          <tr>\n",
      "            <td id=\"mary\">Mary</td>\n",
      "            <td>Moe</td>\n",
      "            <td class=\"email\">mary@example.com</td>\n",
      "          </tr>\n",
      "          <tr>\n",
      "            <td id=\"july\">July</td>\n",
      "            <td>Dooley</td>\n",
      "            <td class=\"email\">july@example.com</td>\n",
      "          </tr>\n",
      "          <tr>\n",
      "            <td id=\"mary\">Cris</td>\n",
      "            <td>Moe</td>\n",
      "            <td class=\"email\">cris@example.com</td>\n",
      "          </tr>\n",
      "        </tbody>\n",
      "      </table>\n",
      "    </div>\n",
      "  \n",
      "</body></html>\n"
     ]
    }
   ],
   "source": [
    "print(soup_string)"
   ]
  }
 ],
 "metadata": {
  "kernelspec": {
   "display_name": "Python 3",
   "language": "python",
   "name": "python3"
  },
  "language_info": {
   "codemirror_mode": {
    "name": "ipython",
    "version": 3
   },
   "file_extension": ".py",
   "mimetype": "text/x-python",
   "name": "python",
   "nbconvert_exporter": "python",
   "pygments_lexer": "ipython3",
   "version": "3.7.6"
  }
 },
 "nbformat": 4,
 "nbformat_minor": 2
}
