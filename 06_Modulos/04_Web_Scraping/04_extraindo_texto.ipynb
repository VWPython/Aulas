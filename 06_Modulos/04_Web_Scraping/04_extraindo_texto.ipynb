{
 "cells": [
  {
   "cell_type": "markdown",
   "metadata": {},
   "source": [
    "## Extraindo texto do conteúdo HTML\n",
    "***"
   ]
  },
  {
   "cell_type": "code",
   "execution_count": 1,
   "metadata": {},
   "outputs": [],
   "source": [
    "from bs4 import BeautifulSoup"
   ]
  },
  {
   "cell_type": "code",
   "execution_count": 2,
   "metadata": {},
   "outputs": [],
   "source": [
    "with open('arquivo.html', 'r') as file:\n",
    "    soup = BeautifulSoup(file, 'lxml')"
   ]
  },
  {
   "cell_type": "code",
   "execution_count": 3,
   "metadata": {},
   "outputs": [
    {
     "name": "stdout",
     "output_type": "stream",
     "text": [
      "<!DOCTYPE html>\n",
      "<html lang=\"pt_BR\">\n",
      " <head>\n",
      "  <title>\n",
      "   Exemplo Bootstrap\n",
      "  </title>\n",
      "  <meta charset=\"utf-8\"/>\n",
      "  <meta content=\"width=device-width, initial-scale=1\" name=\"viewport\"/>\n",
      "  <link href=\"https://maxcdn.bootstrapcdn.com/bootstrap/3.3.7/css/bootstrap.min.css\" rel=\"stylesheet\"/>\n",
      "  <script src=\"https://ajax.googleapis.com/ajax/libs/jquery/3.3.1/jquery.min.js\">\n",
      "  </script>\n",
      "  <script src=\"https://maxcdn.bootstrapcdn.com/bootstrap/3.3.7/js/bootstrap.min.js\">\n",
      "  </script>\n",
      " </head>\n",
      " <body>\n",
      "  <div class=\"container\">\n",
      "   <h1>\n",
      "    Meu projeto em Bootstrap\n",
      "   </h1>\n",
      "   <p>\n",
      "    Lorem ipsum dolor sit amet, consectetur adipiscing elit. Etiam id ornare odio, eu tincidunt massa.\n",
      "        In eget lorem augue. Sed auctor lacinia enim eu volutpat. Etiam sed massa dapibus, egestas ligula vel,\n",
      "        vulputate ex. Sed efficitur enim ac enim pharetra consequat. Pellentesque ante lorem, tempor eu ex in,\n",
      "        tincidunt pharetra diam. Sed ut mi iaculis, condimentum neque nec, cursus massa. Mauris ligula risus\n",
      "        euismod sit amet aliquam ut, consequat sit amet orci. Suspendisse vestibulum pellentesque metus\n",
      "        ultrices aliquam orci ullamcorper eget. Suspendisse a mattis felis.\n",
      "    <b>\n",
      "     Sed\n",
      "    </b>\n",
      "    imperdiet metus nec dui aliquet, sed sollicitudin augue dictum. Sed et condimentum risus, id luctus eros.\n",
      "        Phasellus vehicula, enim vel posuere gravida, felis massa volutpat mi, id euismod mi lorem non libero. Orci varius\n",
      "        natoque penatibus et magnis dis parturient montes, nascetur ridiculus mus. Nam volutpat porttitor ligula si\n",
      "        amet ultricies. Sed mi tortor, finibus sit amet viverra non, volutpat ut ipsum. Curabitur lacinia tellus ne\n",
      "        auctor feugiat. Donec semper pretium tempus. Sed quis fringilla elit. Vestibulum velit dui, varius eu nequ\n",
      "        auctor, feugiat ornare ligula. Proin scelerisque nisl id enim tempus facilisis. Donec eu malesuada felis\n",
      "        Suspendisse velit urna, pellentesque eu lectus sit amet, varius porttitor nunc\n",
      "   </p>\n",
      "   <a href=\"http://www.google.com\" id=\"site\">\n",
      "    <span class=\"no-decoration\">\n",
      "     Google\n",
      "    </span>\n",
      "   </a>\n",
      "   <table class=\"table table-hover\">\n",
      "    <thead>\n",
      "     <tr>\n",
      "      <th>\n",
      "       Nome\n",
      "      </th>\n",
      "      <th>\n",
      "       Sobrenome\n",
      "      </th>\n",
      "      <th class=\"email\">\n",
      "       Email\n",
      "      </th>\n",
      "     </tr>\n",
      "    </thead>\n",
      "    <tbody>\n",
      "     <tr id=\"menino-john\">\n",
      "      <td id=\"john\">\n",
      "       John\n",
      "      </td>\n",
      "      <td>\n",
      "       Doe\n",
      "      </td>\n",
      "      <td class=\"email\">\n",
      "       john@example.com\n",
      "      </td>\n",
      "     </tr>\n",
      "     <tr>\n",
      "      <td id=\"mary\">\n",
      "       Mary\n",
      "      </td>\n",
      "      <td>\n",
      "       Moe\n",
      "      </td>\n",
      "      <td class=\"email\">\n",
      "       mary@example.com\n",
      "      </td>\n",
      "     </tr>\n",
      "     <tr>\n",
      "      <td id=\"july\">\n",
      "       July\n",
      "      </td>\n",
      "      <td>\n",
      "       Dooley\n",
      "      </td>\n",
      "      <td class=\"email\">\n",
      "       july@example.com\n",
      "      </td>\n",
      "     </tr>\n",
      "     <tr>\n",
      "      <td id=\"mary\">\n",
      "       Cris\n",
      "      </td>\n",
      "      <td>\n",
      "       Moe\n",
      "      </td>\n",
      "      <td class=\"email\">\n",
      "       cris@example.com\n",
      "      </td>\n",
      "     </tr>\n",
      "    </tbody>\n",
      "   </table>\n",
      "  </div>\n",
      " </body>\n",
      "</html>\n"
     ]
    }
   ],
   "source": [
    "# Imprime o html de forma legivel\n",
    "print(soup.prettify())"
   ]
  },
  {
   "cell_type": "code",
   "execution_count": 4,
   "metadata": {},
   "outputs": [
    {
     "name": "stdout",
     "output_type": "stream",
     "text": [
      "\n",
      "\n",
      "Exemplo Bootstrap\n",
      "\n",
      "\n",
      "\n",
      "\n",
      "\n",
      "\n",
      "\n",
      "\n",
      "\n",
      "          Meu projeto em Bootstrap\n",
      "      \n",
      "\n",
      "        Lorem ipsum dolor sit amet, consectetur adipiscing elit. Etiam id ornare odio, eu tincidunt massa.\n",
      "        In eget lorem augue. Sed auctor lacinia enim eu volutpat. Etiam sed massa dapibus, egestas ligula vel,\n",
      "        vulputate ex. Sed efficitur enim ac enim pharetra consequat. Pellentesque ante lorem, tempor eu ex in,\n",
      "        tincidunt pharetra diam. Sed ut mi iaculis, condimentum neque nec, cursus massa. Mauris ligula risus\n",
      "        euismod sit amet aliquam ut, consequat sit amet orci. Suspendisse vestibulum pellentesque metus\n",
      "        ultrices aliquam orci ullamcorper eget. Suspendisse a mattis felis.\n",
      "\n",
      "        Sed imperdiet metus nec dui aliquet, sed sollicitudin augue dictum. Sed et condimentum risus, id luctus eros.\n",
      "        Phasellus vehicula, enim vel posuere gravida, felis massa volutpat mi, id euismod mi lorem non libero. Orci varius\n",
      "        natoque penatibus et magnis dis parturient montes, nascetur ridiculus mus. Nam volutpat porttitor ligula si\n",
      "        amet ultricies. Sed mi tortor, finibus sit amet viverra non, volutpat ut ipsum. Curabitur lacinia tellus ne\n",
      "        auctor feugiat. Donec semper pretium tempus. Sed quis fringilla elit. Vestibulum velit dui, varius eu nequ\n",
      "        auctor, feugiat ornare ligula. Proin scelerisque nisl id enim tempus facilisis. Donec eu malesuada felis\n",
      "        Suspendisse velit urna, pellentesque eu lectus sit amet, varius porttitor nunc\n",
      "      \n",
      "\n",
      "Google\n",
      "\n",
      "\n",
      "\n",
      "\n",
      "Nome\n",
      "Sobrenome\n",
      "Email\n",
      "\n",
      "\n",
      "\n",
      "\n",
      "John\n",
      "Doe\n",
      "john@example.com\n",
      "\n",
      "\n",
      "Mary\n",
      "Moe\n",
      "mary@example.com\n",
      "\n",
      "\n",
      "July\n",
      "Dooley\n",
      "july@example.com\n",
      "\n",
      "\n",
      "Cris\n",
      "Moe\n",
      "cris@example.com\n",
      "\n",
      "\n",
      "\n",
      "\n",
      "\n",
      "\n"
     ]
    }
   ],
   "source": [
    "# Retorna o texto de todas as tags\n",
    "print(soup.get_text())"
   ]
  },
  {
   "cell_type": "code",
   "execution_count": 5,
   "metadata": {},
   "outputs": [
    {
     "name": "stdout",
     "output_type": "stream",
     "text": [
      "\n",
      "          Meu projeto em Bootstrap\n",
      "      \n"
     ]
    }
   ],
   "source": [
    "# Pega o conteúdo de uma tag especifica, ou de suas filhas\n",
    "print(soup.h1.get_text())"
   ]
  },
  {
   "cell_type": "code",
   "execution_count": 6,
   "metadata": {},
   "outputs": [
    {
     "name": "stdout",
     "output_type": "stream",
     "text": [
      "\n",
      "          Meu projeto em Bootstrap\n",
      "      \n",
      "Sed\n"
     ]
    }
   ],
   "source": [
    "# Pega o conteúdo de uma tag especifica\n",
    "print(soup.h1.string)\n",
    "print(soup.p.b.string)"
   ]
  },
  {
   "cell_type": "code",
   "execution_count": 7,
   "metadata": {},
   "outputs": [
    {
     "name": "stdout",
     "output_type": "stream",
     "text": [
      "Meu projeto em Bootstrap\n"
     ]
    }
   ],
   "source": [
    "# Remove os espaços em branco\n",
    "for string in soup.h1.stripped_strings:\n",
    "    print(string)"
   ]
  }
 ],
 "metadata": {
  "kernelspec": {
   "display_name": "Python 3",
   "language": "python",
   "name": "python3"
  },
  "language_info": {
   "codemirror_mode": {
    "name": "ipython",
    "version": 3
   },
   "file_extension": ".py",
   "mimetype": "text/x-python",
   "name": "python",
   "nbconvert_exporter": "python",
   "pygments_lexer": "ipython3",
   "version": "3.7.6"
  }
 },
 "nbformat": 4,
 "nbformat_minor": 2
}
