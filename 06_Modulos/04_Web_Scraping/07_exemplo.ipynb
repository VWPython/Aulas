{
 "cells": [
  {
   "cell_type": "markdown",
   "metadata": {},
   "source": [
    "## Exemplo\n",
    "***\n",
    "\n",
    "Vamos utilizar o exemplo do site https://www.saraiva.com.br/\n",
    "\n",
    "Ex: https://busca.saraiva.com.br/busca?q=redes-de-computadores\n",
    "\n",
    "Não execute, o html deles mudou.\n",
    "\n",
    "***"
   ]
  },
  {
   "cell_type": "code",
   "execution_count": 1,
   "metadata": {},
   "outputs": [],
   "source": [
    "import requests\n",
    "from bs4 import BeautifulSoup\n",
    "import json"
   ]
  },
  {
   "cell_type": "code",
   "execution_count": 2,
   "metadata": {},
   "outputs": [],
   "source": [
    "def get_response(url, book):\n",
    "    \"\"\"\n",
    "    Get the searched book in saraiva library.\n",
    "    \"\"\"\n",
    "    \n",
    "    book = book.replace(\" \", \"-\")\n",
    "    url = \"{0}busca?q={1}\".format(url, book)\n",
    "    \n",
    "    try:\n",
    "        response = requests.get(url)\n",
    "        return response\n",
    "    except requests.exceptions.RequestException as error:\n",
    "        print(str(error))"
   ]
  },
  {
   "cell_type": "code",
   "execution_count": 3,
   "metadata": {},
   "outputs": [],
   "source": [
    "book = \"redes de computadores\"\n",
    "url = \"https://busca.saraiva.com.br/\""
   ]
  },
  {
   "cell_type": "code",
   "execution_count": 4,
   "metadata": {},
   "outputs": [
    {
     "name": "stdout",
     "output_type": "stream",
     "text": [
      "200\n",
      "https://busca.saraiva.com.br/busca?q=redes-de-computadores\n"
     ]
    }
   ],
   "source": [
    "response = get_response(url, book)\n",
    "print(response.status_code)\n",
    "print(response.url)"
   ]
  },
  {
   "cell_type": "code",
   "execution_count": 5,
   "metadata": {},
   "outputs": [],
   "source": [
    "soup = BeautifulSoup(response.text, \"lxml\")"
   ]
  },
  {
   "cell_type": "code",
   "execution_count": 6,
   "metadata": {},
   "outputs": [],
   "source": [
    "products = soup.find_all('li', {\"class\": \"nm-product-item\"})"
   ]
  },
  {
   "cell_type": "code",
   "execution_count": 7,
   "metadata": {},
   "outputs": [
    {
     "name": "stdout",
     "output_type": "stream",
     "text": [
      "44\n"
     ]
    }
   ],
   "source": [
    "print(len(products))"
   ]
  },
  {
   "cell_type": "code",
   "execution_count": 8,
   "metadata": {},
   "outputs": [],
   "source": [
    "saraiva = []\n",
    "for product in products:\n",
    "    info_div = product.find('div', class_=\"nm-product-info\")\n",
    "    author = info_div.find('div', class_=\"nm-product-subtitle\")\n",
    "    description = info_div.find('div', class_=\"nm-product-description\")\n",
    "    info = {\n",
    "        \"url\": info_div.h2.a.get(\"href\"),\n",
    "        \"name\": info_div.h2.a.string,\n",
    "        \"author\": author.string,\n",
    "        \"description\": description.p.string\n",
    "    }\n",
    "    saraiva.append(info)"
   ]
  },
  {
   "cell_type": "code",
   "execution_count": 9,
   "metadata": {},
   "outputs": [
    {
     "name": "stdout",
     "output_type": "stream",
     "text": [
      "{'description': 'Interligar duas máquinas utilizando um pedaço de cabo já foi algo muito complicado e até considerado fantástico. Hoje, com todos os computadores equipados, por padrão, com interfaces de comunicação e com o barateamento de switches, hubs e cabos, as...', 'url': '//www.saraiva.com.br/guia-pratico-de-redes-de-computadores-4080493.html', 'name': 'Guia Prático de Redes de Computadores', 'author': 'Equipe Digerati'}\n"
     ]
    }
   ],
   "source": [
    "print(saraiva[0])"
   ]
  },
  {
   "cell_type": "code",
   "execution_count": 10,
   "metadata": {},
   "outputs": [],
   "source": [
    "# Transforma os dados em uma string\n",
    "data_string = json.dumps(saraiva)"
   ]
  },
  {
   "cell_type": "code",
   "execution_count": 11,
   "metadata": {},
   "outputs": [],
   "source": [
    "# Escreve no arquivo json\n",
    "with open('products.json', 'wb') as file:\n",
    "    file.write(data_string.encode())"
   ]
  },
  {
   "cell_type": "code",
   "execution_count": 12,
   "metadata": {},
   "outputs": [],
   "source": [
    "# Pega os dados do arquivo json\n",
    "with open('products.json', 'rb') as file:\n",
    "    content = file.readline()\n",
    "    data = json.loads(content.decode())"
   ]
  },
  {
   "cell_type": "code",
   "execution_count": 13,
   "metadata": {},
   "outputs": [
    {
     "name": "stdout",
     "output_type": "stream",
     "text": [
      "{'description': 'Interligar duas máquinas utilizando um pedaço de cabo já foi algo muito complicado e até considerado fantástico. Hoje, com todos os computadores equipados, por padrão, com interfaces de comunicação e com o barateamento de switches, hubs e cabos, as...', 'url': '//www.saraiva.com.br/guia-pratico-de-redes-de-computadores-4080493.html', 'name': 'Guia Prático de Redes de Computadores', 'author': 'Equipe Digerati'}\n"
     ]
    }
   ],
   "source": [
    "print(data[0])"
   ]
  }
 ],
 "metadata": {
  "kernelspec": {
   "display_name": "Python 3",
   "language": "python",
   "name": "python3"
  },
  "language_info": {
   "codemirror_mode": {
    "name": "ipython",
    "version": 3
   },
   "file_extension": ".py",
   "mimetype": "text/x-python",
   "name": "python",
   "nbconvert_exporter": "python",
   "pygments_lexer": "ipython3",
   "version": "3.7.6"
  }
 },
 "nbformat": 4,
 "nbformat_minor": 2
}
