{
 "cells": [
  {
   "cell_type": "markdown",
   "metadata": {},
   "source": [
    "## Timeout\n",
    "***\n",
    "\n",
    "É uma propriedade onde você vai dizer para sua requisição esperar até um tempo limite, ou seja, especificar o tempo limite de conexão com uma determinada solicitação.\n",
    "\n",
    "***"
   ]
  },
  {
   "cell_type": "code",
   "execution_count": 1,
   "metadata": {},
   "outputs": [],
   "source": [
    "import requests"
   ]
  },
  {
   "cell_type": "code",
   "execution_count": 2,
   "metadata": {},
   "outputs": [
    {
     "name": "stdout",
     "output_type": "stream",
     "text": [
      "200\n",
      "http://www.google.com/\n"
     ]
    }
   ],
   "source": [
    "response = requests.get(\"http://www.google.com\", timeout=10)\n",
    "print(response.status_code)\n",
    "print(response.url)"
   ]
  },
  {
   "cell_type": "code",
   "execution_count": 3,
   "metadata": {},
   "outputs": [
    {
     "name": "stdout",
     "output_type": "stream",
     "text": [
      "200\n",
      "http://www.google.com/\n"
     ]
    }
   ],
   "source": [
    "# Para requisições extremamente lentas (None é não tem limite)\n",
    "response = requests.get(\"http://www.google.com\", timeout=None)\n",
    "print(response.status_code)\n",
    "print(response.url)"
   ]
  },
  {
   "cell_type": "code",
   "execution_count": 4,
   "metadata": {},
   "outputs": [
    {
     "name": "stdout",
     "output_type": "stream",
     "text": [
      "200\n",
      "http://www.google.com/\n"
     ]
    }
   ],
   "source": [
    "# Vamos pegar o tempo de conexão e o tempo de leitura do site em segundos\n",
    "response = requests.get(\"http://www.google.com\", timeout=(1, 1))\n",
    "print(response.status_code)\n",
    "print(response.url)"
   ]
  },
  {
   "cell_type": "code",
   "execution_count": 5,
   "metadata": {},
   "outputs": [
    {
     "name": "stdout",
     "output_type": "stream",
     "text": [
      "HTTPConnectionPool(host='www.google.com', port=80): Max retries exceeded with url: / (Caused by NewConnectionError('<urllib3.connection.HTTPConnection object at 0x7fc345e4eb70>: Failed to establish a new connection: [Errno 101] Network is unreachable',))\n"
     ]
    }
   ],
   "source": [
    "# Vamos estourar o tempo de requisição\n",
    "try:\n",
    "    response = requests.get(\"http://www.google.com\", timeout=0.03)\n",
    "    print(response.status_code)\n",
    "    print(response.url)\n",
    "except requests.exceptions.RequestException as error:\n",
    "    print(str(error))"
   ]
  }
 ],
 "metadata": {
  "kernelspec": {
   "display_name": "Python 3",
   "language": "python",
   "name": "python3"
  },
  "language_info": {
   "codemirror_mode": {
    "name": "ipython",
    "version": 3
   },
   "file_extension": ".py",
   "mimetype": "text/x-python",
   "name": "python",
   "nbconvert_exporter": "python",
   "pygments_lexer": "ipython3",
   "version": "3.5.2"
  }
 },
 "nbformat": 4,
 "nbformat_minor": 2
}
