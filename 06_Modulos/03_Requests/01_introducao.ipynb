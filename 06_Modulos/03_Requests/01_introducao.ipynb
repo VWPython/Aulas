{
 "cells": [
  {
   "cell_type": "markdown",
   "metadata": {},
   "source": [
    "## Introdução a requisições HTTP\n",
    "***\n",
    "\n",
    "HTTP (Protocolo de Transferência de Hipertexto) é um protocolo de comunicação entre cliente e servidor. Esse protocolo vai definir como vai ser a troca de mensagem entre o cliente e o servidor.\n",
    "\n",
    "\n",
    "O protocolo HTTP é **stateless**, ou seja, ele não é capaz por si só de reter informações entre requisições diferentes. Para persistir informações você precisa utilizar **cookies**, **sessões**, campos de formulário ou variáveis na própria URL.\n",
    "\n",
    "![img](https://user-images.githubusercontent.com/14116020/50386893-d141da80-06d7-11e9-8035-340254953f6d.png)\n",
    "\n",
    "O protocolo HTTP se encontra na comunicação entre o browser e o servidor.\n",
    "\n",
    "### HTTP Request\n",
    "\n",
    "![img](https://user-images.githubusercontent.com/14116020/50386928-aad06f00-06d8-11e9-9740-faae2fea1e5c.png)\n",
    "\n",
    "* **(request-line)**: É o método de requisição, pode ser: GET, POST, PUT, PATCH, DELETE\n",
    "\n",
    "* **Host**: É a máquina na qual se localiza o servidor.\n",
    "\n",
    "* **User-Agent**: É a máquina e browser na qual está solicitando a requisição\n",
    "\n",
    "* **Accept**: Diz que esperamos receber um tipo especifico de dados, no caso um documento HTML\n",
    "\n",
    "* **Connection keep-alive**: Nas próximas requisições mantenha a mesma conexão.\n",
    "\n",
    "### HTTP Response\n",
    "\n",
    "![img](https://user-images.githubusercontent.com/14116020/50386962-48c43980-06d9-11e9-9d3c-adcd348d83a6.png)\n",
    "\n",
    "* **(Status-Line)**: Status da resposta, pode ser: 200 OK, 500 BAD REQUEST, ...\n",
    "\n",
    "* **Date**: Data da requisição\n",
    "\n",
    "* **Cache-Control**: Informa para o navegador que o cache está habilitado, ou seja, pode ser usado.\n",
    "\n",
    "* **Content-Type**: Qual o tipo do documento que será retornando e qual é a codificação que está sendo utilizado.\n",
    "\n",
    "* **Content-Encoding**: Tipo de compressão que foi utilizado pelo servidor naquele documento.\n",
    "\n",
    "* **Server**: Tipo de servidor web que o servidor ta utilizando, por exemplo, NGINX\n",
    "\n",
    "### Métodos HTTP\n",
    "\n",
    "Quando você vai fazer uma requisição, é preciso que você especifique qual o método utilizado. Os métodos HTTP também conhecidos como verbos, identificam qual a ação que deve ser executada em um determidado recurso. Existem 8 métodos HTTP, mas apenas 5 são mais utilizados.\n",
    "\n",
    "* **GET**: O método GET é usado para recuperar informações do servidor usando um determinado URI. Solicitações usando GET só devem recuperar dados e não devem ter nenhum outro efeito sobre os dados.\n",
    "* **HEAD**: Mesmo que GET, mas somente transferem as linha de status e seção de cabeçalho, não é muito usado.\n",
    "* **POST**: Um pedido POST é usado para enviar dados para o servidor, por exemplo, informações de clientes, upload de arquivos, etc. Usando formulários HTML.\n",
    "* **PUT**: Substitui todas as representações atuais do recurso de destino com o conteúdo carregado, ou seja, atualiza os dados.\n",
    "* **DELETE**: Remove todas as representações atuais do recurso de destino dado por um URI, ou seja, deleta um dado.\n",
    "* **CONNECT**: Estabelece um túnel para o servidor identificado por um determinado URI\n",
    "* **OPTIONS**: Descreve as opções de comunicação para o recurso de destino\n",
    "* **TRACE**: Executa um teste de auto-retorno de mensagem ao longo do caminho para o recurso alvo.\n",
    "\n",
    "Os 5 principais métodos são: GET, HEAD, POST, PUT e DELETE\n",
    "\n",
    "#### Status HTTP\n",
    "\n",
    "HTTP status messages indica se uma solicitação HTTP específica foi concluída com êxito.\n",
    "\n",
    "As respostas são agrupadas em 5 classes:\n",
    "\n",
    "* **1xx**: Respostas informativas. Ex: 100 CONTINUE\n",
    "* **2xx**: Respostas bem-sucedidas. Ex: 200 OK\n",
    "* **3xx**: Respostas de redirecionamento. Ex: 301 MOVED PERMANENTLY\n",
    "* **4xx**: Respostas de erros no cliente. Ex: 404 NOT FOUND ou 400 BAD REQUEST\n",
    "* **5xx**: Respostas de erros no servidor. Ex: 500 INTERNAL SERVER ERROR\n",
    "\n",
    "Exemplos: https://httpstatusdogs.com/\n",
    "\n",
    "### Modulo Requests\n",
    "\n",
    "http://docs.python-requests.org/pt_BR/latest/\n",
    "\n",
    "Instalação:\n",
    "\n",
    "```\n",
    "pip install requests\n",
    "```"
   ]
  },
  {
   "cell_type": "markdown",
   "metadata": {},
   "source": [
    "***"
   ]
  },
  {
   "cell_type": "code",
   "execution_count": 1,
   "metadata": {},
   "outputs": [],
   "source": [
    "import requests\n",
    "import json"
   ]
  },
  {
   "cell_type": "code",
   "execution_count": 2,
   "metadata": {},
   "outputs": [],
   "source": [
    "headers = {'Accept': 'application/json'}"
   ]
  },
  {
   "cell_type": "code",
   "execution_count": 3,
   "metadata": {},
   "outputs": [],
   "source": [
    "response = requests.get(\n",
    "    \"https://www.servicos.gov.br/api/v1/servicos/2\",\n",
    "    headers=headers\n",
    ")"
   ]
  },
  {
   "cell_type": "code",
   "execution_count": 4,
   "metadata": {},
   "outputs": [
    {
     "name": "stdout",
     "output_type": "stream",
     "text": [
      "Response 200\n",
      "True\n",
      "UTF-8\n"
     ]
    }
   ],
   "source": [
    "print(\"Response %s\" % response.status_code)\n",
    "print(response.status_code == requests.codes.ok)\n",
    "print(response.encoding)"
   ]
  },
  {
   "cell_type": "code",
   "execution_count": 5,
   "metadata": {},
   "outputs": [],
   "source": [
    "result = response.json()"
   ]
  },
  {
   "cell_type": "code",
   "execution_count": 6,
   "metadata": {},
   "outputs": [
    {
     "name": "stdout",
     "output_type": "stream",
     "text": [
      "Nome: Solicitar uso de faixa de domínio \n",
      "\n",
      "Descrição: É a concessão dada à pessoa física ou jurídica que queira explorar as faixas laterais e áreas adjacentes às estradas e rodovias. A faixa de domínio é a base física sobre a qual se assenta uma rodovia, área esta cujo uso obedecerá às condições de segurança do trânsito estabelecidas pelo DNIT. \n",
      "\n",
      "Orgão: Departamento Nacional de Infraestrutura de Transportes (DNIT)\n"
     ]
    }
   ],
   "source": [
    "print(\"Nome:\", result.get('resposta').get('nome'), \"\\n\")\n",
    "print(\"Descrição:\", result.get('resposta').get('descricao'), \"\\n\")\n",
    "print(\"Orgão:\", result.get('resposta').get('orgao').get('nomeOrgao'))"
   ]
  }
 ],
 "metadata": {
  "kernelspec": {
   "display_name": "Python 3",
   "language": "python",
   "name": "python3"
  },
  "language_info": {
   "codemirror_mode": {
    "name": "ipython",
    "version": 3
   },
   "file_extension": ".py",
   "mimetype": "text/x-python",
   "name": "python",
   "nbconvert_exporter": "python",
   "pygments_lexer": "ipython3",
   "version": "3.5.2"
  }
 },
 "nbformat": 4,
 "nbformat_minor": 2
}
