{
 "cells": [
  {
   "cell_type": "markdown",
   "metadata": {},
   "source": [
    "## Cookies\n",
    "***\n",
    "\n",
    "Um **cookie** é um pequeno pacote de dados enviados de um website para o navegador do usuário quando o usuário visita o site.\n",
    "\n",
    "Cada vez que o usuário visita o site novamente, o navegador envia o cookie de volta para o servidor para notificar atividades prévias do usuário.\n",
    "\n",
    "Por exemplo, o Facebook obtem informações do usuário através de Cookie, com isso ele consegue traçar um perfil desse usuário e com isso exibir propagandas direcionadas para esse usuário.\n",
    "\n",
    "### Como funciona\n",
    "\n",
    "![img](https://user-images.githubusercontent.com/14116020/50387468-1f5cdb00-06e4-11e9-978d-39c50ff34e33.png)\n",
    "\n",
    "1. Primeiro você faz um acesso a um site.\n",
    "2. Esse site vai responder e setar um cookie de volta para o navegador do cliente\n",
    "3. No próximo acesso ao site, o navegador automaticamente vai envirar o cookie de volta para o servidor e esse cookie já vai ter algumas informações do usuário. Com isso o servidor obtem essas informações e produz uma estratégia para esse cliente.\n",
    "4. Ao final ele redireciona uma resposta ao cliente de acordo com a estratégia especificada.\n",
    "\n",
    "### Formato do cookie\n",
    "\n",
    "Um cookie tem um formato predefinido. Ele contém os seguintes campos:\n",
    "\n",
    "![img](https://user-images.githubusercontent.com/14116020/50387497-e2ddaf00-06e4-11e9-923e-999aabcdaef1.png)\n",
    "\n",
    "* **Domínio**: É a forma como o navegador identifica o cookie, de qual domínio/host um determinado cookie pertence. Um site define um cookie para o seu domínio, por exemplo, .google.com define um cookie para o domínio .google.com. Isto significa que o navegador irá instalar o cookie no cookie jar e irá enviar esse cookie para qualquer pedido posterior à: google.com, www.google.com, maps.google.com, ... O escopo deste cookie será **\\*.google.com**. O Domínio A não pode definir um cookie para o Domínio B.\n",
    "\n",
    "\n",
    "* **Caminho**: O campo caminho do cookie especifica para qual URL atrelada ao domínio os navegadores terão de enviar o cookie. Para o cookie com **PATH=/downloads**, todos os pedidos posteriores a /downloads, /downloads/foo, /downloads/foo/bar irá incluir esse cookie. É onde o cookie será setado e o navegador só enviará o cookie de volta se for solicitado esses caminhos.\n",
    "\n",
    "\n",
    "* **Data Expiração**: Dá ao cookie a validade de restrição de tempo. O cookie somente será enviado para o servidor se ele não expirou. Os cookies de sessão terminará com a sessão. Ou seja, é o tempo de vida de um cookie.\n",
    "\n",
    "\n",
    "* **Conteúdo**: Um cookie pode transportar uma lista de valores. Por exemplo, um dicionário de dados com o username e se ele ta autenticado ou não.\n",
    "\n",
    "\n",
    "* **HTTPONLY FLAGS**: A HTTPOnly Flag é usado para forçar o navegador enviar o cookie somente através do HTTP. Esta flag impede que o cookie seja lido através de JavaScript. Este é um mecanismo de proteção contra roubo de Cookies através de ataque XSS.\n",
    "\n",
    "\n",
    "* **SECURE FLAG**: A Secure Flag força o navegador enviar o cookie somente através de HTTPS (SSL). Isso impede que o cookie seja enviado sem criptografia. Evita ataques de leitura de pacotes de dados, pois seu cookie está criptografado."
   ]
  },
  {
   "cell_type": "markdown",
   "metadata": {},
   "source": [
    "***"
   ]
  },
  {
   "cell_type": "code",
   "execution_count": 1,
   "metadata": {},
   "outputs": [],
   "source": [
    "import requests"
   ]
  },
  {
   "cell_type": "code",
   "execution_count": 2,
   "metadata": {},
   "outputs": [],
   "source": [
    "url = \"http://www.submarino.com.br\""
   ]
  },
  {
   "cell_type": "code",
   "execution_count": 3,
   "metadata": {},
   "outputs": [],
   "source": [
    "response = requests.get(url)"
   ]
  },
  {
   "cell_type": "code",
   "execution_count": 4,
   "metadata": {},
   "outputs": [
    {
     "name": "stdout",
     "output_type": "stream",
     "text": [
      "{'b2wChannel': 'INTERNET', 'b2wDevice': 'eyJvcyI6Im5pbCIsIm9zVmVyc2lvbiI6Im5pbCIsInZlbmRvciI6Im5pbCIsInR5cGUiOiJkZXNrdG9wIiwibWt0TmFtZSI6Im5pbCIsIm1vZGVsIjoibmlsIiwibW9iaWxlT3B0T3V0IjoiZmFsc2UifQ==', 'b2wDeviceType': 'desktop', 'B2W-IU': 'false'}\n"
     ]
    }
   ],
   "source": [
    "cookie = response.cookies.get_dict()\n",
    "print(cookie)"
   ]
  },
  {
   "cell_type": "code",
   "execution_count": 5,
   "metadata": {},
   "outputs": [],
   "source": [
    "url = \"http://busca.submarino.com.br/busca.php?\""
   ]
  },
  {
   "cell_type": "code",
   "execution_count": 6,
   "metadata": {},
   "outputs": [],
   "source": [
    "payload = {\"q\": \"notebook\"}"
   ]
  },
  {
   "cell_type": "code",
   "execution_count": 7,
   "metadata": {},
   "outputs": [],
   "source": [
    "response = requests.get(url, params=payload, cookies=cookie)"
   ]
  },
  {
   "cell_type": "code",
   "execution_count": 8,
   "metadata": {},
   "outputs": [
    {
     "name": "stdout",
     "output_type": "stream",
     "text": [
      "http://busca.submarino.com.br/busca.php?q=notebook\n"
     ]
    }
   ],
   "source": [
    "print(response.url)"
   ]
  },
  {
   "cell_type": "code",
   "execution_count": 9,
   "metadata": {},
   "outputs": [],
   "source": [
    "with open('submarino.html', 'w') as file:\n",
    "    file.write(response.text)"
   ]
  }
 ],
 "metadata": {
  "kernelspec": {
   "display_name": "Python 3",
   "language": "python",
   "name": "python3"
  },
  "language_info": {
   "codemirror_mode": {
    "name": "ipython",
    "version": 3
   },
   "file_extension": ".py",
   "mimetype": "text/x-python",
   "name": "python",
   "nbconvert_exporter": "python",
   "pygments_lexer": "ipython3",
   "version": "3.5.2"
  }
 },
 "nbformat": 4,
 "nbformat_minor": 2
}
