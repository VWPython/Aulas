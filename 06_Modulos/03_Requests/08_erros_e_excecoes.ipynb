{
 "cells": [
  {
   "cell_type": "markdown",
   "metadata": {},
   "source": [
    "## Erros e Exceções\n",
    "***\n",
    "\n",
    "Existem alguns tipos de erros que podem ocorrer, por exemplo, url invalida, site não ta mais disponíveis e etc...\n",
    "\n",
    "requests.exceptions:\n",
    "\n",
    "* **ConnectionError**: Na ocasião de um problema de rede (por exemplo, falha de DNS, conexão recusada, etc.)\n",
    "* **HTTPError**: Na ocasião de uma rara resposta HTTP inválida\n",
    "* **Timeout**: Se uma requisição excede o tempo limite\n",
    "* **TooManyRedirects**: Se uma requisição excede o número máximo de redirecionamentos configurado\n",
    "* **RequestException**: Pai de todas as exceções de requests\n",
    "\n",
    "***"
   ]
  },
  {
   "cell_type": "code",
   "execution_count": 1,
   "metadata": {},
   "outputs": [],
   "source": [
    "import requests"
   ]
  },
  {
   "cell_type": "code",
   "execution_count": 2,
   "metadata": {},
   "outputs": [],
   "source": [
    "url = \"http://www.google.com\""
   ]
  },
  {
   "cell_type": "code",
   "execution_count": 3,
   "metadata": {},
   "outputs": [
    {
     "name": "stdout",
     "output_type": "stream",
     "text": [
      "200\n",
      "http://www.google.com/\n"
     ]
    }
   ],
   "source": [
    "try:\n",
    "    response = requests.get(url)\n",
    "    print(response.status_code)\n",
    "    print(response.url)\n",
    "except requests.exceptions.ConnectionError as error:\n",
    "    print(\"Connection error\")\n",
    "    print(str(error))"
   ]
  },
  {
   "cell_type": "markdown",
   "metadata": {},
   "source": [
    "***"
   ]
  },
  {
   "cell_type": "code",
   "execution_count": 4,
   "metadata": {},
   "outputs": [],
   "source": [
    "url_errada = \"http://www.urlinvalida.com.br\""
   ]
  },
  {
   "cell_type": "code",
   "execution_count": 5,
   "metadata": {},
   "outputs": [
    {
     "name": "stdout",
     "output_type": "stream",
     "text": [
      "Connection error\n",
      "HTTPConnectionPool(host='www.urlinvalida.com.br', port=80): Max retries exceeded with url: / (Caused by NewConnectionError('<urllib3.connection.HTTPConnection object at 0x7fe06c36cac8>: Failed to establish a new connection: [Errno -2] Name or service not known',))\n"
     ]
    }
   ],
   "source": [
    "try:\n",
    "    response = requests.get(url_errada)\n",
    "    print(response.status_code)\n",
    "    print(response.url)\n",
    "except requests.exceptions.ConnectionError as error:\n",
    "    print(\"Connection error\")\n",
    "    print(str(error))"
   ]
  }
 ],
 "metadata": {
  "kernelspec": {
   "display_name": "Python 3",
   "language": "python",
   "name": "python3"
  },
  "language_info": {
   "codemirror_mode": {
    "name": "ipython",
    "version": 3
   },
   "file_extension": ".py",
   "mimetype": "text/x-python",
   "name": "python",
   "nbconvert_exporter": "python",
   "pygments_lexer": "ipython3",
   "version": "3.5.2"
  }
 },
 "nbformat": 4,
 "nbformat_minor": 2
}
