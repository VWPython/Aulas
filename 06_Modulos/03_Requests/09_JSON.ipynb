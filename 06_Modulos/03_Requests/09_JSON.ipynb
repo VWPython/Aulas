{
 "cells": [
  {
   "cell_type": "markdown",
   "metadata": {},
   "source": [
    "## Solicitar arquivos JSON\n",
    "***\n",
    "\n",
    "Muito usado para pegar dados de uma API aberta\n",
    "\n",
    "***"
   ]
  },
  {
   "cell_type": "code",
   "execution_count": 1,
   "metadata": {},
   "outputs": [],
   "source": [
    "import requests\n",
    "import json"
   ]
  },
  {
   "cell_type": "code",
   "execution_count": 2,
   "metadata": {},
   "outputs": [],
   "source": [
    "headers = {'Accept': 'application/json'}"
   ]
  },
  {
   "cell_type": "code",
   "execution_count": 3,
   "metadata": {},
   "outputs": [],
   "source": [
    "response = requests.get(\n",
    "    \"https://www.servicos.gov.br/api/v1/servicos/2\",\n",
    "    headers=headers\n",
    ")"
   ]
  },
  {
   "cell_type": "code",
   "execution_count": 4,
   "metadata": {},
   "outputs": [
    {
     "name": "stdout",
     "output_type": "stream",
     "text": [
      "Response 200\n",
      "True\n",
      "UTF-8\n"
     ]
    }
   ],
   "source": [
    "print(\"Response %s\" % response.status_code)\n",
    "print(response.status_code == requests.codes.ok)\n",
    "print(response.encoding)"
   ]
  },
  {
   "cell_type": "code",
   "execution_count": 5,
   "metadata": {},
   "outputs": [],
   "source": [
    "result = response.json()"
   ]
  },
  {
   "cell_type": "code",
   "execution_count": 6,
   "metadata": {},
   "outputs": [
    {
     "name": "stdout",
     "output_type": "stream",
     "text": [
      "Nome: Solicitar uso de faixa de domínio \n",
      "\n",
      "Descrição: É a concessão dada à pessoa física ou jurídica que queira explorar as faixas laterais e áreas adjacentes às estradas e rodovias. A faixa de domínio é a base física sobre a qual se assenta uma rodovia, área esta cujo uso obedecerá às condições de segurança do trânsito estabelecidas pelo DNIT. \n",
      "\n",
      "Orgão: Departamento Nacional de Infraestrutura de Transportes (DNIT)\n"
     ]
    }
   ],
   "source": [
    "print(\"Nome:\", result.get('resposta').get('nome'), \"\\n\")\n",
    "print(\"Descrição:\", result.get('resposta').get('descricao'), \"\\n\")\n",
    "print(\"Orgão:\", result.get('resposta').get('orgao').get('nomeOrgao'))"
   ]
  },
  {
   "cell_type": "markdown",
   "metadata": {},
   "source": [
    "***"
   ]
  },
  {
   "cell_type": "code",
   "execution_count": 7,
   "metadata": {},
   "outputs": [],
   "source": [
    "url = \"http://compras.dados.gov.br\"\n",
    "cnpj = \"07689002000189\" # Embraer"
   ]
  },
  {
   "cell_type": "code",
   "execution_count": 8,
   "metadata": {},
   "outputs": [],
   "source": [
    "url = '{0}/contratos/v1/contratos.json?cnpj_contratada={1}'.format(url, cnpj)"
   ]
  },
  {
   "cell_type": "code",
   "execution_count": 9,
   "metadata": {},
   "outputs": [
    {
     "name": "stdout",
     "output_type": "stream",
     "text": [
      "Response 200\n"
     ]
    }
   ],
   "source": [
    "print(\"Response %s\" % response.status_code)"
   ]
  },
  {
   "cell_type": "code",
   "execution_count": 10,
   "metadata": {},
   "outputs": [],
   "source": [
    "result = response.json()"
   ]
  },
  {
   "cell_type": "code",
   "execution_count": 11,
   "metadata": {},
   "outputs": [
    {
     "name": "stdout",
     "output_type": "stream",
     "text": [
      "{'nomesPopulares': {'item': [{'item': 'Faixa de domínio', 'id': 3967}]}, 'segmentosDaSociedade': {'item': [{'idSegmento': 4, 'item': 'Demais segmentos (ONGs, organizações sociais, etc)', 'idServicoSegmento': 11124}, {'idSegmento': 3, 'item': 'Empresas', 'idServicoSegmento': 11125}, {'idSegmento': 2, 'item': 'Órgãos e entidades públicas', 'idServicoSegmento': 11126}]}, 'porcentagemDigital': 0, 'linkServicoDigital': '', 'porcentagemManual': False, 'descricao': 'É a concessão dada à pessoa física ou jurídica que queira explorar as faixas laterais e áreas adjacentes às estradas e rodovias. A faixa de domínio é a base física sobre a qual se assenta uma rodovia, área esta cujo uso obedecerá às condições de segurança do trânsito estabelecidas pelo DNIT.', 'sigla': '', 'legislacoes': {'item': [{'item': '[Normativos do DNIT sobre uso de Faixa de domínio](http://www.dnit.gov.br/rodovias/operacoes-rodoviarias/faixa-de-dominio)', 'id': 3841}]}, 'tratamentoPrioritario': 'Têm direito a atendimento prioritário as pessoas com deficiência, os idosos com idade igual ou superior a 60 anos, as gestantes, as lactantes, as pessoas com crianças de colo e os obesos, conforme estabelecido pela lei 10.048, de 8 de novembro de 2000\\u200b.', 'areasDeInteresse': {'item': ['Trânsito e Transportes']}, 'id': 'https://www.servicos.gov.br/api/v1/servicos/2', 'condicoesAcessibilidade': 'O usuário do serviço público, conforme estabelecido pela lei nº13.460/17, tem direito a atendimento presencial, quando necessário, em instalações salubres, seguras, sinalizadas, acessíveis e adequadas ao serviço e ao atendimento.', 'tempoTotalEstimado': {'max': None, 'min': None, 'ate': None, 'emMedia': None, 'descricao': '', 'naoEstimadoAinda': {}, 'atendimentoImediato': None, 'entre': None}, 'etapas': [{'custos': {'custos': [{'valorVariavel': '', 'valor': None, 'statusCustoVariavel': 0, 'id': 1227, 'moeda': 'R$', 'descricao': 'O valor será calculado em função da Unidade da Federação, tamanho, valor do m² e custo de manutenção da área solicitada'}], 'casos': []}, 'documentos': {'documentos': [{'nome': 'Especificados no normativo presente no seguinte link: http://www.dnit.gov.br/rodovias/operacoes-rodoviarias/faixa-de-dominio/manual-procedimentos-faixa-de-dominio-atualizacao-cap12-dir-colegiada-26012015-site-fxd.pdf.', 'id': 17515}], 'casos': []}, 'titulo': 'Solicitação de uso', 'canaisDePrestacao': {'casos': [], 'canaisDePrestacao': [{'procedimentoSistemaIndisponivel': None, 'tempoEstimadoPeriodoService': None, 'id': 13713, 'tempoEstimadoPeriodo': None, 'tipo': 'presencial', 'tempoEstimadoEspera': None, 'descricao': 'Os endereços das superintendências regionais podem ser encontrados [aqui](http://www.dnit.gov.br/acesso-a-informacao/insitucional/copy_of_quem-e-quem).'}]}, 'id': 11715, 'tempoTotalEstimado': {'max': None, 'min': None, 'ate': None, 'emMedia': None, 'descricao': None, 'naoEstimadoAinda': {}, 'atendimentoImediato': None, 'entre': None}, 'descricao': 'O solicitante deve informar o motivo do pedido de uso da faixa de domínio, apresentar a documentação exigida e aguardar a aprovação para que se assine contrato de permissão especial de uso da área. O pedido é feito à Superintendência Regional do DNIT no estado em que se encontra o trecho.'}], 'validadeDocumento': {'unidade': None, 'quantidade': None, 'tipo': None, 'descricao': ''}, 'avaliacoes': {'negativas': 3, 'positivas': 5}, 'contato': '', 'nome': 'Solicitar uso de faixa de domínio', 'orgao': {'qtdTotalSolicitacoes': None, 'nomeOrgao': 'Departamento Nacional de Infraestrutura de Transportes (DNIT)', 'tempoMedioEspera': None, 'qtdTotal': None, 'porcentagemAvaliacoesPositivas': None, 'qtdReclamacao': None, 'porcentagemDigital': None, 'qtdDenuncias': None, 'id': 'http://estruturaorganizacional.dados.gov.br/id/unidade-organizacional/54844', 'dbId': 23732}, 'solicitantes': {'solicitante': [{'id': 6451, 'tipo': 'Pessoa física ou jurídica', 'requisitos': ''}]}, 'tratamentoDispensadoAtendimento': 'O usuário deverá receber, conforme os princípios expressos na lei nº 13.460/17, um atendimento pautado nas seguintes diretrizes:\\n· Urbanidade;\\n· Respeito;\\n· Acessibilidade;\\n· Cortesia;\\n· Presunção da boa-fé do usuário;\\n· Igualdade;\\n· Eficiência;\\n· Segurança; e\\n· Ética.', 'gratuito': 'false', 'servicoDigital': False, 'palavrasChave': {'item': [{'item': 'Faixa de Domínio', 'id': 21519}, {'item': 'Rodovia', 'id': 21520}, {'item': 'Uso', 'id': 21521}, {'item': 'DNIT', 'id': 21522}]}}\n"
     ]
    }
   ],
   "source": [
    "print(result['resposta'])"
   ]
  }
 ],
 "metadata": {
  "kernelspec": {
   "display_name": "Python 3",
   "language": "python",
   "name": "python3"
  },
  "language_info": {
   "codemirror_mode": {
    "name": "ipython",
    "version": 3
   },
   "file_extension": ".py",
   "mimetype": "text/x-python",
   "name": "python",
   "nbconvert_exporter": "python",
   "pygments_lexer": "ipython3",
   "version": "3.5.2"
  }
 },
 "nbformat": 4,
 "nbformat_minor": 2
}
