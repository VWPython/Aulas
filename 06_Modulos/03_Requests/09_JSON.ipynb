{
 "cells": [
  {
   "cell_type": "markdown",
   "metadata": {},
   "source": [
    "## Solicitar arquivos JSON\n",
    "***\n",
    "\n",
    "Muito usado para pegar dados de uma API aberta\n",
    "\n",
    "***"
   ]
  },
  {
   "cell_type": "code",
   "execution_count": 1,
   "metadata": {},
   "outputs": [],
   "source": [
    "import requests\n",
    "import json"
   ]
  },
  {
   "cell_type": "code",
   "execution_count": 2,
   "metadata": {},
   "outputs": [],
   "source": [
    "headers = {'Accept': 'application/json'}"
   ]
  },
  {
   "cell_type": "code",
   "execution_count": 3,
   "metadata": {},
   "outputs": [],
   "source": [
    "response = requests.get(\n",
    "    \"https://viacep.com.br/ws/70658197/json/\",\n",
    "    headers=headers\n",
    ")"
   ]
  },
  {
   "cell_type": "code",
   "execution_count": 4,
   "metadata": {},
   "outputs": [
    {
     "name": "stdout",
     "output_type": "stream",
     "text": [
      "Response 200\n",
      "True\n",
      "utf-8\n"
     ]
    }
   ],
   "source": [
    "print(\"Response %s\" % response.status_code)\n",
    "print(response.status_code == requests.codes.ok)\n",
    "print(response.encoding)"
   ]
  },
  {
   "cell_type": "code",
   "execution_count": 5,
   "metadata": {},
   "outputs": [],
   "source": [
    "result = response.json()"
   ]
  },
  {
   "cell_type": "code",
   "execution_count": 6,
   "metadata": {},
   "outputs": [
    {
     "name": "stdout",
     "output_type": "stream",
     "text": [
      "CEP: 70658-197\n",
      "Logradouro: SHCES Quadra 1109 Bloco G\n",
      "Bairro: Cruzeiro Novo\n"
     ]
    }
   ],
   "source": [
    "print(\"CEP:\", result.get('cep'))\n",
    "print(\"Logradouro:\", result.get('logradouro'))\n",
    "print(\"Bairro:\", result.get('bairro'))"
   ]
  },
  {
   "cell_type": "markdown",
   "metadata": {},
   "source": [
    "***"
   ]
  },
  {
   "cell_type": "code",
   "execution_count": 7,
   "metadata": {},
   "outputs": [],
   "source": [
    "url = \"http://compras.dados.gov.br\"\n",
    "cnpj = \"07689002000189\" # Embraer"
   ]
  },
  {
   "cell_type": "code",
   "execution_count": 8,
   "metadata": {},
   "outputs": [],
   "source": [
    "url = '{0}/contratos/v1/contratos.json?cnpj_contratada={1}'.format(url, cnpj)\n",
    "response = requests.get(url, headers=headers)"
   ]
  },
  {
   "cell_type": "code",
   "execution_count": 9,
   "metadata": {},
   "outputs": [
    {
     "name": "stdout",
     "output_type": "stream",
     "text": [
      "Response 200\n"
     ]
    }
   ],
   "source": [
    "print(\"Response %s\" % response.status_code)"
   ]
  },
  {
   "cell_type": "code",
   "execution_count": 10,
   "metadata": {},
   "outputs": [],
   "source": [
    "result = response.json()"
   ]
  },
  {
   "cell_type": "code",
   "execution_count": 11,
   "metadata": {},
   "outputs": [
    {
     "name": "stdout",
     "output_type": "stream",
     "text": [
      "{'self': {'href': 'http://compras.dados.gov.br/contratos/v1/contratos.json?cnpj_contratada=07689002000189', 'title': 'Lista de contratos filtrados por cnpj_contratada=07689002000189.'}, 'first': {'href': '/contratos/v1/contratos.json?cnpj_contratada=07689002000189&offset=0', 'title': 'Primeira página'}}\n"
     ]
    }
   ],
   "source": [
    "print(result['_links'])"
   ]
  }
 ],
 "metadata": {
  "kernelspec": {
   "display_name": "Python 3",
   "language": "python",
   "name": "python3"
  },
  "language_info": {
   "codemirror_mode": {
    "name": "ipython",
    "version": 3
   },
   "file_extension": ".py",
   "mimetype": "text/x-python",
   "name": "python",
   "nbconvert_exporter": "python",
   "pygments_lexer": "ipython3",
   "version": "3.7.6"
  }
 },
 "nbformat": 4,
 "nbformat_minor": 2
}
