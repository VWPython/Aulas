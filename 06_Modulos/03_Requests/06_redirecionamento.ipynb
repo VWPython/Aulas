{
 "cells": [
  {
   "cell_type": "markdown",
   "metadata": {},
   "source": [
    "## Acompanhando redirecionamento\n",
    "***"
   ]
  },
  {
   "cell_type": "code",
   "execution_count": 1,
   "metadata": {},
   "outputs": [],
   "source": [
    "import requests"
   ]
  },
  {
   "cell_type": "code",
   "execution_count": 2,
   "metadata": {},
   "outputs": [],
   "source": [
    "response = requests.get(\"https://www.urionlinejudge.com.br\")"
   ]
  },
  {
   "cell_type": "code",
   "execution_count": 3,
   "metadata": {},
   "outputs": [
    {
     "name": "stdout",
     "output_type": "stream",
     "text": [
      "200\n",
      "https://www.urionlinejudge.com.br/judge/en/login\n"
     ]
    }
   ],
   "source": [
    "print(response.status_code)\n",
    "print(response.url)"
   ]
  },
  {
   "cell_type": "code",
   "execution_count": 4,
   "metadata": {},
   "outputs": [
    {
     "name": "stdout",
     "output_type": "stream",
     "text": [
      "[<Response [302]>]\n"
     ]
    }
   ],
   "source": [
    "# Houve um redirecionamento com status 302 (Found)\n",
    "print(response.history)"
   ]
  },
  {
   "cell_type": "code",
   "execution_count": 5,
   "metadata": {},
   "outputs": [
    {
     "name": "stdout",
     "output_type": "stream",
     "text": [
      "302\n"
     ]
    }
   ],
   "source": [
    "print(response.history[0].status_code)"
   ]
  },
  {
   "cell_type": "code",
   "execution_count": 6,
   "metadata": {},
   "outputs": [
    {
     "name": "stdout",
     "output_type": "stream",
     "text": [
      "{'Location': '/judge/en/login', 'Date': 'Sun, 23 Dec 2018 21:34:04 GMT', 'Strict-Transport-Security': 'max-age=63072000; includeSubdomains;', 'X-Frame-Options': 'SAMEORIGIN', 'Server': 'Apache', 'Connection': 'Upgrade, Keep-Alive', 'Content-Length': '0', 'Keep-Alive': 'timeout=60, max=1000', 'Content-Type': 'text/html; charset=UTF-8', 'Upgrade': 'h2,h2c'}\n"
     ]
    }
   ],
   "source": [
    "print(response.history[0].headers)"
   ]
  },
  {
   "cell_type": "code",
   "execution_count": 7,
   "metadata": {},
   "outputs": [
    {
     "name": "stdout",
     "output_type": "stream",
     "text": [
      "/judge/en/login\n"
     ]
    }
   ],
   "source": [
    "# Caminho de redirecionamento\n",
    "print(response.history[0].headers['Location'])"
   ]
  },
  {
   "cell_type": "code",
   "execution_count": 8,
   "metadata": {},
   "outputs": [
    {
     "name": "stdout",
     "output_type": "stream",
     "text": [
      "302\n",
      "https://www.urionlinejudge.com.br/\n"
     ]
    }
   ],
   "source": [
    "# Não quero que minha requisição seja redirecionada\n",
    "response = requests.get(\"https://www.urionlinejudge.com.br\", allow_redirects=False)\n",
    "print(response.status_code)\n",
    "print(response.url)"
   ]
  }
 ],
 "metadata": {
  "kernelspec": {
   "display_name": "Python 3",
   "language": "python",
   "name": "python3"
  },
  "language_info": {
   "codemirror_mode": {
    "name": "ipython",
    "version": 3
   },
   "file_extension": ".py",
   "mimetype": "text/x-python",
   "name": "python",
   "nbconvert_exporter": "python",
   "pygments_lexer": "ipython3",
   "version": "3.5.2"
  }
 },
 "nbformat": 4,
 "nbformat_minor": 2
}
