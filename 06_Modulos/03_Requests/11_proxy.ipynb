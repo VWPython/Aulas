{
 "cells": [
  {
   "cell_type": "markdown",
   "metadata": {},
   "source": [
    "## Proxy\n",
    "***\n",
    "\n",
    "Em redes de computadores, um proxy (procurador) é um servidor que age como um intermediário para requisições de clientes solicitando recursos de outros servidores.\n",
    "\n",
    "Um proxy de cache HTTP ou, em inglês, **caching proxy**, permite por exemplo que o cliente requisite um documento na World Wide Web e o proxy procura pelo documento na sua caixa (cache). Se encontrado, a requisição é atendida e o documento é retornado imediatamente. Caso contrário, o proxy busca o documento no servidor remoto, entrega-o ao cliente e salva uma cópia em seu cache.\n",
    "\n",
    "![img](https://user-images.githubusercontent.com/14116020/50387946-d3179800-06ef-11e9-923e-46addd62cf6d.png)\n",
    "\n",
    "Muitos websites afim de evitar que robos façam requisições em seu site, eles limitam a quantidade de requisições por IP. Normalmente a limitação é por dia, ou seja, em um dia você tem o direito de fazer um número X de requisições. Para evitar esse tipo de bloqueio, utiliza-se proxies."
   ]
  },
  {
   "cell_type": "markdown",
   "metadata": {},
   "source": [
    "***"
   ]
  },
  {
   "cell_type": "code",
   "execution_count": 1,
   "metadata": {},
   "outputs": [],
   "source": [
    "import requests"
   ]
  },
  {
   "cell_type": "code",
   "execution_count": 2,
   "metadata": {},
   "outputs": [],
   "source": [
    "url = 'https://www.hide-my-ip.com/pt/proxylist.shtml'"
   ]
  },
  {
   "cell_type": "code",
   "execution_count": 3,
   "metadata": {},
   "outputs": [],
   "source": [
    "# Esse IP:PORTA você pega no site acima\n",
    "proxies = {'http':'218.207.102.106:81'}"
   ]
  },
  {
   "cell_type": "code",
   "execution_count": 4,
   "metadata": {},
   "outputs": [
    {
     "name": "stdout",
     "output_type": "stream",
     "text": [
      "200\n"
     ]
    }
   ],
   "source": [
    "try:\n",
    "    response = requests.get(url, proxies=proxies)\n",
    "    print(response.status_code)\n",
    "except requests.exceptions.ConnectionError as e:\n",
    "    print(str(e))"
   ]
  }
 ],
 "metadata": {
  "kernelspec": {
   "display_name": "Python 3",
   "language": "python",
   "name": "python3"
  },
  "language_info": {
   "codemirror_mode": {
    "name": "ipython",
    "version": 3
   },
   "file_extension": ".py",
   "mimetype": "text/x-python",
   "name": "python",
   "nbconvert_exporter": "python",
   "pygments_lexer": "ipython3",
   "version": "3.7.6"
  }
 },
 "nbformat": 4,
 "nbformat_minor": 2
}
