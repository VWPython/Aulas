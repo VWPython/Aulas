{
 "cells": [
  {
   "cell_type": "markdown",
   "metadata": {},
   "source": [
    "## Modulo Requests (POST)\n",
    "***\n",
    "\n",
    "Neste exemplo com requisições POST vamos buscar um CEP especifico no site do correios\n",
    "\n",
    "***"
   ]
  },
  {
   "cell_type": "code",
   "execution_count": 1,
   "metadata": {},
   "outputs": [],
   "source": [
    "import requests"
   ]
  },
  {
   "cell_type": "code",
   "execution_count": 2,
   "metadata": {},
   "outputs": [],
   "source": [
    "url = \"http://www.buscacep.correios.com.br/sistemas/buscacep/resultadoBuscaCepEndereco.cfm\""
   ]
  },
  {
   "cell_type": "code",
   "execution_count": 3,
   "metadata": {},
   "outputs": [],
   "source": [
    "body = {\n",
    "    \"relaxation\": \"12240000\",\n",
    "    \"tipoCep\": \"ALL\",\n",
    "    \"semelhante\": \"N\"\n",
    "} "
   ]
  },
  {
   "cell_type": "code",
   "execution_count": 4,
   "metadata": {},
   "outputs": [],
   "source": [
    "response = requests.post(url, data=body)"
   ]
  },
  {
   "cell_type": "code",
   "execution_count": 5,
   "metadata": {},
   "outputs": [],
   "source": [
    "with open(\"correios.html\", \"w\") as file:\n",
    "    file.write(response.text)"
   ]
  },
  {
   "cell_type": "code",
   "execution_count": 6,
   "metadata": {},
   "outputs": [
    {
     "name": "stdout",
     "output_type": "stream",
     "text": [
      "{'Date': 'Mon, 06 Apr 2020 23:16:40 GMT', 'Server': 'Microsoft-IIS/10.0', 'Content-Type': 'text/html;charset=ISO-8859-1', 'Content-Encoding': 'gzip', 'Vary': 'Accept-Encoding', 'X-OPNET-Transaction-Trace': 'a2_724a70ba-bc16-4d46-a80d-efe47f6158be', 'X-Powered-By': 'ASP.NET', 'Content-Length': '8629', 'Accept-Ranges': 'bytes', 'X-Varnish': '1145003230', 'Age': '0', 'Via': '1.1 varnish', 'Set-Cookie': '_op_aixPageId=a2_5506c70c-e496-4000-a643-711acadcabca; Path=/, CFID=Z16c97xp1nfat85vel35thx6qc0x7tyryg54wwfrh1nlek21mq-158198165; Domain=.buscacep.correios.com.br; Expires=Wed, 30-Mar-2050 23:11:58 GMT; Path=/; HttpOnly, CFTOKEN=Z16c97xp1nfat85vel35thx6qc0x7tyryg54wwfrh1nlek21mq-7bfc657e0b7a7ed9-31A73759-BC07-0738-7333DE3F0DD1FEF6; Domain=.buscacep.correios.com.br; Expires=Wed, 30-Mar-2050 23:11:58 GMT; Path=/; HttpOnly, JSESSIONID=9952CA3BB79B04B1FE9E68E5E48456EF.cfusion01; Path=/; HttpOnly, CFGLOBALS=urltoken%3DCFID%23%3D158198165%26CFTOKEN%23%3D7bfc657e0b7a7ed9%2D31A73759%2DBC07%2D0738%2D7333DE3F0DD1FEF6%26jsessionid%23%3D9952CA3BB79B04B1FE9E68E5E48456EF%2Ecfusion01%23lastvisit%3D%7Bts%20%272020%2D04%2D06%2020%3A11%3A58%27%7D%23hitcount%3D2%23timecreated%3D%7Bts%20%272020%2D04%2D06%2020%3A11%3A58%27%7D%23cftoken%3D7bfc657e0b7a7ed9%2D31A73759%2DBC07%2D0738%2D7333DE3F0DD1FEF6%23cfid%3D158198165%23; Domain=.buscacep.correios.com.br; Expires=Wed, 30-Mar-2050 23:11:58 GMT; Path=/; HttpOnly, CFGLOBALS=urltoken%3DCFID%23%3D158198165%26CFTOKEN%23%3D7bfc657e0b7a7ed9%2D31A73759%2DBC07%2D0738%2D7333DE3F0DD1FEF6%26jsessionid%23%3D9952CA3BB79B04B1FE9E68E5E48456EF%2Ecfusion01%23lastvisit%3D%7Bts%20%272020%2D04%2D06%2020%3A11%3A58%27%7D%23hitcount%3D2%23timecreated%3D%7Bts%20%272020%2D04%2D06%2020%3A11%3A58%27%7D%23cftoken%3D7bfc657e0b7a7ed9%2D31A73759%2DBC07%2D0738%2D7333DE3F0DD1FEF6%23cfid%3D158198165%23; Expires=Wed, 30-Mar-2050 23:11:58 GMT; Path=/; HttpOnly, ssvbr0331_buscacep=sac2095_cep; path=/', 'Keep-Alive': 'timeout=5, max=42', 'Connection': 'Keep-Alive'}\n"
     ]
    }
   ],
   "source": [
    "# Pega o cabeçalho de resposta\n",
    "print(response.headers)"
   ]
  },
  {
   "cell_type": "code",
   "execution_count": 7,
   "metadata": {},
   "outputs": [
    {
     "name": "stdout",
     "output_type": "stream",
     "text": [
      "{'User-Agent': 'python-requests/2.23.0', 'Accept-Encoding': 'gzip, deflate', 'Accept': '*/*', 'Connection': 'keep-alive', 'Content-Length': '44', 'Content-Type': 'application/x-www-form-urlencoded'}\n"
     ]
    }
   ],
   "source": [
    "# Pega o cabeçalho de requisição\n",
    "print(response.request.headers)"
   ]
  },
  {
   "cell_type": "code",
   "execution_count": 8,
   "metadata": {},
   "outputs": [],
   "source": [
    "import os\n",
    "os.remove(\"./correios.html\")"
   ]
  }
 ],
 "metadata": {
  "kernelspec": {
   "display_name": "Python 3",
   "language": "python",
   "name": "python3"
  },
  "language_info": {
   "codemirror_mode": {
    "name": "ipython",
    "version": 3
   },
   "file_extension": ".py",
   "mimetype": "text/x-python",
   "name": "python",
   "nbconvert_exporter": "python",
   "pygments_lexer": "ipython3",
   "version": "3.7.6"
  }
 },
 "nbformat": 4,
 "nbformat_minor": 2
}
