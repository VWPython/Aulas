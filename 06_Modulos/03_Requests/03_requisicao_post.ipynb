{
 "cells": [
  {
   "cell_type": "markdown",
   "metadata": {},
   "source": [
    "## Modulo Requests (POST)\n",
    "***\n",
    "\n",
    "Neste exemplo com requisições POST vamos buscar um CEP especifico no site do correios\n",
    "\n",
    "***"
   ]
  },
  {
   "cell_type": "code",
   "execution_count": 1,
   "metadata": {},
   "outputs": [],
   "source": [
    "import requests"
   ]
  },
  {
   "cell_type": "code",
   "execution_count": 2,
   "metadata": {},
   "outputs": [],
   "source": [
    "url = \"http://www.buscacep.correios.com.br/sistemas/buscacep/resultadoBuscaCepEndereco.cfm\""
   ]
  },
  {
   "cell_type": "code",
   "execution_count": 3,
   "metadata": {},
   "outputs": [],
   "source": [
    "body = {\n",
    "    \"relaxation\": \"12240000\",\n",
    "    \"tipoCep\": \"ALL\",\n",
    "    \"semelhante\": \"N\"\n",
    "} "
   ]
  },
  {
   "cell_type": "code",
   "execution_count": 4,
   "metadata": {},
   "outputs": [],
   "source": [
    "response = requests.post(url, data=body)"
   ]
  },
  {
   "cell_type": "code",
   "execution_count": 5,
   "metadata": {},
   "outputs": [],
   "source": [
    "with open(\"correios.html\", \"w\") as file:\n",
    "    file.write(response.text)"
   ]
  },
  {
   "cell_type": "code",
   "execution_count": 6,
   "metadata": {},
   "outputs": [
    {
     "name": "stdout",
     "output_type": "stream",
     "text": [
      "{'Date': 'Mon, 06 Apr 2020 06:32:45 GMT', 'Server': 'Microsoft-IIS/10.0', 'Content-Type': 'text/html;charset=ISO-8859-1', 'Content-Encoding': 'gzip', 'Vary': 'Accept-Encoding', 'X-OPNET-Transaction-Trace': 'a2_2b1d172e-6d74-4a38-b999-350ada57c4f2', 'X-Powered-By': 'ASP.NET', 'Content-Length': '8627', 'Accept-Ranges': 'bytes', 'X-Varnish': '1908919303', 'Age': '0', 'Via': '1.1 varnish', 'Set-Cookie': '_op_aixPageId=a2_dd7079dd-dbc7-4128-af74-9713cd0cdd37; Path=/, CFID=Z16c97xp1nfat85vel35thx6qc0x7tyryg54wwfrh1nlek21mq-158087055; Domain=.buscacep.correios.com.br; Expires=Wed, 30-Mar-2050 06:28:05 GMT; Path=/; HttpOnly, CFTOKEN=Z16c97xp1nfat85vel35thx6qc0x7tyryg54wwfrh1nlek21mq-81c2837082b173a5-0DC041DF-BA8A-D1D2-506861C919EF2B1D; Domain=.buscacep.correios.com.br; Expires=Wed, 30-Mar-2050 06:28:05 GMT; Path=/; HttpOnly, JSESSIONID=1254C6F7E63C2A798DA3306BF6B2CB83.cfusion01; Path=/; HttpOnly, CFGLOBALS=urltoken%3DCFID%23%3D158087055%26CFTOKEN%23%3D81c2837082b173a5%2D0DC041DF%2DBA8A%2DD1D2%2D506861C919EF2B1D%26jsessionid%23%3D1254C6F7E63C2A798DA3306BF6B2CB83%2Ecfusion01%23lastvisit%3D%7Bts%20%272020%2D04%2D06%2003%3A28%3A05%27%7D%23hitcount%3D2%23timecreated%3D%7Bts%20%272020%2D04%2D06%2003%3A28%3A05%27%7D%23cftoken%3D81c2837082b173a5%2D0DC041DF%2DBA8A%2DD1D2%2D506861C919EF2B1D%23cfid%3D158087055%23; Domain=.buscacep.correios.com.br; Expires=Wed, 30-Mar-2050 06:28:05 GMT; Path=/; HttpOnly, CFGLOBALS=urltoken%3DCFID%23%3D158087055%26CFTOKEN%23%3D81c2837082b173a5%2D0DC041DF%2DBA8A%2DD1D2%2D506861C919EF2B1D%26jsessionid%23%3D1254C6F7E63C2A798DA3306BF6B2CB83%2Ecfusion01%23lastvisit%3D%7Bts%20%272020%2D04%2D06%2003%3A28%3A05%27%7D%23hitcount%3D2%23timecreated%3D%7Bts%20%272020%2D04%2D06%2003%3A28%3A05%27%7D%23cftoken%3D81c2837082b173a5%2D0DC041DF%2DBA8A%2DD1D2%2D506861C919EF2B1D%23cfid%3D158087055%23; Expires=Wed, 30-Mar-2050 06:28:05 GMT; Path=/; HttpOnly, ssvbr0326_buscacep=sac2095_2cep; path=/', 'Keep-Alive': 'timeout=5, max=100', 'Connection': 'Keep-Alive'}\n"
     ]
    }
   ],
   "source": [
    "# Pega o cabeçalho de resposta\n",
    "print(response.headers)"
   ]
  },
  {
   "cell_type": "code",
   "execution_count": 7,
   "metadata": {},
   "outputs": [
    {
     "name": "stdout",
     "output_type": "stream",
     "text": [
      "{'User-Agent': 'python-requests/2.23.0', 'Accept-Encoding': 'gzip, deflate', 'Accept': '*/*', 'Connection': 'keep-alive', 'Content-Length': '44', 'Content-Type': 'application/x-www-form-urlencoded'}\n"
     ]
    }
   ],
   "source": [
    "# Pega o cabeçalho de requisição\n",
    "print(response.request.headers)"
   ]
  }
 ],
 "metadata": {
  "kernelspec": {
   "display_name": "Python 3",
   "language": "python",
   "name": "python3"
  },
  "language_info": {
   "codemirror_mode": {
    "name": "ipython",
    "version": 3
   },
   "file_extension": ".py",
   "mimetype": "text/x-python",
   "name": "python",
   "nbconvert_exporter": "python",
   "pygments_lexer": "ipython3",
   "version": "3.7.6"
  }
 },
 "nbformat": 4,
 "nbformat_minor": 2
}
