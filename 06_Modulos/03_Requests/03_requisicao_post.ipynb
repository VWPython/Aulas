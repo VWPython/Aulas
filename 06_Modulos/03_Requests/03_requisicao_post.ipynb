{
 "cells": [
  {
   "cell_type": "markdown",
   "metadata": {},
   "source": [
    "## Modulo Requests (POST)\n",
    "***\n",
    "\n",
    "Neste exemplo com requisições POST vamos buscar um CEP especifico no site do correios\n",
    "\n",
    "***"
   ]
  },
  {
   "cell_type": "code",
   "execution_count": 1,
   "metadata": {},
   "outputs": [],
   "source": [
    "import requests"
   ]
  },
  {
   "cell_type": "code",
   "execution_count": 2,
   "metadata": {},
   "outputs": [],
   "source": [
    "url = \"http://www.buscacep.correios.com.br/sistemas/buscacep/resultadoBuscaCepEndereco.cfm\""
   ]
  },
  {
   "cell_type": "code",
   "execution_count": 3,
   "metadata": {},
   "outputs": [],
   "source": [
    "body = {\n",
    "    \"relaxation\": \"12240000\",\n",
    "    \"tipoCep\": \"ALL\",\n",
    "    \"semelhante\": \"N\"\n",
    "} "
   ]
  },
  {
   "cell_type": "code",
   "execution_count": 4,
   "metadata": {},
   "outputs": [],
   "source": [
    "response = requests.post(url, data=body)"
   ]
  },
  {
   "cell_type": "code",
   "execution_count": 5,
   "metadata": {},
   "outputs": [],
   "source": [
    "with open(\"correios.html\", \"w\") as file:\n",
    "    file.write(response.text)"
   ]
  },
  {
   "cell_type": "code",
   "execution_count": 6,
   "metadata": {},
   "outputs": [
    {
     "name": "stdout",
     "output_type": "stream",
     "text": [
      "{'Keep-Alive': 'timeout=5, max=31', 'Date': 'Sun, 23 Dec 2018 20:35:50 GMT', 'Set-Cookie': '_op_aixPageId=a2_b4f4fdd8-35df-4877-8c6a-3d266a58f886; Path=/, CFID=Z16c97xp1nfat85vel35thx6qc0x7tyryg54wwfrh1nlek21mq-67194339; Domain=.buscacep.correios.com.br; Expires=Tue, 15-Dec-2048 20:34:53 GMT; Path=/; HttpOnly, CFTOKEN=Z16c97xp1nfat85vel35thx6qc0x7tyryg54wwfrh1nlek21mq-5ee382364e1fc30-9FCAE91C-C61A-33BF-F3F049DB47FFB658; Domain=.buscacep.correios.com.br; Expires=Tue, 15-Dec-2048 20:34:53 GMT; Path=/; HttpOnly, JSESSIONID=FA3C09A4725F078E02EA5D2FCC56EF02.cfusion01; Path=/; HttpOnly, CFGLOBALS=urltoken%3DCFID%23%3D67194339%26CFTOKEN%23%3D5ee382364e1fc30%2D9FCAE91C%2DC61A%2D33BF%2DF3F049DB47FFB658%26jsessionid%23%3DFA3C09A4725F078E02EA5D2FCC56EF02%2Ecfusion01%23lastvisit%3D%7Bts%20%272018%2D12%2D23%2018%3A34%3A53%27%7D%23hitcount%3D2%23timecreated%3D%7Bts%20%272018%2D12%2D23%2018%3A34%3A53%27%7D%23cftoken%3D5ee382364e1fc30%2D9FCAE91C%2DC61A%2D33BF%2DF3F049DB47FFB658%23cfid%3D67194339%23; Domain=.buscacep.correios.com.br; Expires=Tue, 15-Dec-2048 20:34:53 GMT; Path=/; HttpOnly, CFGLOBALS=urltoken%3DCFID%23%3D67194339%26CFTOKEN%23%3D5ee382364e1fc30%2D9FCAE91C%2DC61A%2D33BF%2DF3F049DB47FFB658%26jsessionid%23%3DFA3C09A4725F078E02EA5D2FCC56EF02%2Ecfusion01%23lastvisit%3D%7Bts%20%272018%2D12%2D23%2018%3A34%3A53%27%7D%23hitcount%3D2%23timecreated%3D%7Bts%20%272018%2D12%2D23%2018%3A34%3A53%27%7D%23cftoken%3D5ee382364e1fc30%2D9FCAE91C%2DC61A%2D33BF%2DF3F049DB47FFB658%23cfid%3D67194339%23; Expires=Tue, 15-Dec-2048 20:34:53 GMT; Path=/; HttpOnly, ssvbr0327_buscacep=sac2095_2cep; path=/', 'Content-Encoding': 'gzip', 'Connection': 'Keep-Alive', 'Server': 'Microsoft-IIS/10.0', 'X-Varnish': '1771890529', 'Accept-Ranges': 'bytes', 'Vary': 'Accept-Encoding', 'Via': '1.1 varnish', 'X-OPNET-Transaction-Trace': 'a2_1991b502-e33e-44d1-b7c9-bd2f7d1d4c17', 'Content-Type': 'text/html;charset=ISO-8859-1', 'X-Powered-By': 'ASP.NET', 'Content-Length': '8593', 'Age': '0'}\n"
     ]
    }
   ],
   "source": [
    "# Pega o cabeçalho de resposta\n",
    "print(response.headers)"
   ]
  },
  {
   "cell_type": "code",
   "execution_count": 7,
   "metadata": {},
   "outputs": [
    {
     "name": "stdout",
     "output_type": "stream",
     "text": [
      "{'Accept-Encoding': 'gzip, deflate', 'Content-Type': 'application/x-www-form-urlencoded', 'Accept': '*/*', 'Connection': 'keep-alive', 'Content-Length': '44', 'User-Agent': 'python-requests/2.21.0'}\n"
     ]
    }
   ],
   "source": [
    "# Pega o cabeçalho de requisição\n",
    "print(response.request.headers)"
   ]
  }
 ],
 "metadata": {
  "kernelspec": {
   "display_name": "Python 3",
   "language": "python",
   "name": "python3"
  },
  "language_info": {
   "codemirror_mode": {
    "name": "ipython",
    "version": 3
   },
   "file_extension": ".py",
   "mimetype": "text/x-python",
   "name": "python",
   "nbconvert_exporter": "python",
   "pygments_lexer": "ipython3",
   "version": "3.5.2"
  }
 },
 "nbformat": 4,
 "nbformat_minor": 2
}
