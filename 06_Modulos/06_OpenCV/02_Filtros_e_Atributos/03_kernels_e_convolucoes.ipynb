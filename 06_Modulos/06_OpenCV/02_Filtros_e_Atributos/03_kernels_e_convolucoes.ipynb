{
 "cells": [
  {
   "cell_type": "markdown",
   "metadata": {},
   "source": [
    "## O que são os kernels e convoluçoes?\n",
    "***"
   ]
  },
  {
   "cell_type": "markdown",
   "metadata": {},
   "source": [
    "Na imagem abaixo nós temos uma imagem e um kernel, ambos são matrizes, a imagem é uma matriz maior e o kernel é uma matriz menor.\n",
    "\n",
    "![img](https://user-images.githubusercontent.com/14116020/64469903-acc84a00-d110-11e9-9fdf-56406635261e.png)\n",
    "\n",
    "Se eu tenho 2 matrizes eu posso fazer operações entre matrizes.\n",
    "\n",
    "Observe que o kernel é uma matriz (3x3), a matriz tem um valor posicionado exatamento no meio dela e ela está posicionada em uma área da imagem, tendo como centro esse valor, cada pixel em torno desse valor central tb está sobreposto ao kernel.\n",
    "\n",
    "A minha atividade de aplicar um kernel em uma imagem é exatamente aplicar um filtro sobre ela. Ou seja, eu vou pegar o pixel do centro do kernel e vou multiplicar os valores do kernel pelos valores dos pixels da imagem sobreposto ao kernel.\n",
    "\n",
    "Logo em seguida somamos esses valores e alimentamos a imagem de saída com o resultado dessa soma.\n",
    "\n",
    "Ficando da seguinte maneira: -1*93 + 0*139 + 1*101 + ... + 1*18 = x\n",
    "\n",
    "Após isso o kernel se movimento para a direita ou para cima, realizando novamente as operações.\n",
    "\n",
    "Os kernel é uma matriz MxN, sendo que M e N devem ser valores impares, por exemplo, 3x3, 5x5, 7x7, 9x9, 3x5, ... Não necessariamente precisa ser uma matriz quadrada. Ela deve ter dimensões impares para que ele tenha um centro para que eu possa olhar para um único pixel e fazer operações nos pixels vizinhos.\n",
    "\n",
    "![img](https://user-images.githubusercontent.com/14116020/64470086-ab4c5100-d113-11e9-97bf-17eee7e62235.png)\n",
    "\n",
    "E se as dimensões do kernel forem pares, por exemplo kernel 2x2? Eu não consigo detectar o pixel do meio, embora seja possível aplicar uma técnica de interpolação e encontrar um pixel meio quebrado."
   ]
  },
  {
   "cell_type": "markdown",
   "metadata": {},
   "source": [
    "***\n",
    "### Como funciona a convolução\n",
    "***\n",
    "\n",
    "No processamento de imagem a convolução requer 3 componentes\n",
    "\n",
    "![img](https://user-images.githubusercontent.com/14116020/64470119-32012e00-d114-11e9-92a1-5b0404dd86ab.png)\n",
    "\n",
    "Então vou receber uma imagem de entrada vou aplicar o kernel e vou gerar uma imagem de saída.\n",
    "\n",
    "A convolução ocorre da seguinte maneira:\n",
    "\n",
    "1. Selecionamento a coordenada (x, y) da imagem de entrada que vai servir como ponto de partida.\n",
    "\n",
    "2. Posicionamentos o centro do kernel na coordenada (x, y) definida.\n",
    "\n",
    "3. Multiplicamos cada valor do kernel pelo valor do pixel correspondente na imagem e somamos todas essas operações de multiplicação. O resultado gravamos na imagem de saída.\n",
    "\n",
    "![img](https://user-images.githubusercontent.com/14116020/64470169-12b6d080-d115-11e9-800f-5d6abcc7fc13.png)\n",
    "\n",
    "A convolução é simplesmente a soma da multiplicação de matriz element-wise entre o kernel e a vizinhança que o kernel cobre da imagem de entrada."
   ]
  },
  {
   "cell_type": "markdown",
   "metadata": {},
   "source": [
    "***\n",
    "### O que são Filtros?\n",
    "***\n",
    "\n",
    "Melhorar  uma  imagem  aplicando  alguma  função  nos  valores  de  pixel  é  chamado  de filtragem. O processo de filtragem enfoca os valores da vizinhança de um pixel e usa alguns para modificar o valor do pixel. Isso é feito convolvendo a matriz da imagem com um kernel. Portanto, para diferentes filtros, você pode criar diferentes tipos de kernels. Ao convolver a matriz da imagem com o kernel, basicamente você está tomando uma média ponderada dos valores  vizinhos.  Este  método  pode  ser  usado  para  reduzir  o  ruído  em  uma  imagem,  criar efeitos, detectar bordase assim por diante. A filtragem também pode ser usada para reduzir o ruído em uma imagem, pois calcula uma média ponderada e, ao fazer a média do ruído em um pixel particular, também reduz o ruído. Os tipos de filtragem mais comuns são os seguintes:\n",
    "\n",
    "* Gaussian Blur\n",
    "* Median Filter\n",
    "* Dilatação e Erosão\n",
    "* Filtros Customizados\n",
    "* Limite de imagem(Image thresholding)\n",
    "* ..."
   ]
  }
 ],
 "metadata": {
  "kernelspec": {
   "display_name": "Python 3",
   "language": "python",
   "name": "python3"
  },
  "language_info": {
   "codemirror_mode": {
    "name": "ipython",
    "version": 3
   },
   "file_extension": ".py",
   "mimetype": "text/x-python",
   "name": "python",
   "nbconvert_exporter": "python",
   "pygments_lexer": "ipython3",
   "version": "3.5.2"
  }
 },
 "nbformat": 4,
 "nbformat_minor": 2
}
