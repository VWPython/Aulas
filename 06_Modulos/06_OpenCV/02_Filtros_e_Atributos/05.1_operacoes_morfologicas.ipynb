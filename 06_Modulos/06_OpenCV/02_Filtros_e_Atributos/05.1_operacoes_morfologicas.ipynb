{
 "cells": [
  {
   "cell_type": "markdown",
   "metadata": {},
   "source": [
    "## Operações Morfológicas com Imagens\n",
    "***"
   ]
  },
  {
   "cell_type": "markdown",
   "metadata": {},
   "source": [
    "As operações morfológicas são transformações simples aplicadas em imagens binárias ou em escala de cinza. Mais especificamente, aplicamos operações morfológicas a formas e estruturas  dentro  das  imagens.  Podemos  usar  operações  morfológicas  para  aumentar  o tamanho dos objetos em imagens, bem como diminuí-los. Podemos também utilizar operações morfológicas para fechar lacunas entre objetos e abri-los. As operações morfológicas são tipos específicos de filtros\n",
    "\n",
    "As operações morfológicas \"sondam\" uma imagem com um elemento estruturante. Este elemento estruturante define a vizinhança a ser examinada em torno de cada pixel. E com base na operação dada e no tamanho do elemento estruturante, podemos ajustar nossa imagem de saída.\n",
    "\n",
    "Existem  muitas  transformações  morfológicas  diferentes  que  realizam  operações \"opostas\" umas das outras -assim como a adição é o \"oposto\" da subtração, podemos pensar na operação morfológica da erosão como o \"oposto\" da dilatação.\n",
    "\n",
    "Operações  morfológicas  são  muito  poderosas. Muitas  vezes vemos pesquisadores  e desenvolvedores  de  visão computacional tentando  resolver  um  problema  e  imediatamente mergulhando em  técnicas  avançadas  de visão computacional e  aprendizagem  de  máquinas. Parece que, uma vez que você aprende a usar um martelo, todos os problemas se tornam um prego. No entanto, há momentos em que uma solução mais \"elegante\" pode ser encontrada usando técnicas menos avançadas.\n",
    "\n",
    "Haverá momentos em sua carreira em visão computacional quando você estará pronto para  balançar  o  martelo  em  um  problema,  apenas  para  perceber  que  uma  solução  mais elegante e simples já pode existir. E mais do que provável, você pode encontrar essa solução elegante em operações morfológicas. As principais são:\n",
    "\n",
    "* Erosão\n",
    "* Dilatação\n",
    "\n",
    "As operações morfológicas em imagens são operações que utilizam a estrutura inerente ou características de uma imagem e processam a imagem enquanto mantêm a estrutura geral. Os exemplos mais comuns de operadores morfológicos são erosão e dilatação."
   ]
  }
 ],
 "metadata": {
  "kernelspec": {
   "display_name": "Python 3",
   "language": "python",
   "name": "python3"
  },
  "language_info": {
   "codemirror_mode": {
    "name": "ipython",
    "version": 3
   },
   "file_extension": ".py",
   "mimetype": "text/x-python",
   "name": "python",
   "nbconvert_exporter": "python",
   "pygments_lexer": "ipython3",
   "version": "3.7.6"
  }
 },
 "nbformat": 4,
 "nbformat_minor": 2
}
