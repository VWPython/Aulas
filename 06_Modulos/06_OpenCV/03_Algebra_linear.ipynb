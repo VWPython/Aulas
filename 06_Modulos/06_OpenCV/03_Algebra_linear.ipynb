{
 "cells": [
  {
   "cell_type": "markdown",
   "metadata": {},
   "source": [
    "## Álgebra Linear\n",
    "***\n",
    "### Escalares, Vetores, Matrizes e Tensores\n",
    "***"
   ]
  },
  {
   "cell_type": "markdown",
   "metadata": {},
   "source": [
    "Deep Learning envolve muita matemática e operações com matrizes, sendo importante você entender o básico antes de mergulhar na construção de suas próprias redes neurais. Este bonus oferece um passo a passo de como realizar essas operações matemáticas e utilizar a biblioteca Python de computação científica, o Numpy, base de quase todos os frameworks de Deep Learning.\n",
    "\n",
    "Como você aprendeu até aqui na Formação IA, as redes neurais esperam receber os dados em um formato específico e o tratamento do shape (formato) dos dados de input é sua responsabilidade. Os dados podem assumir os mais variados formatos e conhecer o que você vai processar com as redes neurais é de extrema importância.\n",
    "\n",
    "Os dados que vão alimentar a rede neural, podem assumir basicamente 4 formatos: Scalar, Vetor, Matriz e Tensor. O número de dimensões que serão representados, definem qual desses  formatos  você  deverá  utilizar! Pode  ser  necessário  combinar  esses  formato,  para representar o shape dos dados que você quer processar e isso é simplesmente uma operação matemática.\n",
    "\n",
    "![img](https://user-images.githubusercontent.com/14116020/56332956-abe64a00-6168-11e9-9f18-bab401bb928e.png)\n",
    "\n",
    "Dados com alta dimensionalidade podem ser difíceis de visualizar. Podemos ter uma matriz com 3 dimensões, ou mesmo uma matriz de vetores. Para dados com quatro dimensões, você poderia imaginar uma matriz em que cada elemento é uma matriz (algo como uma matriz de  matrizes).  Daí  em  diante  você consegue  imaginar  a  dificuldade  no  tratamento  de  dados altamente dimensionais.\n",
    "\n",
    "Uma imagem, por exemplo, é composta de 3 canais RGB, conforme figura abaixo:\n",
    "\n",
    "![img](https://user-images.githubusercontent.com/14116020/56332997-d89a6180-6168-11e9-8df2-0be921cbeabf.png)\n",
    "\n",
    "Portanto,  uma  imagem  poderia  ser  armazenada  no  formato  de  um  tensor  de  3 dimensões, com uma dimensão para cada canal da imagem: Red, Blue e Green.\n",
    "\n",
    "Dentro de uma matriz, cada posição é representada pelos índices, que nos ajudam a acessar cada elemento para o processamento.\n",
    "\n",
    "![img](https://user-images.githubusercontent.com/14116020/56333038-fec00180-6168-11e9-8136-1501cf8cdee8.png)\n",
    "\n",
    "Algo que costuma causar confusão, é a forma como usamos os índices para buscar os dados na matriz. Na matemática (e como você pode observar na figura acima), começamos o índice  por  1.  Portanto,  o  valor  4  na  matrix  está  na  posição  a21  (linha  2,  coluna  1).  Mas  as linguagens  de  programação  possuem  uma  representação  diferente  e  no  caso  da  linguagem Python,  índices  começam  por  0.  Logo,  em  Python,  a  matriz  seria  representada  por  esta combinação  de  índices  da  figura  abaixo.  Fique  atento  para  não  confundir  a  representação matemática  com  a  representação  da  linguagem  de  programação. O  número  4  agora  seria representado pelo índice a10 (linha 2, coluna 1, com índices em Python).\n",
    "\n",
    "![img](https://user-images.githubusercontent.com/14116020/56333093-2f07a000-6169-11e9-93ee-1799d9383550.png)"
   ]
  },
  {
   "cell_type": "markdown",
   "metadata": {},
   "source": [
    "***\n",
    "### Tipos de Dados e Shapes\n",
    "***\n",
    "\n",
    "Python é uma excelente linguagem de programação, mas ela pode ser lenta quando usada na sua forma básica. No entanto, ele permite que você acesse bibliotecas que executem código mais rápido escrito em linguagens como C. NumPy é uma dessas bibliotecas: fornece alternativas rápidas para operações matemáticas em Python e foi projetado para funcionar de forma eficiente com grupos de números - como matrizes.\n",
    "\n",
    "NumPy é uma excelente biblioteca, sendo a base de quase todos os frameworks de Deep Learning, como você viu no curso anterior. Veremos agora algumas operações matemáticas essenciais para a construção de redes neurais e como realizar seu processamento com o NumPy.\n",
    "\n",
    "A maneira mais comum de trabalhar com números em NumPy é através de objetos ndarray. Eles são semelhantes às listas em Python, mas podem ter qualquer número de dimensões. Além disso, o ndarray suporta operações matemáticas rápidas, o que é exatamente o que queremos.\n",
    "\n",
    "Como você pode armazenar qualquer número de dimensões, você pode usar ndarrays para representar qualquer um dos tipos de dados que abordamos antes: escalares, vetores, matrizes ou tensores."
   ]
  },
  {
   "cell_type": "code",
   "execution_count": 1,
   "metadata": {},
   "outputs": [],
   "source": [
    "import numpy as np"
   ]
  },
  {
   "cell_type": "markdown",
   "metadata": {},
   "source": [
    "***\n",
    "### Escalares\n",
    "***\n",
    "\n",
    "Escalares em NumPy são mais eficientes do que em Python. Em vez dos tipos básicos do Python como int, float, etc., o NumPy permite especificar tipos mais específicos, bem como diferentes tamanhos. Então, em vez de usar int em Python, você tem acesso a tipos como uint8, int8, uint16, int16 e assim por diante, ao usar o NumPy.\n",
    "\n",
    "Esses tipos são importantes porque todos os objetos que você cria (vetores, matrizes, tensores) acabam por armazenar escalares. E quando você cria uma matriz NumPy, você pode especificar o tipo (mas cada item na matriz deve ter o mesmo tipo). Nesse sentido, os arrays NumPy são mais como arrays C do que as listas em Python.\n",
    "\n",
    "Se você quiser criar uma matriz NumPy que contenha um escalar, usamos a função array do NumPy:"
   ]
  },
  {
   "cell_type": "code",
   "execution_count": 2,
   "metadata": {},
   "outputs": [],
   "source": [
    "escalar = np.array(8)"
   ]
  },
  {
   "cell_type": "code",
   "execution_count": 3,
   "metadata": {},
   "outputs": [
    {
     "data": {
      "text/plain": [
       "array(8)"
      ]
     },
     "execution_count": 3,
     "metadata": {},
     "output_type": "execute_result"
    }
   ],
   "source": [
    "escalar"
   ]
  },
  {
   "cell_type": "markdown",
   "metadata": {},
   "source": [
    "Você ainda pode realizar matemática entre ndarrays, escalares NumPy e escalares Python normais, como veremos mais adiante.\n",
    "\n",
    "Você pode ver o shape da matriz usando o atributo shape, conforme abaixo. Esse comando retorna um () vazio, indicando que este objeto é um escalar."
   ]
  },
  {
   "cell_type": "code",
   "execution_count": 4,
   "metadata": {},
   "outputs": [
    {
     "data": {
      "text/plain": [
       "()"
      ]
     },
     "execution_count": 4,
     "metadata": {},
     "output_type": "execute_result"
    }
   ],
   "source": [
    "escalar.shape"
   ]
  },
  {
   "cell_type": "markdown",
   "metadata": {},
   "source": [
    "Mesmo que os escalares estejam dentro de arrays, você ainda os usa como um escalar normal, para operações matemáticas:"
   ]
  },
  {
   "cell_type": "code",
   "execution_count": 5,
   "metadata": {},
   "outputs": [],
   "source": [
    "x = escalar - 2"
   ]
  },
  {
   "cell_type": "code",
   "execution_count": 6,
   "metadata": {},
   "outputs": [
    {
     "data": {
      "text/plain": [
       "6"
      ]
     },
     "execution_count": 6,
     "metadata": {},
     "output_type": "execute_result"
    }
   ],
   "source": [
    "x"
   ]
  },
  {
   "cell_type": "markdown",
   "metadata": {},
   "source": [
    "E x seria igual a 6. Se você verificar o tipo de x, vai perceber que é numpy.int64, pois você está trabalhando com tipos NumPy, e não com os tipos Python.\n",
    "\n",
    "Mesmo os tipos escalares suportam a maioria das funções de matriz. Então você pode chamar x.shape e retornaria () porque tem zero dimensões, mesmo que não seja uma matriz. Se você tentar usar o objeto como um escalar Python normal, você obterá um erro."
   ]
  },
  {
   "cell_type": "code",
   "execution_count": 7,
   "metadata": {},
   "outputs": [
    {
     "data": {
      "text/plain": [
       "numpy.int64"
      ]
     },
     "execution_count": 7,
     "metadata": {},
     "output_type": "execute_result"
    }
   ],
   "source": [
    "type(x)"
   ]
  },
  {
   "cell_type": "markdown",
   "metadata": {},
   "source": [
    "***\n",
    "### Vetores\n",
    "***"
   ]
  },
  {
   "cell_type": "markdown",
   "metadata": {},
   "source": [
    "Para criar um vetor, você passaria uma lista Python para a função array(), assim:"
   ]
  },
  {
   "cell_type": "code",
   "execution_count": 8,
   "metadata": {},
   "outputs": [],
   "source": [
    "array = np.array([1,2,3])"
   ]
  },
  {
   "cell_type": "code",
   "execution_count": 9,
   "metadata": {},
   "outputs": [
    {
     "data": {
      "text/plain": [
       "array([1, 2, 3])"
      ]
     },
     "execution_count": 9,
     "metadata": {},
     "output_type": "execute_result"
    }
   ],
   "source": [
    "array"
   ]
  },
  {
   "cell_type": "code",
   "execution_count": 10,
   "metadata": {},
   "outputs": [
    {
     "data": {
      "text/plain": [
       "(3,)"
      ]
     },
     "execution_count": 10,
     "metadata": {},
     "output_type": "execute_result"
    }
   ],
   "source": [
    "array.shape"
   ]
  },
  {
   "cell_type": "markdown",
   "metadata": {},
   "source": [
    "Se você verificar o atributo de shape do vetor, ele retornará um único número representando o comprimento unidimensional do vetor. No exemplo acima, vec.shape retorna (3,).\n",
    "\n",
    "Agora que há um número, você pode ver que a forma é uma tupla com os tamanhos de cada uma das dimensões do ndarray. Para os escalares, era apenas uma tupla vazia, mas os vetores têm uma dimensão, então a tupla inclui um número e uma vírgula. (Python não entende (3) como uma tupla com um item, por isso requer a vírgula.\n",
    "\n",
    "Você pode acessar um elemento dentro do vetor usando índices, como este abaixo (como você pode ver, em Python a indexação começa por 0 e o índice 1 representa o segundo elemento da matriz)."
   ]
  },
  {
   "cell_type": "code",
   "execution_count": 11,
   "metadata": {},
   "outputs": [
    {
     "data": {
      "text/plain": [
       "2"
      ]
     },
     "execution_count": 11,
     "metadata": {},
     "output_type": "execute_result"
    }
   ],
   "source": [
    "array[1]"
   ]
  },
  {
   "cell_type": "markdown",
   "metadata": {},
   "source": [
    "NumPy também suporta técnicas avançadas de indexação. Por exemplo, para acessar os itens do segundo elemento em diante, você usaria:"
   ]
  },
  {
   "cell_type": "code",
   "execution_count": 12,
   "metadata": {},
   "outputs": [
    {
     "data": {
      "text/plain": [
       "array([1, 2])"
      ]
     },
     "execution_count": 12,
     "metadata": {},
     "output_type": "execute_result"
    }
   ],
   "source": [
    "array[:2]"
   ]
  },
  {
   "cell_type": "markdown",
   "metadata": {},
   "source": [
    "NumPy slicing é bastante poderoso, permitindo que você acesse qualquer combinação de itens em um ndarray. "
   ]
  },
  {
   "cell_type": "markdown",
   "metadata": {},
   "source": [
    "***\n",
    "### Matrizes\n",
    "***\n",
    "\n",
    "Você cria matrizes usando a função de array() NumPy, exatamente como você fez com os vetores. No entanto, em vez de apenas passar uma lista, você precisa fornecer uma lista de listas, onde cada lista representa uma linha. Então, para criar uma matriz 3x3 contendo os números de um a nove, você poderia fazer isso:"
   ]
  },
  {
   "cell_type": "code",
   "execution_count": 13,
   "metadata": {},
   "outputs": [],
   "source": [
    "matriz = np.array([[1,2,3], [4,5,6], [7,8,9]])"
   ]
  },
  {
   "cell_type": "code",
   "execution_count": 14,
   "metadata": {},
   "outputs": [
    {
     "data": {
      "text/plain": [
       "array([[1, 2, 3],\n",
       "       [4, 5, 6],\n",
       "       [7, 8, 9]])"
      ]
     },
     "execution_count": 14,
     "metadata": {},
     "output_type": "execute_result"
    }
   ],
   "source": [
    "matriz"
   ]
  },
  {
   "cell_type": "code",
   "execution_count": 15,
   "metadata": {},
   "outputs": [
    {
     "data": {
      "text/plain": [
       "(3, 3)"
      ]
     },
     "execution_count": 15,
     "metadata": {},
     "output_type": "execute_result"
    }
   ],
   "source": [
    "matriz.shape"
   ]
  },
  {
   "cell_type": "markdown",
   "metadata": {},
   "source": [
    "Verificando o atributo shape, retornaria a tupla (3, 3) para indicar que a matriz tem duas dimensões, cada dimensão com comprimento 3.\n",
    "\n",
    "Você pode acessar elementos de matrizes como vetores, mas usando valores de índice adicionais. Então, para encontrar o número 6 na matriz acima, você usaria:"
   ]
  },
  {
   "cell_type": "code",
   "execution_count": 16,
   "metadata": {},
   "outputs": [
    {
     "data": {
      "text/plain": [
       "6"
      ]
     },
     "execution_count": 16,
     "metadata": {},
     "output_type": "execute_result"
    }
   ],
   "source": [
    "matriz[1][2]"
   ]
  },
  {
   "cell_type": "markdown",
   "metadata": {},
   "source": [
    "***\n",
    "### Tensores\n",
    "***\n",
    "\n",
    "Os tensores são como vetores e matrizes, mas podem ter mais dimensões. Por exemplo, para criar um tensor 3x3x2x1, você pode fazer o seguinte:"
   ]
  },
  {
   "cell_type": "code",
   "execution_count": 17,
   "metadata": {},
   "outputs": [],
   "source": [
    "tensor = np.array([\n",
    "    [\n",
    "        [[1], [2]],\n",
    "        [[3], [4]],\n",
    "        [[5], [6]]\n",
    "    ],\n",
    "    [\n",
    "        [[7], [8]],\n",
    "        [[9], [10]],\n",
    "        [[11], [12]]\n",
    "    ],\n",
    "    [\n",
    "        [[13], [14]],\n",
    "        [[15], [16]],\n",
    "        [[17], [17]]\n",
    "    ]\n",
    "])"
   ]
  },
  {
   "cell_type": "code",
   "execution_count": 18,
   "metadata": {},
   "outputs": [
    {
     "data": {
      "text/plain": [
       "(3, 3, 2, 1)"
      ]
     },
     "execution_count": 18,
     "metadata": {},
     "output_type": "execute_result"
    }
   ],
   "source": [
    "# Tensor de 4 dimensões\n",
    "tensor.shape"
   ]
  },
  {
   "cell_type": "markdown",
   "metadata": {},
   "source": [
    "Para acessar um elemento do tensor, usamos a indexação da mesma forma que fizemos com vetores e matrizes:"
   ]
  },
  {
   "cell_type": "code",
   "execution_count": 19,
   "metadata": {},
   "outputs": [
    {
     "data": {
      "text/plain": [
       "17"
      ]
     },
     "execution_count": 19,
     "metadata": {},
     "output_type": "execute_result"
    }
   ],
   "source": [
    "tensor[2][2][1][0]"
   ]
  },
  {
   "cell_type": "markdown",
   "metadata": {},
   "source": [
    "***\n",
    "### Alterando o Formato (shape)\n",
    "***\n",
    "\n",
    "Às vezes, você precisará alterar a forma de seus dados sem realmente alterar seu conteúdo. Por exemplo, você pode ter um vetor, que é unidimensional, mas precisa de uma matriz, que é bidimensional. Há duas maneiras pelas quais você pode fazer isso.\n",
    "\n",
    "Digamos que você tenha o seguinte vetor:"
   ]
  },
  {
   "cell_type": "code",
   "execution_count": 20,
   "metadata": {},
   "outputs": [],
   "source": [
    "array = np.array([1,2,3,4])"
   ]
  },
  {
   "cell_type": "code",
   "execution_count": 21,
   "metadata": {},
   "outputs": [
    {
     "data": {
      "text/plain": [
       "array([1, 2, 3, 4])"
      ]
     },
     "execution_count": 21,
     "metadata": {},
     "output_type": "execute_result"
    }
   ],
   "source": [
    "array"
   ]
  },
  {
   "cell_type": "code",
   "execution_count": 22,
   "metadata": {},
   "outputs": [
    {
     "data": {
      "text/plain": [
       "(4,)"
      ]
     },
     "execution_count": 22,
     "metadata": {},
     "output_type": "execute_result"
    }
   ],
   "source": [
    "array.shape"
   ]
  },
  {
   "cell_type": "markdown",
   "metadata": {},
   "source": [
    "Chamando array.shape retornaria (4,). Mas e se você quiser uma matriz 1x4? Você pode conseguir isso com a função de reshape, assim:"
   ]
  },
  {
   "cell_type": "code",
   "execution_count": 23,
   "metadata": {},
   "outputs": [],
   "source": [
    "matriz = array.reshape(1,4)"
   ]
  },
  {
   "cell_type": "code",
   "execution_count": 24,
   "metadata": {},
   "outputs": [
    {
     "data": {
      "text/plain": [
       "array([[1, 2, 3, 4]])"
      ]
     },
     "execution_count": 24,
     "metadata": {},
     "output_type": "execute_result"
    }
   ],
   "source": [
    "matriz"
   ]
  },
  {
   "cell_type": "code",
   "execution_count": 25,
   "metadata": {},
   "outputs": [
    {
     "data": {
      "text/plain": [
       "(1, 4)"
      ]
     },
     "execution_count": 25,
     "metadata": {},
     "output_type": "execute_result"
    }
   ],
   "source": [
    "matriz.shape"
   ]
  },
  {
   "cell_type": "markdown",
   "metadata": {},
   "source": [
    "A função reshape pode ser usada para outras atividades com matrizes."
   ]
  },
  {
   "cell_type": "markdown",
   "metadata": {},
   "source": [
    "***\n",
    "### Operação Elementares com Scalar\n",
    "***"
   ]
  },
  {
   "cell_type": "markdown",
   "metadata": {},
   "source": [
    "Operações  matemáticas  com  escalares  é  algo  bem  simples  e  você realizar  estas operações  todos  os  dias,  tal  como  adição,  subtração,  multiplicação  e  divisão.  Ao  construir modelos de redes neurais, você terá que realizar estas operações em algum momento, a fim de definir  parâmetros,  ajustar  os  dados  ou  gerar  um  resultado.  Ao  trabalhar  com  milhares  ou mesmo milhões de parâmetros, pode ser necessário escrever um programa que faça loops por uma lista de valores e realize operações matemáticas com valores escalares.\n",
    "\n",
    "Mas em alguns casos (talvez em muitos casos, ao se trabalhar com redes neurais), pode fazer mais sentido armazenar seus valores em matrizes e depois realizar operações **element-wise**, ou seja, tratar os itens na matriz de forma individual, a fim de realizar operações, mas no fim  ter  um  único  objeto  com  o  resultado  dos  seus  cálculos.  Embora  estejamos  falando  de matrizes,  o  conceito  de  realizar  operações  element-wise  de  aplica  a  objeto  com  qualquer número de dimensões.\n",
    "\n",
    "Operações  matemáticas  entre  escalares  é  uma  conta  matemática  simples  e  entre escalares e matrizes, basicamente o mesmo conceito, pois realizamos operações element-wise.\n",
    "\n",
    "![img](https://user-images.githubusercontent.com/14116020/56333914-79d6e700-616c-11e9-9ce4-d5093fe1de43.png)\n",
    "\n",
    "![img](https://user-images.githubusercontent.com/14116020/56333927-8c512080-616c-11e9-978d-e8b648e72dce.png)\n",
    "\n",
    "Operações element-wise podem ser muito úteis durante a fase de pré-processamento dos dados para omodelo de rede neural. Considere o seguinte exemplo.\n",
    "\n",
    "Imagine que tenham uma matriz de valores que representam o canal de cor vermelho (red) de uma imagem qualquer, assumindo que a imagem está definida com cores RGB. Cada valor será um único byte de 0 a 255, conforme figura abaixo.\n",
    "\n",
    "![img](https://user-images.githubusercontent.com/14116020/56333986-e18d3200-616c-11e9-98c8-4b50b9a52306.png)\n",
    "\n",
    "Uma das operações mais comuns em conjuntos de dados, antes de entregá-los a um algoritmo,  é  a  **normalização**,  que  consiste  basicamente  em  converter  todos  os  valores  para ponto flutuante (float) cujo valores estarão no range de 0 e 1. Isso é fácil. Precisamos apenas aplicar  uma  operação  element-wise  à  matriz,  dividindo  cada  valor  por  255. Operações element-wise não funcionam apenas entre escalares e matrizes. Funcionam também entre matrizes. Mas para que isso funcione, existem algumas regras. Uma delas é que as 2 matrizes devem ter o mesmo formato (mesmo shape). Por exemplo, para somar as duas matrizes abaixo, elas precisam ter o mesmo shape:\n",
    "\n",
    "![img](https://user-images.githubusercontent.com/14116020/56334324-439a6700-616e-11e9-9241-783f1c3c7c10.png)\n",
    "\n",
    "E tudo que precisamos fazer é somar pares de números na mesma posição e armazenar o resultado na mesma posição, da matriz resultante:\n",
    "\n",
    "![img](https://user-images.githubusercontent.com/14116020/56334376-6c226100-616e-11e9-837f-96c204701956.png)\n",
    "\n",
    "#### Primeiro, como você faria usando Python puro\n",
    "\n",
    "Suponha que você tenha uma lista de números e que você deseja adicionar 5 a cada item da lista. Sem NumPy, você pode fazer algo como isto:"
   ]
  },
  {
   "cell_type": "code",
   "execution_count": 26,
   "metadata": {},
   "outputs": [],
   "source": [
    "# Lista de valores\n",
    "valores = [1, 2, 3, 4, 5]"
   ]
  },
  {
   "cell_type": "code",
   "execution_count": 27,
   "metadata": {},
   "outputs": [],
   "source": [
    "# Looop for para adicionar 5 a cada elemento da lista\n",
    "for i in range(len(valores)):\n",
    "    valores[i] += 5"
   ]
  },
  {
   "cell_type": "code",
   "execution_count": 28,
   "metadata": {},
   "outputs": [
    {
     "name": "stdout",
     "output_type": "stream",
     "text": [
      "[6, 7, 8, 9, 10]\n"
     ]
    }
   ],
   "source": [
    "print(valores)"
   ]
  },
  {
   "cell_type": "markdown",
   "metadata": {},
   "source": [
    "Isso faz sentido, mas é muito código para escrever e é mais lento, pois é Python puro."
   ]
  },
  {
   "cell_type": "markdown",
   "metadata": {},
   "source": [
    "#### Agora sim, usando NumPy"
   ]
  },
  {
   "cell_type": "code",
   "execution_count": 29,
   "metadata": {},
   "outputs": [],
   "source": [
    "valores = [1,2,3,4,5]"
   ]
  },
  {
   "cell_type": "code",
   "execution_count": 30,
   "metadata": {},
   "outputs": [],
   "source": [
    "valores = np.array(valores) + 5"
   ]
  },
  {
   "cell_type": "code",
   "execution_count": 31,
   "metadata": {},
   "outputs": [
    {
     "name": "stdout",
     "output_type": "stream",
     "text": [
      "[ 6  7  8  9 10]\n"
     ]
    }
   ],
   "source": [
    "print(valores)"
   ]
  },
  {
   "cell_type": "markdown",
   "metadata": {},
   "source": [
    "NumPy facilita muito nosso trabalho e vários frameworks de Deep Learning se baseiam no NumPy.\n",
    "\n",
    "Um outro exemplo de operação element-wise com escalares e objetos ndarrays. Digamos que você tenha um objeto chamado \"valores\" e você queira reutilizá-lo, mas primeiro você precisa definir todos os seus valores em zero. Fácil, basta multiplicar por zero e atribuir o resultado de volta ao objeto, assim:"
   ]
  },
  {
   "cell_type": "code",
   "execution_count": 32,
   "metadata": {},
   "outputs": [],
   "source": [
    "valores *= 0"
   ]
  },
  {
   "cell_type": "code",
   "execution_count": 33,
   "metadata": {},
   "outputs": [
    {
     "name": "stdout",
     "output_type": "stream",
     "text": [
      "[0 0 0 0 0]\n"
     ]
    }
   ],
   "source": [
    "print(valores)"
   ]
  },
  {
   "cell_type": "markdown",
   "metadata": {},
   "source": [
    "#### Operações Element-wise com Matrizes\n",
    "\n",
    "As mesmas funções e operadores que trabalham com escalares e matrizes também funcionam com outras dimensões. Você só precisa se certificar de que os itens que você executa a operação possuem shapes compatíveis."
   ]
  },
  {
   "cell_type": "code",
   "execution_count": 34,
   "metadata": {},
   "outputs": [],
   "source": [
    "x = np.array([[1,3],[5,7]])"
   ]
  },
  {
   "cell_type": "code",
   "execution_count": 35,
   "metadata": {},
   "outputs": [
    {
     "data": {
      "text/plain": [
       "array([[1, 3],\n",
       "       [5, 7]])"
      ]
     },
     "execution_count": 35,
     "metadata": {},
     "output_type": "execute_result"
    }
   ],
   "source": [
    "x"
   ]
  },
  {
   "cell_type": "code",
   "execution_count": 36,
   "metadata": {},
   "outputs": [],
   "source": [
    "y = np.array([[2,4],[6,8]])"
   ]
  },
  {
   "cell_type": "code",
   "execution_count": 37,
   "metadata": {},
   "outputs": [
    {
     "data": {
      "text/plain": [
       "array([[2, 4],\n",
       "       [6, 8]])"
      ]
     },
     "execution_count": 37,
     "metadata": {},
     "output_type": "execute_result"
    }
   ],
   "source": [
    "y"
   ]
  },
  {
   "cell_type": "code",
   "execution_count": 38,
   "metadata": {},
   "outputs": [
    {
     "data": {
      "text/plain": [
       "array([[ 3,  7],\n",
       "       [11, 15]])"
      ]
     },
     "execution_count": 38,
     "metadata": {},
     "output_type": "execute_result"
    }
   ],
   "source": [
    "x + y"
   ]
  },
  {
   "cell_type": "markdown",
   "metadata": {},
   "source": [
    "Isso funciona porque é uma soma de elementos entre duas matrizes de forma (shape) idêntica. Experimente alterar o shape de uma das matrizes e repetir a soma. Você receberá uma mensagem de erro."
   ]
  },
  {
   "cell_type": "markdown",
   "metadata": {},
   "source": [
    "***\n",
    "### Produto de Matrizes\n",
    "***\n",
    "\n",
    "Vimos as operações element-wise e na verdade esse tipo de operação cobre muito  do  que  é  feito no  pré-processamento  de  dados  para  redes  neurais.  Mas  quando precisamos multiplicar matrizes, as coisas ficam um pouco mais complicadas. Vejamos como isso funciona.\n",
    "\n",
    "Aqui temos duas matrizes e queremos realizar a multiplicação entre elas.\n",
    "\n",
    "![img](https://user-images.githubusercontent.com/14116020/56334686-be17b680-616f-11e9-8f1b-d68d657991c3.png)\n",
    "\n",
    "O resultado deixa claro como a operação de multiplicação foi realizada e na prática realizamos uma operação element-wise, totalmente válida.\n",
    "\n",
    "![img](https://user-images.githubusercontent.com/14116020/56334725-ed2e2800-616f-11e9-890b-0fb416161c37.png)\n",
    "\n",
    "Entretanto,  quando  realizamos  operações  de  multiplicação  entre  matrizes, normalmente outro método é usado, chamado **matrix products**, gerando um resultado como demonstrado na figura abaixo:\n",
    "\n",
    "![img](https://user-images.githubusercontent.com/14116020/56334753-0c2cba00-6170-11e9-8a74-4cfa7bf7f4da.png)\n",
    "\n",
    "Mas como chegamos a esse resultado? Continue acompanhando.\n",
    "\n",
    "Antes de voltar as matrizes, vamos realizar a operação de multiplicação entre 2 vetores com o mesmo shape:\n",
    "\n",
    "![img](https://user-images.githubusercontent.com/14116020/56334785-2ebed300-6170-11e9-8b6e-25f5f82dd903.png)\n",
    "\n",
    "Uma operação que podemos realizar com estes vetores, é chamado de **dot product**. Para  encontrar  o  “dot  product”,  primeiro  multiplicamos  os  elementos  correspondentes  em cada vetore depois somamos os resultados, conforme imagem abaixo:\n",
    "\n",
    "![img](https://user-images.githubusercontent.com/14116020/56334829-54e47300-6170-11e9-8290-6c7c33bef012.png)\n",
    "\n",
    "Ou seja, multiplicando 2 vetores de qualquer comprimento, mas que tenham o mesmo shape, nos dá como resultado um valor escalar, nesse caso um único número, 180.\n",
    "\n",
    "E como encontramos então o “dot product” de duas matrizes? Simples. Aplicamos o mesmo conceito que usamos nos vetores, encontrando o “dot product” entre uma linha da primeira  matriz,  com  uma  coluna  da  segunda  matriz  (na  prática  é  como  se  estivéssemos encontrando o dot product entre 2 vetores).\n",
    "\n",
    "![img](https://user-images.githubusercontent.com/14116020/56334875-8a895c00-6170-11e9-861a-612665050515.png)\n",
    "\n",
    "Quando estamos multiplicando 2 matrizes, estamos operando as linhas de uma matriz com as colunas da outra matriz:\n",
    "\n",
    "![img](https://user-images.githubusercontent.com/14116020/56334899-a8ef5780-6170-11e9-9aec-13c1ab2395df.png)\n",
    "\n",
    "Com isso, tudo que precisamos fazer é encontrar o dot product entre a linha da primeira matriz e a coluna correspondente na segunda matriz e assim por diante.\n",
    "\n",
    "![img](https://user-images.githubusercontent.com/14116020/56334947-e522b800-6170-11e9-9ed9-696a6299b6ed.png)\n",
    "\n",
    "Perceba que a matriz resultante terá o mesmo número de linhas da primeira matriz e o mesmo  número  de  colunas  da  segunda  matriz. Para  encontrar  a  matriz  resultante,  foram necessárias  24  multiplicações  e  18  adições,  tudo  isso  para  encontrar  os  6  números  finais. Imagine grandes conjuntos de dados. A multiplicação de matrizes vai requerer muito poder computacional e muitas tarefas repetitivas serão realizadas. Por isso as GPUs são indicadas para este  tipo  de  operação. Quando  trabalhamos  com  reconhecimento  de  imagens,  estamos essencialmente trabalhando com matrizes.\n",
    "\n",
    "![img](https://user-images.githubusercontent.com/14116020/56334987-0683a400-6171-11e9-9258-e9c30b3a0465.png)\n",
    "\n",
    "Lembretes importantes sobre a multiplicação de Matrizes:\n",
    "\n",
    "* O número de colunas na matriz esquerda deve ser igual ao número de linhas na matriz direita.\n",
    "\n",
    "\n",
    "* A  matriz  de  respostas  sempre  possui  o  mesmo  número  de  linhas  que  a  matriz esquerda e o mesmo número de colunas que a matriz direita.\n",
    "\n",
    "\n",
    "* Ordem importa aqui. Multiplicar A • B não é o mesmo que multiplicar B • A\n",
    "\n",
    "\n",
    "* Os  dados  na  matriz  esquerda  devem  ser  organizados  como  linhas,  enquanto  os dados na matriz direita devem ser organizados como colunas.\n",
    "\n",
    "Se você tiver estes quatro pontos em mente, você sempre irá descobrir como organizar adequadamente as suas multiplicações de matriz ao construir uma rede neural."
   ]
  },
  {
   "cell_type": "markdown",
   "metadata": {},
   "source": [
    "#### Multiplicação Element-wise\n",
    "\n",
    "Já vimos a multiplicação de matrizes com element-wise. Apenas para relembrar:"
   ]
  },
  {
   "cell_type": "code",
   "execution_count": 39,
   "metadata": {},
   "outputs": [],
   "source": [
    "# Definimos uma matriz\n",
    "matriz = np.array([[1,2,3],[4,5,6]])"
   ]
  },
  {
   "cell_type": "code",
   "execution_count": 40,
   "metadata": {},
   "outputs": [
    {
     "data": {
      "text/plain": [
       "array([[1, 2, 3],\n",
       "       [4, 5, 6]])"
      ]
     },
     "execution_count": 40,
     "metadata": {},
     "output_type": "execute_result"
    }
   ],
   "source": [
    "matriz"
   ]
  },
  {
   "cell_type": "code",
   "execution_count": 41,
   "metadata": {},
   "outputs": [],
   "source": [
    "# Usamos o operador de multiplicação para multiplicar cada elemento da matriz por 0.50. \n",
    "# Isso vai gerar uma nova matriz n.\n",
    "matriz_resultante = matriz * 0.50"
   ]
  },
  {
   "cell_type": "code",
   "execution_count": 42,
   "metadata": {},
   "outputs": [
    {
     "data": {
      "text/plain": [
       "array([[0.5, 1. , 1.5],\n",
       "       [2. , 2.5, 3. ]])"
      ]
     },
     "execution_count": 42,
     "metadata": {},
     "output_type": "execute_result"
    }
   ],
   "source": [
    "matriz_resultante"
   ]
  },
  {
   "cell_type": "code",
   "execution_count": 43,
   "metadata": {},
   "outputs": [
    {
     "data": {
      "text/plain": [
       "array([[ 0.5,  2. ,  4.5],\n",
       "       [ 8. , 12.5, 18. ]])"
      ]
     },
     "execution_count": 43,
     "metadata": {},
     "output_type": "execute_result"
    }
   ],
   "source": [
    "# Multiplicamos as duas matrizes, element-wise\n",
    "matriz * matriz_resultante"
   ]
  },
  {
   "cell_type": "markdown",
   "metadata": {},
   "source": [
    "####  Matrix Product\n",
    "\n",
    "Para encontrar o produto da matriz, você usa a função matmul() do NumPy. O shape das matrizes precisa ser compatível."
   ]
  },
  {
   "cell_type": "code",
   "execution_count": 44,
   "metadata": {},
   "outputs": [],
   "source": [
    "a = np.array([[1,2,3,4],[5,6,7,8]])"
   ]
  },
  {
   "cell_type": "code",
   "execution_count": 45,
   "metadata": {},
   "outputs": [
    {
     "data": {
      "text/plain": [
       "array([[1, 2, 3, 4],\n",
       "       [5, 6, 7, 8]])"
      ]
     },
     "execution_count": 45,
     "metadata": {},
     "output_type": "execute_result"
    }
   ],
   "source": [
    "a"
   ]
  },
  {
   "cell_type": "code",
   "execution_count": 46,
   "metadata": {},
   "outputs": [
    {
     "data": {
      "text/plain": [
       "(2, 4)"
      ]
     },
     "execution_count": 46,
     "metadata": {},
     "output_type": "execute_result"
    }
   ],
   "source": [
    "a.shape"
   ]
  },
  {
   "cell_type": "code",
   "execution_count": 47,
   "metadata": {},
   "outputs": [],
   "source": [
    "b = np.array([[1,2,3],[4,5,6],[7,8,9],[10,11,12]])"
   ]
  },
  {
   "cell_type": "code",
   "execution_count": 48,
   "metadata": {},
   "outputs": [
    {
     "data": {
      "text/plain": [
       "array([[ 1,  2,  3],\n",
       "       [ 4,  5,  6],\n",
       "       [ 7,  8,  9],\n",
       "       [10, 11, 12]])"
      ]
     },
     "execution_count": 48,
     "metadata": {},
     "output_type": "execute_result"
    }
   ],
   "source": [
    "b"
   ]
  },
  {
   "cell_type": "code",
   "execution_count": 49,
   "metadata": {},
   "outputs": [
    {
     "data": {
      "text/plain": [
       "(4, 3)"
      ]
     },
     "execution_count": 49,
     "metadata": {},
     "output_type": "execute_result"
    }
   ],
   "source": [
    "b.shape"
   ]
  },
  {
   "cell_type": "markdown",
   "metadata": {},
   "source": [
    "observe que o número de colunas da primeira matriz é igual ao número de linhas da segunda matriz. Relebrando as regras:\n",
    "\n",
    "* O número de colunas na matriz esquerda deve ser igual ao número de linhas na matriz direita.\n",
    "\n",
    "* A matriz de respostas sempre possui o mesmo número de linhas que a matriz esquerda e o mesmo número de colunas que a matriz direita.\n",
    "\n",
    "* Ordem importa aqui. Multiplicar A • B não é o mesmo que multiplicar B • A.\n",
    "\n",
    "* Os dados na matriz esquerda devem ser organizados como linhas, enquanto os dados na matriz direita devem ser organizados como colunas."
   ]
  },
  {
   "cell_type": "code",
   "execution_count": 50,
   "metadata": {},
   "outputs": [],
   "source": [
    "matriz_reposta = np.matmul(a, b)"
   ]
  },
  {
   "cell_type": "code",
   "execution_count": 51,
   "metadata": {},
   "outputs": [
    {
     "data": {
      "text/plain": [
       "array([[ 70,  80,  90],\n",
       "       [158, 184, 210]])"
      ]
     },
     "execution_count": 51,
     "metadata": {},
     "output_type": "execute_result"
    }
   ],
   "source": [
    "matriz_reposta"
   ]
  },
  {
   "cell_type": "code",
   "execution_count": 52,
   "metadata": {},
   "outputs": [
    {
     "data": {
      "text/plain": [
       "(2, 3)"
      ]
     },
     "execution_count": 52,
     "metadata": {},
     "output_type": "execute_result"
    }
   ],
   "source": [
    "matriz_reposta.shape"
   ]
  },
  {
   "cell_type": "code",
   "execution_count": 53,
   "metadata": {},
   "outputs": [
    {
     "ename": "ValueError",
     "evalue": "matmul: Input operand 1 has a mismatch in its core dimension 0, with gufunc signature (n?,k),(k,m?)->(n?,m?) (size 2 is different from 3)",
     "output_type": "error",
     "traceback": [
      "\u001b[0;31m---------------------------------------------------------------------------\u001b[0m",
      "\u001b[0;31mValueError\u001b[0m                                Traceback (most recent call last)",
      "\u001b[0;32m<ipython-input-53-5cbc6b44f7d2>\u001b[0m in \u001b[0;36m<module>\u001b[0;34m\u001b[0m\n\u001b[1;32m      1\u001b[0m \u001b[0;31m# Se as matrizes tiverem shape incompatível, você recebe a mensagem de erro abaixo.\u001b[0m\u001b[0;34m\u001b[0m\u001b[0;34m\u001b[0m\u001b[0;34m\u001b[0m\u001b[0m\n\u001b[1;32m      2\u001b[0m \u001b[0;31m# Veja que A x B não é a mesma coisa que B x A na multiplicação de matrizes.\u001b[0m\u001b[0;34m\u001b[0m\u001b[0;34m\u001b[0m\u001b[0;34m\u001b[0m\u001b[0m\n\u001b[0;32m----> 3\u001b[0;31m \u001b[0mnp\u001b[0m\u001b[0;34m.\u001b[0m\u001b[0mmatmul\u001b[0m\u001b[0;34m(\u001b[0m\u001b[0mb\u001b[0m\u001b[0;34m,\u001b[0m \u001b[0ma\u001b[0m\u001b[0;34m)\u001b[0m\u001b[0;34m\u001b[0m\u001b[0;34m\u001b[0m\u001b[0m\n\u001b[0m",
      "\u001b[0;31mValueError\u001b[0m: matmul: Input operand 1 has a mismatch in its core dimension 0, with gufunc signature (n?,k),(k,m?)->(n?,m?) (size 2 is different from 3)"
     ]
    }
   ],
   "source": [
    "# Se as matrizes tiverem shape incompatível, você recebe a mensagem de erro abaixo.\n",
    "# Veja que A x B não é a mesma coisa que B x A na multiplicação de matrizes.\n",
    "np.matmul(b, a)"
   ]
  },
  {
   "cell_type": "markdown",
   "metadata": {},
   "source": [
    "#### Função dot() do NumPy\n",
    "\n",
    "Às vezes, você pode ver a função dot() do NumPy em lugares onde você esperaria um matmul. Acontece que os resultados das funções dot() e matmul() são os mesmos se as matrizes forem de duas dimensões."
   ]
  },
  {
   "cell_type": "code",
   "execution_count": 54,
   "metadata": {},
   "outputs": [],
   "source": [
    "a = np.array([[1,2],[3,4]])"
   ]
  },
  {
   "cell_type": "code",
   "execution_count": 55,
   "metadata": {},
   "outputs": [
    {
     "data": {
      "text/plain": [
       "array([[1, 2],\n",
       "       [3, 4]])"
      ]
     },
     "execution_count": 55,
     "metadata": {},
     "output_type": "execute_result"
    }
   ],
   "source": [
    "a"
   ]
  },
  {
   "cell_type": "code",
   "execution_count": 56,
   "metadata": {},
   "outputs": [
    {
     "data": {
      "text/plain": [
       "array([[ 7, 10],\n",
       "       [15, 22]])"
      ]
     },
     "execution_count": 56,
     "metadata": {},
     "output_type": "execute_result"
    }
   ],
   "source": [
    "np.dot(a, a)"
   ]
  },
  {
   "cell_type": "code",
   "execution_count": 57,
   "metadata": {},
   "outputs": [
    {
     "data": {
      "text/plain": [
       "array([[ 7, 10],\n",
       "       [15, 22]])"
      ]
     },
     "execution_count": 57,
     "metadata": {},
     "output_type": "execute_result"
    }
   ],
   "source": [
    "# Podemos chamar a função dot() diretamente do objeto ndarray\n",
    "a.dot(a)"
   ]
  },
  {
   "cell_type": "code",
   "execution_count": 58,
   "metadata": {},
   "outputs": [
    {
     "data": {
      "text/plain": [
       "array([[ 7, 10],\n",
       "       [15, 22]])"
      ]
     },
     "execution_count": 58,
     "metadata": {},
     "output_type": "execute_result"
    }
   ],
   "source": [
    "np.matmul(a, a)"
   ]
  },
  {
   "cell_type": "markdown",
   "metadata": {},
   "source": [
    "Embora essas funções retornem os mesmos resultados para dados bidimensionais, você deve ter cuidado com o que você escolher ao trabalhar com outras formas de dados. Seguem abaixo referências nas documentações oficiais:\n",
    "\n",
    "* NumPy matmul() - https://docs.scipy.org/doc/numpy/reference/generated/numpy.matmul.html#numpy.matmul\n",
    "\n",
    "* NumPy dot() - https://docs.scipy.org/doc/numpy/reference/generated/numpy.dot.html"
   ]
  },
  {
   "cell_type": "markdown",
   "metadata": {},
   "source": [
    "***\n",
    "### Transposta da Matriz\n",
    "***\n",
    "\n",
    "Já  vimos  que  o  shape  das  matrizes  afeta  as  operações  matemáticas  que realizamos nestes objetos e por isso a Transposta da Matriz pode se usada como forma de nos ajudar a deixar as matrizes no mesmo shape e realizar as operações necessárias.\n",
    "\n",
    "A Transposta de umaMatriz é uma matriz com os mesmos valores que a original, mas com colunas e linhas “trocadas”.\n",
    "\n",
    "![img](https://user-images.githubusercontent.com/14116020/56335326-721a4100-6172-11e9-9822-dc25c0d3fb42.png)\n",
    "\n",
    "![img](https://user-images.githubusercontent.com/14116020/56335361-9118d300-6172-11e9-90e5-d9744bab9071.png)\n",
    "\n",
    "As matrizes transpostas possuem 2 importantes características:\n",
    "\n",
    "* Se a matriz original não for quadrada (3, 3) por exemplo, a matriz transposta terá um  novo  shape,  como  no  exemplo  2  acima. Isso  pode  ser  útil  quando  você precisa multiplicar duas matrizes, mas elas possuem shapes incompatíveis. Nesse caso, podemos gerar a transpostade uma delas.\n",
    "\n",
    "\n",
    "* Os  dados  representados  na  matriz  original,  são  representados  de  forma diferente na matriz transposta. No exemplo 2 acima, se a matriz da esquerda possuía  linhas  de  dados  (representando  observações  por  exemplo),  na  matriz transposta  essa  informação  será  representada  como  colunas. Isso  é  bastante crítico,  pois  ao  fazer  a  transposta  da  matriz,  você  transforma  as  observações (linhas)  em  atributos  (colunas)  e  isso  afetará  completamente  seu  modelo. Portanto, fique atento.\n",
    "\n",
    "**Obs**: Para usar transposta com segurança na multiplicação de matrizes, o ideal é que os dados estejam  organizados  como  linhas  em  ambas  as  matrizes,  original  e  transposta,  sempre  que possível.\n",
    "\n",
    "Obter a transposição de uma matriz é realmente fácil em NumPy. Basta acessar seu atributo T. Há também a função transpose() que retorna a mesma coisa, mas raramente você verá isso usado em qualquer lugar porque digitar T é muito mais fácil."
   ]
  },
  {
   "cell_type": "code",
   "execution_count": 59,
   "metadata": {},
   "outputs": [],
   "source": [
    "m = np.array([[1,2,3,4], [5,6,7,8], [9,10,11,12]])"
   ]
  },
  {
   "cell_type": "code",
   "execution_count": 60,
   "metadata": {},
   "outputs": [
    {
     "data": {
      "text/plain": [
       "array([[ 1,  2,  3,  4],\n",
       "       [ 5,  6,  7,  8],\n",
       "       [ 9, 10, 11, 12]])"
      ]
     },
     "execution_count": 60,
     "metadata": {},
     "output_type": "execute_result"
    }
   ],
   "source": [
    "m"
   ]
  },
  {
   "cell_type": "code",
   "execution_count": 61,
   "metadata": {},
   "outputs": [
    {
     "data": {
      "text/plain": [
       "array([[ 1,  5,  9],\n",
       "       [ 2,  6, 10],\n",
       "       [ 3,  7, 11],\n",
       "       [ 4,  8, 12]])"
      ]
     },
     "execution_count": 61,
     "metadata": {},
     "output_type": "execute_result"
    }
   ],
   "source": [
    "m.T"
   ]
  },
  {
   "cell_type": "markdown",
   "metadata": {},
   "source": [
    "NumPy faz isso sem realmente mover qualquer dado na memória - ele simplesmente muda a maneira como ele indexa a matriz original - por isso é bastante eficiente.\n",
    "\n",
    "No entanto, isso também significa que você precisa ter cuidado com a forma como você modifica objetos, porque eles compartilham os mesmos dados. Por exemplo, com a mesma matriz m acima, vamos fazer uma nova variável m_t que armazene a transposição de m. Então, veja o que acontece se modificarmos um valor em m_t:"
   ]
  },
  {
   "cell_type": "code",
   "execution_count": 62,
   "metadata": {},
   "outputs": [],
   "source": [
    "m_t = m.T\n",
    "m_t[3][1] = 200"
   ]
  },
  {
   "cell_type": "code",
   "execution_count": 63,
   "metadata": {},
   "outputs": [
    {
     "data": {
      "text/plain": [
       "array([[  1,   5,   9],\n",
       "       [  2,   6,  10],\n",
       "       [  3,   7,  11],\n",
       "       [  4, 200,  12]])"
      ]
     },
     "execution_count": 63,
     "metadata": {},
     "output_type": "execute_result"
    }
   ],
   "source": [
    "m_t"
   ]
  },
  {
   "cell_type": "code",
   "execution_count": 64,
   "metadata": {},
   "outputs": [
    {
     "data": {
      "text/plain": [
       "array([[  1,   2,   3,   4],\n",
       "       [  5,   6,   7, 200],\n",
       "       [  9,  10,  11,  12]])"
      ]
     },
     "execution_count": 64,
     "metadata": {},
     "output_type": "execute_result"
    }
   ],
   "source": [
    "m"
   ]
  },
  {
   "cell_type": "markdown",
   "metadata": {},
   "source": [
    "Observe como ele modificou a transposição e a matriz original também! Isso porque eles estão compartilhando a mesma cópia de dados. Então lembre-se de considerar a transposição apenas como uma visão diferente de sua matriz, ao invés de uma matriz diferente, inteiramente."
   ]
  },
  {
   "cell_type": "markdown",
   "metadata": {},
   "source": [
    "***\n",
    "### Exemplo em Redes Neurais\n",
    "***\n",
    "\n",
    "Digamos que você tenha as seguintes duas matrizes, chamadas inputs e pesos:"
   ]
  },
  {
   "cell_type": "code",
   "execution_count": 65,
   "metadata": {},
   "outputs": [],
   "source": [
    "inputs = np.array([[-0.27,  0.45,  0.64, 0.31]])"
   ]
  },
  {
   "cell_type": "code",
   "execution_count": 66,
   "metadata": {},
   "outputs": [
    {
     "data": {
      "text/plain": [
       "array([[-0.27,  0.45,  0.64,  0.31]])"
      ]
     },
     "execution_count": 66,
     "metadata": {},
     "output_type": "execute_result"
    }
   ],
   "source": [
    "inputs"
   ]
  },
  {
   "cell_type": "code",
   "execution_count": 67,
   "metadata": {},
   "outputs": [
    {
     "data": {
      "text/plain": [
       "(1, 4)"
      ]
     },
     "execution_count": 67,
     "metadata": {},
     "output_type": "execute_result"
    }
   ],
   "source": [
    "inputs.shape"
   ]
  },
  {
   "cell_type": "code",
   "execution_count": 68,
   "metadata": {},
   "outputs": [],
   "source": [
    "pesos = np.array([[0.02, 0.001, -0.03, 0.036], [0.04, -0.003, 0.025, 0.009], [0.012, -0.045, 0.28, -0.067]])"
   ]
  },
  {
   "cell_type": "code",
   "execution_count": 69,
   "metadata": {},
   "outputs": [
    {
     "data": {
      "text/plain": [
       "array([[ 0.02 ,  0.001, -0.03 ,  0.036],\n",
       "       [ 0.04 , -0.003,  0.025,  0.009],\n",
       "       [ 0.012, -0.045,  0.28 , -0.067]])"
      ]
     },
     "execution_count": 69,
     "metadata": {},
     "output_type": "execute_result"
    }
   ],
   "source": [
    "pesos"
   ]
  },
  {
   "cell_type": "code",
   "execution_count": 70,
   "metadata": {},
   "outputs": [
    {
     "data": {
      "text/plain": [
       "(3, 4)"
      ]
     },
     "execution_count": 70,
     "metadata": {},
     "output_type": "execute_result"
    }
   ],
   "source": [
    "pesos.shape"
   ]
  },
  {
   "cell_type": "markdown",
   "metadata": {},
   "source": [
    "Como você já sabe, os pesos são multiplicados aos inputs nas camadas das redes neurais, logo precisamos multiplicar pesos por inputs. Uma multiplicação de matrizes. Isso é muito fácil com o NumPy."
   ]
  },
  {
   "cell_type": "code",
   "execution_count": 71,
   "metadata": {},
   "outputs": [
    {
     "ename": "ValueError",
     "evalue": "matmul: Input operand 1 has a mismatch in its core dimension 0, with gufunc signature (n?,k),(k,m?)->(n?,m?) (size 3 is different from 4)",
     "output_type": "error",
     "traceback": [
      "\u001b[0;31m---------------------------------------------------------------------------\u001b[0m",
      "\u001b[0;31mValueError\u001b[0m                                Traceback (most recent call last)",
      "\u001b[0;32m<ipython-input-71-d190cbc25737>\u001b[0m in \u001b[0;36m<module>\u001b[0;34m\u001b[0m\n\u001b[0;32m----> 1\u001b[0;31m \u001b[0mnp\u001b[0m\u001b[0;34m.\u001b[0m\u001b[0mmatmul\u001b[0m\u001b[0;34m(\u001b[0m\u001b[0minputs\u001b[0m\u001b[0;34m,\u001b[0m \u001b[0mpesos\u001b[0m\u001b[0;34m)\u001b[0m\u001b[0;34m\u001b[0m\u001b[0;34m\u001b[0m\u001b[0m\n\u001b[0m",
      "\u001b[0;31mValueError\u001b[0m: matmul: Input operand 1 has a mismatch in its core dimension 0, with gufunc signature (n?,k),(k,m?)->(n?,m?) (size 3 is different from 4)"
     ]
    }
   ],
   "source": [
    "np.matmul(inputs, pesos)"
   ]
  },
  {
   "cell_type": "markdown",
   "metadata": {},
   "source": [
    "Ops, o que deu errado?. As matrizes estão shapes incompatíveis porque o número de colunas na matriz esquerda, 4, não é igual ao número de linhas na matriz direita, 3.\n",
    "\n",
    "Como resolvemos isso? Podemos usar a transposta da matriz:"
   ]
  },
  {
   "cell_type": "code",
   "execution_count": 72,
   "metadata": {},
   "outputs": [
    {
     "data": {
      "text/plain": [
       "array([[-0.01299,  0.00664,  0.13494]])"
      ]
     },
     "execution_count": 72,
     "metadata": {},
     "output_type": "execute_result"
    }
   ],
   "source": [
    "np.matmul(inputs, pesos.T)"
   ]
  },
  {
   "cell_type": "markdown",
   "metadata": {},
   "source": [
    "Também funciona se você gerar a transposta da matriz de inputs e trocar a ordem dos parâmetros na função:"
   ]
  },
  {
   "cell_type": "code",
   "execution_count": 73,
   "metadata": {},
   "outputs": [
    {
     "data": {
      "text/plain": [
       "array([[-0.01299],\n",
       "       [ 0.00664],\n",
       "       [ 0.13494]])"
      ]
     },
     "execution_count": 73,
     "metadata": {},
     "output_type": "execute_result"
    }
   ],
   "source": [
    "np.matmul(pesos, inputs.T)"
   ]
  },
  {
   "cell_type": "markdown",
   "metadata": {},
   "source": [
    "As duas respostas são transpostas uma da outra, de modo que a multiplicação que você usa realmente depende apenas da forma (shape) que deseja para a saída."
   ]
  },
  {
   "cell_type": "markdown",
   "metadata": {},
   "source": [
    "***\n",
    "### Singular Value Decomposition\n",
    "***\n",
    "\n",
    "Um dos resultados mais bonitos e úteis da álgebra linear é uma decomposição de matriz conhecida como a Decomposição do Valor Singular (ou Singular Value Decomposition). Vamos examinar a teoria por trás dessa decomposição de matriz e mostrar alguns exemplos de porque o  SVD  é  uma  das  ferramentas  matemáticas  mais  úteis,  principalmente  no  tratamento  de imagens.\n",
    "\n",
    "Grande parte da álgebra linear é sobre operadores lineares, ou seja, transformações lineares  de  um  espaço.  Um  resultado  típico  é  que,  escolhendo  uma  base  adequada  para  o espaço, o operador pode ser expresso de forma simples, por exemplo, diagonal. No entanto, isso não se aplica a todos os operadores.\n",
    "\n",
    "A decomposição do valor singular é o único resultado principal sobre as transformações lineares  entre  dois  espaços  diferentes. Ao escolher  bases  adequadas  para  os  espaços,  a transformação pode ser expressa em uma matriz simples, uma matriz diagonal. E isso funciona para  todas  as  transformações  lineares.  Além  disso,  as  bases  são  muito  agradáveis:  bases ortogonais.\n",
    "\n",
    "O SVD é  usado  para  remover  os  recursos  redundantes  em  um  conjunto  de  dados. Suponha que você tenha um conjunto de dados composto por 1000 recursos. Definitivamente, qualquer conjunto de dados reais com uma grande quantidade de recursos vai conter recursos redundantes. Os recursos redundantes causam muitos problemas na execução de algoritmos de aprendizado da máquina.\n",
    "\n",
    "Além disso, executar um algoritmo no conjunto de dados original será ineficiente em termos de tempo de processamento e exigirá muita memória. Então, como resolvemos esse  problema?  Nós  temos  uma  escolha?  Podemos  omitir  alguns  recursos?  Isso levará a uma quantidade significativa de perda de informação? Poderemos obter um modelo suficientemente eficiente mesmo depois de omitir as linhas? Vou responder a essas perguntas com a ajuda de uma ilustração.\n",
    "\n",
    "![img](https://user-images.githubusercontent.com/14116020/56335856-9119d280-6174-11e9-8a47-ea23f8af4089.png)\n",
    "\n",
    "Podemos converter este tigre em preto e branco e podemos pensar nisso como uma matriz cujos elementos representam a intensidade do pixel como local relevante. Em palavras mais simples, a matriz contém informações sobre a intensidade dos pixels da imagem na forma de  linhas  e  colunas.  Mas,  é  necessário  ter  todas  as  colunas  na  matriz  de  intensidade? Poderemos  representar  o  tigre  com  uma  quantidade  menor  de  informações?  A  próxima imagem esclarecerá o meu ponto. Abaixo, imagens diferentes são mostradas correspondentes a  diferentes  classificações  com  resolução  diferente.  Por  enquanto,  basta  assumir  que  uma classificação mais alta implica a maior quantidade de informações sobre a intensidade de pixels.\n",
    "\n",
    "![img](https://user-images.githubusercontent.com/14116020/56335918-be668080-6174-11e9-8e72-0daf8de45c83.png)\n",
    "\n",
    "É claro que podemos alcançar uma imagem muito boa com 20 ou 30 fileiras em vez de 100 ou 200 fileiras e é isso que queremos fazer em um caso de dados altamente redundantes. O que eu quero transmitir é que, para obter uma hipótese razoável, não precisamos reter todas as informações presentes no conjunto de dados original. Mesmo alguns dos recursos causam um problema ao alcançar uma solução para o melhor modelo. Para o exemplo, a presença de recursos  redundantes  provoca  multi-linearidade  na  regressão  linear.  Além  disso,  alguns recursos não são significativos para o nosso modelo. Omitindo esses recursos ajuda a encontrar um ajuste melhor do modelo, juntamente com a eficiência do tempo e menor espaço em disco. A decomposição do valor singular é usada para eliminar os recursos redundantes presentes em nossos dados.\n",
    "\n",
    "#### Diagonalização\n",
    "\n",
    "Vamos  passar  rapidamente  pela  diagonalização.  Uma  matriz  A  é  “diagonalizável”  se pudermos reescrevê-la (decompor) como um produto:\n",
    "\n",
    "$$A = PDP^{-1}$$\n",
    "\n",
    "Onde P é uma matriz reversível (e, portanto, $P^{-1}$ existe) e D é uma matriz diagonal (onde todos os elementos fora da diagonal são iguais a zero).\n",
    "\n",
    "Apenas a partir desta definição, podemos deduzir algumas coisas importantes sobre a diagonalização. Antes de tudo, uma vez que o P é reversível, deve ser quadrado. Portanto, essa definição realmente só faz sentido para matrizes quadradas. Uma matriz que não é quadrada não é diagonalizável, simplesmente porque o conceito de diagonalização não faz sentido para matrizes não-quadradas.\n",
    "\n",
    "Em certo sentido, a decomposição do valor singular é essencialmente a diagonalização em  um  sentido  mais  geral.  A  decomposição  do  valor  singular  desempenha  um  papel semelhante à diagonalização. Ou seja, o SVD aplica-se a matrizes de qualquer forma. Não só isso, mas o SVD aplica-se a todas as matrizes, o que torna muito mais aplicável e útil que a diagonalização!\n",
    "\n",
    "#### Exemplo\n",
    "\n",
    "Uma aplicação do SVD é a compressão de dados. Considere alguma matriz A com o rank de 500. Ou seja, as colunas desta matriz abrangem um espaço de 500 dimensões. Codificar esta matriz em um computador vai demorar bastante e requerer muita memória! Podemos estar interessados em aproximar esta matriz com uma de menor classificação - quão perto podemos chegar a essa matriz se apenas a aproximarmos como uma matriz com classificação cem, de modo que só precisamos armazenar centenas de colunas? E se usarmos uma matriz de rank vinte? Podemos resumir toda a informação da matriz de rank 500 com apenas uma matriz de 20? Sim, podemos. Usando SVD."
   ]
  }
 ],
 "metadata": {
  "kernelspec": {
   "display_name": "Python 3",
   "language": "python",
   "name": "python3"
  },
  "language_info": {
   "codemirror_mode": {
    "name": "ipython",
    "version": 3
   },
   "file_extension": ".py",
   "mimetype": "text/x-python",
   "name": "python",
   "nbconvert_exporter": "python",
   "pygments_lexer": "ipython3",
   "version": "3.7.6"
  }
 },
 "nbformat": 4,
 "nbformat_minor": 2
}
