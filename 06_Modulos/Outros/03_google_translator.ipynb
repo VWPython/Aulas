{
 "cells": [
  {
   "cell_type": "markdown",
   "metadata": {},
   "source": [
    "## Traduções com Google translator\n",
    "***\n",
    "\n",
    "[Google Translator](https://github.com/ssut/py-googletrans)\n",
    "\n",
    "***"
   ]
  },
  {
   "cell_type": "code",
   "execution_count": 1,
   "metadata": {},
   "outputs": [],
   "source": [
    "from googletrans import Translator"
   ]
  },
  {
   "cell_type": "code",
   "execution_count": 2,
   "metadata": {},
   "outputs": [],
   "source": [
    "translator = Translator()"
   ]
  },
  {
   "cell_type": "code",
   "execution_count": 3,
   "metadata": {},
   "outputs": [
    {
     "name": "stdout",
     "output_type": "stream",
     "text": [
      "en\n"
     ]
    }
   ],
   "source": [
    "detected = translator.detect('This sentence is written in English.')\n",
    "print(detected.lang)"
   ]
  },
  {
   "cell_type": "code",
   "execution_count": 4,
   "metadata": {},
   "outputs": [
    {
     "name": "stdout",
     "output_type": "stream",
     "text": [
      "Esta frase está escrita em inglês.\n",
      "This sentence is written in English.\n",
      "This sentence is written in English.\n",
      "en\n",
      "pt\n"
     ]
    }
   ],
   "source": [
    "translation = translator.translate('This sentence is written in English.', src=\"en\", dest=\"pt\")\n",
    "print(translation.text)\n",
    "print(translation.origin)\n",
    "print(translation.pronunciation)\n",
    "print(translation.src)\n",
    "print(translation.dest)"
   ]
  }
 ],
 "metadata": {
  "kernelspec": {
   "display_name": "Python 3",
   "language": "python",
   "name": "python3"
  },
  "language_info": {
   "codemirror_mode": {
    "name": "ipython",
    "version": 3
   },
   "file_extension": ".py",
   "mimetype": "text/x-python",
   "name": "python",
   "nbconvert_exporter": "python",
   "pygments_lexer": "ipython3",
   "version": "3.5.2"
  }
 },
 "nbformat": 4,
 "nbformat_minor": 2
}
