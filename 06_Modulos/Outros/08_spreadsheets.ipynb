{
 "cells": [
  {
   "cell_type": "markdown",
   "metadata": {},
   "source": [
    "## Lendo e editando arquivos excel\n",
    "***"
   ]
  },
  {
   "cell_type": "markdown",
   "metadata": {},
   "source": [
    "Instalação do modulo para manipulação de dados do excel.\n",
    "\n",
    "```\n",
    "pip3 install openpyxl\n",
    "```"
   ]
  },
  {
   "cell_type": "markdown",
   "metadata": {},
   "source": [
    "***\n",
    "### Criando planilhas\n",
    "***"
   ]
  },
  {
   "cell_type": "code",
   "execution_count": 1,
   "metadata": {},
   "outputs": [],
   "source": [
    "from openpyxl import Workbook, load_workbook"
   ]
  },
  {
   "cell_type": "code",
   "execution_count": 2,
   "metadata": {},
   "outputs": [],
   "source": [
    "# Cria uma planilha nova, porém não salva ainda\n",
    "excel = Workbook()"
   ]
  },
  {
   "cell_type": "code",
   "execution_count": 3,
   "metadata": {},
   "outputs": [
    {
     "name": "stdout",
     "output_type": "stream",
     "text": [
      "<Worksheet \"Sheet\">\n"
     ]
    }
   ],
   "source": [
    "# Pega a primeira planilha\n",
    "planilha1 = excel.active\n",
    "print(planilha1)"
   ]
  },
  {
   "cell_type": "code",
   "execution_count": 4,
   "metadata": {},
   "outputs": [],
   "source": [
    "# Modificar o nome da primeira planilha\n",
    "planilha1.title = \"Planilha1\""
   ]
  },
  {
   "cell_type": "code",
   "execution_count": 5,
   "metadata": {},
   "outputs": [],
   "source": [
    "# Criando uma segunda planilha\n",
    "planilha2 = excel.create_sheet(\"Planilha2\")"
   ]
  },
  {
   "cell_type": "code",
   "execution_count": 6,
   "metadata": {},
   "outputs": [
    {
     "name": "stdout",
     "output_type": "stream",
     "text": [
      "['Planilha1', 'Planilha2']\n"
     ]
    }
   ],
   "source": [
    "# Verificar o nome das planilhas criadas no excel\n",
    "print(excel.sheetnames)"
   ]
  },
  {
   "cell_type": "markdown",
   "metadata": {},
   "source": [
    "***\n",
    "### Brincando com os dados\n",
    "***"
   ]
  },
  {
   "cell_type": "code",
   "execution_count": 7,
   "metadata": {},
   "outputs": [
    {
     "name": "stdout",
     "output_type": "stream",
     "text": [
      "<Cell 'Planilha1'.A1>\n"
     ]
    }
   ],
   "source": [
    "cell = planilha1['A1']\n",
    "print(cell)"
   ]
  },
  {
   "cell_type": "code",
   "execution_count": 8,
   "metadata": {},
   "outputs": [
    {
     "name": "stdout",
     "output_type": "stream",
     "text": [
      "4\n"
     ]
    }
   ],
   "source": [
    "planilha1['A1'] = 4\n",
    "print(cell.value)"
   ]
  },
  {
   "cell_type": "code",
   "execution_count": 9,
   "metadata": {},
   "outputs": [
    {
     "name": "stdout",
     "output_type": "stream",
     "text": [
      "<Cell 'Planilha1'.B1>\n"
     ]
    }
   ],
   "source": [
    "# Podemos fazer usando o método cell também\n",
    "new_cell = planilha1.cell(row=1, column=2, value=6)\n",
    "print(new_cell)"
   ]
  },
  {
   "cell_type": "code",
   "execution_count": 10,
   "metadata": {},
   "outputs": [
    {
     "name": "stdout",
     "output_type": "stream",
     "text": [
      "((<Cell 'Planilha1'.A1>, <Cell 'Planilha1'.B1>, <Cell 'Planilha1'.C1>), (<Cell 'Planilha1'.A2>, <Cell 'Planilha1'.B2>, <Cell 'Planilha1'.C2>))\n"
     ]
    }
   ],
   "source": [
    "# Podemos usar slices nas celulas\n",
    "cell_range = planilha1['A1': 'C2']\n",
    "print(cell_range)"
   ]
  },
  {
   "cell_type": "code",
   "execution_count": 11,
   "metadata": {},
   "outputs": [
    {
     "name": "stdout",
     "output_type": "stream",
     "text": [
      "<Cell 'Planilha1'.A1>\n",
      "<Cell 'Planilha1'.B1>\n",
      "<Cell 'Planilha1'.C1>\n",
      "<Cell 'Planilha1'.A2>\n",
      "<Cell 'Planilha1'.B2>\n",
      "<Cell 'Planilha1'.C2>\n"
     ]
    }
   ],
   "source": [
    "for row in planilha1.iter_rows(min_row=1, max_col=3, max_row=2):\n",
    "    for cell in row:\n",
    "        print(cell)"
   ]
  },
  {
   "cell_type": "code",
   "execution_count": 12,
   "metadata": {},
   "outputs": [
    {
     "name": "stdout",
     "output_type": "stream",
     "text": [
      "<Cell 'Planilha1'.A1>\n",
      "<Cell 'Planilha1'.A2>\n",
      "<Cell 'Planilha1'.B1>\n",
      "<Cell 'Planilha1'.B2>\n",
      "<Cell 'Planilha1'.C1>\n",
      "<Cell 'Planilha1'.C2>\n"
     ]
    }
   ],
   "source": [
    "for col in planilha1.iter_cols(min_row=1, max_col=3, max_row=2):\n",
    "    for cell in col:\n",
    "        print(cell)"
   ]
  },
  {
   "cell_type": "code",
   "execution_count": 13,
   "metadata": {},
   "outputs": [
    {
     "name": "stdout",
     "output_type": "stream",
     "text": [
      "((<Cell 'Planilha1'.A1>, <Cell 'Planilha1'.B1>, <Cell 'Planilha1'.C1>), (<Cell 'Planilha1'.A2>, <Cell 'Planilha1'.B2>, <Cell 'Planilha1'.C2>))\n"
     ]
    }
   ],
   "source": [
    "# Iterando em todas as linha e colunas preenchidas da planilha\n",
    "print(tuple(planilha1.rows))"
   ]
  },
  {
   "cell_type": "code",
   "execution_count": 14,
   "metadata": {},
   "outputs": [
    {
     "name": "stdout",
     "output_type": "stream",
     "text": [
      "((<Cell 'Planilha1'.A1>, <Cell 'Planilha1'.A2>), (<Cell 'Planilha1'.B1>, <Cell 'Planilha1'.B2>), (<Cell 'Planilha1'.C1>, <Cell 'Planilha1'.C2>))\n"
     ]
    }
   ],
   "source": [
    "# Iterando em todas as linha e colunas preenchidas da planilha\n",
    "print(tuple(planilha1.columns))"
   ]
  },
  {
   "cell_type": "code",
   "execution_count": 15,
   "metadata": {},
   "outputs": [
    {
     "name": "stdout",
     "output_type": "stream",
     "text": [
      "4\n",
      "6\n",
      "None\n",
      "None\n",
      "None\n",
      "None\n"
     ]
    }
   ],
   "source": [
    "# Vamos percorrer agora os valores\n",
    "for row in planilha1.values:\n",
    "    for value in row:\n",
    "        print(value)"
   ]
  },
  {
   "cell_type": "code",
   "execution_count": 16,
   "metadata": {},
   "outputs": [
    {
     "name": "stdout",
     "output_type": "stream",
     "text": [
      "(4, 6, None)\n",
      "(None, None, None)\n"
     ]
    }
   ],
   "source": [
    "for row in planilha1.iter_rows(min_row=1, max_col=3, max_row=2, values_only=True):\n",
    "    print(row)"
   ]
  },
  {
   "cell_type": "markdown",
   "metadata": {},
   "source": [
    "***\n",
    "### Carregando os dados de uma arquivo existente\n",
    "***"
   ]
  },
  {
   "cell_type": "code",
   "execution_count": 17,
   "metadata": {},
   "outputs": [],
   "source": [
    "excel2 = load_workbook('./recursos/excel.xlsx')"
   ]
  },
  {
   "cell_type": "code",
   "execution_count": 18,
   "metadata": {},
   "outputs": [
    {
     "name": "stdout",
     "output_type": "stream",
     "text": [
      "['Planilha1', 'Planilha2', 'Planilha3']\n"
     ]
    }
   ],
   "source": [
    "print(excel2.sheetnames)"
   ]
  },
  {
   "cell_type": "code",
   "execution_count": 19,
   "metadata": {},
   "outputs": [],
   "source": [
    "planilha = excel2.active"
   ]
  },
  {
   "cell_type": "code",
   "execution_count": 20,
   "metadata": {},
   "outputs": [
    {
     "name": "stdout",
     "output_type": "stream",
     "text": [
      "('4/5/2015 1:34:02 PM', 'Apples', 73)\n",
      "('4/5/2015 3:41:23 AM', 'Cherries', 85)\n",
      "('4/6/2015 12:46:51 PM', 'Pears', 14)\n",
      "('4/8/2015 8:59:43 AM', 'Oranges', 52)\n",
      "('4/10/2015 2:07:00 AM', 'Apples', 152)\n",
      "('4/10/2015 6:10:37 PM', 'Bananas', 23)\n",
      "('4/10/2015 2:40:46 AM', 'Strawberries', 98)\n"
     ]
    }
   ],
   "source": [
    "for row in planilha.iter_rows(min_row=1, max_col=3, max_row=7, values_only=True):\n",
    "    print(row)"
   ]
  },
  {
   "cell_type": "markdown",
   "metadata": {},
   "source": [
    "***\n",
    "### Armazenamento de dados\n",
    "***"
   ]
  },
  {
   "cell_type": "code",
   "execution_count": 21,
   "metadata": {},
   "outputs": [],
   "source": [
    "excel.save(\"./recursos/teste.xlsx\")"
   ]
  },
  {
   "cell_type": "code",
   "execution_count": 22,
   "metadata": {},
   "outputs": [],
   "source": [
    "import os\n",
    "os.remove(\"./recursos/teste.xlsx\")"
   ]
  }
 ],
 "metadata": {
  "kernelspec": {
   "display_name": "Python 3",
   "language": "python",
   "name": "python3"
  },
  "language_info": {
   "codemirror_mode": {
    "name": "ipython",
    "version": 3
   },
   "file_extension": ".py",
   "mimetype": "text/x-python",
   "name": "python",
   "nbconvert_exporter": "python",
   "pygments_lexer": "ipython3",
   "version": "3.7.6"
  }
 },
 "nbformat": 4,
 "nbformat_minor": 2
}
