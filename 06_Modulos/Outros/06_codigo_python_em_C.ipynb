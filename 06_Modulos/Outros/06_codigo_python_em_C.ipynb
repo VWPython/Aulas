{
 "cells": [
  {
   "cell_type": "markdown",
   "metadata": {},
   "source": [
    "## Estendendo código Python em C\n",
    "***"
   ]
  },
  {
   "cell_type": "markdown",
   "metadata": {},
   "source": [
    "Quando você quer fazer integração de sistemas embarcados com python/C\n",
    "\n",
    "Compilando código C/C++:\n",
    "\n",
    "```\n",
    "sudo apt-get install gcc\n",
    "\n",
    "gcc codigo.c -o programa.bin\n",
    "./programa.bin\n",
    "```\n",
    "\n",
    "O tipo PyObject é sempre usado como ponteiro.\n",
    "\n",
    "Por exemplo: static PyObject* myFunc(PyObject* self) {}"
   ]
  },
  {
   "cell_type": "markdown",
   "metadata": {},
   "source": [
    "***\n",
    "### Exemplo\n",
    "***\n",
    "\n",
    "Crie um arquivo chamado: ```setup.py```\n",
    "\n",
    "Cole o código abaixo:\n",
    "\n",
    "```\n",
    "from distutils.core import setup, Extension\n",
    "\n",
    "module = Extension('c_code', sources = ['recursos/fibonacci.c'])\n",
    "\n",
    "setup(\n",
    "    name = 'PackageName',\n",
    "    version = '1.0',\n",
    "    description = 'Pacote para o modulo',\n",
    "    ext_modules = [module]\n",
    ")\n",
    "```\n",
    "\n",
    "Execute:\n",
    "\n",
    "```\n",
    "python3 setup.py build\n",
    "```\n",
    "\n",
    "***"
   ]
  },
  {
   "cell_type": "code",
   "execution_count": null,
   "metadata": {},
   "outputs": [],
   "source": [
    "import c_code"
   ]
  },
  {
   "cell_type": "code",
   "execution_count": null,
   "metadata": {},
   "outputs": [],
   "source": [
    "print(c_code.fibonacci(5))"
   ]
  },
  {
   "cell_type": "code",
   "execution_count": null,
   "metadata": {},
   "outputs": [],
   "source": [
    "print(c_code.version())"
   ]
  }
 ],
 "metadata": {
  "kernelspec": {
   "display_name": "Python 3",
   "language": "python",
   "name": "python3"
  },
  "language_info": {
   "codemirror_mode": {
    "name": "ipython",
    "version": 3
   },
   "file_extension": ".py",
   "mimetype": "text/x-python",
   "name": "python",
   "nbconvert_exporter": "python",
   "pygments_lexer": "ipython3",
   "version": "3.5.2"
  }
 },
 "nbformat": 4,
 "nbformat_minor": 2
}
