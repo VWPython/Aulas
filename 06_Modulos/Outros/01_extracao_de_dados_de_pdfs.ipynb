{
 "cells": [
  {
   "cell_type": "markdown",
   "metadata": {},
   "source": [
    "## Extração de dados de PDFs\n",
    "***\n",
    "\n",
    "Bibliotecas:\n",
    "\n",
    "* [Slate3k](https://github.com/TakesxiSximada/slate3k): Extrai textos\n",
    "\n",
    "```\n",
    "pip3 install slate3k\n",
    "```"
   ]
  },
  {
   "cell_type": "markdown",
   "metadata": {},
   "source": [
    "***\n",
    "### Slate3k\n",
    "***"
   ]
  },
  {
   "cell_type": "code",
   "execution_count": 1,
   "metadata": {},
   "outputs": [],
   "source": [
    "# Slate3k não funciona com pdfs com imagens\n",
    "import slate3k as slate"
   ]
  },
  {
   "cell_type": "code",
   "execution_count": 2,
   "metadata": {},
   "outputs": [
    {
     "name": "stdout",
     "output_type": "stream",
     "text": [
      "Atenção!! Duas guias de pagamento foram geradas.Caso já tenha pago alguma delas, favor desprezá-la. GUIA DE PAGAMENTO SEGURO OBRIGATÓRIO - DPVAT NOME: Alaide Santana Alves EXERCÍCIO 2018 UF MG VENCIMENTO CONTRA APRESENTAÇÃO Via Convênio CPF 262.254.335-20 CÓD. RENAVAM 00911263128 CÓD. SEGURO 09 PREMIO LÍQUIDO R$ R$ 180,65 ANO/FAB 2006 PLACA HFL5661 MARCA/MODELO SUNDOWN/WEB 100 CHASSI 94J1XFBF66M028323 CUSTO BILHETE R$ IOF R$ R$ 4,15 R$ 0,70 TOTAL R$ R$ 185,50 86600000001 2 85500924860 7 80009112631 1 28902111813 7 ----------------------------------------------- Corte aqui ----------------------------------------------- GUIA DE PAGAMENTO SEGURO OBRIGATÓRIO - DPVAT NOME: Alaide Santana Alves EXERCÍCIO 2018 UF MG VENCIMENTO CONTRA APRESENTAÇÃO Via Segurado CPF 262.254.335-20 CÓD. RENAVAM 00911263128 CÓD. SEGURO 09 PREMIO LÍQUIDO R$ R$ 180,65 ANO/FAB 2006 PLACA HFL5661 MARCA/MODELO SUNDOWN/WEB 100 CHASSI 94J1XFBF66M028323 CUSTO BILHETE R$ IOF R$ R$ 4,15 R$ 0,70 TOTAL R$ R$ 185,50 GUIA DE PAGAMENTO SEGURO OBRIGATÓRIO - DPVAT NOME: Alaide Santana Alves EXERCÍCIO 2019 UF MG VENCIMENTO CONTRA APRESENTAÇÃO Via Convênio CPF 262.254.335-20 CÓD. RENAVAM 00911263128 CÓD. SEGURO 09 PREMIO LÍQUIDO R$ R$ 80,11 ANO/FAB 2006 PLACA HFL5661 MARCA/MODELO SUNDOWN/WEB 100 CHASSI 94J1XFBF66M028323 CUSTO BILHETE R$ IOF R$ R$ 4,15 R$ 0,32 TOTAL R$ R$ 84,58 86620000000 2 84580924860 0 80009112631 1 28902111913 5 ----------------------------------------------- Corte aqui ----------------------------------------------- GUIA DE PAGAMENTO SEGURO OBRIGATÓRIO - DPVAT NOME: Alaide Santana Alves EXERCÍCIO 2019 UF MG VENCIMENTO CONTRA APRESENTAÇÃO Via Segurado CPF 262.254.335-20 CÓD. RENAVAM 00911263128 CÓD. SEGURO 09 PREMIO LÍQUIDO R$ R$ 80,11 ANO/FAB 2006 PLACA HFL5661 MARCA/MODELO SUNDOWN/WEB 100 CHASSI 94J1XFBF66M028323 CUSTO BILHETE R$ IOF R$ R$ 4,15 R$ 0,32 TOTAL R$ R$ 84,58 \n"
     ]
    }
   ],
   "source": [
    "pdf = \"./recursos/dpvat.pdf\"\n",
    "with open(pdf, \"rb\") as pdf_file:\n",
    "    extracted = slate.PDF(pdf_file)\n",
    "print(extracted.text())"
   ]
  },
  {
   "cell_type": "code",
   "execution_count": 3,
   "metadata": {},
   "outputs": [
    {
     "name": "stdout",
     "output_type": "stream",
     "text": [
      "MULTA DE INFRAÇÃO À LEGISLAÇÃO DE TRÂNSITO GUIA DE ARRECADAÇÃO DE MULTA - MODELO 9-A Órgão PREFEITURA MUNICIPAL DE MONTES CLAROS Nome Alaide Santana Alves Controle Placa HFL5661 Marca/Modelo SUNDOWN WEB 100 Data de Emissão 06/07/2019 Data de Vencimento 31/07/2019 VALOR R$ 53,20 MOD.06.01.32 DISQUE DENÚNCIA - 181 Guia Banco 87640000000 9 53202769192 4 12100612967 4 12486505541 0 (AUTENTICAÇÃO MECÂNICA) ------------------------------------------------------- Recorte Aqui ------------------------------------------------------- MULTA DE INFRAÇÃO À LEGISLAÇÃO DE TRÂNSITO GUIA DE ARRECADAÇÃO DE MULTA - MODELO 9-A Órgão Competente (Autuador) PREFEITURA MUNICIPAL DE MONTES CLAROS Órgão de Destinação da Arrecadação PREFEITURA MUNICIPAL DE MONTES CLAROS Nome Alaide Santana Alves Endereço - Município - Placa HFL5661 Marca/Modelo SUNDOWN WEB 100 Data de Emissão 06/07/2019 Agente 69 0 Data da Ocorrência 12/02/2015 Hora 10:26 CEP - VALOR R$ 53,20 Ident. Infrator Data de Vencimento 31/07/2019 Local da Ocorrência RUA PADRE AUGUSTO 183 Instr. Aferição Processamento 6129671 Mensagem Cod.Infração 554-14 Modelo Equip. Descrição Resumida ESTACIONAR EM DESACORDO COM A REGULAMENTACAO - VAGA DE CARGA INMETRO Pontuação 3 BANCO DO BRASIL, CAIXA ECONOMICA FEDERAL E LOTERICAS EM CASO DE DUVIDAS ENTRE EM CONTATO COM A MCTRANS GUIA VALIDA P/ PAGAMENTO ATE 31/07/2019. APOS ESTA DATA, FAVOR EMITIR NOVA GUIA Linha digitável: 87640000000 9 53202769192 4 12100612967 4 12486505541 0 (AUTENTICAÇÃO MECÂNICA) MOD.06.01.32 DISQUE DENÚNCIA - 181 Guia Contribuinte \n"
     ]
    }
   ],
   "source": [
    "pdf = \"./recursos/tickets.pdf\"\n",
    "with open(pdf, \"rb\") as pdf_file:\n",
    "    extracted = slate.PDF(pdf_file)\n",
    "print(extracted.text())"
   ]
  },
  {
   "cell_type": "code",
   "execution_count": 4,
   "metadata": {},
   "outputs": [
    {
     "name": "stderr",
     "output_type": "stream",
     "text": [
      "WARNING:pdfminer.layout:Too many boxes (396) to group, skipping.\n"
     ]
    },
    {
     "name": "stdout",
     "output_type": "stream",
     "text": [
      "mpg cyl disp hp drat wt qsec vs am gear carb Mazda RX4 21.0 6 160.0 110 3.90 2.620 16.46 0 1 4 4 Mazda RX4 Wag 21.0 6 160.0 110 3.90 2.875 17.02 0 1 4 4 Datsun 710 22.8 4 108.0 93 3.85 2.320 18.61 1 1 4 1 Hornet 4 Drive 21.4 6 258.0 110 3.08 3.215 19.44 1 0 3 1 Hornet Sportabout 18.7 8 360.0 175 3.15 3.440 17.02 0 0 3 2 Valiant 18.1 6 225.0 105 2.76 3.460 20.22 1 0 3 1 Duster 360 14.3 8 360.0 245 3.21 3.570 15.84 0 0 3 4 Merc 240D 24.4 4 146.7 62 3.69 3.190 20.00 1 0 4 2 Merc 230 22.8 4 140.8 95 3.92 3.150 22.90 1 0 4 2 Merc 280 19.2 6 167.6 123 3.92 3.440 18.30 1 0 4 4 Merc 280C 17.8 6 167.6 123 3.92 3.440 18.90 1 0 4 4 Merc 450SE 16.4 8 275.8 180 3.07 4.070 17.40 0 0 3 3 Merc 450SL 17.3 8 275.8 180 3.07 3.730 17.60 0 0 3 3 Merc 450SLC 15.2 8 275.8 180 3.07 3.780 18.00 0 0 3 3 Cadillac Fleetwood 10.4 8 472.0 205 2.93 5.250 17.98 0 0 3 4 Lincoln Continental 10.4 8 460.0 215 3.00 5.424 17.82 0 0 3 4 Chrysler Imperial 14.7 8 440.0 230 3.23 5.345 17.42 0 0 3 4 Fiat 128 32.4 4 78.7 66 4.08 2.200 19.47 1 1 4 1 Honda Civic 30.4 4 75.7 52 4.93 1.615 18.52 1 1 4 2 Toyota Corolla 33.9 4 71.1 65 4.22 1.835 19.90 1 1 4 1 Toyota Corona 21.5 4 120.1 97 3.70 2.465 20.01 1 0 3 1 Dodge Challenger 15.5 8 318.0 150 2.76 3.520 16.87 0 0 3 2 AMC Javelin 15.2 8 304.0 150 3.15 3.435 17.30 0 0 3 2 Camaro Z28 13.3 8 350.0 245 3.73 3.840 15.41 0 0 3 4 Pontiac Firebird 19.2 8 400.0 175 3.08 3.845 17.05 0 0 3 2 Fiat X1-9 27.3 4 79.0 66 4.08 1.935 18.90 1 1 4 1 Porsche 914-2 26.0 4 120.3 91 4.43 2.140 16.70 0 1 5 2 Lotus Europa 30.4 4 95.1 113 3.77 1.513 16.90 1 1 5 2 Ford Pantera L 15.8 8 351.0 264 4.22 3.170 14.50 0 1 5 4 Ferrari Dino 19.7 6 145.0 175 3.62 2.770 15.50 0 1 5 6 Maserati Bora 15.0 8 301.0 335 3.54 3.570 14.60 0 1 5 8 Volvo 142E 21.4 4 121.0 109 4.11 2.780 18.60 1 1 4 2 1 Sepal.Length Sepal.Width Petal.Length Petal.Width Species 5.1 4.9 4.7 4.6 5.0 5.4 3.5 3.0 3.2 3.1 3.6 3.9 1.4 1.4 1.3 1.5 1.4 1.7 0.2 0.2 0.2 0.2 0.2 0.4 setosa setosa setosa setosa setosa setosa Sepal.Length Sepal.Width Petal.Length Petal.Width Species 5.7 5.2 5.0 5.2 5.4 5.1 2.5 2.3 1.9 2.0 2.3 1.8 virginica virginica virginica virginica virginica virginica 145 146 147 148 149 150 6.7 6.7 6.3 6.5 6.2 5.9 3.3 3.0 2.5 3.0 3.4 3.0 2 len 4.2 11.5 7.3 5.8 6.4 10.0 11.2 11.2 5.2 7.0 16.5 16.5 15.2 17.3 22.5 supp dose VC VC VC VC VC VC VC VC VC VC VC VC VC VC VC 0.5 0.5 0.5 0.5 0.5 0.5 0.5 0.5 0.5 0.5 1.0 1.0 1.0 1.0 1.0 3 \n"
     ]
    }
   ],
   "source": [
    "pdf = \"./recursos/data.pdf\"\n",
    "with open(pdf, \"rb\") as pdf_file:\n",
    "    extracted = slate.PDF(pdf_file)\n",
    "print(extracted.text())"
   ]
  }
 ],
 "metadata": {
  "kernelspec": {
   "display_name": "Python 3",
   "language": "python",
   "name": "python3"
  },
  "language_info": {
   "codemirror_mode": {
    "name": "ipython",
    "version": 3
   },
   "file_extension": ".py",
   "mimetype": "text/x-python",
   "name": "python",
   "nbconvert_exporter": "python",
   "pygments_lexer": "ipython3",
   "version": "3.7.6"
  }
 },
 "nbformat": 4,
 "nbformat_minor": 2
}
