{
 "cells": [
  {
   "cell_type": "markdown",
   "metadata": {},
   "source": [
    "## Enviar email em python\n",
    "***\n",
    "\n",
    "Antes de tudo, caso use GMail, você precisa permitir \"aplicativos menos seguros\" para executar seu script.\n",
    "\n",
    "***"
   ]
  },
  {
   "cell_type": "code",
   "execution_count": null,
   "metadata": {},
   "outputs": [],
   "source": [
    "import smtplib\n",
    "import getpass"
   ]
  },
  {
   "cell_type": "code",
   "execution_count": null,
   "metadata": {},
   "outputs": [],
   "source": [
    "server = smtplib.SMTP('smtp.gmail.com', 587)"
   ]
  },
  {
   "cell_type": "code",
   "execution_count": null,
   "metadata": {},
   "outputs": [],
   "source": [
    "# função de segurança, necessária para se conectar ao servidor do Gmail. Ele protegerá sua senha.\n",
    "server.starttls()"
   ]
  },
  {
   "cell_type": "code",
   "execution_count": null,
   "metadata": {},
   "outputs": [],
   "source": [
    "password = getpass.getpass('Senha: ')"
   ]
  },
  {
   "cell_type": "code",
   "execution_count": null,
   "metadata": {},
   "outputs": [],
   "source": [
    "server.login(\"SEU EMAIL\", \"SUA SENHA\")"
   ]
  },
  {
   "cell_type": "code",
   "execution_count": null,
   "metadata": {},
   "outputs": [],
   "source": [
    "msg = \"Ola mundo!\""
   ]
  },
  {
   "cell_type": "code",
   "execution_count": null,
   "metadata": {},
   "outputs": [],
   "source": [
    "server.sendmail(\"SEU EMAIL\", \"EMAIL DESTINO\", msg)"
   ]
  },
  {
   "cell_type": "code",
   "execution_count": null,
   "metadata": {},
   "outputs": [],
   "source": [
    "server.quit()"
   ]
  },
  {
   "cell_type": "markdown",
   "metadata": {},
   "source": [
    "***\n",
    "### Email mais elaborado\n",
    "***"
   ]
  },
  {
   "cell_type": "code",
   "execution_count": null,
   "metadata": {},
   "outputs": [],
   "source": [
    "import smtplib\n",
    "from email.mime.multipart import MIMEMultipart\n",
    "from email.mime.text import MIMEText\n",
    "\n",
    "from_email = \"SEU ENDEREÇO\"\n",
    "to_email = \"ENDEREÇO DE DESTINO\"\n",
    "msg = MIMEMultipart()\n",
    "msg['From'] = from_email\n",
    "msg['To'] = to_email\n",
    "msg['Subject'] = \"ASSUNTO\"\n",
    "\n",
    "body = \"SUA MENSAGEM AQUI\"\n",
    "msg.attach(MIMEText(body, 'plain'))\n",
    "\n",
    "server = smtplib.SMTP('smtp.gmail.com', 587)\n",
    "server.starttls()\n",
    "server.login(from_email, \"SUA SENHA\")\n",
    "text = msg.as_string()\n",
    "server.sendmail(from_email, to_email, text)\n",
    "server.quit()"
   ]
  },
  {
   "cell_type": "markdown",
   "metadata": {},
   "source": [
    "***\n",
    "### Email com anexo\n",
    "***\n",
    "\n",
    "Em resumo, o passo essencial é converter o arquivo em um Base64 antes de enviá-lo. O código funciona para arquivos de texto, arquivos pdf, imagens, arquivos de áudio e arquivos de vídeo!\n",
    "\n",
    "***"
   ]
  },
  {
   "cell_type": "code",
   "execution_count": null,
   "metadata": {},
   "outputs": [],
   "source": [
    "import smtplib\n",
    "from email.mime.multipart import MIMEMultipart\n",
    "from email.mime.text import MIMEText\n",
    "from email.mime.base import MIMEBase\n",
    "from email import encoders\n",
    "\n",
    "\n",
    "from_email = \"SEU EMAIL\"\n",
    "to_email = \"EMAIL DE DESTINO\"\n",
    "\n",
    "msg = MIMEMultipart()\n",
    "\n",
    "msg['From'] = from_email\n",
    "msg['To'] = to_email\n",
    "msg['Subject'] = \"ASSUNTO DO EMAIL\"\n",
    "\n",
    "body = \"TEXTO A SER ENVIADO\"\n",
    "\n",
    "msg.attach(MIMEText(body, 'plain'))\n",
    "\n",
    "filename = \"NOME DO ARQUIVO OU EXTENSÃO\"\n",
    "attachment = open(\"CAMINHO DO ARQUIVO\", \"rb\")\n",
    "\n",
    "part = MIMEBase('application', 'octet-stream')\n",
    "part.set_payload((attachment).read())\n",
    "encoders.encode_base64(part)\n",
    "part.add_header('Content-Disposition', \"attachment; filename= %s\" % filename)\n",
    "\n",
    "msg.attach(part)\n",
    "\n",
    "server = smtplib.SMTP('smtp.gmail.com', 587)\n",
    "server.starttls()\n",
    "server.login(from_email, \"SUA SENHA\")\n",
    "text = msg.as_string()\n",
    "server.sendmail(from_email, to_email, text)\n",
    "server.quit()"
   ]
  }
 ],
 "metadata": {
  "kernelspec": {
   "display_name": "Python 3",
   "language": "python",
   "name": "python3"
  },
  "language_info": {
   "codemirror_mode": {
    "name": "ipython",
    "version": 3
   },
   "file_extension": ".py",
   "mimetype": "text/x-python",
   "name": "python",
   "nbconvert_exporter": "python",
   "pygments_lexer": "ipython3",
   "version": "3.5.2"
  }
 },
 "nbformat": 4,
 "nbformat_minor": 2
}
