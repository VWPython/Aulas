{
 "cells": [
  {
   "cell_type": "markdown",
   "metadata": {},
   "source": [
    "## Manipulando arquivos zip\n",
    "***\n",
    "\n",
    "[zipfile](https://docs.python.org/3.6/library/zipfile.html)\n",
    "\n",
    "***"
   ]
  },
  {
   "cell_type": "code",
   "execution_count": 1,
   "metadata": {},
   "outputs": [],
   "source": [
    "from zipfile import *"
   ]
  },
  {
   "cell_type": "code",
   "execution_count": 2,
   "metadata": {},
   "outputs": [],
   "source": [
    "# Criar o pacote zip com o arquivo dentro\n",
    "with ZipFile('recursos/teste.zip', 'w') as zip_file:\n",
    "    zip_file.write('03_google_translator.ipynb')"
   ]
  },
  {
   "cell_type": "code",
   "execution_count": 3,
   "metadata": {},
   "outputs": [
    {
     "name": "stdout",
     "output_type": "stream",
     "text": [
      "b'{\\n \"cells\": [\\n  {\\n   \"cell_type\": \"markdown\",\\n   \"metadata\": {},\\n   \"source\": [\\n    \"## Tradu\\xc3\\xa7\\xc3\\xb5es com Google translator\\\\n\",\\n    \"***\\\\n\",\\n    \"\\\\n\",\\n    \"[Google Translator](https://github.com/ssut/py-googletrans)\\\\n\",\\n    \"\\\\n\",\\n    \"***\"\\n   ]\\n  },\\n  {\\n   \"cell_type\": \"code\",\\n   \"execution_count\": 1,\\n   \"metadata\": {},\\n   \"outputs\": [],\\n   \"source\": [\\n    \"from googletrans import Translator\"\\n   ]\\n  },\\n  {\\n   \"cell_type\": \"code\",\\n   \"execution_count\": 2,\\n   \"metadata\": {},\\n   \"outputs\": [],\\n   \"source\": [\\n    \"translator = Translator()\"\\n   ]\\n  },\\n  {\\n   \"cell_type\": \"code\",\\n   \"execution_count\": 3,\\n   \"metadata\": {},\\n   \"outputs\": [\\n    {\\n     \"name\": \"stdout\",\\n     \"output_type\": \"stream\",\\n     \"text\": [\\n      \"en\\\\n\"\\n     ]\\n    }\\n   ],\\n   \"source\": [\\n    \"detected = translator.detect(\\'This sentence is written in English.\\')\\\\n\",\\n    \"print(detected.lang)\"\\n   ]\\n  },\\n  {\\n   \"cell_type\": \"code\",\\n   \"execution_count\": 4,\\n   \"metadata\": {},\\n   \"outputs\": [\\n    {\\n     \"name\": \"stdout\",\\n     \"output_type\": \"stream\",\\n     \"text\": [\\n      \"Esta frase est\\xc3\\xa1 escrita em ingl\\xc3\\xaas.\\\\n\",\\n      \"This sentence is written in English.\\\\n\",\\n      \"This sentence is written in English.\\\\n\",\\n      \"en\\\\n\",\\n      \"pt\\\\n\"\\n     ]\\n    }\\n   ],\\n   \"source\": [\\n    \"translation = translator.translate(\\'This sentence is written in English.\\', src=\\\\\"en\\\\\", dest=\\\\\"pt\\\\\")\\\\n\",\\n    \"print(translation.text)\\\\n\",\\n    \"print(translation.origin)\\\\n\",\\n    \"print(translation.pronunciation)\\\\n\",\\n    \"print(translation.src)\\\\n\",\\n    \"print(translation.dest)\"\\n   ]\\n  }\\n ],\\n \"metadata\": {\\n  \"kernelspec\": {\\n   \"display_name\": \"Python 3\",\\n   \"language\": \"python\",\\n   \"name\": \"python3\"\\n  },\\n  \"language_info\": {\\n   \"codemirror_mode\": {\\n    \"name\": \"ipython\",\\n    \"version\": 3\\n   },\\n   \"file_extension\": \".py\",\\n   \"mimetype\": \"text/x-python\",\\n   \"name\": \"python\",\\n   \"nbconvert_exporter\": \"python\",\\n   \"pygments_lexer\": \"ipython3\",\\n   \"version\": \"3.5.2\"\\n  }\\n },\\n \"nbformat\": 4,\\n \"nbformat_minor\": 2\\n}\\n'\n"
     ]
    }
   ],
   "source": [
    "# Ler o arquivo dentro do pacote zip\n",
    "with ZipFile('recursos/teste.zip') as zip_file:\n",
    "    with zip_file.open('03_google_translator.ipynb') as file:\n",
    "        print(file.read())"
   ]
  },
  {
   "cell_type": "code",
   "execution_count": 4,
   "metadata": {},
   "outputs": [],
   "source": [
    "import os\n",
    "os.remove(\"./recursos/teste.zip\")"
   ]
  }
 ],
 "metadata": {
  "kernelspec": {
   "display_name": "Python 3",
   "language": "python",
   "name": "python3"
  },
  "language_info": {
   "codemirror_mode": {
    "name": "ipython",
    "version": 3
   },
   "file_extension": ".py",
   "mimetype": "text/x-python",
   "name": "python",
   "nbconvert_exporter": "python",
   "pygments_lexer": "ipython3",
   "version": "3.7.6"
  }
 },
 "nbformat": 4,
 "nbformat_minor": 2
}
