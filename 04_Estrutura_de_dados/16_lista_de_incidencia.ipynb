{
 "cells": [
  {
   "cell_type": "markdown",
   "metadata": {},
   "source": [
    "## Grafos - Lista de Incidência\n",
    "***\n",
    "\n",
    "![img](https://user-images.githubusercontent.com/14116020/45592400-4451ed00-b942-11e8-917a-438bfeada499.png)\n",
    "\n",
    "Agora iremos aprender outra forma de representar um grafo chamada de lista de incidência.\n",
    "\n",
    "A lista de incidência nada mais é do que criar um vetor para cada vértice.\n",
    "\n",
    "Dependendo de como você programa, as buscas são bem mais rápidas, pois você só irá passar pelos vértices \"amigos\" do vértice corrente.\n",
    "\n",
    "A lista consiste em escrever para cada número de linha (vértice) os amigos.\n",
    "\n",
    "No exemplo o A está ligado com o B, o B com o C e o E, o D com o A e o E com o C\n",
    "\n",
    "Diferente da lista de adjacência não a ligação de volta"
   ]
  },
  {
   "cell_type": "markdown",
   "metadata": {},
   "source": [
    "***"
   ]
  },
  {
   "cell_type": "code",
   "execution_count": 1,
   "metadata": {},
   "outputs": [],
   "source": [
    "class Grafo:\n",
    "    \"\"\"\n",
    "    Classe que representa o grafo\n",
    "    \"\"\"\n",
    "    \n",
    "    def __init__(self, vertices):\n",
    "        \"\"\"\n",
    "        Construtor\n",
    "        \"\"\"\n",
    "        \n",
    "        self.vertices = vertices\n",
    "        self.grafo = [[] for i in range(vertices)]\n",
    "        print(self.grafo)\n",
    "        \n",
    "    def add_aresta(self, u, v):\n",
    "        \"\"\"\n",
    "        Adicionar uma aresta orientado.\n",
    "        \"\"\"\n",
    "        \n",
    "        # Adiciona o V na lista de U\n",
    "        self.grafo[u-1].append(v-1)\n",
    "        \n",
    "    def show(self):\n",
    "        \"\"\"\n",
    "        Mostrar grafo\n",
    "        \"\"\"\n",
    "        \n",
    "        for v in range(self.vertices):\n",
    "            print(\"%d: [ \" % (v+1), end=\"\")\n",
    "            for node in self.grafo[v]:\n",
    "                print(\"%d \" % (node+1), end=\"\")\n",
    "                \n",
    "            print(\"]\")"
   ]
  },
  {
   "cell_type": "markdown",
   "metadata": {},
   "source": [
    "***"
   ]
  },
  {
   "cell_type": "code",
   "execution_count": 2,
   "metadata": {},
   "outputs": [
    {
     "name": "stdout",
     "output_type": "stream",
     "text": [
      "[[], [], [], [], []]\n"
     ]
    }
   ],
   "source": [
    "grafo = Grafo(5)"
   ]
  },
  {
   "cell_type": "code",
   "execution_count": 3,
   "metadata": {},
   "outputs": [],
   "source": [
    "# A=1, B=2, C=3, D=4, E=5\n",
    "grafo.add_aresta(1, 2)\n",
    "grafo.add_aresta(2, 3)\n",
    "grafo.add_aresta(2, 5)\n",
    "grafo.add_aresta(5, 3)\n",
    "grafo.add_aresta(4, 1)"
   ]
  },
  {
   "cell_type": "code",
   "execution_count": 4,
   "metadata": {},
   "outputs": [
    {
     "name": "stdout",
     "output_type": "stream",
     "text": [
      "1: [ 2 ]\n",
      "2: [ 3 5 ]\n",
      "3: [ ]\n",
      "4: [ 1 ]\n",
      "5: [ 3 ]\n"
     ]
    }
   ],
   "source": [
    "grafo.show()"
   ]
  }
 ],
 "metadata": {
  "kernelspec": {
   "display_name": "Python 3",
   "language": "python",
   "name": "python3"
  },
  "language_info": {
   "codemirror_mode": {
    "name": "ipython",
    "version": 3
   },
   "file_extension": ".py",
   "mimetype": "text/x-python",
   "name": "python",
   "nbconvert_exporter": "python",
   "pygments_lexer": "ipython3",
   "version": "3.7.6"
  }
 },
 "nbformat": 4,
 "nbformat_minor": 2
}
