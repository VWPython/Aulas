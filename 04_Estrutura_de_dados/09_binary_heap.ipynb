{
 "cells": [
  {
   "cell_type": "markdown",
   "metadata": {},
   "source": [
    "## Binary Heap\n",
    "***\n",
    "\n",
    "Uma Binary Heap é uma árvore binária completa ou quase completa.\n",
    "\n",
    "Exemplo de árvore binária completa:\n",
    "\n",
    "![img](https://user-images.githubusercontent.com/14116020/44633880-72f22e80-a967-11e8-9a26-ddf100ad92ce.png)\n",
    "\n",
    "* Nível 01: A (completo)\n",
    "* Nível 02: B, C (completo)\n",
    "* Nível 03: D, E, F, G (completo)\n",
    "* Nível 04: H, I, J, K, L (incompleto)\n",
    "\n",
    "Tem-se a Min-Heap e a Max-Heap.\n",
    "\n",
    "* **Min-Heap**: O valor de cada nó é maior ou igual do que o valor do seu pai, o menor valor está na raiz.\n",
    "\n",
    "\n",
    "* **Max-Heap**: O valor de cada nó é menor ou igual do que o valor do seu pai, o maior valor está na raiz.\n",
    "\n",
    "Os elementos estão dispostos na heap de forma que o pai sempre tem prioridade maior ou igual do que a prioridade de seus filhos.\n",
    "\n",
    "A posição $i$ passa a ser pai das posições: $2i+1$ (filho a esquerda) e $2i+2$ (filho a direita) ou seja se o elemento ta na posição 2 o seu filho a esquerda ta na posição 5 e o da direita ta na posição 6.\n",
    "\n",
    "Os elementos são inseridos em ordem na arvore, ou seja, vai completando os níveis um por um, enquanto não completar o nível não passa para o próximo nível.\n",
    "\n",
    "***\n",
    "#### Inserção\n",
    "***\n",
    "\n",
    "Para inserir um novo elemento, basta inserir na primeira posição vaga do array, ou seja, ao final do array.\n",
    "\n",
    "Inserir ao final do array quer dizer que inicialmente o novo elemento é uma folha.\n",
    "\n",
    "Feito isso, precisa-se levar o elemento inserido para a sua respectiva posição na heap de acordo com a sua prioridade (subir na árvore)\n",
    "\n",
    "***\n",
    "#### Remoção\n",
    "***\n",
    "\n",
    "Para remover, remove-se o elemento que está no topo da heap, ou seja, no início do array.\n",
    "\n",
    "Copia-se o elemento do final para o início do array.\n",
    "\n",
    "Leva-se o elemento que foi colocado no topo do heap para a sua respectiva posição de acordo com a sua prioridade. (descer na arvore)\n",
    "\n",
    "***\n",
    "#### Análise Assintótica\n",
    "***\n",
    "\n",
    "A inserção e remoção é O(logN)\n",
    "\n",
    "Tanto na remoção como na inserção, precisa-se verificar e corrigir (se necessário) violações das propriedades da heap.\n",
    "\n",
    "Simulação: http://visualgo.net/en/heap (max heap)"
   ]
  },
  {
   "cell_type": "markdown",
   "metadata": {},
   "source": [
    "***"
   ]
  },
  {
   "cell_type": "code",
   "execution_count": 1,
   "metadata": {},
   "outputs": [],
   "source": [
    "class Pessoa(object):\n",
    "    \"\"\"\n",
    "    Classe Pessoa\n",
    "    \"\"\"\n",
    "    \n",
    "    def __init__(self, nome, idade):\n",
    "        \"\"\"\n",
    "        Construtor\n",
    "        \"\"\"\n",
    "        \n",
    "        self.nome = nome\n",
    "        self.idade = idade\n",
    "    \n",
    "    def __str__(self):\n",
    "        return self.nome"
   ]
  },
  {
   "cell_type": "code",
   "execution_count": 2,
   "metadata": {},
   "outputs": [],
   "source": [
    "import heapq"
   ]
  },
  {
   "cell_type": "code",
   "execution_count": 3,
   "metadata": {},
   "outputs": [],
   "source": [
    "class FilaDePrioridade(object):\n",
    "    \"\"\"\n",
    "    Fila de prioridade com heapq\n",
    "    \"\"\"\n",
    "    \n",
    "    def __init__(self):\n",
    "        \"\"\"\n",
    "        Construtor\n",
    "        \"\"\"\n",
    "        \n",
    "        self.fila = []\n",
    "        self.indice = 0\n",
    "        \n",
    "    def inserir(self, item, prioridade):\n",
    "        \"\"\"\n",
    "        Inserir um item na fila de prioridade\n",
    "        \"\"\"\n",
    "        \n",
    "        # Valor da prioridade é negado para que se torne um max-heap\n",
    "        heapq.heappush(self.fila, (-prioridade, self.indice, item))\n",
    "        self.indice += 1\n",
    "        \n",
    "    def remover(self):\n",
    "        \"\"\"\n",
    "        Remover da fila de prioridade e retorna o último elemento da tupla\n",
    "        ou seja a pessoa que foi removida pela atributo item\n",
    "        \"\"\"\n",
    "        \n",
    "        return heapq.heappop(self.fila)[-1]"
   ]
  },
  {
   "cell_type": "markdown",
   "metadata": {},
   "source": [
    "***"
   ]
  },
  {
   "cell_type": "code",
   "execution_count": 4,
   "metadata": {},
   "outputs": [],
   "source": [
    "p1 = Pessoa(\"Maria\", 20)\n",
    "p2 = Pessoa(\"Pedro\", 16)\n",
    "p3 = Pessoa(\"Felipe\", 25)\n",
    "p4 = Pessoa(\"Carol\", 23)"
   ]
  },
  {
   "cell_type": "code",
   "execution_count": 5,
   "metadata": {
    "scrolled": true
   },
   "outputs": [],
   "source": [
    "fila = FilaDePrioridade()\n",
    "fila.inserir(p1, p1.idade)\n",
    "fila.inserir(p2, p2.idade)\n",
    "fila.inserir(p3, p3.idade)\n",
    "fila.inserir(p4, p4.idade)"
   ]
  },
  {
   "cell_type": "code",
   "execution_count": 6,
   "metadata": {},
   "outputs": [
    {
     "name": "stdout",
     "output_type": "stream",
     "text": [
      "Felipe\n"
     ]
    }
   ],
   "source": [
    "print(fila.remover())"
   ]
  }
 ],
 "metadata": {
  "kernelspec": {
   "display_name": "Python 3",
   "language": "python",
   "name": "python3"
  },
  "language_info": {
   "codemirror_mode": {
    "name": "ipython",
    "version": 3
   },
   "file_extension": ".py",
   "mimetype": "text/x-python",
   "name": "python",
   "nbconvert_exporter": "python",
   "pygments_lexer": "ipython3",
   "version": "3.7.6"
  }
 },
 "nbformat": 4,
 "nbformat_minor": 2
}
