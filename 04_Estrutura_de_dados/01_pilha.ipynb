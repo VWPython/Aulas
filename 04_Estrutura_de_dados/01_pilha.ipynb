{
 "cells": [
  {
   "cell_type": "markdown",
   "metadata": {},
   "source": [
    "## Pilha (Stack)\n",
    "***\n",
    "\n",
    "<img src=\"http://fistfuloftalent.com/wp-content/uploads/2018/05/perfectstack.jpg\" width=\"300\" weight=\"300\" />\n",
    "\n",
    "Pilha é uma estrutura de dados, ou seja, uma forma de você armazenar informação, permitindo inserção e remoção de elementos.\n",
    "\n",
    "O novo elemento é sempre inserido no topo da pilha, ou seja, ao final da pilha e a remoção também é feita no topo da pilha, ou seja, vai removendo do ultimo elemento até o primeiro elemento da pilha.\n",
    "\n",
    "Na pilha o primeiro elemento a ser inserido é o último a ser removido (FILO - First In Last Out)\n",
    "\n",
    "Pilha também é chamado de **Stack**, a inserção é chamada de push e a remoção de pop"
   ]
  },
  {
   "cell_type": "markdown",
   "metadata": {},
   "source": [
    "***"
   ]
  },
  {
   "cell_type": "code",
   "execution_count": 1,
   "metadata": {},
   "outputs": [],
   "source": [
    "class Stack(object):\n",
    "    \"\"\"\n",
    "    Pilha em python\n",
    "    \"\"\"\n",
    "    \n",
    "    def __init__(self):\n",
    "        \"\"\"\n",
    "        Construtor\n",
    "        \"\"\"\n",
    "        \n",
    "        self.stack = []\n",
    "        self.count = 0\n",
    "        \n",
    "    def push(self, element):\n",
    "        \"\"\"\n",
    "        Inserir um elemento no topo pilha\n",
    "        \"\"\"\n",
    "        \n",
    "        self.stack.append(element)\n",
    "        self.count += 1\n",
    "        \n",
    "    def pop(self):\n",
    "        \"\"\"\n",
    "        Remover o elemento do topo da pilha.\n",
    "        \"\"\"\n",
    "        \n",
    "        if not self.empty():\n",
    "            self.stack.pop(self.count -1)\n",
    "            self.count -= 1\n",
    "        \n",
    "    def top(self):\n",
    "        \"\"\"\n",
    "        Pegar o ultimo elemento da pilha.\n",
    "        \"\"\"\n",
    "        \n",
    "        if not self.empty():\n",
    "            return self.stack[-1]\n",
    "    \n",
    "        return None\n",
    "    \n",
    "    def empty(self):\n",
    "        \"\"\"\n",
    "        Verificar se a pilha ta vazia.\n",
    "        \"\"\"\n",
    "        \n",
    "        if self.count == 0:\n",
    "            return True\n",
    "        \n",
    "        return False\n",
    "    \n",
    "    def length(self):\n",
    "        \"\"\"\n",
    "        Retorna o tamanho da pilha\n",
    "        \"\"\"\n",
    "        \n",
    "        return self.count"
   ]
  },
  {
   "cell_type": "code",
   "execution_count": 2,
   "metadata": {},
   "outputs": [],
   "source": [
    "pilha = Stack()\n",
    "pilha.push(1)\n",
    "pilha.push(2)\n",
    "pilha.push(3)"
   ]
  },
  {
   "cell_type": "code",
   "execution_count": 3,
   "metadata": {},
   "outputs": [
    {
     "name": "stdout",
     "output_type": "stream",
     "text": [
      "3\n",
      "False\n"
     ]
    }
   ],
   "source": [
    "print(pilha.top())\n",
    "print(pilha.empty())"
   ]
  },
  {
   "cell_type": "code",
   "execution_count": 4,
   "metadata": {},
   "outputs": [],
   "source": [
    "pilha.pop()"
   ]
  },
  {
   "cell_type": "code",
   "execution_count": 5,
   "metadata": {},
   "outputs": [
    {
     "name": "stdout",
     "output_type": "stream",
     "text": [
      "2\n",
      "2\n"
     ]
    }
   ],
   "source": [
    "print(pilha.length())\n",
    "print(pilha.top())"
   ]
  },
  {
   "cell_type": "code",
   "execution_count": 6,
   "metadata": {},
   "outputs": [],
   "source": [
    "pilha.pop()\n",
    "pilha.pop()"
   ]
  },
  {
   "cell_type": "code",
   "execution_count": 7,
   "metadata": {},
   "outputs": [
    {
     "name": "stdout",
     "output_type": "stream",
     "text": [
      "None\n",
      "True\n"
     ]
    }
   ],
   "source": [
    "print(pilha.top())\n",
    "print(pilha.empty())"
   ]
  }
 ],
 "metadata": {
  "kernelspec": {
   "display_name": "Python 3",
   "language": "python",
   "name": "python3"
  },
  "language_info": {
   "codemirror_mode": {
    "name": "ipython",
    "version": 3
   },
   "file_extension": ".py",
   "mimetype": "text/x-python",
   "name": "python",
   "nbconvert_exporter": "python",
   "pygments_lexer": "ipython3",
   "version": "3.7.6"
  }
 },
 "nbformat": 4,
 "nbformat_minor": 2
}
