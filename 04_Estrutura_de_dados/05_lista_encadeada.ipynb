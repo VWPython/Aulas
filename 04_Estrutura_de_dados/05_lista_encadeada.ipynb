{
 "cells": [
  {
   "cell_type": "markdown",
   "metadata": {},
   "source": [
    "## Listas Simplesmente Encadeada (Linked List)\n",
    "***\n",
    "\n",
    "![img](https://upload.wikimedia.org/wikipedia/commons/6/69/ListaEncadeada.jpg)\n",
    "\n",
    "Cada retangulo da imagem representa um nó que guarda uma informação\n",
    "\n",
    "Temos 4 tipos de listas encadeadas:\n",
    "\n",
    "* **Lista Simplesmente Encadeada**: Tem uma referência para o próximo nó\n",
    "\n",
    "\n",
    "* **Lista Duplamente Encadeada**: Tem uma referência para o próximo nó e para o nó anterior\n",
    "\n",
    "\n",
    "* **Lista Circular**: O último elemento tem uma referência para o primeiro elemento.\n",
    "\n",
    "\n",
    "* **Lista com nó descritor**: Usa um nó especial chamada de descritor para armazenar diversas informações sobre a lista como inicio e final da lista."
   ]
  },
  {
   "cell_type": "markdown",
   "metadata": {},
   "source": [
    "***"
   ]
  },
  {
   "cell_type": "code",
   "execution_count": 1,
   "metadata": {},
   "outputs": [],
   "source": [
    "class Node:\n",
    "    \"\"\"\n",
    "    Nó da lista encadeada\n",
    "    \"\"\"\n",
    "    \n",
    "    def __init__(self, content):\n",
    "        \"\"\"\n",
    "        Construtor passando o nome do nó\n",
    "        \"\"\"\n",
    "        \n",
    "        self.__content = content\n",
    "        self.__next = None\n",
    "        \n",
    "    def get_content(self):\n",
    "        \"\"\"\n",
    "        Pega o label\n",
    "        \"\"\"\n",
    "        \n",
    "        return self.__content\n",
    "    \n",
    "    def set_content(self, content):\n",
    "        \"\"\"\n",
    "        Modifica o valor do label.\n",
    "        \"\"\"\n",
    "        \n",
    "        self.__content = content\n",
    "        \n",
    "    def get_next(self):\n",
    "        \"\"\"\n",
    "        Pega o próximo elemento\n",
    "        \"\"\"\n",
    "        \n",
    "        return self.__next\n",
    "    \n",
    "    def set_next(self, next_node):\n",
    "        \"\"\"\n",
    "        Modificar o valor do próximo label\n",
    "        \"\"\"\n",
    "        \n",
    "        self.__next = next_node"
   ]
  },
  {
   "cell_type": "code",
   "execution_count": 2,
   "metadata": {},
   "outputs": [],
   "source": [
    "class LinkedList(object):\n",
    "    \"\"\"\n",
    "    Lista simplesmente encadeada.\n",
    "    \"\"\"\n",
    "    \n",
    "    def __init__(self):\n",
    "        \"\"\"\n",
    "        Construtor\n",
    "        \"\"\"\n",
    "        \n",
    "        self.first_node = None\n",
    "        self.last_node = None\n",
    "        self.node_length = 0\n",
    "        \n",
    "    def empty(self):\n",
    "        \"\"\"\n",
    "        Verifica se a lista encadeada está vazia\n",
    "        \"\"\"\n",
    "        \n",
    "        if self.first_node == None:\n",
    "            return True\n",
    "            \n",
    "        return False\n",
    "        \n",
    "    def get_length(self):\n",
    "        \"\"\"\n",
    "        Pega o tamanho da lista encadeada\n",
    "        \"\"\"\n",
    "        \n",
    "        return self.node_length\n",
    "        \n",
    "    def show(self):\n",
    "        \"\"\"\n",
    "        Percorre a lista encadeada mostrando seus valores.\n",
    "        \"\"\"\n",
    "        \n",
    "        current_node = self.first_node\n",
    "            \n",
    "        while current_node != None:\n",
    "            print(current_node.get_content(), end=\" \")\n",
    "            current_node = current_node.get_next()\n",
    "        \n",
    "    def push(self, content, position):\n",
    "        \"\"\"\n",
    "        Inserir um elemento na lista encadeada\n",
    "        \"\"\"\n",
    "        \n",
    "        if position >= 0:\n",
    "            \n",
    "            new_node = Node(content)\n",
    "            \n",
    "            if self.empty():\n",
    "                self.first_node = new_node\n",
    "                self.last_node = new_node\n",
    "            else:\n",
    "                if position == 0:\n",
    "                    self.__insert_at_the_beginning(new_node)\n",
    "                elif position >= self.node_length:\n",
    "                    self.__insert_at_the_end(new_node)\n",
    "                else:\n",
    "                    self.__insert_in_the_middle(new_node, position)\n",
    "                    \n",
    "            # Atualiza o tamanho da lista\n",
    "            self.node_length += 1\n",
    "                    \n",
    "    def __insert_at_the_beginning(self, new_node):\n",
    "        \"\"\"\n",
    "        Insere no inicio da lista encadeada se o index passado\n",
    "        for igual a zero.\n",
    "        \"\"\"\n",
    "        \n",
    "        new_node.set_next(self.first_node)\n",
    "        self.first_node = new_node\n",
    "        \n",
    "    def __insert_at_the_end(self, new_node):\n",
    "        \"\"\"\n",
    "        Insere no final da lista encadeada se o index passado\n",
    "        for maior que o tamanho da lista.\n",
    "        \"\"\"\n",
    "        \n",
    "        self.last_node.set_next(new_node)\n",
    "        self.last_node = new_node\n",
    "        \n",
    "    def __insert_in_the_middle(self, new_node, position):\n",
    "        \"\"\"\n",
    "        Insere no meio da lista no locar especificado pelo index.\n",
    "        Ao inserir a lista após o elemento inserido tem que se\n",
    "        deslocar para a direita.\n",
    "        \"\"\"\n",
    "        \n",
    "        # O nó anterior vai receber o nó atual\n",
    "        previous_node = self.first_node\n",
    "        # O nó atual vai receber o próximo nó\n",
    "        current_node = self.first_node.get_next()\n",
    "        # Seta a posição atual como 1\n",
    "        current_position = 1\n",
    "                    \n",
    "        # Enquanto não chegar no último elemento\n",
    "        while current_node != None:\n",
    "            # Se a posição atual chegar na posição inserida\n",
    "            if current_position == position:\n",
    "                # Setar o nó atual como o próximo nó do nó inserido\n",
    "                new_node.set_next(current_node)\n",
    "                # Setar o nó inserido como o próximo nó do nó anterior\n",
    "                previous_node.set_next(new_node)\n",
    "                # Quebra o loop e sai da função\n",
    "                break\n",
    "            \n",
    "            # O nó anterior vai receber o nó atual\n",
    "            previous_node = current_node\n",
    "            # O nó atual vai receber o próximo nó\n",
    "            current_node = current_node.get_next()\n",
    "            # Incrementar o index até chegar no index inserido\n",
    "            current_position += 1\n",
    "            \n",
    "    def pop(self, position):\n",
    "        \"\"\"\n",
    "        Remover um elemento na lista encadeada\n",
    "        \"\"\"\n",
    "\n",
    "        # Verifica se não ta vazio ou não ta ultrapassando os limites\n",
    "        if not self.empty() and position >= 0 and position < self.node_length:\n",
    "\n",
    "            flag_remove = False\n",
    "\n",
    "            if position == 0:\n",
    "                flag_remove = self.__remove_at_the_beginning()\n",
    "            else:\n",
    "                flag_remove = self.__remove_at_the_middle(position)\n",
    "            \n",
    "            if flag_remove:\n",
    "                self.node_length -= 1\n",
    "        \n",
    "        else:    \n",
    "            print(\"Ultrapassou o tamanho da lista - %d\" % self.node_length)\n",
    "                \n",
    "    def __remove_at_the_beginning(self):\n",
    "        \"\"\"\n",
    "        Remove o primeiro elemento da lista encadeada e\n",
    "        retorna o flag remove\n",
    "        \"\"\"\n",
    "        \n",
    "        # Se a lista possui apenas 1 elemento\n",
    "        if self.first_node.get_next() == None:\n",
    "            self.first_node = None\n",
    "            return True\n",
    "            \n",
    "        # Possui mais de 1 elemento o nó atual será agora o próximo nó\n",
    "        self.first_node = self.first_node.get_next()\n",
    "        return True\n",
    "    \n",
    "    def __remove_at_the_middle(self, position):\n",
    "        \"\"\"\n",
    "        Remove elemento de um local especifico\n",
    "        \"\"\"\n",
    "        \n",
    "        previous_node = self.first_node\n",
    "        current_node = self.first_node.get_next()\n",
    "        current_position = 1\n",
    "\n",
    "        while current_node != None:\n",
    "            if current_position == position:\n",
    "                # O próximo nó do nó anterior tem que apontar\n",
    "                # para o próximo nó do nó atual\n",
    "                previous_node.set_next(current_node.get_next())\n",
    "                current_node.set_next(None)\n",
    "                \n",
    "                return True\n",
    "\n",
    "            previous_node = current_node\n",
    "            current_node = current_node.get_next()\n",
    "            current_position += 1"
   ]
  },
  {
   "cell_type": "markdown",
   "metadata": {},
   "source": [
    "***"
   ]
  },
  {
   "cell_type": "code",
   "execution_count": 3,
   "metadata": {},
   "outputs": [],
   "source": [
    "lista = LinkedList()"
   ]
  },
  {
   "cell_type": "code",
   "execution_count": 4,
   "metadata": {},
   "outputs": [
    {
     "name": "stdout",
     "output_type": "stream",
     "text": [
      "Marcos "
     ]
    }
   ],
   "source": [
    "# Inserção no inicio\n",
    "lista.push(\"Marcos\", 0)\n",
    "lista.show()"
   ]
  },
  {
   "cell_type": "code",
   "execution_count": 5,
   "metadata": {},
   "outputs": [
    {
     "name": "stdout",
     "output_type": "stream",
     "text": [
      "Marcos Maria "
     ]
    }
   ],
   "source": [
    "# Inserção no final\n",
    "lista.push(\"Maria\", 2)\n",
    "lista.show()"
   ]
  },
  {
   "cell_type": "code",
   "execution_count": 6,
   "metadata": {},
   "outputs": [
    {
     "name": "stdout",
     "output_type": "stream",
     "text": [
      "Pedro Marcos Maria "
     ]
    }
   ],
   "source": [
    "# Inserção no inicio\n",
    "lista.push(\"Pedro\", 0)\n",
    "lista.show()"
   ]
  },
  {
   "cell_type": "code",
   "execution_count": 7,
   "metadata": {},
   "outputs": [
    {
     "name": "stdout",
     "output_type": "stream",
     "text": [
      "Pedro Otavio Marcos Maria "
     ]
    }
   ],
   "source": [
    "# Inserção no meio\n",
    "lista.push(\"Otavio\", 1)\n",
    "lista.show()"
   ]
  },
  {
   "cell_type": "code",
   "execution_count": 8,
   "metadata": {},
   "outputs": [
    {
     "name": "stdout",
     "output_type": "stream",
     "text": [
      "Pedro Otavio Marcos Victor Maria "
     ]
    }
   ],
   "source": [
    "# Inserção no meio\n",
    "lista.push(\"Victor\", 3)\n",
    "lista.show()"
   ]
  },
  {
   "cell_type": "code",
   "execution_count": 9,
   "metadata": {},
   "outputs": [
    {
     "name": "stdout",
     "output_type": "stream",
     "text": [
      "False\n",
      "5\n"
     ]
    }
   ],
   "source": [
    "# Verificar se ta vazio e ver o tamanho da lista\n",
    "print(lista.empty())\n",
    "print(lista.get_length())"
   ]
  },
  {
   "cell_type": "code",
   "execution_count": 10,
   "metadata": {},
   "outputs": [
    {
     "name": "stdout",
     "output_type": "stream",
     "text": [
      "Otavio Marcos Victor Maria "
     ]
    }
   ],
   "source": [
    "# Remoção no inicio\n",
    "lista.pop(0)\n",
    "lista.show()"
   ]
  },
  {
   "cell_type": "code",
   "execution_count": 11,
   "metadata": {},
   "outputs": [
    {
     "name": "stdout",
     "output_type": "stream",
     "text": [
      "Otavio Marcos Victor "
     ]
    }
   ],
   "source": [
    "# Remoção no final\n",
    "lista.pop(3)\n",
    "lista.show()"
   ]
  },
  {
   "cell_type": "code",
   "execution_count": 12,
   "metadata": {},
   "outputs": [
    {
     "name": "stdout",
     "output_type": "stream",
     "text": [
      "Otavio Victor "
     ]
    }
   ],
   "source": [
    "# Remoção no meio\n",
    "lista.pop(1)\n",
    "lista.show()"
   ]
  },
  {
   "cell_type": "code",
   "execution_count": 13,
   "metadata": {},
   "outputs": [
    {
     "name": "stdout",
     "output_type": "stream",
     "text": [
      "Ultrapassou o tamanho da lista - 2\n",
      "Otavio Victor "
     ]
    }
   ],
   "source": [
    "# Remoção com tamanho acima do limite\n",
    "lista.pop(5)\n",
    "lista.show()"
   ]
  }
 ],
 "metadata": {
  "kernelspec": {
   "display_name": "Python 3",
   "language": "python",
   "name": "python3"
  },
  "language_info": {
   "codemirror_mode": {
    "name": "ipython",
    "version": 3
   },
   "file_extension": ".py",
   "mimetype": "text/x-python",
   "name": "python",
   "nbconvert_exporter": "python",
   "pygments_lexer": "ipython3",
   "version": "3.7.6"
  }
 },
 "nbformat": 4,
 "nbformat_minor": 2
}
