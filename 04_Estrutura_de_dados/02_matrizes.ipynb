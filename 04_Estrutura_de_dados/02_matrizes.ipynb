{
 "cells": [
  {
   "cell_type": "markdown",
   "metadata": {},
   "source": [
    "## Matrizes\n",
    "***\n",
    "\n",
    "Matriz é uma estrutura de dados que pode nos ajudar quando temos muitas variáveis do mesmo tipo.\n",
    "\n",
    "Vetor é uma matriz unidimensional e Matriz é um vetor de vetores (multidimensional)\n",
    "\n",
    "Um vetor possui apenas uma linha e várias colunas, enquanto que a matriz possui várias linhas e várias colunas."
   ]
  },
  {
   "cell_type": "markdown",
   "metadata": {},
   "source": [
    "***"
   ]
  },
  {
   "cell_type": "code",
   "execution_count": 1,
   "metadata": {},
   "outputs": [],
   "source": [
    "matriz = [\n",
    "    [1, 2, 3 ,4],\n",
    "    [5, 6, 7, 8],\n",
    "    [9, 10, 11, 12]\n",
    "]"
   ]
  },
  {
   "cell_type": "code",
   "execution_count": 2,
   "metadata": {},
   "outputs": [
    {
     "name": "stdout",
     "output_type": "stream",
     "text": [
      "7\n"
     ]
    }
   ],
   "source": [
    "print(matriz[1][2])"
   ]
  },
  {
   "cell_type": "code",
   "execution_count": 3,
   "metadata": {},
   "outputs": [
    {
     "name": "stdout",
     "output_type": "stream",
     "text": [
      "1\n"
     ]
    }
   ],
   "source": [
    "# Primeiro elemento\n",
    "print(matriz[0][0])"
   ]
  },
  {
   "cell_type": "code",
   "execution_count": 4,
   "metadata": {},
   "outputs": [
    {
     "name": "stdout",
     "output_type": "stream",
     "text": [
      "12\n",
      "12\n"
     ]
    }
   ],
   "source": [
    "# Ultimo elemento\n",
    "print(matriz[2][3])\n",
    "print(matriz[-1][-1])"
   ]
  },
  {
   "cell_type": "code",
   "execution_count": 5,
   "metadata": {},
   "outputs": [],
   "source": [
    "matriz = [\n",
    "    ['joão', 8, 7, 5],\n",
    "    ['pedro', 1, 2, 3],\n",
    "    ['mario', 2, 20, 3]\n",
    "]"
   ]
  },
  {
   "cell_type": "code",
   "execution_count": 6,
   "metadata": {},
   "outputs": [
    {
     "name": "stdout",
     "output_type": "stream",
     "text": [
      "joão\t 8\t 7\t 5\t \n",
      "pedro\t 1\t 2\t 3\t \n",
      "mario\t 2\t 20\t 3\t \n"
     ]
    }
   ],
   "source": [
    "for linha in matriz:\n",
    "    for coluna in linha:\n",
    "        print(str(coluna) + '\\t', end=' ')\n",
    "    print()"
   ]
  }
 ],
 "metadata": {
  "kernelspec": {
   "display_name": "Python 3",
   "language": "python",
   "name": "python3"
  },
  "language_info": {
   "codemirror_mode": {
    "name": "ipython",
    "version": 3
   },
   "file_extension": ".py",
   "mimetype": "text/x-python",
   "name": "python",
   "nbconvert_exporter": "python",
   "pygments_lexer": "ipython3",
   "version": "3.7.6"
  }
 },
 "nbformat": 4,
 "nbformat_minor": 2
}
