{
 "cells": [
  {
   "cell_type": "markdown",
   "metadata": {},
   "source": [
    "## Deque (Double-ended queue)\n",
    "***\n",
    "\n",
    "![img](http://www.mundojs.com.br/wp-content/uploads/2018/02/deque-300x239.png)\n",
    "\n",
    "Deque é uma fila de duas pontas, na qual você pode inserir e remover nas duas pontas da fila.\n",
    "\n",
    "É uma fila duplamente terminada (frequentemente abreviada como deque, do inglês _double ended queue_) é um tipo de dado abstrato que generaliza uma fila, para a qual os elementos podem ser adicionados ou removidos da frente (cabeça) ou de trás (cauda). Também é chamada de lista encadeada cabeça-cauda, apesar de propriamente isto se referir a uma implementação de estrutura de dados específica.\n",
    "\n",
    "É muito utilizado para criar linhas de montagem através do método **rotate** ou filas de banco e etc...\n",
    "\n",
    "Deque é muito mais eficientes que listas"
   ]
  },
  {
   "cell_type": "markdown",
   "metadata": {},
   "source": [
    "***"
   ]
  },
  {
   "cell_type": "code",
   "execution_count": 1,
   "metadata": {},
   "outputs": [],
   "source": [
    "class Deque(object):\n",
    "    \"\"\"\n",
    "    Deque\n",
    "    \"\"\"\n",
    "    \n",
    "    def __init__(self):\n",
    "        \"\"\"\n",
    "        Construtor\n",
    "        \"\"\"\n",
    "        \n",
    "        self.deque = []\n",
    "        self.count = 0\n",
    "    \n",
    "    def push_front(self, element):\n",
    "        \"\"\"\n",
    "        Inserir no inicio do deque.\n",
    "        \"\"\"\n",
    "        \n",
    "        self.deque.insert(0, element)\n",
    "        self.count += 1\n",
    "        \n",
    "    def push_back(self, element):\n",
    "        \"\"\"\n",
    "        Inserir no final do deque\n",
    "        \"\"\"\n",
    "        \n",
    "        self.deque.append(element)\n",
    "        self.count += 1\n",
    "        \n",
    "    def pop_front(self):\n",
    "        \"\"\"\n",
    "        Remove do inicio do deque.\n",
    "        \"\"\"\n",
    "        \n",
    "        if not self.empty():\n",
    "            self.deque.pop(0)\n",
    "            self.count -= 1\n",
    "        \n",
    "    def pop_back(self):\n",
    "        \"\"\"\n",
    "        Remover do final do deque.\n",
    "        \"\"\"\n",
    "        \n",
    "        if not self.empty():\n",
    "            self.deque.pop(self.count -1)\n",
    "            self.count -= 1\n",
    "            \n",
    "    def front(self):\n",
    "        \"\"\"\n",
    "        Pega o primeiro elemento do deque.\n",
    "        \"\"\"\n",
    "        \n",
    "        if not self.empty():\n",
    "            return self.deque[0]\n",
    "        \n",
    "        return None\n",
    "    \n",
    "    def back(self):\n",
    "        \"\"\"\n",
    "        Pega o ultimo elemento do deque\n",
    "        \"\"\"\n",
    "        \n",
    "        if not self.empty():\n",
    "            return self.deque[-1]\n",
    "        \n",
    "        return None\n",
    "        \n",
    "    def empty(self):\n",
    "        \"\"\"\n",
    "        Verifica se o deque está vazio\n",
    "        \"\"\"\n",
    "        \n",
    "        if self.count == 0:\n",
    "            return True\n",
    "        \n",
    "        return False\n",
    "        \n",
    "    def length(self):\n",
    "        \"\"\"\n",
    "        Pega o tamanho do deque.\n",
    "        \"\"\"\n",
    "        \n",
    "        return self.count\n",
    "    \n",
    "    def show(self):\n",
    "        \"\"\"\n",
    "        Mostrar fila\n",
    "        \"\"\"\n",
    "        \n",
    "        for element in self.deque:\n",
    "            print(element, end=' ')"
   ]
  },
  {
   "cell_type": "code",
   "execution_count": 2,
   "metadata": {},
   "outputs": [
    {
     "name": "stdout",
     "output_type": "stream",
     "text": [
      "7 5 10 20 "
     ]
    }
   ],
   "source": [
    "deque = Deque()\n",
    "deque.push_front(10) # 10\n",
    "deque.push_front(5)  # 5, 10\n",
    "deque.push_back(20)  # 5, 10, 20\n",
    "deque.push_front(7)  # 7, 5, 10, 20\n",
    "deque.show()"
   ]
  },
  {
   "cell_type": "code",
   "execution_count": 3,
   "metadata": {},
   "outputs": [
    {
     "name": "stdout",
     "output_type": "stream",
     "text": [
      "20\n",
      "7\n"
     ]
    }
   ],
   "source": [
    "print(deque.back())\n",
    "print(deque.front())"
   ]
  },
  {
   "cell_type": "code",
   "execution_count": 4,
   "metadata": {},
   "outputs": [
    {
     "name": "stdout",
     "output_type": "stream",
     "text": [
      "7 5 10 "
     ]
    }
   ],
   "source": [
    "deque.pop_back() # 20\n",
    "deque.show()"
   ]
  },
  {
   "cell_type": "code",
   "execution_count": 5,
   "metadata": {},
   "outputs": [
    {
     "name": "stdout",
     "output_type": "stream",
     "text": [
      "5 10 "
     ]
    }
   ],
   "source": [
    "deque.pop_front() # 7\n",
    "deque.show()"
   ]
  },
  {
   "cell_type": "code",
   "execution_count": 6,
   "metadata": {},
   "outputs": [
    {
     "name": "stdout",
     "output_type": "stream",
     "text": [
      "0\n",
      "True\n"
     ]
    }
   ],
   "source": [
    "deque.pop_front()\n",
    "deque.pop_front()\n",
    "print(deque.length())\n",
    "print(deque.empty())"
   ]
  }
 ],
 "metadata": {
  "kernelspec": {
   "display_name": "Python 3",
   "language": "python",
   "name": "python3"
  },
  "language_info": {
   "codemirror_mode": {
    "name": "ipython",
    "version": 3
   },
   "file_extension": ".py",
   "mimetype": "text/x-python",
   "name": "python",
   "nbconvert_exporter": "python",
   "pygments_lexer": "ipython3",
   "version": "3.7.6"
  }
 },
 "nbformat": 4,
 "nbformat_minor": 2
}
