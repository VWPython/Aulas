{
 "cells": [
  {
   "cell_type": "markdown",
   "metadata": {},
   "source": [
    "# Fila de prioridade\n",
    "***"
   ]
  },
  {
   "cell_type": "markdown",
   "metadata": {},
   "source": [
    "**Heaps()**: É uma especie de fila de prioridade, heap significa pilha, ela permite você adicionar objeto em uma ordem arbitrária e em qualquer momento, por exemplo, possivelmente no meio da adição, encontrar (e, possivelmente, remover) o menor elemento de maneira eficiênte. Na verdade não há nenhum built-in heap separado em Python, somente um módulo com algumas manipulações de heap. O módulo é chamado heapq (com q significando queue = fila), que contém 6 funções. O heapq trabalha com listas\n",
    "\n",
    "* **heappush(heap, number)** Ordena os elementos em uma lista seguindo a lógica elemento na posição i é menor que os na posição 2*i e 2*i+1\n",
    "\n",
    "\n",
    "* **heappop(heap)**: Remove o menor elemento e reorganiza o heap\n",
    "\n",
    "\n",
    "* **heapify(heap)**: Transforma uma lista arbitrária em algo adequado para uma heap\n",
    "\n",
    "\n",
    "* **heapreplace(heap, new_element)**: Remove o menor elemento e adiciona um novo elemento ao heap\n",
    "\n",
    "\n",
    "* **nlargest(n, iter)**: Acham os n maiores elementos de um iterável qualquer\n",
    "\n",
    "\n",
    "* **nsmallest(n, iter)**: Acham os n menores elementos de um iterável qualquer"
   ]
  },
  {
   "cell_type": "markdown",
   "metadata": {},
   "source": [
    "***\n",
    "### Exemplos\n",
    "***"
   ]
  },
  {
   "cell_type": "code",
   "execution_count": 1,
   "metadata": {},
   "outputs": [],
   "source": [
    "# importar o modulo heapq e o shuffle para bagunça a lista\n",
    "from heapq import *\n",
    "from random import shuffle"
   ]
  },
  {
   "cell_type": "markdown",
   "metadata": {},
   "source": [
    "***"
   ]
  },
  {
   "cell_type": "code",
   "execution_count": 2,
   "metadata": {},
   "outputs": [],
   "source": [
    "# Inicializar a lista desordenada e o heap\n",
    "data = list(range(10))\n",
    "shuffle(data)\n",
    "heap = []"
   ]
  },
  {
   "cell_type": "markdown",
   "metadata": {},
   "source": [
    "***"
   ]
  },
  {
   "cell_type": "code",
   "execution_count": 3,
   "metadata": {},
   "outputs": [
    {
     "name": "stdout",
     "output_type": "stream",
     "text": [
      "[1, 9, 6, 0, 8, 5, 3, 4, 2, 7]\n",
      "[0, 1, 3, 2, 7, 6, 5, 9, 4, 8]\n"
     ]
    }
   ],
   "source": [
    "# Ordena os elementos em uma lista seguindo a lógica\n",
    "# elemento na posição i é menor que os na posição 2i e 2i+1\n",
    "for number in data:\n",
    "    heappush(heap, number)\n",
    "    \n",
    "print(data)\n",
    "print(heap)"
   ]
  },
  {
   "cell_type": "markdown",
   "metadata": {},
   "source": [
    "***"
   ]
  },
  {
   "cell_type": "code",
   "execution_count": 4,
   "metadata": {},
   "outputs": [
    {
     "name": "stdout",
     "output_type": "stream",
     "text": [
      "[0, 1, 3, 2, 7, 6, 5, 9, 4, 8]\n",
      "0\n",
      "[1, 2, 3, 4, 7, 6, 5, 9, 8]\n"
     ]
    }
   ],
   "source": [
    "# Remove o menor elemento e reorganiza o heap\n",
    "print(heap)\n",
    "print(heappop(heap))\n",
    "print(heap)"
   ]
  },
  {
   "cell_type": "markdown",
   "metadata": {},
   "source": [
    "***"
   ]
  },
  {
   "cell_type": "code",
   "execution_count": 5,
   "metadata": {},
   "outputs": [
    {
     "name": "stdout",
     "output_type": "stream",
     "text": [
      "[1, 2, 3, 4, 7, 6, 5, 9, 8]\n",
      "[1, 2, 3, 4, 7, 6, 5, 9, 8]\n"
     ]
    }
   ],
   "source": [
    "# Transforma uma lista arbitrária em algo adequado para uma heap\n",
    "print(heap)\n",
    "heapify(heap)\n",
    "print(heap)"
   ]
  },
  {
   "cell_type": "markdown",
   "metadata": {},
   "source": [
    "***"
   ]
  },
  {
   "cell_type": "code",
   "execution_count": 6,
   "metadata": {},
   "outputs": [
    {
     "name": "stdout",
     "output_type": "stream",
     "text": [
      "[1, 2, 3, 4, 7, 6, 5, 9, 8]\n",
      "[2, 4, 3, 8, 7, 6, 5, 9, 10]\n"
     ]
    }
   ],
   "source": [
    "# Remove o menor elemento e adiciona um novo elemento ao heap\n",
    "print(heap)\n",
    "heapreplace(heap, 10)\n",
    "print(heap)"
   ]
  }
 ],
 "metadata": {
  "kernelspec": {
   "display_name": "Python 3",
   "language": "python",
   "name": "python3"
  },
  "language_info": {
   "codemirror_mode": {
    "name": "ipython",
    "version": 3
   },
   "file_extension": ".py",
   "mimetype": "text/x-python",
   "name": "python",
   "nbconvert_exporter": "python",
   "pygments_lexer": "ipython3",
   "version": "3.7.6"
  }
 },
 "nbformat": 4,
 "nbformat_minor": 2
}
