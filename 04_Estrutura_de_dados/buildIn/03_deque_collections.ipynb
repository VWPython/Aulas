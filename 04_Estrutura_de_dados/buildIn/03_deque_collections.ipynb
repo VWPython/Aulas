{
 "cells": [
  {
   "cell_type": "markdown",
   "metadata": {},
   "source": [
    "# Deques\n",
    "***"
   ]
  },
  {
   "cell_type": "markdown",
   "metadata": {},
   "source": [
    "É uma fila duplamente terminada (frequentemente abreviada como deque, do inglês _double ended queue_) é um tipo de dado abstrato que generaliza uma fila, para a qual os elementos podem ser adicionados ou removidos da frente (cabeça) ou de trás (cauda). Também é chamada de lista encadeada cabeça-cauda, apesar de propriamente isto se referir a uma implementação de estrutura de dados específica.\n",
    "\n",
    "É muito utilizado para criar linhas de montagem através do método **rotate** ou filas de banco e etc...\n",
    "\n",
    "Deque é muito mais eficientes que listas"
   ]
  },
  {
   "cell_type": "markdown",
   "metadata": {},
   "source": [
    "***\n",
    "### Exemplos\n",
    "***"
   ]
  },
  {
   "cell_type": "code",
   "execution_count": 1,
   "metadata": {},
   "outputs": [],
   "source": [
    "# Importar o deque\n",
    "from collections import deque"
   ]
  },
  {
   "cell_type": "markdown",
   "metadata": {},
   "source": [
    "***"
   ]
  },
  {
   "cell_type": "code",
   "execution_count": 2,
   "metadata": {},
   "outputs": [
    {
     "name": "stdout",
     "output_type": "stream",
     "text": [
      "deque(['Pedro', 'Maria', 'João', 'Marcos', 'Julio'])\n"
     ]
    }
   ],
   "source": [
    "# Criar um deque\n",
    "queue = deque(['Pedro', 'Maria', 'João', 'Marcos', 'Julio'])\n",
    "print(queue)"
   ]
  },
  {
   "cell_type": "markdown",
   "metadata": {},
   "source": [
    "***"
   ]
  },
  {
   "cell_type": "code",
   "execution_count": 3,
   "metadata": {},
   "outputs": [
    {
     "name": "stdout",
     "output_type": "stream",
     "text": [
      "Pedro, Maria, João, Marcos, Julio, "
     ]
    }
   ],
   "source": [
    "# Percorrer o deque\n",
    "for person in queue:\n",
    "    print(person, end=', ')"
   ]
  },
  {
   "cell_type": "markdown",
   "metadata": {},
   "source": [
    "***"
   ]
  },
  {
   "cell_type": "code",
   "execution_count": 4,
   "metadata": {},
   "outputs": [
    {
     "name": "stdout",
     "output_type": "stream",
     "text": [
      "deque(['Pedro', 'Maria', 'João', 'Marcos', 'Julio', 'Victor'])\n"
     ]
    }
   ],
   "source": [
    "# Adicionar novas pessoas ao final da fila\n",
    "queue.append('Victor')\n",
    "print(queue)"
   ]
  },
  {
   "cell_type": "markdown",
   "metadata": {},
   "source": [
    "***"
   ]
  },
  {
   "cell_type": "code",
   "execution_count": 5,
   "metadata": {},
   "outputs": [
    {
     "name": "stdout",
     "output_type": "stream",
     "text": [
      "deque(['André', 'Pedro', 'Maria', 'João', 'Marcos', 'Julio', 'Victor'])\n"
     ]
    }
   ],
   "source": [
    "# Adicionar novas pessoas no começo da fila\n",
    "queue.appendleft('André')\n",
    "print(queue)"
   ]
  },
  {
   "cell_type": "markdown",
   "metadata": {},
   "source": [
    "***"
   ]
  },
  {
   "cell_type": "code",
   "execution_count": 6,
   "metadata": {},
   "outputs": [
    {
     "name": "stdout",
     "output_type": "stream",
     "text": [
      "deque(['André', 'Pedro', 'Maria', 'João', 'Marcos', 'Julio'])\n"
     ]
    }
   ],
   "source": [
    "# Remove a ultima pessoa da fila\n",
    "queue.pop()\n",
    "print(queue)"
   ]
  },
  {
   "cell_type": "markdown",
   "metadata": {},
   "source": [
    "***"
   ]
  },
  {
   "cell_type": "code",
   "execution_count": 7,
   "metadata": {},
   "outputs": [
    {
     "name": "stdout",
     "output_type": "stream",
     "text": [
      "deque(['Pedro', 'Maria', 'João', 'Marcos', 'Julio'])\n"
     ]
    }
   ],
   "source": [
    "# Remove a primeira pessoa da fila\n",
    "queue.popleft()\n",
    "print(queue)"
   ]
  },
  {
   "cell_type": "markdown",
   "metadata": {},
   "source": [
    "***"
   ]
  },
  {
   "cell_type": "code",
   "execution_count": 8,
   "metadata": {},
   "outputs": [
    {
     "name": "stdout",
     "output_type": "stream",
     "text": [
      "deque([1, 2, 3, 4])\n",
      "[1, 2, 3, 4]\n"
     ]
    }
   ],
   "source": [
    "# Podemos transformar uma lista em um deque e vise-versa\n",
    "my_list = [1, 2, 3, 4]\n",
    "my_deque= deque(my_list)\n",
    "print(my_deque)\n",
    "my_list = list(my_deque)\n",
    "print(my_list)"
   ]
  },
  {
   "cell_type": "markdown",
   "metadata": {},
   "source": [
    "***"
   ]
  },
  {
   "cell_type": "code",
   "execution_count": 9,
   "metadata": {},
   "outputs": [
    {
     "name": "stdout",
     "output_type": "stream",
     "text": [
      "5\n",
      "1\n"
     ]
    }
   ],
   "source": [
    "# Podemos contar quantos elementos tem na fila e a posição de um determinado elemento\n",
    "print(len(queue))\n",
    "print(queue.count('Maria'))"
   ]
  },
  {
   "cell_type": "markdown",
   "metadata": {},
   "source": [
    "***"
   ]
  },
  {
   "cell_type": "code",
   "execution_count": 10,
   "metadata": {},
   "outputs": [
    {
     "name": "stdout",
     "output_type": "stream",
     "text": [
      "deque(['Pedro', 'João', 'Marcos', 'Julio'])\n"
     ]
    }
   ],
   "source": [
    "# Podemos remover uma pessoa da fila pelo seu nome\n",
    "queue.remove('Maria')\n",
    "print(queue)"
   ]
  },
  {
   "cell_type": "markdown",
   "metadata": {},
   "source": [
    "***"
   ]
  },
  {
   "cell_type": "code",
   "execution_count": 11,
   "metadata": {},
   "outputs": [
    {
     "name": "stdout",
     "output_type": "stream",
     "text": [
      "Pedro\n",
      "João\n",
      "True\n"
     ]
    }
   ],
   "source": [
    "# Podemos obter os elementos do deque usando index e verificar se um elemeto ta no deque\n",
    "print(queue[0])\n",
    "print(queue[1])\n",
    "print('João' in queue)"
   ]
  },
  {
   "cell_type": "markdown",
   "metadata": {},
   "source": [
    "***"
   ]
  },
  {
   "cell_type": "code",
   "execution_count": 12,
   "metadata": {},
   "outputs": [
    {
     "name": "stdout",
     "output_type": "stream",
     "text": [
      "deque(['Pedro', 'João', 'Marcos', 'Julio'])\n",
      "deque(['Julio', 'Marcos', 'João', 'Pedro'])\n"
     ]
    }
   ],
   "source": [
    "# Podemos inverter a lista\n",
    "print(queue)\n",
    "queue.reverse()\n",
    "print(queue)"
   ]
  },
  {
   "cell_type": "markdown",
   "metadata": {},
   "source": [
    "***"
   ]
  },
  {
   "cell_type": "code",
   "execution_count": 13,
   "metadata": {},
   "outputs": [
    {
     "name": "stdout",
     "output_type": "stream",
     "text": [
      "deque(['Joana', 'Julio', 'Marcos', 'João', 'Pedro', 'Victor', 'Pedro', 'João'])\n"
     ]
    }
   ],
   "source": [
    "# Recebe um objeto iteravel e adiciona os elementos do objeto ao deque\n",
    "# Basicamente é inserir uma fila no final ou no inicio de outra fila\n",
    "queue.extend(['Victor', 'Pedro', 'João'])\n",
    "queue.extendleft(['Joana'])\n",
    "print(queue)"
   ]
  },
  {
   "cell_type": "markdown",
   "metadata": {},
   "source": [
    "***"
   ]
  },
  {
   "cell_type": "code",
   "execution_count": 14,
   "metadata": {},
   "outputs": [
    {
     "name": "stdout",
     "output_type": "stream",
     "text": [
      "deque(['João', 'Joana', 'Julio', 'Marcos', 'João', 'Pedro', 'Victor', 'Pedro'])\n",
      "deque(['Joana', 'Julio', 'Marcos', 'João', 'Pedro', 'Victor', 'Pedro', 'João'])\n"
     ]
    }
   ],
   "source": [
    "# girar a fila para a direita (1) e para a esquerda (-1)\n",
    "# Pode simular a entrada de um produto dentro de uma linha de produção\n",
    "queue.rotate(1)\n",
    "print(queue)\n",
    "queue.rotate(-1)\n",
    "print(queue)"
   ]
  },
  {
   "cell_type": "markdown",
   "metadata": {},
   "source": [
    "***"
   ]
  },
  {
   "cell_type": "code",
   "execution_count": 15,
   "metadata": {},
   "outputs": [
    {
     "name": "stdout",
     "output_type": "stream",
     "text": [
      "deque(['João', 'Pedro', 'Victor', 'Pedro', 'João'], maxlen=5)\n"
     ]
    }
   ],
   "source": [
    "# Limitar a quantidade de pessoas na fila\n",
    "queue = deque(queue, maxlen=5)\n",
    "print(queue)"
   ]
  },
  {
   "cell_type": "markdown",
   "metadata": {},
   "source": [
    "***"
   ]
  },
  {
   "cell_type": "code",
   "execution_count": 16,
   "metadata": {},
   "outputs": [
    {
     "name": "stdout",
     "output_type": "stream",
     "text": [
      "deque(['Pedro', 'Victor', 'Pedro', 'João', 'Ino'], maxlen=5)\n"
     ]
    }
   ],
   "source": [
    "# Se tentar adicionar os elementos o primeiro elemento\n",
    "# é descartado e o elemento é adicionado no final da fila\n",
    "queue.append('Ino')\n",
    "print(queue)"
   ]
  },
  {
   "cell_type": "markdown",
   "metadata": {},
   "source": [
    "***"
   ]
  },
  {
   "cell_type": "code",
   "execution_count": 17,
   "metadata": {},
   "outputs": [
    {
     "name": "stdout",
     "output_type": "stream",
     "text": [
      "deque([], maxlen=5)\n"
     ]
    }
   ],
   "source": [
    "# Limpar a fila\n",
    "queue.clear()\n",
    "print(queue)"
   ]
  }
 ],
 "metadata": {
  "kernelspec": {
   "display_name": "Python 3",
   "language": "python",
   "name": "python3"
  },
  "language_info": {
   "codemirror_mode": {
    "name": "ipython",
    "version": 3
   },
   "file_extension": ".py",
   "mimetype": "text/x-python",
   "name": "python",
   "nbconvert_exporter": "python",
   "pygments_lexer": "ipython3",
   "version": "3.7.6"
  }
 },
 "nbformat": 4,
 "nbformat_minor": 2
}
