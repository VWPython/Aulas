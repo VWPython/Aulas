{
 "cells": [
  {
   "cell_type": "markdown",
   "metadata": {},
   "source": [
    "# Estrutura de dados build-in\n",
    "***"
   ]
  },
  {
   "cell_type": "markdown",
   "metadata": {},
   "source": [
    "Na Ciência da computação, uma estrutura de dados é um modo particular de armazenamento e organização de dados em um computador de modo que possam ser usados eficientemente, facilitando sua busca e modificação.\n",
    "\n",
    "* **object()**: Object é a classe principal que todas as outras classe devem herdar, nela não se pode setar atributos dinâmicamente em objetos de instância, ela foi criada para você escrever suas próprias classes, e insere algumas funcionalidades importantes como os dunters.\n",
    "\n",
    "\n",
    "* **tuple()**: São objetos que podem armazenar um determinado número de objetos, deixando eles somente como leitura, não há como modificar objetos dentro de uma tupla. Só tem como modificar os objetos da tupla no momento da inicialização dela.\n",
    "\n",
    "\n",
    "* **list()**: São objetos que podem armazenar um determinado número de objetos, porém ele pode ser tanto leitura como escrita, uma lista é totalmente editavel.\n",
    "\n",
    "\n",
    "* **dict()**: Dicionarios permitem mapear objetos diretamente para outros objetos através de chave e valor, podemos acessar os valores pelas suas chaves, um objeto é a chave e o outro objeto é o valor. Objetos ou instâncias da classe são armazenados em dicionários. Dicionários é um exemplo de Tabela Hash.\n",
    "\n",
    "\n",
    "* **set()**: sets são conjuntos que garantem que os objetos são únicos, pois eles não permitem elementos repetidos. tem métodos como **.add()** que adiciona um novo elemento ao set, **.update()** que adiciona um set, ou qualque objeto iteravel a um set, **.remove()** que remove um elemento do set, levanta erro se não encontrar, **.discard()** que remove também um elemento mas não levanta erro caso não encontrar, **.pop()** que remove e retorna um elemento aleatório do set e o **.clear()** que limpa o set\n",
    "\n",
    "Podemos estender os dados build-in e modificar seu funcionamente, por exemplo, criar uma classe e herdar da classe lista modificando a função append para adicionar somente números inteiros na lista.\n",
    "\n",
    "Podemos também inserir parâmetros variados em uma função através do **\\*args** e **\\*\\*kwargs**\n",
    "\n",
    "Complexidade: https://wiki.python.org/moin/TimeComplexity"
   ]
  },
  {
   "cell_type": "markdown",
   "metadata": {},
   "source": [
    "***\n",
    "### Object\n",
    "***"
   ]
  },
  {
   "cell_type": "code",
   "execution_count": 1,
   "metadata": {},
   "outputs": [
    {
     "ename": "AttributeError",
     "evalue": "'object' object has no attribute 'x'",
     "output_type": "error",
     "traceback": [
      "\u001b[0;31m---------------------------------------------------------------------------\u001b[0m",
      "\u001b[0;31mAttributeError\u001b[0m                            Traceback (most recent call last)",
      "\u001b[0;32m<ipython-input-1-97f524b6828f>\u001b[0m in \u001b[0;36m<module>\u001b[0;34m\u001b[0m\n\u001b[1;32m      1\u001b[0m \u001b[0;31m# Classe object\u001b[0m\u001b[0;34m\u001b[0m\u001b[0;34m\u001b[0m\u001b[0;34m\u001b[0m\u001b[0m\n\u001b[1;32m      2\u001b[0m \u001b[0mobj\u001b[0m \u001b[0;34m=\u001b[0m \u001b[0mobject\u001b[0m\u001b[0;34m(\u001b[0m\u001b[0;34m)\u001b[0m\u001b[0;34m\u001b[0m\u001b[0;34m\u001b[0m\u001b[0m\n\u001b[0;32m----> 3\u001b[0;31m \u001b[0mobj\u001b[0m\u001b[0;34m.\u001b[0m\u001b[0mx\u001b[0m \u001b[0;34m=\u001b[0m \u001b[0;36m10\u001b[0m\u001b[0;34m\u001b[0m\u001b[0;34m\u001b[0m\u001b[0m\n\u001b[0m",
      "\u001b[0;31mAttributeError\u001b[0m: 'object' object has no attribute 'x'"
     ]
    }
   ],
   "source": [
    "# Classe object\n",
    "obj = object()\n",
    "obj.x = 10"
   ]
  },
  {
   "cell_type": "markdown",
   "metadata": {},
   "source": [
    "***\n",
    "### Tuplas\n",
    "***"
   ]
  },
  {
   "cell_type": "code",
   "execution_count": 2,
   "metadata": {},
   "outputs": [
    {
     "name": "stdout",
     "output_type": "stream",
     "text": [
      "(1, 2, 3, 4, 5)\n",
      "1\n"
     ]
    }
   ],
   "source": [
    "# Tuplas e visualizar\n",
    "numbers = (1, 2, 3, 4, 5)\n",
    "print(numbers)\n",
    "print(numbers[0])"
   ]
  },
  {
   "cell_type": "code",
   "execution_count": 3,
   "metadata": {},
   "outputs": [
    {
     "ename": "TypeError",
     "evalue": "'tuple' object does not support item assignment",
     "output_type": "error",
     "traceback": [
      "\u001b[0;31m---------------------------------------------------------------------------\u001b[0m",
      "\u001b[0;31mTypeError\u001b[0m                                 Traceback (most recent call last)",
      "\u001b[0;32m<ipython-input-3-ed8552043d07>\u001b[0m in \u001b[0;36m<module>\u001b[0;34m\u001b[0m\n\u001b[1;32m      1\u001b[0m \u001b[0;31m# A principal diferença com as listas é que elas são imutaveis\u001b[0m\u001b[0;34m\u001b[0m\u001b[0;34m\u001b[0m\u001b[0;34m\u001b[0m\u001b[0m\n\u001b[0;32m----> 2\u001b[0;31m \u001b[0mnumbers\u001b[0m\u001b[0;34m[\u001b[0m\u001b[0;36m0\u001b[0m\u001b[0;34m]\u001b[0m \u001b[0;34m=\u001b[0m \u001b[0;36m10\u001b[0m\u001b[0;34m\u001b[0m\u001b[0;34m\u001b[0m\u001b[0m\n\u001b[0m",
      "\u001b[0;31mTypeError\u001b[0m: 'tuple' object does not support item assignment"
     ]
    }
   ],
   "source": [
    "# A principal diferença com as listas é que elas são imutaveis\n",
    "numbers[0] = 10"
   ]
  },
  {
   "cell_type": "markdown",
   "metadata": {},
   "source": [
    "***\n",
    "### Listas\n",
    "***"
   ]
  },
  {
   "cell_type": "code",
   "execution_count": 4,
   "metadata": {},
   "outputs": [
    {
     "name": "stdout",
     "output_type": "stream",
     "text": [
      "10\n",
      "[10, 2, 3, 4, 5]\n"
     ]
    }
   ],
   "source": [
    "# Listas\n",
    "numbers = [1, 2, 3, 4, 5]\n",
    "numbers[0] = 10\n",
    "print(numbers[0])\n",
    "print(numbers)"
   ]
  },
  {
   "cell_type": "markdown",
   "metadata": {},
   "source": [
    "***\n",
    "### Dicionarios\n",
    "***"
   ]
  },
  {
   "cell_type": "code",
   "execution_count": 5,
   "metadata": {},
   "outputs": [
    {
     "name": "stdout",
     "output_type": "stream",
     "text": [
      "20\n",
      "26\n",
      "28 33 "
     ]
    }
   ],
   "source": [
    "# Dicionários\n",
    "ages = {'marcos': 20, 'joão': 28, 'maria': 33}\n",
    "print(ages.get('marcos'))\n",
    "ages['marcos'] = 26\n",
    "print(ages['marcos'])\n",
    "del ages['marcos']\n",
    "for key in ages.keys():\n",
    "    print(ages[key], end=\" \")"
   ]
  },
  {
   "cell_type": "markdown",
   "metadata": {},
   "source": [
    "***\n",
    "### Conjuntos ou sets\n",
    "***"
   ]
  },
  {
   "cell_type": "code",
   "execution_count": 6,
   "metadata": {},
   "outputs": [
    {
     "name": "stdout",
     "output_type": "stream",
     "text": [
      "{'Henrique', 'João', 'Lucas', 'Pedro'}\n",
      "{'Henrique', 'João', 'Lucas'}\n"
     ]
    }
   ],
   "source": [
    "# Conjuntos\n",
    "a = set(['Lucas', 'João', 'Henrique'])\n",
    "b = set(['João', 'Julia'])\n",
    "a.add('Henrique')\n",
    "a.add('Henrique')\n",
    "a.add('Pedro')\n",
    "print(a)\n",
    "a.remove('Pedro')\n",
    "print(a)"
   ]
  },
  {
   "cell_type": "code",
   "execution_count": 7,
   "metadata": {},
   "outputs": [
    {
     "name": "stdout",
     "output_type": "stream",
     "text": [
      "{'João'}\n",
      "{'João'}\n"
     ]
    }
   ],
   "source": [
    "# Intersecção de conjuntos (Elementos que pertencem a ambos os sets)\n",
    "# O(min(len(a), len(b))\n",
    "print(a.intersection(b))\n",
    "print(b & a)"
   ]
  },
  {
   "cell_type": "code",
   "execution_count": 8,
   "metadata": {},
   "outputs": [
    {
     "name": "stdout",
     "output_type": "stream",
     "text": [
      "{'Henrique', 'Lucas'}\n",
      "{'Julia'}\n"
     ]
    }
   ],
   "source": [
    "# Diferença entre dois conjuntos (Elementos que pertence a um e não pertence a outro)\n",
    "# O(len(a))\n",
    "print(a.difference(b))\n",
    "print(b - a)"
   ]
  },
  {
   "cell_type": "code",
   "execution_count": 9,
   "metadata": {},
   "outputs": [
    {
     "name": "stdout",
     "output_type": "stream",
     "text": [
      "{'Henrique', 'Lucas', 'Julia'}\n",
      "{'Henrique', 'Lucas', 'Julia'}\n"
     ]
    }
   ],
   "source": [
    "# Diferença simetrica (obter os elementos que não se repetem entre os sets)\n",
    "print(a.symmetric_difference(b))\n",
    "print(b ^ a)"
   ]
  },
  {
   "cell_type": "code",
   "execution_count": 10,
   "metadata": {},
   "outputs": [
    {
     "name": "stdout",
     "output_type": "stream",
     "text": [
      "{'Henrique', 'Lucas', 'João', 'Julia'}\n",
      "{'Henrique', 'Lucas', 'João', 'Julia'}\n"
     ]
    }
   ],
   "source": [
    "# União entre os sets (junção de dois sets)\n",
    "# O(len(a) + len(b))\n",
    "print(a.union(b))\n",
    "print(b | a)"
   ]
  },
  {
   "cell_type": "code",
   "execution_count": 11,
   "metadata": {},
   "outputs": [
    {
     "name": "stdout",
     "output_type": "stream",
     "text": [
      "A está contido em B? True\n",
      "B está contido em A? False\n",
      "B contém A? True\n",
      "A contém B? False\n"
     ]
    }
   ],
   "source": [
    "# Superset(indetifica se um set contém outro)\n",
    "# Subset(identifica se um set está contido em outro)\n",
    "A = {1, 2, 3}\n",
    "B = {1, 2, 3, 4, 5}\n",
    "print(\"A está contido em B?\", A.issubset(B))\n",
    "print(\"B está contido em A?\", B < A)\n",
    "print(\"B contém A?\", B.issuperset(A))\n",
    "print(\"A contém B?\", A > B)"
   ]
  },
  {
   "cell_type": "markdown",
   "metadata": {},
   "source": [
    "***\n",
    "### Sobrescrevendo estrutura de dados\n",
    "***"
   ]
  },
  {
   "cell_type": "code",
   "execution_count": 12,
   "metadata": {},
   "outputs": [],
   "source": [
    "class MyList(list):\n",
    "    \n",
    "    def append(self, *args):\n",
    "        self.extend(args)"
   ]
  },
  {
   "cell_type": "code",
   "execution_count": 13,
   "metadata": {},
   "outputs": [
    {
     "name": "stdout",
     "output_type": "stream",
     "text": [
      "[1, 2, 3, 4, 5, 6]\n"
     ]
    }
   ],
   "source": [
    "my_list = MyList()\n",
    "my_list.append(1)\n",
    "my_list.append(2, 3, 4, 5, 6)\n",
    "print(my_list)"
   ]
  }
 ],
 "metadata": {
  "kernelspec": {
   "display_name": "Python 3",
   "language": "python",
   "name": "python3"
  },
  "language_info": {
   "codemirror_mode": {
    "name": "ipython",
    "version": 3
   },
   "file_extension": ".py",
   "mimetype": "text/x-python",
   "name": "python",
   "nbconvert_exporter": "python",
   "pygments_lexer": "ipython3",
   "version": "3.7.6"
  }
 },
 "nbformat": 4,
 "nbformat_minor": 2
}
