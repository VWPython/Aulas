{
 "cells": [
  {
   "cell_type": "markdown",
   "metadata": {},
   "source": [
    "# O Modulo collections\n",
    "***"
   ]
  },
  {
   "cell_type": "markdown",
   "metadata": {},
   "source": [
    "**namedtuple()**: São tuplas nomeadas, muito usado para criar constantes. A grande diferença das tuplas normais é que os dados são acessados por sua nomeclatura e não pelo seu indice, porém essa nomeclatura não pode começar com _ e nem com digito ou palavra reservada.\n",
    "\n",
    "**OrderedDict()**: São dicionarios ordenados, apresenta todas as caracteristicas de um dicionário, porém com ordenação confiável das chaves.\n",
    "\n",
    "**defaultdict()**: Outro padrão comum usando dicionários é assumir sempre algum valor padrão no caso de uma chave não poder ser encontrada no mapeamento. Este comportamento pode ser conseguido por meio da captura explicita da KeyError levantada quando estiver acessando a chave ou usando o método do get(), que pode retornar o valor adequado, se a chave não for encontrada. Um exemplo é usando um dicionário para rastrear quantas vezes cada palavra aparece em algum texto."
   ]
  },
  {
   "cell_type": "markdown",
   "metadata": {},
   "source": [
    "***\n",
    "### Namedtuples\n",
    "***"
   ]
  },
  {
   "cell_type": "code",
   "execution_count": 1,
   "metadata": {
    "collapsed": true
   },
   "outputs": [],
   "source": [
    "# Importar a namedtuple\n",
    "from collections import namedtuple"
   ]
  },
  {
   "cell_type": "code",
   "execution_count": 2,
   "metadata": {
    "collapsed": true
   },
   "outputs": [],
   "source": [
    "# Criar uma Instancia da namedtuple é como se tivesse criando uma classe\n",
    "Week = namedtuple(\n",
    "    'Week',\n",
    "    [\n",
    "        'monday',\n",
    "        'tuesday',\n",
    "        'wednesday',\n",
    "        'thursday',\n",
    "        'friday',\n",
    "        'saturday',\n",
    "        'sunday'\n",
    "    ]\n",
    ")"
   ]
  },
  {
   "cell_type": "code",
   "execution_count": 3,
   "metadata": {
    "collapsed": true
   },
   "outputs": [],
   "source": [
    "# Vamos criar uma instância da instância de namedtuple\n",
    "week = Week(1, 2, 3, 4, 5, 6, 7)"
   ]
  },
  {
   "cell_type": "code",
   "execution_count": 4,
   "metadata": {},
   "outputs": [
    {
     "name": "stdout",
     "output_type": "stream",
     "text": [
      "1 1\n",
      "2 2\n",
      "3 3\n",
      "4 4\n",
      "5 5\n",
      "6 6\n",
      "7 7\n"
     ]
    }
   ],
   "source": [
    "# Imprimir os valores da instância\n",
    "print(week.monday, week[0])\n",
    "print(week.tuesday, week[1])\n",
    "print(week.wednesday, week[2])\n",
    "print(week.thursday, week[3])\n",
    "print(week.friday, week[4])\n",
    "print(week.saturday, week[5])\n",
    "print(week.sunday, week[6])"
   ]
  },
  {
   "cell_type": "markdown",
   "metadata": {},
   "source": [
    "***\n",
    "### OrderedDict\n",
    "***"
   ]
  },
  {
   "cell_type": "code",
   "execution_count": 5,
   "metadata": {
    "collapsed": true
   },
   "outputs": [],
   "source": [
    "# Importar a classe OrderedDict\n",
    "from collections import OrderedDict"
   ]
  },
  {
   "cell_type": "code",
   "execution_count": 6,
   "metadata": {},
   "outputs": [
    {
     "name": "stdout",
     "output_type": "stream",
     "text": [
      "OrderedDict([(6, '6'), (7, '7'), (8, '8'), (9, '9')])\n"
     ]
    }
   ],
   "source": [
    "# Vamos criar um dicionario ordenado através de compressão\n",
    "dictionary = OrderedDict((value, str(value)) for value in range(10) if value > 5)\n",
    "print(dictionary)"
   ]
  },
  {
   "cell_type": "code",
   "execution_count": 7,
   "metadata": {},
   "outputs": [
    {
     "name": "stdout",
     "output_type": "stream",
     "text": [
      "OrderedDict([('a', None), ('b', None), ('c', None), ('d', None), ('e', None)])\n",
      "OrderedDict([('a', 5), ('b', None), ('c', None), ('d', None), ('e', None)])\n",
      "OrderedDict([('a', 5), ('b', None), ('c', None), ('d', None), ('e', None), ('g', 11), ('f', 15)])\n"
     ]
    }
   ],
   "source": [
    "# Vamos criar um dicionario ordenado através de um objeto iteravel\n",
    "dictionary = OrderedDict.fromkeys('abcde')\n",
    "print(dictionary)\n",
    "dictionary['a'] = 5\n",
    "print(dictionary)\n",
    "dictionary['g'] = 11\n",
    "dictionary['f'] = 15\n",
    "print(dictionary)"
   ]
  },
  {
   "cell_type": "code",
   "execution_count": 8,
   "metadata": {},
   "outputs": [
    {
     "name": "stdout",
     "output_type": "stream",
     "text": [
      "OrderedDict([('a', 5), ('b', None), ('c', None), ('d', None), ('e', None), ('f', 15), ('g', 11)])\n"
     ]
    }
   ],
   "source": [
    "# Vamos inserir a chave z no final do dicionario passando last=True\n",
    "# Se passar last=False a chave vai para o inicio do dicionario\n",
    "dictionary.move_to_end('g', last=True)\n",
    "print(dictionary)"
   ]
  },
  {
   "cell_type": "markdown",
   "metadata": {},
   "source": [
    "***\n",
    "### defaultdict\n",
    "***"
   ]
  },
  {
   "cell_type": "code",
   "execution_count": 9,
   "metadata": {
    "collapsed": true
   },
   "outputs": [],
   "source": [
    "# Importar a classe defaultdict\n",
    "from collections import defaultdict"
   ]
  },
  {
   "cell_type": "code",
   "execution_count": 10,
   "metadata": {},
   "outputs": [
    {
     "name": "stdout",
     "output_type": "stream",
     "text": [
      "{'comer': 1, 'bombom': 1, 'é': 1, 'Bom': 3}\n"
     ]
    }
   ],
   "source": [
    "# Criar uma função para exemplificar\n",
    "def word_counter(text):\n",
    "    counter = {}\n",
    "    # Percorre cada palavra e separa ela nos espaços em branco\n",
    "    for word in text.split(' '):\n",
    "        # Caso palavra chave, não existir crie ela inserindo um número\n",
    "        # Caso contrario só vai retornar o valor dentro dessa chave\n",
    "        value = counter.get(word, 0)\n",
    "        counter[word] = value + 1\n",
    "        \n",
    "    return counter\n",
    "\n",
    "print(word_counter(\"Bom Bom Bom é comer bombom\"))"
   ]
  },
  {
   "cell_type": "code",
   "execution_count": 11,
   "metadata": {},
   "outputs": [
    {
     "name": "stdout",
     "output_type": "stream",
     "text": [
      "defaultdict(<class 'int'>, {'comer': 1, 'bombom': 1, 'é': 1, 'Bom': 3})\n"
     ]
    }
   ],
   "source": [
    "'''\n",
    "Em vez de ter que lidar com essa chamada get(),\n",
    "o módulo collections fornece uma classe defaultdict\n",
    "que pode lidar com esse passo para você. Quando você\n",
    "cria-lo, você pode passar um objeto/função chamável\n",
    "como único argumento, que será utilizado para criar\n",
    "um novo valor quando uma chave solicitada não existe.\n",
    "Na maioria dos casos, você pode simplesmente fornecer\n",
    "um dos built-in, que irá fornecer um valor de base útil\n",
    "para trabalhar. No caso de word_counter, podemos usar o int.\n",
    "'''\n",
    "\n",
    "def word_counter(text):\n",
    "    counter = defaultdict(int)\n",
    "    for word in text.split(' '):\n",
    "        counter[word] += 1\n",
    "        \n",
    "    return counter\n",
    "\n",
    "print(word_counter(\"Bom Bom Bom é comer bombom\"))"
   ]
  }
 ],
 "metadata": {
  "kernelspec": {
   "display_name": "Python 3",
   "language": "python",
   "name": "python3"
  },
  "language_info": {
   "codemirror_mode": {
    "name": "ipython",
    "version": 3
   },
   "file_extension": ".py",
   "mimetype": "text/x-python",
   "name": "python",
   "nbconvert_exporter": "python",
   "pygments_lexer": "ipython3",
   "version": "3.5.2"
  }
 },
 "nbformat": 4,
 "nbformat_minor": 2
}
