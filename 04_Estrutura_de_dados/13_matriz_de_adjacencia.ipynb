{
 "cells": [
  {
   "cell_type": "markdown",
   "metadata": {},
   "source": [
    "## Grafos - Matriz de Adjacência\n",
    "***\n",
    "\n",
    "A primeira forma de representar um grafo é a matriz de adjacência (próximo, proximidade).\n",
    "\n",
    "A matriz é uma estrutura matemática organizada na forma de tabela com linhas e colunas.\n",
    "\n",
    "![img](https://user-images.githubusercontent.com/14116020/45591838-8116e780-b934-11e8-8373-ff86448a661f.png)\n",
    "\n",
    "Do lado esquerdo tenho o grafo com o conjunto de vértices e arestas e do lado direito tenho a matriz de adjacência que representa esse grafo em forma de estrutura de dados.\n",
    "\n",
    "Se tiver ligação é 1 se não tiver é 0\n",
    "\n",
    "* A linha A e coluna E foi preenchida com 0 indicando que não há ligação entre A para E.\n",
    "\n",
    "\n",
    "* A linha C e coluna B foi preenchida com 1 indicando que há ligação entre C para B.\n",
    "\n",
    "#### Por que 1 ou 0?\n",
    "\n",
    "Não precisava ser 1 ou 0, não existe essa obrigatóriedade.\n",
    "\n",
    "O nosso símbolo de existe é \"1\" ou True em python e o símbolo de não existe é \"0\" ou False em python.\n",
    "\n",
    "Inicialmente isso pode não fazer muito sentido, mas vai ajudar nos algoritmos.\n",
    "\n",
    "Perceba que não há nenhum número ou algo do tipo nas arestas. Nesse exemplo só estamos verificando se há ou não ligação.\n",
    "\n",
    "#### Dica:\n",
    "\n",
    "Antes de programar, represente (desenhe) o grafo adequado para resolver o seu problema.\n",
    "\n",
    "Modele, desenhe, escreva! Você não estará perdendo tempo, mas sim ganhando.\n",
    "\n",
    "#### É simétrico?\n",
    "\n",
    "Um grafo é simétrico se para cada arco (u, v), existe um correspondente arco reverso (v, u)\n",
    "\n",
    "Arco é a mesma coisa de aresta, ou seja, é essas linhas que ligam dois vértices.\n",
    "\n",
    "O grafo do exemplo é símetrico, pois se existe $A \\rightarrow C$ também existe $C \\rightarrow A$.\n",
    "\n",
    "#### Grafo não-dirigido (não orientado)\n",
    "\n",
    "![img](https://user-images.githubusercontent.com/14116020/45591915-85dc9b00-b936-11e8-8eaf-2643540821af.png)\n",
    "\n",
    "O exemplo acima trata-se de um grafo não dirigido. Um grafo não dirigido é um tipo especial de grafo simétrico.\n",
    "\n",
    "#### Grau de um vértice\n",
    "\n",
    "O grau de um vértice é o número de arestas que o vértice tem.\n",
    "\n",
    "Por exemplo o vértice C tem grau 4, já que ele se conecta com A, B, D e E. Já o A tem grau 1, pois se conecta somente com o C.\n",
    "\n",
    "Percebe-se que a matriz de adjacência tem um loop dentro de outro loop para percorre-la. O custo é $O(n^2)$, isso não é bom. Já pensou um grafo de amigos do Facebook? que se for transformar em um grafo terá milhões de vértices.\n",
    "\n",
    "No caso dos amigos do Facebook, eu não irei ser amigo de uma pessoa duas vezes, então basta ter um vetor de amigos.\n"
   ]
  },
  {
   "cell_type": "markdown",
   "metadata": {},
   "source": [
    "***"
   ]
  },
  {
   "cell_type": "code",
   "execution_count": 1,
   "metadata": {},
   "outputs": [],
   "source": [
    "class Grafo(object):\n",
    "    \"\"\"\n",
    "    Classe que representa um grafo.\n",
    "    \"\"\"\n",
    "    \n",
    "    def __init__(self, vertices):\n",
    "        \"\"\"\n",
    "        Construtor\n",
    "        \"\"\"\n",
    "        \n",
    "        self.vertices = vertices\n",
    "        self.grafo = [[0] * vertices for i in range(vertices)]\n",
    "        print(self.grafo)\n",
    "        \n",
    "    def add_aresta(self, u, v):\n",
    "        \"\"\"\n",
    "        Adicionar aresta em um grafo não dirigido com arco U a V.\n",
    "        \"\"\"\n",
    "        \n",
    "        # Indexa a partir do 0 tem que subtrair 1\n",
    "        self.grafo[u-1][v-1] = 1\n",
    "        self.grafo[v-1][u-1] = 1\n",
    "        \n",
    "    def show(self):\n",
    "        \"\"\"\n",
    "        Mostrar o grafo.\n",
    "        \"\"\"\n",
    "        \n",
    "        count = 0\n",
    "        header = [\"A\", \"B\", \"C\", \"D\", \"E\"]\n",
    "        print(\"    \", end=\"\")\n",
    "        for i in header:\n",
    "            print(i, end=\" \")\n",
    "        \n",
    "        print(\"\")\n",
    "        \n",
    "        for lin in self.grafo:\n",
    "            print(\"%s [\" % header[count], end=\" \")\n",
    "            for col in lin:\n",
    "                print(col, end=\" \")\n",
    "                \n",
    "            print(\"]\")\n",
    "            count += 1\n",
    "            \n",
    "    def tem_ligacao(self, u, v):\n",
    "        \"\"\"\n",
    "        Verifica se os vértices passados tem aresta ou ligação.\n",
    "        \"\"\"\n",
    "        \n",
    "        if self.grafo[u-1][v-1] == 1:\n",
    "            return True\n",
    "        \n",
    "        return False"
   ]
  },
  {
   "cell_type": "markdown",
   "metadata": {},
   "source": [
    "***"
   ]
  },
  {
   "cell_type": "code",
   "execution_count": 2,
   "metadata": {},
   "outputs": [
    {
     "name": "stdout",
     "output_type": "stream",
     "text": [
      "[[0, 0, 0, 0, 0], [0, 0, 0, 0, 0], [0, 0, 0, 0, 0], [0, 0, 0, 0, 0], [0, 0, 0, 0, 0]]\n"
     ]
    }
   ],
   "source": [
    "grafo = Grafo(5)"
   ]
  },
  {
   "cell_type": "code",
   "execution_count": 3,
   "metadata": {},
   "outputs": [],
   "source": [
    "# A=1, B=2, C=3, D=4, E=5\n",
    "grafo.add_aresta(1, 3)\n",
    "grafo.add_aresta(3, 4)\n",
    "grafo.add_aresta(2, 3)\n",
    "grafo.add_aresta(3, 5)\n",
    "grafo.add_aresta(4, 5)"
   ]
  },
  {
   "cell_type": "code",
   "execution_count": 4,
   "metadata": {},
   "outputs": [
    {
     "name": "stdout",
     "output_type": "stream",
     "text": [
      "    A B C D E \n",
      "A [ 0 0 1 0 0 ]\n",
      "B [ 0 0 1 0 0 ]\n",
      "C [ 1 1 0 1 1 ]\n",
      "D [ 0 0 1 0 1 ]\n",
      "E [ 0 0 1 1 0 ]\n"
     ]
    }
   ],
   "source": [
    "grafo.show()"
   ]
  },
  {
   "cell_type": "code",
   "execution_count": 5,
   "metadata": {},
   "outputs": [
    {
     "name": "stdout",
     "output_type": "stream",
     "text": [
      "False\n",
      "True\n"
     ]
    }
   ],
   "source": [
    "print(grafo.tem_ligacao(1, 5))\n",
    "print(grafo.tem_ligacao(1, 3))"
   ]
  },
  {
   "cell_type": "markdown",
   "metadata": {},
   "source": [
    "***\n",
    "### Grafos com defaultdict\n",
    "***"
   ]
  },
  {
   "cell_type": "code",
   "execution_count": 6,
   "metadata": {},
   "outputs": [],
   "source": [
    "from collections import defaultdict"
   ]
  },
  {
   "cell_type": "code",
   "execution_count": 7,
   "metadata": {},
   "outputs": [],
   "source": [
    "class Person:\n",
    "    \"\"\"\n",
    "    Classe de amigos no Facebook. (Vértice ou Nó do grafo)\n",
    "    \"\"\"\n",
    "    \n",
    "    def __init__(self, name, age):\n",
    "        \"\"\"\n",
    "        Construtor\n",
    "        \"\"\"\n",
    "        \n",
    "        self.name = name\n",
    "        self.age = age\n",
    "        \n",
    "    def get_name(self):\n",
    "        \"\"\"\n",
    "        Pega o nome\n",
    "        \"\"\"\n",
    "        \n",
    "        return self.name\n",
    "    \n",
    "    def get_age(self):\n",
    "        \"\"\"\n",
    "        Pega a idade\n",
    "        \"\"\"\n",
    "        \n",
    "        return self.age"
   ]
  },
  {
   "cell_type": "code",
   "execution_count": 8,
   "metadata": {},
   "outputs": [],
   "source": [
    "class Graph(object):\n",
    "    \"\"\"\n",
    "    Grafo de pessoas do Facebook.\n",
    "    \"\"\"\n",
    "    \n",
    "    def __init__(self):\n",
    "        \"\"\"\n",
    "        Construtor\n",
    "        \"\"\"\n",
    "        \n",
    "        # Criar um dicionário de listas\n",
    "        self.graph = defaultdict(list)\n",
    "        \n",
    "    def add_edge(self, person1, person2):\n",
    "        \"\"\"\n",
    "        Adicionar aresta (não direcionado).\n",
    "        \"\"\"\n",
    "        \n",
    "        self.graph[person1.get_name()].append(person2)\n",
    "        self.graph[person2.get_name()].append(person1)\n",
    "        \n",
    "    def show_friends(self, person):\n",
    "        \"\"\"\n",
    "        Mostrar a lista de amigos pelo nome\n",
    "        \"\"\"\n",
    "        \n",
    "        for friend in self.graph[person.get_name()]:\n",
    "            print(\"%s\" % friend.get_name())"
   ]
  },
  {
   "cell_type": "markdown",
   "metadata": {},
   "source": [
    "***"
   ]
  },
  {
   "cell_type": "code",
   "execution_count": 9,
   "metadata": {},
   "outputs": [],
   "source": [
    "p1 = Person(\"Maria\", 20)\n",
    "p2 = Person(\"Pedro\", 30)\n",
    "p3 = Person(\"Diego\", 18)\n",
    "p4 = Person(\"Carol\", 25)\n",
    "p5 = Person(\"Yankee\", 14)"
   ]
  },
  {
   "cell_type": "code",
   "execution_count": 10,
   "metadata": {},
   "outputs": [],
   "source": [
    "grafo = Graph()\n",
    "grafo.add_edge(p1, p2)\n",
    "grafo.add_edge(p1, p3)\n",
    "grafo.add_edge(p2, p4)\n",
    "grafo.add_edge(p4, p3)\n",
    "grafo.add_edge(p5, p1)"
   ]
  },
  {
   "cell_type": "code",
   "execution_count": 11,
   "metadata": {},
   "outputs": [
    {
     "name": "stdout",
     "output_type": "stream",
     "text": [
      "Pedro\n",
      "Diego\n",
      "Yankee\n"
     ]
    }
   ],
   "source": [
    "grafo.show_friends(p1)"
   ]
  },
  {
   "cell_type": "code",
   "execution_count": 12,
   "metadata": {},
   "outputs": [
    {
     "name": "stdout",
     "output_type": "stream",
     "text": [
      "Maria\n",
      "Carol\n"
     ]
    }
   ],
   "source": [
    "grafo.show_friends(p3)"
   ]
  }
 ],
 "metadata": {
  "kernelspec": {
   "display_name": "Python 3",
   "language": "python",
   "name": "python3"
  },
  "language_info": {
   "codemirror_mode": {
    "name": "ipython",
    "version": 3
   },
   "file_extension": ".py",
   "mimetype": "text/x-python",
   "name": "python",
   "nbconvert_exporter": "python",
   "pygments_lexer": "ipython3",
   "version": "3.5.2"
  }
 },
 "nbformat": 4,
 "nbformat_minor": 2
}
