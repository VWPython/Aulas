{
 "cells": [
  {
   "cell_type": "markdown",
   "metadata": {},
   "source": [
    "## Fila de Prioridades\n",
    "***\n",
    "\n",
    "A fila de prioridade é igual a fila de um banco, porém tendo a característica de ter prioridades, ou seja, elementos que serão prioridades em relação a outros na fila.\n",
    "\n",
    "* É uma fila onde cada elemento possui uma **prioridade**.\n",
    "\n",
    "\n",
    "* Essa **prioridade** determina a **posição** de um elemento na fila, portanto, determina quem deve ser o primeiro a ser removido da fila.\n",
    "\n",
    "\n",
    "* Em uma fila sem prioridade, sempre removemos o elemento do início da fila de acordo com a propriedade FIFO (first in, first out)\n",
    "\n",
    "\n",
    "* Já na fila de prioridades, o elemento que será removido é determinado pela **prioridade**.\n",
    "\n",
    "\n",
    "* A fila de prioridades possui o critério de ordenação de acordo com a **prioridade**.\n",
    "\n",
    "***\n",
    "#### Onde posso aplicar?\n",
    "***\n",
    "\n",
    "* Fila de pacientes que esperam por um transplante de algum órgão, a prioridade poderia ser o quão grave é o estado de saúde desse paciente.\n",
    "\n",
    "\n",
    "* Caminhos mínimos (Algoritmo de Dijkstra), a prioridade seria o menor custo.\n",
    "\n",
    "\n",
    "* Escalonamento de processos (agendador de tarefas), a prioridade poderia ser o processo que possui o menor tempo restante.\n",
    "\n",
    "***\n",
    "#### Observações\n",
    "***\n",
    "\n",
    "Existem vários tipos de implementação:\n",
    "\n",
    "* Lista encadeada\n",
    "* Heap binária\n",
    "* Array desordenado\n",
    "* Array ordenado\n",
    "\n",
    "A escolha do tipo de implementação depende da aplicação\n",
    "\n",
    "Cada tipo de implementação possui um custo diferente em relação às operações (inserção, remoção)\n",
    "\n",
    "***\n",
    "#### Análise Assintótica\n",
    "***\n",
    "\n",
    "Estimativa do custo de desempenho de um algorítmo, ou seja, O(logN) é o máximo que o algorítmo pode chegar é uma função logN no pior caso.\n",
    "\n",
    "Considerando que N é a quantidade de elementos da fila:\n",
    "\n",
    "* A inserção e remoção na heap binária possui custo O(logN);\n",
    "\n",
    "\n",
    "* Já a inserção no array ordenado possui custo O(N) e a remoção O(1);\n",
    "\n",
    "\n",
    "* A inserção em um array desordenado possui custo O(1) e a remoção O(N);\n",
    "\n",
    "\n",
    "* A insersão em uma lista encadeada possui custo O(N) e a remoção O(1).\n",
    "\n",
    "Se eu tenho muitas inserções é melhor utilizar um array desordenado do que um ordenado já que a inserção é O(1)\n",
    "\n",
    "Caso não se tenho conhecimento da quantidade de inserções e remoções podemos utilizar o heap binário já que em ambos é O(logN)"
   ]
  },
  {
   "cell_type": "markdown",
   "metadata": {},
   "source": [
    "***"
   ]
  },
  {
   "cell_type": "code",
   "execution_count": 1,
   "metadata": {},
   "outputs": [],
   "source": [
    "class Person(object):\n",
    "    \"\"\"\n",
    "    Elemento que entrará na fila de prioridades\n",
    "    \"\"\"\n",
    "    \n",
    "    def __init__(self, name, priority):\n",
    "        \"\"\"\n",
    "        Construtor\n",
    "        \"\"\"\n",
    "        \n",
    "        self.name = name\n",
    "        self.priority = priority\n",
    "        \n",
    "        \n",
    "    def getName(self):\n",
    "        \"\"\"\n",
    "        Pega o nome da pessoa\n",
    "        \"\"\"\n",
    "        \n",
    "        return self.name\n",
    "    \n",
    "    def getPriority(self):\n",
    "        \"\"\"\n",
    "        Pega a prioridade da pessoa\n",
    "        \"\"\"\n",
    "        \n",
    "        return self.priority"
   ]
  },
  {
   "cell_type": "code",
   "execution_count": 2,
   "metadata": {},
   "outputs": [],
   "source": [
    "class PriorityQueue(object):\n",
    "    \"\"\"\n",
    "    Fila de prioridade por lista ordenada.\n",
    "    \"\"\"\n",
    "    \n",
    "    def __init__(self):\n",
    "        \"\"\"\n",
    "        Construtor\n",
    "        \"\"\"\n",
    "        \n",
    "        self.queue = []\n",
    "        self.length = 0\n",
    "        \n",
    "    def push(self, person):\n",
    "        \"\"\"\n",
    "        Inserir na lista de prioridades\n",
    "        \"\"\"\n",
    "        \n",
    "        if self.empty():\n",
    "            self.queue.append(person)\n",
    "        else:\n",
    "            \n",
    "            flag_push = False\n",
    "            \n",
    "            # Procura-se onde inserir para manter a fila ordenada\n",
    "            for i in range(self.length):\n",
    "                if self.queue[i].getPriority() < person.getPriority():\n",
    "                    self.queue.insert(i, person)\n",
    "                    flag_push = True\n",
    "                    break\n",
    "            \n",
    "            # Prioridade é a menor (final da fila)\n",
    "            if not flag_push:\n",
    "                self.queue.insert(self.length, person)\n",
    "                \n",
    "        self.length += 1\n",
    "        \n",
    "    def pop(self):\n",
    "        \"\"\"\n",
    "        Remover um elemento da fila de prioridade\n",
    "        \"\"\"\n",
    "        \n",
    "        if not self.empty():\n",
    "            self.queue.pop(0)\n",
    "            self.length -= 1\n",
    "            \n",
    "    def empty(self):\n",
    "        \"\"\"\n",
    "        Verificar se a lista ta vazia\n",
    "        \"\"\"\n",
    "        \n",
    "        if self.length == 0:\n",
    "            return True\n",
    "        \n",
    "        return False\n",
    "    \n",
    "    def show(self):\n",
    "        \"\"\"\n",
    "        Mostrar a fila de prioridades\n",
    "        \"\"\"\n",
    "        \n",
    "        for element in self.queue:\n",
    "            print(\"Nome: %s\" % element.getName())\n",
    "            print(\"Prioridade: %d\\n\" % element.getPriority())"
   ]
  },
  {
   "cell_type": "markdown",
   "metadata": {},
   "source": [
    "***"
   ]
  },
  {
   "cell_type": "code",
   "execution_count": 3,
   "metadata": {},
   "outputs": [],
   "source": [
    "person1 = Person(\"Marcos\", 28)\n",
    "person2 = Person(\"Catarina\", 3)\n",
    "person3 = Person(\"Pedro\", 20)\n",
    "person4 = Person(\"João\", 35)"
   ]
  },
  {
   "cell_type": "code",
   "execution_count": 4,
   "metadata": {},
   "outputs": [],
   "source": [
    "queue = PriorityQueue()\n",
    "queue.push(person1)\n",
    "queue.push(person2)\n",
    "queue.push(person3)\n",
    "queue.push(person4)"
   ]
  },
  {
   "cell_type": "code",
   "execution_count": 5,
   "metadata": {},
   "outputs": [
    {
     "name": "stdout",
     "output_type": "stream",
     "text": [
      "Nome: João\n",
      "Prioridade: 35\n",
      "\n",
      "Nome: Marcos\n",
      "Prioridade: 28\n",
      "\n",
      "Nome: Pedro\n",
      "Prioridade: 20\n",
      "\n",
      "Nome: Catarina\n",
      "Prioridade: 3\n",
      "\n"
     ]
    }
   ],
   "source": [
    "queue.show()"
   ]
  },
  {
   "cell_type": "code",
   "execution_count": 6,
   "metadata": {},
   "outputs": [
    {
     "name": "stdout",
     "output_type": "stream",
     "text": [
      "Nome: Pedro\n",
      "Prioridade: 20\n",
      "\n",
      "Nome: Catarina\n",
      "Prioridade: 3\n",
      "\n"
     ]
    }
   ],
   "source": [
    "queue.pop()\n",
    "queue.pop()\n",
    "queue.show()"
   ]
  },
  {
   "cell_type": "code",
   "execution_count": 7,
   "metadata": {},
   "outputs": [
    {
     "name": "stdout",
     "output_type": "stream",
     "text": [
      "Nome: Goku\n",
      "Prioridade: 30\n",
      "\n",
      "Nome: Pedro\n",
      "Prioridade: 20\n",
      "\n",
      "Nome: Catarina\n",
      "Prioridade: 3\n",
      "\n"
     ]
    }
   ],
   "source": [
    "queue.push(Person(\"Goku\", 30))\n",
    "queue.show()"
   ]
  }
 ],
 "metadata": {
  "kernelspec": {
   "display_name": "Python 3",
   "language": "python",
   "name": "python3"
  },
  "language_info": {
   "codemirror_mode": {
    "name": "ipython",
    "version": 3
   },
   "file_extension": ".py",
   "mimetype": "text/x-python",
   "name": "python",
   "nbconvert_exporter": "python",
   "pygments_lexer": "ipython3",
   "version": "3.5.2"
  }
 },
 "nbformat": 4,
 "nbformat_minor": 2
}
