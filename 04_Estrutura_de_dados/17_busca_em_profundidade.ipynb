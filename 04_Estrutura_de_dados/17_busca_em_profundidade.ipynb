{
 "cells": [
  {
   "cell_type": "markdown",
   "metadata": {},
   "source": [
    "## Grafo - Busca em profundidade (DFS)\n",
    "***\n",
    "\n",
    "DFS = Deph First Search\n",
    "\n",
    "Algoritmo usado para realizar uma busca em um grafo\n",
    "\n",
    "O algoritmo começa num nó raiz e explora tato quanto possível cada um dos seus ramos antes de retroceder (backtracking)\n",
    "\n",
    "Sabe-se que adjacente é a mesma coisa que vizinho.\n",
    "\n",
    "***\n",
    "### Aplicações:\n",
    "***\n",
    "\n",
    "* Descobrir se um grafo é conexo\n",
    "\n",
    "\n",
    "* Encontrar pontes\n",
    "\n",
    "\n",
    "* Resolução de quebra-cabeças como labirintos\n",
    "\n",
    "![img](https://user-images.githubusercontent.com/14116020/45592507-9fd1aa00-b945-11e8-9b4c-599d14decd0d.png)\n",
    "\n",
    "* Visita o vértice 1 e coloca na pilha\n",
    "* Visita o adjacênte 2 e coloca na pilha\n",
    "* O 2 não tem adjacente não visitado, o único adjacente que ele tem é o 1 e ele já foi visitado, retira ele da pilha\n",
    "* Visita o próximo adjacente de 1 (nó 9) e coloca na pilha.\n",
    "* Visita o adjacente 3 e coloca na pilha\n",
    "* Visita o adjacente 4 e coloca na pilha\n",
    "* O 4 não tem adjacente não visitado, retira ele da pilha\n",
    "* Visita o próximo adjacente de 3 (nó 5) e coloca ele na pilha.\n",
    "* Visita o adjacente 8 e coloca ele na pilha\n",
    "* Visita o adjacente 7 e coloca ele na pilha\n",
    "* Visita o adjacente 6 e coloca ele na pilha\n",
    "* O 6 não tem adjacente não visitado, já que ele é o último nó não visitado, agora temos que esvaziar a pilha\n",
    "\n",
    "![img](https://user-images.githubusercontent.com/14116020/45592496-52553d00-b945-11e8-9f59-b9140244fd46.png)\n",
    "\n",
    "Todos foram visitados, agora é só retirar da pilha até ela ficar vazia.\n",
    "\n",
    "Podemos implementar de duas formas: **Iterativa** e **Recursiva**.\n",
    "\n",
    "Iremos utilizar o código de Matriz de adjacência para fazer a busca em profundidade do grafo abaixo\n",
    "\n",
    "![img](https://user-images.githubusercontent.com/14116020/45592609-a9a8dc80-b948-11e8-8e78-04c41c6b6e70.png)\n",
    "\n",
    "***\n",
    "### Algoritmo\n",
    "***\n",
    "\n",
    "```\n",
    "Busca em Profundidade\n",
    "  escolha uma raiz 'n' no Grafo.\n",
    "  marque 'n' como visitado\n",
    "  para cada vertice 'v' faça:\n",
    "      verifico se o vértice 'v' é adjacente ao nó 'n' e se ele não foi visitado\n",
    "      se ele não foi visitado faço essa busca a partir do nó 'v' recursivamente até não sobrar nós visitados\n",
    "```"
   ]
  },
  {
   "cell_type": "markdown",
   "metadata": {},
   "source": [
    "***"
   ]
  },
  {
   "cell_type": "code",
   "execution_count": 1,
   "metadata": {},
   "outputs": [],
   "source": [
    "class Grafo(object):\n",
    "    \"\"\"\n",
    "    Classe que representa um grafo.\n",
    "    \"\"\"\n",
    "    \n",
    "    def __init__(self, vertices):\n",
    "        \"\"\"\n",
    "        Construtor\n",
    "        \"\"\"\n",
    "        \n",
    "        self.vertices = vertices\n",
    "        self.grafo = [[0] * vertices for i in range(vertices)]\n",
    "        self.visitados = [False] * vertices\n",
    "        \n",
    "    def add_aresta(self, u, v):\n",
    "        \"\"\"\n",
    "        Adicionar aresta em um grafo não dirigido com arco U a V.\n",
    "        \"\"\"\n",
    "        \n",
    "        # Indexa a partir do 0 tem que subtrair 1\n",
    "        self.grafo[u-1][v-1] = 1\n",
    "        self.grafo[v-1][u-1] = 1\n",
    "        \n",
    "    def show(self):\n",
    "        \"\"\"\n",
    "        Mostrar o grafo.\n",
    "        \"\"\"\n",
    "        \n",
    "        count = 0\n",
    "        header = [1, 2, 3, 4, 5]\n",
    "        print(\"    \", end=\"\")\n",
    "        for i in header:\n",
    "            print(i, end=\" \")\n",
    "        \n",
    "        print(\"\")\n",
    "        \n",
    "        for lin in self.grafo:\n",
    "            print(\"%d [\" % header[count], end=\" \")\n",
    "            for col in lin:\n",
    "                print(col, end=\" \")\n",
    "                \n",
    "            print(\"]\")\n",
    "            count += 1\n",
    "            \n",
    "    def busca_em_profundidade(self, n):\n",
    "        \"\"\"\n",
    "        DFS - Busca em Profundidade\n",
    "        \"\"\"\n",
    "        \n",
    "        # marque 'n' como visitado\n",
    "        self.visitados[n-1] = True\n",
    "        \n",
    "        print(\"Nó %d visitado\" % n)\n",
    "        \n",
    "        # para cada vertice 'v' faça\n",
    "        for v in range(1, self.vertices + 1):\n",
    "            # verifico se o 'v' é adjacente a 'n' e se ele não foi visitado\n",
    "            if self.grafo[n-1][v-1] == 1 and self.visitados[v-1] == False:\n",
    "                # se ele não foi visitado faço essa busca a partir do 'v'\n",
    "                self.busca_em_profundidade(v)\n",
    "            "
   ]
  },
  {
   "cell_type": "code",
   "execution_count": 2,
   "metadata": {},
   "outputs": [
    {
     "name": "stdout",
     "output_type": "stream",
     "text": [
      "    1 2 3 4 5 \n",
      "1 [ 0 0 0 1 0 ]\n",
      "2 [ 0 0 0 1 1 ]\n",
      "3 [ 0 0 0 0 1 ]\n",
      "4 [ 1 1 0 0 1 ]\n",
      "5 [ 0 1 1 1 0 ]\n"
     ]
    }
   ],
   "source": [
    "grafo = Grafo(5)\n",
    "grafo.add_aresta(1, 4)\n",
    "grafo.add_aresta(4, 2)\n",
    "grafo.add_aresta(4, 5)\n",
    "grafo.add_aresta(2, 5)\n",
    "grafo.add_aresta(5, 3)\n",
    "grafo.show()"
   ]
  },
  {
   "cell_type": "code",
   "execution_count": 3,
   "metadata": {},
   "outputs": [
    {
     "name": "stdout",
     "output_type": "stream",
     "text": [
      "Nó 1 visitado\n",
      "Nó 4 visitado\n",
      "Nó 2 visitado\n",
      "Nó 5 visitado\n",
      "Nó 3 visitado\n"
     ]
    }
   ],
   "source": [
    "grafo.busca_em_profundidade(1)"
   ]
  }
 ],
 "metadata": {
  "kernelspec": {
   "display_name": "Python 3",
   "language": "python",
   "name": "python3"
  },
  "language_info": {
   "codemirror_mode": {
    "name": "ipython",
    "version": 3
   },
   "file_extension": ".py",
   "mimetype": "text/x-python",
   "name": "python",
   "nbconvert_exporter": "python",
   "pygments_lexer": "ipython3",
   "version": "3.5.2"
  }
 },
 "nbformat": 4,
 "nbformat_minor": 2
}
