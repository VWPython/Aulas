{
 "cells": [
  {
   "cell_type": "markdown",
   "metadata": {},
   "source": [
    "## Análise Assintótica\n",
    "***\n",
    "\n",
    "A análise de algoritmos ignora valores pequenos e concentra-se nos valores enormes de $n$. $f(n) = n + 10$\n",
    "\n",
    "Para valores pequenos de $n$, qualquer algoritmo custa pouco para ser executado, até mesmo os algoritmos ineficientes.\n",
    "\n",
    "Matematicamente falando, a análise assintótica é o método de descrever o comportamento dos limites.\n",
    "\n",
    "É desejável exprimir o consumo de tempo de um algoritmo de forma que não dependa da linguagem de programação.\n",
    "\n",
    "Por exemplo, numa pesquisa sequencial, o número de vezes que a chave de consulta é comparada com a chave de cada registro:\n",
    "\n",
    "* **Pior caso**: $f(n) = n$\n",
    "* **Caso médio**: $f(n) = (n+1)/2$\n",
    "* **Melhor caso**: $f(n) = 1$\n",
    "\n",
    "O melhor caso corresponde ao menor tempo de execução sobre todas as possíveis entradas de tamanho $n$.\n",
    "\n",
    "O pior caso corresponde ao maior tempo de execução sobre todas as entradas de tamanho $n$.\n",
    "\n",
    "O caso médio corresponde à média dos tempos de execução de todas as entradas de tamanho $n$. É suposta uma distribuição de probabilidade sobre o conjunto de tamanho $n$.\n",
    "\n",
    "***\n",
    "### Notação Grande-O\n",
    "***\n",
    "\n",
    "Anotação **Grande-O** representa a complexidade no pior caso. É a mais utilizada, pois para vários algoritmos o pior caso ocorre com frequência.\n",
    "\n",
    "Outros tipos de notação que tratam outros casos:\n",
    "\n",
    "* **Notação theta**: Limite assintótico firme, limite superior e inferior\n",
    "* **Notação Ômega**: Limite assintótico inferior, análise de melhor caso.\n",
    "\n",
    "![img](https://user-images.githubusercontent.com/14116020/44878983-b6f27580-ac7e-11e8-8761-9dbcd0750755.png)\n",
    "\n",
    "O primeiro gráfico é a notação theta, já que temos o limite superior e inferior entre o f(n), o segundo gráfico é a notação Grade-O que pega o limite superior e o último é a notação Ômega que pega o limite inferior."
   ]
  }
 ],
 "metadata": {
  "kernelspec": {
   "display_name": "Python 3",
   "language": "python",
   "name": "python3"
  },
  "language_info": {
   "codemirror_mode": {
    "name": "ipython",
    "version": 3
   },
   "file_extension": ".py",
   "mimetype": "text/x-python",
   "name": "python",
   "nbconvert_exporter": "python",
   "pygments_lexer": "ipython3",
   "version": "3.7.6"
  }
 },
 "nbformat": 4,
 "nbformat_minor": 2
}
