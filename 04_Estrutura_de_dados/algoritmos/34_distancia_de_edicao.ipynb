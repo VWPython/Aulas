{
 "cells": [
  {
   "cell_type": "markdown",
   "metadata": {},
   "source": [
    "## Distância de Edição\n",
    "***"
   ]
  },
  {
   "cell_type": "markdown",
   "metadata": {},
   "source": [
    "![img](https://user-images.githubusercontent.com/14116020/61176314-1c004280-a595-11e9-8e5e-e67679e8d49d.png)\n",
    "\n",
    "Serve para você mensurar a diferença entre 2 strings.\n",
    "\n",
    "É o número mínimo de edições de únicos caracteres.\n",
    "\n",
    "Essas edições podem ser inserções, remoções ou substituições.\n",
    "\n",
    "É calculado o número mínimo para transformar uma palavra em outra."
   ]
  },
  {
   "cell_type": "markdown",
   "metadata": {},
   "source": [
    "***\n",
    "### Exemplo\n",
    "***"
   ]
  },
  {
   "cell_type": "code",
   "execution_count": 13,
   "metadata": {},
   "outputs": [],
   "source": [
    "def edit_distance(s1, s2, len_s1, len_s2):\n",
    "    \"\"\"\n",
    "    Distância de edição\n",
    "    \"\"\"\n",
    "    \n",
    "    if len_s1 == 0:\n",
    "        return len_s2\n",
    "    \n",
    "    if len_s2 == 0:\n",
    "        return len_s1\n",
    "    \n",
    "    custo = 0\n",
    "    if s1[len_s1 - 1] == s2[len_s2 - 1]:\n",
    "        custo = 1\n",
    "        \n",
    "    return min(\n",
    "        edit_distance(s1, s2, len_s1 - 1, len_s2) + 1,\n",
    "        edit_distance(s1, s2, len_s1, len_s2 - 1) + 1,\n",
    "        edit_distance(s1, s2, len_s1 - 1, len_s2 - 1) + custo\n",
    "    )"
   ]
  },
  {
   "cell_type": "code",
   "execution_count": 14,
   "metadata": {},
   "outputs": [],
   "source": [
    "s1, s2 = \"Hello\", \"Jello\""
   ]
  },
  {
   "cell_type": "code",
   "execution_count": 15,
   "metadata": {},
   "outputs": [
    {
     "name": "stdout",
     "output_type": "stream",
     "text": [
      "3\n"
     ]
    }
   ],
   "source": [
    "print(edit_distance(s1, s2, len(s1), len(s2)))"
   ]
  }
 ],
 "metadata": {
  "kernelspec": {
   "display_name": "Python 3",
   "language": "python",
   "name": "python3"
  },
  "language_info": {
   "codemirror_mode": {
    "name": "ipython",
    "version": 3
   },
   "file_extension": ".py",
   "mimetype": "text/x-python",
   "name": "python",
   "nbconvert_exporter": "python",
   "pygments_lexer": "ipython3",
   "version": "3.5.2"
  }
 },
 "nbformat": 4,
 "nbformat_minor": 2
}
