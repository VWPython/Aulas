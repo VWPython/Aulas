{
 "cells": [
  {
   "cell_type": "markdown",
   "metadata": {},
   "source": [
    "## Grafo - Busca em Largura\n",
    "***\n",
    "\n",
    "A busca em largura é um algoritmo de busca em grafos onde parte de um vértice e explora todos os vértices vizinhos.\n",
    "\n",
    "Então para cada um desses vértices mais próximos, explora-se os seus vizinhos não visitados e assim sucessivamente.\n",
    "\n",
    "Trata-se de uma busca não-informada que expande e examina todos os vértices de um grafo.\n",
    "\n",
    "Podemos dizer que o algoritmo realiza uma busca exaustiva no grafo.\n",
    "\n",
    "Diferente da busca em profundidade que explorava o quanto for possível e depois retrocedia (backtracking), ou seja, esvaziava a pilha com os valores, a busca em largura parte de um vértice e explora todos os vértices vizinhos não visitados sem backtracking até achar um vértice alvo.\n",
    "\n",
    "O algoritmo deve garantir que nenhum vértice será visitado mais de uma vez.\n",
    "\n",
    "A BFS utiliza a estrutura **fila** para garantir a ordem de chegada dos vértices\n",
    "\n",
    "As visitas aos vértices são realizadas através da ordem de chegada na fila e um vértice que já foi marcado não pode entrar novamente na fila.\n",
    "\n",
    "**Obs**: Arvores Binárias são um tipo de grafo (grafo aciclico)\n",
    "\n",
    "![img](https://user-images.githubusercontent.com/14116020/45592707-43718900-b94b-11e8-8798-facf55a1b0cd.png)\n",
    "\n",
    "* Começa a partir do 1 e explora seus vizinhos 2, 3 e 4\n",
    "* Com isso ele irá explorar os vizinhos do 2 que são 5 e 6\n",
    "* E em seguida irá explorar os vizinhos do 4 que é o 7\n",
    "* Com isso todos foram explorados, pois não há mais vizinhos\n",
    "\n",
    "***\n",
    "### Algoritmo\n",
    "***\n",
    "\n",
    "```\n",
    "Busca em Largura:\n",
    "  escolha uma raiz 'v' no Grafo.\n",
    "  marque 'v' como visitado\n",
    "  insira 'v' na Fila\n",
    "  enquanto a Fila não estiver vazia faça:\n",
    "      seja 's' o primeiro vértice da Fila\n",
    "      para cada vertice 'w' faça:\n",
    "          verifica se o vértice 'w' pertence a lista de adjacencia de do vértice 's'\n",
    "              verifica se o vértice 'w' não foi visitado:\n",
    "                  marque 'w' como visitado\n",
    "                  insere 'w' na Fila\n",
    "                  imprime o elemento visitado\n",
    "      retira o vértice 's' da Fila\n",
    "```\n",
    "\n",
    "Complexidade de tempo é $O(|E| + |V|)$\n",
    "\n",
    "Complexidade de espaço é $O(|V|)$\n",
    "\n",
    "$|E|$ é a quantidade de arestas.\n",
    "\n",
    "$|V|$ é a quantidade de vértices.\n",
    "\n",
    "No exemplo também utilizaremos a matriz de adjacência."
   ]
  },
  {
   "cell_type": "markdown",
   "metadata": {},
   "source": [
    "***"
   ]
  },
  {
   "cell_type": "code",
   "execution_count": 1,
   "metadata": {},
   "outputs": [],
   "source": [
    "class Grafo(object):\n",
    "    \"\"\"\n",
    "    Classe que representa um grafo.\n",
    "    \"\"\"\n",
    "    \n",
    "    def __init__(self, vertices):\n",
    "        \"\"\"\n",
    "        Construtor\n",
    "        \"\"\"\n",
    "        \n",
    "        self.vertices = vertices\n",
    "        self.grafo = [[0] * vertices for i in range(vertices)]\n",
    "        \n",
    "    def add_aresta(self, u, v):\n",
    "        \"\"\"\n",
    "        Adicionar aresta em um grafo não dirigido com arco U a V.\n",
    "        \"\"\"\n",
    "        \n",
    "        # Indexa a partir do 0 tem que subtrair 1\n",
    "        self.grafo[u-1][v-1] = 1\n",
    "        self.grafo[v-1][u-1] = 1\n",
    "        \n",
    "    def show(self):\n",
    "        \"\"\"\n",
    "        Mostrar o grafo.\n",
    "        \"\"\"\n",
    "        \n",
    "        count = 0\n",
    "        header = [1, 2, 3, 4, 5, 6, 7]\n",
    "        print(\"    \", end=\"\")\n",
    "        for i in header:\n",
    "            print(i, end=\" \")\n",
    "        \n",
    "        print(\"\")\n",
    "        \n",
    "        for lin in self.grafo:\n",
    "            print(\"%d [\" % header[count], end=\" \")\n",
    "            for col in lin:\n",
    "                print(col, end=\" \")\n",
    "                \n",
    "            print(\"]\")\n",
    "            count += 1\n",
    "    \n",
    "    def busca_em_largura(self, v):\n",
    "        \"\"\"\n",
    "        BFS - Busca em Largura\n",
    "        \"\"\"\n",
    "        \n",
    "        # só podemos visitar um vértice uma única vez\n",
    "        visitados = [False] * self.vertices\n",
    "        \n",
    "        # marque 'v' como visitado\n",
    "        visitados[v-1] = True\n",
    "        \n",
    "        # insira 'v' na Fila\n",
    "        fila = [v-1]\n",
    "        print(\"Nó %d visitado\" % (v))\n",
    "        \n",
    "        # enquanto a Fila não estiver vazia faça:\n",
    "        while len(fila) > 0:\n",
    "            # seja 's' o primeiro vértice da Fila\n",
    "            s = fila[0]\n",
    "            \n",
    "            # para cada vertice 'w' faça:\n",
    "            for w in range(self.vertices):\n",
    "                # verifica se 'w' pertence a lista de adjacencia de 's'\n",
    "                if self.grafo[s][w] == 1:\n",
    "                    # verifica se 'w' não foi visitado:\n",
    "                    if visitados[w] == False:\n",
    "                        # marque 'w' como visitado\n",
    "                        visitados[w]= True\n",
    "                        # insere 'w' na Fila\n",
    "                        fila.append(w)\n",
    "                        # imprime o elemento visitado\n",
    "                        print(\"Nó %d visitado\" % (w+1))\n",
    "                        \n",
    "            # Remove 's' da fila\n",
    "            fila.pop(0)"
   ]
  },
  {
   "cell_type": "markdown",
   "metadata": {},
   "source": [
    "***"
   ]
  },
  {
   "cell_type": "code",
   "execution_count": 2,
   "metadata": {},
   "outputs": [
    {
     "name": "stdout",
     "output_type": "stream",
     "text": [
      "    1 2 3 4 5 6 7 \n",
      "1 [ 0 1 1 1 0 0 0 ]\n",
      "2 [ 1 0 0 0 1 1 0 ]\n",
      "3 [ 1 0 0 0 0 0 0 ]\n",
      "4 [ 1 0 0 0 0 0 1 ]\n",
      "5 [ 0 1 0 0 0 0 0 ]\n",
      "6 [ 0 1 0 0 0 0 0 ]\n",
      "7 [ 0 0 0 1 0 0 0 ]\n"
     ]
    }
   ],
   "source": [
    "grafo = Grafo(7)\n",
    "grafo.add_aresta(1, 2)\n",
    "grafo.add_aresta(1, 3)\n",
    "grafo.add_aresta(1, 4)\n",
    "grafo.add_aresta(2, 5)\n",
    "grafo.add_aresta(2, 6)\n",
    "grafo.add_aresta(4, 7)\n",
    "grafo.show()"
   ]
  },
  {
   "cell_type": "code",
   "execution_count": 3,
   "metadata": {},
   "outputs": [
    {
     "name": "stdout",
     "output_type": "stream",
     "text": [
      "Nó 1 visitado\n",
      "Nó 2 visitado\n",
      "Nó 3 visitado\n",
      "Nó 4 visitado\n",
      "Nó 5 visitado\n",
      "Nó 6 visitado\n",
      "Nó 7 visitado\n"
     ]
    }
   ],
   "source": [
    "grafo.busca_em_largura(1)"
   ]
  }
 ],
 "metadata": {
  "kernelspec": {
   "display_name": "Python 3",
   "language": "python",
   "name": "python3"
  },
  "language_info": {
   "codemirror_mode": {
    "name": "ipython",
    "version": 3
   },
   "file_extension": ".py",
   "mimetype": "text/x-python",
   "name": "python",
   "nbconvert_exporter": "python",
   "pygments_lexer": "ipython3",
   "version": "3.7.6"
  }
 },
 "nbformat": 4,
 "nbformat_minor": 2
}
