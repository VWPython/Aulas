{
 "cells": [
  {
   "cell_type": "markdown",
   "metadata": {},
   "source": [
    "## Busca Tabu\n",
    "***"
   ]
  },
  {
   "cell_type": "markdown",
   "metadata": {},
   "source": [
    "Propost por Fred Glover é um método de busca local, ou seja, explorar o espaço de soluções movendo-se de uma solução para outra que seja seu melhor vizinho.\n",
    "\n",
    "É uma estrutura de memória para armazenar as soluções geradas (ou características dessas), ou seja, lista tabu dos movimentos proibidos (tabus).\n",
    "\n",
    "Essas características possibilitam Busca Tabu escapar de ótimos locais.\n",
    "\n",
    "![img1](https://user-images.githubusercontent.com/14116020/61174305-9f5d6c00-a574-11e9-93df-fe4e735a40d7.png)\n",
    "\n",
    "***\n",
    "### 1ª Idéia: Utilizar Heurística de Descida:\n",
    "***\n",
    "\n",
    "![img2](https://user-images.githubusercontent.com/14116020/61174529-e9941c80-a577-11e9-9a80-79d76e12fe5f.png)\n",
    "\n",
    "![img3](https://user-images.githubusercontent.com/14116020/61174530-e9941c80-a577-11e9-93b0-ab1389b9ff2e.png)\n",
    "\n",
    "![img4](https://user-images.githubusercontent.com/14116020/61174531-e9941c80-a577-11e9-8acf-ee943f8e549b.png)\n",
    "\n",
    "**Problema**: Fica-se preso no primeiro ótimo local.\n",
    "\n",
    "***\n",
    "### 2ª Idéia: Mover para o Melhor Vizinho.\n",
    "***\n",
    "\n",
    "![img5](https://user-images.githubusercontent.com/14116020/61174532-ea2cb300-a577-11e9-9a1b-4e5c5af87462.png)\n",
    "\n",
    "O melhor vizinho pode ser de piora, ou seja, que resulta em resultados piores do que o ótimo local!\n",
    "\n",
    "![img6](https://user-images.githubusercontent.com/14116020/61174533-ea2cb300-a577-11e9-9218-4dd441c08d47.png)\n",
    "\n",
    "**Problema**: Ciclagem\n",
    "\n",
    "***\n",
    "### 3ª Idéia: Criar uma Lista Tabu\n",
    "***\n",
    "\n",
    "![img7](https://user-images.githubusercontent.com/14116020/61174534-ea2cb300-a577-11e9-9c76-a4ecfa49329d.png)\n",
    "\n",
    "![img8](https://user-images.githubusercontent.com/14116020/61174535-ea2cb300-a577-11e9-9a59-9a1acc651331.png)"
   ]
  },
  {
   "cell_type": "markdown",
   "metadata": {},
   "source": [
    "***\n",
    "### Problemas com uma Lista Tabu de soluções\n",
    "***\n",
    "\n",
    "É computacionalmente inviável armazenar todas as soluções geradas!\n",
    "\n",
    "* **Idéia**: Armazenar apenas as últimas |T| soluções geradas, em que T é o tamanho da lista tabu.\n",
    "\n",
    "\n",
    "* **Observação**: Uma lista com as |T| últimas soluções evita ciclos de até |T| iterações\n",
    "\n",
    "\n",
    "* **Problema**: Pode ser inviável armazenar |T| soluções e testar se uma solução está ou não na Lista Tabu.\n",
    "\n",
    "\n",
    "* **Idéia**: Criar uma Lista Tabu de movimentos reversos\n",
    "\n",
    "\n",
    "**Problema**: Uma Lista Tabu de movimentos pode ser muito restritiva (impede o retorno a uma solução já gerada anteriormente e também a outras soluções ainda não geradas)"
   ]
  },
  {
   "cell_type": "markdown",
   "metadata": {},
   "source": [
    "***\n",
    "### 4ª Idéia: Critério de Aspiração\n",
    "***\n",
    "\n",
    "Retirar o status tabu de um movimento sob determinadas circunstâncias.\n",
    "\n",
    "**Exemplo**: aceitar um movimento, mesmo que tabu, se ele melhorar o valor da função objetivo global (Critério de aspiração por objetivo)\n",
    "\n",
    "**Aspiração por default**: Realizar o movimento tabu mais antigo se todos os possíveis movimentos forem tabus."
   ]
  },
  {
   "cell_type": "markdown",
   "metadata": {},
   "source": [
    "***\n",
    "### Algoritmo de Busca Tabu\n",
    "***\n",
    "\n",
    "Busca Tabu começa a partir de uma solução inicial $s_0$ qualquer\n",
    "\n",
    "Um algoritmo Busca Tabu explora, a cada iteração, um subconjunto $V$ da vizinhança $N(s)$ da solução corrente $s$.\n",
    "\n",
    "O membro $s’$ de $V$ com melhor valor nessa região segundo a função $f()$ torna-se a nova solução corrente mesmo que $s’$ seja pior que $s$, isto é, que $f(s’) > f(s)$ para um problema de minimização.\n",
    "\n",
    "O critério de escolha do melhor vizinho é utilizado para escapar de um ótimo local.\n",
    "\n",
    "Porém, esta estratégia pode fazer com que o algoritmo cicle, isto é, que retorne a uma solução já gerada anteriormente.\n",
    "\n",
    "A lista tabu clássica contém os movimentos reversos aos últimos |T| movimentos realizados (onde |T | é um parâmetro do método) e funciona como uma fila de tamanho fixo, isto é, quando um novo movimento é adicionado à lista, o mais antigo sai.\n",
    "\n",
    "Assim, na exploração do subconjunto $V$ da vizinhança $N(s)$ da solução corrente $s$, ficam excluídos da busca os vizinhos $s’$ que são obtidos de $s$ por movimentos $m$ que constam na lista tabu.\n",
    "\n",
    "A lista tabu reduz o risco de ciclagem garantindo o não retorno, por |T| iterações, a uma solução já visitada\n",
    "anteriormente,mMas, também pode proibir movimentos para soluções que ainda não foram visitadas. **Função de aspiração**, que é um mecanismo que retira, sob certas circunstâncias, o status tabu de um movimento.\n",
    "\n",
    "Para cada possível valor $v$ da função objetivo existe um nível de aspiração $A(v)$: uma solução $s’$ em $V$ pode ser gerada se $f(s’) < A(f(s))$, mesmo que o movimento $m$ esteja na lista tabu.\n",
    "\n",
    "A função de aspiração $A$ é tal que, para cada valor $v$ da função objetivo, retorna outro valor $A(v)$, que representa o valor que o algoritmo aspira ao chegar de $v$.\n",
    "\n",
    "Um exemplo simples de aplicação desta idéia de aspiração é considerar $A(f(s)) = f(s*)$ onde $s*$ é a melhor solução encontrada até então. Neste caso, aceita-se um movimento tabu somente se ele conduzir a um vizinho melhor\n",
    "que $s*$ (aspiração por objetivo).\n",
    "\n",
    "Esse critério se fundamenta no fato de que soluções melhores que a solução $s*$ corrente, ainda que geradas por movimentos tabu, não foram visitadas anteriormente, evidenciando que a lista de movimentos tabu pode impedir não somente o retorno a uma solução já gerada anteriormente mas também a outras soluções ainda não geradas.\n",
    "\n",
    "Duas regras são normalmente utilizadas de forma a interromper o procedimento:\n",
    "\n",
    "* Pela primeira, pára-se quando é atingido um certo número máximo de iterações sem melhora no valor da melhor solução\n",
    "\n",
    "\n",
    "* Pela segunda, quando o valor da melhor solução chega a um limite inferior conhecido (ou próximo dele). Esse segundo critério evita a execução desnecessária do algoritmo quando uma solução ótima é encontrada ou quando uma solução é julgada suficientemente boa.\n",
    "\n",
    "\n",
    "Os parâmetros principais de controle do método de Busca Tabu são a cardinalidade |T| da lista tabu, a função de aspiração A, a cardinalidade do conjunto V de soluções vizinhas testadas em cada iteração e o BTmax, o número máximo de iterações sem melhora no valor da melhor solução.\n",
    "\n",
    "![img10](https://user-images.githubusercontent.com/14116020/61174536-eac54980-a577-11e9-990c-6e88bc1faa62.png)"
   ]
  },
  {
   "cell_type": "markdown",
   "metadata": {},
   "source": [
    "***\n",
    "### Exemplo (Problema da Mochila)\n",
    "***\n",
    "\n",
    "Temos os objetos [1, 2, 3, 4, 5], nós queremos colocar esses objetos dentro de uma mochila, mas essa mochila possui uma capacidade máxima de peso de 23. Cada objeto tem seu respectivo peso [4, 5, 7, 9, 6]. E cada objeto tem seu beneficio para o usuário da mochila, ou seja, tem objetos que são mais importantes que outros. Não podemos ultrapassar a capacidade máxima da mochila, logo temos que colocar os objetos na mochila de uma maneira que maximize os benefícios respeitando a capacidade máxima da mochila.\n",
    "\n",
    "Seja uma mochila de capacidade b = 23.\n",
    "\n",
    "Objeto (j) = [1, 2, 3, 4, 5]\n",
    "\n",
    "Peso ($w_j$) = [4. 5. 7. 9. 6]\n",
    "\n",
    "Benefício ($p_j$) = [2, 2, 3, 4, 4]\n",
    "\n",
    "Representação de uma solução: $s = (s_1, s_2, s_3, s_4, s_5)$, onde $s_j$ pertence ao conjunto $\\{0, 1\\}$\n",
    "\n",
    "Movimento m = troca no valor de um bit\n",
    "\n",
    "Lista tabu = Posição do bit alterado\n",
    "\n",
    "|T| = 1\n",
    "\n",
    "BTMax = 1\n",
    "\n",
    "Função de avaliação:\n",
    "\n",
    "$$f(s) = \\sum_{j=1}^{n} p_js_j - \\alpha \\times max\\big\\{0, \\sum_{j=1}^{n} w_js_j - b \\big\\}$$\n",
    "\n",
    "***"
   ]
  },
  {
   "cell_type": "code",
   "execution_count": 1,
   "metadata": {},
   "outputs": [],
   "source": [
    "import random"
   ]
  },
  {
   "cell_type": "code",
   "execution_count": 2,
   "metadata": {},
   "outputs": [],
   "source": [
    "# objeto = [peso, beneficio]\n",
    "# mochila = [objeto, ...]\n",
    "mochila = [[4,2], [5,2], [7,3], [9,4], [6,4]]\n",
    "iteracao, melhor_iteracao = 0, 0\n",
    "melhor_solucao = []\n",
    "lista_tabu = []\n",
    "capacidade_maxima = 23\n",
    "max_vizinhos = 5\n",
    "bt_max = 1 # Quantidade maxima de iterações sem melhoras"
   ]
  },
  {
   "cell_type": "code",
   "execution_count": 3,
   "metadata": {},
   "outputs": [],
   "source": [
    "def obter_avaliacao(solucao, mochila, capacidade_maxima):\n",
    "    \"\"\"\n",
    "    Obtem a avaliação de uma solução.\n",
    "    \"\"\"\n",
    "\n",
    "    somatorio_peso = 0\n",
    "    somatorio_beneficio = 0\n",
    "    \n",
    "    for i in range(len(solucao)):\n",
    "        somatorio_peso += solucao[i] * mochila[i][0]\n",
    "        somatorio_beneficio += solucao[i] * mochila[i][1]\n",
    "        \n",
    "    avaliacao = somatorio_beneficio * (1 - max(0, somatorio_peso - capacidade_maxima))\n",
    "    \n",
    "    return avaliacao"
   ]
  },
  {
   "cell_type": "code",
   "execution_count": 4,
   "metadata": {},
   "outputs": [],
   "source": [
    "def obter_peso(solucao, mochila):\n",
    "    \"\"\"\n",
    "    Obtemo o peso de uma solução.\n",
    "    \"\"\"\n",
    "    \n",
    "    peso= 0\n",
    "    \n",
    "    for i in range(len(solucao)):\n",
    "        peso += solucao[i] * mochila[i][0]\n",
    "        \n",
    "    return peso"
   ]
  },
  {
   "cell_type": "code",
   "execution_count": 5,
   "metadata": {},
   "outputs": [],
   "source": [
    "def obter_vizinhos(melhor_solucao, max_vizinhos):\n",
    "    \"\"\"\n",
    "    Obtem os vizinhos de uma solução.\n",
    "    \"\"\"\n",
    "    \n",
    "    vizinhos = []\n",
    "    posicao = 0\n",
    "    \n",
    "    for i in range(max_vizinhos):\n",
    "        vizinho = []\n",
    "        \n",
    "        for j in range(len(melhor_solucao)):\n",
    "            if j == posicao:\n",
    "                if melhor_solucao[j] == 0:\n",
    "                    vizinho.append(1)\n",
    "                else:\n",
    "                    vizinho.append(0)\n",
    "            else:\n",
    "                vizinho.append(melhor_solucao[j])\n",
    "            \n",
    "            vizinhos.append(vizinho)\n",
    "            posicao += 1\n",
    "    \n",
    "    return vizinhos"
   ]
  },
  {
   "cell_type": "code",
   "execution_count": 6,
   "metadata": {},
   "outputs": [],
   "source": [
    "def obter_avaliacoes_vizinhos(vizinhos, mochila, capacidade_maxima, max_vizinhos):\n",
    "    \"\"\"\n",
    "    Obter o valor de avaliação de cada vizinho\n",
    "    \"\"\"\n",
    "    \n",
    "    vizinhos_avaliacao = []\n",
    "    \n",
    "    for i in range(max_vizinhos):\n",
    "        vizinhos_avaliacao.append(obter_avaliacao(vizinhos[i], mochila, capacidade_maxima))\n",
    "    \n",
    "    return vizinhos_avaliacao"
   ]
  },
  {
   "cell_type": "code",
   "execution_count": 7,
   "metadata": {},
   "outputs": [],
   "source": [
    "def obter_bit_modificado(melhor_solucao, melhor_vizinho):\n",
    "    \"\"\"\n",
    "    Obtem o bit modificado\n",
    "    \"\"\"\n",
    "    \n",
    "    for i in range(len(melhor_solucao)):\n",
    "        if melhor_solucao[i] != melhor_vizinho[i]:\n",
    "            return i"
   ]
  },
  {
   "cell_type": "code",
   "execution_count": 8,
   "metadata": {},
   "outputs": [],
   "source": [
    "def obter_vizinho_melhor_avaliacao(vizinhos_avaliacao, lista_tabu, melhor_solucao, vizinhos):\n",
    "    \"\"\"\n",
    "    Obtem o vizinho com a melhor avaliação.\n",
    "    \"\"\"\n",
    "    \n",
    "    maxima_avaliacao = max(vizinhos_avaliacao)\n",
    "    posicao = 0\n",
    "    bit_proibido = -1\n",
    "    \n",
    "    # Verifica se a lista tabu não possui elementos\n",
    "    if len(lista_tabu) != 0:\n",
    "        # se possuir, é porque tem bit proibido, então pega esse bit\n",
    "        bit_proibido = lista_tabu[0]\n",
    "        \n",
    "    # loop para obter a posição do melhor vizinho\n",
    "    for i in range(len(vizinhos_avaliacao)):\n",
    "        if vizinhos_avaliacao[i] == maxima_avaliacao:\n",
    "            posicao = i\n",
    "            break\n",
    "            \n",
    "    # Verifica se o vizinho é resultado de movimento proibido\n",
    "    if bit_proibido != -1:\n",
    "        bit_posicao = obter_bit_modificado(melhor_solucao, vizinhos[posicao])\n",
    "        \n",
    "        # verifica se o bit está na lista tabu\n",
    "        if bit_posicao == bit_proibido:\n",
    "            # procura o segundo melhor vizinho\n",
    "            melhor_posicao = 0\n",
    "            \n",
    "            for i in range(len(vizinhos_avaliacao)):\n",
    "                if i != bit_posicao:\n",
    "                    if vizinhos_avaliacao[i] > vizinhos_avaliacao[melhor_posicao]:\n",
    "                        melhor_posicao = i\n",
    "                        \n",
    "            return melhor_posicao\n",
    "    \n",
    "    return posicao"
   ]
  },
  {
   "cell_type": "code",
   "execution_count": 9,
   "metadata": {},
   "outputs": [],
   "source": [
    "# Gerar uma solução inicial aleatorio\n",
    "for i in range(len(mochila)):\n",
    "    bit = random.randint(0, 1)\n",
    "    melhor_solucao.append(bit)"
   ]
  },
  {
   "cell_type": "code",
   "execution_count": 10,
   "metadata": {},
   "outputs": [
    {
     "name": "stdout",
     "output_type": "stream",
     "text": [
      "Solução inicial: [0, 1, 1, 0, 1], Avaliação: 9\n"
     ]
    }
   ],
   "source": [
    "# Mostra a solução inicial e seu valor de avaliação\n",
    "print(\"Solução inicial: {0}, Avaliação: {1}\".format(\n",
    "    melhor_solucao,\n",
    "    obter_avaliacao(melhor_solucao, mochila, capacidade_maxima)\n",
    "))"
   ]
  },
  {
   "cell_type": "code",
   "execution_count": 11,
   "metadata": {},
   "outputs": [],
   "source": [
    "# Obter o peso corrente da mochila\n",
    "peso_corrente = obter_peso(melhor_solucao, mochila)"
   ]
  },
  {
   "cell_type": "code",
   "execution_count": 12,
   "metadata": {},
   "outputs": [],
   "source": [
    "# Obter o valor de avaliação da melhor solução\n",
    "melhor_avaliacao = obter_avaliacao(melhor_solucao, mochila, capacidade_maxima)"
   ]
  },
  {
   "cell_type": "code",
   "execution_count": 13,
   "metadata": {},
   "outputs": [],
   "source": [
    "# Gerar os vizinhos\n",
    "vizinhos = obter_vizinhos(melhor_solucao, max_vizinhos)"
   ]
  },
  {
   "cell_type": "code",
   "execution_count": 14,
   "metadata": {},
   "outputs": [],
   "source": [
    "# Calcular a avalização dos vizinhos\n",
    "vizinhos_avaliacao = obter_avaliacoes_vizinhos(vizinhos, mochila, capacidade_maxima, max_vizinhos)"
   ]
  },
  {
   "cell_type": "code",
   "execution_count": 15,
   "metadata": {},
   "outputs": [],
   "source": [
    "# Obtem a posição do melhor vizinho\n",
    "posicao_melhor_vizinho = obter_vizinho_melhor_avaliacao(vizinhos_avaliacao, lista_tabu, melhor_solucao, vizinhos)"
   ]
  },
  {
   "cell_type": "code",
   "execution_count": 16,
   "metadata": {},
   "outputs": [],
   "source": [
    "# Verificar se o melhor vizinho tem avaliação melhor do que a avaliação até o momento\n",
    "if vizinhos_avaliacao[posicao_melhor_vizinho] > melhor_avaliacao:\n",
    "    # obtem o bit que foi modificado do melhor vizinho\n",
    "    bit_modificado = obter_bit_modificado(melhor_solucao, vizinhos[posicao_melhor_vizinho])\n",
    "    \n",
    "    # guarda o movimento proibido\n",
    "    lista_tabu.append(bit_modificado)\n",
    "    \n",
    "    # faz uma cópia da solução\n",
    "    melhor_solucao = vizinhos[posicao_melhor_vizinho][:]\n",
    "    \n",
    "    # incrementa a iteração onde foi achada a melhor solução até o momento\n",
    "    melhor_iteracao += 1\n",
    "    \n",
    "iteracao += 1"
   ]
  },
  {
   "cell_type": "code",
   "execution_count": 17,
   "metadata": {},
   "outputs": [],
   "source": [
    "# Entra em loop\n",
    "while True:\n",
    "    \"\"\"\n",
    "    A condição de parada é se a diferença entre a iteraco e melhor_iteracao\n",
    "    for maior que bt_max. A iteracao é a iteração global (sempre é incrementada).\n",
    "    melhor_iteracao é a iteração onde se achou a melhor solução (nem sempre é incrementada).\n",
    "    bt_max é o máximo de iterações sem melhora no valor da melhor solução.\n",
    "    \"\"\"\n",
    "\n",
    "    if (iteracao - melhor_iteracao) > bt_max:\n",
    "        break\n",
    "\n",
    "    # gera os novos vizinhos\n",
    "    vizinhos = obter_vizinhos(melhor_solucao, max_vizinhos)[:]\n",
    "\n",
    "    # obtém o valor de avaliação dos vizinhos\n",
    "    vizinhos_avaliacao = obter_avaliacoes_vizinhos(vizinhos, mochila, capacidade_maxima, max_vizinhos)[:]\n",
    "\n",
    "    # obtém a posição do melhor vizinho\n",
    "    posicao_melhor_vizinho = obter_vizinho_melhor_avaliacao(vizinhos_avaliacao, lista_tabu, melhor_solucao, vizinhos)\n",
    "\n",
    "    # verifica se o melhor vizinho tem avaliação melhor do que a melhor avaliação corrente\n",
    "    if vizinhos_avaliacao[posicao_melhor_vizinho] > melhor_avaliacao:\n",
    "\n",
    "        # obtém o bit que foi modificado para gerar o melhor vizinho\n",
    "        bit_modificado = obter_bit_modificado(melhor_solucao, vizinhos[posicao_melhor_vizinho])\n",
    "\n",
    "        # guarda o movimento proibido\n",
    "        lista_tabu[0] = bit_modificado\n",
    "\n",
    "        # temos uma solução melhor, faz uma cópia\n",
    "        melhor_solucao = vizinhos[posicao_melhor_vizinho][:]\n",
    "\n",
    "        # atualiza a melhor avaliação\n",
    "        melhor_avaliacao = vizinhos_avaliacao[posicao_melhor_vizinho]\n",
    "\n",
    "        # incrementa a iteração onde foi achada a melhor soluçao\n",
    "        melhor_iteracao += 1\n",
    "\n",
    "    iteracao += 1"
   ]
  },
  {
   "cell_type": "code",
   "execution_count": 18,
   "metadata": {},
   "outputs": [
    {
     "name": "stdout",
     "output_type": "stream",
     "text": [
      "Solução final: [0, 1, 1, 0, 1], Avaliação: 9\n",
      "Melhor iteração: 0\n",
      "Iteração: 2\n"
     ]
    }
   ],
   "source": [
    "# Mostra a solução final e sua avaliação\n",
    "print('Solução final: {0}, Avaliação: {1}'.format(melhor_solucao, obter_avaliacao(melhor_solucao, mochila, capacidade_maxima)))\n",
    "print('Melhor iteração: {0}'.format(melhor_iteracao))\n",
    "print('Iteração: {0}'.format(iteracao))"
   ]
  }
 ],
 "metadata": {
  "kernelspec": {
   "display_name": "Python 3",
   "language": "python",
   "name": "python3"
  },
  "language_info": {
   "codemirror_mode": {
    "name": "ipython",
    "version": 3
   },
   "file_extension": ".py",
   "mimetype": "text/x-python",
   "name": "python",
   "nbconvert_exporter": "python",
   "pygments_lexer": "ipython3",
   "version": "3.7.6"
  }
 },
 "nbformat": 4,
 "nbformat_minor": 2
}
