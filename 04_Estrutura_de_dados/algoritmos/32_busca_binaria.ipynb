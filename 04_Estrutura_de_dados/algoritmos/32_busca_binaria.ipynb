{
 "cells": [
  {
   "cell_type": "markdown",
   "metadata": {},
   "source": [
    "## Busca Binária\n",
    "***\n",
    "\n",
    "A busca binária segue um paradigma chamado dividir para conquistar, ou seja, divide recursivamente um problema em problemas menores até que o problema maior possa ser resolvido através da combinação dos resultados dos problemas menores.\n",
    "\n",
    "Parte do pressuposto que a lista está ordenada por chaves.\n",
    "\n",
    "Essa busca realiza sucessivas divisões do espaço de busca comparando o elemento buscado (chave) com o elemento do meio do vetor, se o elemento do meio for a chave procurada então a busca termina com sucesso. Caso contrário se o elemento do meio vier antes do elemento buscado então a busca continuar na metade posterior do vetor e se o elemento do meio vier depois da chave a busca continua na metade anterior do vetor.\n",
    "\n",
    "Complexidade: O(logN) - O(1)"
   ]
  },
  {
   "cell_type": "markdown",
   "metadata": {},
   "source": [
    "***\n",
    "### Exemplo\n",
    "***\n",
    "\n",
    "Vamos buscar o elemento 76:\n",
    "\n",
    "![img](https://user-images.githubusercontent.com/14116020/61176127-bcecfe80-a591-11e9-899b-0c690711ee06.png)\n",
    "\n",
    "\n",
    "***"
   ]
  },
  {
   "cell_type": "code",
   "execution_count": 1,
   "metadata": {},
   "outputs": [],
   "source": [
    "def busca_binaria(lista, chave, inicio, fim):\n",
    "    \"\"\"\n",
    "    Busca binária\n",
    "    \"\"\"\n",
    "    \n",
    "    if inicio > fim:\n",
    "        return False\n",
    "    \n",
    "    meio = (inicio + fim) // 2\n",
    "    \n",
    "    if chave == lista[meio]:\n",
    "        return True\n",
    "    \n",
    "    if chave < lista[meio]:\n",
    "        return busca_binaria(lista, chave, inicio, meio - 1)\n",
    "    \n",
    "    return busca_binaria(lista, chave, meio + 1, fim)"
   ]
  },
  {
   "cell_type": "code",
   "execution_count": 2,
   "metadata": {},
   "outputs": [],
   "source": [
    "lista = [2, 9, 11, 15, 28, 33, 44, 47, 51, 64, 76, 77, 82, 85, 94]\n",
    "lista.sort()"
   ]
  },
  {
   "cell_type": "code",
   "execution_count": 3,
   "metadata": {},
   "outputs": [
    {
     "name": "stdout",
     "output_type": "stream",
     "text": [
      "Encontrou\n"
     ]
    }
   ],
   "source": [
    "if busca_binaria(lista, 76, 0, len(lista)):\n",
    "    print(\"Encontrou\")\n",
    "else:\n",
    "    print(\"Não encontrou\")"
   ]
  }
 ],
 "metadata": {
  "kernelspec": {
   "display_name": "Python 3",
   "language": "python",
   "name": "python3"
  },
  "language_info": {
   "codemirror_mode": {
    "name": "ipython",
    "version": 3
   },
   "file_extension": ".py",
   "mimetype": "text/x-python",
   "name": "python",
   "nbconvert_exporter": "python",
   "pygments_lexer": "ipython3",
   "version": "3.7.6"
  }
 },
 "nbformat": 4,
 "nbformat_minor": 2
}
