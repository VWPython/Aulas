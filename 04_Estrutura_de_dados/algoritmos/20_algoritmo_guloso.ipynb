{
 "cells": [
  {
   "cell_type": "markdown",
   "metadata": {},
   "source": [
    "## Algorítmo Guloso\n",
    "***"
   ]
  },
  {
   "cell_type": "markdown",
   "metadata": {},
   "source": [
    "Algoritmos gulosos são aqueles que, a cada decisão, sempre escolhem a alternativa que parece mais promissora naquele momento.\n",
    "\n",
    "Nunca reconsideram essa decisão, ou seja, uma escolha que foi feita nunca é revista, não há backtracking.\n",
    "\n",
    "Exemplo de algoritmo guloso: **Dijkstra**.\n",
    "\n",
    "Fazer a escolha que parece ser a melhor num dado momento é fazer uma decisão localmente ótima.\n",
    "\n",
    "Geralmente os algoritmos gulosos são utilizados em problemas de otimização.\n",
    "\n",
    "Um problema de otimização consiste em encontrar a partir de um conjunto S um subconjunto E de S que deva possuir o menor ou maior custo que satisfazem certa propriedade."
   ]
  },
  {
   "cell_type": "markdown",
   "metadata": {},
   "source": [
    "***\n",
    "### Problema do troco\n",
    "***"
   ]
  },
  {
   "cell_type": "markdown",
   "metadata": {},
   "source": [
    "Iremos abordar o problema do troco para exemplificarmos.\n",
    "\n",
    "Suponha que temos as seguintes moedas disponíveis com valores de 100, 25, 10, 5 e 1\n",
    "\n",
    "O problema consiste em criar um algoritmo para obter um determinado valor com o menor número de moedas possível.\n",
    "\n",
    "Algorítmo:\n",
    "\n",
    "![img](https://user-images.githubusercontent.com/14116020/60391672-3385f880-9aca-11e9-88f2-d4703c496220.png)"
   ]
  },
  {
   "cell_type": "code",
   "execution_count": 1,
   "metadata": {},
   "outputs": [],
   "source": [
    "moedas = [100, 50, 5, 1]\n",
    "solucao = []\n",
    "soma = 0\n",
    "troco = 60"
   ]
  },
  {
   "cell_type": "code",
   "execution_count": 2,
   "metadata": {},
   "outputs": [],
   "source": [
    "i = 0\n",
    "while i < len(moedas) and soma != troco:\n",
    "    if soma + moedas[i] <= troco:\n",
    "        solucao.append(moedas[i])\n",
    "        soma += moedas[i]\n",
    "    else:\n",
    "        i += 1"
   ]
  },
  {
   "cell_type": "code",
   "execution_count": 3,
   "metadata": {},
   "outputs": [
    {
     "name": "stdout",
     "output_type": "stream",
     "text": [
      "[50, 5, 5]\n"
     ]
    }
   ],
   "source": [
    "print(solucao)"
   ]
  }
 ],
 "metadata": {
  "kernelspec": {
   "display_name": "Python 3",
   "language": "python",
   "name": "python3"
  },
  "language_info": {
   "codemirror_mode": {
    "name": "ipython",
    "version": 3
   },
   "file_extension": ".py",
   "mimetype": "text/x-python",
   "name": "python",
   "nbconvert_exporter": "python",
   "pygments_lexer": "ipython3",
   "version": "3.7.6"
  }
 },
 "nbformat": 4,
 "nbformat_minor": 2
}
