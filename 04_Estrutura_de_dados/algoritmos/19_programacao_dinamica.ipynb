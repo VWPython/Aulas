{
 "cells": [
  {
   "cell_type": "markdown",
   "metadata": {},
   "source": [
    "## Programação Dinâmica\n",
    "***"
   ]
  },
  {
   "cell_type": "markdown",
   "metadata": {},
   "source": [
    "A programação dinâmica é um método para resolver problemas.\n",
    "\n",
    "Aplicável em problemas nos quais a solução ótima pode ser obtida a partir da solução ótima previamente calculada e memorizada.\n",
    "\n",
    "Essa memorização tem como objetivo evitar o recálculo de subproblemas sobrepostos que compõem o problema original, ou seja, se o problema original é compostos por vários subproblemas, então pode ser atacado com programação dinâmica.\n",
    "\n",
    "Um problema de otimização deve ter duas características para que a programação dinâmica seja aplicável:\n",
    "\n",
    "* **Subestrutura ótima**: Isso ocorre quando podemos chegar à solução ótima de um problema através das soluções ótimas de seus subproblemas.\n",
    "\n",
    "\n",
    "* **Sobreposição de subproblemas**: A sobreposição de subproblemas acontece quando o algorítmo reexamina o mesmo problema várias vezes, fazendo uma memorização dos resultados, e com essa memórização consegue ótimizar o problema.\n",
    "\n",
    "Um exemplo simples é a sequência de fibonacci"
   ]
  },
  {
   "cell_type": "code",
   "execution_count": 1,
   "metadata": {},
   "outputs": [],
   "source": [
    "n = 35"
   ]
  },
  {
   "cell_type": "code",
   "execution_count": 2,
   "metadata": {},
   "outputs": [],
   "source": [
    "def fib(n):\n",
    "    if n == 1 or n == 2:\n",
    "        return 1\n",
    "    \n",
    "    return fib(n - 1) + fib(n - 2)"
   ]
  },
  {
   "cell_type": "code",
   "execution_count": 3,
   "metadata": {},
   "outputs": [
    {
     "name": "stdout",
     "output_type": "stream",
     "text": [
      "9227465\n"
     ]
    }
   ],
   "source": [
    "print(fib(n))"
   ]
  },
  {
   "cell_type": "markdown",
   "metadata": {},
   "source": [
    "Essa solução acima recalcula os subproblemas\n",
    "\n",
    "![img](https://user-images.githubusercontent.com/14116020/60391373-519c2a80-9ac3-11e9-930b-45135ba28583.png)\n",
    "\n",
    "Veja que no fib(4) eu calculei o fib(2), porém no fib(3) eu também calculei o fib(2), podemos memorizar esse resultado para não ter que recalcula-lo.\n",
    "\n",
    "A solução anterior recalcula subproblemas, por isso é lento.\n",
    "\n",
    "Trata-se de uma complexidade exponencial.\n",
    "\n",
    "Com programação dinâmica iremos evitar o recálculo e, assim, o programa ficará bem mais otimizado.\n",
    "\n",
    "Para isso basta memorizar os resultados para não recalcular\n",
    "\n",
    "Com o uso de PD, vamos conseguir transformar algo exponêncial em linear."
   ]
  },
  {
   "cell_type": "code",
   "execution_count": 4,
   "metadata": {},
   "outputs": [],
   "source": [
    "memoria = [-1 for i in range(n)]\n",
    "memoria[0] = memoria[1] = 1\n",
    "\n",
    "def fib_pd(n):\n",
    "    if memoria[n - 1] != -1:\n",
    "        return memoria[n - 1]\n",
    "    \n",
    "    memoria[n - 1] = fib_pd(n - 1) + fib_pd(n - 2)\n",
    "    \n",
    "    return memoria[n - 1]"
   ]
  },
  {
   "cell_type": "code",
   "execution_count": 5,
   "metadata": {},
   "outputs": [
    {
     "name": "stdout",
     "output_type": "stream",
     "text": [
      "9227465\n"
     ]
    }
   ],
   "source": [
    "print(fib_pd(n))"
   ]
  },
  {
   "cell_type": "markdown",
   "metadata": {},
   "source": [
    "Com a nossa primeira solução (sem PD), o fibonacci de 35 demorou cerca de 8.2 segundos\n",
    "\n",
    "Com PD, esse fibonacci demorou menos de 1 segundo!"
   ]
  }
 ],
 "metadata": {
  "kernelspec": {
   "display_name": "Python 3",
   "language": "python",
   "name": "python3"
  },
  "language_info": {
   "codemirror_mode": {
    "name": "ipython",
    "version": 3
   },
   "file_extension": ".py",
   "mimetype": "text/x-python",
   "name": "python",
   "nbconvert_exporter": "python",
   "pygments_lexer": "ipython3",
   "version": "3.5.2"
  }
 },
 "nbformat": 4,
 "nbformat_minor": 2
}
