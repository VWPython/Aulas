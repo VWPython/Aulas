{
 "cells": [
  {
   "cell_type": "markdown",
   "metadata": {},
   "source": [
    "## Backtraking\n",
    "***"
   ]
  },
  {
   "cell_type": "markdown",
   "metadata": {},
   "source": [
    "Backtracking é um tipo de algoritmo que representa um refinamento da busca por força bruta (enumera todas as possibilidades exaustivamente), em que múltiplas soluções podem ser eliminadas sem serem explicitamente examinadas.\n",
    "\n",
    "A recursividade pode ser usada para resolver problemas cuja solução é do tipo tentar todas as alternativas possíveis.\n",
    "\n",
    "O backtracking executa podas quando não é possível encontrar uma solução pelo caminho escolhido. Ou seja, ele vai cortando vários caminhos.\n",
    "\n",
    "Por exemplo:\n",
    "\n",
    "Fulano quer encontrar a saída do labirinto...\n",
    "\n",
    "![img](https://user-images.githubusercontent.com/14116020/60404543-4f4bd600-9b80-11e9-84b1-b8bf82127f75.png)\n",
    "\n",
    "![img](https://user-images.githubusercontent.com/14116020/60404551-5e328880-9b80-11e9-8f90-53960bc9c8f2.png)\n",
    "\n",
    "![img](https://user-images.githubusercontent.com/14116020/60404563-6ee2fe80-9b80-11e9-8966-73bb417643cc.png)\n",
    "\n",
    "![img](https://user-images.githubusercontent.com/14116020/60404572-84f0bf00-9b80-11e9-915a-d615e157e53c.png)\n",
    "\n",
    "![img](https://user-images.githubusercontent.com/14116020/60404582-9afe7f80-9b80-11e9-90ea-57a180a6434b.png)\n",
    "\n",
    "Imagine um problema com as seguintes características:\n",
    "\n",
    "* Você tem que fazer uma série de decisões...\n",
    "\n",
    "\n",
    "* Você não tem informações suficientes para saber o que escolher...\n",
    "\n",
    "\n",
    "* Cada decisão leva a um novo conjunto de escolhas...\n",
    "\n",
    "\n",
    "* Alguma sequência de escolhas pode ser uma solução para o seu problema..\n",
    "\n",
    "\n",
    "* Backtracking pode ser uma boa forma de experimentar várias sequências de decisões até encontrar uma que funciona!\n",
    "\n",
    "A busca em profundidade (DFS) explora tanto quanto possível um ramo antes de retroceder. É o que acontece no backtracking!"
   ]
  },
  {
   "cell_type": "markdown",
   "metadata": {},
   "source": [
    "***\n",
    "### Gerando todos os subconjuntos\n",
    "***"
   ]
  },
  {
   "cell_type": "markdown",
   "metadata": {},
   "source": [
    "**Problema**: gerando todos os subconjuntos\n",
    "\n",
    "Temos um conjunto S = {1 ... N}\n",
    "\n",
    "\n",
    "**Objetivo**: imprimir todos os subconjuntos a partir de N elementos.\n",
    "\n",
    "\n",
    "* Para S = {1, 2} (N = 2) temos os subconjuntos: {1, 2}, {1}, {2}, {}\n",
    "\n",
    "\n",
    "* {1, 2} é o mesmo que {2, 1}\n",
    "\n",
    "\n",
    "* O número de possíveis subconjuntos é $2^N$\n",
    "\n",
    "**Ideia**: ou o elemento faz parte do subconjunto ou não faz parte.\n"
   ]
  },
  {
   "cell_type": "markdown",
   "metadata": {},
   "source": [
    "***\n",
    "### Exemplo\n",
    "***"
   ]
  },
  {
   "cell_type": "code",
   "execution_count": 1,
   "metadata": {},
   "outputs": [],
   "source": [
    "def gerar_subconjuntos(conjunto, subconjuntos, element, qtd_elements):\n",
    "    \"\"\"\n",
    "    Imprimir todos os subconjuntos a partir de N elementos.\n",
    "    \"\"\"\n",
    "    \n",
    "    if (element == qtd_elements):\n",
    "        print(\"{\", end=\" \")\n",
    "        for i in range(qtd_elements):\n",
    "            if subconjuntos[i] == True:\n",
    "                print(\"%d\" % conjunto[i], end=\" \")\n",
    "        print(\"}\")\n",
    "    else:\n",
    "        subconjuntos[element] = True\n",
    "        gerar_subconjuntos(conjunto, subconjuntos, element + 1, qtd_elements)\n",
    "        \n",
    "        # Backtracking\n",
    "        subconjuntos[element] = False\n",
    "        gerar_subconjuntos(conjunto, subconjuntos, element + 1, qtd_elements)"
   ]
  },
  {
   "cell_type": "code",
   "execution_count": 2,
   "metadata": {},
   "outputs": [],
   "source": [
    "conjunto = [1, 2]"
   ]
  },
  {
   "cell_type": "code",
   "execution_count": 3,
   "metadata": {},
   "outputs": [],
   "source": [
    "subconjuntos = [False for i in range(len(conjunto))]"
   ]
  },
  {
   "cell_type": "code",
   "execution_count": 4,
   "metadata": {},
   "outputs": [
    {
     "name": "stdout",
     "output_type": "stream",
     "text": [
      "{ 1 2 }\n",
      "{ 1 }\n",
      "{ 2 }\n",
      "{ }\n"
     ]
    }
   ],
   "source": [
    "gerar_subconjuntos(conjunto, subconjuntos, 0, len(conjunto))"
   ]
  }
 ],
 "metadata": {
  "kernelspec": {
   "display_name": "Python 3",
   "language": "python",
   "name": "python3"
  },
  "language_info": {
   "codemirror_mode": {
    "name": "ipython",
    "version": 3
   },
   "file_extension": ".py",
   "mimetype": "text/x-python",
   "name": "python",
   "nbconvert_exporter": "python",
   "pygments_lexer": "ipython3",
   "version": "3.7.6"
  }
 },
 "nbformat": 4,
 "nbformat_minor": 2
}
