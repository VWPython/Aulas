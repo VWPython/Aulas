{
 "cells": [
  {
   "cell_type": "markdown",
   "metadata": {},
   "source": [
    "## Criptografia - Cifra de césar\n",
    "***\n",
    "\n",
    "É um dos algorítmos mais simples de criptografia\n",
    "\n",
    "Ela consiste em substituir uma letra do alfabeto por outra letra.\n",
    "\n",
    "O que define por qual letra será substituida é a quantidade de posições de deslocamento\n",
    "\n",
    "EX: entrada A vai ser substituida para X se o deslocamento for de 23 casas, já que o alfabeto tem 26 letras."
   ]
  },
  {
   "cell_type": "markdown",
   "metadata": {},
   "source": [
    "***\n",
    "### Exemplo\n",
    "***"
   ]
  },
  {
   "cell_type": "code",
   "execution_count": 1,
   "metadata": {},
   "outputs": [],
   "source": [
    "def criptografar(texto, chave):\n",
    "    \"\"\"\n",
    "    Criptografia cifra de cesar\n",
    "    \"\"\"\n",
    "    \n",
    "    lista = list(texto)\n",
    "    texto_criptografado = ''\n",
    "    \n",
    "    for i in lista:\n",
    "        valor_inteiro = (ord(i) - ord('A') + chave) % 26\n",
    "        texto_criptografado += chr(valor_inteiro + ord('A'))\n",
    "        \n",
    "    return texto_criptografado"
   ]
  },
  {
   "cell_type": "code",
   "execution_count": 2,
   "metadata": {},
   "outputs": [],
   "source": [
    "def descriptografar(texto, chave):\n",
    "    \"\"\"\n",
    "    Descriptografar cifra de cesar\n",
    "    \"\"\"\n",
    "    \n",
    "    lista = list(texto)\n",
    "    texto_descriptografado = ''\n",
    "    \n",
    "    for i in lista:\n",
    "        valor_inteiro = (ord(i) - ord('A') - chave) % 26\n",
    "        texto_descriptografado += chr(valor_inteiro + ord('A'))\n",
    "        \n",
    "    return texto_descriptografado"
   ]
  },
  {
   "cell_type": "code",
   "execution_count": 3,
   "metadata": {},
   "outputs": [],
   "source": [
    "texto = \"ASDGRODLRO\""
   ]
  },
  {
   "cell_type": "code",
   "execution_count": 4,
   "metadata": {},
   "outputs": [
    {
     "name": "stdout",
     "output_type": "stream",
     "text": [
      "XPADOLAIOL\n"
     ]
    }
   ],
   "source": [
    "texto_criptografado = criptografar(texto, 23)\n",
    "print(texto_criptografado)"
   ]
  },
  {
   "cell_type": "code",
   "execution_count": 5,
   "metadata": {},
   "outputs": [
    {
     "name": "stdout",
     "output_type": "stream",
     "text": [
      "ASDGRODLRO\n"
     ]
    }
   ],
   "source": [
    "print(descriptografar(texto_criptografado, 23))"
   ]
  }
 ],
 "metadata": {
  "kernelspec": {
   "display_name": "Python 3",
   "language": "python",
   "name": "python3"
  },
  "language_info": {
   "codemirror_mode": {
    "name": "ipython",
    "version": 3
   },
   "file_extension": ".py",
   "mimetype": "text/x-python",
   "name": "python",
   "nbconvert_exporter": "python",
   "pygments_lexer": "ipython3",
   "version": "3.5.2"
  }
 },
 "nbformat": 4,
 "nbformat_minor": 2
}
