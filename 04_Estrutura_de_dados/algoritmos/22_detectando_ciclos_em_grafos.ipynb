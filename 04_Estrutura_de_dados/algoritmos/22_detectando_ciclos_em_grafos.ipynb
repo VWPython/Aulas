{
 "cells": [
  {
   "cell_type": "markdown",
   "metadata": {},
   "source": [
    "## Detectando ciclos em grafos\n",
    "***"
   ]
  },
  {
   "cell_type": "markdown",
   "metadata": {},
   "source": [
    "Um ciclo é quando você percorre um grafo e retorna para o ponto de origem\n",
    "\n",
    "![img](https://user-images.githubusercontent.com/14116020/60403796-232c5700-9b78-11e9-8b67-bb4394e11b46.png)\n",
    "\n",
    "Quando o grafo não contém ciclo ele é chamado de aciclico. Por exemplo, as árvores de decisão.\n",
    "\n",
    "Vertices adjacentes são vértices vizinhos, ou seja, A é adjacente de C, C é adjacente de B e B de A, formando um ciclo."
   ]
  },
  {
   "cell_type": "markdown",
   "metadata": {},
   "source": [
    "***\n",
    "### Exemplo\n",
    "***\n",
    "\n",
    "Esse algoritmo faz busca em profundidade para cada vértice, logo ele não é muito eficiente."
   ]
  },
  {
   "cell_type": "code",
   "execution_count": 1,
   "metadata": {},
   "outputs": [],
   "source": [
    "class Grafo(object):\n",
    "    \"\"\"\n",
    "    Grafo\n",
    "    \"\"\"\n",
    "    \n",
    "    def __init__(self, qtd_vertices):\n",
    "        \"\"\"\n",
    "        Construtor\n",
    "        \"\"\"\n",
    "        \n",
    "        self.lista_adjacente = [[] for i in range(qtd_vertices)]\n",
    "        self.qtd_vertices = qtd_vertices\n",
    "        \n",
    "    def adicionar_aresta(self, origem, destino):\n",
    "        \"\"\"\n",
    "        Adicionar o vértice de destino na lista\n",
    "        de adjacencia (vertices conectados ou vizinhos) da origem.\n",
    "        \"\"\"\n",
    "        \n",
    "        self.lista_adjacente[origem].append(destino)\n",
    "        \n",
    "    def busca_em_profundidade(self, vertice):\n",
    "        \"\"\"\n",
    "        Realiza uma busca em profundidade a partir de um vértice\n",
    "        e retorna se achou um ciclo ou não.\n",
    "        \"\"\"\n",
    "        \n",
    "        pilha, pilha_ciclo = [], []\n",
    "        visitados = [False for i in range(self.qtd_vertices)]\n",
    "        pilha_ciclo = [False for i in range(self.qtd_vertices)]\n",
    "        \n",
    "        while True:\n",
    "            achou_vizinho = False\n",
    "            \n",
    "            if not visitados[vertice]:\n",
    "                pilha.append(vertice)\n",
    "                visitados[vertice] = True\n",
    "                pilha_ciclo[vertice] = True\n",
    "                adjacente = None\n",
    "                \n",
    "            for vizinho in self.lista_adjacente[vertice]:\n",
    "                adjacente = vizinho\n",
    "                \n",
    "                # Se o vizinho está na pilha, é porque existe ciclo.\n",
    "                if pilha_ciclo[vizinho]:\n",
    "                    return True\n",
    "                # Se não está na pilha e não foi vizitado, indica que achou o vizinho\n",
    "                elif not visitados[vizinho]:\n",
    "                    achou_vizinho = True\n",
    "                    break\n",
    "                    \n",
    "            if not achou_vizinho:\n",
    "                # Marca que saiu da pilha.\n",
    "                pilha_ciclo[pilha[-1]] = False\n",
    "                pilha.pop() # Remove o ultimo elemento da pilha.\n",
    "                \n",
    "                if len(pilha) == 0:\n",
    "                    break\n",
    "                    \n",
    "                # seta o próximo vertice\n",
    "                vertice = pilha[-1]\n",
    "            else:\n",
    "                vertice = adjacente\n",
    "                \n",
    "        return False\n",
    "    \n",
    "    def tem_ciclo(self):\n",
    "        \"\"\"\n",
    "        Verifica se o gráfo tem ciclo.\n",
    "        \"\"\"\n",
    "        \n",
    "        for i in range(self.qtd_vertices):\n",
    "            if self.busca_em_profundidade(i):\n",
    "                return True\n",
    "            \n",
    "        return False"
   ]
  },
  {
   "cell_type": "code",
   "execution_count": 2,
   "metadata": {},
   "outputs": [],
   "source": [
    "grafo = Grafo(3)"
   ]
  },
  {
   "cell_type": "code",
   "execution_count": 3,
   "metadata": {},
   "outputs": [],
   "source": [
    "grafo.adicionar_aresta(0, 1)\n",
    "grafo.adicionar_aresta(1, 2)\n",
    "grafo.adicionar_aresta(2, 0)"
   ]
  },
  {
   "cell_type": "code",
   "execution_count": 4,
   "metadata": {},
   "outputs": [
    {
     "name": "stdout",
     "output_type": "stream",
     "text": [
      "True\n"
     ]
    }
   ],
   "source": [
    "print(grafo.tem_ciclo())"
   ]
  },
  {
   "cell_type": "code",
   "execution_count": 5,
   "metadata": {},
   "outputs": [],
   "source": [
    "grafo = Grafo(4)"
   ]
  },
  {
   "cell_type": "code",
   "execution_count": 6,
   "metadata": {},
   "outputs": [],
   "source": [
    "grafo.adicionar_aresta(0, 1)\n",
    "grafo.adicionar_aresta(1, 2)\n",
    "grafo.adicionar_aresta(2, 3)"
   ]
  },
  {
   "cell_type": "code",
   "execution_count": 7,
   "metadata": {},
   "outputs": [
    {
     "name": "stdout",
     "output_type": "stream",
     "text": [
      "False\n"
     ]
    }
   ],
   "source": [
    "print(grafo.tem_ciclo())"
   ]
  }
 ],
 "metadata": {
  "kernelspec": {
   "display_name": "Python 3",
   "language": "python",
   "name": "python3"
  },
  "language_info": {
   "codemirror_mode": {
    "name": "ipython",
    "version": 3
   },
   "file_extension": ".py",
   "mimetype": "text/x-python",
   "name": "python",
   "nbconvert_exporter": "python",
   "pygments_lexer": "ipython3",
   "version": "3.5.2"
  }
 },
 "nbformat": 4,
 "nbformat_minor": 2
}
