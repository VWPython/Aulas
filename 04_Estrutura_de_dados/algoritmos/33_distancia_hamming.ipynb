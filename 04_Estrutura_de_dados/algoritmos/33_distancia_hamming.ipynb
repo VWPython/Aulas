{
 "cells": [
  {
   "cell_type": "markdown",
   "metadata": {},
   "source": [
    "## Distância Hamming\n",
    "***\n",
    "\n",
    "A distância hamming entre duas strings é preciso que ambas as strings tenham comprimentos iguais.\n",
    "\n",
    "É o número de posições que correspondem a símbolos que são diferentes.\n",
    "\n",
    "Por exemplo: A distância hamming de marcos e marcus é 1 já que a única letra diferente é o (o, u)"
   ]
  },
  {
   "cell_type": "markdown",
   "metadata": {},
   "source": [
    "***\n",
    "### Exemplo\n",
    "***"
   ]
  },
  {
   "cell_type": "code",
   "execution_count": 1,
   "metadata": {},
   "outputs": [],
   "source": [
    "def hamming(string1, string2):\n",
    "    \"\"\"\n",
    "    Distância Hamming\n",
    "    \"\"\"\n",
    "    \n",
    "    if len(string1) != len(string2):\n",
    "        raise ValueError(\"Sequência de tamanhos diferentes\")\n",
    "        \n",
    "    contador = 0\n",
    "    for i in range(len(string1)):\n",
    "        if (string1[i] != string2[i]):\n",
    "            contador += 1\n",
    "            \n",
    "    return contador"
   ]
  },
  {
   "cell_type": "code",
   "execution_count": 2,
   "metadata": {},
   "outputs": [
    {
     "name": "stdout",
     "output_type": "stream",
     "text": [
      "1\n"
     ]
    }
   ],
   "source": [
    "print(hamming(\"marcos\", \"marcus\"))"
   ]
  },
  {
   "cell_type": "code",
   "execution_count": 3,
   "metadata": {},
   "outputs": [
    {
     "name": "stdout",
     "output_type": "stream",
     "text": [
      "3\n"
     ]
    }
   ],
   "source": [
    "print(hamming(\"0101\", \"1110\"))"
   ]
  }
 ],
 "metadata": {
  "kernelspec": {
   "display_name": "Python 3",
   "language": "python",
   "name": "python3"
  },
  "language_info": {
   "codemirror_mode": {
    "name": "ipython",
    "version": 3
   },
   "file_extension": ".py",
   "mimetype": "text/x-python",
   "name": "python",
   "nbconvert_exporter": "python",
   "pygments_lexer": "ipython3",
   "version": "3.5.2"
  }
 },
 "nbformat": 4,
 "nbformat_minor": 2
}
