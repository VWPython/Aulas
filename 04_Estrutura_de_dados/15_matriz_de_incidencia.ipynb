{
 "cells": [
  {
   "cell_type": "markdown",
   "metadata": {},
   "source": [
    "## Grafos - Matriz de Incidência\n",
    "***\n",
    "\n",
    "**Ideia**: associar vértices às linhas e arestas ás colunas.\n",
    "\n",
    "Elemento da matriz indica se aresta incide sobre o vértice.\n",
    "\n",
    "A grande diferença está nos grafos orientados\n",
    "\n",
    "#### Grafo não orientado\n",
    "\n",
    "![img](https://user-images.githubusercontent.com/14116020/45592014-66467200-b938-11e8-809a-c9853f9a875c.png)\n",
    "\n",
    "Matriz $n x m$ (n vértices e m arestas)\n",
    "\n",
    "* $a_{ij} = 1$, se o vértice $i$ incide sobre a aresta $j$\n",
    "\n",
    "\n",
    "* $a_{ij} = 0$, caso contrário\n",
    "\n",
    "No exemplo, o vértice 1 incide na aresta $e_1$ e $e_2$ e não incide na aresta $e_3$ e $e_4$\n",
    "\n",
    "Muito pouco utilizado comparado a Matriz e Lista de Adjacência.\n",
    "\n",
    "#### Grafo orientado\n",
    "\n",
    "![img](https://user-images.githubusercontent.com/14116020/45592028-eec51280-b938-11e8-9515-3edd878e7703.png)\n",
    "\n",
    "Matriz $n x m$ (n vértices e m arestas)\n",
    "\n",
    "* 1 se chegar no vértice\n",
    "\n",
    "\n",
    "* 0 se não há ligação\n",
    "\n",
    "\n",
    "* -1 se sai do vértice\n",
    "\n",
    "No exemplo, O vértice $A$ tem ligação (1) com $B$, não tem ligação com C e E (0) e tem ligação inversa com D (-1)\n",
    "\n",
    "Ou seja, eu tenho uma aresta de D para A, porém não tenho de A para D, diferente das matrizes de adjacência.\n",
    "\n",
    "Essa já é mais utilizada"
   ]
  },
  {
   "cell_type": "markdown",
   "metadata": {},
   "source": [
    "***"
   ]
  },
  {
   "cell_type": "code",
   "execution_count": 1,
   "metadata": {},
   "outputs": [],
   "source": [
    "class Grafo(object):\n",
    "    \"\"\"\n",
    "    Classe que representa um grafo.\n",
    "    \"\"\"\n",
    "    \n",
    "    def __init__(self, vertices):\n",
    "        \"\"\"\n",
    "        Construtor\n",
    "        \"\"\"\n",
    "        \n",
    "        self.vertices = vertices\n",
    "        self.grafo = [[0] * vertices for i in range(vertices)]\n",
    "        print(self.grafo)\n",
    "        \n",
    "    def add_aresta(self, u, v):\n",
    "        \"\"\"\n",
    "        Adicionar aresta em um grafo não dirigido com arco U a V.\n",
    "        \"\"\"\n",
    "        \n",
    "        # Indexa a partir do 0 tem que subtrair 1\n",
    "        self.grafo[u-1][v-1] = 1\n",
    "        self.grafo[v-1][u-1] = -1\n",
    "        \n",
    "    def show(self):\n",
    "        \"\"\"\n",
    "        Mostrar o grafo.\n",
    "        \"\"\"\n",
    "        \n",
    "        count = 0\n",
    "        header = [\"A\", \"B\", \"C\", \"D\", \"E\"]\n",
    "        print(\"     \", end=\"\")\n",
    "        for i in header:\n",
    "            print(i, end=\"  \")\n",
    "        \n",
    "        print(\"\")\n",
    "        \n",
    "        for lin in self.grafo:\n",
    "            print(\"%s [\" % header[count], end=\" \")\n",
    "            for col in lin:\n",
    "                if col >= 0:\n",
    "                    print(\" %d\" % col, end=\" \")\n",
    "                else:\n",
    "                    print(col, end=\" \")\n",
    "                \n",
    "            print(\"]\")\n",
    "            count += 1\n",
    "            \n",
    "    def tem_ligacao(self, u, v):\n",
    "        \"\"\"\n",
    "        Verifica se os vértices passados tem aresta ou ligação.\n",
    "        \"\"\"\n",
    "        \n",
    "        if self.grafo[u-1][v-1] == 1:\n",
    "            return True\n",
    "        \n",
    "        return False"
   ]
  },
  {
   "cell_type": "markdown",
   "metadata": {},
   "source": [
    "***"
   ]
  },
  {
   "cell_type": "code",
   "execution_count": 2,
   "metadata": {},
   "outputs": [
    {
     "name": "stdout",
     "output_type": "stream",
     "text": [
      "[[0, 0, 0, 0, 0], [0, 0, 0, 0, 0], [0, 0, 0, 0, 0], [0, 0, 0, 0, 0], [0, 0, 0, 0, 0]]\n"
     ]
    }
   ],
   "source": [
    "grafo = Grafo(5)"
   ]
  },
  {
   "cell_type": "code",
   "execution_count": 3,
   "metadata": {},
   "outputs": [],
   "source": [
    "# A=1, B=2, C=3, D=4, E=5\n",
    "grafo.add_aresta(1, 2)\n",
    "grafo.add_aresta(2, 3)\n",
    "grafo.add_aresta(2, 5)\n",
    "grafo.add_aresta(5, 3)\n",
    "grafo.add_aresta(4, 1)"
   ]
  },
  {
   "cell_type": "code",
   "execution_count": 4,
   "metadata": {},
   "outputs": [
    {
     "name": "stdout",
     "output_type": "stream",
     "text": [
      "     A  B  C  D  E  \n",
      "A [  0  1  0 -1  0 ]\n",
      "B [ -1  0  1  0  1 ]\n",
      "C [  0 -1  0  0 -1 ]\n",
      "D [  1  0  0  0  0 ]\n",
      "E [  0 -1  1  0  0 ]\n"
     ]
    }
   ],
   "source": [
    "grafo.show()"
   ]
  }
 ],
 "metadata": {
  "kernelspec": {
   "display_name": "Python 3",
   "language": "python",
   "name": "python3"
  },
  "language_info": {
   "codemirror_mode": {
    "name": "ipython",
    "version": 3
   },
   "file_extension": ".py",
   "mimetype": "text/x-python",
   "name": "python",
   "nbconvert_exporter": "python",
   "pygments_lexer": "ipython3",
   "version": "3.7.6"
  }
 },
 "nbformat": 4,
 "nbformat_minor": 2
}
