{
 "cells": [
  {
   "cell_type": "markdown",
   "metadata": {},
   "source": [
    "## Grafo - Lista de Adjacencia\n",
    "***\n",
    "\n",
    "![img](https://user-images.githubusercontent.com/14116020/45591978-ab1dd900-b937-11e8-836a-889d0e8ea64e.png)\n",
    "\n",
    "Agora iremos aprender outra forma de representar um grafo chamada de lista de adjacência.\n",
    "\n",
    "A lista de adjacência nada mais é do que criar um vetor para cada vértice.\n",
    "\n",
    "Esse vetor contém cada vértice que o vértice conhece.\n",
    "\n",
    "Dependendo de como você programa, as buscas são bem mais rápidas, pois você só irá passar pelos vértices \"amigos\" do vértice corrente.\n",
    "\n",
    "A lista consiste em escrever para cada número de linha (vértice) os amigos.\n",
    "\n",
    "No exemplo 1 tem como amigos o 2 e o 3, o 2 tem como amigo o 1, 3, 4 e assim por diante."
   ]
  },
  {
   "cell_type": "markdown",
   "metadata": {},
   "source": [
    "***"
   ]
  },
  {
   "cell_type": "code",
   "execution_count": 1,
   "metadata": {},
   "outputs": [],
   "source": [
    "class Grafo:\n",
    "    \"\"\"\n",
    "    Classe que representa o grafo\n",
    "    \"\"\"\n",
    "    \n",
    "    def __init__(self, vertices):\n",
    "        \"\"\"\n",
    "        Construtor\n",
    "        \"\"\"\n",
    "        \n",
    "        self.vertices = vertices\n",
    "        self.grafo = [[] for i in range(vertices)]\n",
    "        print(self.grafo)\n",
    "        \n",
    "    def add_aresta(self, u, v):\n",
    "        \"\"\"\n",
    "        Adicionar uma aresta orientado.\n",
    "        \"\"\"\n",
    "        \n",
    "        # Adiciona o V na lista de U e vice-versa\n",
    "        self.grafo[u-1].append(v-1)\n",
    "        self.grafo[v-1].append(u-1)\n",
    "        \n",
    "    def show(self):\n",
    "        \"\"\"\n",
    "        Mostrar grafo\n",
    "        \"\"\"\n",
    "        \n",
    "        for v in range(self.vertices):\n",
    "            print(\"%d: [ \" % (v+1), end=\"\")\n",
    "            for node in self.grafo[v]:\n",
    "                print(\"%d \" % (node+1), end=\"\")\n",
    "                \n",
    "            print(\"]\")"
   ]
  },
  {
   "cell_type": "markdown",
   "metadata": {},
   "source": [
    "***"
   ]
  },
  {
   "cell_type": "code",
   "execution_count": 2,
   "metadata": {},
   "outputs": [
    {
     "name": "stdout",
     "output_type": "stream",
     "text": [
      "[[], [], [], [], []]\n"
     ]
    }
   ],
   "source": [
    "grafo = Grafo(5)"
   ]
  },
  {
   "cell_type": "code",
   "execution_count": 3,
   "metadata": {},
   "outputs": [],
   "source": [
    "# A=1, B=2, C=3, D=4, E=5\n",
    "grafo.add_aresta(1, 2)\n",
    "grafo.add_aresta(1, 3)\n",
    "grafo.add_aresta(2, 3)\n",
    "grafo.add_aresta(2, 4)\n",
    "grafo.add_aresta(4, 5)"
   ]
  },
  {
   "cell_type": "code",
   "execution_count": 4,
   "metadata": {},
   "outputs": [
    {
     "name": "stdout",
     "output_type": "stream",
     "text": [
      "1: [ 2 3 ]\n",
      "2: [ 1 3 4 ]\n",
      "3: [ 1 2 ]\n",
      "4: [ 2 5 ]\n",
      "5: [ 4 ]\n"
     ]
    }
   ],
   "source": [
    "grafo.show()"
   ]
  }
 ],
 "metadata": {
  "kernelspec": {
   "display_name": "Python 3",
   "language": "python",
   "name": "python3"
  },
  "language_info": {
   "codemirror_mode": {
    "name": "ipython",
    "version": 3
   },
   "file_extension": ".py",
   "mimetype": "text/x-python",
   "name": "python",
   "nbconvert_exporter": "python",
   "pygments_lexer": "ipython3",
   "version": "3.7.6"
  }
 },
 "nbformat": 4,
 "nbformat_minor": 2
}
