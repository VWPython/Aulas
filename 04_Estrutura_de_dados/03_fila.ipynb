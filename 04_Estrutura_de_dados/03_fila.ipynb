{
 "cells": [
  {
   "cell_type": "markdown",
   "metadata": {},
   "source": [
    "## Fila (Queue)\n",
    "***\n",
    "\n",
    "![img](https://middleclassfury.files.wordpress.com/2013/01/7398-queue_article1.jpg?w=640)\n",
    "\n",
    "A Fila tem a propriedade (FIFO - First In First Out), ou seja, o primeiro elemento a entrar é o primeiro a sai.\n",
    "\n",
    "É como se fosse a fila de um banco, a primeira pessoa que chegou na fila é a primeira pessoa a ser atendida e a primeira a sair da fila\n",
    "\n",
    "Insere ao final e Remove do inicio\n",
    "\n",
    "Também chamada de **Queue**"
   ]
  },
  {
   "cell_type": "markdown",
   "metadata": {},
   "source": [
    "***"
   ]
  },
  {
   "cell_type": "code",
   "execution_count": 1,
   "metadata": {},
   "outputs": [],
   "source": [
    "class Queue(object):\n",
    "    \"\"\"\n",
    "    Fila\n",
    "    \"\"\"\n",
    "    \n",
    "    def __init__(self):\n",
    "        \"\"\"\n",
    "        Construtor\n",
    "        \"\"\"\n",
    "        \n",
    "        self.queue = []\n",
    "        self.count = 0\n",
    "        \n",
    "    def push(self, element):\n",
    "        \"\"\"\n",
    "        Inserir um elemento ao final da fila\n",
    "        \"\"\"\n",
    "        \n",
    "        self.queue.append(element)\n",
    "        self.count += 1\n",
    "        \n",
    "    def pop(self):\n",
    "        \"\"\"\n",
    "        Remover o primeiro elemento da fila\n",
    "        \"\"\"\n",
    "        \n",
    "        if not self.empty():\n",
    "            self.queue.pop(0)\n",
    "            self.count -= 1\n",
    "            \n",
    "    def front(self):\n",
    "        \"\"\"\n",
    "        Pega o primeiro elemento da fila\n",
    "        \"\"\"\n",
    "        \n",
    "        if not self.empty():\n",
    "            return self.queue[0]\n",
    "        \n",
    "        return None\n",
    "        \n",
    "    def empty(self):\n",
    "        \"\"\"\n",
    "        Verificar se a fila ta vazia\n",
    "        \"\"\"\n",
    "        \n",
    "        if self.count == 0:\n",
    "            return True\n",
    "        \n",
    "        return False\n",
    "    \n",
    "    def length(self):\n",
    "        \"\"\"\n",
    "        Retorna o tamanho da fila\n",
    "        \"\"\"\n",
    "        \n",
    "        return self.count"
   ]
  },
  {
   "cell_type": "code",
   "execution_count": 2,
   "metadata": {},
   "outputs": [],
   "source": [
    "fila = Queue()\n",
    "fila.push(\"Mario\")\n",
    "fila.push(\"João\")\n",
    "fila.push(\"Pedro\")"
   ]
  },
  {
   "cell_type": "code",
   "execution_count": 3,
   "metadata": {},
   "outputs": [
    {
     "name": "stdout",
     "output_type": "stream",
     "text": [
      "Mario\n"
     ]
    }
   ],
   "source": [
    "print(fila.front())"
   ]
  },
  {
   "cell_type": "code",
   "execution_count": 4,
   "metadata": {},
   "outputs": [
    {
     "name": "stdout",
     "output_type": "stream",
     "text": [
      "João\n"
     ]
    }
   ],
   "source": [
    "fila.pop()\n",
    "print(fila.front())"
   ]
  },
  {
   "cell_type": "code",
   "execution_count": 5,
   "metadata": {},
   "outputs": [
    {
     "name": "stdout",
     "output_type": "stream",
     "text": [
      "0\n",
      "True\n"
     ]
    }
   ],
   "source": [
    "fila.pop()\n",
    "fila.pop()\n",
    "print(fila.length())\n",
    "print(fila.empty())"
   ]
  }
 ],
 "metadata": {
  "kernelspec": {
   "display_name": "Python 3",
   "language": "python",
   "name": "python3"
  },
  "language_info": {
   "codemirror_mode": {
    "name": "ipython",
    "version": 3
   },
   "file_extension": ".py",
   "mimetype": "text/x-python",
   "name": "python",
   "nbconvert_exporter": "python",
   "pygments_lexer": "ipython3",
   "version": "3.7.6"
  }
 },
 "nbformat": 4,
 "nbformat_minor": 2
}
