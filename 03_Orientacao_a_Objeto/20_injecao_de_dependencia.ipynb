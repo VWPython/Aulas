{
 "cells": [
  {
   "cell_type": "markdown",
   "metadata": {},
   "source": [
    "## Injeção de dependência\n",
    "***"
   ]
  },
  {
   "cell_type": "markdown",
   "metadata": {},
   "source": [
    "É uma técnica de programação utilizada quando se deseja manter um baixo nível de acoplamento entre os módulos do sistema.\n",
    "\n",
    "Baixo acoplamento é quando se tem pouca dependência em relação a outra coisa.\n",
    "\n",
    "Dependência é quando você tem uma classe utilizando o serviço de outra classe, ou seja, essa classe ta dependêndo da outra classe.\n",
    "\n",
    "Quando você tem a injeção de dependência, quem ta requisitando fornece a depêndencia ao provedor.\n",
    "\n",
    "Exemplo:\n",
    "\n",
    "A função sorted vc precisa inserir a função de comparação para realizar a operação, ou seja, não há dependência entre a função sorted e a função inserida (no exemplo, a função **len**, vai ordenar a lista pelo tamanho da string) para comparar os valores e ordena-los.\n",
    "\n",
    "Ela também tem uma função default caso não passe nenhuma para ela."
   ]
  },
  {
   "cell_type": "markdown",
   "metadata": {},
   "source": [
    "***\n",
    "### Exemplo\n",
    "***"
   ]
  },
  {
   "cell_type": "code",
   "execution_count": 1,
   "metadata": {},
   "outputs": [],
   "source": [
    "linguagens = ['python', 'php', 'C', 'ruby', 'lua']"
   ]
  },
  {
   "cell_type": "code",
   "execution_count": 2,
   "metadata": {},
   "outputs": [
    {
     "data": {
      "text/plain": [
       "['C', 'php', 'lua', 'ruby', 'python']"
      ]
     },
     "execution_count": 2,
     "metadata": {},
     "output_type": "execute_result"
    }
   ],
   "source": [
    "sorted(linguagens, key=len)"
   ]
  }
 ],
 "metadata": {
  "kernelspec": {
   "display_name": "Python 3",
   "language": "python",
   "name": "python3"
  },
  "language_info": {
   "codemirror_mode": {
    "name": "ipython",
    "version": 3
   },
   "file_extension": ".py",
   "mimetype": "text/x-python",
   "name": "python",
   "nbconvert_exporter": "python",
   "pygments_lexer": "ipython3",
   "version": "3.5.2"
  }
 },
 "nbformat": 4,
 "nbformat_minor": 2
}
