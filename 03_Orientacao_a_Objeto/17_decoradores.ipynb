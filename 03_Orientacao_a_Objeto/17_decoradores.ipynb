{
 "cells": [
  {
   "cell_type": "markdown",
   "metadata": {},
   "source": [
    "# Decoradores de métodos e classes\n",
    "***"
   ]
  },
  {
   "cell_type": "markdown",
   "metadata": {},
   "source": [
    "Algumas funções construídas por um programador pode sofrer modificações ao longo do desenvolvimento do aplicativo, o que significa que tudo o que um programador escreve deve estar apto a sofrer modificações.\n",
    "\n",
    "Em python existe uma forma simples de adicionar funcionalidades a uma dada função a partir de outra função DECORADORA.\n",
    "\n",
    "Decoradores de métodos funcionam assim como decoradores de classe, dessa forma basta criar uma função decoradora e aplica-la a um método usando a sintaxe do @\n",
    "\n",
    "**Decorator**: É um design pattern que permite adicionar um comportamento a um objeto em tempo de execução, dinamicamente.\n",
    "\n",
    "* É uma função que recebe outra função como parâmetro, gerando uma nova função que adiciona algumas funcionalidades a função original e a retorna essa nova função.\n",
    "\n",
    "\n",
    "* Normalmente usado para trechos de códigos que vive se repetindo dentro de diversas funções, podemos criar um decorador para inserir esse trecho de maneira dinamica nessas funções, isso é valido para o principio Don't Repeat Youself.\n",
    "\n",
    "\n",
    "* Tem a sintaxe de **@alguma_coisa**\n",
    "\n",
    "\n",
    "* Basicamente um decorator irá pegar sua função e modifica-la.\n",
    "\n",
    "\n",
    "* Uma mesma função/metodo pode ter mais de um decorador, e é executado na ordem de cima para baixo dos decoradores inseridos\n",
    "\n",
    "Alguns decoradores de métodos populares:\n",
    "\n",
    "* **@staticmethod**: Indica que o dado método é estatico, logo deverá ser chamado usando a classe e não uma instância da classe, assim a instância não deve ser passada como argumento. Quando eu decoro com isso eu indico que não preciso de uma instancia (self) sendo passada como argumento do método em sua implementação.\n",
    "\n",
    "\n",
    "* **@classmethod**: Ao inves de instância ser passada com argumento para o método, a classe será passada como argumento.\n",
    "\n",
    "\n",
    "* **@property**: Coloca uma propriedade/atributo em modo somente de leitura\n",
    "\n",
    "Decoradores de classe vão mudar todo o funcionamento de uma dada classe, por exemplo, você pode criar o decorador **singleton** que faz com que apenas uma instância de classe possa ser criada.\n",
    "\n",
    "Uma classe decoradora consiste numa classe que irá decorar a outra, logo a classe decoradora deverá receber uma classe como argumento, por exemplo, suponhamos que se queira acompanhar os métodos usados por uma determinada classe. Iremos criar uma classe decoradora Trace que permitirá acompanhar a execução de uma classe decorada por ela."
   ]
  },
  {
   "cell_type": "markdown",
   "metadata": {},
   "source": [
    "***\n",
    "### @staticmethod\n",
    "***"
   ]
  },
  {
   "cell_type": "code",
   "execution_count": 1,
   "metadata": {},
   "outputs": [],
   "source": [
    "class A(object):\n",
    "    \n",
    "    @staticmethod\n",
    "    def method1(*args):\n",
    "        # Não preciso do self\n",
    "        return args\n",
    "        \n",
    "    def method2(*args):\n",
    "        # Preciso do self\n",
    "        return args"
   ]
  },
  {
   "cell_type": "code",
   "execution_count": 2,
   "metadata": {},
   "outputs": [],
   "source": [
    "a = A()"
   ]
  },
  {
   "cell_type": "code",
   "execution_count": 3,
   "metadata": {},
   "outputs": [
    {
     "name": "stdout",
     "output_type": "stream",
     "text": [
      "(1, 2, 3, 4)\n",
      "(<__main__.A object at 0x7f30d82c4ba8>, 1, 2, 3, 4)\n"
     ]
    }
   ],
   "source": [
    "print(a.method1(1, 2, 3, 4))\n",
    "print(a.method2(1, 2, 3, 4))"
   ]
  },
  {
   "cell_type": "markdown",
   "metadata": {},
   "source": [
    "***\n",
    "### @classmethod\n",
    "***"
   ]
  },
  {
   "cell_type": "code",
   "execution_count": 4,
   "metadata": {},
   "outputs": [],
   "source": [
    "class A(object):\n",
    "    \n",
    "    @classmethod\n",
    "    def method1(cls, *args):\n",
    "        # Preciso do cls\n",
    "        return args\n",
    "        \n",
    "    @classmethod\n",
    "    def method2(*args):\n",
    "        # Preciso do cls\n",
    "        return args"
   ]
  },
  {
   "cell_type": "code",
   "execution_count": 5,
   "metadata": {},
   "outputs": [],
   "source": [
    "a = A()"
   ]
  },
  {
   "cell_type": "code",
   "execution_count": 6,
   "metadata": {},
   "outputs": [
    {
     "name": "stdout",
     "output_type": "stream",
     "text": [
      "(1, 2, 3, 4)\n",
      "(<class '__main__.A'>, 1, 2, 3, 4)\n"
     ]
    }
   ],
   "source": [
    "print(a.method1(1, 2, 3, 4))\n",
    "print(a.method2(1, 2, 3, 4))"
   ]
  },
  {
   "cell_type": "markdown",
   "metadata": {},
   "source": [
    "***\n",
    "### @overrides\n",
    "***"
   ]
  },
  {
   "cell_type": "code",
   "execution_count": 7,
   "metadata": {},
   "outputs": [],
   "source": [
    "# Cria o decorador\n",
    "def overrides(interface):\n",
    "    \n",
    "    def decorator(method):\n",
    "        # Verifica se o nome do método está contido dentro do dicionario\n",
    "        # que define a classe interface\n",
    "        if method.__name__ in dir(interface):\n",
    "            return method\n",
    "        else:\n",
    "            raise Exception(\n",
    "                \"Erro na escrita do método {0} o nome correto está na classe {1}\"\n",
    "                .format(method.__name__, interface.__name__)\n",
    "            )\n",
    "    \n",
    "    return decorator"
   ]
  },
  {
   "cell_type": "code",
   "execution_count": 8,
   "metadata": {},
   "outputs": [],
   "source": [
    "class SuperClass(object):\n",
    "    \n",
    "    def method(self):\n",
    "        pass"
   ]
  },
  {
   "cell_type": "code",
   "execution_count": 9,
   "metadata": {},
   "outputs": [],
   "source": [
    "class SubClass(SuperClass):\n",
    "    \n",
    "    @overrides(SuperClass)\n",
    "    def method(self):\n",
    "        print(\"Olá Marte!\")"
   ]
  },
  {
   "cell_type": "code",
   "execution_count": 10,
   "metadata": {},
   "outputs": [
    {
     "ename": "Exception",
     "evalue": "Erro na escrita do método methods o nome correto está na classe SuperClass",
     "output_type": "error",
     "traceback": [
      "\u001b[0;31m---------------------------------------------------------------------------\u001b[0m",
      "\u001b[0;31mException\u001b[0m                                 Traceback (most recent call last)",
      "\u001b[0;32m<ipython-input-10-5d14301d3f1a>\u001b[0m in \u001b[0;36m<module>\u001b[0;34m\u001b[0m\n\u001b[0;32m----> 1\u001b[0;31m \u001b[0;32mclass\u001b[0m \u001b[0mError\u001b[0m\u001b[0;34m(\u001b[0m\u001b[0mSuperClass\u001b[0m\u001b[0;34m)\u001b[0m\u001b[0;34m:\u001b[0m\u001b[0;34m\u001b[0m\u001b[0m\n\u001b[0m\u001b[1;32m      2\u001b[0m \u001b[0;34m\u001b[0m\u001b[0m\n\u001b[1;32m      3\u001b[0m     \u001b[0;34m@\u001b[0m\u001b[0moverrides\u001b[0m\u001b[0;34m(\u001b[0m\u001b[0mSuperClass\u001b[0m\u001b[0;34m)\u001b[0m\u001b[0;34m\u001b[0m\u001b[0m\n\u001b[1;32m      4\u001b[0m     \u001b[0;32mdef\u001b[0m \u001b[0mmethods\u001b[0m\u001b[0;34m(\u001b[0m\u001b[0mself\u001b[0m\u001b[0;34m)\u001b[0m\u001b[0;34m:\u001b[0m\u001b[0;34m\u001b[0m\u001b[0m\n\u001b[1;32m      5\u001b[0m         \u001b[0mprint\u001b[0m\u001b[0;34m(\u001b[0m\u001b[0;34m\"Olá Erro!\"\u001b[0m\u001b[0;34m)\u001b[0m\u001b[0;34m\u001b[0m\u001b[0m\n",
      "\u001b[0;32m<ipython-input-10-5d14301d3f1a>\u001b[0m in \u001b[0;36mError\u001b[0;34m()\u001b[0m\n\u001b[1;32m      1\u001b[0m \u001b[0;32mclass\u001b[0m \u001b[0mError\u001b[0m\u001b[0;34m(\u001b[0m\u001b[0mSuperClass\u001b[0m\u001b[0;34m)\u001b[0m\u001b[0;34m:\u001b[0m\u001b[0;34m\u001b[0m\u001b[0m\n\u001b[1;32m      2\u001b[0m \u001b[0;34m\u001b[0m\u001b[0m\n\u001b[0;32m----> 3\u001b[0;31m     \u001b[0;34m@\u001b[0m\u001b[0moverrides\u001b[0m\u001b[0;34m(\u001b[0m\u001b[0mSuperClass\u001b[0m\u001b[0;34m)\u001b[0m\u001b[0;34m\u001b[0m\u001b[0m\n\u001b[0m\u001b[1;32m      4\u001b[0m     \u001b[0;32mdef\u001b[0m \u001b[0mmethods\u001b[0m\u001b[0;34m(\u001b[0m\u001b[0mself\u001b[0m\u001b[0;34m)\u001b[0m\u001b[0;34m:\u001b[0m\u001b[0;34m\u001b[0m\u001b[0m\n\u001b[1;32m      5\u001b[0m         \u001b[0mprint\u001b[0m\u001b[0;34m(\u001b[0m\u001b[0;34m\"Olá Erro!\"\u001b[0m\u001b[0;34m)\u001b[0m\u001b[0;34m\u001b[0m\u001b[0m\n",
      "\u001b[0;32m<ipython-input-7-aa4a9837f8ff>\u001b[0m in \u001b[0;36mdecorator\u001b[0;34m(method)\u001b[0m\n\u001b[1;32m     10\u001b[0m             raise Exception(\n\u001b[1;32m     11\u001b[0m                 \u001b[0;34m\"Erro na escrita do método {0} o nome correto está na classe {1}\"\u001b[0m\u001b[0;34m\u001b[0m\u001b[0m\n\u001b[0;32m---> 12\u001b[0;31m                 \u001b[0;34m.\u001b[0m\u001b[0mformat\u001b[0m\u001b[0;34m(\u001b[0m\u001b[0mmethod\u001b[0m\u001b[0;34m.\u001b[0m\u001b[0m__name__\u001b[0m\u001b[0;34m,\u001b[0m \u001b[0minterface\u001b[0m\u001b[0;34m.\u001b[0m\u001b[0m__name__\u001b[0m\u001b[0;34m)\u001b[0m\u001b[0;34m\u001b[0m\u001b[0m\n\u001b[0m\u001b[1;32m     13\u001b[0m             )\n\u001b[1;32m     14\u001b[0m \u001b[0;34m\u001b[0m\u001b[0m\n",
      "\u001b[0;31mException\u001b[0m: Erro na escrita do método methods o nome correto está na classe SuperClass"
     ]
    }
   ],
   "source": [
    "class Error(SuperClass):\n",
    "    \n",
    "    @overrides(SuperClass)\n",
    "    def methods(self):\n",
    "        print(\"Olá Erro!\")"
   ]
  },
  {
   "cell_type": "markdown",
   "metadata": {},
   "source": [
    "***\n",
    "### Decorador de classe\n",
    "***"
   ]
  },
  {
   "cell_type": "code",
   "execution_count": 11,
   "metadata": {},
   "outputs": [],
   "source": [
    "instancias = {}\n",
    "def singleton(classe):\n",
    "    \"\"\"\n",
    "    Decorador que faz uma classe ter uma única instância\n",
    "    \"\"\"\n",
    "    \n",
    "    def class_decorator(*args, **kwargs):\n",
    "        if classe not in instancias:\n",
    "            instancias[classe] = classe(*args, **kwargs)\n",
    "        return instancias[classe]\n",
    "    \n",
    "    return class_decorator"
   ]
  },
  {
   "cell_type": "code",
   "execution_count": 12,
   "metadata": {},
   "outputs": [],
   "source": [
    "@singleton\n",
    "class Person(object):\n",
    "    \n",
    "    def __init__(self, name, time, lucre):\n",
    "        self.name = name\n",
    "        self.time = time\n",
    "        self.lucre = lucre\n",
    "        \n",
    "    def pay(self):\n",
    "        return self.time * self.lucre"
   ]
  },
  {
   "cell_type": "code",
   "execution_count": 13,
   "metadata": {},
   "outputs": [
    {
     "name": "stdout",
     "output_type": "stream",
     "text": [
      "Victor 400\n",
      "Victor 400\n"
     ]
    }
   ],
   "source": [
    "person = Person(\"Victor\", 40, 10)\n",
    "print(person.name, person.pay())\n",
    "person = Person(\"Sue\", 20, 35)\n",
    "print(person.name, person.pay())"
   ]
  },
  {
   "cell_type": "markdown",
   "metadata": {},
   "source": [
    "***\n",
    "### Classe como decorador\n",
    "***"
   ]
  },
  {
   "cell_type": "code",
   "execution_count": 14,
   "metadata": {},
   "outputs": [],
   "source": [
    "class Tracer(object):\n",
    "    \n",
    "    def __init__(self, classe):\n",
    "        self.classe = classe\n",
    "        \n",
    "    def __call__(self, *args):\n",
    "        self.wrapped = self.classe(*args)\n",
    "        return self\n",
    "    \n",
    "    # Como trace não tem o método display ele passa pelo metodo __getattr__\n",
    "    # geattr() retorna o atributo attribute de self.wrapped\n",
    "    def __getattr__(self, attribute):\n",
    "        print(\"Acompanhando: \" + attribute)\n",
    "        return getattr(self.wrapped, attribute)"
   ]
  },
  {
   "cell_type": "code",
   "execution_count": 15,
   "metadata": {},
   "outputs": [],
   "source": [
    "@Tracer\n",
    "class Spam(object):\n",
    "    \n",
    "    def display(self):\n",
    "        print(\"Spam!\" * 5)"
   ]
  },
  {
   "cell_type": "code",
   "execution_count": 16,
   "metadata": {},
   "outputs": [
    {
     "name": "stdout",
     "output_type": "stream",
     "text": [
      "Acompanhando: display\n",
      "Spam!Spam!Spam!Spam!Spam!\n"
     ]
    }
   ],
   "source": [
    "# Vamos começar os testes\n",
    "spam = Spam()\n",
    "spam.display()"
   ]
  },
  {
   "cell_type": "markdown",
   "metadata": {},
   "source": [
    "***\n",
    "### Como funciona o Decorator do python\n",
    "***"
   ]
  },
  {
   "cell_type": "markdown",
   "metadata": {},
   "source": [
    "Um decorator em Python é uma função que tem como retorno outra função que pode executar um código antes ou depois da função que ele decora.\n",
    "\n",
    "Ela recebe como parâmetro outra função (poderia ser um método também, não importa) que o nosso decorator irá modificar/melhorar.\n",
    "\n",
    "Passos:\n",
    "\n",
    "* Decoretor recebe como parâmetro a função que será adicionada.\n",
    "\n",
    "\n",
    "* Empacote o método com o wrapper passando como parâmetro os mesmo parâmetros passados para a função, junto com o self para identificar qual o contexto está sendo aplicado caso tenha usado com um método de classe. Se tiver usado com função não precisa do self (nosso caso.)\n",
    "\n",
    "\n",
    "* Podemos aplicar N decorators na função calcula, porém ela ficará para sempre na função, diferente do decoretor criado com DesignPatterns que será inserido dinamicamente em tempo de execução"
   ]
  },
  {
   "cell_type": "code",
   "execution_count": 17,
   "metadata": {},
   "outputs": [],
   "source": [
    "def imprime(frase):\n",
    "    \"\"\"\n",
    "    Função simples que imprime uma frase\n",
    "    \"\"\"\n",
    "    \n",
    "    print(frase)"
   ]
  },
  {
   "cell_type": "code",
   "execution_count": 18,
   "metadata": {},
   "outputs": [
    {
     "name": "stdout",
     "output_type": "stream",
     "text": [
      "Olá\n"
     ]
    }
   ],
   "source": [
    "imprime(\"Olá\")"
   ]
  },
  {
   "cell_type": "code",
   "execution_count": 19,
   "metadata": {},
   "outputs": [],
   "source": [
    "# Criando o decorator\n",
    "\n",
    "def imprime_com_destaque(imprime):\n",
    "    \"\"\"\n",
    "    Chama o método ou função imprime e insere um cabeçalho nele.\n",
    "    \"\"\"\n",
    "    \n",
    "    def wrapper(frase):\n",
    "        \"\"\"\n",
    "        Empacote o método imprime e retorna o mesmo método com o\n",
    "        cabeçalho antes e depois da execução do mesmo\n",
    "        \"\"\"\n",
    "    \n",
    "        # Código executado antes de executar a função\n",
    "        print(\"****\")\n",
    "\n",
    "        # Executa a função decorada.\n",
    "        imprime(frase)\n",
    "\n",
    "        # Código executado depois de executar a função\n",
    "        print(\"****\")\n",
    "    \n",
    "    # Retorna o empacotador\n",
    "    return wrapper\n"
   ]
  },
  {
   "cell_type": "code",
   "execution_count": 20,
   "metadata": {},
   "outputs": [],
   "source": [
    "# Função decorada\n",
    "\n",
    "@imprime_com_destaque\n",
    "def imprime(frase):\n",
    "    \"\"\"\n",
    "    Função simples que imprime uma frase\n",
    "    \"\"\"\n",
    "    print(frase)"
   ]
  },
  {
   "cell_type": "code",
   "execution_count": 21,
   "metadata": {},
   "outputs": [
    {
     "name": "stdout",
     "output_type": "stream",
     "text": [
      "****\n",
      "Olá\n",
      "****\n"
     ]
    }
   ],
   "source": [
    "imprime('Olá')"
   ]
  },
  {
   "cell_type": "markdown",
   "metadata": {},
   "source": [
    "***"
   ]
  },
  {
   "cell_type": "code",
   "execution_count": 22,
   "metadata": {},
   "outputs": [],
   "source": [
    "# Criando um decorator que substitua por completo a função original\n",
    "def header(function):\n",
    "\n",
    "    def print_header(name):\n",
    "        print(\"**********************\")\n",
    "        print(\"-- Bem Vindo %s --\" % name)\n",
    "        print(\"**********************\")\n",
    "        return True\n",
    "    \n",
    "    return print_header"
   ]
  },
  {
   "cell_type": "code",
   "execution_count": 23,
   "metadata": {},
   "outputs": [],
   "source": [
    "# Ao utilizar o decorator header, ao inves de imprimir\n",
    "# Meu nome é Victor irá imprimir o cabeçalho definido no decorator\n",
    "@header\n",
    "def hello_world(name):\n",
    "    print(\"Meu nome é %s\" % name)"
   ]
  },
  {
   "cell_type": "code",
   "execution_count": 24,
   "metadata": {},
   "outputs": [
    {
     "name": "stdout",
     "output_type": "stream",
     "text": [
      "**********************\n",
      "-- Bem Vindo Victor --\n",
      "**********************\n"
     ]
    },
    {
     "data": {
      "text/plain": [
       "True"
      ]
     },
     "execution_count": 24,
     "metadata": {},
     "output_type": "execute_result"
    }
   ],
   "source": [
    "# Com isso definimos que o hello_world é a função header\n",
    "hello_world(\"Victor\")"
   ]
  },
  {
   "cell_type": "markdown",
   "metadata": {},
   "source": [
    "***"
   ]
  },
  {
   "cell_type": "code",
   "execution_count": 25,
   "metadata": {},
   "outputs": [],
   "source": [
    "# Criando um decorator que adicione funcionalidades a função original\n",
    "def header(function):\n",
    "\n",
    "    def print_header(name):\n",
    "        print(\"*********************\")\n",
    "        print(\"   -- Bem Vindo --   \")\n",
    "        print(\"*********************\")\n",
    "        function(name)\n",
    "    \n",
    "    return print_header"
   ]
  },
  {
   "cell_type": "code",
   "execution_count": 26,
   "metadata": {},
   "outputs": [],
   "source": [
    "# Ao utilizar o decorator header, iremos imprimir o\n",
    "# cabeçalho definido no decorator e o definido no hello_world\n",
    "@header\n",
    "def hello_world(name):\n",
    "    print(\"Meu nome é %s\" % name)"
   ]
  },
  {
   "cell_type": "code",
   "execution_count": 27,
   "metadata": {},
   "outputs": [
    {
     "name": "stdout",
     "output_type": "stream",
     "text": [
      "*********************\n",
      "   -- Bem Vindo --   \n",
      "*********************\n",
      "Meu nome é Victor\n"
     ]
    }
   ],
   "source": [
    "# Com isso definimos que o hello_world é a função header\n",
    "hello_world(\"Victor\")"
   ]
  },
  {
   "cell_type": "markdown",
   "metadata": {},
   "source": [
    "***"
   ]
  },
  {
   "cell_type": "code",
   "execution_count": 28,
   "metadata": {},
   "outputs": [],
   "source": [
    "# O que acontece por debaixo dos panos\n",
    "def header(function):\n",
    "\n",
    "    def print_header(name):\n",
    "        print(\"*********************\")\n",
    "        print(\"   -- Bem Vindo --   \")\n",
    "        print(\"*********************\")\n",
    "        function(name)\n",
    "    \n",
    "    return print_header"
   ]
  },
  {
   "cell_type": "code",
   "execution_count": 29,
   "metadata": {},
   "outputs": [],
   "source": [
    "def hello_world(name):\n",
    "    print(\"Meu nome é %s\" % name)"
   ]
  },
  {
   "cell_type": "code",
   "execution_count": 30,
   "metadata": {},
   "outputs": [
    {
     "name": "stdout",
     "output_type": "stream",
     "text": [
      "*********************\n",
      "   -- Bem Vindo --   \n",
      "*********************\n",
      "Meu nome é Victor\n"
     ]
    }
   ],
   "source": [
    "hello_world = header(hello_world)\n",
    "hello_world(\"Victor\")"
   ]
  },
  {
   "cell_type": "markdown",
   "metadata": {},
   "source": [
    "***"
   ]
  },
  {
   "cell_type": "code",
   "execution_count": 31,
   "metadata": {},
   "outputs": [],
   "source": [
    "# Aninhamento de decoradores\n",
    "def p_decorator(function):\n",
    "    \n",
    "    def decorator(number1, number2):\n",
    "        return \"<p>\" + function(number1, number2) + \"</p>\"\n",
    "    \n",
    "    return decorator"
   ]
  },
  {
   "cell_type": "code",
   "execution_count": 32,
   "metadata": {},
   "outputs": [],
   "source": [
    "def div_decorator(function):\n",
    "    \n",
    "    def decorator(number1, number2):\n",
    "        return \"<div>\" + function(number1, number2) + \"</div>\"\n",
    "    \n",
    "    return decorator"
   ]
  },
  {
   "cell_type": "code",
   "execution_count": 33,
   "metadata": {},
   "outputs": [],
   "source": [
    "def strong_decorator(function):\n",
    "    \n",
    "    def decorator(number1, number2):\n",
    "        return \"<strong>\" + function(number1, number2) + \"</strong>\"\n",
    "    \n",
    "    return decorator"
   ]
  },
  {
   "cell_type": "code",
   "execution_count": 34,
   "metadata": {},
   "outputs": [],
   "source": [
    "@p_decorator\n",
    "@div_decorator\n",
    "@strong_decorator\n",
    "def resultHTML(number1, number2):\n",
    "    return \"Resultado: %s\" % (number1 * number2)"
   ]
  },
  {
   "cell_type": "code",
   "execution_count": 35,
   "metadata": {},
   "outputs": [
    {
     "name": "stdout",
     "output_type": "stream",
     "text": [
      "<p><div><strong>Resultado: 6</strong></div></p>\n"
     ]
    }
   ],
   "source": [
    "print(resultHTML(2, 3))"
   ]
  },
  {
   "cell_type": "markdown",
   "metadata": {},
   "source": [
    "***"
   ]
  },
  {
   "cell_type": "code",
   "execution_count": 36,
   "metadata": {},
   "outputs": [],
   "source": [
    "# Decoradores com argumentos\n",
    "def tags(tag):\n",
    "    # Recebe os argumentos do decorador\n",
    "    def tags_decorator(function):\n",
    "        # Decorador da função\n",
    "        def decorator(number1, number2):\n",
    "            # Função Decoradora\n",
    "            return \"<{0}>{1}</{2}>\".format(tag, function(number1, number2), tag)   \n",
    "        return decorator\n",
    "    return tags_decorator"
   ]
  },
  {
   "cell_type": "code",
   "execution_count": 37,
   "metadata": {},
   "outputs": [],
   "source": [
    "@tags(\"p\")\n",
    "@tags(\"div\")\n",
    "@tags(\"strong\")\n",
    "def resultHTML(number1, number2):\n",
    "    return \"Resultado: %s\" % (number1 * number2)"
   ]
  },
  {
   "cell_type": "code",
   "execution_count": 38,
   "metadata": {},
   "outputs": [
    {
     "name": "stdout",
     "output_type": "stream",
     "text": [
      "<p><div><strong>Resultado: 6</strong></div></p>\n"
     ]
    }
   ],
   "source": [
    "print(resultHTML(2, 3))"
   ]
  }
 ],
 "metadata": {
  "kernelspec": {
   "display_name": "Python 3",
   "language": "python",
   "name": "python3"
  },
  "language_info": {
   "codemirror_mode": {
    "name": "ipython",
    "version": 3
   },
   "file_extension": ".py",
   "mimetype": "text/x-python",
   "name": "python",
   "nbconvert_exporter": "python",
   "pygments_lexer": "ipython3",
   "version": "3.5.2"
  }
 },
 "nbformat": 4,
 "nbformat_minor": 2
}
