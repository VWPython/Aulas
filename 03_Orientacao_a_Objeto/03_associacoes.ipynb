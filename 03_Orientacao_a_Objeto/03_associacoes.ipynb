{
 "cells": [
  {
   "cell_type": "markdown",
   "metadata": {},
   "source": [
    "# Associações\n",
    "***"
   ]
  },
  {
   "cell_type": "markdown",
   "metadata": {},
   "source": [
    "**Associação**: É o mecanismo pelo qual um objeto utiliza os recursos de outro, basicamente ele está vinculado a outra classe. Pode tratar-se de uma associação simples (**1x1**), associações mais complexas (**1xN ou NxM**), ou de um acoplamento (**é parte de**) que temos **composição** e **agregação**. Por exemplo: Um humano usa um ou vários telefone. A tecla \"1\" é parte de um telefone."
   ]
  },
  {
   "cell_type": "markdown",
   "metadata": {},
   "source": [
    "***\n",
    "#### Exemplo: Associação 1x1\n",
    "***"
   ]
  },
  {
   "cell_type": "code",
   "execution_count": 1,
   "metadata": {},
   "outputs": [],
   "source": [
    "# Cria a classe pessoa que tem um nome, telefone e um endereço\n",
    "class Person(object):\n",
    "    \n",
    "    def __init__(self, name, phone, address):\n",
    "        self.name = name\n",
    "        self.phone = phone\n",
    "        self.address = address"
   ]
  },
  {
   "cell_type": "code",
   "execution_count": 2,
   "metadata": {},
   "outputs": [],
   "source": [
    "# Cria uma classe endereço que tem pais, estado, cidade e complemento\n",
    "class Address(object):\n",
    "    \n",
    "    def __init__(self, state, city, country='', complement=''):\n",
    "        self.country = country\n",
    "        self.state = state\n",
    "        self.city = city\n",
    "        self.complement = complement"
   ]
  },
  {
   "cell_type": "code",
   "execution_count": 3,
   "metadata": {},
   "outputs": [],
   "source": [
    "# Cria o endereço de brasilia\n",
    "brasilia = Address(\n",
    "    country='Brasil',\n",
    "    state='DF',\n",
    "    city='Brasilia',\n",
    "    complement='Cruzeiro Novo'\n",
    ")"
   ]
  },
  {
   "cell_type": "code",
   "execution_count": 4,
   "metadata": {},
   "outputs": [],
   "source": [
    "# Cria a pessoa\n",
    "person = Person(\n",
    "    name='Victor Arnaud',\n",
    "    phone=12345678,\n",
    "    address=brasilia\n",
    ")"
   ]
  },
  {
   "cell_type": "code",
   "execution_count": 5,
   "metadata": {},
   "outputs": [
    {
     "name": "stdout",
     "output_type": "stream",
     "text": [
      "Victor Arnaud\n",
      "12345678\n",
      "Brasilia, DF\n"
     ]
    }
   ],
   "source": [
    "# Acessando os dados da pessoa\n",
    "print(person.name)\n",
    "print(person.phone)\n",
    "print(person.address.city + ', ' + person.address.state)"
   ]
  },
  {
   "cell_type": "markdown",
   "metadata": {},
   "source": [
    "***\n",
    "#### Exemplo: Associação 1xn\n",
    "***"
   ]
  },
  {
   "cell_type": "code",
   "execution_count": 6,
   "metadata": {},
   "outputs": [],
   "source": [
    "# Cria a classe pessoa que tem um nome e telefones\n",
    "class Person(object):\n",
    "    \n",
    "    def __init__(self, name, phones):\n",
    "        self.name = name\n",
    "        self.phones = phones"
   ]
  },
  {
   "cell_type": "code",
   "execution_count": 7,
   "metadata": {},
   "outputs": [],
   "source": [
    "# Cria a classe telefone com o ddd e o número\n",
    "class Phone(object):\n",
    "    \n",
    "    def __init__(self, ddd, number):\n",
    "        self.ddd = ddd\n",
    "        self.number = number"
   ]
  },
  {
   "cell_type": "code",
   "execution_count": 8,
   "metadata": {},
   "outputs": [],
   "source": [
    "# Criar vários telefones\n",
    "phone1 = Phone(61, 99823045)\n",
    "phone2 = Phone(11, 99283333)\n",
    "phone3 = Phone(65, 22834455)\n",
    "\n",
    "phones = []\n",
    "phones.append(phone1)\n",
    "phones.append(phone2)\n",
    "phones.append(phone3)"
   ]
  },
  {
   "cell_type": "code",
   "execution_count": 9,
   "metadata": {},
   "outputs": [],
   "source": [
    "# Criar a pessoa\n",
    "person = Person(\n",
    "    name='Victor Arnaud',\n",
    "    phones=phones\n",
    ")"
   ]
  },
  {
   "cell_type": "code",
   "execution_count": 10,
   "metadata": {},
   "outputs": [
    {
     "name": "stdout",
     "output_type": "stream",
     "text": [
      "Victor Arnaud\n",
      "(61) 99823045\n",
      "(11) 99283333\n",
      "(65) 22834455\n"
     ]
    }
   ],
   "source": [
    "# Acessando os atributos\n",
    "print(person.name)\n",
    "\n",
    "for phone in person.phones:\n",
    "    print('(' + str(phone.ddd) + ')' + ' ' + str(phone.number))"
   ]
  },
  {
   "cell_type": "markdown",
   "metadata": {},
   "source": [
    "***\n",
    "#### Exemplo: Associação NxM\n",
    "***"
   ]
  },
  {
   "cell_type": "code",
   "execution_count": 11,
   "metadata": {},
   "outputs": [],
   "source": [
    "# Uma pessoa pode ter moradia em vários lugares, e uma moradia pode residir várias pessoas\n",
    "class Person(object):\n",
    "    \n",
    "    def __init__(self, name, addresses=[]):\n",
    "        self.name = name\n",
    "        self.addresses = addresses\n",
    "        \n",
    "\n",
    "class Address(object):\n",
    "    \n",
    "    def __init__(self, city, state, people=[]):\n",
    "        self.state = state\n",
    "        self.city = city\n",
    "        self.people = people"
   ]
  },
  {
   "cell_type": "code",
   "execution_count": 12,
   "metadata": {},
   "outputs": [],
   "source": [
    "# Vamos criar as pessoas\n",
    "pedro = Person(\"Pedro Calile\")\n",
    "joao = Person(\"João da Silva\")\n",
    "victor = Person(\"Victor Arnaud\")\n",
    "kaio = Person(\"Kaio Cesar\")\n",
    "jean = Person(\"Jean Guilherme\")"
   ]
  },
  {
   "cell_type": "code",
   "execution_count": 13,
   "metadata": {},
   "outputs": [],
   "source": [
    "# Vamos criar os endereços\n",
    "brasilia = Address(\"Brasilia\", \"DF\")\n",
    "minas_gerais = Address(\"Minas Gerais\", \"MG\")\n",
    "goiania = Address(\"Goiania\", \"GO\")"
   ]
  },
  {
   "cell_type": "code",
   "execution_count": 14,
   "metadata": {},
   "outputs": [],
   "source": [
    "# Vamos inserir as pessoas em brasilia\n",
    "brasilia.people.append(pedro)\n",
    "brasilia.people.append(joao)\n",
    "brasilia.people.append(victor)\n",
    "brasilia.people.append(jean)"
   ]
  },
  {
   "cell_type": "code",
   "execution_count": 15,
   "metadata": {},
   "outputs": [
    {
     "name": "stdout",
     "output_type": "stream",
     "text": [
      "Pedro Calile\n",
      "João da Silva\n",
      "Victor Arnaud\n",
      "Jean Guilherme\n"
     ]
    }
   ],
   "source": [
    "# Vamos acessar as pessoas que moram em brasilia\n",
    "for person in brasilia.people:\n",
    "    print(person.name)"
   ]
  },
  {
   "cell_type": "code",
   "execution_count": 16,
   "metadata": {},
   "outputs": [],
   "source": [
    "# Vamos inserir os endereços do victor\n",
    "victor.addresses.append(brasilia)\n",
    "victor.addresses.append(goiania)"
   ]
  },
  {
   "cell_type": "code",
   "execution_count": 17,
   "metadata": {},
   "outputs": [
    {
     "name": "stdout",
     "output_type": "stream",
     "text": [
      "Brasilia\n",
      "Goiania\n"
     ]
    }
   ],
   "source": [
    "# Vamos acessar os endereços do victor\n",
    "for address in victor.addresses:\n",
    "    print(address.city)"
   ]
  },
  {
   "cell_type": "code",
   "execution_count": 18,
   "metadata": {},
   "outputs": [
    {
     "name": "stdout",
     "output_type": "stream",
     "text": [
      "Pedro Calile\n",
      "João da Silva\n",
      "Victor Arnaud\n",
      "Jean Guilherme\n"
     ]
    }
   ],
   "source": [
    "# Vamos verificar quem mora em brasilia a partir do victor\n",
    "brasilian_people = victor.addresses[0].people\n",
    "for person in brasilian_people:\n",
    "    print(person.name)"
   ]
  },
  {
   "cell_type": "code",
   "execution_count": 19,
   "metadata": {},
   "outputs": [
    {
     "name": "stdout",
     "output_type": "stream",
     "text": [
      "Brasilia\n",
      "Goiania\n"
     ]
    }
   ],
   "source": [
    "# Vamos verificar os endereços do victor a partir do catalogo de brasilia\n",
    "victor_addresses = brasilia.people[2].addresses\n",
    "for address in victor_addresses:\n",
    "    print(address.city)"
   ]
  }
 ],
 "metadata": {
  "kernelspec": {
   "display_name": "Python 3",
   "language": "python",
   "name": "python3"
  },
  "language_info": {
   "codemirror_mode": {
    "name": "ipython",
    "version": 3
   },
   "file_extension": ".py",
   "mimetype": "text/x-python",
   "name": "python",
   "nbconvert_exporter": "python",
   "pygments_lexer": "ipython3",
   "version": "3.7.6"
  }
 },
 "nbformat": 4,
 "nbformat_minor": 2
}
