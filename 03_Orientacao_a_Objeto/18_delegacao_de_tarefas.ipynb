{
 "cells": [
  {
   "cell_type": "markdown",
   "metadata": {},
   "source": [
    "## Delegação de Tarefas\n",
    "***"
   ]
  },
  {
   "cell_type": "markdown",
   "metadata": {},
   "source": [
    "**Delegar acesso a atributos**: A delegação é um padrão de programação que a responsabilidade para implementar uma determinada operação é entregue a um objeto diferente, ou seja, a implementação, a responsabilidade de implementar uma determinada operação é delegada/entregue a um objeto diferente.\n",
    "\n",
    "* O método **\\_\\_getattr\\_\\_()** é uma especie de pega tudo para leitura de atributos, é normalmente usado caso o código tente acessar algum atributo que não existe, no exemplo, ele será acionado quando houver métodos de A não definidos em B, e simplesmente delegará esses acessos a A.\n",
    "\n",
    "**Obs**: Em python tudo são atributos, por exemplo, métodos e atributos são atributos"
   ]
  },
  {
   "cell_type": "markdown",
   "metadata": {},
   "source": [
    "***"
   ]
  },
  {
   "cell_type": "code",
   "execution_count": 1,
   "metadata": {},
   "outputs": [],
   "source": [
    "# Criar uma classe A qualquer com 4 métodos qualquer\n",
    "class A:\n",
    "    \n",
    "    def do_something(self):\n",
    "        print(\"Classe A fazendo algo\")\n",
    "    \n",
    "    def another_method1(self):\n",
    "        print(\"Classe A fazendo alguma outra coisa 01\")\n",
    "        \n",
    "    def another_method2(self):\n",
    "        print(\"Classe A fazendo alguma outra coisa 02\")\n",
    "        \n",
    "    def another_method3(self, message):\n",
    "        print(\"Classe A fazendo alguma outra coisa 03:\", message)"
   ]
  },
  {
   "cell_type": "code",
   "execution_count": 2,
   "metadata": {},
   "outputs": [],
   "source": [
    "# Criar uma classe B que é responsavel por delegar as tarefas para a classe A\n",
    "class B:\n",
    "    \n",
    "    def __init__(self):\n",
    "        self.a = A()\n",
    "    \n",
    "    def do_something(self):\n",
    "        # delega para self.a\n",
    "        return self.a.do_something()\n",
    "    \n",
    "    def another_method(self):\n",
    "        # delega para self.a\n",
    "        return self.a.another_method1()\n",
    "    \n",
    "    def __getattr__(self, message):\n",
    "        return getattr(self.a, message)"
   ]
  },
  {
   "cell_type": "code",
   "execution_count": 3,
   "metadata": {},
   "outputs": [
    {
     "name": "stdout",
     "output_type": "stream",
     "text": [
      "Classe A fazendo algo\n",
      "Classe A fazendo alguma outra coisa 01\n",
      "Classe A fazendo alguma outra coisa 02\n",
      "Classe A fazendo alguma outra coisa 03: python\n"
     ]
    }
   ],
   "source": [
    "# Instanciando a classe B\n",
    "b = B()\n",
    "\n",
    "# chama o B.do_something (existe em B)\n",
    "b.do_something()\n",
    "\n",
    "# chama o B.another_method (existe em B)\n",
    "b.another_method()\n",
    "\n",
    "# chama o B.__getattr__('another_method2') e delega para A.another_method2()\n",
    "# através do self.a passado como parâmetro no getattr()\n",
    "b.another_method2()\n",
    "\n",
    "# chama o B.__getattr__('another_method3', 'python') e delega para A.another_method3('python')\n",
    "# através do self.a passado como parâmetro no getattr()\n",
    "b.another_method3('python')"
   ]
  }
 ],
 "metadata": {
  "kernelspec": {
   "display_name": "Python 3",
   "language": "python",
   "name": "python3"
  },
  "language_info": {
   "codemirror_mode": {
    "name": "ipython",
    "version": 3
   },
   "file_extension": ".py",
   "mimetype": "text/x-python",
   "name": "python",
   "nbconvert_exporter": "python",
   "pygments_lexer": "ipython3",
   "version": "3.7.6"
  }
 },
 "nbformat": 4,
 "nbformat_minor": 2
}
