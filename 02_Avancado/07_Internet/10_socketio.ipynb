{
 "cells": [
  {
   "cell_type": "markdown",
   "metadata": {},
   "source": [
    "## Socketio\n",
    "***\n",
    "### Websocket\n",
    "***\n",
    "\n",
    "É o protocolo de comunicação que fornece comunicação bidirecional entre o cliente e o servidor através de uma conexão TCP, WebSocket permanece aberto o tempo todo para permitir a transferência de dados em tempo real. Quando os clientes acionam a solicitação para o servidor, ela não fecha a conexão ao receber a resposta, mas persiste e aguarda que o cliente ou servidor encerre a solicitação.\n",
    "\n",
    "#### Funcionalidades chaves do websocket\n",
    "\n",
    "* WebSocket ajuda na comunicação em tempo real entre o cliente e o servidor web.\n",
    "\n",
    "\n",
    "* Este protocolo ajuda na transformação para multi-plataforma em um mundo em tempo real entre o servidor e o cliente.\n",
    "\n",
    "\n",
    "* Isso também permite que os negócios em todo o mundo para aplicativos da Web em tempo real aprimorem e aumentem a viabilidade.\n",
    "\n",
    "\n",
    "* A principal vantagem é uma conexão HTTP que fornece comunicação full duplex.\n",
    "\n",
    "#### Schema de protocolo websocket\n",
    "\n",
    "![image](https://user-images.githubusercontent.com/14116020/60778330-0a3e1b80-a10d-11e9-9e1f-78cd1a81dfc6.png)\n",
    "\n",
    "#### Porque preciso do websocket?\n",
    "\n",
    "* Ele fornece a comunicação full duplex, que ajuda a manter a conexão estabelecida entre o Cliente e o Servidor da Web.\n",
    "\n",
    "\n",
    "* Ele também atende aos padrões e fornece os eventos precisão, eficiência e latência desprezível.\n",
    "\n",
    "\n",
    "* WebSocket elimina a sobrecarga e reduz a complexidade.\n",
    "\n",
    "\n",
    "* Torna a comunicação em tempo real sem esforço e eficiente.\n",
    "\n",
    "***\n",
    "### Socketio\n",
    "***\n",
    "\n",
    "É uma biblioteca que permite a comunicação em tempo real e full duplex entre o Cliente e os servidores da Web. Ele usa o protocolo WebSocket para fornecer a interface. Geralmente, ele é dividido em duas partes, tanto o WebSocket quanto o Socket.io são bibliotecas orientadas a eventos.\n",
    "\n",
    "#### Funcionalidades chaves do socketio\n",
    "\n",
    "* Ele ajuda na transmissão para vários soquetes de cada vez e lida com a conexão de forma transparente.\n",
    "\n",
    "\n",
    "* Ele funciona em todas as plataformas, servidores ou dispositivos, garantindo a igualdade, a confiabilidade e a velocidade.\n",
    "\n",
    "\n",
    "* Ele atualiza automaticamente o requisito para WebSocket, se necessário.\n",
    "\n",
    "\n",
    "* É uma implementação personalizada de protocolo de transporte em tempo real sobre outros protocolos.\n",
    "\n",
    "\n",
    "* Ele requer que as duas bibliotecas sejam usadas no lado do Cliente, bem como em uma biblioteca do lado do servidor.\n",
    "\n",
    "\n",
    "* O IO funciona em eventos baseados no trabalho. existem alguns eventos reservados que podem ser acessados usando o Socket no lado do servidor, como Connect, message, Disconnect, Ping e Reconnect.\n",
    "\n",
    "\n",
    "* Existem alguns eventos reservados baseados no Cliente, como Connect, connect-error, connect-timeout e Reconnect etc.\n",
    "\n",
    "#### Por que usar socketio\n",
    "\n",
    "* Ele cuida de toda a degradação de suas alternativas técnicas para obter comunicação full duplex em tempo real.\n",
    "\n",
    "\n",
    "* Ele também lida com o nível de suporte diferente e as inconsistências do navegador.\n",
    "\n",
    "\n",
    "* Ele também oferece suporte adicional à feature room para infra-estrutura básica de publicação e pensa como reconexão automática.\n",
    "\n",
    "\n",
    "* Atualmente, o AFAIK é o mais usado e mais fácil de ajudar com vanilla web sockets.\n",
    "\n",
    "***\n",
    "### Resumindo\n",
    "***\n",
    "\n",
    "|Websocket|Socktio|\n",
    "|---------|-------|\n",
    "|É o protocolo que é estabelecido pela conexão TCP|É a biblioteca para trabalhar com WebSocket|\n",
    "|Ele fornece comunicação full duplex em conexões TCP.|Fornece a comunicação baseada em eventos entre o navegador e o servidor.|\n",
    "|Proxy e balanceador de carga não são suportados no WebSocket.|Uma conexão pode ser estabelecida na presença de proxies e balanceadores de carga.|\n",
    "|Não suporta transmissão (broadcasting)|Suporta transmissão (broadcasting)|\n",
    "|Não tem uma opção de fallback.|Tem uma opção de fallback.|\n",
    "\n",
    "***\n",
    "### Bibliotecas\n",
    "***\n",
    "\n",
    "* [Python-SocketIO](https://github.com/miguelgrinberg/python-socketio)\n",
    "* [Flask-SocketIO](https://flask-socketio.readthedocs.io/en/latest/)"
   ]
  },
  {
   "cell_type": "markdown",
   "metadata": {},
   "source": [
    "***\n",
    "### Cliente (Raspberry)\n",
    "***"
   ]
  },
  {
   "cell_type": "code",
   "execution_count": null,
   "metadata": {},
   "outputs": [],
   "source": [
    "import socketio\n",
    "import time"
   ]
  },
  {
   "cell_type": "code",
   "execution_count": null,
   "metadata": {},
   "outputs": [],
   "source": [
    "client = socketio.Client()"
   ]
  },
  {
   "cell_type": "code",
   "execution_count": null,
   "metadata": {},
   "outputs": [],
   "source": [
    "client.connect(\"http://0.0.0.0:3000\")"
   ]
  },
  {
   "cell_type": "code",
   "execution_count": null,
   "metadata": {},
   "outputs": [],
   "source": [
    "@client.on('connect')\n",
    "def on_connect():\n",
    "    \"\"\"\n",
    "    Conectou no servidor\n",
    "    \"\"\"\n",
    "\n",
    "    print(\"Conectei\")"
   ]
  },
  {
   "cell_type": "code",
   "execution_count": null,
   "metadata": {},
   "outputs": [],
   "source": [
    "@client.on('feedback')\n",
    "def server_message(message):\n",
    "    \"\"\"\n",
    "    Recebendo mensagem do servidor\n",
    "    \"\"\"\n",
    "\n",
    "    if message[\"retorno\"]:\n",
    "        print(\"Deu bom!\")"
   ]
  },
  {
   "cell_type": "code",
   "execution_count": null,
   "metadata": {},
   "outputs": [],
   "source": [
    "@client.on('disconnect')\n",
    "def disconnect():\n",
    "    \"\"\"\n",
    "    Desconectou do servidor\n",
    "    \"\"\"\n",
    "    print(\"Desconectei\")"
   ]
  },
  {
   "cell_type": "code",
   "execution_count": null,
   "metadata": {},
   "outputs": [],
   "source": [
    "client.emit(\"alert\", \"\")\n",
    "client.emit(\"batery\", 20)\n",
    "client.disconnect()"
   ]
  },
  {
   "cell_type": "markdown",
   "metadata": {},
   "source": [
    "***\n",
    "### Servidor (Web/Mobile)\n",
    "***\n",
    "\n",
    "Contextualizando, o servidor pode está em um aplicativo só escutando se o dispositivo (raspberry) envia algum sinal de alerta ou bateria. Assim que envia ele vai retornar para a rasp que recebeu a mensagem.\n",
    "\n",
    "***"
   ]
  },
  {
   "cell_type": "code",
   "execution_count": null,
   "metadata": {},
   "outputs": [],
   "source": [
    "from flask import Flask, render_template\n",
    "from flask_socketio import SocketIO, send, emit"
   ]
  },
  {
   "cell_type": "code",
   "execution_count": null,
   "metadata": {},
   "outputs": [],
   "source": [
    "app = Flask(__name__)\n",
    "socketio = SocketIO(app)"
   ]
  },
  {
   "cell_type": "code",
   "execution_count": null,
   "metadata": {},
   "outputs": [],
   "source": [
    "@socketio.on('connect')\n",
    "def connect():\n",
    "    print('Cliente Conectado')"
   ]
  },
  {
   "cell_type": "code",
   "execution_count": null,
   "metadata": {},
   "outputs": [],
   "source": [
    "@socketio.on('alert')\n",
    "def handle_message(message):\n",
    "    print('Mensagem recebida: ' + str(message))\n",
    "    emit('feedback', {\"retorno\": True}, broadcast=True)"
   ]
  },
  {
   "cell_type": "code",
   "execution_count": null,
   "metadata": {},
   "outputs": [],
   "source": [
    "@socketio.on('batery')\n",
    "def handle_batery(message):\n",
    "    print('Nível de bateria:' + str(message))\n",
    "    emit('feedback', {\"retorno\": True}, broadcast=True)"
   ]
  },
  {
   "cell_type": "code",
   "execution_count": null,
   "metadata": {},
   "outputs": [],
   "source": [
    "@socketio.on('disconnect')\n",
    "def disconnect():\n",
    "    print(\"Cliente Desconectado\")"
   ]
  },
  {
   "cell_type": "code",
   "execution_count": null,
   "metadata": {},
   "outputs": [],
   "source": [
    "# Rodar o servidor\n",
    "socketio.run(app, debug=True, host=\"0.0.0.0\", port=3000)"
   ]
  }
 ],
 "metadata": {
  "kernelspec": {
   "display_name": "Python 3",
   "language": "python",
   "name": "python3"
  },
  "language_info": {
   "codemirror_mode": {
    "name": "ipython",
    "version": 3
   },
   "file_extension": ".py",
   "mimetype": "text/x-python",
   "name": "python",
   "nbconvert_exporter": "python",
   "pygments_lexer": "ipython3",
   "version": "3.5.2"
  }
 },
 "nbformat": 4,
 "nbformat_minor": 2
}
