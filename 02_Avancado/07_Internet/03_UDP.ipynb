{
 "cells": [
  {
   "cell_type": "markdown",
   "metadata": {},
   "source": [
    "# UDP - User Datagram Protocol\n",
    "***"
   ]
  },
  {
   "cell_type": "markdown",
   "metadata": {},
   "source": [
    "Consiste de um protocolo que se baseia em uma conexão em que se manda dados sem segurança com relação a seu destino.\n",
    "\n",
    "Isto quer dizer que o UDP manda dados para um determinado endereço independente deste endereço estar conectado a uma rede ou não, se não estiver as informações mandadas ficam perdidas para sempre na internet.\n",
    "\n",
    "Apesar de não ser confiável, o UDP possuí a vantagem de ser mais rápido, pois não checa cada pedaço da informação ao mandar, portanto sendo mais usado em VOIP, jogos online e streaming."
   ]
  },
  {
   "cell_type": "markdown",
   "metadata": {},
   "source": [
    "***\n",
    "### Cliente\n",
    "***\n",
    "\n",
    "Para executar o cliente tem que executar o comando no terminal: **python3 udp_server.py**"
   ]
  },
  {
   "cell_type": "code",
   "execution_count": 1,
   "metadata": {},
   "outputs": [],
   "source": [
    "from socket import *"
   ]
  },
  {
   "cell_type": "code",
   "execution_count": 2,
   "metadata": {},
   "outputs": [],
   "source": [
    "# Configura o servidor\n",
    "server = ('localhost', 5005)\n",
    "client_socket = socket(AF_INET, SOCK_DGRAM)\n",
    "client_socket.bind(server)"
   ]
  },
  {
   "cell_type": "code",
   "execution_count": 3,
   "metadata": {},
   "outputs": [
    {
     "name": "stdout",
     "output_type": "stream",
     "text": [
      "-> oiii\n"
     ]
    }
   ],
   "source": [
    "# Manda mensagem\n",
    "message = input(\"-> \")"
   ]
  },
  {
   "cell_type": "code",
   "execution_count": 4,
   "metadata": {},
   "outputs": [
    {
     "name": "stdout",
     "output_type": "stream",
     "text": [
      "Cliente recebeu: b'oiii'\n",
      "-> tudo bom!\n",
      "Cliente recebeu: b'tudo bom!'\n",
      "-> como você está?\n",
      "Cliente recebeu: b'como voc\\xc3\\xaa est\\xc3\\xa1?'\n",
      "-> exit\n"
     ]
    }
   ],
   "source": [
    "# Vamos mandar mensagem enquanto ela for diferente de exit\n",
    "while message != 'exit':\n",
    "    \n",
    "    # Mandamos a mensagem através da conexão\n",
    "    client_socket.sendto(message.encode(), server)\n",
    "        \n",
    "    # Recebemos a resposta do servidor\n",
    "    data, address = client_socket.recvfrom(1024)\n",
    "    \n",
    "    # Imprimimos a mensagem recebida\n",
    "    print(\"Cliente recebeu:\", str(data))\n",
    "    \n",
    "    # Podemos mandar mais mensagens\n",
    "    message = input(\"-> \")\n",
    "        \n",
    "# Fechamos a conexão\n",
    "client_socket.close()"
   ]
  }
 ],
 "metadata": {
  "kernelspec": {
   "display_name": "Python 3",
   "language": "python",
   "name": "python3"
  },
  "language_info": {
   "codemirror_mode": {
    "name": "ipython",
    "version": 3
   },
   "file_extension": ".py",
   "mimetype": "text/x-python",
   "name": "python",
   "nbconvert_exporter": "python",
   "pygments_lexer": "ipython3",
   "version": "3.7.6"
  }
 },
 "nbformat": 4,
 "nbformat_minor": 2
}
