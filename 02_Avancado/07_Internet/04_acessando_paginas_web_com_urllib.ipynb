{
 "cells": [
  {
   "cell_type": "markdown",
   "metadata": {},
   "source": [
    "## Acessando páginas web com urllib\n",
    "***\n",
    "\n",
    "urllib permite que acessemos sites na internet, além de poder acessar arquivos e realizar pedidos a determinados domínios."
   ]
  },
  {
   "cell_type": "markdown",
   "metadata": {},
   "source": [
    "***"
   ]
  },
  {
   "cell_type": "code",
   "execution_count": 1,
   "metadata": {},
   "outputs": [],
   "source": [
    "from urllib import request, parse, error"
   ]
  },
  {
   "cell_type": "code",
   "execution_count": 2,
   "metadata": {},
   "outputs": [],
   "source": [
    "# Requisita que se abra um website\n",
    "google = \"https://www.google.com\"\n",
    "# retona a página no formato de um objeto file\n",
    "pagina = request.urlopen(google)"
   ]
  },
  {
   "cell_type": "code",
   "execution_count": 3,
   "metadata": {},
   "outputs": [
    {
     "name": "stdout",
     "output_type": "stream",
     "text": [
      "b'<!doctype html><html itemscope=\"\" itemtype=\"http://schema.org/WebPage\" lang=\"pt-BR\"><head><meta content=\"text/html; charset=UTF-8\" http-equiv=\"Content-Type\"><meta content=\"/logos/doodles/2020/thank-you-public-health-workers-and-to-researchers-in-the-scientific-community-6753651837108753-law.gif\" itemprop=\"image\"><meta content=\"A todos os profissionais da sa\\xfade e aos pesquisadores da comunidade cient\\xedfica, obrigado\\xa0\" property=\"twitter:title\"><meta content=\"A todos os profissionais da sa\\xfade e aos pesquisadores da comunidade cient\\xedfica, obrigado #GoogleDoodle #profissionaisdasaude\" property=\"twitter:description\"><meta content=\"A todos os profissionais da sa\\xfade e aos pesquisadores da comunidade cient\\xedfica, obrigado #GoogleDoodle #profissionaisdasaude\" property=\"og:description\"><meta content=\"summary_large_image\" property=\"twitter:card\"><meta content=\"@GoogleDoodles\" property=\"twitter:site\"><meta content=\"https://www.google.com/logos/doodles/2020/thank-you-public-health-workers-and-to-researchers-in-the-scientific-community-6753651837108753.3-2xa.gif\" property=\"twitter:image\"><meta content=\"https://www.google.com/logos/doodles/2020/thank-you-public-health-workers-and-to-researchers-in-the-scientific-community-6753651837108753.3-2xa.gif\" property=\"og:image\"><meta content=\"1380\" property=\"og:image:width\"><meta content=\"448\" property=\"og:image:height\"><meta content=\"https://www.google.com/logos/doodles/2020/thank-you-public-health-workers-and-to-researchers-in-the-scientific-community-6753651837108753.3-2xa.gif\" property=\"og:url\"><meta content=\"video.other\" property=\"og:type\"><title>Google</title><script nonce=\"9nw8YvxeVZWFAlfDfmThFA==\">(function(){window.google={kEI:\\'Er-LXuiLGcvI_Qavu4-4Bw\\',kEXPI:\\'0,202123,3,1151620,5663,731,223,5104,207,3204,10,290,761,175,364,921,4,510,4,60,239,578,383,140,106,5,998,19,337,432,99,116,122,44,103,5,258,237,417957,708393,1197729,295,125,329118,1294,12383,4855,32692,15247,867,28684,363,8825,8384,4859,1361,9290,3028,4740,3123,7910,1808,4020,978,7931,5297,2054,920,873,1217,1714,1,1260,6430,7432,3874,2902,320,234,4282,2778,519,400,2277,8,2796,1593,1279,2212,202,37,291,149,1103,840,517,1474,48,157,4101,312,1137,2,2063,606,1839,184,2297,1947,747,1462,113,328,1284,16,446,2481,2246,474,1339,748,1039,3227,773,2073,6,817,4782,2034,6513,2662,642,605,1845,2458,1226,1462,3935,1274,108,3407,908,2,1473,440,1642,2132,265,1387,1835,2197,225,658,33,305,1670,480,606,1349,3,346,201,29,156,814,183,562,120,2,371,1638,491,1416,440,267,148,189,3312,1229,739,74,8,439,229,248,913,589,272,122,2450,27,1344,47,58,1686,4,1337,191,17,126,290,203,3,5,15,282,353,285,725,154,56,124,126,357,141,68,190,20,271,128,180,282,284,385,2,18,42,63,1065,5,220,2,67,10,155,5,226,585,63,320,4,287,1341,667,227,117,88,143,5,117,220,51,143,55,514,241,613,5830024,3276,1802618,6996022,549,333,444,1,2,80,1,900,896,6,3,1,2,2551,1,748,141,59,736,563,1,4265,1,1,1,1,137,1,1193,722,450,229,3,5,7,4,1,15,2,2,1,1,1,2,11,4,1,1,1,5,3,2,3,1,6,1,1,1,1,1,1,4,1,1,1,8,1,3,3,2,2,7,1,1,1,1,20742857,3220020,24\\',kBL:\\'-KLY\\'};google.sn=\\'webhp\\';google.kHL=\\'pt-BR\\';})();(function(){google.lc=[];google.li=0;google.getEI=function(a){for(var c;a&&(!a.getAttribute||!(c=a.getAttribute(\"eid\")));)a=a.parentNode;return c||google.kEI};google.getLEI=function(a){for(var c=null;a&&(!a.getAttribute||!(c=a.getAttribute(\"leid\")));)a=a.parentNode;return c};google.ml=function(){return null};google.time=function(){return Date.now()};google.log=function(a,c,b,d,g){if(b=google.logUrl(a,c,b,d,g)){a=new Image;var e=google.lc,f=google.li;e[f]=a;a.onerror=a.onload=a.onabort=function(){delete e[f]};google.vel&&google.vel.lu&&google.vel.lu(b);a.src=b;google.li=f+1}};google.logUrl=function(a,c,b,d,g){var e=\"\",f=google.ls||\"\";b||-1!=c.search(\"&ei=\")||(e=\"&ei=\"+google.getEI(d),-1==c.search(\"&lei=\")&&(d=google.getLEI(d))&&(e+=\"&lei=\"+d));d=\"\";!b&&google.cshid&&-1==c.search(\"&cshid=\")&&\"slh\"!=a&&(d=\"&cshid=\"+google.cshid);b=b||\"/\"+(g||\"gen_204\")+\"?atyp=i&ct=\"+a+\"&cad=\"+c+e+f+\"&zx=\"+google.time()+d;/^http:/i.test(b)&&\"https:\"==window.location.protocol&&(google.ml(Error(\"a\"),!1,{src:b,glmm:1}),b=\"\");return b};}).call(this);(function(){google.y={};google.x=function(a,b){if(a)var c=a.id;else{do c=Math.random();while(google.y[c])}google.y[c]=[a,b];return!1};google.lm=[];google.plm=function(a){google.lm.push.apply(google.lm,a)};google.lq=[];google.load=function(a,b,c){google.lq.push([[a],b,c])};google.loadAll=function(a,b){google.lq.push([a,b])};}).call(this);google.f={};(function(){\\ndocument.documentElement.addEventListener(\"submit\",function(b){var a;if(a=b.target){var c=a.getAttribute(\"data-submitfalse\");a=\"1\"==c||\"q\"==c&&!a.elements.q.value?!0:!1}else a=!1;a&&(b.preventDefault(),b.stopPropagation())},!0);document.documentElement.addEventListener(\"click\",function(b){var a;a:{for(a=b.target;a&&a!=document.documentElement;a=a.parentElement)if(\"A\"==a.tagName){a=\"1\"==a.getAttribute(\"data-nohref\");break a}a=!1}a&&b.preventDefault()},!0);}).call(this);\\nvar a=window.location,b=a.href.indexOf(\"#\");if(0<=b){var c=a.href.substring(b+1);/(^|&)q=/.test(c)&&-1==c.indexOf(\"#\")&&a.replace(\"/search?\"+c.replace(/(^|&)fp=[^&]*/g,\"\")+\"&cad=h\")};</script><style>#gbar,#guser{font-size:13px;padding-top:1px !important;}#gbar{height:22px}#guser{padding-bottom:7px !important;text-align:right}.gbh,.gbd{border-top:1px solid #c9d7f1;font-size:1px}.gbh{height:0;position:absolute;top:24px;width:100%}@media all{.gb1{height:22px;margin-right:.5em;vertical-align:top}#gbar{float:left}}a.gb1,a.gb4{text-decoration:underline !important}a.gb1,a.gb4{color:#00c !important}.gbi .gb4{color:#dd8e27 !important}.gbf .gb4{color:#900 !important}\\n</style><style>body,td,a,p,.h{font-family:arial,sans-serif}body{margin:0;overflow-y:scroll}#gog{padding:3px 8px 0}td{line-height:.8em}.gac_m td{line-height:17px}form{margin-bottom:20px}.h{color:#36c}.q{color:#00c}.ts td{padding:0}.ts{border-collapse:collapse}em{font-weight:bold;font-style:normal}.lst{height:25px;width:496px}.gsfi,.lst{font:18px arial,sans-serif}.gsfs{font:17px arial,sans-serif}.ds{display:inline-box;display:inline-block;margin:3px 0 4px;margin-left:4px}input{font-family:inherit}body{background:#fff;color:#000}a{color:#11c;text-decoration:none}a:hover,a:active{text-decoration:underline}.fl a{color:#36c}a:visited{color:#551a8b}.sblc{padding-top:5px}.sblc a{display:block;margin:2px 0;margin-left:13px;font-size:11px}.lsbb{background:#eee;border:solid 1px;border-color:#ccc #999 #999 #ccc;height:30px}.lsbb{display:block}.ftl,#fll a{display:inline-block;margin:0 12px}.lsb{background:url(/images/nav_logo229.png) 0 -261px repeat-x;border:none;color:#000;cursor:pointer;height:30px;margin:0;outline:0;font:15px arial,sans-serif;vertical-align:top}.lsb:active{background:#ccc}.lst:focus{outline:none}.tiah{width:458px}</style><script nonce=\"9nw8YvxeVZWFAlfDfmThFA==\"></script></head><body bgcolor=\"#fff\"><script nonce=\"9nw8YvxeVZWFAlfDfmThFA==\">(function(){var src=\\'/images/nav_logo229.png\\';var iesg=false;document.body.onload = function(){window.n && window.n();if (document.images){new Image().src=src;}\\nif (!iesg){document.f&&document.f.q.focus();document.gbqf&&document.gbqf.q.focus();}\\n}\\n})();</script><div id=\"mngb\"> <div id=gbar><nobr><b class=gb1>Pesquisa</b> <a class=gb1 href=\"https://www.google.com.br/imghp?hl=pt-BR&tab=wi\">Imagens</a> <a class=gb1 href=\"https://maps.google.com.br/maps?hl=pt-BR&tab=wl\">Maps</a> <a class=gb1 href=\"https://play.google.com/?hl=pt-BR&tab=w8\">Play</a> <a class=gb1 href=\"https://www.youtube.com/?gl=BR&tab=w1\">YouTube</a> <a class=gb1 href=\"https://news.google.com.br/nwshp?hl=pt-BR&tab=wn\">Not\\xedcias</a> <a class=gb1 href=\"https://mail.google.com/mail/?tab=wm\">Gmail</a> <a class=gb1 href=\"https://drive.google.com/?tab=wo\">Drive</a> <a class=gb1 style=\"text-decoration:none\" href=\"https://www.google.com.br/intl/pt-BR/about/products?tab=wh\"><u>Mais</u> &raquo;</a></nobr></div><div id=guser width=100%><nobr><span id=gbn class=gbi></span><span id=gbf class=gbf></span><span id=gbe></span><a href=\"http://www.google.com.br/history/optout?hl=pt-BR\" class=gb4>Hist\\xf3rico da Web</a> | <a  href=\"/preferences?hl=pt-BR\" class=gb4>Configura\\xe7\\xf5es</a> | <a target=_top id=gb_70 href=\"https://accounts.google.com/ServiceLogin?hl=pt-BR&passive=true&continue=https://www.google.com/\" class=gb4>Fazer login</a></nobr></div><div class=gbh style=left:0></div><div class=gbh style=right:0></div> </div><center><br clear=\"all\" id=\"lgpd\"><div id=\"lga\"><a href=\"/search?ie=UTF-8&amp;q=coronavirus&amp;oi=ddle&amp;ct=153128792&amp;hl=pt-BR&amp;sa=X&amp;ved=0ahUKEwjo3Jri_dToAhVLZN8KHa_dA3cQPQgD\"><img alt=\"A todos os profissionais da sa\\xfade e aos pesquisadores da comunidade cient\\xedfica, obrigado\\xa0\" border=\"0\" height=\"215\" src=\"/logos/doodles/2020/thank-you-public-health-workers-and-to-researchers-in-the-scientific-community-6753651837108753-law.gif\" title=\"A todos os profissionais da sa\\xfade e aos pesquisadores da comunidade cient\\xedfica, obrigado\\xa0\" width=\"700\" id=\"hplogo\"><br></a><br></div><form action=\"/search\" name=\"f\"><table cellpadding=\"0\" cellspacing=\"0\"><tr valign=\"top\"><td width=\"25%\">&nbsp;</td><td align=\"center\" nowrap=\"\"><input name=\"ie\" value=\"ISO-8859-1\" type=\"hidden\"><input value=\"pt-BR\" name=\"hl\" type=\"hidden\"><input name=\"source\" type=\"hidden\" value=\"hp\"><input name=\"biw\" type=\"hidden\"><input name=\"bih\" type=\"hidden\"><div class=\"ds\" style=\"height:32px;margin:4px 0\"><div style=\"position:relative;zoom:1\"><input class=\"lst tiah\" style=\"margin:0;padding:5px 8px 0 6px;vertical-align:top;color:#000;padding-right:38px\" autocomplete=\"off\" value=\"\" title=\"Pesquisa Google\" maxlength=\"2048\" name=\"q\" size=\"57\"><img src=\"/textinputassistant/tia.png\" style=\"position:absolute;cursor:pointer;right:5px;top:4px;z-index:300\" data-script-url=\"/textinputassistant/11/pt-BR_tia.js\" id=\"tsuid1\" alt=\"\" height=\"23\" width=\"27\"><script nonce=\"9nw8YvxeVZWFAlfDfmThFA==\">(function(){var id=\\'tsuid1\\';document.getElementById(id).onclick = function(){var s = document.createElement(\\'script\\');s.src = this.getAttribute(\\'data-script-url\\');(document.getElementById(\\'xjsc\\')||document.body).appendChild(s);};})();</script></div></div><br style=\"line-height:0\"><span class=\"ds\"><span class=\"lsbb\"><input class=\"lsb\" value=\"Pesquisa Google\" name=\"btnG\" type=\"submit\"></span></span><span class=\"ds\"><span class=\"lsbb\"><input class=\"lsb\" id=\"tsuid2\" value=\"Estou com sorte\" name=\"btnI\" type=\"submit\"><script nonce=\"9nw8YvxeVZWFAlfDfmThFA==\">(function(){var id=\\'tsuid2\\';document.getElementById(id).onclick = function(){if (this.form.q.value){this.checked = 1;if (this.form.iflsig)this.form.iflsig.disabled = false;}\\nelse top.location=\\'/doodles/\\';};})();</script><input value=\"AINFCbYAAAAAXovNIjIOgJ06fu94BJPp9kQhRDg6rhR-\" name=\"iflsig\" type=\"hidden\"></span></span></td><td class=\"fl sblc\" align=\"left\" nowrap=\"\" width=\"25%\"><a href=\"/advanced_search?hl=pt-BR&amp;authuser=0\">Pesquisa avan\\xe7ada</a></td></tr></table><input id=\"gbv\" name=\"gbv\" type=\"hidden\" value=\"1\"><script nonce=\"9nw8YvxeVZWFAlfDfmThFA==\">(function(){var a,b=\"1\";if(document&&document.getElementById)if(\"undefined\"!=typeof XMLHttpRequest)b=\"2\";else if(\"undefined\"!=typeof ActiveXObject){var c,d,e=[\"MSXML2.XMLHTTP.6.0\",\"MSXML2.XMLHTTP.3.0\",\"MSXML2.XMLHTTP\",\"Microsoft.XMLHTTP\"];for(c=0;d=e[c++];)try{new ActiveXObject(d),b=\"2\"}catch(h){}}a=b;if(\"2\"==a&&-1==location.search.indexOf(\"&gbv=2\")){var f=google.gbvu,g=document.getElementById(\"gbv\");g&&(g.value=a);f&&window.setTimeout(function(){location.href=f},0)};}).call(this);</script></form><div id=\"gac_scont\"></div><div style=\"font-size:83%;min-height:3.5em\"><br><div id=\"prm\"><style>.szppmdbYutt__middle-slot-promo{font-size:small;margin-bottom:32px}.szppmdbYutt__middle-slot-promo a.ZIeIlb{display:inline-block;text-decoration:none}.szppmdbYutt__middle-slot-promo img{border:none;margin-right:5px;vertical-align:middle}</style><div class=\"szppmdbYutt__middle-slot-promo\" data-ved=\"0ahUKEwjo3Jri_dToAhVLZN8KHa_dA3cQnIcBCAQ\"><a class=\"NKcBbd\" href=\"https://www.google.com/url?q=https://smallbusiness.withgoogle.com/intl/pt-BR_br/news/resources-for-smbs-impacted-by-coronavirus/%3Futm_source%3Dgoogle%26utm_medium%3Dhpp%26utm_campaign%3Dcoronavirus&amp;source=hpp&amp;id=19017078&amp;ct=3&amp;usg=AFQjCNFLbt0bhasMnkfxWDbuKtNjxBbmXA&amp;sa=X&amp;ved=0ahUKEwjo3Jri_dToAhVLZN8KHa_dA3cQ8IcBCAU\" rel=\"nofollow\">Recursos para ajudar seu neg\\xf3cio a se manter conectado com clientes e funcion\\xe1rios</a></div></div></div><span id=\"footer\"><div style=\"font-size:10pt\"><div style=\"margin:19px auto;text-align:center\" id=\"fll\"><a href=\"/intl/pt-BR/ads/\">Solu\\xe7\\xf5es de publicidade</a><a href=\"/services/\">Solu\\xe7\\xf5es empresariais</a><a href=\"/intl/pt-BR/about.html\">Sobre o Google</a><a href=\"https://www.google.com/setprefdomain?prefdom=BR&amp;prev=https://www.google.com.br/&amp;sig=K_i1e9e_2dhSHXX-BfHvw6_-GKxDc%3D\">Google.com.br</a></div></div><p style=\"font-size:8pt;color:#767676\">&copy; 2020 - <a href=\"/intl/pt-BR/policies/privacy/\">Privacidade</a> - <a href=\"/intl/pt-BR/policies/terms/\">Termos</a></p></span></center><script nonce=\"9nw8YvxeVZWFAlfDfmThFA==\">(function(){window.google.cdo={height:0,width:0};(function(){var a=window.innerWidth,b=window.innerHeight;if(!a||!b){var c=window.document,d=\"CSS1Compat\"==c.compatMode?c.documentElement:c.body;a=d.clientWidth;b=d.clientHeight}a&&b&&(a!=google.cdo.width||b!=google.cdo.height)&&google.log(\"\",\"\",\"/client_204?&atyp=i&biw=\"+a+\"&bih=\"+b+\"&ei=\"+google.kEI);}).call(this);})();(function(){var u=\\'/xjs/_/js/k\\\\x3dxjs.hp.en.Z9GXM1WQNCo.O/m\\\\x3dsb_he,d/am\\\\x3dAAMCbAQ/d\\\\x3d1/rs\\\\x3dACT90oHzsANym_O9pyPQsJs2gvPdWWoEsQ\\';\\nsetTimeout(function(){var b=document;var a=\"SCRIPT\";\"application/xhtml+xml\"===b.contentType&&(a=a.toLowerCase());a=b.createElement(a);a.src=u;google.timers&&google.timers.load&&google.tick&&google.tick(\"load\",\"xjsls\");document.body.appendChild(a)},0);})();(function(){window.google.xjsu=\\'/xjs/_/js/k\\\\x3dxjs.hp.en.Z9GXM1WQNCo.O/m\\\\x3dsb_he,d/am\\\\x3dAAMCbAQ/d\\\\x3d1/rs\\\\x3dACT90oHzsANym_O9pyPQsJs2gvPdWWoEsQ\\';})();function _DumpException(e){throw e;}\\nfunction _F_installCss(c){}\\n(function(){google.spjs=false;google.snet=true;google.em=[];google.emw=false;google.pdt=0;})();(function(){var pmc=\\'{\\\\x22d\\\\x22:{},\\\\x22sb_he\\\\x22:{\\\\x22agen\\\\x22:true,\\\\x22cgen\\\\x22:true,\\\\x22client\\\\x22:\\\\x22heirloom-hp\\\\x22,\\\\x22dh\\\\x22:true,\\\\x22dhqt\\\\x22:true,\\\\x22ds\\\\x22:\\\\x22\\\\x22,\\\\x22ffql\\\\x22:\\\\x22pt-BR\\\\x22,\\\\x22fl\\\\x22:true,\\\\x22host\\\\x22:\\\\x22google.com\\\\x22,\\\\x22isbh\\\\x22:28,\\\\x22jsonp\\\\x22:true,\\\\x22msgs\\\\x22:{\\\\x22cibl\\\\x22:\\\\x22Limpar pesquisa\\\\x22,\\\\x22dym\\\\x22:\\\\x22Voc\\xea quis dizer:\\\\x22,\\\\x22lcky\\\\x22:\\\\x22Estou com sorte\\\\x22,\\\\x22lml\\\\x22:\\\\x22Saiba mais\\\\x22,\\\\x22oskt\\\\x22:\\\\x22Ferramentas de inser\\xe7\\xe3o de texto\\\\x22,\\\\x22psrc\\\\x22:\\\\x22Esta pesquisa foi removida do seu\\\\\\\\u003Ca href\\\\x3d\\\\\\\\\\\\x22/history\\\\\\\\\\\\x22\\\\\\\\u003EHist\\xf3rico da web\\\\\\\\u003C/a\\\\\\\\u003E\\\\x22,\\\\x22psrl\\\\x22:\\\\x22Remover\\\\x22,\\\\x22sbit\\\\x22:\\\\x22Pesquisa por imagem\\\\x22,\\\\x22srch\\\\x22:\\\\x22Pesquisa Google\\\\x22},\\\\x22ovr\\\\x22:{},\\\\x22pq\\\\x22:\\\\x22\\\\x22,\\\\x22refpd\\\\x22:true,\\\\x22rfs\\\\x22:[],\\\\x22sbpl\\\\x22:16,\\\\x22sbpr\\\\x22:16,\\\\x22scd\\\\x22:10,\\\\x22stok\\\\x22:\\\\x22Y3u0rHR_hBlaKx079-35MVI-z2Y\\\\x22,\\\\x22uhde\\\\x22:false}}\\';google.pmc=JSON.parse(pmc);})();</script>        </body></html>'\n"
     ]
    }
   ],
   "source": [
    "# A página é como um objeto file, por isso\n",
    "# podemos usar métodos semelhantes como o read\n",
    "# para exibir todo o conteúdo da página.\n",
    "print(pagina.read())"
   ]
  },
  {
   "cell_type": "markdown",
   "metadata": {},
   "source": [
    "***"
   ]
  },
  {
   "cell_type": "markdown",
   "metadata": {},
   "source": [
    "Mais do que isso podemos até mesmo reter uma página web ou alguma imagem."
   ]
  },
  {
   "cell_type": "markdown",
   "metadata": {},
   "source": [
    "***"
   ]
  },
  {
   "cell_type": "code",
   "execution_count": 4,
   "metadata": {},
   "outputs": [
    {
     "data": {
      "text/plain": [
       "('00000001.jpg', <http.client.HTTPMessage at 0x7f8909150910>)"
      ]
     },
     "execution_count": 4,
     "metadata": {},
     "output_type": "execute_result"
    }
   ],
   "source": [
    "# Vai acessar a imagem de um determinado endereço e armazenar no arquivo .jpg inserido.\n",
    "request.urlretrieve(\"http://www.gunnerkrigg.com//comics/00000001.jpg\", \"00000001.jpg\")\n",
    "\n",
    "# Faz a mesma coisa:\n",
    "# file = open('00000001.jpg', 'wb')\n",
    "# file.write(request.urlopen('http://www.gunnerkrigg.com//comics/00000001.jpg').read())\n",
    "# file.close()"
   ]
  },
  {
   "cell_type": "code",
   "execution_count": 5,
   "metadata": {},
   "outputs": [],
   "source": [
    "import os\n",
    "os.remove(\"./00000001.jpg\")"
   ]
  },
  {
   "cell_type": "markdown",
   "metadata": {},
   "source": [
    "***"
   ]
  },
  {
   "cell_type": "markdown",
   "metadata": {},
   "source": [
    "Além de podermos obter o HTML que contém uma determinada página da web podemos fazer requirementos a um determinado domínio. Por exemplo, é possível realizar uma busca no google utilizando https://www.google.com/?#q=pesquisa. Da mesma forma podemos fazer pesquisas usando o urllib.parse + urllib.request."
   ]
  },
  {
   "cell_type": "markdown",
   "metadata": {},
   "source": [
    "***"
   ]
  },
  {
   "cell_type": "code",
   "execution_count": 6,
   "metadata": {},
   "outputs": [],
   "source": [
    "# Vamos acessar o site python programming e realizar uma busca\n",
    "url = \"http://pythonprogramming.net\""
   ]
  },
  {
   "cell_type": "code",
   "execution_count": 7,
   "metadata": {},
   "outputs": [],
   "source": [
    "# Nesta busca vamos buscar pela palavra 'basics' utilizando o método Search()\n",
    "valores = {'s': 'basics', 'submit': 'Search'}"
   ]
  },
  {
   "cell_type": "code",
   "execution_count": 8,
   "metadata": {},
   "outputs": [
    {
     "name": "stdout",
     "output_type": "stream",
     "text": [
      "s=basics&submit=Search\n",
      "b's=basics&submit=Search'\n"
     ]
    }
   ],
   "source": [
    "# Em seguida vamos processar e codificar o nosso requerimento\n",
    "data = parse.urlencode(valores)\n",
    "print(data)\n",
    "data = data.encode('utf-8')\n",
    "print(data)"
   ]
  },
  {
   "cell_type": "code",
   "execution_count": 9,
   "metadata": {},
   "outputs": [],
   "source": [
    "# Em seguida, vamos efetivamente requirir uma resposta\n",
    "requisicao = request.Request(url, data) # gera o endereço\n",
    "pagina = request.urlopen(requisicao) # abre a página"
   ]
  },
  {
   "cell_type": "code",
   "execution_count": 10,
   "metadata": {},
   "outputs": [
    {
     "name": "stdout",
     "output_type": "stream",
     "text": [
      "b'<html>\\n\\t<head>\\n\\n\\t\\t<!--\\n\\t\\tpalette:\\n\\t\\tdark blue: #003F72\\n\\t\\tyellow: #FFD166\\n\\t\\tsalmon: #EF476F\\n\\t\\toffwhite: #e7d7d7\\n\\t\\tLight Blue: #118AB2\\n\\t\\tLight green: #7DDF64\\n\\t\\t-->\\n\\n\\t\\t<meta name=\"viewport\" content = \"width=device-width, initial-scale=1.0\">\\n\\t\\t<title>Python Programming Tutorials</title>\\n\\n\\t\\t<meta name=\"description\" content=\"Python Programming tutorials from beginner to advanced on a massive variety of topics. All video and text tutorials are free.\">\\n\\n\\t\\t<link rel=\"shortcut icon\" href=\"/static/favicon.ico\">\\n\\t\\t<link rel=\"stylesheet\" href=\"/static/css/materialize.min.css\">\\n        <link href=\"https://fonts.googleapis.com/icon?family=Material+Icons\" rel=\"stylesheet\">\\n        <meta name=\"google-site-verification\" content=\"3fLok05gk5gGtWd_VSXbSSSH27F2kr1QqcxYz9vYq2k\" />\\n        <link rel=\"stylesheet\" type=\"text/css\" href=\"/static/css/bootstrap.css\">\\n\\n\\n\\t\\t  <!-- Compiled and minified CSS -->\\n\\n\\t\\t<!-- Compiled and minified JavaScript -->\\n\\n\\t\\t<script src=\"https://code.jquery.com/jquery-2.1.4.min.js\"></script>\\n\\t\\t<script src=\"https://cdnjs.cloudflare.com/ajax/libs/materialize/0.97.3/js/materialize.min.js\"></script>\\n\\n\\n\\n        <style>\\n\\t\\t@media (min-width:992px) {\\n\\t\\t#aside {\\n\\t\\t\\twidth:250px;\\n\\t\\t}\\n\\t\\tpre { tab-size: 4;}\\n\\t\\t.btn {background-color:#FFD166;\\n\\t\\t\\t  color:#000;\\n\\t\\t      height:auto;\\n\\t\\t\\t  font-color:#000;\\n\\t\\t\\t  }\\n\\t\\t.btn:hover {background-color:#FFD166;\\n\\t\\t\\t\\t\\t}\\n\\n\\n\\t\\t</style>\\n\\n\\t\\t<!-- Google Tracking -->\\n\\t\\t<script>\\n\\t\\t\\t  (function(i,s,o,g,r,a,m){i[\\'GoogleAnalyticsObject\\']=r;i[r]=i[r]||function(){\\n\\t\\t\\t  (i[r].q=i[r].q||[]).push(arguments)},i[r].l=1*new Date();a=s.createElement(o),\\n\\t\\t\\t  m=s.getElementsByTagName(o)[0];a.async=1;a.src=g;m.parentNode.insertBefore(a,m)\\n\\t\\t\\t  })(window,document,\\'script\\',\\'//www.google-analytics.com/analytics.js\\',\\'ga\\');\\n              ga(\\'config\\', \\'UA-51891827-1\\', {\\'anonymize_ip\\': true});\\xef\\xbb\\xbf\\n\\t\\t\\t  ga(\\'create\\', \\'UA-51891827-1\\', \\'auto\\');\\n\\t\\t\\t  ga(\\'send\\', \\'pageview\\');\\n\\n\\t\\t</script>\\n\\n            \\n            \\n\\n\\n\\n\\n\\t</head>\\n\\n\\t<body>\\n\\n\\t\\t<div class=\"navbar-fixed\">\\n\\t\\t\\t<nav style=\"background-color:#003F72\">\\n\\t\\t\\t\\t<div class=\"nav-wrapper container\">\\n\\t\\t\\t\\t\\t<a href=\"/\" class=\"brand-logo\"><img class=\"img-responsive\" style=\"width:50px; height;50px; margin-top:5px\" src=\"/static/images/mainlogowhitethick.jpg\"></a>\\n\\t\\t\\t\\t\\t<a href=\"#\" data-activates=\"navsidebar\" class=\"button-collapse\"><i class=\"mdi-navigation-menu\"></i></a>\\n\\t\\t\\t\\t\\t<ul class=\"right hide-on-med-and-down\">\\n\\t\\t\\t\\t\\t<li><i class=\"material-icons\">search</i></li>\\n\\t\\t\\t\\t\\t<li>\\n\\t\\t\\t\\t\\t\\t<form method=\\'get\\' id=\\'searchform\\' style=\\'height:50px; padding-top:10px\\' action=\\'/search/?l=hi\\'>\\n\\t\\t\\t\\t\\t\\t\\t<input name=\\'q\\' id=\"search\" type=\"search\" placeholder=\"search\"  style=\\'font-size:16px\\'>\\n\\t\\t\\t\\t\\t\\t</form>\\n\\t\\t\\t\\t\\t</li>\\n\\t\\t\\t\\t\\t\\t\\n\\t\\t\\t<li><a href=\"/\">Home</a></li>\\n\\t\\t\\t<li><a class=\"tooltipped\" data-position=\"bottom\" data-delay=\"50\" data-tooltip=\"sudo apt-get upgrade\" href=\"/+=1/\">+=1</a></li>\\n\\t\\t\\t<!--<li><a href=\"/store/python-hoodie/\">Store</a></li>-->\\n\\t\\t\\t<li><a href=\"/support/\">Support the Content</a></li>\\n\\t\\t\\t\\n\\t\\t\\t<li><a href=\"https://goo.gl/7zgAVQ\" target=\\'blank\\'><!--<i class=\"material-icons\">question_answer</i>-->Community</a></li>\\n\\t\\t\\t\\t<li><a href=\"/login/\">Log in</a></li>\\n                <li><a href=\"/register/\">Sign up</a></li>\\n\\t\\t\\t\\n\\n\\t\\t\\t\\t\\t</ul>\\n\\t\\t\\t\\t\\t<ul class=\"side-nav\" id=\"navsidebar\">\\n\\t\\t\\t\\t\\t<li>\\n\\t\\t\\t\\t\\t\\t<form method=\\'get\\' id=\\'searchform\\' style=\\'height:50px; padding-top:10px\\' action=\\'/search/?l=hi\\'>\\n\\t\\t\\t\\t\\t\\t\\t<input name=\\'q\\' id=\"search\" type=\"search\" placeholder=\"search\"  style=\\'font-size:16px\\'>\\n\\t\\t\\t\\t\\t\\t</form>\\n\\t\\t\\t\\t\\t</li>\\n\\t\\t\\t\\t\\t\\t\\n\\t\\t\\t<li><a href=\"/\">Home</a></li>\\n\\t\\t\\t<li><a class=\"tooltipped\" data-position=\"bottom\" data-delay=\"50\" data-tooltip=\"sudo apt-get upgrade\" href=\"/+=1/\">+=1</a></li>\\n\\t\\t\\t<!--<li><a href=\"/store/python-hoodie/\">Store</a></li>-->\\n\\t\\t\\t<li><a href=\"/support/\">Support the Content</a></li>\\n\\t\\t\\t\\n\\t\\t\\t<li><a href=\"https://goo.gl/7zgAVQ\" target=\\'blank\\'><!--<i class=\"material-icons\">question_answer</i>-->Community</a></li>\\n\\t\\t\\t\\t<li><a href=\"/login/\">Log in</a></li>\\n                <li><a href=\"/register/\">Sign up</a></li>\\n\\t\\t\\t\\n\\n\\t\\t\\t\\t\\t</ul>\\n\\t\\t\\t\\t</div>\\n\\t\\t\\t</nav>\\n\\t\\t</div>\\n\\n\\n\\n\\t\\t<!-- main content -->\\n\\t\\t<div class=\"container\" style=\"max-width:1500px; min-height:100%\">\\n\\t\\t\\t<!--Notification:-->\\n            <!--<p style=\"font-size:80%\">TensorFlow.js Livestream:  <a href=\"https://www.youtube.com/watch?v=NjSlj95lliM\" target=\"blank\"><strong>Deep Learning in the browser</strong></a></p>-->\\n            <!--End Notification:-->\\n\\n\\t\\t\\t\\t\\t\\n\\t\\t\\t\\t\\t\\n\\t\\t\\t\\t\\t  \\n\\t\\t\\t\\t\\t\\n\\n\\t\\t\\t\\t\\t\\n\\n\\n\\n\\t<div class=\"row\">\\n\\t<!-- size 4 on a large screen, 12 on a small, 6 on a med -->\\n        <div class=\"col l4 s12 m6\">\\n          <a href=\"/machine-learning-tutorials/\" class=\"waves-effect waves-light\" style=\"color:#000\">\\n            <div class=\"card-panel hoverable\" style=\"height:360px; background-color:#FFFFFF;\">\\n              <div class=\"card-image\">\\n                <img class=\"responsive-img\" src=\"/static/images/categories/machine-learning-playlist.png\" style=\"width:250px\">\\n                <br><span class=\"card-title\"><strong>Machine Learning</strong></span>\\n              </div>\\n              <div class=\"card-content\">\\n                <p>Employ both supervised and unsupervised machine learning, to make predictions or to understand data.</p>\\n              </div>\\n              <div class=\"card-action right-align\">\\n                <a href=\"/machine-learning-tutorials/\" class=\"waves-effect waves-light btn\" style=\"color:#000000; background-color:#FFD166\">View</a>\\n              </div>\\n            </div>\\n          </a>\\n        </div>\\n\\n\\n\\t\\t<div class=\"col l4 s12 m6\">\\n\\t\\t\\t<a href=\"/data-analysis-tutorials/\" class=\"waves-effect waves-light\" style=\"color:#000\">\\n\\t\\t\\t<div class=\"card-panel hoverable\" style=\"height:360px; background-color:#FFFFFF;\">\\n\\t\\t\\t\\t<div class=\"card-image\">\\n\\t\\t\\t\\t  <img class=\"responsive-img\" src=\"/static/images/categories/3D-Matplotlib.png\" style=\"width:250px\">\\n\\t\\t\\t\\t  <br><span class=\"card-title\"><strong>Data Analysis</strong></span>\\n\\t\\t\\t\\t</div>\\n\\t\\t\\t\\t<div class=\"card-content\">\\n\\t\\t\\t\\t  <p>Learn how to use Python with Pandas, Matplotlib, and other modules to gather insights from and about your data.</p>\\n\\t\\t\\t\\t</div>\\n\\t\\t\\t\\t<div class=\"card-action right-align\">\\n\\t\\t\\t\\t  <a href=\"/data-analysis-tutorials/\" class=\"waves-effect waves-light btn\" style=\"color:#000000; background-color:#FFD166\">View</a>\\n\\t\\t\\t\\t</div>\\n            </div>\\n            </a>\\n\\t\\t</div>\\n\\n\\n\\n\\t\\t<div class=\"col l4 s12 m6\">\\n\\n\\t\\t\\t<div class=\"card-panel hoverable\" style=\"height:360px; background-color:#FFFFFF;\">\\n\\t\\t\\t<a href=\"/quantum-computer-programming-tutorial/\" class=\"waves-effect waves-light\" style=\"color:#000\">\\n\\t\\t\\t\\t<div class=\"card-image\">\\n\\t\\t\\t\\t  <img class=\"responsive-img\" src=\"/static/images/categories/quantum-programming.png\" style=\"width:250px\">\\n\\t\\t\\t\\t  <br><span class=\"card-title\"><strong>Quantum Computer Programming</strong></span>\\n\\t\\t\\t\\t</div>\\n\\t\\t\\t\\t<div class=\"card-content\">\\n\\t\\t\\t\\t  <p>Learn the basics and concepts of working with quantum computers and qubits through practical applications and the Qiskit package.</p>\\n\\t\\t\\t\\t</div>\\n\\t\\t\\t\\t<div class=\"card-action right-align\">\\n\\t\\t\\t\\t  <a href=\"/quantum-computer-programming-tutorial/\" class=\"waves-effect waves-light btn\" style=\"color:#000000; background-color:#FFD166\">Start</a>\\n\\t\\t\\t\\t</div>\\n\\t\\t\\t\\t</a>\\n            </div>\\n\\n\\t\\t</div>\\n\\t</div>\\n\\n\\n\\n\\n\\n\\n\\n\\n\\t<div class=\"row\">\\n\\n\\t\\t<div class=\"col l3 s12 m6\">\\n\\t\\t\\t<a href=\"/game-development-tutorials/\" class=\"waves-effect waves-light\" style=\"color:#000\">\\n\\t\\t\\t<div class=\"card-panel hoverable\" style=\"height:360px; background-color:#FFFFFF;\">\\n\\t\\t\\t\\t<div class=\"card-image\">\\n\\t\\t\\t\\t  <img class=\"responsive-img\" src=\"/static/images/categories/pygame-tutorials.png\" style=\"width:250px\">\\n\\t\\t\\t\\t  <br><span class=\"card-title\"><strong>Game Development</strong></span>\\n\\t\\t\\t\\t</div>\\n\\t\\t\\t\\t<div class=\"card-content\">\\n\\t\\t\\t\\t  <p>Create your own games with Python\\'s PyGame library, or check out the multi-platform Kivy.</p>\\n\\t\\t\\t\\t</div>\\n\\t\\t\\t\\t<div class=\"card-action right-align\">\\n\\t\\t\\t\\t  <a href=\"/game-development-tutorials/\" class=\"waves-effect waves-light btn\" style=\"color:#000000; background-color:#FFD166\">View</a>\\n\\t\\t\\t\\t</div>\\n            </div>\\n            </a>\\n\\t\\t</div>\\n\\n\\n\\n\\t\\t<div class=\"col l3 s12 m6\">\\n\\t\\t\\t<a href=\"/python-fundamental-tutorials/\" class=\"waves-effect waves-light\" style=\"color:#000\">\\n\\t\\t\\t<div class=\"card-panel hoverable\" style=\"height:360px; background-color:#FFFFFF;\">\\n\\t\\t\\t\\t<div class=\"card-image\">\\n\\t\\t\\t\\t  <img class=\"responsive-img\" src=\"/static/images/categories/python-3-basics.png\" style=\"width:250px\">\\n\\t\\t\\t\\t  <br><span class=\"card-title\"><strong>Python Fundamentals</strong></span>\\n\\t\\t\\t\\t</div>\\n\\t\\t\\t\\t<div class=\"card-content\">\\n\\t\\t\\t\\t  <p>Learn the basic and intermediate Python fundamentals.</p>\\n\\t\\t\\t\\t</div>\\n\\t\\t\\t\\t<div class=\"card-action right-align\">\\n\\t\\t\\t\\t  <a href=\"/python-fundamental-tutorials/\" class=\"waves-effect waves-light btn\" style=\"color:#000000; background-color:#FFD166\">View</a>\\n\\t\\t\\t\\t</div>\\n            </div>\\n            </a>\\n\\t\\t</div>\\n\\n\\n\\n\\n\\t\\t<!--<div class=\"col l4 s12 m6\">\\n\\t\\t\\t\\n\\t\\t\\t<div class=\"card-panel hoverable\" style=\"height:360px; background-color:#FFFFFF;\">\\n\\t\\t\\t<a href=\"/introduction-to-python-programming/\" class=\"waves-effect waves-light\" style=\"color:#000\">\\n\\t\\t\\t\\t<div class=\"card-image\">\\n\\t\\t\\t\\t  <img class=\"responsive-img\" src=\"/static/images/categories/python-3-basics.png\" style=\"width:250px\">\\n\\t\\t\\t\\t  <br><span class=\"card-title\"><strong>Basics</strong></span>\\n\\t\\t\\t\\t</div>\\n\\t\\t\\t\\t<div class=\"card-content\">\\n\\t\\t\\t\\t  <p>Just getting started?</p> \\n\\t\\t\\t\\t  <p>Not a problem, learn the basics of programming with Python 3 here!</p>\\n\\t\\t\\t\\t</div>\\n\\t\\t\\t\\t<div class=\"card-action right-align\">\\n\\t\\t\\t\\t  <a href=\"/introduction-to-python-programming/\" class=\"waves-effect waves-light btn\" style=\"color:#000000; background-color:#FFD166\">Start</a>\\n\\t\\t\\t\\t</div>\\n\\t\\t\\t\\t</a>\\n            </div>\\n\\n\\n\\t\\t</div>-->\\n\\n        <div class=\"col l3 s12 m6\">\\n            <a href=\"/web-development-tutorials/\" class=\"waves-effect waves-light\" style=\"color:#000\">\\n            <div class=\"card-panel hoverable\" style=\"height:360px; background-color:#FFFFFF;\">\\n                <div class=\"card-image\">\\n                  <img class=\"responsive-img\" src=\"/static/images/categories/webdev.png\" style=\"width:250px\">\\n                  <br><span class=\"card-title\"><strong>Web Development</strong></span>\\n                </div>\\n                <div class=\"card-content\">\\n                  <p>How to develop websites with either the Flask or Django frameworks for Python.</p>\\n                </div>\\n                <div class=\"card-action right-align\">\\n                  <a href=\"/web-development-tutorials/\" class=\"waves-effect waves-light btn\" style=\"color:#000000; background-color:#FFD166\">View</a>\\n                </div>\\n            </div>\\n            </a>\\n        </div>\\n\\n\\t\\t<div class=\"col l3 s12 m6\">\\n\\t\\t\\t<a href=\"/bot-tutorials/\" class=\"waves-effect waves-light\" style=\"color:#000\">\\n\\t\\t\\t<div class=\"card-panel hoverable\" style=\"height:360px; background-color:#FFFFFF;\">\\n\\t\\t\\t\\t<div class=\"card-image\">\\n\\t\\t\\t\\t  <img class=\"responsive-img\" src=\"/static/images/categories/bots.png\" style=\"width:250px\">\\n\\t\\t\\t\\t  <br><span class=\"card-title\"><strong>Bots &amp; AI</strong></span>\\n\\t\\t\\t\\t</div>\\n\\t\\t\\t\\t<div class=\"card-content\">\\n\\t\\t\\t\\t  <p>Creating various software bots, like bots in games, in chats, and to interact with the web. Not to be confused with robotics!</p>\\n\\t\\t\\t\\t</div>\\n\\t\\t\\t\\t<div class=\"card-action right-align\">\\n\\t\\t\\t\\t  <a href=\"/bot-tutorials/\" class=\"waves-effect waves-light btn\" style=\"color:#000000; background-color:#FFD166\">View</a>\\n\\t\\t\\t\\t</div>\\n            </div>\\n            </a>\\n\\t\\t</div>\\n\\t</div>\\n\\n\\n\\n\\n\\n\\n\\n\\n    <div class=\"row\">\\n\\n        <div class=\"col l4 s12 m6\">\\n            <a href=\"/robotics-tutorials/\" class=\"waves-effect waves-light\" style=\"color:#000\">\\n            <div class=\"card-panel hoverable\" style=\"height:360px; background-color:#FFFFFF;\">\\n                <div class=\"card-image\">\\n                  <img class=\"responsive-img\" src=\"/static/images/categories/robotics_with_raspberry_pi_gopigo.jpg\" style=\"width:250px\">\\n                  <br><span class=\"card-title\"><strong>Robotics</strong></span>\\n                </div>\\n                <div class=\"card-content\">\\n                  <p>Control hardware with Python programming and the Raspberry Pi.</p>\\n                </div>\\n                <div class=\"card-action right-align\">\\n                  <a href=\"/robotics-tutorials/\" class=\"waves-effect waves-light btn\" style=\"color:#000000; background-color:#FFD166\">View</a>\\n                </div>\\n            </div>\\n            </a>\\n        </div>\\n\\n        <div class=\"col l4 s12 m6\">\\n\\n            <a href=\"/gui-development-tutorials/\" class=\"waves-effect waves-light\" style=\"color:#000\">\\n            <div class=\"card-panel hoverable\" style=\"height:360px; background-color:#FFFFFF;\">\\n                <div class=\"card-image\">\\n                  <img class=\"responsive-img\" src=\"/static/images/categories/tkinter-gui-tutorial-with-python-3.png\" style=\"width:250px\">\\n                  <br><span class=\"card-title\"><strong>GUIs</strong></span>\\n                </div>\\n                <div class=\"card-content\">\\n                  <p>Create software with a user interface using Tkinter, PyQt, or Kivy.</p>\\n                </div>\\n                <div class=\"card-action right-align\">\\n                  <a href=\"/gui-development-tutorials/\" class=\"waves-effect waves-light btn\" style=\"color:#000000; background-color:#FFD166\">View</a>\\n                </div>\\n            </div>\\n            </a>\\n\\n        </div>\\n\\n\\n\\n        <div class=\"col l4 s12 m6\">\\n    \\t  <div class=\"card\">\\n    \\t    <!--<div class=\"card-content\">\\n    \\t      <p>Curious about more than just Python? While not covered in nearly as much depth, here are some tutorials in other languages:</p>\\n    \\t    </div>-->\\n\\n    \\t    <div class=\"card-tabs\">\\n    \\t      <ul class=\"tabs tabs-fixed-width\">\\n    \\t        <li class=\"tab\"><a class=\"active\" href=\"#golang\">Golang</a></li>\\n    \\t        <!--<li class=\"tab\"><a href=\"#cpp\">C++</a></li>\\n    \\t        <li class=\"tab\"><a href=\"#julia\">Julia</a></li>-->\\n    \\t      </ul>\\n    \\t    </div>\\n\\n    \\t    <div class=\"card-content grey lighten-4\">\\n    \\t      <div id=\"golang\">\\n    \\t        <p>Go is a programming language aimed at being simple, easy to work with, and capable of high performance.</p><br>\\n    \\t        <a href=\"/go/\">\\n    \\t          <img class=\"responsive-img\" src=\"/static/images/categories/golang-tutorials.png\" style=\"width:150px;\">\\n    \\t        </a>\\n\\n    \\t        <div class=\"card-action left-align\">\\n    \\t          <a href=\"/go/\" class=\"waves-effect waves-light btn\" style=\"color:#000000; background-color:#FFD166\">View Tutorial</a>\\n    \\t        </div>\\n    \\t      </div>\\n\\n    \\t      <!--<div id=\"gpp\">C++ content</div>\\n    \\t      <div id=\"julia\">Julia content</div>-->\\n\\n    \\t    </div>\\n    \\t  </div>\\n        </div>\\n\\n\\n    </div>\\n\\n\\n\\n\\t\\t\\t</div>\\n\\t\\t</div>\\n\\n\\t\\t<!--login modal-->\\n\\t\\t\\n\\n\\t\\t<!--Register modal-->\\n\\t\\t\\n\\n\\n\\t\\t<script>\\n\\t\\t\\t$(document).ready(function(){\\n\\t\\t\\t\\t$(\".button-collapse\").sideNav();\\n\\t\\t\\t\\t$(\\'.modal-trigger\\').leanModal();\\n\\t\\t\\t\\t$(\\'.collapsible\\').collapsible({\\n\\t\\t\\t\\t  accordion : false // A setting that changes the collapsible behavior to expandable instead of the default accordion style\\n\\t\\t\\t\\t});\\n\\t\\t\\t\\t$(\\'#aside\\').pushpin({ top:110, bottom:500 });\\n\\t\\t  });\\n\\t\\t</script>\\n\\t\\t<script>\\n\\t\\t  $(document).ready(function(){\\n\\t\\t\\t$(\\'.collapsible\\').collapsible({\\n\\t\\t\\t  accordion : false // A setting that changes the collapsible behavior to expandable instead of the default accordion style\\n\\t\\t\\t});\\n\\t\\t\\t$(\\'select\\').material_select();\\n\\t\\t  });\\n\\t  </script>\\n\\t  <script>\\n\\t\\tfunction goBack() {\\n\\t\\t\\twindow.history.back()\\n\\t\\t}\\n\\t</script>\\n\\t\\t<script type=\"text/javascript\" src=\"/static/js/run_prettify.js\"></script>\\n\\n\\t</body>\\n\\n<footer class=\"page-footer\">\\n          <div class=\"container\">\\n            <div class=\"row\">\\n              <div class=\"col l6 s12\">\\n                <h5 class=\"white-text\">You\\'ve reached the end!</h5>\\n\\n                <p class=\"grey-text text-lighten-4\">Contact: Harrison@pythonprogramming.net.</p>\\n                <ul>\\n                  <li><a class=\"grey-text text-lighten-3\" href=\"/support-donate/\">Support this Website!</a></li>\\n                  <li><a class=\"grey-text text-lighten-3\" href=\"/consulting/\">Consulting and Contracting</a></li>\\n                  <li><a class=\"grey-text text-lighten-3\" href=\"https://www.facebook.com/pythonprogramming.net/\">Facebook</a></li>\\n                  <li><a class=\"grey-text text-lighten-3\" href=\"https://twitter.com/sentdex\">Twitter</a></li>\\n                  <li><a class=\"grey-text text-lighten-3\" href=\"https://instagram.com/sentdex\">Instagram</a></li>\\n                </ul>\\n              </div>\\n              <div class=\"col l4 offset-l2 s12\">\\n                <h6 class=\"white-text\">Legal stuff:</h6>\\n                <ul>\\n                  <li><a class=\"grey-text text-lighten-3\" href=\"/about/tos/\">Terms and Conditions</a></li>\\n                  <li><a class=\"grey-text text-lighten-3\" href=\"/about/privacy-policy/\">Privacy Policy</a></li>\\n\\n                </ul>\\n              </div>\\n            </div>\\n          </div>\\n          <a href=\"https://xkcd.com/353/\" target=\\'blank\\'><p class=\"grey-text right\" style=\\'padding-right:10px\\'>Programming is a superpower.</p></a>\\n          <div class=\"footer-copyright\">\\n            <div class=\"container\">\\n            \\xc2\\xa9 OVER 9000! PythonProgramming.net\\n\\n            </div>\\n\\n          </div>\\n        </footer>\\n\\n</html>\\n\\n\\n\\n\\n\\n\\n\\n\\n\\n\\n\\n\\n\\n\\n'\n"
     ]
    }
   ],
   "source": [
    "# Vamos ler e imprimir essa resposta\n",
    "resposta = pagina.read()\n",
    "print(resposta)"
   ]
  },
  {
   "cell_type": "markdown",
   "metadata": {},
   "source": [
    "***"
   ]
  },
  {
   "cell_type": "markdown",
   "metadata": {},
   "source": [
    "Ao invéz disso para realizar um requerimento desse jeito nós precisamos mandar informações para o website sobre nós como o nosso endereço, o browser que estamos usando. Todas essas informações ficam contidas num bloco de informações chamado 'headers'"
   ]
  },
  {
   "cell_type": "markdown",
   "metadata": {},
   "source": [
    "***"
   ]
  },
  {
   "cell_type": "code",
   "execution_count": 11,
   "metadata": {},
   "outputs": [],
   "source": [
    "# Pega o endereço do google\n",
    "google = 'http://www.google.com/search?#q=pesquisa'"
   ]
  },
  {
   "cell_type": "code",
   "execution_count": 12,
   "metadata": {},
   "outputs": [],
   "source": [
    "try:\n",
    "    # Vamos colocar nossas informações dentro do header (User-Agent - identifica o browser que to utilizando)\n",
    "    headers = {}\n",
    "    headers['User-Agent'] = \"Mozilla/5.0 (X11; Linux i686) AppleWebKit/537.17 (KHTML, like Gecko) Chrome/24.0.1312.27 Safari/537.17\"\n",
    "    # Isso é pra mostrar que você é um browser se não ele não te da acesso a certas páginas\n",
    "    \n",
    "    \n",
    "    # Vamos novamente realizar um requerimentoo, entretando\n",
    "    # desta vez vamos passar os headers para realiza-lo\n",
    "    requisicao = request.Request(google, headers=headers)\n",
    "    \n",
    "    # Vamos obter a resposta\n",
    "    pagina = request.urlopen(requisicao)\n",
    "    resposta = pagina.read()\n",
    "    \n",
    "    # E desta vez vamos colocar toda a informação dentro de um arquivo\n",
    "    arquivo = open('com_headers.html', 'w')\n",
    "    arquivo.write(str(resposta))\n",
    "    arquivo.close()\n",
    "except Exception as e:\n",
    "    print(str(e))"
   ]
  },
  {
   "cell_type": "code",
   "execution_count": 13,
   "metadata": {},
   "outputs": [],
   "source": [
    "import os\n",
    "os.remove(\"./com_headers.html\")"
   ]
  }
 ],
 "metadata": {
  "kernelspec": {
   "display_name": "Python 3",
   "language": "python",
   "name": "python3"
  },
  "language_info": {
   "codemirror_mode": {
    "name": "ipython",
    "version": 3
   },
   "file_extension": ".py",
   "mimetype": "text/x-python",
   "name": "python",
   "nbconvert_exporter": "python",
   "pygments_lexer": "ipython3",
   "version": "3.7.6"
  }
 },
 "nbformat": 4,
 "nbformat_minor": 2
}
