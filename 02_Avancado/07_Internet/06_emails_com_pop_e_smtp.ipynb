{
 "cells": [
  {
   "cell_type": "markdown",
   "metadata": {},
   "source": [
    "## Lidar com emails utilizando protocolos POP e SMTP\n",
    "***"
   ]
  },
  {
   "cell_type": "markdown",
   "metadata": {},
   "source": [
    "Além das ferramentas que vimos para lidar com troca de arquivos, existem protocolos específicos para lidar com troca de emails: POP e IMAP para receber emails de um servidor e SMTP para mandar emails, e outros formalismos com RFC822 para especificação do conteúdo e formato.\n",
    "\n",
    "Ferramentas como o Outlook utilizam os protocolos SMTP e POP.\n",
    "\n",
    "Assim como FTP esses protocolos são montados com base em sockets (portas 110 para POP e 25 para SMTP), e o python também possue uma biblioteca específica para lidar com esses protocolos.\n",
    "\n",
    "Antes de ver especificamente como mandar e receber emails, vamos abrir o arquivo mailconfig para ver algumas configurações necessárias."
   ]
  },
  {
   "cell_type": "markdown",
   "metadata": {},
   "source": [
    "***"
   ]
  },
  {
   "cell_type": "code",
   "execution_count": null,
   "metadata": {},
   "outputs": [],
   "source": [
    "# Servidor de POP3 e seu usuário\n",
    "servidor_pop = \"pop.googlemail.com\"\n",
    "usuario_pop = \"victorhad\""
   ]
  },
  {
   "cell_type": "code",
   "execution_count": null,
   "metadata": {},
   "outputs": [],
   "source": [
    "# Servidor de SMTP\n",
    "# Tem que ver como rodar um servidor smtp na sua máquina (verificar smtpd se quiser subir um servidor smtp)\n",
    "servidor_smtp = \"smtp.gmail.com\"\n",
    "porta_smtp = 587"
   ]
  },
  {
   "cell_type": "code",
   "execution_count": null,
   "metadata": {},
   "outputs": [],
   "source": [
    "# Podemos inserir algumas informações opcionais como signature e endereço\n",
    "# Além de que pode enviar para o servidor smtp o usuário e senha para poder ser autenticado\n",
    "usuario_smtp = 'victorhad@gmail.com'"
   ]
  },
  {
   "cell_type": "markdown",
   "metadata": {},
   "source": [
    "***"
   ]
  },
  {
   "cell_type": "markdown",
   "metadata": {},
   "source": [
    "Vamos começar com o servidor POP (lêr emails)"
   ]
  },
  {
   "cell_type": "markdown",
   "metadata": {},
   "source": [
    "***"
   ]
  },
  {
   "cell_type": "code",
   "execution_count": null,
   "metadata": {},
   "outputs": [],
   "source": [
    "import poplib\n",
    "import getpass\n",
    "import sys"
   ]
  },
  {
   "cell_type": "code",
   "execution_count": null,
   "metadata": {},
   "outputs": [],
   "source": [
    "# Configurando o servidor\n",
    "senha = getpass.getpass('Senha para %s: ' % servidor_pop3)"
   ]
  },
  {
   "cell_type": "code",
   "execution_count": null,
   "metadata": {},
   "outputs": [],
   "source": [
    "print('Conectando...')"
   ]
  },
  {
   "cell_type": "markdown",
   "metadata": {},
   "source": [
    "Por falta de exmplos práticos estaremos conectando no servidor do gmail. Para tanto utilizaremos um objeto especial o POP3_SSL ao inves do objeto clássico do POP3. Esta diferença ocorre porque o servidor do google é implementado por cima de um socket criptografado com SSL. É preciso notar que a porta para servidores desse tipo é, por default, 995, ao invés de 110 do POP3. A porta pode ser configurado especialmente para cada servidor passando o parâmetro como uma string para a construção do objeto."
   ]
  },
  {
   "cell_type": "code",
   "execution_count": null,
   "metadata": {},
   "outputs": [],
   "source": [
    "servidor = poplib.POP3_SSL(servidor_pop)"
   ]
  },
  {
   "cell_type": "code",
   "execution_count": null,
   "metadata": {},
   "outputs": [],
   "source": [
    "servidor.user(usuario_pop)"
   ]
  },
  {
   "cell_type": "code",
   "execution_count": null,
   "metadata": {},
   "outputs": [],
   "source": [
    "servidor.pass_(senha)"
   ]
  },
  {
   "cell_type": "code",
   "execution_count": null,
   "metadata": {
    "slideshow": {
     "slide_type": "-"
    }
   },
   "outputs": [],
   "source": [
    "# Uma vez conectado iniciamos o processo de recebimento de dados\n",
    "try:\n",
    "    # Se o servidor tiver alguma mensagem de boas vindas nós o recebemos a partir do método 'getwelcome'\n",
    "    print(servidor.getwelcome())\n",
    "    \n",
    "    # Podemos obter dados da caixa de email utilizando o método stat\n",
    "    qtd_mensagens, qtd_bytes = servidor.stat()\n",
    "    \n",
    "    # Imprimimos as informações recebidas\n",
    "    print('Existem ', qtd_mensagens, 'mensagens de email em', qtd_bytes, 'bytes')\n",
    "    \n",
    "    # Aqui imprimimos as listas de mensagens com os bytes correspondentes a cada uma delas\n",
    "    print(servidor.list()) # [index_da_mensagem qtd_bytes, ...]\n",
    "    \n",
    "    # Esperamos o usuário querer prosseguir para ler o conteúdo das mensagens\n",
    "    print('-' * 80)\n",
    "    input('[Pressione Enter para Prosseguir]')\n",
    "    \n",
    "    # Iremos percorrer cada uma das mensagens contidas na caixa de emails\n",
    "    for i in range(qtd_mensagens):\n",
    "        # Podemos ler o conteúdo das mensagens utilizando o método\n",
    "        # retr e passando o número da mensagem que nós desejamos obter\n",
    "        headers, conteudo, octets = servidor.retr(i+1)\n",
    "        \n",
    "        # Imprimimos todo o conteúdo da mensagem que acabamos de ler\n",
    "        # só que temos que decofica-la, uma vez que todo o texto de\n",
    "        # email está em bytes para o python3.x\n",
    "        for linha in conteudo: print(linha.decode())\n",
    "            \n",
    "        # Imprimimos um separador de conteúdo\n",
    "        print('-' * 80)\n",
    "        \n",
    "        # Se nós não tivermos lido todas as mensagens ainda podemos\n",
    "        # esperar o usuário pressionar enter para prosseguir com a\n",
    "        # leitura de mensagens\n",
    "        if i < qtd_mensagens - 1:\n",
    "            input('[Pressione Enter para Prosseguir]')\n",
    "finally:\n",
    "    # Nós fechamos a conexão com o email a partir do método quit\n",
    "    servidor.quit()"
   ]
  },
  {
   "cell_type": "markdown",
   "metadata": {},
   "source": [
    "***"
   ]
  },
  {
   "cell_type": "markdown",
   "metadata": {},
   "source": [
    "Vamos enviar emails com o SMTP"
   ]
  },
  {
   "cell_type": "markdown",
   "metadata": {
    "slideshow": {
     "slide_type": "-"
    }
   },
   "source": [
    "***"
   ]
  },
  {
   "cell_type": "code",
   "execution_count": null,
   "metadata": {},
   "outputs": [],
   "source": [
    "import smtplib\n",
    "import email.utils\n",
    "import getpass"
   ]
  },
  {
   "cell_type": "code",
   "execution_count": null,
   "metadata": {},
   "outputs": [],
   "source": [
    "# Vamos obter a senha de acesso para o servidor SMTP\n",
    "senha = getpass.getpass('Senha para %s: ' % servidor_smtp)"
   ]
  },
  {
   "cell_type": "code",
   "execution_count": null,
   "metadata": {},
   "outputs": [],
   "source": [
    "# Pede pelas opções de destinatário e remetente.\n",
    "# Note que podemos ter vários destinatários basta\n",
    "# separa-los por ;\n",
    "de = input('De? ').strip()\n",
    "para = input('Para? ').strip()\n",
    "paras = para.split(';')"
   ]
  },
  {
   "cell_type": "code",
   "execution_count": null,
   "metadata": {},
   "outputs": [],
   "source": [
    "# Configuramos o assunto da mensagem que informamos a data em formato de rfc2822\n",
    "assunto = input('Assunto? ').strip()\n",
    "data = email.utils.formatdate()"
   ]
  },
  {
   "cell_type": "code",
   "execution_count": null,
   "metadata": {},
   "outputs": [],
   "source": [
    "# Criamos os headers de emails padrão\n",
    "conteudo = (\"From: %s\\nTo: %s\\nDate: %s\\nSubject: %s\\n\\n\" % (de, para, data, assunto))"
   ]
  },
  {
   "cell_type": "code",
   "execution_count": null,
   "metadata": {},
   "outputs": [],
   "source": [
    "print(conteudo)"
   ]
  },
  {
   "cell_type": "code",
   "execution_count": null,
   "metadata": {},
   "outputs": [],
   "source": [
    "# Começamos a escrever o conteúdo da mensagem\n",
    "print('Escreva a mensagem, para finalizar aperte Enter com a mensagem em branco')\n",
    "while True:\n",
    "    # Recebemos uma linha digitada pelo usuário\n",
    "    linha = input('> ')\n",
    "    \n",
    "    # Se o usuário terminar de preencher o texto e fornecer uma linha vazia\n",
    "    # podemos encerrar a mensagem\n",
    "    if not linha: break\n",
    "        \n",
    "    linha += '\\n'\n",
    "    conteudo += linha"
   ]
  },
  {
   "cell_type": "code",
   "execution_count": null,
   "metadata": {},
   "outputs": [],
   "source": [
    "print(conteudo)"
   ]
  },
  {
   "cell_type": "code",
   "execution_count": null,
   "metadata": {},
   "outputs": [],
   "source": [
    "# Iniciamos a conexão com o servidor SMTP\n",
    "print(\"Conectando...\")\n",
    "servidor = smtplib.SMTP(servidor_smtp, porta_smtp)"
   ]
  },
  {
   "cell_type": "markdown",
   "metadata": {},
   "source": [
    "Novamente, para efeitos didáticos estaremos conectando com o gmail. O servidor SMTP do gmail pode ter configuração de um protocolo de criptografia por cima do tipo TLS ou SSL. No caso utilizamos a porta 587, que configura um servidor TLS (poderiamos usar a porta 465 para SSL), e, para servidores deste tipo, é preciso chamar o método 'starttls' antes de começar as operações"
   ]
  },
  {
   "cell_type": "code",
   "execution_count": null,
   "metadata": {},
   "outputs": [],
   "source": [
    "servidor.starttls() # Só usa isso se usar a porta 587"
   ]
  },
  {
   "cell_type": "code",
   "execution_count": null,
   "metadata": {},
   "outputs": [],
   "source": [
    "# Além disso, como se trata do servidor do google, é preciso logar no mesmo\n",
    "servidor.login(usuario_smtp, senha)"
   ]
  },
  {
   "cell_type": "code",
   "execution_count": null,
   "metadata": {},
   "outputs": [],
   "source": [
    "# Tentamos mandar o email conforme as configurações fornecidas pelo usuário\n",
    "falhou = servidor.sendmail(de, paras, conteudo)"
   ]
  },
  {
   "cell_type": "code",
   "execution_count": null,
   "metadata": {},
   "outputs": [],
   "source": [
    "# Encerramos a conexão com o servidor smtp\n",
    "servidor.quit()"
   ]
  },
  {
   "cell_type": "code",
   "execution_count": null,
   "metadata": {},
   "outputs": [],
   "source": [
    "# Se o envio do email tiver falhado nós imprimimos uma mensagem informando os problemas encontrados\n",
    "if falhou:\n",
    "    print(\"Envio falhou:\", falhou)\n",
    "else:\n",
    "    print(\"Email enviado com sucesso!\")"
   ]
  }
 ],
 "metadata": {
  "kernelspec": {
   "display_name": "Python 3",
   "language": "python",
   "name": "python3"
  },
  "language_info": {
   "codemirror_mode": {
    "name": "ipython",
    "version": 3
   },
   "file_extension": ".py",
   "mimetype": "text/x-python",
   "name": "python",
   "nbconvert_exporter": "python",
   "pygments_lexer": "ipython3",
   "version": "3.7.6"
  }
 },
 "nbformat": 4,
 "nbformat_minor": 2
}
