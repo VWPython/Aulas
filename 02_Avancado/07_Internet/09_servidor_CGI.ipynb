{
 "cells": [
  {
   "cell_type": "markdown",
   "metadata": {},
   "source": [
    "## Servidor CGI\n",
    "***"
   ]
  },
  {
   "cell_type": "markdown",
   "metadata": {},
   "source": [
    "CGI = Common Gateway Interface\n",
    "\n",
    "Consiste numa importante tecnologia que permite gerar páginas dinâmicas, permitindo a um navegador passar parâmetros para um programa alojado num servidor web. Assim, designam-se por scripts CGI os pequenos programas que interpretam esses parâmetros e geram a página depois de os processar.\n",
    "\n",
    "Embora a linguagem tipicamente associada aos CGI seja o Perl, o CGI foi concebido de forma a ser independente da linguagem utilizada. Atualmente tecnologias como ASP.NET, PHP, Python e Ruby continuam a utilizar a especificação.\n",
    "\n",
    "EXEMPLOS: Django, App Engine, CherryPy e Zope.\n",
    "\n",
    "O processo de comunicação do servidor envolve as seguintes etapas.\n",
    "\n",
    "#### Envio\n",
    "\n",
    "1. Você faz um cadastro no site\n",
    "2. Você clica no botão 'cadastrar'\n",
    "3. Browser manda suas informações através da internet para o servidor especificado, para isso bytes são enviados por meio de sockets.\n",
    "4. Um programa HTTP, funcionando constantemente, recebe as informações.\n",
    "\n",
    "#### Processamento\n",
    "\n",
    "1. O programa HTTP recebe os bytes do socket e decide o que fazer dado o que foi requisitado.\n",
    "2. Se o que foi requisitado pelo browser for de extensão HTML, então o servidor devolverá a página.\n",
    "3. Se o URL requisitado for executável (extensão .cgi, .py, ...) o HTTP irá iniciar o programa no servidor para processar o requerimento e direcionar os dados recebidos pelo browser para o programa.\n",
    "4. O programa iniciado irá lidar com o que foi requisitado.\n",
    "\n",
    "#### Resposta\n",
    "\n",
    "O script CGI devolve o que foi processado no formato de uma página HTML para o browser. Para isso o programa HTTP está conectado com um socket do browser, e esse socket é definido como a saída padrão para o programa CGI.\n",
    "\n",
    "Para que possamos trabalhar com programação CGI antes de mais nada é preciso configurar um servidor. Se você já tiver um servidor configurado você pode utiliza-lo, se não é preciso configura-lo. Você pode criar uma máquina apenas para rodar o servidor ou utilizar o seu próprio computador e configurar o servidor nele. Os tutoriais abaixo exlicam como fazer essas configuraçôes.\n",
    "\n",
    "Podemos usar um servidor como o NGINX ou Apache.\n",
    "\n",
    "Porém no caso vamos Implementar um server HTTP em Python que sabe como utilizar paginas HTML e rodar scripts CGI escritos em Python; Esse script foi escrito com propósitos de teste em um ambiente local.\n",
    "\n",
    "No diretorio devemos colocar um arquivo index.html que será a página principal."
   ]
  },
  {
   "cell_type": "markdown",
   "metadata": {},
   "source": [
    "***"
   ]
  },
  {
   "cell_type": "code",
   "execution_count": null,
   "metadata": {},
   "outputs": [],
   "source": [
    "import os\n",
    "from http.server import HTTPServer, CGIHTTPRequestHandler"
   ]
  },
  {
   "cell_type": "code",
   "execution_count": null,
   "metadata": {},
   "outputs": [],
   "source": [
    "# Diretório utilizado para manter arquivos HTML e scripts\n",
    "diretorio = './html'"
   ]
  },
  {
   "cell_type": "code",
   "execution_count": null,
   "metadata": {},
   "outputs": [],
   "source": [
    "# Número da porta, http://servidor/ se for 80\n",
    "# caso contrário use http://servidor:8080/\n",
    "porta = 8080"
   ]
  },
  {
   "cell_type": "code",
   "execution_count": null,
   "metadata": {},
   "outputs": [],
   "source": [
    "# Imprime as configurações\n",
    "print(\"diretório %s, porta %s\" % (diretorio, porta))"
   ]
  },
  {
   "cell_type": "code",
   "execution_count": null,
   "metadata": {},
   "outputs": [],
   "source": [
    "# Mudar para o diretório de trabalho\n",
    "os.chdir(diretorio)"
   ]
  },
  {
   "cell_type": "code",
   "execution_count": null,
   "metadata": {},
   "outputs": [],
   "source": [
    "# Configurar o endereço do servidor\n",
    "endereco = ('', porta)"
   ]
  },
  {
   "cell_type": "code",
   "execution_count": null,
   "metadata": {},
   "outputs": [],
   "source": [
    "# Criar o servidor HTTP com o Handler de HTTP\n",
    "servidor = HTTPServer(endereco, CGIHTTPRequestHandler)"
   ]
  },
  {
   "cell_type": "code",
   "execution_count": null,
   "metadata": {},
   "outputs": [],
   "source": [
    "# Esperar receber algum comando a ser executado\n",
    "servidor.serve_forever()"
   ]
  }
 ],
 "metadata": {
  "kernelspec": {
   "display_name": "Python 3",
   "language": "python",
   "name": "python3"
  },
  "language_info": {
   "codemirror_mode": {
    "name": "ipython",
    "version": 3
   },
   "file_extension": ".py",
   "mimetype": "text/x-python",
   "name": "python",
   "nbconvert_exporter": "python",
   "pygments_lexer": "ipython3",
   "version": "3.5.2"
  }
 },
 "nbformat": 4,
 "nbformat_minor": 2
}
