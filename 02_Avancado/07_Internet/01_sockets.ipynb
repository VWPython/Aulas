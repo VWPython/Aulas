{
 "cells": [
  {
   "cell_type": "markdown",
   "metadata": {},
   "source": [
    "# Introdução ao Sockets\n",
    "***"
   ]
  },
  {
   "cell_type": "markdown",
   "metadata": {},
   "source": [
    "Python é muito usado em aplicativos de internet, sendo extensamente usado pela engine de busca da google, o youtube, dropbox entre outros.\n",
    "\n",
    "Existem muitas ferramentas em python para se programar para internet, entre elas a Google App Engine, Django e o Jython (código java em python).\n",
    "\n",
    "**Sockets**: São interfaces programáveis de comunicação entre software que podem estar rodando em computadores distintos na rede. Eles permitem transferir strings em bytes de um processo para outro e é a base da maioria dos protocolos de alto nível, como FTP, páginas da Web e email.\n",
    "\n",
    "A comunicação entre diferentes computadores deve ser feita tendo o endereço de um computador e o canal de comunicação a ser usado, ou seja, o nome da máquina (endereço de IP ou nome do domínio), e o port number (número de identificação da conversa), a combinação de ambos fornecerá um dialog na net.\n",
    "\n",
    "Toda comunicação na internet é baseada em protocolos que rodam por cima dos Sockets. São eles que padronizam o formato da mensagem (estrutura para os bytes a serem trocados) e a port number do socket (entre 0 e 65535).\n",
    "\n",
    "```\n",
    "Port Number 0-1023: Protocolos padrões usados na internet\n",
    "\n",
    "Protocolo Python --- Função comum                  --- Port Number    --- Modulo do Python\n",
    "HTTP             --- Páginas da web (web page)     --- 80             --- http.client ou httplib2\n",
    "NNTP             --- Novidades Usenet              --- 119            --- nntplib\n",
    "FTP              --- Transferência de arquivos     --- 20             --- ftplib\n",
    "FTP              --- Controle de transferência     --- 21             --- ftplib\n",
    "SMTP             --- Mandar email                  --- 25             --- smtplib\n",
    "POP3             --- Buscar email                  --- 110            --- poplib\n",
    "IMAP4            --- Buscar email                  --- 143            --- imaplib\n",
    "Finger           --- Informacional                 --- 79             --- n/a\n",
    "SSH              --- Linhas de comando             --- 22             --- n/a\n",
    "Telnet           --- Linhas de comando             --- 23             --- telnetlib\n",
    "```"
   ]
  },
  {
   "cell_type": "markdown",
   "metadata": {},
   "source": [
    "***\n",
    "## A estrutura cliente servidor\n",
    "***\n",
    "\n",
    "Para boa parte dos serviços a Net utiliza a estrutura cliente-servidor, é um estilo arquitetura. O servidor é aquele que está continuamente executando e esperando uma entrada, e o cliente são aqueles que tentam se comunicar com o servidor.\n",
    "\n",
    "Por exemplo, quando eu entro em www.python.org, estou pedindo para entrar em uma determinada página, logo to pedindo para o servidor para ele me devolver a página do python.org, logo o browser é o cliente que solicita a página para servidor, que irá devolver a página para o brownser. "
   ]
  },
  {
   "cell_type": "markdown",
   "metadata": {},
   "source": [
    "***\n",
    "### Lado do cliente\n",
    "***\n",
    "\n",
    "Para rodar o lado do cliente deve executar o arquivo **python3 socket_server.py** no terminal.\n",
    "\n",
    "O lado do cliente usa sockets para mandar data para o servidor, e imprime a resposta do servidor para cada linha na mensagem. Podemos colocar o host como sendo localhost para indicar que  o servidor está na mesma máquina. Para rodar através da internet é preciso colocar o servidor em outra máquina e passar para o nome do host o endereço IP ou o nome do domínio.\n",
    "\n",
    "Para acessar o IP da máquina use **ifconfig** em wlo1 em inet addr: 192.1..."
   ]
  },
  {
   "cell_type": "code",
   "execution_count": 1,
   "metadata": {},
   "outputs": [],
   "source": [
    "# importar tudo do socket\n",
    "from socket import *"
   ]
  },
  {
   "cell_type": "markdown",
   "metadata": {},
   "source": [
    "***"
   ]
  },
  {
   "cell_type": "code",
   "execution_count": 2,
   "metadata": {},
   "outputs": [],
   "source": [
    "# Configurações de conexão do servidor, o nome do servidor pode\n",
    "# ser o endereço IP ou o domínio (www.algo.com)\n",
    "server_host = 'localhost'\n",
    "server_port = 5000"
   ]
  },
  {
   "cell_type": "markdown",
   "metadata": {},
   "source": [
    "***"
   ]
  },
  {
   "cell_type": "code",
   "execution_count": 3,
   "metadata": {},
   "outputs": [],
   "source": [
    "# Mensagem a ser mandada codificada em bytes\n",
    "message = [b'Ola mundo da internet!']"
   ]
  },
  {
   "cell_type": "markdown",
   "metadata": {},
   "source": [
    "***"
   ]
  },
  {
   "cell_type": "code",
   "execution_count": 4,
   "metadata": {},
   "outputs": [],
   "source": [
    "# Criamos o socket e o conectamos ao servidor\n",
    "client_socket = socket(AF_INET, SOCK_STREAM)\n",
    "client_socket.connect((server_host, server_port))"
   ]
  },
  {
   "cell_type": "markdown",
   "metadata": {},
   "source": [
    "***"
   ]
  },
  {
   "cell_type": "code",
   "execution_count": 5,
   "metadata": {},
   "outputs": [],
   "source": [
    "def send():\n",
    "    # Mandamos a mensagem por linha\n",
    "    for line in message:\n",
    "        client_socket.send(line)\n",
    "        \n",
    "        # Depois de mandar uma linha esperamos uma resposta do servidor\n",
    "        data = client_socket.recv(1024)\n",
    "        print(\"Cliente recebeu:\", data)\n",
    "        \n",
    "    client_socket.close()"
   ]
  },
  {
   "cell_type": "markdown",
   "metadata": {},
   "source": [
    "***"
   ]
  },
  {
   "cell_type": "code",
   "execution_count": 6,
   "metadata": {},
   "outputs": [
    {
     "name": "stdout",
     "output_type": "stream",
     "text": [
      "Cliente recebeu: b'Resposta => Ola mundo da internet!'\n"
     ]
    }
   ],
   "source": [
    "send()"
   ]
  }
 ],
 "metadata": {
  "kernelspec": {
   "display_name": "Python 3",
   "language": "python",
   "name": "python3"
  },
  "language_info": {
   "codemirror_mode": {
    "name": "ipython",
    "version": 3
   },
   "file_extension": ".py",
   "mimetype": "text/x-python",
   "name": "python",
   "nbconvert_exporter": "python",
   "pygments_lexer": "ipython3",
   "version": "3.7.6"
  }
 },
 "nbformat": 4,
 "nbformat_minor": 2
}
