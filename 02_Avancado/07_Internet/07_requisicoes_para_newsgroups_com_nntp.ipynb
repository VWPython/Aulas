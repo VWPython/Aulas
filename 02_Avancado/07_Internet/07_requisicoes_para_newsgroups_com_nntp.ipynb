{
 "cells": [
  {
   "cell_type": "markdown",
   "metadata": {},
   "source": [
    "## Requisições para Newsgroups com NNTP\n",
    "***"
   ]
  },
  {
   "cell_type": "markdown",
   "metadata": {},
   "source": [
    "NNTP = Network News Transfer Protocol e é usado para ler e postar arquivos para 'newsgroups' da Usenet.\n",
    "\n",
    "Apesar do nome 'newsgroups' são grupos de discussão baseados em repositórios geralmente inseridos num sistema Usenet que armazena postagens de vários usuários em localizações diferentes. Um exemplo é o **Google Groups**."
   ]
  },
  {
   "cell_type": "markdown",
   "metadata": {},
   "source": [
    "***"
   ]
  },
  {
   "cell_type": "code",
   "execution_count": null,
   "metadata": {},
   "outputs": [],
   "source": [
    "import nntplib"
   ]
  },
  {
   "cell_type": "code",
   "execution_count": null,
   "metadata": {},
   "outputs": [],
   "source": [
    "# Lista de headers que nós desejamos imprimir\n",
    "headers = ['From', 'Subject', 'Date', 'Newsgroups', 'Lines']"
   ]
  },
  {
   "cell_type": "code",
   "execution_count": null,
   "metadata": {},
   "outputs": [],
   "source": [
    "# Obter as configurações do servidor\n",
    "servidor = \"news.gmane.org\"\n",
    "grupo = \"gmane.comp.python.committers\""
   ]
  },
  {
   "cell_type": "code",
   "execution_count": null,
   "metadata": {},
   "outputs": [],
   "source": [
    "# realiza a conexão com o servidor\n",
    "print('Conectando com', servidor, 'para', grupo)\n",
    "conexao = nntplib.NNTP(servidor)\n",
    "(resposta, contador, primeiro, qtd_mensagens, nome_grupo) = conexao.group(grupo)\n",
    "print('%s possui %s artigos: %s-%s' % (nome_grupo, contador, primeiro, qtd_mensagens))"
   ]
  },
  {
   "cell_type": "code",
   "execution_count": null,
   "metadata": {},
   "outputs": [],
   "source": [
    "# O xhdr manda um comando para o servidor, e esse comando que vai permitir eu\n",
    "# receber algumas coisas do meu servidor, no caso obtem todos os assuntos\n",
    "# tratados no intervalo considerado (no nosso caso, todas as mensagens\n",
    "# no repositorio)\n",
    "(resposta, assuntos) = conexao.xhdr('subject', (str(primeiro) + '-' + str(qtd_mensagens)))"
   ]
  },
  {
   "cell_type": "code",
   "execution_count": null,
   "metadata": {},
   "outputs": [],
   "source": [
    "# Obtem o corpo das mensagens:\n",
    "for (indice, assunto) in assuntos:\n",
    "    # Imprime a identificação da postagem e o assunto da postagem\n",
    "    print('Artigo %s [%s]' % (indice, assunto))\n",
    "    \n",
    "    # Obtem o ID da mensagem\n",
    "    resposta, numero, id_mensagem = conexao.stat(indice)\n",
    "    \n",
    "    if input('=> Deseja ler a mensagem?') in ['s', 'S']:\n",
    "        # Imprimir o cabeçalho da mensagem\n",
    "        resposta, info = conexao.head(id_mensagem)\n",
    "        for i in range(len(info.lines)):\n",
    "            informacao = info.lines[i].decode()\n",
    "            for header in headers:\n",
    "                if header in informacao:\n",
    "                    print(informacao)\n",
    "                    break\n",
    "        \n",
    "        # Imprimir o conteúdo da mensagem\n",
    "        if input(\"=> Deseja mostrar o conteúdo?\") in ['s', 'S']:\n",
    "            resposta, info = conexao.body(id_mensagem)\n",
    "            print(80*'-')\n",
    "            for i in range(len(info[2])):\n",
    "                print(info[2][i].decode())\n",
    "            print(80*'-')\n",
    "    \n",
    "    print()"
   ]
  },
  {
   "cell_type": "code",
   "execution_count": null,
   "metadata": {},
   "outputs": [],
   "source": [
    "# Fecha a conexão\n",
    "conexao.quit()"
   ]
  }
 ],
 "metadata": {
  "kernelspec": {
   "display_name": "Python 3",
   "language": "python",
   "name": "python3"
  },
  "language_info": {
   "codemirror_mode": {
    "name": "ipython",
    "version": 3
   },
   "file_extension": ".py",
   "mimetype": "text/x-python",
   "name": "python",
   "nbconvert_exporter": "python",
   "pygments_lexer": "ipython3",
   "version": "3.5.2"
  }
 },
 "nbformat": 4,
 "nbformat_minor": 2
}
