{
 "cells": [
  {
   "cell_type": "markdown",
   "metadata": {},
   "source": [
    "# Multiplos clientes\n",
    "***"
   ]
  },
  {
   "cell_type": "markdown",
   "metadata": {},
   "source": [
    "Basicamente faremos varias conexões ao servidor com multiplos clientes para ver o erro que ocorre e como trata-los através de servidores baseados em threads."
   ]
  },
  {
   "cell_type": "markdown",
   "metadata": {},
   "source": [
    "***\n",
    "### Lado Cliente\n",
    "***\n",
    "\n",
    "Para rodar o lado do cliente deve executar o arquivo **python3 thread_server.py** ou **python3 select_server.py** no terminal."
   ]
  },
  {
   "cell_type": "code",
   "execution_count": 1,
   "metadata": {},
   "outputs": [],
   "source": [
    "from socket import *\n",
    "from threading import Thread"
   ]
  },
  {
   "cell_type": "markdown",
   "metadata": {},
   "source": [
    "***"
   ]
  },
  {
   "cell_type": "code",
   "execution_count": 2,
   "metadata": {},
   "outputs": [],
   "source": [
    "class Client(Thread):\n",
    "    \"\"\"Classe que gera os clientes.\"\"\"\n",
    "    \n",
    "    def __init__(self, client_id, server, port, *messages):\n",
    "        # Número de identificação do cliente\n",
    "        self.client_id = client_id\n",
    "        \n",
    "        # Servidor a ser conectado\n",
    "        self.server = server\n",
    "        \n",
    "        # Porta para ser usada\n",
    "        self.port = port\n",
    "        \n",
    "        # Mensagens a serem colocadas\n",
    "        self.messages = messages\n",
    "        \n",
    "        Thread.__init__(self)\n",
    "        \n",
    "    def run(self):\n",
    "        # Criamos o socket e o conectamos ao servidor\n",
    "        connection = socket(AF_INET, SOCK_STREAM)\n",
    "        connection.connect((self.server, self.port))\n",
    "        \n",
    "        # Mandamos a mensagem linha por linha\n",
    "        for line in self.messages:\n",
    "            connection.send(line)\n",
    "            \n",
    "            # Depois de mandar uma linha esperamos a resposta do servidor\n",
    "            data = connection.recv(1024)\n",
    "            print('Cliente {fulano} recebeu: {data}'.format(fulano=self.client_id, data=data))\n",
    "            \n",
    "        connection.close()"
   ]
  },
  {
   "cell_type": "markdown",
   "metadata": {},
   "source": [
    "***"
   ]
  },
  {
   "cell_type": "code",
   "execution_count": 3,
   "metadata": {},
   "outputs": [],
   "source": [
    "# Configurações de conexão do servidor\n",
    "# O nome do servidor pode ser o endereço de\n",
    "# IP ou o domínio (www.algo.com)\n",
    "server_host = 'localhost'\n",
    "server_port = 5000"
   ]
  },
  {
   "cell_type": "markdown",
   "metadata": {},
   "source": [
    "***"
   ]
  },
  {
   "cell_type": "code",
   "execution_count": 4,
   "metadata": {},
   "outputs": [],
   "source": [
    "# Mensagem a ser mandada codificada em bytes\n",
    "message = [b'Ola mundo da internet!']"
   ]
  },
  {
   "cell_type": "markdown",
   "metadata": {},
   "source": [
    "***"
   ]
  },
  {
   "cell_type": "code",
   "execution_count": 5,
   "metadata": {},
   "outputs": [],
   "source": [
    "# Criamos vários clientes conectados ao mesmo servidor\n",
    "def connection():\n",
    "    for client in range(20):\n",
    "        Client(client, server_host, server_port, *message).start()\n",
    "        \n",
    "    print(\"Geramos todos os clientes!\")"
   ]
  },
  {
   "cell_type": "markdown",
   "metadata": {},
   "source": [
    "***"
   ]
  },
  {
   "cell_type": "code",
   "execution_count": 6,
   "metadata": {},
   "outputs": [
    {
     "name": "stdout",
     "output_type": "stream",
     "text": [
      "Cliente 0 recebeu: b'Resposta => Ola mundo da internet!'\n",
      "Cliente 1 recebeu: b'Resposta => Ola mundo da internet!'\n",
      "Cliente 2 recebeu: b'Resposta => Ola mundo da internet!'\n",
      "Cliente 3 recebeu: b'Resposta => Ola mundo da internet!'\n",
      "Cliente 4 recebeu: b'Resposta => Ola mundo da internet!'\n",
      "Cliente 6 recebeu: b'Resposta => Ola mundo da internet!'\n",
      "Cliente 7 recebeu: b'Resposta => Ola mundo da internet!'\n",
      "Cliente 5 recebeu: b'Resposta => Ola mundo da internet!'\n",
      "Cliente 8 recebeu: b'Resposta => Ola mundo da internet!'\n",
      "Cliente 9 recebeu: b'Resposta => Ola mundo da internet!'\n",
      "Cliente 10 recebeu: b'Resposta => Ola mundo da internet!'\n",
      "Cliente 11 recebeu: b'Resposta => Ola mundo da internet!'\n",
      "Cliente 12 recebeu: b'Resposta => Ola mundo da internet!'\n",
      "Cliente 13 recebeu: b'Resposta => Ola mundo da internet!'\n",
      "Cliente 15 recebeu: b'Resposta => Ola mundo da internet!'\n",
      "Cliente 14 recebeu: b'Resposta => Ola mundo da internet!'\n",
      "Cliente 16 recebeu: b'Resposta => Ola mundo da internet!'\n",
      "Geramos todos os clientes!\n",
      "Cliente 17 recebeu: b'Resposta => Ola mundo da internet!'\n",
      "Cliente 18 recebeu: b'Resposta => Ola mundo da internet!'\n",
      "Cliente 19 recebeu: b'Resposta => Ola mundo da internet!'\n"
     ]
    }
   ],
   "source": [
    "# python3 socket_server.py\n",
    "# Algumas threads não consegue se conectar ao servidor devido\n",
    "# ao excesso de processamento no servidor\n",
    "# Para resolver os servidores devem ser baseados em threads, forks e etc...\n",
    "connection()"
   ]
  },
  {
   "cell_type": "markdown",
   "metadata": {},
   "source": [
    "***"
   ]
  },
  {
   "cell_type": "code",
   "execution_count": 7,
   "metadata": {},
   "outputs": [
    {
     "name": "stdout",
     "output_type": "stream",
     "text": [
      "Geramos todos os clientes!\n",
      "Cliente 2 recebeu: b\"Resposta eco => b'Ola mundo da internet!' as Mon Apr  6 23:39:59 2020\"\n",
      "Cliente 1 recebeu: b\"Resposta eco => b'Ola mundo da internet!' as Mon Apr  6 23:39:59 2020\"\n",
      "Cliente 3 recebeu: b\"Resposta eco => b'Ola mundo da internet!' as Mon Apr  6 23:39:59 2020\"\n",
      "Cliente 0 recebeu: b\"Resposta eco => b'Ola mundo da internet!' as Mon Apr  6 23:39:59 2020\"\n",
      "Cliente 4 recebeu: b\"Resposta eco => b'Ola mundo da internet!' as Mon Apr  6 23:39:59 2020\"\n",
      "Cliente 5 recebeu: b\"Resposta eco => b'Ola mundo da internet!' as Mon Apr  6 23:39:59 2020\"\n",
      "Cliente 6 recebeu: b\"Resposta eco => b'Ola mundo da internet!' as Mon Apr  6 23:39:59 2020\"\n",
      "Cliente 7 recebeu: b\"Resposta eco => b'Ola mundo da internet!' as Mon Apr  6 23:39:59 2020\"\n",
      "Cliente 8 recebeu: b\"Resposta eco => b'Ola mundo da internet!' as Mon Apr  6 23:39:59 2020\"\n",
      "Cliente 9 recebeu: b\"Resposta eco => b'Ola mundo da internet!' as Mon Apr  6 23:39:59 2020\"\n",
      "Cliente 10 recebeu: b\"Resposta eco => b'Ola mundo da internet!' as Mon Apr  6 23:39:59 2020\"\n",
      "Cliente 11 recebeu: b\"Resposta eco => b'Ola mundo da internet!' as Mon Apr  6 23:39:59 2020\"\n",
      "Cliente 14 recebeu: b\"Resposta eco => b'Ola mundo da internet!' as Mon Apr  6 23:39:59 2020\"\n",
      "Cliente 12 recebeu: b\"Resposta eco => b'Ola mundo da internet!' as Mon Apr  6 23:39:59 2020\"\n",
      "Cliente 17 recebeu: b\"Resposta eco => b'Ola mundo da internet!' as Mon Apr  6 23:39:59 2020\"Cliente 15 recebeu: b\"Resposta eco => b'Ola mundo da internet!' as Mon Apr  6 23:39:59 2020\"\n",
      "\n",
      "Cliente 18 recebeu: b\"Resposta eco => b'Ola mundo da internet!' as Mon Apr  6 23:39:59 2020\"Cliente 16 recebeu: b\"Resposta eco => b'Ola mundo da internet!' as Mon Apr  6 23:39:59 2020\"\n",
      "\n",
      "Cliente 19 recebeu: b\"Resposta eco => b'Ola mundo da internet!' as Mon Apr  6 23:39:59 2020\"\n",
      "Cliente 13 recebeu: b\"Resposta eco => b'Ola mundo da internet!' as Mon Apr  6 23:40:01 2020\"\n"
     ]
    }
   ],
   "source": [
    "# python3 threads_server.py\n",
    "# Conexão através de um servidor baseado em threads\n",
    "connection()"
   ]
  },
  {
   "cell_type": "code",
   "execution_count": 9,
   "metadata": {},
   "outputs": [
    {
     "name": "stdout",
     "output_type": "stream",
     "text": [
      "Cliente 0 recebeu: b\"Resposta eco => b'Ola mundo da internet!' as Mon Apr  6 23:40:36 2020\"\n",
      "Cliente 2 recebeu: b\"Resposta eco => b'Ola mundo da internet!' as Mon Apr  6 23:40:36 2020\"\n",
      "Cliente 1 recebeu: b\"Resposta eco => b'Ola mundo da internet!' as Mon Apr  6 23:40:36 2020\"\n",
      "Cliente 4 recebeu: b\"Resposta eco => b'Ola mundo da internet!' as Mon Apr  6 23:40:37 2020\"\n",
      "Cliente 5 recebeu: b\"Resposta eco => b'Ola mundo da internet!' as Mon Apr  6 23:40:37 2020\"Cliente 6 recebeu: b\"Resposta eco => b'Ola mundo da internet!' as Mon Apr  6 23:40:37 2020\"\n",
      "\n",
      "Cliente 7 recebeu: b\"Resposta eco => b'Ola mundo da internet!' as Mon Apr  6 23:40:37 2020\"\n",
      "Cliente 3 recebeu: b\"Resposta eco => b'Ola mundo da internet!' as Mon Apr  6 23:40:37 2020\"\n",
      "Cliente 8 recebeu: b\"Resposta eco => b'Ola mundo da internet!' as Mon Apr  6 23:40:37 2020\"\n",
      "Cliente 10 recebeu: b\"Resposta eco => b'Ola mundo da internet!' as Mon Apr  6 23:40:37 2020\"\n",
      "Cliente 9 recebeu: b\"Resposta eco => b'Ola mundo da internet!' as Mon Apr  6 23:40:37 2020\"\n",
      "Cliente 12 recebeu: b\"Resposta eco => b'Ola mundo da internet!' as Mon Apr  6 23:40:37 2020\"\n",
      "Cliente 13 recebeu: b\"Resposta eco => b'Ola mundo da internet!' as Mon Apr  6 23:40:37 2020\"\n",
      "Cliente 14 recebeu: b\"Resposta eco => b'Ola mundo da internet!' as Mon Apr  6 23:40:37 2020\"\n",
      "Cliente 11 recebeu: b\"Resposta eco => b'Ola mundo da internet!' as Mon Apr  6 23:40:37 2020\"Cliente 16 recebeu: b\"Resposta eco => b'Ola mundo da internet!' as Mon Apr  6 23:40:37 2020\"Cliente 15 recebeu: b\"Resposta eco => b'Ola mundo da internet!' as Mon Apr  6 23:40:37 2020\"\n",
      "\n",
      "\n",
      "Cliente 18 recebeu: b\"Resposta eco => b'Ola mundo da internet!' as Mon Apr  6 23:40:37 2020\"\n",
      "Geramos todos os clientes!\n",
      "Cliente 17 recebeu: b\"Resposta eco => b'Ola mundo da internet!' as Mon Apr  6 23:40:37 2020\"\n",
      "Cliente 19 recebeu: b\"Resposta eco => b'Ola mundo da internet!' as Mon Apr  6 23:40:37 2020\"\n"
     ]
    }
   ],
   "source": [
    "# python3 select_server.py\n",
    "# Conexão através de um servidor baseado em multiplexadores\n",
    "connection()"
   ]
  }
 ],
 "metadata": {
  "kernelspec": {
   "display_name": "Python 3",
   "language": "python",
   "name": "python3"
  },
  "language_info": {
   "codemirror_mode": {
    "name": "ipython",
    "version": 3
   },
   "file_extension": ".py",
   "mimetype": "text/x-python",
   "name": "python",
   "nbconvert_exporter": "python",
   "pygments_lexer": "ipython3",
   "version": "3.7.6"
  }
 },
 "nbformat": 4,
 "nbformat_minor": 2
}
