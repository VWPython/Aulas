{
 "cells": [
  {
   "cell_type": "markdown",
   "metadata": {},
   "source": [
    "## Requisições HTTP\n",
    "***"
   ]
  },
  {
   "cell_type": "markdown",
   "metadata": {},
   "source": [
    "HTTP - Hypertext Transfer Protocol\n",
    "\n",
    "Usado para transferir informações pela World Wide Web. É o protocolo usado pelos browsers (Internet Explorer, Google Chrome, Mozilla Firefox, ...) para obter as páginas da web dos servidores. Consiste de bytes mandados através de sockets utilizando a porta 80.\n",
    "\n",
    "As requisições HTTP são muito utilizados em aplicações REST FULL.\n",
    "\n",
    "Os principais métodos de requisição HTTP são:\n",
    "\n",
    "* GET - Para fazer consultas\n",
    "* POST - Para criar coisas\n",
    "* PUT - Para atualizar coisas\n",
    "* DELETE - Para deletar coisas\n",
    "\n",
    "Temos também código de erro:\n",
    "\n",
    "* 404 - Page not Found\n",
    "* 200 - OK ou Sucesso!\n",
    "* 500 - Internal Server Error\n",
    "* 307 - Internal Redirect\n",
    "* ...\n",
    "\n",
    "Para ver todos os códigos de erro acesse: https://httpstatusdogs.com/\n",
    "\n",
    "O HTTPS são bem mais seguro que o HTTP, os grande sites o utilizam.\n",
    "\n",
    "Para exemplificar vamos usar a API do portal de serviços do governo: https://www.servicos.gov.br/api/v1/docs"
   ]
  },
  {
   "cell_type": "markdown",
   "metadata": {},
   "source": [
    "***"
   ]
  },
  {
   "cell_type": "markdown",
   "metadata": {},
   "source": [
    "### http.client\n",
    "***"
   ]
  },
  {
   "cell_type": "code",
   "execution_count": 1,
   "metadata": {},
   "outputs": [],
   "source": [
    "from http import client"
   ]
  },
  {
   "cell_type": "code",
   "execution_count": 2,
   "metadata": {},
   "outputs": [],
   "source": [
    "# Número de linhas a serem mostradas\n",
    "linhas = 50"
   ]
  },
  {
   "cell_type": "code",
   "execution_count": 3,
   "metadata": {},
   "outputs": [],
   "source": [
    "# Vamos obter o servidor e o arquivo que desejamos obter deste\n",
    "# O arquivo pode ser uma página web\n",
    "servidor, arquivo = \"learning-python.com\", \"/index.html\""
   ]
  },
  {
   "cell_type": "code",
   "execution_count": 4,
   "metadata": {},
   "outputs": [],
   "source": [
    "# Inicializamos a conexão com o servidor utilizando o objeto HTTPConnection\n",
    "servidor = client.HTTPConnection(servidor)"
   ]
  },
  {
   "cell_type": "code",
   "execution_count": 5,
   "metadata": {},
   "outputs": [],
   "source": [
    "# Nós mandamos para o servidor um comando para tentar obter o arquivo desejado\n",
    "servidor.putrequest('GET', arquivo)\n",
    "servidor.putheader('Accept', 'text/html')\n",
    "servidor.endheaders()"
   ]
  },
  {
   "cell_type": "code",
   "execution_count": 6,
   "metadata": {},
   "outputs": [],
   "source": [
    "# Obtem resposta do servidor depois de inserir o requerimento para obter o arquivo.\n",
    "# Aqui podem aparecer diversos tipos de erros, que você já conhece, por exemplo o 404\n",
    "resposta = servidor.getresponse()"
   ]
  },
  {
   "cell_type": "code",
   "execution_count": 7,
   "metadata": {},
   "outputs": [
    {
     "name": "stdout",
     "output_type": "stream",
     "text": [
      "Código: 301 \n",
      "Erro: Moved Permanently\n"
     ]
    }
   ],
   "source": [
    "# Se o requerimento foi feito com sucesso nós obteremos o código 200 OK\n",
    "if resposta.status != 200:\n",
    "    # Caso a requisição não tenha sido feita com sucesso nós imprimimos o erro obtido\n",
    "    print(\"Código:\", resposta.status, \"\\nErro:\", resposta.reason)\n",
    "else:\n",
    "    # Caso contrário, nós lemos o conteúdo do arquivo\n",
    "    data = resposta.readlines()\n",
    "    resposta.close()\n",
    "    \n",
    "    # Imprime as linhas obtidas do arquivo\n",
    "    for linha in data[:linhas]:\n",
    "        print(linha)"
   ]
  },
  {
   "cell_type": "markdown",
   "metadata": {},
   "source": [
    "***"
   ]
  },
  {
   "cell_type": "markdown",
   "metadata": {},
   "source": [
    "### httplib2"
   ]
  },
  {
   "cell_type": "markdown",
   "metadata": {},
   "source": [
    "***"
   ]
  },
  {
   "cell_type": "code",
   "execution_count": 8,
   "metadata": {},
   "outputs": [],
   "source": [
    "import urllib\n",
    "import httplib2\n",
    "import json"
   ]
  },
  {
   "cell_type": "code",
   "execution_count": 9,
   "metadata": {},
   "outputs": [],
   "source": [
    "headers = {'Accept': 'application/json'}"
   ]
  },
  {
   "cell_type": "code",
   "execution_count": 10,
   "metadata": {},
   "outputs": [],
   "source": [
    "(resposta, conteudo) = httplib2.Http().request(\n",
    "    \"https://www.servicos.gov.br/api/v1/servicos/2\",\n",
    "    'GET',\n",
    "    headers=headers\n",
    ")"
   ]
  },
  {
   "cell_type": "code",
   "execution_count": 11,
   "metadata": {},
   "outputs": [
    {
     "name": "stdout",
     "output_type": "stream",
     "text": [
      "Response 200\n"
     ]
    }
   ],
   "source": [
    "print(\"Response %s\" % resposta.status)"
   ]
  },
  {
   "cell_type": "code",
   "execution_count": 12,
   "metadata": {},
   "outputs": [],
   "source": [
    "resultado = json.loads(conteudo.decode('utf-8'))"
   ]
  },
  {
   "cell_type": "code",
   "execution_count": 13,
   "metadata": {},
   "outputs": [
    {
     "name": "stdout",
     "output_type": "stream",
     "text": [
      "Nome: Solicitar uso de faixa de domínio \n",
      "\n",
      "Descrição: É a concessão dada à pessoa física ou jurídica que queira explorar as faixas laterais e áreas adjacentes às estradas e rodovias. A faixa de domínio é a base física sobre a qual se assenta uma rodovia, área esta cujo uso obedecerá às condições de segurança do trânsito estabelecidas pelo DNIT. \n",
      "\n",
      "Orgão: Departamento Nacional de Infraestrutura de Transportes (DNIT)\n"
     ]
    }
   ],
   "source": [
    "print(\"Nome:\", resultado.get('resposta').get('nome'), \"\\n\")\n",
    "print(\"Descrição:\", resultado.get('resposta').get('descricao'), \"\\n\")\n",
    "print(\"Orgão:\", resultado.get('resposta').get('orgao').get('nomeOrgao'))"
   ]
  }
 ],
 "metadata": {
  "kernelspec": {
   "display_name": "Python 3",
   "language": "python",
   "name": "python3"
  },
  "language_info": {
   "codemirror_mode": {
    "name": "ipython",
    "version": 3
   },
   "file_extension": ".py",
   "mimetype": "text/x-python",
   "name": "python",
   "nbconvert_exporter": "python",
   "pygments_lexer": "ipython3",
   "version": "3.5.2"
  }
 },
 "nbformat": 4,
 "nbformat_minor": 2
}
