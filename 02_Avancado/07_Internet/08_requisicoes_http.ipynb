{
 "cells": [
  {
   "cell_type": "markdown",
   "metadata": {},
   "source": [
    "## Requisições HTTP\n",
    "***"
   ]
  },
  {
   "cell_type": "markdown",
   "metadata": {},
   "source": [
    "HTTP - Hypertext Transfer Protocol\n",
    "\n",
    "Usado para transferir informações pela World Wide Web. É o protocolo usado pelos browsers (Internet Explorer, Google Chrome, Mozilla Firefox, ...) para obter as páginas da web dos servidores. Consiste de bytes mandados através de sockets utilizando a porta 80.\n",
    "\n",
    "As requisições HTTP são muito utilizados em aplicações REST FULL.\n",
    "\n",
    "Os principais métodos de requisição HTTP são:\n",
    "\n",
    "* GET - Para fazer consultas\n",
    "* POST - Para criar coisas\n",
    "* PUT - Para atualizar coisas\n",
    "* DELETE - Para deletar coisas\n",
    "\n",
    "Temos também código de erro:\n",
    "\n",
    "* 404 - Page not Found\n",
    "* 200 - OK ou Sucesso!\n",
    "* 500 - Internal Server Error\n",
    "* 307 - Internal Redirect\n",
    "* ...\n",
    "\n",
    "Para ver todos os códigos de erro acesse: https://httpstatusdogs.com/\n",
    "\n",
    "O HTTPS são bem mais seguro que o HTTP, os grande sites o utilizam.\n",
    "\n",
    "Para exemplificar vamos usar a API do portal de serviços do governo: https://www.servicos.gov.br/api/v1/docs"
   ]
  },
  {
   "cell_type": "markdown",
   "metadata": {},
   "source": [
    "***"
   ]
  },
  {
   "cell_type": "markdown",
   "metadata": {},
   "source": [
    "### http.client\n",
    "***"
   ]
  },
  {
   "cell_type": "code",
   "execution_count": 1,
   "metadata": {},
   "outputs": [],
   "source": [
    "from http import client"
   ]
  },
  {
   "cell_type": "code",
   "execution_count": 2,
   "metadata": {},
   "outputs": [],
   "source": [
    "# Número de linhas a serem mostradas\n",
    "linhas = 50"
   ]
  },
  {
   "cell_type": "code",
   "execution_count": 3,
   "metadata": {},
   "outputs": [],
   "source": [
    "# Vamos obter o servidor e o arquivo que desejamos obter deste\n",
    "# O arquivo pode ser uma página web\n",
    "servidor, arquivo = \"learning-python.com\", \"/index.html\""
   ]
  },
  {
   "cell_type": "code",
   "execution_count": 4,
   "metadata": {},
   "outputs": [],
   "source": [
    "# Inicializamos a conexão com o servidor utilizando o objeto HTTPConnection\n",
    "servidor = client.HTTPConnection(servidor)"
   ]
  },
  {
   "cell_type": "code",
   "execution_count": 5,
   "metadata": {},
   "outputs": [],
   "source": [
    "# Nós mandamos para o servidor um comando para tentar obter o arquivo desejado\n",
    "servidor.putrequest('GET', arquivo)\n",
    "servidor.putheader('Accept', 'text/html')\n",
    "servidor.endheaders()"
   ]
  },
  {
   "cell_type": "code",
   "execution_count": 6,
   "metadata": {},
   "outputs": [],
   "source": [
    "# Obtem resposta do servidor depois de inserir o requerimento para obter o arquivo.\n",
    "# Aqui podem aparecer diversos tipos de erros, que você já conhece, por exemplo o 404\n",
    "resposta = servidor.getresponse()"
   ]
  },
  {
   "cell_type": "code",
   "execution_count": 7,
   "metadata": {},
   "outputs": [
    {
     "name": "stdout",
     "output_type": "stream",
     "text": [
      "Código: 301 \n",
      "Erro: Moved Permanently\n"
     ]
    }
   ],
   "source": [
    "# Se o requerimento foi feito com sucesso nós obteremos o código 200 OK\n",
    "if resposta.status != 200:\n",
    "    # Caso a requisição não tenha sido feita com sucesso nós imprimimos o erro obtido\n",
    "    print(\"Código:\", resposta.status, \"\\nErro:\", resposta.reason)\n",
    "else:\n",
    "    # Caso contrário, nós lemos o conteúdo do arquivo\n",
    "    data = resposta.readlines()\n",
    "    resposta.close()\n",
    "    \n",
    "    # Imprime as linhas obtidas do arquivo\n",
    "    for linha in data[:linhas]:\n",
    "        print(linha)"
   ]
  },
  {
   "cell_type": "markdown",
   "metadata": {},
   "source": [
    "***"
   ]
  },
  {
   "cell_type": "markdown",
   "metadata": {},
   "source": [
    "### httplib2"
   ]
  },
  {
   "cell_type": "markdown",
   "metadata": {},
   "source": [
    "***"
   ]
  },
  {
   "cell_type": "code",
   "execution_count": 8,
   "metadata": {},
   "outputs": [],
   "source": [
    "import urllib\n",
    "import httplib2\n",
    "import json"
   ]
  },
  {
   "cell_type": "code",
   "execution_count": 9,
   "metadata": {},
   "outputs": [],
   "source": [
    "headers = {'Accept': 'application/json'}"
   ]
  },
  {
   "cell_type": "code",
   "execution_count": 10,
   "metadata": {},
   "outputs": [],
   "source": [
    "(resposta, conteudo) = httplib2.Http().request(\n",
    "    \"https://www.servicos.gov.br/api/v1/servicos/2\",\n",
    "    'GET',\n",
    "    headers=headers\n",
    ")"
   ]
  },
  {
   "cell_type": "code",
   "execution_count": 11,
   "metadata": {},
   "outputs": [
    {
     "name": "stdout",
     "output_type": "stream",
     "text": [
      "Response 200\n"
     ]
    }
   ],
   "source": [
    "print(\"Response %s\" % resposta.status)"
   ]
  },
  {
   "cell_type": "code",
   "execution_count": 12,
   "metadata": {},
   "outputs": [],
   "source": [
    "resultado = json.loads(conteudo.decode('utf-8'))"
   ]
  },
  {
   "cell_type": "code",
   "execution_count": 13,
   "metadata": {},
   "outputs": [
    {
     "name": "stdout",
     "output_type": "stream",
     "text": [
      "Nome: Solicitar uso de faixa de domínio \n",
      "\n",
      "Descrição: É a concessão dada à pessoa física ou jurídica que queira explorar as faixas laterais e áreas adjacentes às estradas e rodovias. A faixa de domínio é a base física sobre a qual se assenta uma rodovia, área esta cujo uso obedecerá às condições de segurança do trânsito estabelecidas pelo DNIT. \n",
      "\n",
      "Orgão: Departamento Nacional de Infraestrutura de Transportes (DNIT)\n"
     ]
    }
   ],
   "source": [
    "print(\"Nome:\", resultado.get('resposta').get('nome'), \"\\n\")\n",
    "print(\"Descrição:\", resultado.get('resposta').get('descricao'), \"\\n\")\n",
    "print(\"Orgão:\", resultado.get('resposta').get('orgao').get('nomeOrgao'))"
   ]
  },
  {
   "cell_type": "markdown",
   "metadata": {},
   "source": [
    "***\n",
    "### Requests\n",
    "***\n",
    "\n",
    "http://docs.python-requests.org/pt_BR/latest/index.html"
   ]
  },
  {
   "cell_type": "code",
   "execution_count": 14,
   "metadata": {},
   "outputs": [],
   "source": [
    "import requests\n",
    "import json"
   ]
  },
  {
   "cell_type": "code",
   "execution_count": 15,
   "metadata": {},
   "outputs": [],
   "source": [
    "headers = {'Accept': 'application/json'}"
   ]
  },
  {
   "cell_type": "code",
   "execution_count": 16,
   "metadata": {},
   "outputs": [],
   "source": [
    "response = requests.get(\n",
    "    \"https://www.servicos.gov.br/api/v1/servicos/2\",\n",
    "    headers=headers\n",
    ")"
   ]
  },
  {
   "cell_type": "code",
   "execution_count": 17,
   "metadata": {},
   "outputs": [
    {
     "name": "stdout",
     "output_type": "stream",
     "text": [
      "Response 200\n",
      "True\n",
      "UTF-8\n"
     ]
    }
   ],
   "source": [
    "print(\"Response %s\" % response.status_code)\n",
    "print(response.status_code == requests.codes.ok)\n",
    "print(response.encoding)"
   ]
  },
  {
   "cell_type": "code",
   "execution_count": 18,
   "metadata": {},
   "outputs": [],
   "source": [
    "result = response.json()"
   ]
  },
  {
   "cell_type": "code",
   "execution_count": 19,
   "metadata": {},
   "outputs": [
    {
     "name": "stdout",
     "output_type": "stream",
     "text": [
      "Nome: Solicitar uso de faixa de domínio \n",
      "\n",
      "Descrição: É a concessão dada à pessoa física ou jurídica que queira explorar as faixas laterais e áreas adjacentes às estradas e rodovias. A faixa de domínio é a base física sobre a qual se assenta uma rodovia, área esta cujo uso obedecerá às condições de segurança do trânsito estabelecidas pelo DNIT. \n",
      "\n",
      "Orgão: Departamento Nacional de Infraestrutura de Transportes (DNIT)\n"
     ]
    }
   ],
   "source": [
    "print(\"Nome:\", result.get('resposta').get('nome'), \"\\n\")\n",
    "print(\"Descrição:\", result.get('resposta').get('descricao'), \"\\n\")\n",
    "print(\"Orgão:\", result.get('resposta').get('orgao').get('nomeOrgao'))"
   ]
  },
  {
   "cell_type": "code",
   "execution_count": 20,
   "metadata": {},
   "outputs": [],
   "source": [
    "# Vamos fazer as requisições\n",
    "response = requests.post('http://httpbin.org/post')\n",
    "response = requests.put('http://httpbin.org/put')\n",
    "response = requests.delete(\"http://httpbin.org/delete\")\n",
    "response = requests.head(\"http://httpbin.org/get\")\n",
    "response = requests.options(\"http://httpbin.org/get\")"
   ]
  },
  {
   "cell_type": "code",
   "execution_count": 21,
   "metadata": {},
   "outputs": [
    {
     "name": "stdout",
     "output_type": "stream",
     "text": [
      "http://httpbin.org/get?key2=value2&key1=value1\n"
     ]
    }
   ],
   "source": [
    "# Passando query string parametros httpbin.org/get?key=val\n",
    "query_string = {'key1': 'value1', 'key2': 'value2'}\n",
    "response = requests.get(\"http://httpbin.org/get\", params=query_string)\n",
    "print(response.url)"
   ]
  },
  {
   "cell_type": "code",
   "execution_count": 22,
   "metadata": {},
   "outputs": [
    {
     "data": {
      "text/plain": [
       "b'{\\n  \"args\": {\\n    \"key1\": \"value1\", \\n    \"key2\": \"value2\"\\n  }, \\n  \"headers\": {\\n    \"Accept\": \"*/*\", \\n    \"Accept-Encoding\": \"gzip, deflate\", \\n    \"Connection\": \"close\", \\n    \"Host\": \"httpbin.org\", \\n    \"User-Agent\": \"python-requests/2.21.0\"\\n  }, \\n  \"origin\": \"191.176.96.138\", \\n  \"url\": \"http://httpbin.org/get?key2=value2&key1=value1\"\\n}\\n'"
      ]
     },
     "execution_count": 22,
     "metadata": {},
     "output_type": "execute_result"
    }
   ],
   "source": [
    "# VocÊ pode usar resposta binaria para codificações que não são textos\n",
    "response.content"
   ]
  },
  {
   "cell_type": "code",
   "execution_count": 23,
   "metadata": {},
   "outputs": [],
   "source": [
    "# Passar a requisição de arquivos multipart\n",
    "url = 'http://httpbin.org/post'\n",
    "# files = {'file': ('report.xls', open('report.xls', 'rb'))}\n",
    "files = {'file': ('report.csv', 'some,data,to,send\\nanother,row,to,send\\n')}\n",
    "response = requests.post(url, files=files)"
   ]
  },
  {
   "cell_type": "code",
   "execution_count": 24,
   "metadata": {},
   "outputs": [
    {
     "name": "stdout",
     "output_type": "stream",
     "text": [
      "404\n",
      "{'content-type': 'application/json', 'Accept-Encoding': 'gzip, deflate', 'User-Agent': 'python-requests/2.21.0', 'Connection': 'keep-alive', 'Accept': '*/*', 'Content-Length': '16'}\n",
      "application/json; charset=utf-8\n"
     ]
    },
    {
     "ename": "HTTPError",
     "evalue": "404 Client Error: Not Found for url: https://api.github.com/some/endpoint",
     "output_type": "error",
     "traceback": [
      "\u001b[0;31m---------------------------------------------------------------------------\u001b[0m",
      "\u001b[0;31mHTTPError\u001b[0m                                 Traceback (most recent call last)",
      "\u001b[0;32m<ipython-input-24-3f8a6098355f>\u001b[0m in \u001b[0;36m<module>\u001b[0;34m\u001b[0m\n\u001b[1;32m      7\u001b[0m \u001b[0mprint\u001b[0m\u001b[0;34m(\u001b[0m\u001b[0mresponse\u001b[0m\u001b[0;34m.\u001b[0m\u001b[0mrequest\u001b[0m\u001b[0;34m.\u001b[0m\u001b[0mheaders\u001b[0m\u001b[0;34m)\u001b[0m\u001b[0;34m\u001b[0m\u001b[0m\n\u001b[1;32m      8\u001b[0m \u001b[0mprint\u001b[0m\u001b[0;34m(\u001b[0m\u001b[0mresponse\u001b[0m\u001b[0;34m.\u001b[0m\u001b[0mheaders\u001b[0m\u001b[0;34m[\u001b[0m\u001b[0;34m'Content-Type'\u001b[0m\u001b[0;34m]\u001b[0m\u001b[0;34m)\u001b[0m\u001b[0;34m\u001b[0m\u001b[0m\n\u001b[0;32m----> 9\u001b[0;31m \u001b[0mresponse\u001b[0m\u001b[0;34m.\u001b[0m\u001b[0mraise_for_status\u001b[0m\u001b[0;34m(\u001b[0m\u001b[0;34m)\u001b[0m \u001b[0;31m# Caso seja 200 OK recebemos None\u001b[0m\u001b[0;34m\u001b[0m\u001b[0m\n\u001b[0m",
      "\u001b[0;32m~/.local/lib/python3.5/site-packages/requests/models.py\u001b[0m in \u001b[0;36mraise_for_status\u001b[0;34m(self)\u001b[0m\n\u001b[1;32m    938\u001b[0m \u001b[0;34m\u001b[0m\u001b[0m\n\u001b[1;32m    939\u001b[0m         \u001b[0;32mif\u001b[0m \u001b[0mhttp_error_msg\u001b[0m\u001b[0;34m:\u001b[0m\u001b[0;34m\u001b[0m\u001b[0m\n\u001b[0;32m--> 940\u001b[0;31m             \u001b[0;32mraise\u001b[0m \u001b[0mHTTPError\u001b[0m\u001b[0;34m(\u001b[0m\u001b[0mhttp_error_msg\u001b[0m\u001b[0;34m,\u001b[0m \u001b[0mresponse\u001b[0m\u001b[0;34m=\u001b[0m\u001b[0mself\u001b[0m\u001b[0;34m)\u001b[0m\u001b[0;34m\u001b[0m\u001b[0m\n\u001b[0m\u001b[1;32m    941\u001b[0m \u001b[0;34m\u001b[0m\u001b[0m\n\u001b[1;32m    942\u001b[0m     \u001b[0;32mdef\u001b[0m \u001b[0mclose\u001b[0m\u001b[0;34m(\u001b[0m\u001b[0mself\u001b[0m\u001b[0;34m)\u001b[0m\u001b[0;34m:\u001b[0m\u001b[0;34m\u001b[0m\u001b[0m\n",
      "\u001b[0;31mHTTPError\u001b[0m: 404 Client Error: Not Found for url: https://api.github.com/some/endpoint"
     ]
    }
   ],
   "source": [
    "# Cabeçalho personalizado\n",
    "url = 'https://api.github.com/some/endpoint'\n",
    "payload = {'some': 'data'}\n",
    "headers = {'content-type': 'application/json'}\n",
    "response = requests.post(url, data=json.dumps(payload), headers=headers)\n",
    "print(response.status_code)\n",
    "print(response.request.headers)\n",
    "print(response.headers['Content-Type'])\n",
    "response.raise_for_status() # Caso seja 200 OK recebemos None"
   ]
  }
 ],
 "metadata": {
  "kernelspec": {
   "display_name": "Python 3",
   "language": "python",
   "name": "python3"
  },
  "language_info": {
   "codemirror_mode": {
    "name": "ipython",
    "version": 3
   },
   "file_extension": ".py",
   "mimetype": "text/x-python",
   "name": "python",
   "nbconvert_exporter": "python",
   "pygments_lexer": "ipython3",
   "version": "3.5.2"
  }
 },
 "nbformat": 4,
 "nbformat_minor": 2
}
