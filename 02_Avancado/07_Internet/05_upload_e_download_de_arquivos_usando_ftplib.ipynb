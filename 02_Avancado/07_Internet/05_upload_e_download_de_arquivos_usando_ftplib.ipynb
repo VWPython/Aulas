{
 "cells": [
  {
   "cell_type": "markdown",
   "metadata": {},
   "source": [
    "## Upload e Download de arquivos usando o ftplib\n",
    "***"
   ]
  },
  {
   "cell_type": "markdown",
   "metadata": {},
   "source": [
    "Como dito anteriormente a maioria dos protocolos funciona por cima de uma estrutura baseada em sockets, um desses casos é o FTP (file transfer protocol) que nos permite transferir arquivos entre cliente e servidor através de dois sockets (um para passar comandos e outro para transferir bytes) utilizando port=21.\n",
    "\n",
    "Para modelar esse protocolo fazemos uso da biblioteca ftplib\n",
    "\n",
    "Veja um exemplo de como fazer download\n",
    "\n",
    "Vamos criar um script para baixar e rodar um arquivo pelo FTP. Usa o ftplib, o objeto FTP que utiliza sockets. FTP se basea em dois sockets (um para data, e outro para controle, nas portas 20 e 21) e impôe messagens com formatos específicos, mas o modulo ftplib esconde a maior parte dos detalhes desse protocolo. Mude o endereço usado para o seu site/arquivo.\n",
    "\n",
    "Você pode olhar no livro 'Programming Python' 4 edição da página 884 a 889 como fazer o upload e download de uma determinada pasta ou árvore de pastas, isto tudo só para mostrar programaticamente como um sistema de computação em núvem funciona."
   ]
  },
  {
   "cell_type": "markdown",
   "metadata": {},
   "source": [
    "***"
   ]
  },
  {
   "cell_type": "code",
   "execution_count": null,
   "metadata": {},
   "outputs": [],
   "source": [
    "import os # lida com diretorios\n",
    "from getpass import getpass # usa o input do python sem aparecer os caracteres\n",
    "from ftplib import FTP # Objeto responsavel por realizar a conexão"
   ]
  },
  {
   "cell_type": "code",
   "execution_count": null,
   "metadata": {},
   "outputs": [],
   "source": [
    "# Variávél que determina se devemos usar o modo ativo para FTP\n",
    "nonpassive = False"
   ]
  },
  {
   "cell_type": "code",
   "execution_count": null,
   "metadata": {},
   "outputs": [],
   "source": [
    "# Nome do arquivo a ser baixado\n",
    "arquivo = 'README'"
   ]
  },
  {
   "cell_type": "code",
   "execution_count": null,
   "metadata": {},
   "outputs": [],
   "source": [
    "# Nome do diretório a ser acessado\n",
    "diretorio = 'debian'"
   ]
  },
  {
   "cell_type": "code",
   "execution_count": null,
   "metadata": {},
   "outputs": [],
   "source": [
    "# Nome do site a ser acessado, pode ser um domínio ou endereço de IP\n",
    "site = 'ftp.debian.org'"
   ]
  },
  {
   "cell_type": "code",
   "execution_count": null,
   "metadata": {},
   "outputs": [],
   "source": [
    "# Poderiamos pegar um usuário e senha para conectar no servidor\n",
    "# usuario = ('lutz', getpass('Senha: '))\n",
    "# Se não especificar uma senha e usuário ele vai entrar em modo anônimo\n",
    "usuario = []"
   ]
  },
  {
   "cell_type": "code",
   "execution_count": null,
   "metadata": {},
   "outputs": [],
   "source": [
    "# Iniciamos a conexão\n",
    "print('Conectando...')"
   ]
  },
  {
   "cell_type": "code",
   "execution_count": null,
   "metadata": {},
   "outputs": [],
   "source": [
    "# Criamos a conexão com o servidor do tipo FTP\n",
    "# através do objeto FTP que recebe o endereço\n",
    "# do servidor como argumento\n",
    "conexao = FTP(site)"
   ]
  },
  {
   "cell_type": "code",
   "execution_count": null,
   "metadata": {},
   "outputs": [],
   "source": [
    "# Fazemos o login com as informaçoes do usuário\n",
    "# poderiamos utilizar o login sem nenhum argumento\n",
    "# e desta forma estariamos entrando no servidor no\n",
    "# anonimamente\n",
    "conexao.login(*usuario)"
   ]
  },
  {
   "cell_type": "code",
   "execution_count": null,
   "metadata": {},
   "outputs": [],
   "source": [
    "# Acessamos um determinado diretório\n",
    "conexao.cwd(diretorio)"
   ]
  },
  {
   "cell_type": "code",
   "execution_count": null,
   "metadata": {},
   "outputs": [],
   "source": [
    "# Podemos listar os conteúdos do diretório corrente\n",
    "# utilizando o método retrlines e passando para ele\n",
    "# o comando LIST\n",
    "print(conexao.retrlines('LIST'))"
   ]
  },
  {
   "cell_type": "code",
   "execution_count": null,
   "metadata": {},
   "outputs": [],
   "source": [
    "# Se devemos acessar os arquivos no modo passivo ou no modo ativo\n",
    "if nonpassive:\n",
    "    conexao.set_pasv(False)"
   ]
  },
  {
   "cell_type": "code",
   "execution_count": null,
   "metadata": {},
   "outputs": [],
   "source": [
    "# Iniciamos o donwload do arquivo\n",
    "# Abrimos um novo arquivo para armazenar as informações dos arquivos que estamos baixando\n",
    "with open(arquivo, 'wb') as arquivo_local:\n",
    "    # Armazena informações do arquivo original no arquivo local\n",
    "    # Colocamos a string 'RETR' que indica o comando de download para o FTP\n",
    "    # retrbinary indica que estamos baixando o arquivo no modo binário,\n",
    "    # poderiamos baixar o arquivo usando retrlines que baixa o arquivo em ASCII\n",
    "    conexao.retrbinary('RETR ' + arquivo, arquivo_local.write, 1024)\n",
    "                       \n",
    "    # Fechamos a conexão\n",
    "    conexao.quit()"
   ]
  },
  {
   "cell_type": "code",
   "execution_count": null,
   "metadata": {},
   "outputs": [],
   "source": [
    "# Perguntamos se o usuário deseja abrir o arquivo,\n",
    "# se a resposta for sim nós o abrimos\n",
    "if input('Abre Arquivo?').lower().startswith('s'):\n",
    "    from PP4E.System.Media.playfile import playfile\n",
    "    playfile(arquivo)"
   ]
  },
  {
   "cell_type": "markdown",
   "metadata": {},
   "source": [
    "***"
   ]
  },
  {
   "cell_type": "markdown",
   "metadata": {},
   "source": [
    "Vamos organizar as funcionalidades para baixar os arquivos utilizando uma única função."
   ]
  },
  {
   "cell_type": "markdown",
   "metadata": {},
   "source": [
    "***"
   ]
  },
  {
   "cell_type": "code",
   "execution_count": null,
   "metadata": {},
   "outputs": [],
   "source": [
    "from ftplib import FTP\n",
    "from os.path import exists"
   ]
  },
  {
   "cell_type": "code",
   "execution_count": null,
   "metadata": {},
   "outputs": [],
   "source": [
    "def download(arquivo, side, diretorio, usuario=(), verbose=True, refetch=False):\n",
    "    \"\"\"\n",
    "    Obtem um arquivo de um determinado site no diretório selecionado\n",
    "    :paramn file: nome do arquivo a ser baixado (str)\n",
    "    :paramn site: domínio do servidor (str)\n",
    "    :paramn diretorio: Diretório que se localiza o arquivo no servidor (str)\n",
    "    :paramn user: tupla contendo o usuário e senha, se estiver vazia o login é feito de forma anônima\n",
    "    :paramn verbose: bool indicando se devem ser impressas mensagens de operações realizadas\n",
    "    :paramn refetch: bool indicando se caso o arquivo exista se ele deve ser baixado novamente\n",
    "    \"\"\"\n",
    "    \n",
    "    # Primeiro verificamos se o arquivo existe, se for o caso e nós não estivermos no modo refetch\n",
    "    # devemos sair da função\n",
    "    if exists(arquivo) and not refetch:\n",
    "        if verbose: pring(arquivo, 'já foi baixado')\n",
    "        return\n",
    "    else:\n",
    "        if verbose: print('Downloading', arquivo)\n",
    "            \n",
    "    # Abre o arquivo local\n",
    "    arquivo_local = open(arquivo, 'wb')\n",
    "    \n",
    "    # Encapsulamos as operações de download num bloco de try\n",
    "    # uma vez que é necessário lidar com possíveis erros de conexão\n",
    "    try:\n",
    "        # Criar a conexão com o servidor\n",
    "        conexao = FTP(site)\n",
    "        # Realizar o login\n",
    "        conexao.login(*usuario)\n",
    "        # Mudar o diretorio\n",
    "        conexao.cwd(diretorio)\n",
    "        # Baixar o arquivo no modo binário\n",
    "        conexao.retrbinary('RETR ' + arquivo, arquivo_local.write, 1024)\n",
    "        # Fechar a conexao\n",
    "        conexao.quit()\n",
    "    finally:\n",
    "        # Fecha o arquivo\n",
    "        arquivo_local.close()\n",
    "        \n",
    "        if verbose: print('Download Concluído!')"
   ]
  },
  {
   "cell_type": "markdown",
   "metadata": {},
   "source": [
    "***"
   ]
  },
  {
   "cell_type": "markdown",
   "metadata": {},
   "source": [
    "Além de fazer o download, podemos também enviar um arquivo através do protocolo FTP. Veja a seguir uma maneira de faze-lo."
   ]
  },
  {
   "cell_type": "markdown",
   "metadata": {},
   "source": [
    "***"
   ]
  },
  {
   "cell_type": "code",
   "execution_count": null,
   "metadata": {},
   "outputs": [],
   "source": [
    "def upload(arquivo, side, diretorio, usuario=(), verbose=True):\n",
    "    \"\"\"\n",
    "    Envia um arquivo para um determinado site no diretório selecionado\n",
    "    :paramn file: nome do arquivo a ser enviado (str)\n",
    "    :paramn site: domínio do servidor (str)\n",
    "    :paramn diretorio: Diretório que se deseja enviar o arquivo no servidor (str)\n",
    "    :paramn user: tupla contendo o usuário e senha, se estiver vazia o login é feito de forma anônima\n",
    "    :paramn verbose: bool indicando se devem ser impressas mensagens de operações realizadas\n",
    "    \"\"\"\n",
    "    \n",
    "    if verbose: print('Enviando', arquivo)\n",
    "            \n",
    "    # Abre o arquivo local\n",
    "    arquivo_local = open(arquivo, 'rb')\n",
    "    \n",
    "    # Encapsulamos as operações de envio num bloco de try\n",
    "    # uma vez que é necessário lidar com possíveis erros de conexão\n",
    "    try:\n",
    "        # Criar a conexão com o servidor\n",
    "        conexao = FTP(site)\n",
    "        # Realizar o login\n",
    "        conexao.login(*usuario)\n",
    "        # Mudar o diretorio\n",
    "        conexao.cwd(diretorio)\n",
    "        # Baixar o arquivo no modo binário\n",
    "        conexao.storbinary('STOR ' + arquivo, arquivo_local, 1024)\n",
    "        # Fechar a conexao\n",
    "        conexao.quit()\n",
    "    except Exception e:\n",
    "        print(str(e))\n",
    "    finally:\n",
    "        # Fecha o arquivo\n",
    "        arquivo_local.close()\n",
    "        \n",
    "        if verbose: print('Envio Concluído!')"
   ]
  }
 ],
 "metadata": {
  "kernelspec": {
   "display_name": "Python 3",
   "language": "python",
   "name": "python3"
  },
  "language_info": {
   "codemirror_mode": {
    "name": "ipython",
    "version": 3
   },
   "file_extension": ".py",
   "mimetype": "text/x-python",
   "name": "python",
   "nbconvert_exporter": "python",
   "pygments_lexer": "ipython3",
   "version": "3.5.2"
  }
 },
 "nbformat": 4,
 "nbformat_minor": 2
}
