{
 "cells": [
  {
   "cell_type": "markdown",
   "metadata": {},
   "source": [
    "# Fork\n",
    "***"
   ]
  },
  {
   "cell_type": "markdown",
   "metadata": {},
   "source": [
    "Execução paralela é quando dois ou mais programas/processos executam ao mesmo tempo.\n",
    "\n",
    "**Forking**: É uma ferramenta exclusiva de sistemas de bases unix (linux, mac).\n",
    "\n",
    "Forking consiste em criar uma cópia do programa e executar essa cópia em paralelo com a original, por exemplo:\n",
    "\n",
    "```\n",
    "Olá do pai 5522 5523\n",
    "Olá do filho 5523\n",
    "```\n",
    "\n",
    "Basicamente ele roda a função father e gera um newpid, no caso, 5523, e printa o olá do pai, com isso ele reexecuta o while verifica que já foi gerado o newpid e retorna um valor 0, isso faz com que execute a função son() que printa olá do filho, logo em seguida pede o input.\n",
    "\n",
    "**os.exec__**:\n",
    "\n",
    "* **execcv(programa, sequencia_de_comandos_do_terminal)**: O programa cujo nome é passado é executado com os argumentos passados, que pode ser uma lista ou tupla.\n",
    "\n",
    "\n",
    "* **execl(programa, cmdarg1, cmdarg2, ..., cmdargN)**: É passado o nome do programa a ser executado com cada um dos argumentos da linha de comando passados como argumentos independentes da função. programa normalmente é o python3\n",
    "\n",
    "\n",
    "* **execlp ou execvp**: Python irá localizar o diretório do executável usando o sistema de procura de caminhos.\n",
    "\n",
    "\n",
    "* **execle ou execve**: Permite um último argumento que consiste de variáveis de sistema a serem mandadas para o programa.\n",
    "\n",
    "\n",
    "* **execvpe ou execlpe**: Combina as funcionalidades dos dois últimos"
   ]
  },
  {
   "cell_type": "markdown",
   "metadata": {},
   "source": [
    "***\n",
    "### Exemplo 01\n",
    "***"
   ]
  },
  {
   "cell_type": "code",
   "execution_count": 1,
   "metadata": {},
   "outputs": [],
   "source": [
    "import os, time"
   ]
  },
  {
   "cell_type": "code",
   "execution_count": 2,
   "metadata": {},
   "outputs": [],
   "source": [
    "def son():\n",
    "    # getpid: Pega o ID do processo\n",
    "    print(\"Olá do filho\", os.getpid())\n",
    "    os._exit(0)"
   ]
  },
  {
   "cell_type": "code",
   "execution_count": 3,
   "metadata": {},
   "outputs": [],
   "source": [
    "def father():\n",
    "    while True:\n",
    "        # Fornece um ID para um novo processo ser executado\n",
    "        newpid = os.fork()\n",
    "        if newpid == 0:\n",
    "            son()\n",
    "        else:\n",
    "            print(\"Olá do pai\", os.getpid(), newpid)\n",
    "        \n",
    "        if input() == 'exit':\n",
    "            print(\"Fechando o pai\", os.getpid())\n",
    "            break"
   ]
  },
  {
   "cell_type": "code",
   "execution_count": 4,
   "metadata": {},
   "outputs": [
    {
     "name": "stdout",
     "output_type": "stream",
     "text": [
      "Olá do pai 2066 2082\n",
      "Olá do filho 2082\n",
      "\n",
      "Olá do pai 2066 2085\n",
      "Olá do filho 2085\n",
      "\n",
      "Olá do pai 2066 2088\n",
      "Olá do filho 2088\n",
      "\n",
      "Olá do pai 2066 2091\n",
      "Olá do filho 2091\n",
      "\n",
      "Olá do pai 2066 2094\n",
      "Olá do filho 2094\n",
      "\n",
      "Olá do pai 2066 2097\n",
      "Olá do filho 2097\n",
      "exit\n",
      "Fechando o pai 2066\n"
     ]
    }
   ],
   "source": [
    "father()"
   ]
  },
  {
   "cell_type": "markdown",
   "metadata": {},
   "source": [
    "***\n",
    "### Exemplo 02\n",
    "***"
   ]
  },
  {
   "cell_type": "code",
   "execution_count": 5,
   "metadata": {},
   "outputs": [],
   "source": [
    "# Vamos executar vários programas em paralelo\n",
    "import os, time"
   ]
  },
  {
   "cell_type": "code",
   "execution_count": 6,
   "metadata": {},
   "outputs": [],
   "source": [
    "def counter(count):\n",
    "    for i in range(count):\n",
    "        time.sleep(1)\n",
    "        print('[{0}] => {1}'.format(os.getpid(), i))"
   ]
  },
  {
   "cell_type": "code",
   "execution_count": 7,
   "metadata": {},
   "outputs": [
    {
     "name": "stdout",
     "output_type": "stream",
     "text": [
      "Processo 2100 foi criado\n",
      "Processo 2101 foi criado\n",
      "Processo 2102 foi criado\n",
      "Processo 2103 foi criado\n",
      "Processo 2104 foi criado\n",
      "Processo principal acabado.\n",
      "[2101] => 0\n",
      "[2102] => 0\n",
      "[2103] => 0\n",
      "[2100] => 0\n",
      "[2104] => 0\n",
      "[2103] => 1\n",
      "[2102] => 1\n",
      "[2101] => 1\n",
      "[2104] => 1\n",
      "[2100] => 1\n",
      "[2100] => 2\n",
      "[2102] => 2\n",
      "[2104] => 2\n",
      "[2103] => 2\n",
      "[2101] => 2\n",
      "[2101] => 3\n",
      "[2104] => 3\n",
      "[2100] => 3\n",
      "[2103] => 3\n",
      "[2102] => 3\n",
      "[2104] => 4\n",
      "[2103] => 4\n",
      "[2100] => 4\n",
      "[2102] => 4\n",
      "[2101] => 4\n"
     ]
    }
   ],
   "source": [
    "for i in range(5):\n",
    "    pid = os.fork()\n",
    "    if pid != 0:\n",
    "        print('Processo {0} foi criado'.format(pid))\n",
    "    else:\n",
    "        counter(5)\n",
    "        os._exit(0)\n",
    "    \n",
    "print(\"Processo principal acabado.\")"
   ]
  },
  {
   "cell_type": "markdown",
   "metadata": {},
   "source": [
    "***\n",
    "### Exemplo 03\n",
    "***"
   ]
  },
  {
   "cell_type": "code",
   "execution_count": 8,
   "metadata": {},
   "outputs": [],
   "source": [
    "import os\n",
    "count = 0"
   ]
  },
  {
   "cell_type": "code",
   "execution_count": 9,
   "metadata": {},
   "outputs": [
    {
     "name": "stdout",
     "output_type": "stream",
     "text": [
      "Filho é 2155\n",
      "\n",
      "Filho é 2156\n",
      "\n",
      "Filho é 2157\n",
      "exir\n",
      "Filho é 2158\n",
      "exit\n"
     ]
    }
   ],
   "source": [
    "while True:\n",
    "    count += 1\n",
    "    # copia processo\n",
    "    pid = os.fork()\n",
    "    if pid == 0:\n",
    "        # os.execlp(programa, comando1, comando2, ..., argumento) \n",
    "        os.execlp('python3', 'python3', 'son.py', str(count))\n",
    "        assert False, 'error starting program'\n",
    "    else:\n",
    "        print('Filho é', pid)\n",
    "        if input() == 'exit':\n",
    "            break"
   ]
  }
 ],
 "metadata": {
  "kernelspec": {
   "display_name": "Python 3",
   "language": "python",
   "name": "python3"
  },
  "language_info": {
   "codemirror_mode": {
    "name": "ipython",
    "version": 3
   },
   "file_extension": ".py",
   "mimetype": "text/x-python",
   "name": "python",
   "nbconvert_exporter": "python",
   "pygments_lexer": "ipython3",
   "version": "3.7.6"
  }
 },
 "nbformat": 4,
 "nbformat_minor": 2
}
