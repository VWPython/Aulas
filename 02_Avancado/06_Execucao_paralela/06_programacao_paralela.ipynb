{
 "cells": [
  {
   "cell_type": "markdown",
   "metadata": {},
   "source": [
    "## Programação Paralela\n",
    "***"
   ]
  },
  {
   "cell_type": "markdown",
   "metadata": {},
   "source": [
    "**Concorrência**: é quando um computador que possui apenas um core parece estar realizando duas ou mais operações ao mesmo tempo, quando na verdade está alternando a execução destas operações de forma tão rápida que temos a ilusão de que tudo é executado simultaneamente.\n",
    "\n",
    "**Paralelismo**: é quando um computador que possui dois ou mais cores executa operações realmente de forma paralela, utilizando para isso os cores disponíveis, ou seja, se um determinado computador tem 2 cores, posso ter duas operações sendo executadas paralelamente cada uma em um core diferente.\n",
    "\n",
    "Infelizmente o GIL (Global Interpreter Lock do Python) é restritivo quanto ao uso de threads paralelas em Python, porém o módulo **concurrent.futures** permite que possamos utilizar múltiplos cores. Para isso, este módulo \"engana\" o GIL criando novos interpretadores como subprocessos do interpretador principal. Desta maneira, cada subprocesso tem seu próprio GIL e, por fim, cada subprocesso tem um ligação com o processo principal, de forma que recebem instruções para realizar operações e retornar resultados.\n",
    "\n",
    "***\n",
    "### Métodos Importantes\n",
    "***\n",
    "\n",
    "O módulo [concurrent.futures](https://docs.python.org/3.6/library/concurrent.futures.html#processpoolexecutor) do python3 fornece uma interface de alto nível para a execução assíncrona de chamadas.\n",
    "\n",
    "A execução assíncrona pode ser executada com encadeamentos, usando **ThreadPoolExecutor** ou processos separados, usando **ProcessPoolExecutor**. Ambos implementam a mesma interface, definida pela classe abstrata **Executor**.\n",
    "\n",
    "Seus métodos principais são:\n",
    "\n",
    "* **.submit(função, vetor_de_argumentos, dicionario_de_argumentos)**: Executa a função passando seus argumentos e retorna um objeto **Future** representando a execução da função.\n",
    "\n",
    "\n",
    "* **.map(função, iteravel, timeout, chunksize)**: Várias chamadas assíncronas da função são feitas simultaneamente para cada item da lista (iteravel). Pode-se inserir um tempo limite de espera (timeout) que se passar dispara uma exceção **TimeoutError**\n",
    "\n",
    "> Ao usar ProcessPoolExecutor, esse último parâmetro corta iteráveis em um número de partes que ele envia ao pool como tarefas separadas. O tamanho (aproximado) desses blocos pode ser especificado configurando **chunksize** para um inteiro positivo. Para iteraveis muito longo, usando um valor grande para chunksize pode melhorar significativamente o desempenho em comparação com o tamanho padrão de 1. Com ThreadPoolExecutor, chunksize não tem efeito.\n",
    "\n",
    "* **.shutdown(wait=True)**: Sinalize ao executor que ele deve liberar quaisquer recursos que esteja usando quando os futuros atualmente pendentes forem executados.\n",
    "\n",
    "> Se wait for True, este método não retornará até que todos os futuros pendentes sejam executados e os recursos associados ao executor tenham sido liberados. Se wait for False então este método retornará imediatamente e os recursos associados ao executor serão liberados quando todos os futuros pendentes forem executados. Independentemente do valor de espera, todo o programa Python não será encerrado até que todos os futuros pendentes sejam executados.\n",
    "\n",
    "> Você pode evitar ter que chamar esse método explicitamente se usar a instrução **with**, que desligará o Executor (esperando como se Executor.shutdown() fosse chamado com wait configurado como True).\n",
    "\n",
    "* **.wait(função, timeout, return_when=FIRST_COMPLETED)**: Cria um tupla de funções (futures) que já foram executadas (done) e que ainda estão na lista (not_done)."
   ]
  },
  {
   "cell_type": "markdown",
   "metadata": {},
   "source": [
    "***\n",
    "### Exemplos\n",
    "***\n",
    "\n",
    "Agora que já vimos um pouco de teoria vamos colocar em prática o uso do concurrent.futures. Vamos supor que tenhamos um lista de preços e que queremos aumentar em 10% o valor de cada item.\n",
    "\n",
    "***"
   ]
  },
  {
   "cell_type": "code",
   "execution_count": 1,
   "metadata": {},
   "outputs": [],
   "source": [
    "from concurrent.futures import ThreadPoolExecutor, ProcessPoolExecutor\n",
    "from datetime import datetime\n",
    "import time"
   ]
  },
  {
   "cell_type": "code",
   "execution_count": 2,
   "metadata": {},
   "outputs": [],
   "source": [
    "def generate_list():\n",
    "    \"\"\"\n",
    "    Gera a lista de preços\n",
    "    \"\"\"\n",
    "\n",
    "    result = []\n",
    "    for i in range(0, 20):\n",
    "        result.append(pow(i, 2) * 42)\n",
    "\n",
    "    return result"
   ]
  },
  {
   "cell_type": "code",
   "execution_count": 3,
   "metadata": {},
   "outputs": [],
   "source": [
    "def increase_price_by_10_percent(price):\n",
    "    \"\"\"\n",
    "    Faz um cálculo maroto para que seja realizado\n",
    "    não tão rapido.\n",
    "    \"\"\"\n",
    "    \n",
    "    print(\"Execução do preço: \" + str(price))\n",
    "    time.sleep(1)\n",
    "\n",
    "    price += price / 10 * 100\n",
    "\n",
    "    return price"
   ]
  },
  {
   "cell_type": "code",
   "execution_count": 4,
   "metadata": {},
   "outputs": [],
   "source": [
    "def increase_price_serial(price_list, increase_function):\n",
    "    \"\"\"\n",
    "    Calcula a lista de preços acrescido de 10% de forma serial.\n",
    "\n",
    "    Aqui a função passada pelo parâmetro increase_function será executada para\n",
    "    cada item da price_list de forma sequencial.\n",
    "    \"\"\"\n",
    "    \n",
    "    start = datetime.now()\n",
    "\n",
    "    result = list(map(increase_function, price_list))\n",
    "\n",
    "    end = datetime.now()\n",
    "\n",
    "    print(\"Tomou {} segundos para incrementar os valores dos preços\".format((end - start).total_seconds()))"
   ]
  },
  {
   "cell_type": "code",
   "execution_count": 5,
   "metadata": {},
   "outputs": [],
   "source": [
    "def increase_price_with_threads(price_list, increase_function):\n",
    "    \"\"\"\n",
    "    Calcula a lista de preços acrescido de 10% usando threads.\n",
    "    \n",
    "    Aqui já começamos a fazer uso da classe ThreadPoolExecutor, e que vai nos permitir executar\n",
    "    a increase_function de forma concorrente. Note que ao instanciar ThreadPoolExecutor estamos\n",
    "    passando o parâmetro max_workers=2, isto está indicando o numero máximo de threads que será\n",
    "    usado para executar as operações.\n",
    "    \"\"\"\n",
    "\n",
    "    start = datetime.now()\n",
    "\n",
    "    pool = ThreadPoolExecutor(max_workers=4)\n",
    "    results = list(pool.map(increase_function, price_list))\n",
    "    pool.shutdown()\n",
    "\n",
    "    end = datetime.now()\n",
    "\n",
    "    print(\"Tomou {} segundos para incrementar os valores dos preços com threads\".format((end - start).total_seconds()))"
   ]
  },
  {
   "cell_type": "code",
   "execution_count": 6,
   "metadata": {},
   "outputs": [],
   "source": [
    "def increase_price_with_subprocess(price_list, increase_function):\n",
    "    \"\"\"\n",
    "    Calcula a lista de preços acrescido de 10% usando subprocessos.\n",
    "    \n",
    "    Nesta função estamos fazendo uso da classe ProcessPoolExecutor que tem a funionalidade\n",
    "    bastante semelhante à classe ThreadPoolExecutor exceto pelo fato de que esta classe\n",
    "    permite que a função increase_function() seja executada realmente de forma paralela.\n",
    "    \n",
    "    Essa \"mágica\" é conseguida da seguinte forma:\n",
    "    \n",
    "    - Cada item da lista de preços é serializado através do pickle\n",
    "    \n",
    "    - Os dados serializados são copiados do processo principal para os processos filhos\n",
    "    por meio de um socket local.\n",
    "    \n",
    "    - Aqui o pickle entra em cena novamente para deserializar os dados para os subprocessos;\n",
    "    \n",
    "    - Os subprocessos importam o módulo Python que contém a função que será utilizada; no nosso\n",
    "    caso, será importado o módulo onde increase_function está localizada.\n",
    "    \n",
    "    - As funções são executadas de forma paralela em cada subprocesso\n",
    "    \n",
    "    - O resultado destas funções é serializado e copiado de volta para o processo principal via socket;\n",
    "    \n",
    "    - Os resultados são desserializados e mesclados em uma lista para que possam ser retornados\n",
    "    \"\"\"\n",
    "\n",
    "    start = datetime.now()\n",
    "\n",
    "    pool = ProcessPoolExecutor(max_workers=4)\n",
    "    results = list(pool.map(increase_function, price_list))\n",
    "    pool.shutdown()\n",
    "\n",
    "    end = datetime.now()\n",
    "\n",
    "    print(\"Tomou {} segundos para incrementar os valores dos preços com subprocessos\".format((end - start).total_seconds()))"
   ]
  },
  {
   "cell_type": "code",
   "execution_count": 7,
   "metadata": {},
   "outputs": [
    {
     "name": "stdout",
     "output_type": "stream",
     "text": [
      "[0, 42, 168, 378, 672, 1050, 1512, 2058, 2688, 3402, 4200, 5082, 6048, 7098, 8232, 9450, 10752, 12138, 13608, 15162]\n"
     ]
    }
   ],
   "source": [
    "prices = generate_list()\n",
    "print(prices)"
   ]
  },
  {
   "cell_type": "code",
   "execution_count": 8,
   "metadata": {},
   "outputs": [
    {
     "name": "stdout",
     "output_type": "stream",
     "text": [
      "Execução do preço: 0\n",
      "Execução do preço: 42\n",
      "Execução do preço: 168\n",
      "Execução do preço: 378\n",
      "Execução do preço: 672\n",
      "Execução do preço: 1050\n",
      "Execução do preço: 1512\n",
      "Execução do preço: 2058\n",
      "Execução do preço: 2688\n",
      "Execução do preço: 3402\n",
      "Execução do preço: 4200\n",
      "Execução do preço: 5082\n",
      "Execução do preço: 6048\n",
      "Execução do preço: 7098\n",
      "Execução do preço: 8232\n",
      "Execução do preço: 9450\n",
      "Execução do preço: 10752\n",
      "Execução do preço: 12138\n",
      "Execução do preço: 13608\n",
      "Execução do preço: 15162\n",
      "Tomou 20.034298 segundos para incrementar os valores dos preços\n"
     ]
    }
   ],
   "source": [
    "increase_price_serial(prices, increase_price_by_10_percent)"
   ]
  },
  {
   "cell_type": "code",
   "execution_count": 9,
   "metadata": {},
   "outputs": [
    {
     "name": "stdout",
     "output_type": "stream",
     "text": [
      "Execução do preço: 0\n",
      "Execução do preço: 42\n",
      "Execução do preço: 168\n",
      "Execução do preço: 378\n",
      "Execução do preço: 672Execução do preço: 1050\n",
      "\n",
      "Execução do preço: 1512\n",
      "Execução do preço: 2058\n",
      "Execução do preço: 2688\n",
      "Execução do preço: 3402\n",
      "Execução do preço: 4200\n",
      "Execução do preço: 5082\n",
      "Execução do preço: 6048\n",
      "Execução do preço: 7098Execução do preço: 8232\n",
      "\n",
      "Execução do preço: 9450\n",
      "Execução do preço: 10752\n",
      "Execução do preço: 12138\n",
      "Execução do preço: 13608\n",
      "Execução do preço: 15162\n",
      "Tomou 5.023675 segundos para incrementar os valores dos preços com threads\n"
     ]
    }
   ],
   "source": [
    "increase_price_with_threads(prices, increase_price_by_10_percent)"
   ]
  },
  {
   "cell_type": "code",
   "execution_count": 10,
   "metadata": {},
   "outputs": [
    {
     "name": "stdout",
     "output_type": "stream",
     "text": [
      "Execução do preço: 0\n",
      "Execução do preço: 42\n",
      "Execução do preço: 168\n",
      "Execução do preço: 378\n",
      "Execução do preço: 672\n",
      "Execução do preço: 1050\n",
      "Execução do preço: 1512\n",
      "Execução do preço: 2058\n",
      "Execução do preço: 2688\n",
      "Execução do preço: 3402\n",
      "Execução do preço: 5082\n",
      "Execução do preço: 4200\n",
      "Execução do preço: 6048\n",
      "Execução do preço: 7098\n",
      "Execução do preço: 8232\n",
      "Execução do preço: 9450\n",
      "Execução do preço: 12138\n",
      "Execução do preço: 13608\n",
      "Execução do preço: 10752\n",
      "Execução do preço: 15162\n",
      "Tomou 5.08382 segundos para incrementar os valores dos preços com subprocessos\n"
     ]
    }
   ],
   "source": [
    "increase_price_with_subprocess(prices, increase_price_by_10_percent)"
   ]
  },
  {
   "cell_type": "markdown",
   "metadata": {},
   "source": [
    "Nota-se que a classe ProcessPoolExecutor faz muitos \"malabarismos\" para que o paralelismo seja realmente possível. Por isso só deve ser usadas sé realmente o método exigir o paralelismo, em métodos simples ele se torna mais lento que threads e sequêncial."
   ]
  },
  {
   "cell_type": "markdown",
   "metadata": {},
   "source": [
    "***\n",
    "### Outro Exemplo\n",
    "***"
   ]
  },
  {
   "cell_type": "code",
   "execution_count": 11,
   "metadata": {},
   "outputs": [],
   "source": [
    "def increase_price_by_10_percent(price):\n",
    "    \"\"\"\n",
    "    Faz um cálculo maroto para que seja realizado\n",
    "    não tão rapido.\n",
    "    \"\"\"\n",
    "    \n",
    "    print(\"Cálculo do preço: \" + str(price))\n",
    "    time.sleep(5)\n",
    "\n",
    "    price += price / 10 * 100\n",
    "    print(\"Novo preço: \" + str(price))\n",
    "\n",
    "    return price"
   ]
  },
  {
   "cell_type": "code",
   "execution_count": 12,
   "metadata": {},
   "outputs": [
    {
     "name": "stdout",
     "output_type": "stream",
     "text": [
      "Cálculo do preço: 125Cálculo do preço: 250\n",
      "\n",
      "Cálculo do preço: 99\n",
      "Cálculo do preço: 23\n",
      "Novo preço: 252.99999999999997\n",
      "RETORNOU\n",
      "Novo preço: 2750.0Novo preço: 1375.0\n",
      "252.99999999999997\n",
      "Novo preço: 1089.0\n",
      "\n"
     ]
    }
   ],
   "source": [
    "from concurrent.futures import wait, FIRST_COMPLETED, thread\n",
    "\n",
    "prices = [125, 250, 99, 23]\n",
    "\n",
    "with ThreadPoolExecutor(max_workers=len(prices)) as executor:\n",
    "\n",
    "    futures = [executor.submit(increase_price_by_10_percent, prices[i]) for i in range(len(prices))]\n",
    "\n",
    "    done, not_done = wait(futures, return_when=FIRST_COMPLETED)\n",
    "\n",
    "    for completed in done:\n",
    "        print(\"RETORNOU\")\n",
    "        print(completed.result())\n",
    "        executor._threads.clear()\n",
    "        thread._threads_queues.clear()\n",
    "        executor.shutdown(wait=False)"
   ]
  }
 ],
 "metadata": {
  "kernelspec": {
   "display_name": "Python 3",
   "language": "python",
   "name": "python3"
  },
  "language_info": {
   "codemirror_mode": {
    "name": "ipython",
    "version": 3
   },
   "file_extension": ".py",
   "mimetype": "text/x-python",
   "name": "python",
   "nbconvert_exporter": "python",
   "pygments_lexer": "ipython3",
   "version": "3.7.6"
  }
 },
 "nbformat": 4,
 "nbformat_minor": 2
}
