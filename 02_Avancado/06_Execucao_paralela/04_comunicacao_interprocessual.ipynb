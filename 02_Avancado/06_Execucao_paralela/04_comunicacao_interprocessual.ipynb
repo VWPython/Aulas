{
 "cells": [
  {
   "cell_type": "markdown",
   "metadata": {},
   "source": [
    "# Comunicação Interprocessual\n",
    "***"
   ]
  },
  {
   "cell_type": "markdown",
   "metadata": {},
   "source": [
    "Essa comunicação envolve mandar dados de um thread para outra\n",
    "\n",
    "Vimos que pipes nos permite criar caminhos entre um arquivo e outro e mandar dados de um arquivo para o outro.\n",
    "\n",
    "Entretanto, podemos usar pipes para mandar dados entre uma thread e outra, assim montando uma rede de comunicação entre as diferentes threads que estão sendo executadas\n",
    "\n",
    "Existem dois tipos de pipes para esse fim: **pipe anônimos** e **pipe nomeados**.\n",
    "\n",
    "Um **pipe anônimo** é aquele que é criado instantaneamente, em execução do programa, enquanto que o **nomeado** é baseado num arquivo pré-existente ou recentemente criado, qualquer thread tem acesso a esse arquivo.\n",
    "\n",
    "**pipeout**: quem manda os dados e **pipein** quem recebe os dados\n",
    "\n",
    "**sockets** também é um tipo de comunicação interprocessual"
   ]
  },
  {
   "cell_type": "markdown",
   "metadata": {},
   "source": [
    "***\n",
    "### Pipe Anônimos\n",
    "***"
   ]
  },
  {
   "cell_type": "code",
   "execution_count": 1,
   "metadata": {},
   "outputs": [],
   "source": [
    "import os\n",
    "import time\n",
    "from threading import Thread"
   ]
  },
  {
   "cell_type": "code",
   "execution_count": 2,
   "metadata": {},
   "outputs": [],
   "source": [
    "# Manda dados da thread filho para thread pai\n",
    "def son(pipeout):\n",
    "    zzz = 0\n",
    "    while True:\n",
    "        time.sleep(zzz)\n",
    "        msg = ('Spam {0:03d}'.format(zzz)).encode()\n",
    "        # Escrever a mensagem no pipeout\n",
    "        os.write(pipeout, msg)\n",
    "        # Garantir que essa variavel não tenha valor maior que 5\n",
    "        zzz = (zzz + 1) % 5"
   ]
  },
  {
   "cell_type": "code",
   "execution_count": 3,
   "metadata": {},
   "outputs": [],
   "source": [
    "def father(pipein):\n",
    "    while True:\n",
    "        # Lê 32 bytes do que ta escrito no pipein\n",
    "        line = os.read(pipein, 32)\n",
    "        print(\"Pai {0} recebeu [{1}] às {2}\".format(os.getpid(), line, time.time()))"
   ]
  },
  {
   "cell_type": "code",
   "execution_count": 4,
   "metadata": {},
   "outputs": [],
   "source": [
    "# Inicializa os pipes\n",
    "pipein, pipeout = os.pipe()"
   ]
  },
  {
   "cell_type": "code",
   "execution_count": 5,
   "metadata": {},
   "outputs": [],
   "source": [
    "# Cria e rodo a Thread filho e passo o pipeout para ele\n",
    "thread = Thread(target=son, args=(pipeout,))\n",
    "thread.start()"
   ]
  },
  {
   "cell_type": "code",
   "execution_count": 6,
   "metadata": {},
   "outputs": [
    {
     "name": "stdout",
     "output_type": "stream",
     "text": [
      "Pai 2202 recebeu [b'Spam 000Spam 001Spam 002'] às 1586062432.148671\n",
      "Pai 2202 recebeu [b'Spam 003'] às 1586062434.869272\n",
      "Pai 2202 recebeu [b'Spam 004Spam 000'] às 1586062438.8477657\n",
      "Pai 2202 recebeu [b'Spam 001'] às 1586062439.8495567\n",
      "Pai 2202 recebeu [b'Spam 002'] às 1586062441.854711\n",
      "Pai 2202 recebeu [b'Spam 003'] às 1586062444.8590286\n",
      "Pai 2202 recebeu [b'Spam 004'] às 1586062448.8636568\n",
      "Pai 2202 recebeu [b'Spam 000'] às 1586062448.8646533\n",
      "Pai 2202 recebeu [b'Spam 001'] às 1586062449.8678143\n",
      "Pai 2202 recebeu [b'Spam 002'] às 1586062451.8729434\n",
      "Pai 2202 recebeu [b'Spam 003'] às 1586062454.8772032\n",
      "Pai 2202 recebeu [b'Spam 004'] às 1586062458.883563\n",
      "Pai 2202 recebeu [b'Spam 000'] às 1586062458.884504\n",
      "Pai 2202 recebeu [b'Spam 001'] às 1586062459.886838\n",
      "Pai 2202 recebeu [b'Spam 002'] às 1586062461.8903072\n",
      "Pai 2202 recebeu [b'Spam 003'] às 1586062464.8928785\n",
      "Pai 2202 recebeu [b'Spam 004Spam 000'] às 1586062468.87499\n",
      "Pai 2202 recebeu [b'Spam 001'] às 1586062469.8784225\n",
      "Pai 2202 recebeu [b'Spam 002'] às 1586062471.8812215\n",
      "Pai 2202 recebeu [b'Spam 003'] às 1586062474.8885136\n"
     ]
    },
    {
     "ename": "KeyboardInterrupt",
     "evalue": "",
     "output_type": "error",
     "traceback": [
      "\u001b[0;31m---------------------------------------------------------------------------\u001b[0m",
      "\u001b[0;31mKeyboardInterrupt\u001b[0m                         Traceback (most recent call last)",
      "\u001b[0;32m<ipython-input-6-8b24dbe6d27b>\u001b[0m in \u001b[0;36m<module>\u001b[0;34m\u001b[0m\n\u001b[1;32m      1\u001b[0m \u001b[0;31m# Executo a thread pai\u001b[0m\u001b[0;34m\u001b[0m\u001b[0;34m\u001b[0m\u001b[0;34m\u001b[0m\u001b[0m\n\u001b[0;32m----> 2\u001b[0;31m \u001b[0mfather\u001b[0m\u001b[0;34m(\u001b[0m\u001b[0mpipein\u001b[0m\u001b[0;34m)\u001b[0m\u001b[0;34m\u001b[0m\u001b[0;34m\u001b[0m\u001b[0m\n\u001b[0m",
      "\u001b[0;32m<ipython-input-3-2266313d66f2>\u001b[0m in \u001b[0;36mfather\u001b[0;34m(pipein)\u001b[0m\n\u001b[1;32m      2\u001b[0m     \u001b[0;32mwhile\u001b[0m \u001b[0;32mTrue\u001b[0m\u001b[0;34m:\u001b[0m\u001b[0;34m\u001b[0m\u001b[0;34m\u001b[0m\u001b[0m\n\u001b[1;32m      3\u001b[0m         \u001b[0;31m# Lê 32 bytes do que ta escrito no pipein\u001b[0m\u001b[0;34m\u001b[0m\u001b[0;34m\u001b[0m\u001b[0;34m\u001b[0m\u001b[0m\n\u001b[0;32m----> 4\u001b[0;31m         \u001b[0mline\u001b[0m \u001b[0;34m=\u001b[0m \u001b[0mos\u001b[0m\u001b[0;34m.\u001b[0m\u001b[0mread\u001b[0m\u001b[0;34m(\u001b[0m\u001b[0mpipein\u001b[0m\u001b[0;34m,\u001b[0m \u001b[0;36m32\u001b[0m\u001b[0;34m)\u001b[0m\u001b[0;34m\u001b[0m\u001b[0;34m\u001b[0m\u001b[0m\n\u001b[0m\u001b[1;32m      5\u001b[0m         \u001b[0mprint\u001b[0m\u001b[0;34m(\u001b[0m\u001b[0;34m\"Pai {0} recebeu [{1}] às {2}\"\u001b[0m\u001b[0;34m.\u001b[0m\u001b[0mformat\u001b[0m\u001b[0;34m(\u001b[0m\u001b[0mos\u001b[0m\u001b[0;34m.\u001b[0m\u001b[0mgetpid\u001b[0m\u001b[0;34m(\u001b[0m\u001b[0;34m)\u001b[0m\u001b[0;34m,\u001b[0m \u001b[0mline\u001b[0m\u001b[0;34m,\u001b[0m \u001b[0mtime\u001b[0m\u001b[0;34m.\u001b[0m\u001b[0mtime\u001b[0m\u001b[0;34m(\u001b[0m\u001b[0;34m)\u001b[0m\u001b[0;34m)\u001b[0m\u001b[0;34m)\u001b[0m\u001b[0;34m\u001b[0m\u001b[0;34m\u001b[0m\u001b[0m\n",
      "\u001b[0;31mKeyboardInterrupt\u001b[0m: "
     ]
    }
   ],
   "source": [
    "# Executo a thread pai\n",
    "father(pipein)"
   ]
  },
  {
   "cell_type": "markdown",
   "metadata": {},
   "source": [
    "***\n",
    "### Pipe Nomeados\n",
    "***"
   ]
  },
  {
   "cell_type": "code",
   "execution_count": 7,
   "metadata": {},
   "outputs": [],
   "source": [
    "import os\n",
    "import time\n",
    "import sys"
   ]
  },
  {
   "cell_type": "code",
   "execution_count": 8,
   "metadata": {},
   "outputs": [],
   "source": [
    "# fifo nome do arquivo gerando para criar um pipe (file in file out)\n",
    "fifoname = os.path.join(os.getcwd(), 'tmp', 'pipefifo')"
   ]
  },
  {
   "cell_type": "code",
   "execution_count": 9,
   "metadata": {},
   "outputs": [],
   "source": [
    "def son():\n",
    "    # Abre o arquivo no modo de escrita, não pode ler\n",
    "    pipeout = os.open(fifoname, os.O_WRONLY)\n",
    "    zzz = 0\n",
    "    while True:\n",
    "        time.sleep(zzz)\n",
    "        msg = ('Spam {0:03d}\\n'.format(zzz)).encode()\n",
    "        os.write(pipeout, msg)\n",
    "        zzz = (zzz + 1) % 5"
   ]
  },
  {
   "cell_type": "code",
   "execution_count": 10,
   "metadata": {},
   "outputs": [],
   "source": [
    "def father():\n",
    "    pipein = open(fifoname)\n",
    "    while True:\n",
    "        line = pipein.readline()\n",
    "        print(\"Pai {0} recebeu {1} às {2}\".format(os.getpid(), line, time.time()))"
   ]
  },
  {
   "cell_type": "code",
   "execution_count": 11,
   "metadata": {},
   "outputs": [
    {
     "ename": "FileNotFoundError",
     "evalue": "[Errno 2] No such file or directory",
     "output_type": "error",
     "traceback": [
      "\u001b[0;31m---------------------------------------------------------------------------\u001b[0m",
      "\u001b[0;31mFileNotFoundError\u001b[0m                         Traceback (most recent call last)",
      "\u001b[0;32m<ipython-input-11-8655649c687a>\u001b[0m in \u001b[0;36m<module>\u001b[0;34m\u001b[0m\n\u001b[1;32m      1\u001b[0m \u001b[0;32mif\u001b[0m \u001b[0;32mnot\u001b[0m \u001b[0mos\u001b[0m\u001b[0;34m.\u001b[0m\u001b[0mpath\u001b[0m\u001b[0;34m.\u001b[0m\u001b[0mexists\u001b[0m\u001b[0;34m(\u001b[0m\u001b[0mfifoname\u001b[0m\u001b[0;34m)\u001b[0m\u001b[0;34m:\u001b[0m\u001b[0;34m\u001b[0m\u001b[0;34m\u001b[0m\u001b[0m\n\u001b[1;32m      2\u001b[0m     \u001b[0;31m# Cria o arquivo fifoname, porém tem que criar a pasta tmp\u001b[0m\u001b[0;34m\u001b[0m\u001b[0;34m\u001b[0m\u001b[0;34m\u001b[0m\u001b[0m\n\u001b[0;32m----> 3\u001b[0;31m     \u001b[0mos\u001b[0m\u001b[0;34m.\u001b[0m\u001b[0mmkfifo\u001b[0m\u001b[0;34m(\u001b[0m\u001b[0mfifoname\u001b[0m\u001b[0;34m)\u001b[0m\u001b[0;34m\u001b[0m\u001b[0;34m\u001b[0m\u001b[0m\n\u001b[0m\u001b[1;32m      4\u001b[0m \u001b[0;32mif\u001b[0m \u001b[0mlen\u001b[0m\u001b[0;34m(\u001b[0m\u001b[0msys\u001b[0m\u001b[0;34m.\u001b[0m\u001b[0margv\u001b[0m\u001b[0;34m)\u001b[0m \u001b[0;34m==\u001b[0m \u001b[0;36m1\u001b[0m\u001b[0;34m:\u001b[0m\u001b[0;34m\u001b[0m\u001b[0;34m\u001b[0m\u001b[0m\n\u001b[1;32m      5\u001b[0m     \u001b[0mfather\u001b[0m\u001b[0;34m(\u001b[0m\u001b[0;34m)\u001b[0m\u001b[0;34m\u001b[0m\u001b[0;34m\u001b[0m\u001b[0m\n",
      "\u001b[0;31mFileNotFoundError\u001b[0m: [Errno 2] No such file or directory"
     ]
    }
   ],
   "source": [
    "if not os.path.exists(fifoname):\n",
    "    # Cria o arquivo fifoname, porém tem que criar a pasta tmp\n",
    "    os.mkfifo(fifoname)\n",
    "if len(sys.argv) == 1:\n",
    "    father()\n",
    "else:\n",
    "    son()"
   ]
  }
 ],
 "metadata": {
  "kernelspec": {
   "display_name": "Python 3",
   "language": "python",
   "name": "python3"
  },
  "language_info": {
   "codemirror_mode": {
    "name": "ipython",
    "version": 3
   },
   "file_extension": ".py",
   "mimetype": "text/x-python",
   "name": "python",
   "nbconvert_exporter": "python",
   "pygments_lexer": "ipython3",
   "version": "3.7.6"
  }
 },
 "nbformat": 4,
 "nbformat_minor": 2
}
