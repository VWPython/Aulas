{
 "cells": [
  {
   "cell_type": "markdown",
   "metadata": {},
   "source": [
    "## Conexão via SSH com o paramiko\n",
    "***\n",
    "\n",
    "O módulo paramiko, serve para fazer o uso de conexões de SSH, no qual é muito usado no mundo de DEVOPS.\n",
    "\n",
    "Instalação:\n",
    "\n",
    "```\n",
    "pip install paramiko\n",
    "```\n",
    "\n",
    "Esse módulo é utilizado em ferramentas como o Ansible e o Fabric que utilizam para fazerem conexões ssh e gerenciar as configurações."
   ]
  },
  {
   "cell_type": "markdown",
   "metadata": {},
   "source": [
    "***"
   ]
  },
  {
   "cell_type": "code",
   "execution_count": null,
   "metadata": {},
   "outputs": [],
   "source": [
    "# Importe os modulos\n",
    "from paramiko.client import SSHClient\n",
    "import paramiko"
   ]
  },
  {
   "cell_type": "code",
   "execution_count": null,
   "metadata": {},
   "outputs": [],
   "source": [
    "# Crie uma instância SSH\n",
    "client = SSHClient()"
   ]
  },
  {
   "cell_type": "code",
   "execution_count": null,
   "metadata": {},
   "outputs": [],
   "source": [
    "# O SSH necessita que seja aceito o fingerprint quando entramos\n",
    "# em um servidor pela primeira vez. Ele garante a autenticidade\n",
    "# de um servidor. Os comandos abaixo carrega os fingerprint\n",
    "client.load_system_host_keys()\n",
    "client.set_missing_host_key_policy(paramiko.AutoAddPolicy())"
   ]
  },
  {
   "cell_type": "code",
   "execution_count": null,
   "metadata": {},
   "outputs": [],
   "source": [
    "# Vamos conectar a máquina passando seu IP:porta usuário e senha\n",
    "client.connect(\"<IP>\", username='<username>', password='<password>')"
   ]
  },
  {
   "cell_type": "code",
   "execution_count": null,
   "metadata": {},
   "outputs": [],
   "source": [
    "# stdin é a entrada de retorno, ou seja, o ls -la\n",
    "# stdout é a saída do comando, ou seja, todos os diretorios e arquivos dentro da maquina\n",
    "# stderr é o status de error, caso ocorra\n",
    "stdin, stdout, stderr = client.exec_command(\"ls -la\")"
   ]
  },
  {
   "cell_type": "code",
   "execution_count": null,
   "metadata": {},
   "outputs": [],
   "source": [
    "# Se ocorrer algum erro ele vai mostrar esse erro, caso contrario executa o comando\n",
    "if stderr.channel.recv_exit_status() != 0:\n",
    "    print(stderr.channel.recv_exit_status())\n",
    "    print(stderr.read())\n",
    "else:\n",
    "    print(stdout.read())"
   ]
  }
 ],
 "metadata": {
  "kernelspec": {
   "display_name": "Python 3",
   "language": "python",
   "name": "python3"
  },
  "language_info": {
   "codemirror_mode": {
    "name": "ipython",
    "version": 3
   },
   "file_extension": ".py",
   "mimetype": "text/x-python",
   "name": "python",
   "nbconvert_exporter": "python",
   "pygments_lexer": "ipython3",
   "version": "3.7.6"
  }
 },
 "nbformat": 4,
 "nbformat_minor": 2
}
