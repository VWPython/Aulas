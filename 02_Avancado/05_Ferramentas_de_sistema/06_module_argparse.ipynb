{
 "cells": [
  {
   "cell_type": "markdown",
   "metadata": {},
   "source": [
    "# Modulo argparse\n",
    "***"
   ]
  },
  {
   "cell_type": "markdown",
   "metadata": {},
   "source": [
    "Argparse simplifica o uso do terminal por scripts python, ele simplifica a passagem de argumentos pelo terminal\n",
    "\n",
    "Pequeno exemplo:\n",
    "\n",
    "```py\n",
    "# Criar o objeto que irá lidar com o argumento e passar uma descrição para ele\n",
    "parser = argparse.ArgumentParser(description=\"Descrição do projeto\")\n",
    "\n",
    "# Vamos adicionar os argumentos\n",
    "parser.add_argument(\n",
    "    \"nome_do_argumento\", \n",
    "    help=\"Descrição opcional do argumento\",\n",
    "    type=tipo_do_argumento,\n",
    "    required=True\n",
    ")\n",
    "\n",
    "# Vamos pegar os argumentos colocados na linha de comando\n",
    "args = parser.parse_args()\n",
    "\n",
    "# Vamos acessar o valor dos argumentos\n",
    "print(args.nome_do_argumento)\n",
    "```\n",
    "\n",
    "Parâmetros do **.ArgumentParser()**:\n",
    "\n",
    "* **description**: Descrição do projeto que irá aparecer no help\n",
    "\n",
    "Parametros do **.add_argument()**:\n",
    "\n",
    "* **1° parâmetro**: Nome do argumento obrigatório se vier sem flag, se vier com flag é o nome resumido da flag, a flag vem com **-**\n",
    "\n",
    "\n",
    "* **2° parâmetro**: Nome completo da flag com **--**, argumento obrigatorio se tiver o argumento resumido da flag, o nome da variável será o nome completo da flag sem a flag.\n",
    "\n",
    "\n",
    "* **help**: Descrição opcional do argumento, aparece do lado do argumento quando o usuário der o **-h**\n",
    "\n",
    "\n",
    "* **type**: Tipo do argumento passado, pode ser **int**, **float**, **str** e etc...\n",
    "\n",
    "\n",
    "* **action**: Ação a ser executada se esse argumento aparecer, se for **store_true** vai colocar o valor booleano True no argumento output se o argumento for passado, caso não for coloca o valor booleano False. Podemos passar também o **store** que o próprio usuário irá especificar a ação, ele irá armazenar o que vier em seguida da flag\n",
    "\n",
    "Para o caso de argumentos opcionais que nào podem ser inseridos na mesma hora (mutualmente exclusivos) usamos um grupo:\n",
    "\n",
    "```py\n",
    "group = parser.add_mutually_exclusive_group()\n",
    "group.add_argument(...)\n",
    "```"
   ]
  },
  {
   "cell_type": "markdown",
   "metadata": {},
   "source": [
    "***\n",
    "### Exemplos\n",
    "***"
   ]
  },
  {
   "cell_type": "code",
   "execution_count": 1,
   "metadata": {},
   "outputs": [],
   "source": [
    "import os"
   ]
  },
  {
   "cell_type": "code",
   "execution_count": 2,
   "metadata": {},
   "outputs": [
    {
     "name": "stdout",
     "output_type": "stream",
     "text": [
      "usage: fib.py [-h] [-o OUTPUT] [-v | -q] number\n",
      "\n",
      "Exemplo de Argparse\n",
      "\n",
      "positional arguments:\n",
      "  number                Número da sequência de Fibonacci que se deseja obter\n",
      "\n",
      "optional arguments:\n",
      "  -h, --help            show this help message and exit\n",
      "  -o OUTPUT, --output OUTPUT\n",
      "                        Mandar a saída do programa para um arquivo separado\n",
      "  -v, --verbose         Imprime a saída no modo verbose\n",
      "  -q, --quiet           Imprime a saída no modo quiet\n",
      "\n"
     ]
    }
   ],
   "source": [
    "result = os.popen(\"python3 fib.py -h\")\n",
    "print(result.read())"
   ]
  },
  {
   "cell_type": "code",
   "execution_count": 3,
   "metadata": {},
   "outputs": [
    {
     "name": "stdout",
     "output_type": "stream",
     "text": [
      "Fibonacci(5) = 5\n",
      "\n"
     ]
    }
   ],
   "source": [
    "result = os.popen(\"python3 fib.py 5\")\n",
    "print(result.read())"
   ]
  },
  {
   "cell_type": "code",
   "execution_count": 4,
   "metadata": {},
   "outputs": [
    {
     "name": "stdout",
     "output_type": "stream",
     "text": [
      "\n"
     ]
    }
   ],
   "source": [
    "result = os.popen(\"python3 fib.py 5 --output fib.txt\")\n",
    "print(result.read())"
   ]
  },
  {
   "cell_type": "code",
   "execution_count": 5,
   "metadata": {},
   "outputs": [
    {
     "name": "stdout",
     "output_type": "stream",
     "text": [
      "O 10 valor da sequência de fibonacci é 55\n",
      "\n"
     ]
    }
   ],
   "source": [
    "result = os.popen(\"python3 fib.py 10 -v\")\n",
    "print(result.read())"
   ]
  },
  {
   "cell_type": "code",
   "execution_count": 6,
   "metadata": {},
   "outputs": [
    {
     "name": "stdout",
     "output_type": "stream",
     "text": [
      "21\n",
      "\n"
     ]
    }
   ],
   "source": [
    "result = os.popen(\"python3 fib.py 8 --quiet\")\n",
    "print(result.read())"
   ]
  },
  {
   "cell_type": "code",
   "execution_count": 7,
   "metadata": {},
   "outputs": [],
   "source": [
    "os.remove(\"./fib.txt\")"
   ]
  }
 ],
 "metadata": {
  "kernelspec": {
   "display_name": "Python 3",
   "language": "python",
   "name": "python3"
  },
  "language_info": {
   "codemirror_mode": {
    "name": "ipython",
    "version": 3
   },
   "file_extension": ".py",
   "mimetype": "text/x-python",
   "name": "python",
   "nbconvert_exporter": "python",
   "pygments_lexer": "ipython3",
   "version": "3.7.6"
  }
 },
 "nbformat": 4,
 "nbformat_minor": 2
}
