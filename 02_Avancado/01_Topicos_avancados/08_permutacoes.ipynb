{
 "cells": [
  {
   "cell_type": "markdown",
   "metadata": {},
   "source": [
    "## Permutações\n",
    "***\n",
    "\n",
    "Permutação é um dos assuntos discutidos na disciplina de análise combinatória em Matemática. Tendo em mãos uma sequência ordenada qualquer com um número “n” de elementos distintos, qualquer outra sequência formada pelos mesmos “n” elementos reordenados é chamada de permutação.\n",
    "\n",
    "Desse modo, podemos dizer que, se A é uma permutação de B, então A e B são constituídos pelos mesmos elementos, mas ordenados de forma diferente\n",
    "\n",
    "**Exemplo**: Calcule o número de permutações das letras da palavra AMOR.\n",
    "\n",
    "Observe que a palavra AMOR tem 4 elementos distintos. Para calcular o número de permutações dessa palavra, utilizaremos a fórmula abaixo:\n",
    "\n",
    "$$P_n = n! \\rightarrow P_4 = 4! = 4*3*2*1 = 24$$\n",
    "\n",
    "Portanto, é possível formar 24 permutações diferentes das letras da palavra AMOR. As permutações de palavras também são chamadas de anagramas."
   ]
  },
  {
   "cell_type": "markdown",
   "metadata": {},
   "source": [
    "***\n",
    "### Código\n",
    "***"
   ]
  },
  {
   "cell_type": "code",
   "execution_count": 1,
   "metadata": {},
   "outputs": [],
   "source": [
    "import itertools"
   ]
  },
  {
   "cell_type": "code",
   "execution_count": 2,
   "metadata": {},
   "outputs": [
    {
     "name": "stdout",
     "output_type": "stream",
     "text": [
      "amor\n",
      "amro\n",
      "aomr\n",
      "aorm\n",
      "armo\n",
      "arom\n",
      "maor\n",
      "maro\n",
      "moar\n",
      "mora\n",
      "mrao\n",
      "mroa\n",
      "oamr\n",
      "oarm\n",
      "omar\n",
      "omra\n",
      "oram\n",
      "orma\n",
      "ramo\n",
      "raom\n",
      "rmao\n",
      "rmoa\n",
      "roam\n",
      "roma\n",
      "24 permutações\n"
     ]
    }
   ],
   "source": [
    "counter = 0\n",
    "for p in itertools.permutations(\"amor\"):\n",
    "    counter += 1\n",
    "    print(\"\".join(str(x) for x in p))\n",
    "print(str(counter) + \" permutações\")"
   ]
  }
 ],
 "metadata": {
  "kernelspec": {
   "display_name": "Python 3",
   "language": "python",
   "name": "python3"
  },
  "language_info": {
   "codemirror_mode": {
    "name": "ipython",
    "version": 3
   },
   "file_extension": ".py",
   "mimetype": "text/x-python",
   "name": "python",
   "nbconvert_exporter": "python",
   "pygments_lexer": "ipython3",
   "version": "3.5.2"
  }
 },
 "nbformat": 4,
 "nbformat_minor": 2
}
