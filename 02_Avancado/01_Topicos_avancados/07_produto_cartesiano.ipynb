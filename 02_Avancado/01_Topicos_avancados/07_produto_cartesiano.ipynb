{
 "cells": [
  {
   "cell_type": "markdown",
   "metadata": {},
   "source": [
    "## Produto Cartesiano\n",
    "***\n",
    "\n",
    "Sejam os conjuntos A = {1, 2, 3}  e  B = {3, 4}.\n",
    "\n",
    "Com auxílio do diagrama de flechas ao lado, formaremos o conjunto de todos os pares ordenados em que o 1º elemento pertença ao conjunto A e o 2º pertença ao conjunto B.\n",
    "\n",
    "![image](https://user-images.githubusercontent.com/14116020/61342960-811c9800-a822-11e9-9558-7e91eec72c09.png)\n",
    "\n",
    "Assim, obtemos o conjunto: {(1, 3), (1, 4), (2, 3), (2, 4), (3, 3), (3, 4)}\n",
    "\n",
    "Esse conjunto é denominado produto cartesiano de A por B, sendo indicado por:\n",
    "\n",
    "![image](https://user-images.githubusercontent.com/14116020/61342990-9abddf80-a822-11e9-94b9-a1c988fc3315.png)\n",
    "\n",
    "Logo:\n",
    "\n",
    "Dados dois conjuntos A e B, não-vazios, denominamos produto cartesiano A x B o conjunto de todos os pares ordenados (x, y) onde x pertence a A e y pertence a B.\n",
    "\n",
    "![image](https://user-images.githubusercontent.com/14116020/61343022-b75a1780-a822-11e9-84a6-3216fac9c589.png)\n",
    "\n",
    "***"
   ]
  },
  {
   "cell_type": "code",
   "execution_count": 1,
   "metadata": {},
   "outputs": [],
   "source": [
    "import itertools"
   ]
  },
  {
   "cell_type": "code",
   "execution_count": 2,
   "metadata": {},
   "outputs": [
    {
     "name": "stdout",
     "output_type": "stream",
     "text": [
      "(1, 3)\n",
      "(1, 4)\n",
      "(2, 3)\n",
      "(2, 4)\n",
      "(3, 3)\n",
      "(3, 4)\n"
     ]
    }
   ],
   "source": [
    "for produto in itertools.product([1, 2, 3], [3, 4]):\n",
    "    print(produto)"
   ]
  },
  {
   "cell_type": "code",
   "execution_count": 3,
   "metadata": {},
   "outputs": [
    {
     "name": "stdout",
     "output_type": "stream",
     "text": [
      "(1, 4)\n",
      "(1, 5)\n",
      "(2, 4)\n",
      "(2, 5)\n",
      "(3, 4)\n",
      "(3, 5)\n",
      "(4, 4)\n",
      "(4, 5)\n"
     ]
    }
   ],
   "source": [
    "for produto in itertools.product([1, 2, 3, 4], [4, 5]):\n",
    "    print(produto)"
   ]
  }
 ],
 "metadata": {
  "kernelspec": {
   "display_name": "Python 3",
   "language": "python",
   "name": "python3"
  },
  "language_info": {
   "codemirror_mode": {
    "name": "ipython",
    "version": 3
   },
   "file_extension": ".py",
   "mimetype": "text/x-python",
   "name": "python",
   "nbconvert_exporter": "python",
   "pygments_lexer": "ipython3",
   "version": "3.5.2"
  }
 },
 "nbformat": 4,
 "nbformat_minor": 2
}
