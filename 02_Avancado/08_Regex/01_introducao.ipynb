{
 "cells": [
  {
   "cell_type": "markdown",
   "metadata": {},
   "source": [
    "## Expressões Regulares\n",
    "***\n",
    "\n",
    "Expressões regulares é um modo formal de se especificar um padrão de texto. Nada mais é do que uma composição de símbolos que formam uma expressão.\n",
    "\n",
    "Essa expressão é interpretada como uma regra. Fazemos uma entrada de dados e, de acordo com essa regra, saberemos se essa entrada casa/encaixa/match com essa regra.\n",
    "\n",
    "Trata-se de uma forma de você especificar padrões que podem ser procurados e casados em uma cadeia de caracteres.\n",
    "\n",
    "Elas são utilizadas em diversos aplicativos tais como editores de texto, leitores de e-mail, linguagens de programação e etc...\n",
    "\n",
    "As expressões são formada por símbolos (metacaracteres) e caracteres especiais.\n",
    "\n",
    "Você pode fazer várias coisas utilizando expressões regulares. Por exemplo: validar data, endereço de e-mail, nome de usuário, senha e etc...\n",
    "\n",
    "***\n",
    "### Metacaracteres\n",
    "***\n",
    "\n",
    "Cada símbolo desses tem uma função específica.\n",
    "\n",
    "Exemplo de metacaracteres: \n",
    "\n",
    "```\n",
    ".       Um caracter qualquer\n",
    "[]      Lista de caracteres permitidos, [[:lower:]], [[:upper:]], [[:alnum:]] incluir acentos\n",
    "[^]     Lista de caracteres proibidos, [^[:lower:]], [^[:upper:]], [^[:alnum:]] incluir acentos\n",
    "?       Nenhuma ou uma ocorrência, opcional\n",
    "*       Nenhuma, uma ou mais ocorrências\n",
    "+       Um ou mais ocorrências\n",
    "{x, y}  Ocorre de x a y vezes\n",
    "^       Inicio da linha\n",
    "$       Fim da linha\n",
    "\\b      Inicio ou fim da palavra\n",
    "\\       Torna um metacaracter um literal\n",
    "()      Delimita um grupo que pode ser reutilizado\n",
    "\\1..\\9  Reutilização dos grupos definidos\n",
    "|       Ou um Ou outro\n",
    ".*      Coringa, ou seja, qualquer caracter em qualquer quantidade.\n",
    "```\n",
    "\n",
    "***"
   ]
  }
 ],
 "metadata": {
  "kernelspec": {
   "display_name": "Python 3",
   "language": "python",
   "name": "python3"
  },
  "language_info": {
   "codemirror_mode": {
    "name": "ipython",
    "version": 3
   },
   "file_extension": ".py",
   "mimetype": "text/x-python",
   "name": "python",
   "nbconvert_exporter": "python",
   "pygments_lexer": "ipython3",
   "version": "3.5.2"
  }
 },
 "nbformat": 4,
 "nbformat_minor": 2
}
