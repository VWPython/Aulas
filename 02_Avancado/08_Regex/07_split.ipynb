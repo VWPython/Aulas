{
 "cells": [
  {
   "cell_type": "markdown",
   "metadata": {},
   "source": [
    "## split\n",
    "***\n",
    "\n",
    "Quebra a string em uma lista a partir de um padrão especificado\n",
    "\n",
    "***"
   ]
  },
  {
   "cell_type": "code",
   "execution_count": 1,
   "metadata": {},
   "outputs": [],
   "source": [
    "import re as regex"
   ]
  },
  {
   "cell_type": "code",
   "execution_count": 2,
   "metadata": {},
   "outputs": [],
   "source": [
    "text = (\"para entrar em Contato\\n\"\n",
    "\t\t  \"r. Alagoas, 1049 5º e 6º andares\\n\"\n",
    "\t\t  \"Savassi - Belo Horizonte MG Brasil\\n\"\n",
    "\t\t  \"+55 31 3261 8083\\n\"\n",
    "\t\t  \"contato@ancieladvogados.com.br\\n\"\n",
    "\t\t  \"11/08/2016\")"
   ]
  },
  {
   "cell_type": "code",
   "execution_count": 3,
   "metadata": {},
   "outputs": [
    {
     "name": "stdout",
     "output_type": "stream",
     "text": [
      "['para entrar em Contato', 'r. Alagoas, 1049 5º e 6º andares', 'Savassi - Belo Horizonte MG Brasil', '+55 31 3261 8083', 'contato@ancieladvogados.com.br', '11/08/2016']\n"
     ]
    }
   ],
   "source": [
    "lista = regex.split(r\"\\n\", text)\n",
    "print(lista)"
   ]
  },
  {
   "cell_type": "markdown",
   "metadata": {},
   "source": [
    "***"
   ]
  },
  {
   "cell_type": "code",
   "execution_count": 4,
   "metadata": {},
   "outputs": [],
   "source": [
    "string = \"teste, teste, teste.\""
   ]
  },
  {
   "cell_type": "code",
   "execution_count": 5,
   "metadata": {},
   "outputs": [
    {
     "name": "stdout",
     "output_type": "stream",
     "text": [
      "['teste', 'teste', 'teste.']\n"
     ]
    }
   ],
   "source": [
    "# Separa em qualquer coisa que não for palavra, porém só 2 vezes\n",
    "lista = regex.split(r\"\\W+\", string, 2)\n",
    "print(lista)"
   ]
  }
 ],
 "metadata": {
  "kernelspec": {
   "display_name": "Python 3",
   "language": "python",
   "name": "python3"
  },
  "language_info": {
   "codemirror_mode": {
    "name": "ipython",
    "version": 3
   },
   "file_extension": ".py",
   "mimetype": "text/x-python",
   "name": "python",
   "nbconvert_exporter": "python",
   "pygments_lexer": "ipython3",
   "version": "3.5.2"
  }
 },
 "nbformat": 4,
 "nbformat_minor": 2
}
