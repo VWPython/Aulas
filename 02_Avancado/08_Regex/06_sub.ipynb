{
 "cells": [
  {
   "cell_type": "markdown",
   "metadata": {},
   "source": [
    "## sub\n",
    "***\n",
    "\n",
    "Método para substituir um texto casado por outro texto\n",
    "\n",
    "***"
   ]
  },
  {
   "cell_type": "code",
   "execution_count": 1,
   "metadata": {},
   "outputs": [],
   "source": [
    "import re as regex"
   ]
  },
  {
   "cell_type": "code",
   "execution_count": 2,
   "metadata": {},
   "outputs": [],
   "source": [
    "string = \"100 NORTH BROAD ROAD\""
   ]
  },
  {
   "cell_type": "code",
   "execution_count": 3,
   "metadata": {},
   "outputs": [
    {
     "name": "stdout",
     "output_type": "stream",
     "text": [
      "100 NORTH BRD. RD.\n"
     ]
    }
   ],
   "source": [
    "# Verificar erro com o método replace\n",
    "string_copy = string.replace(\"ROAD\", \"RD.\")\n",
    "print(string_copy)"
   ]
  },
  {
   "cell_type": "code",
   "execution_count": 4,
   "metadata": {},
   "outputs": [
    {
     "name": "stdout",
     "output_type": "stream",
     "text": [
      "100 NORTH BROAD RD.\n"
     ]
    }
   ],
   "source": [
    "# Forma melhor de replace com regex\n",
    "match = regex.sub(r\"ROAD$\", \"RD.\", string)\n",
    "print(match)"
   ]
  },
  {
   "cell_type": "markdown",
   "metadata": {},
   "source": [
    "***"
   ]
  },
  {
   "cell_type": "code",
   "execution_count": 5,
   "metadata": {},
   "outputs": [],
   "source": [
    "text = (\"para entrar em Contato \"\n",
    "\t\t  \"r. Alagoas, 1049 5º e 6º andares \"\n",
    "\t\t  \"Savassi - Belo Horizonte MG Brasil \"\n",
    "\t\t  \"+55 31 3261 8083 \"\n",
    "\t\t  \"contato@ancieladvogados.com.br \"\n",
    "\t\t  \"11/08/2016\")"
   ]
  },
  {
   "cell_type": "code",
   "execution_count": 6,
   "metadata": {},
   "outputs": [
    {
     "name": "stdout",
     "output_type": "stream",
     "text": [
      "para entrar em Contato r. Alagoas, 1049 5º e 6º andares Savassi - Belo Horizonte MG Brasil +55 31 3261 8083 contato@ancieladvogados.com.br 08-11-2016\n"
     ]
    }
   ],
   "source": [
    "# Trocar a data para o formato americano\n",
    "# \\g<3> é o terceiro grupo (\\d{4})\n",
    "match = regex.sub(r\"(\\d{2})\\/(\\d{2})\\/(\\d{4})\", r\"\\g<2>-\\g<1>-\\g<3>\", text)\n",
    "print(match)"
   ]
  }
 ],
 "metadata": {
  "kernelspec": {
   "display_name": "Python 3",
   "language": "python",
   "name": "python3"
  },
  "language_info": {
   "codemirror_mode": {
    "name": "ipython",
    "version": 3
   },
   "file_extension": ".py",
   "mimetype": "text/x-python",
   "name": "python",
   "nbconvert_exporter": "python",
   "pygments_lexer": "ipython3",
   "version": "3.5.2"
  }
 },
 "nbformat": 4,
 "nbformat_minor": 2
}
