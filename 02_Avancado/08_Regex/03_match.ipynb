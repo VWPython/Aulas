{
 "cells": [
  {
   "cell_type": "markdown",
   "metadata": {},
   "source": [
    "## Match\n",
    "***\n",
    "\n",
    "Verifica se casa só a partir do inicio de uma string. Não é muito usado como o search que busca a partir de qualquer parte da string. \n",
    "\n",
    "***"
   ]
  },
  {
   "cell_type": "code",
   "execution_count": 1,
   "metadata": {},
   "outputs": [],
   "source": [
    "import re as regex"
   ]
  },
  {
   "cell_type": "code",
   "execution_count": 2,
   "metadata": {},
   "outputs": [],
   "source": [
    "lista = ['1teste legal', '4qualquer', 'maisuma5', 'teste6']"
   ]
  },
  {
   "cell_type": "code",
   "execution_count": 3,
   "metadata": {},
   "outputs": [
    {
     "name": "stdout",
     "output_type": "stream",
     "text": [
      "Começa com um digito: 1teste legal\n",
      "Começa com um digito: 4qualquer\n",
      "Termina com um digito: maisuma5\n",
      "Termina com um digito: teste6\n"
     ]
    }
   ],
   "source": [
    "for element in lista:\n",
    "    match = regex.match(r\"^\\d\", element)\n",
    "    \n",
    "    if match:\n",
    "        print(\"Começa com um digito:\", element)\n",
    "        \n",
    "    match = regex.match(r\".*\\d$\", element)\n",
    "    \n",
    "    if match:\n",
    "        print(\"Termina com um digito:\", element)"
   ]
  },
  {
   "cell_type": "markdown",
   "metadata": {},
   "source": [
    "***"
   ]
  },
  {
   "cell_type": "code",
   "execution_count": 4,
   "metadata": {},
   "outputs": [],
   "source": [
    "text = (\"para entrar em Contato\\n\"\n",
    "\t\t  \"r. Alagoas, 1049 5º e 6º andares\\n\"\n",
    "\t\t  \"Savassi - Belo Horizonte MG Brasil\\n\"\n",
    "\t\t  \"+55 31 3261 8083\\n\"\n",
    "\t\t  \"contato@ancieladvogados.com.br\\n\"\n",
    "\t\t  \"11/08/2016\")"
   ]
  },
  {
   "cell_type": "code",
   "execution_count": 5,
   "metadata": {},
   "outputs": [],
   "source": [
    "# Buscar email\n",
    "pattern = r\"^\\w+@\\w+[combr.]+\""
   ]
  },
  {
   "cell_type": "code",
   "execution_count": 6,
   "metadata": {},
   "outputs": [],
   "source": [
    "match = regex.match(pattern, text, regex.MULTILINE)\n",
    "\n",
    "if match:\n",
    "    print(match.group(0)) # Retorna nada já que não começa com o email."
   ]
  },
  {
   "cell_type": "code",
   "execution_count": 7,
   "metadata": {},
   "outputs": [
    {
     "name": "stdout",
     "output_type": "stream",
     "text": [
      "contato@ancieladvogados.com.br\n"
     ]
    }
   ],
   "source": [
    "match = regex.search(pattern, text, regex.MULTILINE)\n",
    "if match:\n",
    "    print(match.group(0)) # Retorna o email"
   ]
  }
 ],
 "metadata": {
  "kernelspec": {
   "display_name": "Python 3",
   "language": "python",
   "name": "python3"
  },
  "language_info": {
   "codemirror_mode": {
    "name": "ipython",
    "version": 3
   },
   "file_extension": ".py",
   "mimetype": "text/x-python",
   "name": "python",
   "nbconvert_exporter": "python",
   "pygments_lexer": "ipython3",
   "version": "3.5.2"
  }
 },
 "nbformat": 4,
 "nbformat_minor": 2
}
