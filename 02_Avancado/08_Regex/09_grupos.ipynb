{
 "cells": [
  {
   "cell_type": "markdown",
   "metadata": {},
   "source": [
    "## Grupos nomeados\n",
    "***\n",
    "\n",
    "Nomear os grupos, muito usando nas urls das versões abaixo da 2.0 do Django\n",
    "\n",
    "***"
   ]
  },
  {
   "cell_type": "code",
   "execution_count": 1,
   "metadata": {},
   "outputs": [],
   "source": [
    "import re as regex"
   ]
  },
  {
   "cell_type": "code",
   "execution_count": 2,
   "metadata": {},
   "outputs": [],
   "source": [
    "name = 'Victor Arnaud'"
   ]
  },
  {
   "cell_type": "code",
   "execution_count": 3,
   "metadata": {},
   "outputs": [],
   "source": [
    "pattern = regex.compile(r'(?P<first>\\w+)\\W+(?P<last>\\w+)')"
   ]
  },
  {
   "cell_type": "code",
   "execution_count": 4,
   "metadata": {},
   "outputs": [],
   "source": [
    "match = pattern.match(name)"
   ]
  },
  {
   "cell_type": "code",
   "execution_count": 5,
   "metadata": {},
   "outputs": [
    {
     "name": "stdout",
     "output_type": "stream",
     "text": [
      "Victor\n",
      "Arnaud\n",
      "{'first': 'Victor', 'last': 'Arnaud'}\n",
      "key: first\n",
      "value: Victor\n",
      "key: last\n",
      "value: Arnaud\n"
     ]
    }
   ],
   "source": [
    "if match:\n",
    "\tprint(match.group('first'))\n",
    "\tprint(match.group('last'))\n",
    "\tprint(match.groupdict())\n",
    "\tdictionary = match.groupdict()\n",
    "\n",
    "\tfor key in dictionary:\n",
    "\t\tprint('key:', key)\n",
    "\t\tprint('value:', dictionary[key])"
   ]
  }
 ],
 "metadata": {
  "kernelspec": {
   "display_name": "Python 3",
   "language": "python",
   "name": "python3"
  },
  "language_info": {
   "codemirror_mode": {
    "name": "ipython",
    "version": 3
   },
   "file_extension": ".py",
   "mimetype": "text/x-python",
   "name": "python",
   "nbconvert_exporter": "python",
   "pygments_lexer": "ipython3",
   "version": "3.7.6"
  }
 },
 "nbformat": 4,
 "nbformat_minor": 2
}
