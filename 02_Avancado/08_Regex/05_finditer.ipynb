{
 "cells": [
  {
   "cell_type": "markdown",
   "metadata": {},
   "source": [
    "## finditer\n",
    "***\n",
    "\n",
    "Além de retornar uma lista, ele itera sobre essa lista\n",
    "\n",
    "***"
   ]
  },
  {
   "cell_type": "code",
   "execution_count": 1,
   "metadata": {},
   "outputs": [],
   "source": [
    "import re as regex"
   ]
  },
  {
   "cell_type": "code",
   "execution_count": 2,
   "metadata": {},
   "outputs": [],
   "source": [
    "with open(\"arquivo.html\") as file:\n",
    "    text = file.read()"
   ]
  },
  {
   "cell_type": "code",
   "execution_count": 3,
   "metadata": {},
   "outputs": [],
   "source": [
    "pattern = regex.compile(r\"(https?://)(\\w+)\\.(\\w+\\.?\\w+?)\\/(\\w+)\")"
   ]
  },
  {
   "cell_type": "code",
   "execution_count": 4,
   "metadata": {},
   "outputs": [
    {
     "name": "stdout",
     "output_type": "stream",
     "text": [
      "http://example.com/elsie\n",
      "http: http://\n",
      "domain: example\n",
      "region: com\n",
      "path: elsie\n",
      "http://example.com/lacie\n",
      "http: http://\n",
      "domain: example\n",
      "region: com\n",
      "path: lacie\n",
      "https://example.com/tillie\n",
      "http: https://\n",
      "domain: example\n",
      "region: com\n",
      "path: tillie\n"
     ]
    }
   ],
   "source": [
    "for match in pattern.finditer(text):\n",
    "    http = match.group(1)\n",
    "    domain = match.group(2)\n",
    "    region = match.group(3)\n",
    "    path = match.group(4)\n",
    "    print(match.group())\n",
    "    result = \"http: {0}\\ndomain: {1}\\nregion: {2}\\npath: {3}\".format(http, domain, region, path)\n",
    "    print(result)"
   ]
  }
 ],
 "metadata": {
  "kernelspec": {
   "display_name": "Python 3",
   "language": "python",
   "name": "python3"
  },
  "language_info": {
   "codemirror_mode": {
    "name": "ipython",
    "version": 3
   },
   "file_extension": ".py",
   "mimetype": "text/x-python",
   "name": "python",
   "nbconvert_exporter": "python",
   "pygments_lexer": "ipython3",
   "version": "3.5.2"
  }
 },
 "nbformat": 4,
 "nbformat_minor": 2
}
