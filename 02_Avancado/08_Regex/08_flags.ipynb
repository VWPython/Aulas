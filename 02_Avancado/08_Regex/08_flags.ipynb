{
 "cells": [
  {
   "cell_type": "markdown",
   "metadata": {},
   "source": [
    "## Flags\n",
    "***\n",
    "\n",
    "Trabalhar com os metacaracteres modernos\n",
    "\n",
    "***"
   ]
  },
  {
   "cell_type": "code",
   "execution_count": 1,
   "metadata": {},
   "outputs": [],
   "source": [
    "import re as regex"
   ]
  },
  {
   "cell_type": "code",
   "execution_count": 2,
   "metadata": {},
   "outputs": [],
   "source": [
    "text = (\"Para entrar em Contato\\n\"\n",
    "\t\t  \"R. Alagoas, 1049 5º e 6º andares\\n\"\n",
    "\t\t  \"Savassi - Belo Horizonte MG Brasil\\n\"\n",
    "\t\t  \"+55 31 3261 8083\\n\"\n",
    "\t\t  \"contato@ancieladvogados.com.br\\n\"\n",
    "\t\t  \"11/08/2016\")"
   ]
  },
  {
   "cell_type": "code",
   "execution_count": 3,
   "metadata": {},
   "outputs": [
    {
     "name": "stdout",
     "output_type": "stream",
     "text": [
      "['contato@ancieladvogados.com.br']\n"
     ]
    }
   ],
   "source": [
    "pattern = regex.compile(r\"^[a-z].+$\", regex.MULTILINE)\n",
    "lista = pattern.findall(text)\n",
    "print(lista)"
   ]
  },
  {
   "cell_type": "code",
   "execution_count": 4,
   "metadata": {},
   "outputs": [
    {
     "name": "stdout",
     "output_type": "stream",
     "text": [
      "['Para entrar em Contato', 'R. Alagoas, 1049 5º e 6º andares', 'Savassi - Belo Horizonte MG Brasil', 'contato@ancieladvogados.com.br']\n"
     ]
    }
   ],
   "source": [
    "pattern = regex.compile(r\"^[a-z].+$\", regex.MULTILINE|regex.IGNORECASE)\n",
    "lista = pattern.findall(text)\n",
    "print(lista)"
   ]
  },
  {
   "cell_type": "code",
   "execution_count": 5,
   "metadata": {},
   "outputs": [
    {
     "name": "stdout",
     "output_type": "stream",
     "text": [
      "['Para entrar em Contato', 'R. Alagoas, 1049 5º e 6º andares', 'Savassi - Belo Horizonte MG Brasil', 'contato@ancieladvogados.com.br']\n"
     ]
    }
   ],
   "source": [
    "pattern = regex.compile(r\"(?mi)^[a-z].+$\")\n",
    "lista = pattern.findall(text)\n",
    "print(lista)"
   ]
  },
  {
   "cell_type": "code",
   "execution_count": 6,
   "metadata": {},
   "outputs": [
    {
     "name": "stdout",
     "output_type": "stream",
     "text": [
      "['Para entrar em Contato\\nR. Alagoas, 1049 5º e 6º andares\\nSavassi - Belo Horizonte MG Brasil\\n+55 31 3261 8083\\ncontato@ancieladvogados.com.br\\n11/08/2016']\n"
     ]
    }
   ],
   "source": [
    "pattern = regex.compile(r\"^.+$\", regex.MULTILINE|regex.IGNORECASE|regex.DOTALL)\n",
    "lista = pattern.findall(text)\n",
    "print(lista)"
   ]
  }
 ],
 "metadata": {
  "kernelspec": {
   "display_name": "Python 3",
   "language": "python",
   "name": "python3"
  },
  "language_info": {
   "codemirror_mode": {
    "name": "ipython",
    "version": 3
   },
   "file_extension": ".py",
   "mimetype": "text/x-python",
   "name": "python",
   "nbconvert_exporter": "python",
   "pygments_lexer": "ipython3",
   "version": "3.7.6"
  }
 },
 "nbformat": 4,
 "nbformat_minor": 2
}
