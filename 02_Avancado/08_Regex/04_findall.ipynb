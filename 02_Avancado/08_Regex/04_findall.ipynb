{
 "cells": [
  {
   "cell_type": "markdown",
   "metadata": {},
   "source": [
    "## findall\n",
    "***\n",
    "\n",
    "Encontrar todas as ocorrencias de um determinado padrão por meio de uma lista\n",
    "\n",
    "***"
   ]
  },
  {
   "cell_type": "code",
   "execution_count": 1,
   "metadata": {},
   "outputs": [],
   "source": [
    "import re as regex"
   ]
  },
  {
   "cell_type": "code",
   "execution_count": 2,
   "metadata": {},
   "outputs": [],
   "source": [
    "text = (\"Hoje acordei as 06:00hrs e tomei meu café da manhã as 06:30hrs \"\n",
    "\t\t  \"Logo depois fui correr, corri 10km em 40 minutos, ouvindo CPM22 \"\n",
    "\t\t  \"voltei para casa e tomei um banho e fui sai para trabalhar as 8:30hrs \"\n",
    "\t\t  \"voltei para casa as 18:00hrs e jantei as 19:00hrs\")"
   ]
  },
  {
   "cell_type": "markdown",
   "metadata": {},
   "source": [
    "***"
   ]
  },
  {
   "cell_type": "code",
   "execution_count": 3,
   "metadata": {},
   "outputs": [],
   "source": [
    "pattern = r\"(?i)\\b[a-z]+\""
   ]
  },
  {
   "cell_type": "code",
   "execution_count": 4,
   "metadata": {},
   "outputs": [],
   "source": [
    "match = regex.findall(pattern, text)"
   ]
  },
  {
   "cell_type": "code",
   "execution_count": 5,
   "metadata": {},
   "outputs": [
    {
     "name": "stdout",
     "output_type": "stream",
     "text": [
      "['Hoje', 'acordei', 'as', 'e', 'tomei', 'meu', 'caf', 'da', 'manh', 'as', 'Logo', 'depois', 'fui', 'correr', 'corri', 'em', 'minutos', 'ouvindo', 'CPM', 'voltei', 'para', 'casa', 'e', 'tomei', 'um', 'banho', 'e', 'fui', 'sai', 'para', 'trabalhar', 'as', 'voltei', 'para', 'casa', 'as', 'e', 'jantei', 'as']\n"
     ]
    }
   ],
   "source": [
    "if match:\n",
    "    print(match)"
   ]
  },
  {
   "cell_type": "markdown",
   "metadata": {},
   "source": [
    "***"
   ]
  },
  {
   "cell_type": "code",
   "execution_count": 6,
   "metadata": {},
   "outputs": [],
   "source": [
    "# Vamos usar o padrão mais de uma vez (melhora a performace)\n",
    "pattern = regex.compile(r\"(?i)\\b[a-z]+\")"
   ]
  },
  {
   "cell_type": "code",
   "execution_count": 7,
   "metadata": {},
   "outputs": [],
   "source": [
    "match = pattern.findall(text)"
   ]
  },
  {
   "cell_type": "code",
   "execution_count": 8,
   "metadata": {},
   "outputs": [
    {
     "name": "stdout",
     "output_type": "stream",
     "text": [
      "['Hoje', 'acordei', 'as', 'e', 'tomei', 'meu', 'caf', 'da', 'manh', 'as', 'Logo', 'depois', 'fui', 'correr', 'corri', 'em', 'minutos', 'ouvindo', 'CPM', 'voltei', 'para', 'casa', 'e', 'tomei', 'um', 'banho', 'e', 'fui', 'sai', 'para', 'trabalhar', 'as', 'voltei', 'para', 'casa', 'as', 'e', 'jantei', 'as']\n"
     ]
    }
   ],
   "source": [
    "if match:\n",
    "    print(match)"
   ]
  },
  {
   "cell_type": "markdown",
   "metadata": {},
   "source": [
    "***"
   ]
  },
  {
   "cell_type": "code",
   "execution_count": 9,
   "metadata": {},
   "outputs": [],
   "source": [
    "pattern = regex.compile(r\"(\\d\\d):(\\d\\d)\")"
   ]
  },
  {
   "cell_type": "code",
   "execution_count": 10,
   "metadata": {},
   "outputs": [],
   "source": [
    "match = pattern.findall(text)"
   ]
  },
  {
   "cell_type": "code",
   "execution_count": 11,
   "metadata": {},
   "outputs": [
    {
     "name": "stdout",
     "output_type": "stream",
     "text": [
      "[('06', '00'), ('06', '30'), ('18', '00'), ('19', '00')]\n"
     ]
    }
   ],
   "source": [
    "if match:\n",
    "    print(match)"
   ]
  }
 ],
 "metadata": {
  "kernelspec": {
   "display_name": "Python 3",
   "language": "python",
   "name": "python3"
  },
  "language_info": {
   "codemirror_mode": {
    "name": "ipython",
    "version": 3
   },
   "file_extension": ".py",
   "mimetype": "text/x-python",
   "name": "python",
   "nbconvert_exporter": "python",
   "pygments_lexer": "ipython3",
   "version": "3.7.6"
  }
 },
 "nbformat": 4,
 "nbformat_minor": 2
}
