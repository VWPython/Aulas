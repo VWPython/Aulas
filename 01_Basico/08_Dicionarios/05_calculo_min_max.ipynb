{
 "cells": [
  {
   "cell_type": "markdown",
   "metadata": {},
   "source": [
    "## Cálculo com dicionários (min, max)\n",
    "***"
   ]
  },
  {
   "cell_type": "code",
   "execution_count": 1,
   "metadata": {},
   "outputs": [],
   "source": [
    "precos = {'tablet': 2000, 'notebook': 3502.30, 'iphone': 1500}"
   ]
  },
  {
   "cell_type": "code",
   "execution_count": 2,
   "metadata": {},
   "outputs": [
    {
     "name": "stdout",
     "output_type": "stream",
     "text": [
      "[(2000, 'tablet'), (3502.3, 'notebook'), (1500, 'iphone')]\n"
     ]
    }
   ],
   "source": [
    "precos_combinados = zip(precos.values(), precos.keys())\n",
    "print(list(precos_combinados))"
   ]
  },
  {
   "cell_type": "code",
   "execution_count": 3,
   "metadata": {},
   "outputs": [
    {
     "name": "stdout",
     "output_type": "stream",
     "text": [
      "(1500, 'iphone')\n"
     ]
    }
   ],
   "source": [
    "menor_preco = min(zip(precos.values(), precos.keys()))\n",
    "print(menor_preco)"
   ]
  },
  {
   "cell_type": "code",
   "execution_count": 4,
   "metadata": {},
   "outputs": [
    {
     "name": "stdout",
     "output_type": "stream",
     "text": [
      "(3502.3, 'notebook')\n"
     ]
    }
   ],
   "source": [
    "maior_preco = max(zip(precos.values(), precos.keys()))\n",
    "print(maior_preco)"
   ]
  },
  {
   "cell_type": "markdown",
   "metadata": {},
   "source": [
    "***"
   ]
  },
  {
   "cell_type": "code",
   "execution_count": 5,
   "metadata": {},
   "outputs": [],
   "source": [
    "from operator import itemgetter"
   ]
  },
  {
   "cell_type": "code",
   "execution_count": 6,
   "metadata": {},
   "outputs": [],
   "source": [
    "lista = [{'idade': 10}, {'idade': 25}, {'idade': 15}, {'idade': 22}]"
   ]
  },
  {
   "cell_type": "code",
   "execution_count": 7,
   "metadata": {},
   "outputs": [
    {
     "name": "stdout",
     "output_type": "stream",
     "text": [
      "{'idade': 10}\n"
     ]
    }
   ],
   "source": [
    "menor_idade = min(lista, key=itemgetter('idade'))\n",
    "print(menor_idade)"
   ]
  },
  {
   "cell_type": "code",
   "execution_count": 8,
   "metadata": {},
   "outputs": [
    {
     "name": "stdout",
     "output_type": "stream",
     "text": [
      "{'idade': 25}\n"
     ]
    }
   ],
   "source": [
    "maior_idade = max(lista, key=itemgetter('idade'))\n",
    "print(maior_idade)"
   ]
  }
 ],
 "metadata": {
  "kernelspec": {
   "display_name": "Python 3",
   "language": "python",
   "name": "python3"
  },
  "language_info": {
   "codemirror_mode": {
    "name": "ipython",
    "version": 3
   },
   "file_extension": ".py",
   "mimetype": "text/x-python",
   "name": "python",
   "nbconvert_exporter": "python",
   "pygments_lexer": "ipython3",
   "version": "3.7.6"
  }
 },
 "nbformat": 4,
 "nbformat_minor": 2
}
