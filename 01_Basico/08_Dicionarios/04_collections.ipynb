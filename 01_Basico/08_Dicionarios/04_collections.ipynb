{
 "cells": [
  {
   "cell_type": "markdown",
   "metadata": {},
   "source": [
    "## Collections\n",
    "***\n",
    "\n",
    "**defaultdict**: O Defaultdict cria um dicionário vazio com um tipo especifico para cada chave.\n",
    "\n",
    "**OrderedDict**: Mantém a order de criação dos itens\n",
    "\n",
    "**Counter**: Similar ao multisets cria um dicionário com multiplicidade"
   ]
  },
  {
   "cell_type": "markdown",
   "metadata": {},
   "source": [
    "***\n",
    "### defaultdict\n",
    "***"
   ]
  },
  {
   "cell_type": "code",
   "execution_count": 1,
   "metadata": {},
   "outputs": [],
   "source": [
    "from collections import defaultdict"
   ]
  },
  {
   "cell_type": "code",
   "execution_count": 2,
   "metadata": {},
   "outputs": [],
   "source": [
    "x = defaultdict(list)"
   ]
  },
  {
   "cell_type": "code",
   "execution_count": 3,
   "metadata": {},
   "outputs": [],
   "source": [
    "x['marcos'].append(10)\n",
    "x['marcos'].append(20)\n",
    "x['marcos'].append(30)\n",
    "x['joao'].append(5)\n",
    "x['joao'].append(2)"
   ]
  },
  {
   "cell_type": "code",
   "execution_count": 4,
   "metadata": {},
   "outputs": [
    {
     "name": "stdout",
     "output_type": "stream",
     "text": [
      "[10, 20, 30]\n",
      "[5, 2]\n"
     ]
    }
   ],
   "source": [
    "print(x['marcos'])\n",
    "print(x['joao'])"
   ]
  },
  {
   "cell_type": "code",
   "execution_count": 5,
   "metadata": {},
   "outputs": [
    {
     "name": "stdout",
     "output_type": "stream",
     "text": [
      "defaultdict(<class 'list'>, {'marcos': [10, 20, 30], 'joao': [5, 2]})\n"
     ]
    }
   ],
   "source": [
    "print(x)"
   ]
  },
  {
   "cell_type": "code",
   "execution_count": 6,
   "metadata": {},
   "outputs": [
    {
     "name": "stdout",
     "output_type": "stream",
     "text": [
      "{20, 30}\n",
      "defaultdict(<class 'set'>, {'marcos': {20, 30}})\n"
     ]
    }
   ],
   "source": [
    "y = defaultdict(set)\n",
    "y['marcos'].add(30)\n",
    "y['marcos'].add(30)\n",
    "y['marcos'].add(20)\n",
    "print(y['marcos'])\n",
    "print(y)"
   ]
  },
  {
   "cell_type": "markdown",
   "metadata": {},
   "source": [
    "***\n",
    "### OrderedDict\n",
    "***"
   ]
  },
  {
   "cell_type": "code",
   "execution_count": 7,
   "metadata": {},
   "outputs": [],
   "source": [
    "from collections import OrderedDict"
   ]
  },
  {
   "cell_type": "code",
   "execution_count": 8,
   "metadata": {},
   "outputs": [],
   "source": [
    "ordered = OrderedDict()"
   ]
  },
  {
   "cell_type": "code",
   "execution_count": 9,
   "metadata": {},
   "outputs": [],
   "source": [
    "ordered['python'] = 10\n",
    "ordered['java'] = 8\n",
    "ordered['php'] = 2\n",
    "ordered['C'] = 5"
   ]
  },
  {
   "cell_type": "code",
   "execution_count": 10,
   "metadata": {},
   "outputs": [
    {
     "name": "stdout",
     "output_type": "stream",
     "text": [
      "python 10\n",
      "java 8\n",
      "php 2\n",
      "C 5\n"
     ]
    }
   ],
   "source": [
    "for key in ordered:\n",
    "    print(key, ordered[key])"
   ]
  },
  {
   "cell_type": "code",
   "execution_count": 11,
   "metadata": {},
   "outputs": [],
   "source": [
    "normal = {}\n",
    "normal['python'] = 10\n",
    "normal['java'] = 8\n",
    "normal['php'] = 2\n",
    "normal['C'] = 5"
   ]
  },
  {
   "cell_type": "code",
   "execution_count": 12,
   "metadata": {},
   "outputs": [
    {
     "name": "stdout",
     "output_type": "stream",
     "text": [
      "python 10\n",
      "java 8\n",
      "php 2\n",
      "C 5\n"
     ]
    }
   ],
   "source": [
    "for key in normal:\n",
    "    print(key, normal[key])"
   ]
  },
  {
   "cell_type": "markdown",
   "metadata": {},
   "source": [
    "***\n",
    "### Counter\n",
    "***"
   ]
  },
  {
   "cell_type": "code",
   "execution_count": 13,
   "metadata": {},
   "outputs": [],
   "source": [
    "from collections import Counter"
   ]
  },
  {
   "cell_type": "code",
   "execution_count": 14,
   "metadata": {},
   "outputs": [
    {
     "name": "stdout",
     "output_type": "stream",
     "text": [
      "Counter({'a': 4, 'c': 3, 'b': 2})\n"
     ]
    }
   ],
   "source": [
    "counter = Counter(a=4, b=2, c=3)\n",
    "print(counter)"
   ]
  },
  {
   "cell_type": "code",
   "execution_count": 15,
   "metadata": {},
   "outputs": [
    {
     "name": "stdout",
     "output_type": "stream",
     "text": [
      "['a', 'a', 'a', 'a', 'b', 'b', 'c', 'c', 'c']\n"
     ]
    }
   ],
   "source": [
    "print(list(counter.elements()))"
   ]
  },
  {
   "cell_type": "code",
   "execution_count": 16,
   "metadata": {},
   "outputs": [
    {
     "name": "stdout",
     "output_type": "stream",
     "text": [
      "[('a', 4), ('c', 3), ('b', 2)]\n"
     ]
    }
   ],
   "source": [
    "print(counter.most_common())"
   ]
  },
  {
   "cell_type": "code",
   "execution_count": 17,
   "metadata": {},
   "outputs": [
    {
     "name": "stdout",
     "output_type": "stream",
     "text": [
      "[('maria', 3), ('joao', 2), ('pedro', 1), ('carol', 1)]\n"
     ]
    }
   ],
   "source": [
    "# Podemos verificar a ocorrencia de cada elemento\n",
    "palavras = ['joao', 'maria', 'pedro', 'carol', 'maria', 'joao', 'maria']\n",
    "counter = Counter(palavras)\n",
    "print(counter.most_common())"
   ]
  },
  {
   "cell_type": "code",
   "execution_count": 18,
   "metadata": {},
   "outputs": [
    {
     "name": "stdout",
     "output_type": "stream",
     "text": [
      "Counter({'maria': 3, 'joao': 2, 'pedro': 1, 'carol': 1})\n",
      "Counter({'pedro': 3, 'maria': 3, 'carol': 1})\n",
      "Counter({'maria': 6, 'pedro': 4, 'joao': 2, 'carol': 2})\n"
     ]
    }
   ],
   "source": [
    "# Calculos matemáticos com o counter\n",
    "a = Counter(['joao', 'maria', 'pedro', 'carol', 'maria', 'joao', 'maria'])\n",
    "print(a)\n",
    "b = Counter(['pedro', 'maria', 'pedro', 'carol', 'maria', 'pedro', 'maria'])\n",
    "print(b)\n",
    "print(a + b)"
   ]
  }
 ],
 "metadata": {
  "kernelspec": {
   "display_name": "Python 3",
   "language": "python",
   "name": "python3"
  },
  "language_info": {
   "codemirror_mode": {
    "name": "ipython",
    "version": 3
   },
   "file_extension": ".py",
   "mimetype": "text/x-python",
   "name": "python",
   "nbconvert_exporter": "python",
   "pygments_lexer": "ipython3",
   "version": "3.7.6"
  }
 },
 "nbformat": 4,
 "nbformat_minor": 2
}
