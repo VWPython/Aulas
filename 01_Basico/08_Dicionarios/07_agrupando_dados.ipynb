{
 "cells": [
  {
   "cell_type": "markdown",
   "metadata": {},
   "source": [
    "## Agrupando dados do dicionário\n",
    "***"
   ]
  },
  {
   "cell_type": "code",
   "execution_count": 1,
   "metadata": {},
   "outputs": [],
   "source": [
    "from itertools import groupby\n",
    "from operator import itemgetter"
   ]
  },
  {
   "cell_type": "code",
   "execution_count": 2,
   "metadata": {},
   "outputs": [],
   "source": [
    "dicionarios = [\n",
    "    {'nome': 'Marcos', 'data': '27/12/1987'},\n",
    "    {'nome': 'Joao', 'data': '18/11/1967'},\n",
    "    {'nome': 'Maria', 'data': '27/12/1987'},\n",
    "    {'nome': 'Julia', 'data': '18/11/1967'},\n",
    "    {'nome': 'Pedro', 'data': '18/11/1967'}\n",
    "]"
   ]
  },
  {
   "cell_type": "code",
   "execution_count": 3,
   "metadata": {},
   "outputs": [],
   "source": [
    "# Ordena pelo campo data\n",
    "dicionarios.sort(key=itemgetter('data'))"
   ]
  },
  {
   "cell_type": "code",
   "execution_count": 4,
   "metadata": {},
   "outputs": [
    {
     "name": "stdout",
     "output_type": "stream",
     "text": [
      "18/11/1967\n",
      "  {'nome': 'Joao', 'data': '18/11/1967'}\n",
      "  {'nome': 'Julia', 'data': '18/11/1967'}\n",
      "  {'nome': 'Pedro', 'data': '18/11/1967'}\n",
      "27/12/1987\n",
      "  {'nome': 'Marcos', 'data': '27/12/1987'}\n",
      "  {'nome': 'Maria', 'data': '27/12/1987'}\n"
     ]
    }
   ],
   "source": [
    "# Faz a iteração\n",
    "for data, items in groupby(dicionarios, key=itemgetter('data')):\n",
    "    print(data)\n",
    "    for i in items:\n",
    "        print(\" \", i)"
   ]
  }
 ],
 "metadata": {
  "kernelspec": {
   "display_name": "Python 3",
   "language": "python",
   "name": "python3"
  },
  "language_info": {
   "codemirror_mode": {
    "name": "ipython",
    "version": 3
   },
   "file_extension": ".py",
   "mimetype": "text/x-python",
   "name": "python",
   "nbconvert_exporter": "python",
   "pygments_lexer": "ipython3",
   "version": "3.7.6"
  }
 },
 "nbformat": 4,
 "nbformat_minor": 2
}
