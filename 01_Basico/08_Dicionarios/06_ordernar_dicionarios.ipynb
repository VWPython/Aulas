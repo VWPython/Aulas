{
 "cells": [
  {
   "cell_type": "markdown",
   "metadata": {},
   "source": [
    "## Ordenar dicionários pela chave\n",
    "***"
   ]
  },
  {
   "cell_type": "code",
   "execution_count": 1,
   "metadata": {},
   "outputs": [],
   "source": [
    "from operator import itemgetter"
   ]
  },
  {
   "cell_type": "code",
   "execution_count": 2,
   "metadata": {},
   "outputs": [],
   "source": [
    "dicionarios = [\n",
    "    {'nome': \"marcos\", 'idade': 28},\n",
    "    {'nome': \"joao\", 'idade': 19},\n",
    "    {'nome': \"maria\", 'idade': 20},\n",
    "    {'nome': \"pedro\", 'idade': 30},\n",
    "]"
   ]
  },
  {
   "cell_type": "code",
   "execution_count": 3,
   "metadata": {},
   "outputs": [
    {
     "name": "stdout",
     "output_type": "stream",
     "text": [
      "[{'idade': 19, 'nome': 'joao'}, {'idade': 28, 'nome': 'marcos'}, {'idade': 20, 'nome': 'maria'}, {'idade': 30, 'nome': 'pedro'}]\n"
     ]
    }
   ],
   "source": [
    "ordenar_nome = sorted(dicionarios, key=itemgetter('nome'))\n",
    "print(ordenar_nome)"
   ]
  },
  {
   "cell_type": "code",
   "execution_count": 4,
   "metadata": {},
   "outputs": [
    {
     "name": "stdout",
     "output_type": "stream",
     "text": [
      "[{'idade': 19, 'nome': 'joao'}, {'idade': 20, 'nome': 'maria'}, {'idade': 28, 'nome': 'marcos'}, {'idade': 30, 'nome': 'pedro'}]\n"
     ]
    }
   ],
   "source": [
    "ordenar_idade = sorted(dicionarios, key=itemgetter('idade'))\n",
    "print(ordenar_idade)"
   ]
  }
 ],
 "metadata": {
  "kernelspec": {
   "display_name": "Python 3",
   "language": "python",
   "name": "python3"
  },
  "language_info": {
   "codemirror_mode": {
    "name": "ipython",
    "version": 3
   },
   "file_extension": ".py",
   "mimetype": "text/x-python",
   "name": "python",
   "nbconvert_exporter": "python",
   "pygments_lexer": "ipython3",
   "version": "3.5.2"
  }
 },
 "nbformat": 4,
 "nbformat_minor": 2
}
