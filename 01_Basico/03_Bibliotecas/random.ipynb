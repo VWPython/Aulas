{
 "cells": [
  {
   "cell_type": "markdown",
   "metadata": {},
   "source": [
    "# Biblioteca Random\n",
    "***"
   ]
  },
  {
   "cell_type": "markdown",
   "metadata": {},
   "source": [
    "Fazer o computador escolher um número aleatorio"
   ]
  },
  {
   "cell_type": "markdown",
   "metadata": {},
   "source": [
    "***\n",
    "#### Exemplos\n",
    "***"
   ]
  },
  {
   "cell_type": "code",
   "execution_count": 1,
   "metadata": {},
   "outputs": [],
   "source": [
    "# Importa a biblioteca com todos seus métodos\n",
    "from random import *"
   ]
  },
  {
   "cell_type": "code",
   "execution_count": 2,
   "metadata": {},
   "outputs": [
    {
     "name": "stdout",
     "output_type": "stream",
     "text": [
      "6\n",
      "3\n",
      "6\n",
      "1\n",
      "2\n",
      "1\n",
      "6\n",
      "4\n",
      "1\n",
      "3\n"
     ]
    }
   ],
   "source": [
    "# Cria números aleatorios de 1 a 6\n",
    "for i in range(10):\n",
    "    x = randrange(1,7)\n",
    "    print(x)"
   ]
  },
  {
   "cell_type": "code",
   "execution_count": 3,
   "metadata": {},
   "outputs": [
    {
     "name": "stdout",
     "output_type": "stream",
     "text": [
      "3\n",
      "1\n",
      "5\n",
      "5\n",
      "1\n",
      "1\n",
      "1\n",
      "3\n",
      "5\n",
      "3\n"
     ]
    }
   ],
   "source": [
    "# Cria números impares aleatorios de 1 a 6\n",
    "for i in range(10):\n",
    "    x = randrange(1, 7, 2)\n",
    "    print(x)"
   ]
  },
  {
   "cell_type": "code",
   "execution_count": 4,
   "metadata": {},
   "outputs": [
    {
     "name": "stdout",
     "output_type": "stream",
     "text": [
      "4\n",
      "7\n",
      "3\n",
      "5\n",
      "1\n",
      "4\n",
      "2\n",
      "4\n",
      "3\n",
      "3\n"
     ]
    }
   ],
   "source": [
    "# Cria números inteiros e aleatorios de 1 a 7\n",
    "for i in range(10):\n",
    "    x = randint(1,7)\n",
    "    print(x)"
   ]
  },
  {
   "cell_type": "code",
   "execution_count": 5,
   "metadata": {},
   "outputs": [
    {
     "name": "stdout",
     "output_type": "stream",
     "text": [
      "1\n",
      "2\n",
      "1\n",
      "2\n",
      "teste\n",
      "5\n",
      "1\n",
      "2\n",
      "teste\n",
      "3\n"
     ]
    }
   ],
   "source": [
    "# Escolhe um número/objeto dentro da lista inserida\n",
    "for i in range(10):\n",
    "    x = choice([1, 2, 3, \"teste\", 5])\n",
    "    print(x)"
   ]
  },
  {
   "cell_type": "code",
   "execution_count": 6,
   "metadata": {},
   "outputs": [
    {
     "name": "stdout",
     "output_type": "stream",
     "text": [
      "0.31751195689882383\n",
      "0.2358797671320817\n",
      "0.6339801541919283\n",
      "0.684092631660609\n",
      "0.7081850874328562\n",
      "0.8167125857739477\n",
      "0.9528759270783324\n",
      "0.11353427003370675\n",
      "0.6428998855724073\n",
      "0.3287902700165608\n"
     ]
    }
   ],
   "source": [
    "# Cria um número real aleatorio entre 0 e 1 que nunca se repete\n",
    "for i in range(10):\n",
    "    x = random()\n",
    "    print(x)"
   ]
  },
  {
   "cell_type": "code",
   "execution_count": 7,
   "metadata": {},
   "outputs": [
    {
     "name": "stdout",
     "output_type": "stream",
     "text": [
      "2.9705962356357203\n",
      "4.543249661406082\n",
      "4.1437566017968015\n",
      "2.41509340004011\n",
      "5.412369648021128\n",
      "3.3705775212019944\n",
      "1.0458306036300224\n",
      "4.9707049548925895\n",
      "6.740181749533729\n",
      "6.421407105202401\n"
     ]
    }
   ],
   "source": [
    "# Cria um número real aleatorio entre 1 e 7 que nunca se repete\n",
    "for i in range(10):\n",
    "    x = uniform(1,7)\n",
    "    print(x)"
   ]
  },
  {
   "cell_type": "code",
   "execution_count": 8,
   "metadata": {},
   "outputs": [
    {
     "name": "stdout",
     "output_type": "stream",
     "text": [
      "6.231524896607628\n",
      "6.212701883378732\n",
      "2.654508457846199\n",
      "6.627095070501457\n",
      "5.513902920818696\n",
      "6.883212458495912\n",
      "4.093947204328778\n",
      "1.4689267119426876\n",
      "1.153399021920734\n",
      "6.438156425513355\n"
     ]
    }
   ],
   "source": [
    "# Cria um número real aleatorio entre 7 e 1 que nunca se repete\n",
    "for i in range(10):\n",
    "    x = uniform(7,1)\n",
    "    print(x)"
   ]
  }
 ],
 "metadata": {
  "kernelspec": {
   "display_name": "Python 3",
   "language": "python",
   "name": "python3"
  },
  "language_info": {
   "codemirror_mode": {
    "name": "ipython",
    "version": 3
   },
   "file_extension": ".py",
   "mimetype": "text/x-python",
   "name": "python",
   "nbconvert_exporter": "python",
   "pygments_lexer": "ipython3",
   "version": "3.7.6"
  }
 },
 "nbformat": 4,
 "nbformat_minor": 2
}
