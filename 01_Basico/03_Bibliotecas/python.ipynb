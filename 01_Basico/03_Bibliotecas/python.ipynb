{
 "cells": [
  {
   "cell_type": "markdown",
   "metadata": {},
   "source": [
    "## Funções do python\n",
    "***"
   ]
  },
  {
   "cell_type": "markdown",
   "metadata": {},
   "source": [
    "Algumas funções python não muito conhecidas:\n",
    "\n",
    "\n",
    "* **ascii()**: Retorna uma versão legível de um objeto. Substituir caracteres não-ascii por caractere de escape\n",
    "* **chr()**: Retorna um caractere do código Unicode especificado.\n",
    "* **complex()**: Retorna um número complexo\n",
    "* **delattr()**: Exclui o atributo especificado (propriedade ou método) do objeto especificado\n",
    "* **dir()**: Retorna uma lista das propriedades e métodos do objeto especificado\n",
    "* **divmod()**: Retorna o quociente e o resto quando o argumento1 é dividido pelo argumento2\n",
    "* **enumerate()**: Recebe uma coleção (por exemplo, uma tupla) e a retorna como um objeto enumerado\n",
    "* **eval()**: Avalia e executa uma expressão\n",
    "* **exec()**: Executa o código especificado (ou objeto)\n",
    "* **format()**: Formata um valor especificado\n",
    "* **frozenset()**: Torna um objeto imutavel\n",
    "* **getattr()**: Retorna o valor do atributo especificado (propriedade ou método)\n",
    "* **globals()**: Retorna a tabela de símbolos global atual como um dicionário\n",
    "* **hasattr()**: Retorna True se o objeto especificado tiver o atributo especificado (property / method)\n",
    "* **hash()**: Retorna o valor de hash de um objeto especificado\n",
    "* **id()**: Retorna o id de um objeto\n",
    "* **isinstance()**: Retorna True se um objeto especificado for uma instância de um objeto especificado\n",
    "* **issubclass()**: Retorna True se um objeto especificado for uma subclasse de um objeto especificado\n",
    "* **locals()**: Retorna um dicionário atualizado da tabela de símbolos local atual\n",
    "* **memoryview()**: Retorna um objeto de visualização de memória\n",
    "* **object()**: Retorna um novo objeto\n",
    "* **ord()**: Converte um inteiro representando o Unicode do caractere especificado\n",
    "* **repr()**: Retorna um objeto no modo leitura apenas\n",
    "* **reversed()**: Inverte um iterador\n",
    "* **setattr()**: Define um atributo (propriedade / método) de um objeto\n",
    "* **slice()**: Retorna um objeto slice\n",
    "* **type()**: Retorna o tipo do objeto\n",
    "* **vars()**: Retorna a propriedade \\_\\_dict\\_\\_ de um objeto"
   ]
  },
  {
   "cell_type": "markdown",
   "metadata": {},
   "source": [
    "***"
   ]
  },
  {
   "cell_type": "code",
   "execution_count": 1,
   "metadata": {},
   "outputs": [
    {
     "name": "stdout",
     "output_type": "stream",
     "text": [
      "'My name is St\\xe5le'\n"
     ]
    }
   ],
   "source": [
    "print(ascii(\"My name is Ståle\"))"
   ]
  },
  {
   "cell_type": "code",
   "execution_count": 2,
   "metadata": {},
   "outputs": [
    {
     "name": "stdout",
     "output_type": "stream",
     "text": [
      "a\n",
      "97\n"
     ]
    }
   ],
   "source": [
    "print(chr(97))\n",
    "print(ord('a'))"
   ]
  },
  {
   "cell_type": "code",
   "execution_count": 3,
   "metadata": {},
   "outputs": [
    {
     "name": "stdout",
     "output_type": "stream",
     "text": [
      "(3+5j)\n",
      "(3+5j)\n"
     ]
    }
   ],
   "source": [
    "# real, imaginario\n",
    "print(complex(3, 5))\n",
    "print(complex(\"3+5j\"))"
   ]
  },
  {
   "cell_type": "code",
   "execution_count": 4,
   "metadata": {},
   "outputs": [
    {
     "name": "stdout",
     "output_type": "stream",
     "text": [
      "(2, 1)\n"
     ]
    }
   ],
   "source": [
    "# Quociente = Dividendo/Divisor + Resto\n",
    "# divmod(dividendo/divisor) -> (quociente, resto)\n",
    "print(divmod(5, 2))"
   ]
  },
  {
   "cell_type": "code",
   "execution_count": 5,
   "metadata": {},
   "outputs": [
    {
     "name": "stdout",
     "output_type": "stream",
     "text": [
      "False\n",
      "John\n",
      "True\n"
     ]
    }
   ],
   "source": [
    "class Person(object):\n",
    "  name = \"John\"\n",
    "  age = 36\n",
    "  country = \"Norway\"\n",
    "\n",
    "delattr(Person, 'age')\n",
    "print(hasattr(Person, 'age'))\n",
    "print(getattr(Person, 'name'))\n",
    "setattr(Person, 'age', 36)\n",
    "print(hasattr(Person, 'age'))"
   ]
  },
  {
   "cell_type": "code",
   "execution_count": 6,
   "metadata": {},
   "outputs": [
    {
     "name": "stdout",
     "output_type": "stream",
     "text": [
      "<class '__main__.Person'>\n",
      "<__main__.Person object at 0x7f29c0d749d0>\n",
      "8738581607581\n",
      "139817305721296\n",
      "True\n",
      "True\n"
     ]
    }
   ],
   "source": [
    "person = Person()\n",
    "print(type(person))\n",
    "print(repr(person))\n",
    "print(hash(person))\n",
    "print(id(person))\n",
    "obj = object()\n",
    "print(isinstance(obj, object))\n",
    "print(issubclass(Person, object))"
   ]
  },
  {
   "cell_type": "code",
   "execution_count": 7,
   "metadata": {},
   "outputs": [
    {
     "name": "stdout",
     "output_type": "stream",
     "text": [
      "<memory at 0x7f29c1e1c050>\n",
      "72\n",
      "101\n"
     ]
    }
   ],
   "source": [
    "x = memoryview(b\"Hello\")\n",
    "print(x)\n",
    "print(x[0])\n",
    "print(x[1])"
   ]
  },
  {
   "cell_type": "code",
   "execution_count": 8,
   "metadata": {},
   "outputs": [
    {
     "name": "stdout",
     "output_type": "stream",
     "text": [
      "55\n",
      "4.875\n"
     ]
    }
   ],
   "source": [
    "eval(\"print(55)\")\n",
    "print(eval(\"(2+2+(5*7))/pow(2,3)\"))"
   ]
  },
  {
   "cell_type": "code",
   "execution_count": 9,
   "metadata": {},
   "outputs": [
    {
     "name": "stdout",
     "output_type": "stream",
     "text": [
      "John\n"
     ]
    }
   ],
   "source": [
    "x = 'name = \"John\"\\nprint(name)'\n",
    "exec(x)"
   ]
  },
  {
   "cell_type": "code",
   "execution_count": 10,
   "metadata": {},
   "outputs": [
    {
     "name": "stdout",
     "output_type": "stream",
     "text": [
      "frozenset({'apple', 'banana', 'cherry'})\n"
     ]
    }
   ],
   "source": [
    "mylist = ['apple', 'banana', 'cherry']\n",
    "print(frozenset(mylist))"
   ]
  },
  {
   "cell_type": "code",
   "execution_count": 11,
   "metadata": {},
   "outputs": [
    {
     "name": "stdout",
     "output_type": "stream",
     "text": [
      "[(0, 'apple'), (1, 'banana'), (2, 'cherry')]\n"
     ]
    }
   ],
   "source": [
    "tupla = ('apple', 'banana', 'cherry')\n",
    "enum = enumerate(tupla)\n",
    "print(list(enum))"
   ]
  },
  {
   "cell_type": "code",
   "execution_count": 12,
   "metadata": {},
   "outputs": [
    {
     "name": "stdout",
     "output_type": "stream",
     "text": [
      "d\n",
      "c\n",
      "b\n",
      "a\n"
     ]
    }
   ],
   "source": [
    "alph = [\"a\", \"b\", \"c\", \"d\"]\n",
    "ralph = reversed(alph)\n",
    "for x in ralph:\n",
    "  print(x)"
   ]
  },
  {
   "cell_type": "code",
   "execution_count": 13,
   "metadata": {},
   "outputs": [
    {
     "name": "stdout",
     "output_type": "stream",
     "text": [
      "('c', 'e')\n"
     ]
    }
   ],
   "source": [
    "a = (\"a\", \"b\", \"c\", \"d\", \"e\", \"f\", \"g\", \"h\")\n",
    "# start, end, step\n",
    "x = slice(2, 6, 2)\n",
    "print(a[x])"
   ]
  },
  {
   "cell_type": "code",
   "execution_count": 14,
   "metadata": {},
   "outputs": [
    {
     "name": "stdout",
     "output_type": "stream",
     "text": [
      "['__class__', '__delattr__', '__dict__', '__dir__', '__doc__', '__eq__', '__format__', '__ge__', '__getattribute__', '__gt__', '__hash__', '__init__', '__init_subclass__', '__le__', '__lt__', '__module__', '__ne__', '__new__', '__reduce__', '__reduce_ex__', '__repr__', '__setattr__', '__sizeof__', '__str__', '__subclasshook__', '__weakref__', 'age', 'country', 'name']\n"
     ]
    }
   ],
   "source": [
    "print(dir(Person))"
   ]
  },
  {
   "cell_type": "code",
   "execution_count": 15,
   "metadata": {},
   "outputs": [
    {
     "name": "stdout",
     "output_type": "stream",
     "text": [
      "{'__module__': '__main__', 'name': 'John', 'country': 'Norway', '__dict__': <attribute '__dict__' of 'Person' objects>, '__weakref__': <attribute '__weakref__' of 'Person' objects>, '__doc__': None, 'age': 36}\n"
     ]
    }
   ],
   "source": [
    "print(vars(Person))"
   ]
  },
  {
   "cell_type": "code",
   "execution_count": 16,
   "metadata": {},
   "outputs": [
    {
     "name": "stdout",
     "output_type": "stream",
     "text": [
      "+255\n",
      "-255\n",
      " 255.35\n",
      "2,550.35\n",
      "110111\n",
      "55\n",
      "5.500000e+01\n",
      "5.500000E+01\n",
      "55.000000\n",
      "55\n",
      "67\n",
      "37\n",
      "50.000000%\n"
     ]
    }
   ],
   "source": [
    "print(format(255, \"+\"))\n",
    "print(format(-255, \"-\"))\n",
    "print(format(255.35, \" \"))\n",
    "print(format(2550.35, \",\"))\n",
    "print(format(55, \"b\"))\n",
    "print(format(55, \"d\"))\n",
    "print(format(55, \"e\"))\n",
    "print(format(55, \"E\"))\n",
    "print(format(55, \"f\"))\n",
    "print(format(55, \"g\"))\n",
    "print(format(55, \"o\"))\n",
    "print(format(55, \"x\"))\n",
    "print(format(0.5, \"%\"))"
   ]
  }
 ],
 "metadata": {
  "kernelspec": {
   "display_name": "Python 3",
   "language": "python",
   "name": "python3"
  },
  "language_info": {
   "codemirror_mode": {
    "name": "ipython",
    "version": 3
   },
   "file_extension": ".py",
   "mimetype": "text/x-python",
   "name": "python",
   "nbconvert_exporter": "python",
   "pygments_lexer": "ipython3",
   "version": "3.7.6"
  }
 },
 "nbformat": 4,
 "nbformat_minor": 2
}
