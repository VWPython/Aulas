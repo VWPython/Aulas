{
 "cells": [
  {
   "cell_type": "markdown",
   "metadata": {},
   "source": [
    "# Aninhamento de funções\n",
    "***"
   ]
  },
  {
   "cell_type": "markdown",
   "metadata": {},
   "source": [
    "Nested Function ou funções aninhadas é colocar uma função dentro de outra função\n",
    "\n",
    "Podemos retornar uma função\n",
    "\n",
    "Em uma função dentro de outra não podemos modificar o valor da outra função, por exemplo:\n",
    "\n",
    "```py\n",
    "def f1():\n",
    "    x = 10\n",
    "    def f2():\n",
    "        x += 1\n",
    "    f2()\n",
    "```\n",
    "\n",
    "Para que isso funcione precisamos do **nonlocal** que diz para a função **f2()** que existe uma variável **x** que está definida na função que chama ela ou para o nosso caso **f1()**\n",
    "\n",
    "```py\n",
    "def f1():\n",
    "    x = 10\n",
    "    print(x)\n",
    "    f2():\n",
    "        nonlocal x\n",
    "        x += 1\n",
    "        print(x)\n",
    "    return f2\n",
    "```"
   ]
  },
  {
   "cell_type": "markdown",
   "metadata": {},
   "source": [
    "***\n",
    "#### Exemplos\n",
    "***"
   ]
  },
  {
   "cell_type": "code",
   "execution_count": 1,
   "metadata": {},
   "outputs": [],
   "source": [
    "# Define a função de lista de compras\n",
    "def shopping():\n",
    "    count = 0\n",
    "    shopping_list = []\n",
    "    \n",
    "    # Define a função que irá adicionar itens a lista de compras\n",
    "    def increment(item):\n",
    "        nonlocal shopping_list, count\n",
    "        shopping_list.append(item)\n",
    "        count += 1\n",
    "        print(item, count)\n",
    "        \n",
    "    return increment"
   ]
  },
  {
   "cell_type": "code",
   "execution_count": 2,
   "metadata": {},
   "outputs": [
    {
     "name": "stdout",
     "output_type": "stream",
     "text": [
      "presunto 1\n",
      "mortadela 2\n",
      "queijo 3\n",
      "pão 4\n"
     ]
    }
   ],
   "source": [
    "# Inicializando a lista de compras\n",
    "shopping1 = shopping()\n",
    "\n",
    "# Inserindo itens na lista de comparas\n",
    "shopping1('presunto')\n",
    "shopping1('mortadela')\n",
    "shopping1('queijo')\n",
    "shopping1('pão')"
   ]
  }
 ],
 "metadata": {
  "kernelspec": {
   "display_name": "Python 3",
   "language": "python",
   "name": "python3"
  },
  "language_info": {
   "codemirror_mode": {
    "name": "ipython",
    "version": 3
   },
   "file_extension": ".py",
   "mimetype": "text/x-python",
   "name": "python",
   "nbconvert_exporter": "python",
   "pygments_lexer": "ipython3",
   "version": "3.7.6"
  }
 },
 "nbformat": 4,
 "nbformat_minor": 2
}
