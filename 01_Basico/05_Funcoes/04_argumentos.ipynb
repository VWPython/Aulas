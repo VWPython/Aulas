{
 "cells": [
  {
   "cell_type": "markdown",
   "metadata": {},
   "source": [
    "# Argumentos\n",
    "***"
   ]
  },
  {
   "cell_type": "markdown",
   "metadata": {},
   "source": [
    "No python podemos inserir vários argumentos em uma função sem saber o número de argumentos utilizando o operador * no argumento\n",
    "\n",
    "```py\n",
    "def soma(*args):\n",
    "    # Implementação\n",
    "    \n",
    "soma(1,2,3,4,5,...)\n",
    "```\n",
    "\n",
    "Podemos também passar em forma de dicionario:\n",
    "\n",
    "```py\n",
    "def pessoas(**kwargs):\n",
    "    for key in kwargs:\n",
    "        print(\"%s\" % kwargs[key], end=\", \")\n",
    "    \n",
    "pessoas(p1=\"João\", p2=\"Pedro\", p3=\"Maria\")\n",
    "```\n",
    "\n",
    "\n",
    "Com isso o python vai pegar todos os argumentos passados na função e transformar em uma tupla chamada numeros\n",
    "\n",
    "Porém o *numeros tem que ser o ultimo argumento da função, por exemplo, não pode:\n",
    "\n",
    "```py\n",
    "# Não pode\n",
    "def soma(*numeros, numero):\n",
    "    # Implementação\n",
    "```\n",
    "\n",
    "Podemos deixar valores pré definidos no argumento da função caso o usuário não passe nada\n",
    "\n",
    "```py\n",
    "def media(p1, p2, p3, peso1 = 1, peso2 = 2, peso3 = 3):\n",
    "    # Implementação\n",
    "```\n",
    "\n",
    "Os argumentos definidos também tem que ser no final, não pode ter uma argumento definido no meio dos argumentos não definidos"
   ]
  },
  {
   "cell_type": "markdown",
   "metadata": {},
   "source": [
    "***\n",
    "#### Exemplos\n",
    "***"
   ]
  },
  {
   "cell_type": "code",
   "execution_count": 1,
   "metadata": {},
   "outputs": [],
   "source": [
    "# Função que retorna o maior número da lista de números passados\n",
    "def the_biggest(*numbers):\n",
    "    bigger = numbers[0]\n",
    "    for number in numbers:\n",
    "        if number > bigger:\n",
    "            bigger = number\n",
    "    return bigger"
   ]
  },
  {
   "cell_type": "code",
   "execution_count": 2,
   "metadata": {},
   "outputs": [
    {
     "name": "stdout",
     "output_type": "stream",
     "text": [
      "67\n"
     ]
    }
   ],
   "source": [
    "print(the_biggest(1,2,5,4,7,33,67,4,22,3,4,55,66))"
   ]
  },
  {
   "cell_type": "markdown",
   "metadata": {},
   "source": [
    "***"
   ]
  },
  {
   "cell_type": "code",
   "execution_count": 3,
   "metadata": {},
   "outputs": [
    {
     "name": "stdout",
     "output_type": "stream",
     "text": [
      "Pedro, João, Maria, "
     ]
    }
   ],
   "source": [
    "# Função que recebe um dicionario de dados\n",
    "def pessoas(**kwargs):\n",
    "    for key in kwargs:\n",
    "        print(\"%s\" % kwargs[key], end=\", \")\n",
    "    \n",
    "pessoas(p1=\"João\", p2=\"Pedro\", p3=\"Maria\")"
   ]
  }
 ],
 "metadata": {
  "kernelspec": {
   "display_name": "Python 3",
   "language": "python",
   "name": "python3"
  },
  "language_info": {
   "codemirror_mode": {
    "name": "ipython",
    "version": 3
   },
   "file_extension": ".py",
   "mimetype": "text/x-python",
   "name": "python",
   "nbconvert_exporter": "python",
   "pygments_lexer": "ipython3",
   "version": "3.5.2"
  }
 },
 "nbformat": 4,
 "nbformat_minor": 2
}
