{
 "cells": [
  {
   "cell_type": "markdown",
   "metadata": {},
   "source": [
    "# Funções\n",
    "***"
   ]
  },
  {
   "cell_type": "markdown",
   "metadata": {},
   "source": [
    "Função é alguma funcionalidade com nome bem definido que contém um trecho de código que você pode pedir para ele ser executado sempre que quiser, sem precisar rescrever o código\n",
    "\n",
    "\n",
    "É como se fosse um bloco de código reutilizavel\n",
    "\n",
    "\n",
    "* Como criar uma função:\n",
    "\n",
    "```py\n",
    "def nome_da_funcao(argumento01, argumento02, ...):\n",
    "    # Código da função\n",
    "    return alguma_coisa\n",
    "```\n",
    "\n",
    "* Declarar a função:\n",
    "\n",
    "```py\n",
    "alguma_coisa = nome_da_funcao(argumento01, argumento02)\n",
    "```\n",
    "\n",
    "O **def** declara que estaremos construindo uma função na qual temos o nome da função e seus argumentos que serão passados para função\n",
    "\n",
    "\n",
    "O **return** é opcional caso sua função retorne algo, ela pode somente imprimir algo não precisando do return, as funções podem retornar vários valores de uma vez, retornando uma tupla ou valores unicos se atribuido para a mesma quantidade de variaveis que retornou\n",
    "\n",
    "\n",
    "As funções devem ser definidas antes de ser executadas\n",
    "\n",
    "\n",
    "Para sair de uma função em uma determinada ocasião você pode declarar o return sem nenhum retorno, só para sair da função\n",
    "\n",
    "\n",
    "**Nomeclaturas**: Não de o nome da função para nome de variaveis\n",
    "\n",
    "Um função pode ter **tipagem estática**:\n",
    "\n",
    "```py\n",
    "def nome_da_funcao(argumento01: tipo, argumento02: tipo, ...) -> tipo:\n",
    "    # Código da função\n",
    "    return alguma_coisa\n",
    "```"
   ]
  },
  {
   "cell_type": "markdown",
   "metadata": {},
   "source": [
    "***\n",
    "#### Exemplo\n",
    "***"
   ]
  },
  {
   "cell_type": "code",
   "execution_count": 1,
   "metadata": {
    "collapsed": true
   },
   "outputs": [],
   "source": [
    "# Define a função de operações matematicas e retorna duas operações\n",
    "def math_operation(number1, number2):\n",
    "    return number1+number2, number1*number2"
   ]
  },
  {
   "cell_type": "markdown",
   "metadata": {},
   "source": [
    "***"
   ]
  },
  {
   "cell_type": "code",
   "execution_count": 2,
   "metadata": {
    "collapsed": true
   },
   "outputs": [],
   "source": [
    "# Armazena os dois resultados das operações em uma tupla\n",
    "result = math_operation(2, 3)"
   ]
  },
  {
   "cell_type": "markdown",
   "metadata": {},
   "source": [
    "***"
   ]
  },
  {
   "cell_type": "code",
   "execution_count": 3,
   "metadata": {},
   "outputs": [
    {
     "name": "stdout",
     "output_type": "stream",
     "text": [
      "(5, 6)\n"
     ]
    }
   ],
   "source": [
    "# Imprime os resultados em uma tupla\n",
    "print(result)"
   ]
  },
  {
   "cell_type": "markdown",
   "metadata": {},
   "source": [
    "***"
   ]
  },
  {
   "cell_type": "code",
   "execution_count": 4,
   "metadata": {
    "collapsed": true
   },
   "outputs": [],
   "source": [
    "# Armazena o resultado de ambas as operações, soma e multiplicação\n",
    "sum_operation, multiplication = math_operation(2, 3)"
   ]
  },
  {
   "cell_type": "markdown",
   "metadata": {},
   "source": [
    "***"
   ]
  },
  {
   "cell_type": "code",
   "execution_count": 5,
   "metadata": {},
   "outputs": [
    {
     "name": "stdout",
     "output_type": "stream",
     "text": [
      "5\n",
      "6\n"
     ]
    }
   ],
   "source": [
    "# Imprime os resultados de ambas as operações\n",
    "print(sum_operation)\n",
    "print(multiplication)"
   ]
  }
 ],
 "metadata": {
  "kernelspec": {
   "display_name": "Python 3",
   "language": "python",
   "name": "python3"
  },
  "language_info": {
   "codemirror_mode": {
    "name": "ipython",
    "version": 3
   },
   "file_extension": ".py",
   "mimetype": "text/x-python",
   "name": "python",
   "nbconvert_exporter": "python",
   "pygments_lexer": "ipython3",
   "version": "3.5.2"
  }
 },
 "nbformat": 4,
 "nbformat_minor": 2
}
