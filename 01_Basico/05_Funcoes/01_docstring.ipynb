{
 "cells": [
  {
   "cell_type": "markdown",
   "metadata": {},
   "source": [
    "# Docstring\n",
    "***"
   ]
  },
  {
   "cell_type": "markdown",
   "metadata": {},
   "source": [
    "Docstring é muito usado para documentar funções publicas, classes e arquivos, elas aparecem no comando **help()**"
   ]
  },
  {
   "cell_type": "markdown",
   "metadata": {},
   "source": [
    "***\n",
    "#### Exemplos\n",
    "***"
   ]
  },
  {
   "cell_type": "code",
   "execution_count": 1,
   "metadata": {},
   "outputs": [],
   "source": [
    "def sum_numbers(number1, number2):\n",
    "    \"\"\"\n",
    "    Function that adds two integers numbers\n",
    "    \n",
    "    This function takes the sum of two integers passed as a parameter and \n",
    "    returns the sum of both\n",
    "    \n",
    "    :param int number1: First number\n",
    "    :param int number2: Second number\n",
    "    \n",
    "    :return int: Sum of two integers   \n",
    "    \"\"\"\n",
    "    \n",
    "    sum_of_numbers = number1 + number2\n",
    "    return sum_of_numbers"
   ]
  },
  {
   "cell_type": "code",
   "execution_count": 2,
   "metadata": {},
   "outputs": [
    {
     "name": "stdout",
     "output_type": "stream",
     "text": [
      "30\n"
     ]
    }
   ],
   "source": [
    "print(sum_numbers(10, 20))"
   ]
  },
  {
   "cell_type": "markdown",
   "metadata": {},
   "source": [
    "***"
   ]
  },
  {
   "cell_type": "code",
   "execution_count": 3,
   "metadata": {},
   "outputs": [
    {
     "name": "stdout",
     "output_type": "stream",
     "text": [
      "Help on function sum_numbers in module __main__:\n",
      "\n",
      "sum_numbers(number1, number2)\n",
      "    Function that adds two integers numbers\n",
      "    \n",
      "    This function takes the sum of two integers passed as a parameter and \n",
      "    returns the sum of both\n",
      "    \n",
      "    :param int number1: First number\n",
      "    :param int number2: Second number\n",
      "    \n",
      "    :return int: Sum of two integers\n",
      "\n",
      "None\n"
     ]
    }
   ],
   "source": [
    "print(help(sum_numbers))"
   ]
  }
 ],
 "metadata": {
  "kernelspec": {
   "display_name": "Python 3",
   "language": "python",
   "name": "python3"
  },
  "language_info": {
   "codemirror_mode": {
    "name": "ipython",
    "version": 3
   },
   "file_extension": ".py",
   "mimetype": "text/x-python",
   "name": "python",
   "nbconvert_exporter": "python",
   "pygments_lexer": "ipython3",
   "version": "3.7.6"
  }
 },
 "nbformat": 4,
 "nbformat_minor": 2
}
