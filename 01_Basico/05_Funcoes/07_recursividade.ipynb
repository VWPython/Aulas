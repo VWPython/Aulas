{
 "cells": [
  {
   "cell_type": "markdown",
   "metadata": {},
   "source": [
    "# Recursividade\n",
    "***"
   ]
  },
  {
   "cell_type": "markdown",
   "metadata": {},
   "source": [
    "Uma função recursiva é uma função que se auto referência\n",
    "\n",
    "Em uma função recursiva temos a seguinte lógica:\n",
    "\n",
    "* Critério de parada:\n",
    "\n",
    "```py\n",
    "if (n == 1):\n",
    "    return n\n",
    "```\n",
    "\n",
    "* Recursividade:\n",
    "\n",
    "```py\n",
    "return recursive_factorial(n-1)*n\n",
    "```"
   ]
  },
  {
   "cell_type": "markdown",
   "metadata": {},
   "source": [
    "***\n",
    "#### Exemplos fatorial normal\n",
    "***"
   ]
  },
  {
   "cell_type": "code",
   "execution_count": 1,
   "metadata": {},
   "outputs": [],
   "source": [
    "# Definir a função de fatorial normal\n",
    "def factorial(n):\n",
    "    fat = 1\n",
    "    for i in range(1, n+1):\n",
    "        fat *= i\n",
    "    return fat"
   ]
  },
  {
   "cell_type": "code",
   "execution_count": 2,
   "metadata": {},
   "outputs": [
    {
     "name": "stdout",
     "output_type": "stream",
     "text": [
      "120\n"
     ]
    }
   ],
   "source": [
    "print(factorial(5))"
   ]
  },
  {
   "cell_type": "markdown",
   "metadata": {},
   "source": [
    "***\n",
    "#### Exemplo fatorial recursivo\n",
    "***"
   ]
  },
  {
   "cell_type": "code",
   "execution_count": 3,
   "metadata": {},
   "outputs": [],
   "source": [
    "# Definir a função de fatorial recursiva\n",
    "def recursive_factorial(n):\n",
    "    if n == 1:\n",
    "        return n\n",
    "    return recursive_factorial(n-1)*n"
   ]
  },
  {
   "cell_type": "code",
   "execution_count": 4,
   "metadata": {},
   "outputs": [
    {
     "name": "stdout",
     "output_type": "stream",
     "text": [
      "120\n"
     ]
    }
   ],
   "source": [
    "print(recursive_factorial(5))"
   ]
  },
  {
   "cell_type": "markdown",
   "metadata": {},
   "source": [
    "***\n",
    "#### Como funciona?\n",
    "***"
   ]
  },
  {
   "cell_type": "markdown",
   "metadata": {},
   "source": [
    "```py\n",
    "recursive_ractorial(5):\n",
    "    5 == 1? Não\n",
    "    return recursive_factorial(4)*5\n",
    "```"
   ]
  },
  {
   "cell_type": "markdown",
   "metadata": {},
   "source": [
    "```py\n",
    "recursive_factorial(4):\n",
    "    4 == 1? Não\n",
    "    return recursive_factorial(3)*4\n",
    "```"
   ]
  },
  {
   "cell_type": "markdown",
   "metadata": {},
   "source": [
    "```py\n",
    "recursive_factorial(3):\n",
    "    3 == 1? Não\n",
    "    return recursive_factorial(2)*3\n",
    "```"
   ]
  },
  {
   "cell_type": "markdown",
   "metadata": {},
   "source": [
    "```py\n",
    "recursive_factorial(2):\n",
    "    2 == 1? Não\n",
    "    return recursive_factorial(1)*2\n",
    "```"
   ]
  },
  {
   "cell_type": "markdown",
   "metadata": {},
   "source": [
    "```py\n",
    "recursive_factorial(1):\n",
    "    1 == 1? Sim\n",
    "    return 1\n",
    "```"
   ]
  },
  {
   "cell_type": "markdown",
   "metadata": {},
   "source": [
    "Pronto descobrimos o recursive_factorial(1) = 1\n",
    "\n",
    "* Logo o recursive_factorial(2) = $1\\times2$\n",
    "* Logo o recursive_factorial(3) = $1\\times2\\times3$\n",
    "* Logo o recursive_factorial(4) = $1\\times2\\times3\\times4$\n",
    "* Logo o recursive_factorial(5) = $1\\times2\\times3\\times4\\times5 = 120$"
   ]
  }
 ],
 "metadata": {
  "kernelspec": {
   "display_name": "Python 3",
   "language": "python",
   "name": "python3"
  },
  "language_info": {
   "codemirror_mode": {
    "name": "ipython",
    "version": 3
   },
   "file_extension": ".py",
   "mimetype": "text/x-python",
   "name": "python",
   "nbconvert_exporter": "python",
   "pygments_lexer": "ipython3",
   "version": "3.7.6"
  }
 },
 "nbformat": 4,
 "nbformat_minor": 2
}
