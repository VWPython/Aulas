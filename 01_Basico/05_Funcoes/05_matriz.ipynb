{
 "cells": [
  {
   "cell_type": "markdown",
   "metadata": {},
   "source": [
    "# Matriz\n",
    "***"
   ]
  },
  {
   "cell_type": "markdown",
   "metadata": {},
   "source": [
    "As listas ao ser adicionada dentro de uma função podem ser modificadas, pois as listas armazenam endereço de memoria, com isso é passado seu endereço e não uma copia para a função\n",
    "\n",
    "\n",
    "Para mudar as posições da matriz vamos pegar o seguinte exemplo:\n",
    "\n",
    "```py\n",
    "matrix = [[1,2,3], [4,5,6], [7,8,9]]\n",
    "```\n",
    "\n",
    "* Vamos trocar o elemento 5 pelo elemento 9\n",
    "* Elemento 5 ta na posição $matrix[2][2]$, logo vamos inserir 22\n",
    "* Elemento 9 ta na posição $matrix[3][3]$, logo vamos inserir 33\n",
    "    \n",
    "\n",
    "* Sabemos que $//$ é divisão que retorna o valor inteiro e % é o resto da divisão -> $D = Q*P + R$\n",
    "* Sabemos que a matriz começa em 0 e não em 1, logo a $matrix[2][2]$ na verdade tem que ser $[1][1]$ e a $[3][3]$ tem que ser $[2][2]$\n",
    "    \n",
    "\n",
    "* $elemento1 = 22//10 = 2-1 = 1$ e $resto: 2-1 = 1$, logo $elemento1 = matrix[1][1] = 5$\n",
    "* $elemento2 = 33//10 = 3-1 = 2$ e $resto: 3-1 = 2$, logo $elemento2 = matrix[2][2] = 9$\n",
    "* $matrix[1][1] = elemento2 = 9$\n",
    "* $matrix[2][2] = elemento1 = 5$"
   ]
  },
  {
   "cell_type": "markdown",
   "metadata": {},
   "source": [
    "***\n",
    "#### Exemplo de construir matriz\n",
    "***"
   ]
  },
  {
   "cell_type": "code",
   "execution_count": 1,
   "metadata": {},
   "outputs": [
    {
     "name": "stdout",
     "output_type": "stream",
     "text": [
      "Digite o número de linhas da matriz: 3\n",
      "Digite o número de colunas da matriz: 3\n"
     ]
    }
   ],
   "source": [
    "# Inserir o número de linhas e colunas da matriz\n",
    "lines = int(input(\"Digite o número de linhas da matriz: \"))\n",
    "columns = int(input(\"Digite o número de colunas da matriz: \"))\n",
    "matrix = []"
   ]
  },
  {
   "cell_type": "code",
   "execution_count": 2,
   "metadata": {
    "collapsed": true
   },
   "outputs": [],
   "source": [
    "# Constroi uma matriz\n",
    "def build_matrix(lines, columns, matrix):\n",
    "    for i in range(1, lines + 1):\n",
    "        line = []\n",
    "        for j in range(1, columns + 1):\n",
    "            x = int(input(\"Digite o elemento [%i][%i] da matriz: \" % (i, j)))\n",
    "            line.append(x)\n",
    "        matrix.append(line)"
   ]
  },
  {
   "cell_type": "code",
   "execution_count": 3,
   "metadata": {
    "collapsed": true
   },
   "outputs": [],
   "source": [
    "# Mostra a matriz desenhada da forma correta\n",
    "def show_matrix(line_number, matrix):\n",
    "    for line in range(line_number):\n",
    "        print(matrix[line])"
   ]
  },
  {
   "cell_type": "code",
   "execution_count": 4,
   "metadata": {},
   "outputs": [
    {
     "name": "stdout",
     "output_type": "stream",
     "text": [
      "Digite o elemento [1][1] da matriz: 1\n",
      "Digite o elemento [1][2] da matriz: 2\n",
      "Digite o elemento [1][3] da matriz: 3\n",
      "Digite o elemento [2][1] da matriz: 4\n",
      "Digite o elemento [2][2] da matriz: 5\n",
      "Digite o elemento [2][3] da matriz: 6\n",
      "Digite o elemento [3][1] da matriz: 7\n",
      "Digite o elemento [3][2] da matriz: 8\n",
      "Digite o elemento [3][3] da matriz: 9\n",
      "[1, 2, 3]\n",
      "[4, 5, 6]\n",
      "[7, 8, 9]\n"
     ]
    }
   ],
   "source": [
    "# Constroi e mostra a matriz\n",
    "build_matrix(lines, columns, matrix)\n",
    "show_matrix(lines, matrix)"
   ]
  },
  {
   "cell_type": "markdown",
   "metadata": {},
   "source": [
    "***\n",
    "#### Muda posição de elementos da matriz\n",
    "***"
   ]
  },
  {
   "cell_type": "code",
   "execution_count": 5,
   "metadata": {
    "collapsed": true
   },
   "outputs": [],
   "source": [
    "# Muda posição de elementos da matriz até 9x9\n",
    "def change_position(position1, position2, matrix):\n",
    "    element1 = matrix[position1//10 - 1][position1%10 - 1]\n",
    "    element2 = matrix[position2//10 - 1][position2%10 - 1]\n",
    "    matrix[position1//10 - 1][position1%10 - 1] = element2\n",
    "    matrix[position2//10 - 1][position2%10 - 1] = element1"
   ]
  },
  {
   "cell_type": "code",
   "execution_count": 6,
   "metadata": {},
   "outputs": [
    {
     "name": "stdout",
     "output_type": "stream",
     "text": [
      "Digite a posição do elemento 1 que deseja trocar (linha e coluna): 11\n",
      "Digite a posição do elemento 2 que deseja trocar (linha e coluna): 33\n",
      "[9, 2, 3]\n",
      "[4, 5, 6]\n",
      "[7, 8, 1]\n"
     ]
    }
   ],
   "source": [
    "# Muda a posição e mostra a matriz\n",
    "position1 = int(input(\"Digite a posição do elemento 1 que deseja trocar (linha e coluna): \"))\n",
    "position2 = int(input(\"Digite a posição do elemento 2 que deseja trocar (linha e coluna): \"))\n",
    "change_position(position1, position2, matrix)\n",
    "show_matrix(lines, matrix)"
   ]
  },
  {
   "cell_type": "markdown",
   "metadata": {},
   "source": [
    "***\n",
    "#### Exemplo de matriz randomica sem repetição\n",
    "***"
   ]
  },
  {
   "cell_type": "code",
   "execution_count": 7,
   "metadata": {
    "collapsed": true
   },
   "outputs": [],
   "source": [
    "# Importa a biblioteca de números randomicos e inicializar a matriz randomica\n",
    "import random\n",
    "random_matrix = []"
   ]
  },
  {
   "cell_type": "code",
   "execution_count": 8,
   "metadata": {
    "collapsed": true
   },
   "outputs": [],
   "source": [
    "# Gera uma matriz randomica de 1 a 15 sem repetição\n",
    "def generate_random_matrix(random_matrix):\n",
    "    number_list = list(range(16))\n",
    "    while len(number_list) > 0:\n",
    "        line = []\n",
    "        for i in range(4):\n",
    "            element = random.choice(number_list)\n",
    "            line.append(element)\n",
    "            number_list.remove(element)\n",
    "        random_matrix.append(line)"
   ]
  },
  {
   "cell_type": "code",
   "execution_count": 9,
   "metadata": {},
   "outputs": [
    {
     "name": "stdout",
     "output_type": "stream",
     "text": [
      "[4, 8, 15, 9]\n",
      "[0, 7, 6, 5]\n",
      "[14, 12, 3, 2]\n",
      "[11, 13, 10, 1]\n"
     ]
    }
   ],
   "source": [
    "# Gera a matriz e imprime ela\n",
    "generate_random_matrix(random_matrix)\n",
    "show_matrix(4, random_matrix)"
   ]
  }
 ],
 "metadata": {
  "kernelspec": {
   "display_name": "Python 3",
   "language": "python",
   "name": "python3"
  },
  "language_info": {
   "codemirror_mode": {
    "name": "ipython",
    "version": 3
   },
   "file_extension": ".py",
   "mimetype": "text/x-python",
   "name": "python",
   "nbconvert_exporter": "python",
   "pygments_lexer": "ipython3",
   "version": "3.5.2"
  }
 },
 "nbformat": 4,
 "nbformat_minor": 2
}
