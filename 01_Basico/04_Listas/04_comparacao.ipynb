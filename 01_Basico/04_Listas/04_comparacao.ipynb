{
 "cells": [
  {
   "cell_type": "markdown",
   "metadata": {},
   "source": [
    "# Comparação\n",
    "***"
   ]
  },
  {
   "cell_type": "code",
   "execution_count": 1,
   "metadata": {},
   "outputs": [
    {
     "name": "stdout",
     "output_type": "stream",
     "text": [
      "True\n"
     ]
    }
   ],
   "source": [
    "# Para comparar lista o python pega o primeiro elemento da lista01 e comparar com o primeiro\n",
    "# elemento da lista02, se forem iguais ele passa para o próximo elemento e faz a mesma\n",
    "# comparação até eles forem diferentes ai ele vai comparar o valor entre eles, o maior valor\n",
    "# será atribuido a lista como maior\n",
    "\n",
    "list01 = [1, 2, 3]\n",
    "list02 = [7]\n",
    "\n",
    "print(list01 < list02)"
   ]
  },
  {
   "cell_type": "markdown",
   "metadata": {},
   "source": [
    "***"
   ]
  },
  {
   "cell_type": "code",
   "execution_count": 2,
   "metadata": {},
   "outputs": [
    {
     "name": "stdout",
     "output_type": "stream",
     "text": [
      "True\n"
     ]
    }
   ],
   "source": [
    "# Duas listas só serão iguais se tiverem o mesmo número de elementos e todos os elementos iguais:\n",
    "\n",
    "list01 = [1, 2, 3]\n",
    "list02 = [1, 2, 3]\n",
    "\n",
    "print(list01 == list02)"
   ]
  },
  {
   "cell_type": "markdown",
   "metadata": {},
   "source": [
    "***"
   ]
  },
  {
   "cell_type": "code",
   "execution_count": 3,
   "metadata": {},
   "outputs": [
    {
     "name": "stdout",
     "output_type": "stream",
     "text": [
      "True\n"
     ]
    }
   ],
   "source": [
    "# A sub-lista de uma lista é sempre menor do que a lista\n",
    "\n",
    "list01 = [1, 2, 3]\n",
    "list02 = [1, 2, 3, 4]\n",
    "\n",
    "print(list01 < list02)"
   ]
  },
  {
   "cell_type": "markdown",
   "metadata": {},
   "source": [
    "***"
   ]
  },
  {
   "cell_type": "code",
   "execution_count": 4,
   "metadata": {},
   "outputs": [
    {
     "name": "stdout",
     "output_type": "stream",
     "text": [
      "False\n"
     ]
    }
   ],
   "source": [
    "# Se pegarmos duas listas e verificar se um elemento está dentro de outro usamos o\n",
    "# operador IN, ele irá olhar cada um dos elementos da lista e ver se encontra o\n",
    "# elemento pedido\n",
    "\n",
    "# [1,2] não está dentro de [1,2,3]\n",
    "print([1, 2] in [1, 2, 3])"
   ]
  },
  {
   "cell_type": "code",
   "execution_count": 5,
   "metadata": {},
   "outputs": [
    {
     "name": "stdout",
     "output_type": "stream",
     "text": [
      "True\n"
     ]
    }
   ],
   "source": [
    "# [1, 2] está dentro de [1, 2, [1, 2], 3]\n",
    "print([1, 2] in [1, 2, [1, 2], 3])"
   ]
  },
  {
   "cell_type": "code",
   "execution_count": 6,
   "metadata": {},
   "outputs": [
    {
     "name": "stdout",
     "output_type": "stream",
     "text": [
      "True\n"
     ]
    }
   ],
   "source": [
    "# 2 está dentro de [1, 2, 3]\n",
    "print(2 in [1, 2, 3])"
   ]
  },
  {
   "cell_type": "code",
   "execution_count": 7,
   "metadata": {},
   "outputs": [
    {
     "name": "stdout",
     "output_type": "stream",
     "text": [
      "True\n"
     ]
    }
   ],
   "source": [
    "# abc está dentro de abcdefg\n",
    "print('abc' in 'abcdefg')"
   ]
  },
  {
   "cell_type": "code",
   "execution_count": 8,
   "metadata": {},
   "outputs": [
    {
     "name": "stdout",
     "output_type": "stream",
     "text": [
      "False\n"
     ]
    }
   ],
   "source": [
    "# ABC não está dentro de abcdefg\n",
    "print('ABC' in 'abcdefg')"
   ]
  }
 ],
 "metadata": {
  "kernelspec": {
   "display_name": "Python 3",
   "language": "python",
   "name": "python3"
  },
  "language_info": {
   "codemirror_mode": {
    "name": "ipython",
    "version": 3
   },
   "file_extension": ".py",
   "mimetype": "text/x-python",
   "name": "python",
   "nbconvert_exporter": "python",
   "pygments_lexer": "ipython3",
   "version": "3.7.6"
  }
 },
 "nbformat": 4,
 "nbformat_minor": 2
}
