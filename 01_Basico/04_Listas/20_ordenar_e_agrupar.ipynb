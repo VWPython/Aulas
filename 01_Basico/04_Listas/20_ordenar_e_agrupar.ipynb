{
 "cells": [
  {
   "cell_type": "markdown",
   "metadata": {},
   "source": [
    "## Ordenar itens e agrupando pela chave\n",
    "***"
   ]
  },
  {
   "cell_type": "code",
   "execution_count": 1,
   "metadata": {},
   "outputs": [],
   "source": [
    "from operator import itemgetter\n",
    "from itertools import groupby"
   ]
  },
  {
   "cell_type": "code",
   "execution_count": 2,
   "metadata": {},
   "outputs": [],
   "source": [
    "exemplos = [('marcos', 28), ('pedro', 19), ('joao', 20), ('marcos', 20), ('joao', 18), ('marcos', 30)]"
   ]
  },
  {
   "cell_type": "code",
   "execution_count": 3,
   "metadata": {},
   "outputs": [
    {
     "name": "stdout",
     "output_type": "stream",
     "text": [
      "[('joao', 20), ('joao', 18), ('marcos', 28), ('marcos', 20), ('marcos', 30), ('pedro', 19)]\n"
     ]
    }
   ],
   "source": [
    "# Ordenado pelo nome\n",
    "exemplos.sort(key=itemgetter(0))\n",
    "print(exemplos)"
   ]
  },
  {
   "cell_type": "code",
   "execution_count": 4,
   "metadata": {},
   "outputs": [
    {
     "name": "stdout",
     "output_type": "stream",
     "text": [
      "{'joao': [18, 20], 'marcos': [20, 28, 30], 'pedro': [19]}\n"
     ]
    }
   ],
   "source": [
    "# Agrupar os dados\n",
    "resultado = {key: sorted(map(itemgetter(1), value)) for key, value in groupby(exemplos, key=itemgetter(0))}\n",
    "print(resultado)"
   ]
  },
  {
   "cell_type": "code",
   "execution_count": 5,
   "metadata": {},
   "outputs": [
    {
     "name": "stdout",
     "output_type": "stream",
     "text": [
      "[('joao', 18), ('pedro', 19), ('joao', 20), ('marcos', 20), ('marcos', 28), ('marcos', 30)]\n"
     ]
    }
   ],
   "source": [
    "# Ordenado pela idade\n",
    "exemplos.sort(key=itemgetter(1))\n",
    "print(exemplos)"
   ]
  }
 ],
 "metadata": {
  "kernelspec": {
   "display_name": "Python 3",
   "language": "python",
   "name": "python3"
  },
  "language_info": {
   "codemirror_mode": {
    "name": "ipython",
    "version": 3
   },
   "file_extension": ".py",
   "mimetype": "text/x-python",
   "name": "python",
   "nbconvert_exporter": "python",
   "pygments_lexer": "ipython3",
   "version": "3.7.6"
  }
 },
 "nbformat": 4,
 "nbformat_minor": 2
}
