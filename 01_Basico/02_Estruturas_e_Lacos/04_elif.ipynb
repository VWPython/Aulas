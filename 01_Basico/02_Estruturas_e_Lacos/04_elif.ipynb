{
 "cells": [
  {
   "cell_type": "markdown",
   "metadata": {},
   "source": [
    "# elif\n",
    "***"
   ]
  },
  {
   "cell_type": "markdown",
   "metadata": {},
   "source": [
    "Se em qualquer uma das condições der verdadeiro ele não executa nenhuma das outras\n",
    "\n",
    "Ele depende de as condições acima delas serem falsas para que possa ser executado\n",
    "\n",
    "Se todas as condições forem falsas cai no else que é a condição final\n",
    "\n",
    "Sempre alguma codição irá ser executada\n",
    "\n",
    "Normalmente as comparações do **if elif else** estão associadas as mesmas variáveis, podendo ser de variáveis diferentes desde que elas estejam ligadas ao mesmo fenomeno e a dos multiplos if são de variáveis diferentes para cada if \n",
    " \n",
    "Normalmente o **if elif else** excluir condições para que uma condição possa se concretizar"
   ]
  },
  {
   "cell_type": "markdown",
   "metadata": {},
   "source": [
    "***\n",
    "#### Exemplos\n",
    "***"
   ]
  },
  {
   "cell_type": "code",
   "execution_count": 1,
   "metadata": {},
   "outputs": [],
   "source": [
    "opcao = 'jogar'"
   ]
  },
  {
   "cell_type": "code",
   "execution_count": 2,
   "metadata": {},
   "outputs": [
    {
     "name": "stdout",
     "output_type": "stream",
     "text": [
      "Começando o jogo\n"
     ]
    }
   ],
   "source": [
    "if (opcao == 'jogar'):\n",
    "    print(\"Começando o jogo\")\n",
    "elif (opcao == 'recorde'):\n",
    "    print(\"Mostrar recordes\")\n",
    "elif (opcao == 'sair'):\n",
    "    print(\"Sair do jogo\")\n",
    "else:\n",
    "    print(\"Opção invalida\")"
   ]
  }
 ],
 "metadata": {
  "kernelspec": {
   "display_name": "Python 3",
   "language": "python",
   "name": "python3"
  },
  "language_info": {
   "codemirror_mode": {
    "name": "ipython",
    "version": 3
   },
   "file_extension": ".py",
   "mimetype": "text/x-python",
   "name": "python",
   "nbconvert_exporter": "python",
   "pygments_lexer": "ipython3",
   "version": "3.7.6"
  }
 },
 "nbformat": 4,
 "nbformat_minor": 2
}
