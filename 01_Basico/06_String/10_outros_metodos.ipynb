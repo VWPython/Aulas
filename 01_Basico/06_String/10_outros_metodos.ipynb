{
 "cells": [
  {
   "cell_type": "markdown",
   "metadata": {},
   "source": [
    "# Outros métodos\n",
    "***"
   ]
  },
  {
   "cell_type": "code",
   "execution_count": 1,
   "metadata": {},
   "outputs": [
    {
     "name": "stdout",
     "output_type": "stream",
     "text": [
      "Victor\n"
     ]
    }
   ],
   "source": [
    "# Devolva uma cópia da string com seu primeiro caractere em maiúsculas e o resto em miniatura.\n",
    "print(\"victor\".capitalize())"
   ]
  },
  {
   "cell_type": "markdown",
   "metadata": {},
   "source": [
    "***"
   ]
  },
  {
   "cell_type": "code",
   "execution_count": 2,
   "metadata": {},
   "outputs": [
    {
     "name": "stdout",
     "output_type": "stream",
     "text": [
      "Exemplo do strip....lol!!!\n"
     ]
    }
   ],
   "source": [
    "# Retira o carater que você desejar do lado direto e esquerdo da string\n",
    "print(\"0000000Exemplo do strip....lol!!!0000000\".strip('0'))"
   ]
  },
  {
   "cell_type": "markdown",
   "metadata": {},
   "source": [
    "***"
   ]
  },
  {
   "cell_type": "code",
   "execution_count": 3,
   "metadata": {},
   "outputs": [
    {
     "name": "stdout",
     "output_type": "stream",
     "text": [
      "Exemplo do strip\n",
      "Exemplo do strip     \n",
      "    Exemplo do strip\n"
     ]
    }
   ],
   "source": [
    "# Retira os espaços em brancos do lado direto e esquerdo\n",
    "print(\"    Exemplo do strip     \".strip())\n",
    "print(\"    Exemplo do strip     \".lstrip())\n",
    "print(\"    Exemplo do strip     \".rstrip())"
   ]
  },
  {
   "cell_type": "markdown",
   "metadata": {},
   "source": [
    "***"
   ]
  },
  {
   "cell_type": "code",
   "execution_count": 4,
   "metadata": {},
   "outputs": [
    {
     "name": "stdout",
     "output_type": "stream",
     "text": [
      "14\n"
     ]
    }
   ],
   "source": [
    "# Retorna o número de caracteres da string\n",
    "print(len(\"Exemplo do len\"))"
   ]
  },
  {
   "cell_type": "markdown",
   "metadata": {},
   "source": [
    "***"
   ]
  },
  {
   "cell_type": "code",
   "execution_count": 5,
   "metadata": {},
   "outputs": [
    {
     "name": "stdout",
     "output_type": "stream",
     "text": [
      "       banana       \n",
      "banana              \n",
      "              banana\n",
      "-------banana-------\n"
     ]
    }
   ],
   "source": [
    "# Retorna uma string centralizada\n",
    "txt = \"banana\"\n",
    "print(txt.center(20))\n",
    "print(txt.ljust(20))\n",
    "print(txt.rjust(20))\n",
    "print(txt.center(20, '-'))"
   ]
  },
  {
   "cell_type": "markdown",
   "metadata": {},
   "source": [
    "***"
   ]
  },
  {
   "cell_type": "code",
   "execution_count": 6,
   "metadata": {},
   "outputs": [
    {
     "name": "stdout",
     "output_type": "stream",
     "text": [
      "b'Meu nome \\xc3\\xa9 St\\xc3\\xa2le'\n"
     ]
    }
   ],
   "source": [
    "# Retorna uma string no formato codificado\n",
    "print(\"Meu nome é Stâle\".encode())"
   ]
  },
  {
   "cell_type": "markdown",
   "metadata": {},
   "source": [
    "***"
   ]
  },
  {
   "cell_type": "code",
   "execution_count": 7,
   "metadata": {},
   "outputs": [
    {
     "name": "stdout",
     "output_type": "stream",
     "text": [
      "\tHello\n",
      "    Hello\n"
     ]
    }
   ],
   "source": [
    "# Modifica o tamanho da tabulação\n",
    "print(\"\\tHello\") # 8\n",
    "print(\"\\tHello\".expandtabs(4))"
   ]
  },
  {
   "cell_type": "markdown",
   "metadata": {},
   "source": [
    "***"
   ]
  },
  {
   "cell_type": "code",
   "execution_count": 8,
   "metadata": {},
   "outputs": [
    {
     "name": "stdout",
     "output_type": "stream",
     "text": [
      "John-Peter-Vicky\n"
     ]
    }
   ],
   "source": [
    "# Junta os itens de uma lista com um separador especifico\n",
    "tupla = (\"John\", \"Peter\", \"Vicky\")\n",
    "print(\"-\".join(tupla))"
   ]
  },
  {
   "cell_type": "markdown",
   "metadata": {},
   "source": [
    "***"
   ]
  },
  {
   "cell_type": "code",
   "execution_count": 9,
   "metadata": {},
   "outputs": [
    {
     "name": "stdout",
     "output_type": "stream",
     "text": [
      "('Eu posso comer ', 'bananas', ' todo dia')\n"
     ]
    }
   ],
   "source": [
    "# Particiona uma string em pedaços\n",
    "txt = \"Eu posso comer bananas todo dia\"\n",
    "print(txt.partition(\"bananas\"))"
   ]
  },
  {
   "cell_type": "markdown",
   "metadata": {},
   "source": [
    "***"
   ]
  },
  {
   "cell_type": "code",
   "execution_count": 10,
   "metadata": {},
   "outputs": [
    {
     "name": "stdout",
     "output_type": "stream",
     "text": [
      "hELLO mY fRIEND\n"
     ]
    }
   ],
   "source": [
    "# Troca o que é upper fica lower e vice-versa\n",
    "txt = \"Hello My Friend\"\n",
    "print(txt.swapcase())"
   ]
  },
  {
   "cell_type": "markdown",
   "metadata": {},
   "source": [
    "***"
   ]
  },
  {
   "cell_type": "code",
   "execution_count": 11,
   "metadata": {},
   "outputs": [
    {
     "name": "stdout",
     "output_type": "stream",
     "text": [
      "07\n"
     ]
    }
   ],
   "source": [
    "# Coloca 0 antes da string\n",
    "txt = \"7\"\n",
    "print(txt.zfill(2))"
   ]
  }
 ],
 "metadata": {
  "kernelspec": {
   "display_name": "Python 3",
   "language": "python",
   "name": "python3"
  },
  "language_info": {
   "codemirror_mode": {
    "name": "ipython",
    "version": 3
   },
   "file_extension": ".py",
   "mimetype": "text/x-python",
   "name": "python",
   "nbconvert_exporter": "python",
   "pygments_lexer": "ipython3",
   "version": "3.7.6"
  }
 },
 "nbformat": 4,
 "nbformat_minor": 2
}
